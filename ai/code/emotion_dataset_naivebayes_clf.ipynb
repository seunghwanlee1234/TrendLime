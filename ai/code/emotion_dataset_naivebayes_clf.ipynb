{
 "cells": [
  {
   "cell_type": "code",
   "execution_count": 1,
   "id": "049694e1",
   "metadata": {
    "ExecuteTime": {
     "end_time": "2021-11-19T23:16:54.696122Z",
     "start_time": "2021-11-19T23:16:43.429544Z"
    }
   },
   "outputs": [],
   "source": [
    "import re\n",
    "import requests\n",
    "from bs4 import BeautifulSoup\n",
    "import pandas as pd\n",
    "from konlpy.tag import Okt  \n",
    "okt = Okt() \n",
    "import tensorflow as tf\n",
    "import numpy as np\n",
    "from collections import Counter\n",
    "from konlpy.tag import Komoran\n",
    "komoran = Komoran()\n",
    "from wordcloud import WordCloud\n",
    "import matplotlib.pyplot as plt\n",
    "\n",
    "\n",
    "import urllib.request\n",
    "from tqdm import tqdm\n",
    "from tensorflow.keras.preprocessing.text import Tokenizer\n",
    "from tensorflow.keras.preprocessing.sequence import pad_sequences\n",
    "from tensorflow.keras.callbacks import EarlyStopping, ModelCheckpoint\n",
    "from tensorflow.keras import layers\n",
    "import os\n",
    "import json"
   ]
  },
  {
   "cell_type": "code",
   "execution_count": 2,
   "id": "87b05dac",
   "metadata": {
    "ExecuteTime": {
     "end_time": "2021-11-19T23:16:54.712112Z",
     "start_time": "2021-11-19T23:16:54.700114Z"
    }
   },
   "outputs": [],
   "source": [
    "import matplotlib.pyplot as plt \n",
    "%matplotlib inline\n",
    "from string import punctuation\n",
    "import warnings\n",
    "warnings.filterwarnings('ignore')"
   ]
  },
  {
   "cell_type": "code",
   "execution_count": 3,
   "id": "60604150",
   "metadata": {
    "ExecuteTime": {
     "end_time": "2021-11-19T23:16:58.270285Z",
     "start_time": "2021-11-19T23:16:54.714109Z"
    }
   },
   "outputs": [
    {
     "data": {
      "text/html": [
       "<div>\n",
       "<style scoped>\n",
       "    .dataframe tbody tr th:only-of-type {\n",
       "        vertical-align: middle;\n",
       "    }\n",
       "\n",
       "    .dataframe tbody tr th {\n",
       "        vertical-align: top;\n",
       "    }\n",
       "\n",
       "    .dataframe thead th {\n",
       "        text-align: right;\n",
       "    }\n",
       "</style>\n",
       "<table border=\"1\" class=\"dataframe\">\n",
       "  <thead>\n",
       "    <tr style=\"text-align: right;\">\n",
       "      <th></th>\n",
       "      <th>Sentence</th>\n",
       "      <th>Emotion</th>\n",
       "      <th>Unnamed: 2</th>\n",
       "      <th>Unnamed: 3</th>\n",
       "      <th>Unnamed: 4</th>\n",
       "      <th>공포</th>\n",
       "      <th>5468</th>\n",
       "    </tr>\n",
       "  </thead>\n",
       "  <tbody>\n",
       "    <tr>\n",
       "      <th>0</th>\n",
       "      <td>언니 동생으로 부르는게 맞는 일인가요..??</td>\n",
       "      <td>공포</td>\n",
       "      <td>NaN</td>\n",
       "      <td>NaN</td>\n",
       "      <td>NaN</td>\n",
       "      <td>놀람</td>\n",
       "      <td>5898.0</td>\n",
       "    </tr>\n",
       "    <tr>\n",
       "      <th>1</th>\n",
       "      <td>그냥 내 느낌일뿐겠지?</td>\n",
       "      <td>공포</td>\n",
       "      <td>NaN</td>\n",
       "      <td>NaN</td>\n",
       "      <td>NaN</td>\n",
       "      <td>분노</td>\n",
       "      <td>5665.0</td>\n",
       "    </tr>\n",
       "    <tr>\n",
       "      <th>2</th>\n",
       "      <td>아직너무초기라서 그런거죠?</td>\n",
       "      <td>공포</td>\n",
       "      <td>NaN</td>\n",
       "      <td>NaN</td>\n",
       "      <td>NaN</td>\n",
       "      <td>슬픔</td>\n",
       "      <td>5267.0</td>\n",
       "    </tr>\n",
       "    <tr>\n",
       "      <th>3</th>\n",
       "      <td>유치원버스 사고 낫다던데</td>\n",
       "      <td>공포</td>\n",
       "      <td>NaN</td>\n",
       "      <td>NaN</td>\n",
       "      <td>NaN</td>\n",
       "      <td>중립</td>\n",
       "      <td>4830.0</td>\n",
       "    </tr>\n",
       "    <tr>\n",
       "      <th>4</th>\n",
       "      <td>근데 원래이런거맞나요</td>\n",
       "      <td>공포</td>\n",
       "      <td>NaN</td>\n",
       "      <td>NaN</td>\n",
       "      <td>NaN</td>\n",
       "      <td>행복</td>\n",
       "      <td>6037.0</td>\n",
       "    </tr>\n",
       "    <tr>\n",
       "      <th>...</th>\n",
       "      <td>...</td>\n",
       "      <td>...</td>\n",
       "      <td>...</td>\n",
       "      <td>...</td>\n",
       "      <td>...</td>\n",
       "      <td>...</td>\n",
       "      <td>...</td>\n",
       "    </tr>\n",
       "    <tr>\n",
       "      <th>38589</th>\n",
       "      <td>솔직히 예보 제대로 못하는 데 세금이라도 아끼게 그냥 폐지해라..</td>\n",
       "      <td>혐오</td>\n",
       "      <td>NaN</td>\n",
       "      <td>NaN</td>\n",
       "      <td>NaN</td>\n",
       "      <td>NaN</td>\n",
       "      <td>NaN</td>\n",
       "    </tr>\n",
       "    <tr>\n",
       "      <th>38590</th>\n",
       "      <td>재미가 없으니 망하지</td>\n",
       "      <td>혐오</td>\n",
       "      <td>NaN</td>\n",
       "      <td>NaN</td>\n",
       "      <td>NaN</td>\n",
       "      <td>NaN</td>\n",
       "      <td>NaN</td>\n",
       "    </tr>\n",
       "    <tr>\n",
       "      <th>38591</th>\n",
       "      <td>공장 도시락 비우생적임 아르바이트했는데 화장실가성 손도 않씯고 재료 담고 바닥 떨어...</td>\n",
       "      <td>혐오</td>\n",
       "      <td>NaN</td>\n",
       "      <td>NaN</td>\n",
       "      <td>NaN</td>\n",
       "      <td>NaN</td>\n",
       "      <td>NaN</td>\n",
       "    </tr>\n",
       "    <tr>\n",
       "      <th>38592</th>\n",
       "      <td>코딱지 만한 나라에서 지들끼리 피터지게 싸우는 센징 클래스 ㅉㅉㅉ</td>\n",
       "      <td>혐오</td>\n",
       "      <td>NaN</td>\n",
       "      <td>NaN</td>\n",
       "      <td>NaN</td>\n",
       "      <td>NaN</td>\n",
       "      <td>NaN</td>\n",
       "    </tr>\n",
       "    <tr>\n",
       "      <th>38593</th>\n",
       "      <td>와이프도 그렇고 댓글 다 볼텐데 이휘재 좀 하차 하라고 전해주세요</td>\n",
       "      <td>혐오</td>\n",
       "      <td>NaN</td>\n",
       "      <td>NaN</td>\n",
       "      <td>NaN</td>\n",
       "      <td>NaN</td>\n",
       "      <td>NaN</td>\n",
       "    </tr>\n",
       "  </tbody>\n",
       "</table>\n",
       "<p>38594 rows × 7 columns</p>\n",
       "</div>"
      ],
      "text/plain": [
       "                                                Sentence Emotion  Unnamed: 2  \\\n",
       "0                               언니 동생으로 부르는게 맞는 일인가요..??      공포         NaN   \n",
       "1                                           그냥 내 느낌일뿐겠지?      공포         NaN   \n",
       "2                                         아직너무초기라서 그런거죠?      공포         NaN   \n",
       "3                                          유치원버스 사고 낫다던데      공포         NaN   \n",
       "4                                            근데 원래이런거맞나요      공포         NaN   \n",
       "...                                                  ...     ...         ...   \n",
       "38589               솔직히 예보 제대로 못하는 데 세금이라도 아끼게 그냥 폐지해라..      혐오         NaN   \n",
       "38590                                        재미가 없으니 망하지      혐오         NaN   \n",
       "38591  공장 도시락 비우생적임 아르바이트했는데 화장실가성 손도 않씯고 재료 담고 바닥 떨어...      혐오         NaN   \n",
       "38592               코딱지 만한 나라에서 지들끼리 피터지게 싸우는 센징 클래스 ㅉㅉㅉ      혐오         NaN   \n",
       "38593               와이프도 그렇고 댓글 다 볼텐데 이휘재 좀 하차 하라고 전해주세요      혐오         NaN   \n",
       "\n",
       "       Unnamed: 3  Unnamed: 4   공포    5468  \n",
       "0             NaN         NaN   놀람  5898.0  \n",
       "1             NaN         NaN   분노  5665.0  \n",
       "2             NaN         NaN   슬픔  5267.0  \n",
       "3             NaN         NaN   중립  4830.0  \n",
       "4             NaN         NaN   행복  6037.0  \n",
       "...           ...         ...  ...     ...  \n",
       "38589         NaN         NaN  NaN     NaN  \n",
       "38590         NaN         NaN  NaN     NaN  \n",
       "38591         NaN         NaN  NaN     NaN  \n",
       "38592         NaN         NaN  NaN     NaN  \n",
       "38593         NaN         NaN  NaN     NaN  \n",
       "\n",
       "[38594 rows x 7 columns]"
      ]
     },
     "execution_count": 3,
     "metadata": {},
     "output_type": "execute_result"
    }
   ],
   "source": [
    "emotion = pd.read_excel('한국어_단발성_대화_데이터셋.xlsx')\n",
    "emotion"
   ]
  },
  {
   "cell_type": "code",
   "execution_count": 4,
   "id": "e407a2a4",
   "metadata": {
    "ExecuteTime": {
     "end_time": "2021-11-19T23:16:58.286323Z",
     "start_time": "2021-11-19T23:16:58.272286Z"
    }
   },
   "outputs": [],
   "source": [
    "emotion = emotion[['Sentence','Emotion']]"
   ]
  },
  {
   "cell_type": "code",
   "execution_count": 5,
   "id": "53e53e72",
   "metadata": {
    "ExecuteTime": {
     "end_time": "2021-11-19T23:16:58.334316Z",
     "start_time": "2021-11-19T23:16:58.288289Z"
    }
   },
   "outputs": [
    {
     "name": "stdout",
     "output_type": "stream",
     "text": [
      "<class 'pandas.core.frame.DataFrame'>\n",
      "RangeIndex: 38594 entries, 0 to 38593\n",
      "Data columns (total 2 columns):\n",
      " #   Column    Non-Null Count  Dtype \n",
      "---  ------    --------------  ----- \n",
      " 0   Sentence  38594 non-null  object\n",
      " 1   Emotion   38594 non-null  object\n",
      "dtypes: object(2)\n",
      "memory usage: 603.2+ KB\n"
     ]
    }
   ],
   "source": [
    "emotion.info()"
   ]
  },
  {
   "cell_type": "code",
   "execution_count": 6,
   "id": "9b9b886a",
   "metadata": {
    "ExecuteTime": {
     "end_time": "2021-11-19T23:16:58.827298Z",
     "start_time": "2021-11-19T23:16:58.345296Z"
    }
   },
   "outputs": [],
   "source": [
    "import pandas as pd\n",
    "from sklearn.naive_bayes import MultinomialNB\n",
    "from sklearn.feature_extraction.text import CountVectorizer"
   ]
  },
  {
   "cell_type": "code",
   "execution_count": 7,
   "id": "7e9298e0",
   "metadata": {
    "ExecuteTime": {
     "end_time": "2021-11-19T23:16:58.859286Z",
     "start_time": "2021-11-19T23:16:58.831290Z"
    }
   },
   "outputs": [
    {
     "data": {
      "text/html": [
       "<div>\n",
       "<style scoped>\n",
       "    .dataframe tbody tr th:only-of-type {\n",
       "        vertical-align: middle;\n",
       "    }\n",
       "\n",
       "    .dataframe tbody tr th {\n",
       "        vertical-align: top;\n",
       "    }\n",
       "\n",
       "    .dataframe thead th {\n",
       "        text-align: right;\n",
       "    }\n",
       "</style>\n",
       "<table border=\"1\" class=\"dataframe\">\n",
       "  <thead>\n",
       "    <tr style=\"text-align: right;\">\n",
       "      <th></th>\n",
       "      <th>Sentence</th>\n",
       "      <th>Emotion</th>\n",
       "    </tr>\n",
       "  </thead>\n",
       "  <tbody>\n",
       "    <tr>\n",
       "      <th>0</th>\n",
       "      <td>언니 동생으로 부르는게 맞는 일인가요..??</td>\n",
       "      <td>공포</td>\n",
       "    </tr>\n",
       "    <tr>\n",
       "      <th>1</th>\n",
       "      <td>그냥 내 느낌일뿐겠지?</td>\n",
       "      <td>공포</td>\n",
       "    </tr>\n",
       "    <tr>\n",
       "      <th>2</th>\n",
       "      <td>아직너무초기라서 그런거죠?</td>\n",
       "      <td>공포</td>\n",
       "    </tr>\n",
       "    <tr>\n",
       "      <th>3</th>\n",
       "      <td>유치원버스 사고 낫다던데</td>\n",
       "      <td>공포</td>\n",
       "    </tr>\n",
       "    <tr>\n",
       "      <th>4</th>\n",
       "      <td>근데 원래이런거맞나요</td>\n",
       "      <td>공포</td>\n",
       "    </tr>\n",
       "    <tr>\n",
       "      <th>...</th>\n",
       "      <td>...</td>\n",
       "      <td>...</td>\n",
       "    </tr>\n",
       "    <tr>\n",
       "      <th>38589</th>\n",
       "      <td>솔직히 예보 제대로 못하는 데 세금이라도 아끼게 그냥 폐지해라..</td>\n",
       "      <td>혐오</td>\n",
       "    </tr>\n",
       "    <tr>\n",
       "      <th>38590</th>\n",
       "      <td>재미가 없으니 망하지</td>\n",
       "      <td>혐오</td>\n",
       "    </tr>\n",
       "    <tr>\n",
       "      <th>38591</th>\n",
       "      <td>공장 도시락 비우생적임 아르바이트했는데 화장실가성 손도 않씯고 재료 담고 바닥 떨어...</td>\n",
       "      <td>혐오</td>\n",
       "    </tr>\n",
       "    <tr>\n",
       "      <th>38592</th>\n",
       "      <td>코딱지 만한 나라에서 지들끼리 피터지게 싸우는 센징 클래스 ㅉㅉㅉ</td>\n",
       "      <td>혐오</td>\n",
       "    </tr>\n",
       "    <tr>\n",
       "      <th>38593</th>\n",
       "      <td>와이프도 그렇고 댓글 다 볼텐데 이휘재 좀 하차 하라고 전해주세요</td>\n",
       "      <td>혐오</td>\n",
       "    </tr>\n",
       "  </tbody>\n",
       "</table>\n",
       "<p>38594 rows × 2 columns</p>\n",
       "</div>"
      ],
      "text/plain": [
       "                                                Sentence Emotion\n",
       "0                               언니 동생으로 부르는게 맞는 일인가요..??      공포\n",
       "1                                           그냥 내 느낌일뿐겠지?      공포\n",
       "2                                         아직너무초기라서 그런거죠?      공포\n",
       "3                                          유치원버스 사고 낫다던데      공포\n",
       "4                                            근데 원래이런거맞나요      공포\n",
       "...                                                  ...     ...\n",
       "38589               솔직히 예보 제대로 못하는 데 세금이라도 아끼게 그냥 폐지해라..      혐오\n",
       "38590                                        재미가 없으니 망하지      혐오\n",
       "38591  공장 도시락 비우생적임 아르바이트했는데 화장실가성 손도 않씯고 재료 담고 바닥 떨어...      혐오\n",
       "38592               코딱지 만한 나라에서 지들끼리 피터지게 싸우는 센징 클래스 ㅉㅉㅉ      혐오\n",
       "38593               와이프도 그렇고 댓글 다 볼텐데 이휘재 좀 하차 하라고 전해주세요      혐오\n",
       "\n",
       "[38594 rows x 2 columns]"
      ]
     },
     "execution_count": 7,
     "metadata": {},
     "output_type": "execute_result"
    }
   ],
   "source": [
    "emotion"
   ]
  },
  {
   "cell_type": "code",
   "execution_count": 8,
   "id": "ff6d9c20",
   "metadata": {
    "ExecuteTime": {
     "end_time": "2021-11-19T23:16:58.875286Z",
     "start_time": "2021-11-19T23:16:58.862289Z"
    }
   },
   "outputs": [
    {
     "data": {
      "text/plain": [
       "0    언니 동생으로 부르는게 맞는 일인가요..??\n",
       "1                그냥 내 느낌일뿐겠지?\n",
       "2              아직너무초기라서 그런거죠?\n",
       "3               유치원버스 사고 낫다던데\n",
       "4                 근데 원래이런거맞나요\n",
       "Name: Sentence, dtype: object"
      ]
     },
     "execution_count": 8,
     "metadata": {},
     "output_type": "execute_result"
    }
   ],
   "source": [
    "train_data = emotion['Sentence']\n",
    "train_data.head()"
   ]
  },
  {
   "cell_type": "code",
   "execution_count": 9,
   "id": "46c91ccc",
   "metadata": {
    "ExecuteTime": {
     "end_time": "2021-11-19T23:16:58.890315Z",
     "start_time": "2021-11-19T23:16:58.877286Z"
    }
   },
   "outputs": [
    {
     "data": {
      "text/plain": [
       "0    공포\n",
       "1    공포\n",
       "2    공포\n",
       "3    공포\n",
       "4    공포\n",
       "Name: Emotion, dtype: object"
      ]
     },
     "execution_count": 9,
     "metadata": {},
     "output_type": "execute_result"
    }
   ],
   "source": [
    "train_emotion = emotion['Emotion']\n",
    "train_emotion.head()"
   ]
  },
  {
   "cell_type": "code",
   "execution_count": 10,
   "id": "212f1a96",
   "metadata": {
    "ExecuteTime": {
     "end_time": "2021-11-19T23:16:58.906290Z",
     "start_time": "2021-11-19T23:16:58.894290Z"
    }
   },
   "outputs": [
    {
     "data": {
      "text/plain": [
       "array(['공포', '놀람', '분노', '슬픔', '중립', '행복', '혐오'], dtype=object)"
      ]
     },
     "execution_count": 10,
     "metadata": {},
     "output_type": "execute_result"
    }
   ],
   "source": [
    "train_emotion.unique()"
   ]
  },
  {
   "cell_type": "code",
   "execution_count": 113,
   "id": "3869d829",
   "metadata": {
    "ExecuteTime": {
     "end_time": "2021-11-19T12:58:06.210852Z",
     "start_time": "2021-11-19T12:58:06.183833Z"
    }
   },
   "outputs": [
    {
     "data": {
      "text/html": [
       "<div>\n",
       "<style scoped>\n",
       "    .dataframe tbody tr th:only-of-type {\n",
       "        vertical-align: middle;\n",
       "    }\n",
       "\n",
       "    .dataframe tbody tr th {\n",
       "        vertical-align: top;\n",
       "    }\n",
       "\n",
       "    .dataframe thead th {\n",
       "        text-align: right;\n",
       "    }\n",
       "</style>\n",
       "<table border=\"1\" class=\"dataframe\">\n",
       "  <thead>\n",
       "    <tr style=\"text-align: right;\">\n",
       "      <th></th>\n",
       "      <th>Sentence</th>\n",
       "      <th>Emotion</th>\n",
       "    </tr>\n",
       "  </thead>\n",
       "  <tbody>\n",
       "    <tr>\n",
       "      <th>27128</th>\n",
       "      <td>유재석 오라버니 해피투게더 봤어요</td>\n",
       "      <td>행복</td>\n",
       "    </tr>\n",
       "    <tr>\n",
       "      <th>27129</th>\n",
       "      <td>우리모두 준혁이성과 LG선수들이 선전할수 있게 기를 넣어줍시다.</td>\n",
       "      <td>행복</td>\n",
       "    </tr>\n",
       "    <tr>\n",
       "      <th>27130</th>\n",
       "      <td>웃긴거 알죠?~ㅋㅋㅇ ㅏ~</td>\n",
       "      <td>행복</td>\n",
       "    </tr>\n",
       "    <tr>\n",
       "      <th>27131</th>\n",
       "      <td>덕분에 주방에서 요리하는게 넘 좋아졌어요</td>\n",
       "      <td>행복</td>\n",
       "    </tr>\n",
       "    <tr>\n",
       "      <th>27132</th>\n",
       "      <td>마지막 순간 손가락으로 총을 만들어 쏘실때에는 제가 직접 맞는 것 같습니다.</td>\n",
       "      <td>행복</td>\n",
       "    </tr>\n",
       "    <tr>\n",
       "      <th>27133</th>\n",
       "      <td>어떻게 여성 요리사 보다 더 인기가 많으신지...저도 늘 반찬 만들때 따라하고 있답니다.</td>\n",
       "      <td>행복</td>\n",
       "    </tr>\n",
       "    <tr>\n",
       "      <th>27134</th>\n",
       "      <td>우리에게 맛있는 음식을 전하시는 백주부님 당신 멋져</td>\n",
       "      <td>행복</td>\n",
       "    </tr>\n",
       "    <tr>\n",
       "      <th>27135</th>\n",
       "      <td>활동혜택으로 오션월드 입장권 2매까지 주는 폴인러버!</td>\n",
       "      <td>행복</td>\n",
       "    </tr>\n",
       "    <tr>\n",
       "      <th>27136</th>\n",
       "      <td>글구 지호 100일도 축하해요...ㅋㅋㅋㅋㅋㅋㅋㅋㅋ</td>\n",
       "      <td>행복</td>\n",
       "    </tr>\n",
       "    <tr>\n",
       "      <th>27137</th>\n",
       "      <td>응원합니다.그리고..사랑합니다.  화이팅!!!!</td>\n",
       "      <td>행복</td>\n",
       "    </tr>\n",
       "  </tbody>\n",
       "</table>\n",
       "</div>"
      ],
      "text/plain": [
       "                                                Sentence Emotion\n",
       "27128                                 유재석 오라버니 해피투게더 봤어요      행복\n",
       "27129                우리모두 준혁이성과 LG선수들이 선전할수 있게 기를 넣어줍시다.      행복\n",
       "27130                                     웃긴거 알죠?~ㅋㅋㅇ ㅏ~      행복\n",
       "27131                             덕분에 주방에서 요리하는게 넘 좋아졌어요      행복\n",
       "27132         마지막 순간 손가락으로 총을 만들어 쏘실때에는 제가 직접 맞는 것 같습니다.      행복\n",
       "27133  어떻게 여성 요리사 보다 더 인기가 많으신지...저도 늘 반찬 만들때 따라하고 있답니다.      행복\n",
       "27134                       우리에게 맛있는 음식을 전하시는 백주부님 당신 멋져      행복\n",
       "27135                      활동혜택으로 오션월드 입장권 2매까지 주는 폴인러버!      행복\n",
       "27136                       글구 지호 100일도 축하해요...ㅋㅋㅋㅋㅋㅋㅋㅋㅋ      행복\n",
       "27137                         응원합니다.그리고..사랑합니다.  화이팅!!!!      행복"
      ]
     },
     "execution_count": 113,
     "metadata": {},
     "output_type": "execute_result"
    }
   ],
   "source": [
    "emotion[emotion['Emotion']=='행복'].head(10)"
   ]
  },
  {
   "cell_type": "code",
   "execution_count": 11,
   "id": "9a0a1d24",
   "metadata": {
    "ExecuteTime": {
     "end_time": "2021-11-19T23:17:34.002624Z",
     "start_time": "2021-11-19T23:17:33.900464Z"
    }
   },
   "outputs": [],
   "source": [
    "emotion.to_csv('emotion_dataset.csv',index=False)"
   ]
  },
  {
   "cell_type": "markdown",
   "id": "5d150675",
   "metadata": {},
   "source": [
    "## scikit-learn 나이브 베이즈 감정 분석"
   ]
  },
  {
   "cell_type": "code",
   "execution_count": 17,
   "id": "2028e790",
   "metadata": {
    "ExecuteTime": {
     "end_time": "2021-11-19T12:05:41.299866Z",
     "start_time": "2021-11-19T12:05:40.709588Z"
    }
   },
   "outputs": [],
   "source": [
    "cv = CountVectorizer()\n",
    "transformed_text = cv.fit_transform(train_data)"
   ]
  },
  {
   "cell_type": "code",
   "execution_count": 18,
   "id": "6aa9de0c",
   "metadata": {
    "ExecuteTime": {
     "end_time": "2021-11-19T12:05:46.972250Z",
     "start_time": "2021-11-19T12:05:46.839053Z"
    }
   },
   "outputs": [
    {
     "data": {
      "text/plain": [
       "MultinomialNB()"
      ]
     },
     "execution_count": 18,
     "metadata": {},
     "output_type": "execute_result"
    }
   ],
   "source": [
    "clf = MultinomialNB()\n",
    "clf.fit(transformed_text, train_emotion)"
   ]
  },
  {
   "cell_type": "code",
   "execution_count": 25,
   "id": "0d1d19e8",
   "metadata": {
    "ExecuteTime": {
     "end_time": "2021-11-19T12:11:33.877658Z",
     "start_time": "2021-11-19T12:11:33.871623Z"
    }
   },
   "outputs": [],
   "source": [
    "test_data = ['너를 만난 세상 슬픈 우연 속에서','잊혀지지 않는 너의 모습 그리며 우네', '나는 나는 행복에 묻힐 거에요', '눈을 뜨기 힘든 가을 보다 높은 저 하늘이 기분 좋아', '두 눈에 비친 너의 미소 지친 날 감싸듯']"
   ]
  },
  {
   "cell_type": "code",
   "execution_count": 26,
   "id": "716c3ecc",
   "metadata": {
    "ExecuteTime": {
     "end_time": "2021-11-19T12:11:34.653451Z",
     "start_time": "2021-11-19T12:11:34.638919Z"
    }
   },
   "outputs": [
    {
     "name": "stdout",
     "output_type": "stream",
     "text": [
      "['슬픔' '행복' '슬픔' '행복' '행복']\n"
     ]
    }
   ],
   "source": [
    "doc_vector = cv.transform(test_data)\n",
    "test_result = clf.predict(doc_vector)\n",
    "print(test_result)"
   ]
  },
  {
   "cell_type": "markdown",
   "id": "3fa2ffc8",
   "metadata": {},
   "source": [
    "---"
   ]
  },
  {
   "cell_type": "markdown",
   "id": "f3ce40d8",
   "metadata": {},
   "source": [
    "## 감정별 특정 단어 출현 가능도"
   ]
  },
  {
   "cell_type": "code",
   "execution_count": 44,
   "id": "fb622938",
   "metadata": {
    "ExecuteTime": {
     "end_time": "2021-11-19T12:25:04.952440Z",
     "start_time": "2021-11-19T12:25:04.943989Z"
    }
   },
   "outputs": [],
   "source": [
    "def cal_partial_freq(emotion_set, emotion):\n",
    "    partial_freq = dict()\n",
    "    filtered_texts = emotion_set[emotion_set['Emotion']==emotion]\n",
    "    filtered_texts = filtered_texts['Sentence']\n",
    "    \n",
    "    # 전체 데이터 내 각 단어별 빈도수를 입력해 주는 부분\n",
    "    for sent in filtered_texts:\n",
    "        # words = sent.rstrip().split()\n",
    "        # for word in words:\n",
    "        for word in sent.rstrip().split():\n",
    "            if word not in partial_freq:\n",
    "                partial_freq[word] = 1\n",
    "            else:\n",
    "                partial_freq[word] += 1\n",
    "    \n",
    "    return partial_freq"
   ]
  },
  {
   "cell_type": "code",
   "execution_count": 46,
   "id": "286c265e",
   "metadata": {
    "ExecuteTime": {
     "end_time": "2021-11-19T12:25:15.931944Z",
     "start_time": "2021-11-19T12:25:15.925946Z"
    }
   },
   "outputs": [],
   "source": [
    "def cal_total_freq(partial_freq):\n",
    "    total = 0\n",
    "    # partial_freq 딕셔너리에서 감정별로 문서 내 전체 단어의 빈도수를 계산하여 반환하는 부분 \n",
    "    for word, freq in partial_freq.items():\n",
    "        total += freq\n",
    "    \n",
    "    return total"
   ]
  },
  {
   "cell_type": "code",
   "execution_count": 47,
   "id": "fd381b84",
   "metadata": {
    "ExecuteTime": {
     "end_time": "2021-11-19T12:25:17.004234Z",
     "start_time": "2021-11-19T12:25:16.990261Z"
    }
   },
   "outputs": [],
   "source": [
    "emotion_set = emotion"
   ]
  },
  {
   "cell_type": "code",
   "execution_count": 62,
   "id": "1657b773",
   "metadata": {
    "ExecuteTime": {
     "end_time": "2021-11-19T12:30:09.769886Z",
     "start_time": "2021-11-19T12:30:09.742840Z"
    }
   },
   "outputs": [
    {
     "name": "stdout",
     "output_type": "stream",
     "text": [
      "6.89464975179261e-05\n"
     ]
    }
   ],
   "source": [
    "# '좋아'라는 단어가 행복이라는 감정을 표현하는 문장에서 발생할 가능도 \n",
    "good_counter = cal_partial_freq(emotion_set, \"행복\")\n",
    "good_likelihood = good_counter['좋아'] / cal_total_freq(good_counter)\n",
    "print(good_likelihood)"
   ]
  },
  {
   "cell_type": "code",
   "execution_count": 108,
   "id": "bfbc39ed",
   "metadata": {
    "ExecuteTime": {
     "end_time": "2021-11-19T12:54:58.632312Z",
     "start_time": "2021-11-19T12:54:58.601310Z"
    }
   },
   "outputs": [
    {
     "name": "stdout",
     "output_type": "stream",
     "text": [
      "0.00017236624379481522\n"
     ]
    }
   ],
   "source": [
    "# '사랑'이라는 단어가 행복이라는 감정을 표현하는 문장에서 발생할 가능도 \n",
    "love_counter = cal_partial_freq(emotion_set, \"행복\")\n",
    "love_likelihood = love_counter['사랑'] / cal_total_freq(love_counter)\n",
    "print(love_likelihood)"
   ]
  },
  {
   "cell_type": "code",
   "execution_count": 54,
   "id": "4fb3ee89",
   "metadata": {
    "ExecuteTime": {
     "end_time": "2021-11-19T12:26:52.495914Z",
     "start_time": "2021-11-19T12:26:52.472938Z"
    }
   },
   "outputs": [
    {
     "name": "stdout",
     "output_type": "stream",
     "text": [
      "3.83670963781461e-05\n"
     ]
    }
   ],
   "source": [
    "# '슬퍼요'라는 단어가 슬픔이라는 감정을 표현하는 문장에서 발생할 가능도\n",
    "sad_likelihood = sad_counter['슬퍼요'] / cal_total_freq(sad_counter)\n",
    "print(sad_likelihood)"
   ]
  },
  {
   "cell_type": "code",
   "execution_count": 55,
   "id": "b2b59caa",
   "metadata": {
    "ExecuteTime": {
     "end_time": "2021-11-19T12:26:59.352014Z",
     "start_time": "2021-11-19T12:26:59.325047Z"
    }
   },
   "outputs": [
    {
     "name": "stdout",
     "output_type": "stream",
     "text": [
      "7.43080066877206e-05\n"
     ]
    }
   ],
   "source": [
    "sup_counter =  cal_partial_freq(emotion_set, \"놀람\")\n",
    "sup_likelihood = sup_counter['신기'] / cal_total_freq(sup_counter)\n",
    "print(sup_likelihood)"
   ]
  },
  {
   "cell_type": "markdown",
   "id": "0dd8b361",
   "metadata": {},
   "source": [
    "---"
   ]
  },
  {
   "cell_type": "code",
   "execution_count": 123,
   "id": "8218664e",
   "metadata": {
    "ExecuteTime": {
     "end_time": "2021-11-19T13:22:04.510484Z",
     "start_time": "2021-11-19T13:22:04.356220Z"
    }
   },
   "outputs": [],
   "source": [
    "from sklearn import datasets \n",
    "from sklearn.model_selection import train_test_split\n",
    "from sklearn.feature_extraction.text import TfidfVectorizer\n",
    "from sklearn.feature_extraction.text import TfidfTransformer \n",
    "from sklearn.naive_bayes import MultinomialNB"
   ]
  },
  {
   "cell_type": "code",
   "execution_count": 119,
   "id": "16ff2d93",
   "metadata": {
    "ExecuteTime": {
     "end_time": "2021-11-19T13:21:10.399594Z",
     "start_time": "2021-11-19T13:21:10.385494Z"
    }
   },
   "outputs": [
    {
     "data": {
      "text/plain": [
       "0    언니 동생으로 부르는게 맞는 일인가요..??\n",
       "1                그냥 내 느낌일뿐겠지?\n",
       "2              아직너무초기라서 그런거죠?\n",
       "3               유치원버스 사고 낫다던데\n",
       "4                 근데 원래이런거맞나요\n",
       "Name: Sentence, dtype: object"
      ]
     },
     "execution_count": 119,
     "metadata": {},
     "output_type": "execute_result"
    }
   ],
   "source": [
    "train_data.head()"
   ]
  },
  {
   "cell_type": "code",
   "execution_count": 118,
   "id": "0068e9c7",
   "metadata": {
    "ExecuteTime": {
     "end_time": "2021-11-19T13:20:58.529066Z",
     "start_time": "2021-11-19T13:20:58.517068Z"
    }
   },
   "outputs": [
    {
     "data": {
      "text/plain": [
       "0    공포\n",
       "1    공포\n",
       "2    공포\n",
       "3    공포\n",
       "4    공포\n",
       "Name: Emotion, dtype: object"
      ]
     },
     "execution_count": 118,
     "metadata": {},
     "output_type": "execute_result"
    }
   ],
   "source": [
    "train_emotion.head()"
   ]
  },
  {
   "cell_type": "code",
   "execution_count": 120,
   "id": "04c9c671",
   "metadata": {
    "ExecuteTime": {
     "end_time": "2021-11-19T13:21:27.016797Z",
     "start_time": "2021-11-19T13:21:27.002671Z"
    }
   },
   "outputs": [],
   "source": [
    "# 입력 데이터와 타깃 데이터\n",
    "X, y = train_data, train_emotion"
   ]
  },
  {
   "cell_type": "code",
   "execution_count": 124,
   "id": "32189b67",
   "metadata": {
    "ExecuteTime": {
     "end_time": "2021-11-19T13:22:06.671580Z",
     "start_time": "2021-11-19T13:22:06.637579Z"
    }
   },
   "outputs": [],
   "source": [
    "# 데이터 분리 ( train / test )\n",
    "X_train, X_test, y_train, y_test = train_test_split(X,y, random_state = 1)"
   ]
  },
  {
   "cell_type": "code",
   "execution_count": 126,
   "id": "b46c485d",
   "metadata": {
    "ExecuteTime": {
     "end_time": "2021-11-19T13:24:29.400010Z",
     "start_time": "2021-11-19T13:24:29.391978Z"
    }
   },
   "outputs": [
    {
     "name": "stdout",
     "output_type": "stream",
     "text": [
      "언니 동생으로 부르는게 맞는 일인가요..?? 공포\n"
     ]
    }
   ],
   "source": [
    "# 데이터 확인\n",
    "print(X_train[0], y_train[0])"
   ]
  },
  {
   "cell_type": "markdown",
   "id": "752eb282",
   "metadata": {},
   "source": [
    "## TF-IDF 벡터 변환"
   ]
  },
  {
   "cell_type": "markdown",
   "id": "0749e551",
   "metadata": {},
   "source": [
    "Tfidftransformer & Tfidfvectorizer\n",
    "> https://kavita-ganesan.com/tfidftransformer-tfidfvectorizer-usage-differences/#.YZerCd8QuUk"
   ]
  },
  {
   "cell_type": "markdown",
   "id": "a4ee44f0",
   "metadata": {},
   "source": [
    "* 서로 다른 작업에 대해 빈도(term count) 벡터가 필요하다면 Tfidftransformer를 사용\n",
    "* 학습 (training) 데이터 세트 내의 문서에 대한 TF-idf 점수를 계산해야 하는 경우 Tfidfvectorizer를 사용\n",
    "* 학습 (training) 데이터 세트 외부에 있는 문서에서 tf-idf 점수를 계산해야 하는 경우 둘 중 하나를 사용하면 모두 작동한다."
   ]
  },
  {
   "cell_type": "code",
   "execution_count": 127,
   "id": "6fdc1eeb",
   "metadata": {
    "ExecuteTime": {
     "end_time": "2021-11-19T13:24:56.874822Z",
     "start_time": "2021-11-19T13:24:56.860826Z"
    }
   },
   "outputs": [],
   "source": [
    "from sklearn.feature_extraction.text import CountVectorizer\n",
    "from sklearn.feature_extraction.text import TfidfTransformer\n",
    "from sklearn.naive_bayes import MultinomialNB   #다항분포 나이브 베이즈 모델\n",
    "from sklearn.metrics import accuracy_score     #정확도 계신"
   ]
  },
  {
   "cell_type": "code",
   "execution_count": 128,
   "id": "9e782713",
   "metadata": {
    "ExecuteTime": {
     "end_time": "2021-11-19T13:25:08.642674Z",
     "start_time": "2021-11-19T13:25:08.191679Z"
    }
   },
   "outputs": [
    {
     "name": "stdout",
     "output_type": "stream",
     "text": [
      "(28945, 74954)\n"
     ]
    }
   ],
   "source": [
    "cv = CountVectorizer()\n",
    "X_train_cv = cv.fit_transform(X_train)\n",
    "print(X_train_cv.shape) # 전체 샘플의 개수와 단어의 수"
   ]
  },
  {
   "cell_type": "code",
   "execution_count": 129,
   "id": "ae5c9e96",
   "metadata": {
    "ExecuteTime": {
     "end_time": "2021-11-19T13:25:14.331414Z",
     "start_time": "2021-11-19T13:25:14.295435Z"
    }
   },
   "outputs": [
    {
     "name": "stdout",
     "output_type": "stream",
     "text": [
      "(28945, 74954)\n"
     ]
    }
   ],
   "source": [
    "tfidf_transformer = TfidfTransformer()\n",
    "tfidfv = tfidf_transformer.fit_transform(X_train_cv)\n",
    "print(tfidfv.shape)"
   ]
  },
  {
   "cell_type": "code",
   "execution_count": 130,
   "id": "f1678b79",
   "metadata": {
    "ExecuteTime": {
     "end_time": "2021-11-19T13:25:25.050765Z",
     "start_time": "2021-11-19T13:25:25.043634Z"
    }
   },
   "outputs": [],
   "source": [
    "# 다중 분류 나이브 베이즈 분류 모델 객체\n",
    "model = MultinomialNB(alpha= 0.01)"
   ]
  },
  {
   "cell_type": "code",
   "execution_count": 131,
   "id": "84e7131a",
   "metadata": {
    "ExecuteTime": {
     "end_time": "2021-11-19T13:25:31.715766Z",
     "start_time": "2021-11-19T13:25:31.614667Z"
    }
   },
   "outputs": [
    {
     "data": {
      "text/plain": [
       "MultinomialNB(alpha=0.01)"
      ]
     },
     "execution_count": 131,
     "metadata": {},
     "output_type": "execute_result"
    }
   ],
   "source": [
    "model.fit(tfidfv, y_train)"
   ]
  },
  {
   "cell_type": "markdown",
   "id": "8eb9deaf",
   "metadata": {},
   "source": [
    "* alpha <br>\n",
    "표본 데이터의 수가 적은 경우에는 베르누이 모수가 0 또는 1이라는 극단적인 모수 추정값이 나올 수도 있다. 하지만 현실적으로는 실제 모수값이 이런 극단적인 값이 나올 가능성이 적다. 따라서 베르누이 모수가 0.5인 가장 일반적인 경우를 가정하여 0이 나오는 경우와 1이 나오는 경우, 두 개의 가상 표본 데이터를 추가한다. 그러면 0이나 1과 같은 극단적인 추정값이 0.5에 가까운 다음과 값으로 변한다. 이를 라플라스 스무딩(Laplace smoothing) 또는 애드원(Add-One) 스무딩이라고 한다."
   ]
  },
  {
   "cell_type": "code",
   "execution_count": 132,
   "id": "fb36b5e7",
   "metadata": {
    "ExecuteTime": {
     "end_time": "2021-11-19T13:25:43.761275Z",
     "start_time": "2021-11-19T13:25:43.662510Z"
    }
   },
   "outputs": [
    {
     "name": "stdout",
     "output_type": "stream",
     "text": [
      "accuracy : 0.3558918022593015\n"
     ]
    }
   ],
   "source": [
    "X_test_cv = cv.transform(X_test)\n",
    "tfidfv_test = tfidf_transformer.transform(X_test_cv)\n",
    "\n",
    "predicted = model.predict(tfidfv_test)\n",
    "\n",
    "print(\"accuracy :\", accuracy_score(y_test, predicted))"
   ]
  },
  {
   "cell_type": "code",
   "execution_count": 133,
   "id": "98089010",
   "metadata": {
    "ExecuteTime": {
     "end_time": "2021-11-19T13:25:52.865814Z",
     "start_time": "2021-11-19T13:25:52.835688Z"
    }
   },
   "outputs": [
    {
     "data": {
      "text/plain": [
       "0.9900846432889964"
      ]
     },
     "execution_count": 133,
     "metadata": {},
     "output_type": "execute_result"
    }
   ],
   "source": [
    "# 학습 데이터 정확도\n",
    "model.score(tfidfv, y_train)"
   ]
  },
  {
   "cell_type": "code",
   "execution_count": 134,
   "id": "72cbe57b",
   "metadata": {
    "ExecuteTime": {
     "end_time": "2021-11-19T13:26:01.190562Z",
     "start_time": "2021-11-19T13:26:01.167566Z"
    }
   },
   "outputs": [
    {
     "data": {
      "text/plain": [
       "0.3558918022593015"
      ]
     },
     "execution_count": 134,
     "metadata": {},
     "output_type": "execute_result"
    }
   ],
   "source": [
    "# 테스트 데이터 정확도\n",
    "model.score(tfidfv_test, y_test)"
   ]
  },
  {
   "cell_type": "code",
   "execution_count": null,
   "id": "4eb3e3f7",
   "metadata": {},
   "outputs": [],
   "source": []
  }
 ],
 "metadata": {
  "hide_input": false,
  "kernelspec": {
   "display_name": "Python 3",
   "language": "python",
   "name": "python3"
  },
  "language_info": {
   "codemirror_mode": {
    "name": "ipython",
    "version": 3
   },
   "file_extension": ".py",
   "mimetype": "text/x-python",
   "name": "python",
   "nbconvert_exporter": "python",
   "pygments_lexer": "ipython3",
   "version": "3.8.8"
  },
  "toc": {
   "base_numbering": 1,
   "nav_menu": {},
   "number_sections": true,
   "sideBar": true,
   "skip_h1_title": false,
   "title_cell": "Table of Contents",
   "title_sidebar": "Contents",
   "toc_cell": false,
   "toc_position": {},
   "toc_section_display": true,
   "toc_window_display": false
  },
  "varInspector": {
   "cols": {
    "lenName": 16,
    "lenType": 16,
    "lenVar": 40
   },
   "kernels_config": {
    "python": {
     "delete_cmd_postfix": "",
     "delete_cmd_prefix": "del ",
     "library": "var_list.py",
     "varRefreshCmd": "print(var_dic_list())"
    },
    "r": {
     "delete_cmd_postfix": ") ",
     "delete_cmd_prefix": "rm(",
     "library": "var_list.r",
     "varRefreshCmd": "cat(var_dic_list()) "
    }
   },
   "types_to_exclude": [
    "module",
    "function",
    "builtin_function_or_method",
    "instance",
    "_Feature"
   ],
   "window_display": false
  }
 },
 "nbformat": 4,
 "nbformat_minor": 5
}
