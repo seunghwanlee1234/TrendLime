{
 "cells": [
  {
   "cell_type": "code",
   "execution_count": 1,
   "id": "9c1bed46",
   "metadata": {
    "ExecuteTime": {
     "end_time": "2021-12-02T06:14:10.887468Z",
     "start_time": "2021-12-02T06:14:00.979765Z"
    }
   },
   "outputs": [],
   "source": [
    "import re\n",
    "import requests\n",
    "from bs4 import BeautifulSoup\n",
    "import pandas as pd\n",
    "from konlpy.tag import Okt  \n",
    "okt = Okt() \n",
    "import tensorflow as tf\n",
    "import numpy as np\n",
    "from collections import Counter\n",
    "\n",
    "from wordcloud import WordCloud\n",
    "import matplotlib.pyplot as plt\n",
    "\n",
    "\n",
    "import urllib.request\n",
    "from tqdm import tqdm\n",
    "from tensorflow.keras.preprocessing.text import Tokenizer\n",
    "from tensorflow.keras.preprocessing.sequence import pad_sequences\n",
    "from sklearn.model_selection import train_test_split\n",
    "from sklearn.feature_extraction.text import CountVectorizer"
   ]
  },
  {
   "cell_type": "code",
   "execution_count": 2,
   "id": "962d101b",
   "metadata": {
    "ExecuteTime": {
     "end_time": "2021-12-02T06:14:10.951477Z",
     "start_time": "2021-12-02T06:14:10.939477Z"
    }
   },
   "outputs": [],
   "source": [
    "import matplotlib.pyplot as plt \n",
    "from string import punctuation\n",
    "import warnings\n",
    "warnings.filterwarnings('ignore')"
   ]
  },
  {
   "cell_type": "code",
   "execution_count": 4,
   "id": "cbe4693f",
   "metadata": {
    "ExecuteTime": {
     "end_time": "2021-12-02T06:14:11.349079Z",
     "start_time": "2021-12-02T06:14:11.064472Z"
    }
   },
   "outputs": [
    {
     "name": "stdout",
     "output_type": "stream",
     "text": [
      "<class 'pandas.core.frame.DataFrame'>\n",
      "RangeIndex: 4562 entries, 0 to 4561\n",
      "Data columns (total 9 columns):\n",
      " #   Column      Non-Null Count  Dtype \n",
      "---  ------      --------------  ----- \n",
      " 0   song_id     4562 non-null   int64 \n",
      " 1   song_name   4562 non-null   object\n",
      " 2   artist      4562 non-null   object\n",
      " 3   album       4562 non-null   object\n",
      " 4   Like_Count  4562 non-null   int64 \n",
      " 5   Lyric       4562 non-null   object\n",
      " 6   cover_url   4562 non-null   object\n",
      " 7   tags        4562 non-null   object\n",
      " 8   year        4562 non-null   object\n",
      "dtypes: int64(2), object(7)\n",
      "memory usage: 320.9+ KB\n"
     ]
    }
   ],
   "source": [
    "test = pd.read_csv('sort_total_years.csv')\n",
    "test.info()"
   ]
  },
  {
   "cell_type": "code",
   "execution_count": 5,
   "id": "3865fbf7",
   "metadata": {
    "ExecuteTime": {
     "end_time": "2021-12-02T06:14:13.584848Z",
     "start_time": "2021-12-02T06:14:13.543805Z"
    }
   },
   "outputs": [
    {
     "name": "stdout",
     "output_type": "stream",
     "text": [
      "2000년대 곡 개수 :  1028\n"
     ]
    },
    {
     "data": {
      "text/html": [
       "<div>\n",
       "<style scoped>\n",
       "    .dataframe tbody tr th:only-of-type {\n",
       "        vertical-align: middle;\n",
       "    }\n",
       "\n",
       "    .dataframe tbody tr th {\n",
       "        vertical-align: top;\n",
       "    }\n",
       "\n",
       "    .dataframe thead th {\n",
       "        text-align: right;\n",
       "    }\n",
       "</style>\n",
       "<table border=\"1\" class=\"dataframe\">\n",
       "  <thead>\n",
       "    <tr style=\"text-align: right;\">\n",
       "      <th></th>\n",
       "      <th>song_id</th>\n",
       "      <th>song_name</th>\n",
       "      <th>artist</th>\n",
       "      <th>album</th>\n",
       "      <th>Like_Count</th>\n",
       "      <th>Lyric</th>\n",
       "      <th>cover_url</th>\n",
       "      <th>tags</th>\n",
       "      <th>year</th>\n",
       "    </tr>\n",
       "  </thead>\n",
       "  <tbody>\n",
       "    <tr>\n",
       "      <th>1374</th>\n",
       "      <td>418253</td>\n",
       "      <td>보고 싶다</td>\n",
       "      <td>김범수</td>\n",
       "      <td>3rd. 보고 싶다</td>\n",
       "      <td>342238</td>\n",
       "      <td>아무리 기다려도 난 못가   바보처럼 울고 있는 너의 곁에  상처만 주는 나를 왜 ...</td>\n",
       "      <td>https://image.bugsm.co.kr/album/images/200/262...</td>\n",
       "      <td>['국내', '가요', '노래방', '2000년대', '연대별', 'Y세대', '연...</td>\n",
       "      <td>2000y</td>\n",
       "    </tr>\n",
       "    <tr>\n",
       "      <th>1375</th>\n",
       "      <td>445413</td>\n",
       "      <td>사랑합니다...</td>\n",
       "      <td>팀</td>\n",
       "      <td>Tim 영민</td>\n",
       "      <td>332812</td>\n",
       "      <td>나빠요 참 그대란 사람   허락도 없이 왜 내 맘 가져요   그대 때문에 난 힘겹게...</td>\n",
       "      <td>https://image.bugsm.co.kr/album/images/200/307...</td>\n",
       "      <td>['국내', '가요', '노래방', '2000년대', '연대별', 'Y세대', '연...</td>\n",
       "      <td>2000y</td>\n",
       "    </tr>\n",
       "  </tbody>\n",
       "</table>\n",
       "</div>"
      ],
      "text/plain": [
       "      song_id song_name artist       album  Like_Count  \\\n",
       "1374   418253     보고 싶다    김범수  3rd. 보고 싶다      342238   \n",
       "1375   445413  사랑합니다...      팀      Tim 영민      332812   \n",
       "\n",
       "                                                  Lyric  \\\n",
       "1374  아무리 기다려도 난 못가   바보처럼 울고 있는 너의 곁에  상처만 주는 나를 왜 ...   \n",
       "1375  나빠요 참 그대란 사람   허락도 없이 왜 내 맘 가져요   그대 때문에 난 힘겹게...   \n",
       "\n",
       "                                              cover_url  \\\n",
       "1374  https://image.bugsm.co.kr/album/images/200/262...   \n",
       "1375  https://image.bugsm.co.kr/album/images/200/307...   \n",
       "\n",
       "                                                   tags   year  \n",
       "1374  ['국내', '가요', '노래방', '2000년대', '연대별', 'Y세대', '연...  2000y  \n",
       "1375  ['국내', '가요', '노래방', '2000년대', '연대별', 'Y세대', '연...  2000y  "
      ]
     },
     "execution_count": 5,
     "metadata": {},
     "output_type": "execute_result"
    }
   ],
   "source": [
    "sort_like2000 = test[test['year']=='2000y']\n",
    "print('2000년대 곡 개수 : ',len(sort_like2000))\n",
    "sort_like2000.head(2)"
   ]
  },
  {
   "cell_type": "code",
   "execution_count": 6,
   "id": "ed7d6f2c",
   "metadata": {
    "ExecuteTime": {
     "end_time": "2021-12-02T06:14:14.448931Z",
     "start_time": "2021-12-02T06:14:14.433933Z"
    }
   },
   "outputs": [],
   "source": [
    " # 불용어 (가사 빈도수 높은 + 감정분류와 무관한 단어 추가 중)\n",
    "stop_w = ['all','이렇게','네가','있는','니가','없는','너의','너무','그런',\n",
    "          'oh','whoo','tuesday','내가','너를','나를','we','this','the','그렇게',\n",
    "          'so','am','baby','and','can','you','much','me','for','go','in',\n",
    "          '은', '는', '이', '가', '하','부터','처럼','까지',\n",
    "          'know','no','of','let','my','수','너','내','나','그','난','봐',\n",
    "          '돼','건','모든','에서','에게','싶어','잖아',\n",
    "          '날','널','수','것','못','말','넌','젠','하나','정말','알','여기',\n",
    "          '우리','다시','하게','니까',\n",
    "          '때','아','더','게','또','채','일','걸','누구','나는','너는','라면',\n",
    "          '같아','있어','지금',\n",
    "          '의','가','보','들','좀','잘','걍','과','도','를','으로','우린','하지',\n",
    "          '해도','하고','없어','않아',\n",
    "          '자','에','와','한','하다','네','있다','나의','해','다','내게','왜',\n",
    "          '거야','이제','그냥','했던','하는']"
   ]
  },
  {
   "cell_type": "code",
   "execution_count": 7,
   "id": "ebf280be",
   "metadata": {
    "ExecuteTime": {
     "end_time": "2021-12-02T06:14:15.366638Z",
     "start_time": "2021-12-02T06:14:15.349638Z"
    }
   },
   "outputs": [],
   "source": [
    "stop_w = set(stop_w)"
   ]
  },
  {
   "cell_type": "markdown",
   "id": "65ab34ab",
   "metadata": {},
   "source": [
    "## 토큰화"
   ]
  },
  {
   "cell_type": "code",
   "execution_count": 8,
   "id": "f6d2becd",
   "metadata": {
    "ExecuteTime": {
     "end_time": "2021-12-02T06:14:43.978576Z",
     "start_time": "2021-12-02T06:14:17.437368Z"
    }
   },
   "outputs": [],
   "source": [
    "sort_like2000['Lyric'] = sort_like2000['Lyric'].apply(lambda x: [word for word in okt.nouns(x) if word not in stop_w])"
   ]
  },
  {
   "cell_type": "code",
   "execution_count": 9,
   "id": "f29671ec",
   "metadata": {
    "ExecuteTime": {
     "end_time": "2021-12-02T06:14:44.106002Z",
     "start_time": "2021-12-02T06:14:44.092003Z"
    }
   },
   "outputs": [],
   "source": [
    "# sort_like2000['Lyric'] = sort_like2000['Lyric'].apply(lambda x: [word for word in okt.morphs(x, stem=True) if word not in stop_w])"
   ]
  },
  {
   "cell_type": "code",
   "execution_count": 10,
   "id": "f964221a",
   "metadata": {
    "ExecuteTime": {
     "end_time": "2021-12-02T06:14:44.216006Z",
     "start_time": "2021-12-02T06:14:44.204009Z"
    }
   },
   "outputs": [],
   "source": [
    "# sort_like2000['Lyric'] # okt.morphs(x, stem=True)"
   ]
  },
  {
   "cell_type": "code",
   "execution_count": 11,
   "id": "fd6dd1de",
   "metadata": {
    "ExecuteTime": {
     "end_time": "2021-12-02T06:14:44.326018Z",
     "start_time": "2021-12-02T06:14:44.311004Z"
    }
   },
   "outputs": [
    {
     "data": {
      "text/plain": [
       "1374    [바보, 울, 곁, 상처, 보고, 보고, 질, 울, 무릎, 모두, 사랑, 기억, 추...\n",
       "1375    [대란, 사람, 허락, 맘, 그대, 때문, 눈길, 줄, 다만, 가끔, 미소, 순, ...\n",
       "1376    [어쩌면, 오늘이, 마지막, 사랑, 마음, 니, 눈, 마주, 치, 사람, 고민, 제...\n",
       "1377    [술, 잔, 밤, 시절, 모두, 한숨, 그대, 얼굴, 혹시, 지나, 먼저, 그때, ...\n",
       "1378    [손짓, 목소리, 마음, 사랑, 맘, 가기, 사랑, 맘, 사랑, 사람, 맘, 수도,...\n",
       "                              ...                        \n",
       "2397    [안녕, 고하, 바람, 저녁, 강, 길, 위, 나그네, 울, 땅, 거, 방랑, 발원...\n",
       "2398    [공간, 속, 마음, 미련, 따위, 자존심, 때문, 사랑, 후회, 곧, 한번, 사랑...\n",
       "2399    [꽃, 곁, 노래, 제비, 언덕, 라보, 귀, 노래, 소리, 꽃, 봄, 알리, 당신...\n",
       "2400    [오해, 적, 리더, 신문, 주머니, 법전, 손바닥, 욕심, 뱃속, 깊이, 양심, ...\n",
       "2401    [연분홍, 꽃, 누, 누, 바람결, 들꽃, 바람, 꽃, 향기, 자유, 온, 누리, ...\n",
       "Name: Lyric, Length: 1028, dtype: object"
      ]
     },
     "execution_count": 11,
     "metadata": {},
     "output_type": "execute_result"
    }
   ],
   "source": [
    "sort_like2000['Lyric'] # okt.nouns(x)"
   ]
  },
  {
   "cell_type": "code",
   "execution_count": 12,
   "id": "1f63d897",
   "metadata": {
    "ExecuteTime": {
     "end_time": "2021-12-02T06:14:44.438000Z",
     "start_time": "2021-12-02T06:14:44.424005Z"
    }
   },
   "outputs": [],
   "source": [
    "word2000 = sort_like2000['Lyric']"
   ]
  },
  {
   "cell_type": "markdown",
   "id": "0f12eb63",
   "metadata": {},
   "source": [
    "## corpus 생성\n",
    "### (1) 단어를 id로 바꾸고 뜻을 dictionary로 만들기"
   ]
  },
  {
   "cell_type": "code",
   "execution_count": 13,
   "id": "70429c95",
   "metadata": {
    "ExecuteTime": {
     "end_time": "2021-12-02T06:14:44.882003Z",
     "start_time": "2021-12-02T06:14:44.598010Z"
    }
   },
   "outputs": [],
   "source": [
    "from gensim import corpora\n",
    "\n",
    "# 각 단어를 (단어id, 나온횟수) 로 바꾸는 작업\n",
    "dictionary = corpora.Dictionary(word2000)\n",
    "corpus = [dictionary.doc2bow(text) for text in word2000]"
   ]
  },
  {
   "cell_type": "markdown",
   "id": "fb58f4b7",
   "metadata": {},
   "source": [
    "### (2) 코퍼스와 딕셔너리 확인"
   ]
  },
  {
   "cell_type": "code",
   "execution_count": 14,
   "id": "259ea3e7",
   "metadata": {
    "ExecuteTime": {
     "end_time": "2021-12-02T06:14:45.042434Z",
     "start_time": "2021-12-02T06:14:45.028003Z"
    }
   },
   "outputs": [
    {
     "name": "stdout",
     "output_type": "stream",
     "text": [
      "[(9, 4), (17, 1), (18, 2), (19, 4), (20, 1), (21, 1), (22, 1), (23, 1), (24, 2), (25, 1), (26, 1), (27, 2), (28, 1), (29, 1), (30, 1), (31, 1), (32, 1), (33, 1), (34, 1), (35, 1), (36, 1), (37, 2), (38, 1), (39, 1), (40, 2), (41, 1), (42, 1), (43, 2), (44, 1), (45, 2), (46, 2), (47, 1), (48, 1)]\n",
      "5453\n",
      "우려\n"
     ]
    }
   ],
   "source": [
    "# corpus[i] : i번째 노래에서 나온단어에서 (단어id, 나온횟수)들을 저장한 list\n",
    "print(corpus[1]) \n",
    "\n",
    "# corpus 사전 단어수\n",
    "print(len(dictionary))\n",
    "\n",
    "# dictionary[j] : id값을 j를 가진 단어가 무엇인지 확인\n",
    "print(dictionary[1111])"
   ]
  },
  {
   "cell_type": "markdown",
   "id": "ba5eb69d",
   "metadata": {},
   "source": [
    "## 3. LDA 모델 훈련\n",
    "### (1) 훈련"
   ]
  },
  {
   "cell_type": "code",
   "execution_count": 15,
   "id": "337bf9f8",
   "metadata": {
    "ExecuteTime": {
     "end_time": "2021-12-02T06:15:02.809605Z",
     "start_time": "2021-12-02T06:14:45.218446Z"
    }
   },
   "outputs": [
    {
     "name": "stdout",
     "output_type": "stream",
     "text": [
      "(0, '0.017*\"니\" + 0.015*\"속\" + 0.014*\"사랑\" + 0.013*\"맘\" + 0.012*\"그대\"')\n",
      "(1, '0.080*\"사랑\" + 0.051*\"그대\" + 0.018*\"사람\" + 0.014*\"눈물\" + 0.014*\"가슴\"')\n",
      "(2, '0.017*\"사랑\" + 0.016*\"나나\" + 0.013*\"속\" + 0.010*\"안\" + 0.009*\"끝\"')\n"
     ]
    }
   ],
   "source": [
    "import gensim\n",
    "\n",
    "# N개의 토픽, k=3\n",
    "NUM_TOPICS = 3\n",
    "\n",
    "# passes : 알고리즘 동작횟수, num_words : 각 토픽별 출력할 단어\n",
    "ldamodel = gensim.models.ldamodel.LdaModel(corpus, num_topics = NUM_TOPICS, id2word=dictionary, passes=15)\n",
    "topics = ldamodel.print_topics(num_words=5)\n",
    "for topic in topics:\n",
    "    print(topic)"
   ]
  },
  {
   "cell_type": "markdown",
   "id": "442d340c",
   "metadata": {
    "ExecuteTime": {
     "end_time": "2021-11-30T12:19:37.317078Z",
     "start_time": "2021-11-30T12:19:37.307376Z"
    }
   },
   "source": [
    "### (2) 토픽별 10개 표시"
   ]
  },
  {
   "cell_type": "code",
   "execution_count": 16,
   "id": "e51d359f",
   "metadata": {
    "ExecuteTime": {
     "end_time": "2021-12-02T06:15:03.017641Z",
     "start_time": "2021-12-02T06:15:03.004610Z"
    },
    "scrolled": true
   },
   "outputs": [
    {
     "name": "stdout",
     "output_type": "stream",
     "text": [
      "(0, '0.017*\"니\" + 0.015*\"속\" + 0.014*\"사랑\" + 0.013*\"맘\" + 0.012*\"그대\" + 0.011*\"세상\" + 0.010*\"기억\" + 0.010*\"눈\" + 0.010*\"밤\" + 0.009*\"꿈\"')\n",
      "(1, '0.080*\"사랑\" + 0.051*\"그대\" + 0.018*\"사람\" + 0.014*\"눈물\" + 0.014*\"가슴\" + 0.013*\"맘\" + 0.011*\"니\" + 0.011*\"눈\" + 0.008*\"마음\" + 0.008*\"생각\"')\n",
      "(2, '0.017*\"사랑\" + 0.016*\"나나\" + 0.013*\"속\" + 0.010*\"안\" + 0.009*\"끝\" + 0.008*\"세상\" + 0.007*\"마음\" + 0.007*\"그녀\" + 0.006*\"하늘\" + 0.006*\"니\"')\n"
     ]
    }
   ],
   "source": [
    "# 각 토픽별 10개의 단어를 단어를 출력 (위 코드에서 num_words=10을 한것)\n",
    "for i in range(3):\n",
    "    print(ldamodel.print_topics()[i])"
   ]
  },
  {
   "cell_type": "markdown",
   "id": "411a932a",
   "metadata": {},
   "source": [
    "---"
   ]
  },
  {
   "cell_type": "code",
   "execution_count": 17,
   "id": "83b35aed",
   "metadata": {
    "ExecuteTime": {
     "end_time": "2021-12-02T06:15:03.319744Z",
     "start_time": "2021-12-02T06:15:03.161608Z"
    }
   },
   "outputs": [
    {
     "data": {
      "text/html": [
       "<div>\n",
       "<style scoped>\n",
       "    .dataframe tbody tr th:only-of-type {\n",
       "        vertical-align: middle;\n",
       "    }\n",
       "\n",
       "    .dataframe tbody tr th {\n",
       "        vertical-align: top;\n",
       "    }\n",
       "\n",
       "    .dataframe thead th {\n",
       "        text-align: right;\n",
       "    }\n",
       "</style>\n",
       "<table border=\"1\" class=\"dataframe\">\n",
       "  <thead>\n",
       "    <tr style=\"text-align: right;\">\n",
       "      <th></th>\n",
       "      <th>0</th>\n",
       "      <th>1</th>\n",
       "      <th>2</th>\n",
       "      <th>3</th>\n",
       "      <th>4</th>\n",
       "      <th>5</th>\n",
       "      <th>6</th>\n",
       "      <th>7</th>\n",
       "      <th>8</th>\n",
       "      <th>9</th>\n",
       "      <th>...</th>\n",
       "      <th>207</th>\n",
       "      <th>208</th>\n",
       "      <th>209</th>\n",
       "      <th>210</th>\n",
       "      <th>211</th>\n",
       "      <th>212</th>\n",
       "      <th>213</th>\n",
       "      <th>214</th>\n",
       "      <th>215</th>\n",
       "      <th>216</th>\n",
       "    </tr>\n",
       "  </thead>\n",
       "  <tbody>\n",
       "    <tr>\n",
       "      <th>0</th>\n",
       "      <td>(0, 1)</td>\n",
       "      <td>(1, 2)</td>\n",
       "      <td>(2, 1)</td>\n",
       "      <td>(3, 1)</td>\n",
       "      <td>(4, 1)</td>\n",
       "      <td>(5, 1)</td>\n",
       "      <td>(6, 1)</td>\n",
       "      <td>(7, 2)</td>\n",
       "      <td>(8, 6)</td>\n",
       "      <td>(9, 4)</td>\n",
       "      <td>...</td>\n",
       "      <td>None</td>\n",
       "      <td>None</td>\n",
       "      <td>None</td>\n",
       "      <td>None</td>\n",
       "      <td>None</td>\n",
       "      <td>None</td>\n",
       "      <td>None</td>\n",
       "      <td>None</td>\n",
       "      <td>None</td>\n",
       "      <td>None</td>\n",
       "    </tr>\n",
       "    <tr>\n",
       "      <th>1</th>\n",
       "      <td>(9, 4)</td>\n",
       "      <td>(17, 1)</td>\n",
       "      <td>(18, 2)</td>\n",
       "      <td>(19, 4)</td>\n",
       "      <td>(20, 1)</td>\n",
       "      <td>(21, 1)</td>\n",
       "      <td>(22, 1)</td>\n",
       "      <td>(23, 1)</td>\n",
       "      <td>(24, 2)</td>\n",
       "      <td>(25, 1)</td>\n",
       "      <td>...</td>\n",
       "      <td>None</td>\n",
       "      <td>None</td>\n",
       "      <td>None</td>\n",
       "      <td>None</td>\n",
       "      <td>None</td>\n",
       "      <td>None</td>\n",
       "      <td>None</td>\n",
       "      <td>None</td>\n",
       "      <td>None</td>\n",
       "      <td>None</td>\n",
       "    </tr>\n",
       "    <tr>\n",
       "      <th>2</th>\n",
       "      <td>(1, 3)</td>\n",
       "      <td>(4, 1)</td>\n",
       "      <td>(9, 13)</td>\n",
       "      <td>(22, 1)</td>\n",
       "      <td>(24, 3)</td>\n",
       "      <td>(35, 6)</td>\n",
       "      <td>(46, 1)</td>\n",
       "      <td>(49, 1)</td>\n",
       "      <td>(50, 3)</td>\n",
       "      <td>(51, 1)</td>\n",
       "      <td>...</td>\n",
       "      <td>None</td>\n",
       "      <td>None</td>\n",
       "      <td>None</td>\n",
       "      <td>None</td>\n",
       "      <td>None</td>\n",
       "      <td>None</td>\n",
       "      <td>None</td>\n",
       "      <td>None</td>\n",
       "      <td>None</td>\n",
       "      <td>None</td>\n",
       "    </tr>\n",
       "    <tr>\n",
       "      <th>3</th>\n",
       "      <td>(4, 1)</td>\n",
       "      <td>(9, 2)</td>\n",
       "      <td>(11, 1)</td>\n",
       "      <td>(19, 6)</td>\n",
       "      <td>(24, 1)</td>\n",
       "      <td>(35, 3)</td>\n",
       "      <td>(55, 1)</td>\n",
       "      <td>(78, 2)</td>\n",
       "      <td>(79, 4)</td>\n",
       "      <td>(80, 2)</td>\n",
       "      <td>...</td>\n",
       "      <td>None</td>\n",
       "      <td>None</td>\n",
       "      <td>None</td>\n",
       "      <td>None</td>\n",
       "      <td>None</td>\n",
       "      <td>None</td>\n",
       "      <td>None</td>\n",
       "      <td>None</td>\n",
       "      <td>None</td>\n",
       "      <td>None</td>\n",
       "    </tr>\n",
       "    <tr>\n",
       "      <th>4</th>\n",
       "      <td>(0, 1)</td>\n",
       "      <td>(9, 11)</td>\n",
       "      <td>(12, 1)</td>\n",
       "      <td>(18, 1)</td>\n",
       "      <td>(31, 8)</td>\n",
       "      <td>(35, 3)</td>\n",
       "      <td>(37, 1)</td>\n",
       "      <td>(41, 1)</td>\n",
       "      <td>(55, 4)</td>\n",
       "      <td>(100, 1)</td>\n",
       "      <td>...</td>\n",
       "      <td>None</td>\n",
       "      <td>None</td>\n",
       "      <td>None</td>\n",
       "      <td>None</td>\n",
       "      <td>None</td>\n",
       "      <td>None</td>\n",
       "      <td>None</td>\n",
       "      <td>None</td>\n",
       "      <td>None</td>\n",
       "      <td>None</td>\n",
       "    </tr>\n",
       "    <tr>\n",
       "      <th>...</th>\n",
       "      <td>...</td>\n",
       "      <td>...</td>\n",
       "      <td>...</td>\n",
       "      <td>...</td>\n",
       "      <td>...</td>\n",
       "      <td>...</td>\n",
       "      <td>...</td>\n",
       "      <td>...</td>\n",
       "      <td>...</td>\n",
       "      <td>...</td>\n",
       "      <td>...</td>\n",
       "      <td>...</td>\n",
       "      <td>...</td>\n",
       "      <td>...</td>\n",
       "      <td>...</td>\n",
       "      <td>...</td>\n",
       "      <td>...</td>\n",
       "      <td>...</td>\n",
       "      <td>...</td>\n",
       "      <td>...</td>\n",
       "      <td>...</td>\n",
       "    </tr>\n",
       "    <tr>\n",
       "      <th>1023</th>\n",
       "      <td>(11, 1)</td>\n",
       "      <td>(62, 1)</td>\n",
       "      <td>(66, 1)</td>\n",
       "      <td>(133, 1)</td>\n",
       "      <td>(155, 1)</td>\n",
       "      <td>(156, 1)</td>\n",
       "      <td>(218, 1)</td>\n",
       "      <td>(299, 1)</td>\n",
       "      <td>(336, 4)</td>\n",
       "      <td>(378, 2)</td>\n",
       "      <td>...</td>\n",
       "      <td>None</td>\n",
       "      <td>None</td>\n",
       "      <td>None</td>\n",
       "      <td>None</td>\n",
       "      <td>None</td>\n",
       "      <td>None</td>\n",
       "      <td>None</td>\n",
       "      <td>None</td>\n",
       "      <td>None</td>\n",
       "      <td>None</td>\n",
       "    </tr>\n",
       "    <tr>\n",
       "      <th>1024</th>\n",
       "      <td>(1, 1)</td>\n",
       "      <td>(4, 2)</td>\n",
       "      <td>(9, 7)</td>\n",
       "      <td>(16, 1)</td>\n",
       "      <td>(29, 1)</td>\n",
       "      <td>(37, 1)</td>\n",
       "      <td>(42, 3)</td>\n",
       "      <td>(46, 1)</td>\n",
       "      <td>(55, 1)</td>\n",
       "      <td>(60, 1)</td>\n",
       "      <td>...</td>\n",
       "      <td>None</td>\n",
       "      <td>None</td>\n",
       "      <td>None</td>\n",
       "      <td>None</td>\n",
       "      <td>None</td>\n",
       "      <td>None</td>\n",
       "      <td>None</td>\n",
       "      <td>None</td>\n",
       "      <td>None</td>\n",
       "      <td>None</td>\n",
       "    </tr>\n",
       "    <tr>\n",
       "      <th>1025</th>\n",
       "      <td>(0, 1)</td>\n",
       "      <td>(36, 1)</td>\n",
       "      <td>(40, 1)</td>\n",
       "      <td>(55, 1)</td>\n",
       "      <td>(119, 1)</td>\n",
       "      <td>(200, 1)</td>\n",
       "      <td>(298, 2)</td>\n",
       "      <td>(384, 1)</td>\n",
       "      <td>(386, 1)</td>\n",
       "      <td>(527, 1)</td>\n",
       "      <td>...</td>\n",
       "      <td>None</td>\n",
       "      <td>None</td>\n",
       "      <td>None</td>\n",
       "      <td>None</td>\n",
       "      <td>None</td>\n",
       "      <td>None</td>\n",
       "      <td>None</td>\n",
       "      <td>None</td>\n",
       "      <td>None</td>\n",
       "      <td>None</td>\n",
       "    </tr>\n",
       "    <tr>\n",
       "      <th>1026</th>\n",
       "      <td>(35, 1)</td>\n",
       "      <td>(111, 3)</td>\n",
       "      <td>(151, 1)</td>\n",
       "      <td>(294, 1)</td>\n",
       "      <td>(425, 1)</td>\n",
       "      <td>(449, 1)</td>\n",
       "      <td>(459, 1)</td>\n",
       "      <td>(488, 1)</td>\n",
       "      <td>(548, 1)</td>\n",
       "      <td>(965, 1)</td>\n",
       "      <td>...</td>\n",
       "      <td>None</td>\n",
       "      <td>None</td>\n",
       "      <td>None</td>\n",
       "      <td>None</td>\n",
       "      <td>None</td>\n",
       "      <td>None</td>\n",
       "      <td>None</td>\n",
       "      <td>None</td>\n",
       "      <td>None</td>\n",
       "      <td>None</td>\n",
       "    </tr>\n",
       "    <tr>\n",
       "      <th>1027</th>\n",
       "      <td>(9, 1)</td>\n",
       "      <td>(41, 1)</td>\n",
       "      <td>(50, 1)</td>\n",
       "      <td>(55, 1)</td>\n",
       "      <td>(119, 1)</td>\n",
       "      <td>(156, 1)</td>\n",
       "      <td>(166, 1)</td>\n",
       "      <td>(275, 1)</td>\n",
       "      <td>(281, 2)</td>\n",
       "      <td>(336, 1)</td>\n",
       "      <td>...</td>\n",
       "      <td>None</td>\n",
       "      <td>None</td>\n",
       "      <td>None</td>\n",
       "      <td>None</td>\n",
       "      <td>None</td>\n",
       "      <td>None</td>\n",
       "      <td>None</td>\n",
       "      <td>None</td>\n",
       "      <td>None</td>\n",
       "      <td>None</td>\n",
       "    </tr>\n",
       "  </tbody>\n",
       "</table>\n",
       "<p>1028 rows × 217 columns</p>\n",
       "</div>"
      ],
      "text/plain": [
       "          0         1         2         3         4         5         6    \\\n",
       "0      (0, 1)    (1, 2)    (2, 1)    (3, 1)    (4, 1)    (5, 1)    (6, 1)   \n",
       "1      (9, 4)   (17, 1)   (18, 2)   (19, 4)   (20, 1)   (21, 1)   (22, 1)   \n",
       "2      (1, 3)    (4, 1)   (9, 13)   (22, 1)   (24, 3)   (35, 6)   (46, 1)   \n",
       "3      (4, 1)    (9, 2)   (11, 1)   (19, 6)   (24, 1)   (35, 3)   (55, 1)   \n",
       "4      (0, 1)   (9, 11)   (12, 1)   (18, 1)   (31, 8)   (35, 3)   (37, 1)   \n",
       "...       ...       ...       ...       ...       ...       ...       ...   \n",
       "1023  (11, 1)   (62, 1)   (66, 1)  (133, 1)  (155, 1)  (156, 1)  (218, 1)   \n",
       "1024   (1, 1)    (4, 2)    (9, 7)   (16, 1)   (29, 1)   (37, 1)   (42, 3)   \n",
       "1025   (0, 1)   (36, 1)   (40, 1)   (55, 1)  (119, 1)  (200, 1)  (298, 2)   \n",
       "1026  (35, 1)  (111, 3)  (151, 1)  (294, 1)  (425, 1)  (449, 1)  (459, 1)   \n",
       "1027   (9, 1)   (41, 1)   (50, 1)   (55, 1)  (119, 1)  (156, 1)  (166, 1)   \n",
       "\n",
       "           7         8         9    ...   207   208   209   210   211   212  \\\n",
       "0       (7, 2)    (8, 6)    (9, 4)  ...  None  None  None  None  None  None   \n",
       "1      (23, 1)   (24, 2)   (25, 1)  ...  None  None  None  None  None  None   \n",
       "2      (49, 1)   (50, 3)   (51, 1)  ...  None  None  None  None  None  None   \n",
       "3      (78, 2)   (79, 4)   (80, 2)  ...  None  None  None  None  None  None   \n",
       "4      (41, 1)   (55, 4)  (100, 1)  ...  None  None  None  None  None  None   \n",
       "...        ...       ...       ...  ...   ...   ...   ...   ...   ...   ...   \n",
       "1023  (299, 1)  (336, 4)  (378, 2)  ...  None  None  None  None  None  None   \n",
       "1024   (46, 1)   (55, 1)   (60, 1)  ...  None  None  None  None  None  None   \n",
       "1025  (384, 1)  (386, 1)  (527, 1)  ...  None  None  None  None  None  None   \n",
       "1026  (488, 1)  (548, 1)  (965, 1)  ...  None  None  None  None  None  None   \n",
       "1027  (275, 1)  (281, 2)  (336, 1)  ...  None  None  None  None  None  None   \n",
       "\n",
       "       213   214   215   216  \n",
       "0     None  None  None  None  \n",
       "1     None  None  None  None  \n",
       "2     None  None  None  None  \n",
       "3     None  None  None  None  \n",
       "4     None  None  None  None  \n",
       "...    ...   ...   ...   ...  \n",
       "1023  None  None  None  None  \n",
       "1024  None  None  None  None  \n",
       "1025  None  None  None  None  \n",
       "1026  None  None  None  None  \n",
       "1027  None  None  None  None  \n",
       "\n",
       "[1028 rows x 217 columns]"
      ]
     },
     "execution_count": 17,
     "metadata": {},
     "output_type": "execute_result"
    }
   ],
   "source": [
    "from gensim import corpora\n",
    "dictionary = corpora.Dictionary(word2000)\n",
    "corpus = [dictionary.doc2bow(text) for text in word2000]\n",
    "pd.DataFrame(corpus)"
   ]
  },
  {
   "cell_type": "code",
   "execution_count": 18,
   "id": "3954a227",
   "metadata": {
    "ExecuteTime": {
     "end_time": "2021-12-02T06:15:03.477670Z",
     "start_time": "2021-12-02T06:15:03.463686Z"
    }
   },
   "outputs": [],
   "source": [
    "from tqdm import tqdm \n",
    "import re \n",
    "from gensim.models.ldamodel import LdaModel \n",
    "from gensim.models.callbacks import CoherenceMetric \n",
    "from gensim import corpora \n",
    "from gensim.models.callbacks import PerplexityMetric\n",
    "from gensim.models.coherencemodel import CoherenceModel"
   ]
  },
  {
   "cell_type": "code",
   "execution_count": null,
   "id": "743801c0",
   "metadata": {
    "ExecuteTime": {
     "start_time": "2021-12-02T06:12:26.249Z"
    }
   },
   "outputs": [],
   "source": [
    "# Compute Coherence Score using c_v \n",
    "coherence_model_lda = CoherenceModel(model=ldamodel, texts=word2000, dictionary=dictionary, coherence='c_v') \n",
    "coherence_lda = coherence_model_lda.get_coherence() \n",
    "print('\\nCoherence Score (c_v): ', coherence_lda)  # c_v는 0과 1사이로 0.55 정도면 준수\n",
    "# Compute Coherence Score using UMass \n",
    "coherence_model_lda = CoherenceModel(model=ldamodel, texts=word2000, dictionary=dictionary, coherence=\"u_mass\") \n",
    "coherence_lda = coherence_model_lda.get_coherence() \n",
    "print('\\nCoherence Score (u_mass): ', coherence_lda) # u_mass는 0에 가까울수록 완벽한 일관성을 가진다는 의미\n"
   ]
  },
  {
   "cell_type": "code",
   "execution_count": 19,
   "id": "f4f199ee",
   "metadata": {
    "ExecuteTime": {
     "end_time": "2021-12-02T06:15:03.636453Z",
     "start_time": "2021-12-02T06:15:03.622452Z"
    }
   },
   "outputs": [
    {
     "data": {
      "text/html": [
       "<div>\n",
       "<style scoped>\n",
       "    .dataframe tbody tr th:only-of-type {\n",
       "        vertical-align: middle;\n",
       "    }\n",
       "\n",
       "    .dataframe tbody tr th {\n",
       "        vertical-align: top;\n",
       "    }\n",
       "\n",
       "    .dataframe thead th {\n",
       "        text-align: right;\n",
       "    }\n",
       "</style>\n",
       "<table border=\"1\" class=\"dataframe\">\n",
       "  <thead>\n",
       "    <tr style=\"text-align: right;\">\n",
       "      <th></th>\n",
       "      <th>song_id</th>\n",
       "      <th>song_name</th>\n",
       "      <th>artist</th>\n",
       "      <th>album</th>\n",
       "      <th>Like_Count</th>\n",
       "      <th>Lyric</th>\n",
       "      <th>cover_url</th>\n",
       "      <th>tags</th>\n",
       "      <th>year</th>\n",
       "    </tr>\n",
       "  </thead>\n",
       "  <tbody>\n",
       "    <tr>\n",
       "      <th>1374</th>\n",
       "      <td>418253</td>\n",
       "      <td>보고 싶다</td>\n",
       "      <td>김범수</td>\n",
       "      <td>3rd. 보고 싶다</td>\n",
       "      <td>342238</td>\n",
       "      <td>[바보, 울, 곁, 상처, 보고, 보고, 질, 울, 무릎, 모두, 사랑, 기억, 추...</td>\n",
       "      <td>https://image.bugsm.co.kr/album/images/200/262...</td>\n",
       "      <td>['국내', '가요', '노래방', '2000년대', '연대별', 'Y세대', '연...</td>\n",
       "      <td>2000y</td>\n",
       "    </tr>\n",
       "  </tbody>\n",
       "</table>\n",
       "</div>"
      ],
      "text/plain": [
       "      song_id song_name artist       album  Like_Count  \\\n",
       "1374   418253     보고 싶다    김범수  3rd. 보고 싶다      342238   \n",
       "\n",
       "                                                  Lyric  \\\n",
       "1374  [바보, 울, 곁, 상처, 보고, 보고, 질, 울, 무릎, 모두, 사랑, 기억, 추...   \n",
       "\n",
       "                                              cover_url  \\\n",
       "1374  https://image.bugsm.co.kr/album/images/200/262...   \n",
       "\n",
       "                                                   tags   year  \n",
       "1374  ['국내', '가요', '노래방', '2000년대', '연대별', 'Y세대', '연...  2000y  "
      ]
     },
     "execution_count": 19,
     "metadata": {},
     "output_type": "execute_result"
    }
   ],
   "source": [
    "sort_like2000.head(1)"
   ]
  },
  {
   "cell_type": "markdown",
   "id": "d2d9a301",
   "metadata": {},
   "source": [
    "## Error\n",
    "AttributeError: 'list' object has no attribute 'lower' gensim\n",
    "> https://stackoverflow.com/questions/41829323/attributeerror-list-object-has-no-attribute-lower-gensim<br>\n",
    "> df.Lyric.astype(str) 수정"
   ]
  },
  {
   "cell_type": "code",
   "execution_count": 20,
   "id": "070b7cd9",
   "metadata": {
    "ExecuteTime": {
     "end_time": "2021-12-02T06:15:08.501244Z",
     "start_time": "2021-12-02T06:15:03.779018Z"
    }
   },
   "outputs": [
    {
     "name": "stdout",
     "output_type": "stream",
     "text": [
      "(3, 1000)\n",
      "[[ 0.34169767 13.97581759 40.24322545 ...  0.34798934  0.33617215\n",
      "   0.33643299]\n",
      " [18.57242901 17.32934242 52.18287776 ... 18.9139354  13.32116455\n",
      "  48.32870749]\n",
      " [ 6.08587332 15.69483999 25.57389679 ...  0.73807526  0.3426633\n",
      "   0.33485952]]\n"
     ]
    }
   ],
   "source": [
    "from sklearn.feature_extraction.text import CountVectorizer\n",
    "from sklearn.decomposition import LatentDirichletAllocation\n",
    "\n",
    "# 설정해준 카테고리의 데이터들만 추출\n",
    "year_df = sort_like2000\n",
    "# CountVectorizer로 텍스트 데이터들 단어 빈도수에 기반해 벡터화시키기(fit_transform까지!)\n",
    "count_vect = CountVectorizer(max_df=0.95, max_features=1000,\n",
    "                            min_df=2, stop_words=stop_w,\n",
    "                            ngram_range=(1,2))\n",
    "ftr_vect = count_vect.fit_transform(year_df.Lyric.astype(str))\n",
    "# LDA클래스를 이용해서 피처 벡터화시킨 것을 토픽모델링 시키기\n",
    "# 8개의 주제만 뽑았으니 n_components(토픽개수) 8로 설정\n",
    "lda = LatentDirichletAllocation(n_components=3, random_state=42)\n",
    "lda.fit(ftr_vect)\n",
    "# components_속성은 8개의 토픽별(row)로 1000개의 feature(단어)들의 분포수치(column)를 보여줌\n",
    "print(lda.components_.shape)\n",
    "print(lda.components_)"
   ]
  },
  {
   "cell_type": "code",
   "execution_count": 21,
   "id": "e53ec5e4",
   "metadata": {
    "ExecuteTime": {
     "end_time": "2021-12-02T06:15:08.771241Z",
     "start_time": "2021-12-02T06:15:08.742243Z"
    }
   },
   "outputs": [
    {
     "name": "stdout",
     "output_type": "stream",
     "text": [
      "\n",
      "Topic # 1\n",
      "그대*1751.9+사랑*1129.0+사람*392.7+눈물*306.9+기억*235.9+그대 사랑*207.3+사랑 그대*205.8+그대 그대*170.3+생각*164.9+마음*148.2+모두*148.0+시간*147.2+가슴*137.4+바보*135.0+혼자*130.3\n",
      "\n",
      "Topic # 2\n",
      "하늘*263.0+세상*249.1+모두*241.3+오늘*194.9+바람*161.5+노래*158.4+시간*155.2+위로*150.7+생각*137.3+사람*124.4+하루*121.1+순간*119.1+모습*117.2+가슴*117.1+거리*106.7\n",
      "\n",
      "Topic # 3\n",
      "사랑*1741.9+눈물*290.2+마음*286.1+가슴*284.5+세상*283.1+그녀*277.2+나나*258.3+사랑 사랑*252.9+나나 나나*192.3+사람*191.9+여자*161.0+당신*150.7+남자*139.0+때문*137.5+생각*133.8\n"
     ]
    }
   ],
   "source": [
    "# 이 때 lda_model이란, 벡터화시킨 텍스트 데이터를 fit까지만 적용한 모델!\n",
    "def display_topic_words(lda_model, feature_names, num_top_words):\n",
    "    for topic_idx, topic in enumerate(lda_model.components_):\n",
    "        print('\\nTopic #', topic_idx+1)\n",
    "        \n",
    "        # Topic별로 1000개의 단어들(features)중에서 높은 값 순으로 정렬 후 index를 반환해줌!\n",
    "        # argsort()는 디폴트가 오름차순임(1,2,3,...) 그래서 [::-1]로 내림차순으로 바꿔주기\n",
    "        topic_word_idx = topic.argsort()[::-1]\n",
    "        top_idx = topic_word_idx[:num_top_words]\n",
    "        \n",
    "        # CountVectorizer함수 할당시킨 객체에 get_feature_names()로 벡터화시킨 feature(단어들)볼 수 있음!\n",
    "        # 이 벡터화시킨 단어들(features)은 숫자-알파벳순으로 정렬되며, 단어들 순서는 fit_transform시키고 난 이후에도 동일!\n",
    "        # '문자열'.join 함수로 특정 문자열 사이에 끼고 문자열 합쳐줄 수 있음.\n",
    "        feature_concat = '+'.join([str(feature_names[i])+'*'+str(round(topic[i], 1)) for i in top_idx])\n",
    "        print(feature_concat)        \n",
    "feature_names = count_vect.get_feature_names()\n",
    "display_topic_words(lda, feature_names, 15)"
   ]
  },
  {
   "cell_type": "code",
   "execution_count": 22,
   "id": "f9585a95",
   "metadata": {
    "ExecuteTime": {
     "end_time": "2021-12-02T06:15:09.309240Z",
     "start_time": "2021-12-02T06:15:09.009240Z"
    }
   },
   "outputs": [
    {
     "name": "stdout",
     "output_type": "stream",
     "text": [
      "(1028, 3)\n",
      "[[0.4989286  0.01011064 0.49096076]\n",
      " [0.92475247 0.00858939 0.06665814]]\n"
     ]
    }
   ],
   "source": [
    "# transform까지 수행하면, 문서별(row)로 토픽들(column)의 분포를 알려줌\n",
    "doc_topics = lda.transform(ftr_vect)\n",
    "print(doc_topics.shape)\n",
    "print(doc_topics[:2])"
   ]
  },
  {
   "cell_type": "code",
   "execution_count": 24,
   "id": "383ff981",
   "metadata": {
    "ExecuteTime": {
     "end_time": "2021-12-02T06:16:54.365517Z",
     "start_time": "2021-12-02T06:16:54.348444Z"
    }
   },
   "outputs": [],
   "source": [
    "# 주어진 내장 텍스트데이터의 문서이름에는 카테고리가 labeling되어있음. \n",
    "# 따라서, 카테고리가 무엇인지 아는 상태이니까 어떤 문서들이 어떤 토픽들이 높은지 확인해보자.\n",
    "# 그리고 그 토픽들이 각각 무엇을 내용으로 하는지 추측해보자.\n",
    "# 주어진 데이터셋의 filename속성을 이용해서 카테고리값들 가져오기\n",
    "def get_filename_list(year_df):\n",
    "    filename_lst = []\n",
    "    for file in year_df.song_name:\n",
    "        filename_temp = file.split('/')[-2:]\n",
    "        filename = '.'.join(filename_temp)\n",
    "        filename_lst.append(filename)\n",
    "    return filename_lst\n",
    " \n",
    "filename_lst = get_filename_list(year_df)\n",
    "# Dataframe형태로 만들어보기\n",
    "topic_names = ['Topic #'+ str(i) for i in range(0,3)]\n",
    "topic_df = pd.DataFrame(data=doc_topics, columns=topic_names,\n",
    "                       index=filename_lst)\n",
    "# print(topic_df.head(20))"
   ]
  },
  {
   "cell_type": "code",
   "execution_count": 25,
   "id": "91f8ef16",
   "metadata": {
    "ExecuteTime": {
     "end_time": "2021-12-02T06:16:56.048863Z",
     "start_time": "2021-12-02T06:16:56.037863Z"
    }
   },
   "outputs": [
    {
     "data": {
      "text/html": [
       "<div>\n",
       "<style scoped>\n",
       "    .dataframe tbody tr th:only-of-type {\n",
       "        vertical-align: middle;\n",
       "    }\n",
       "\n",
       "    .dataframe tbody tr th {\n",
       "        vertical-align: top;\n",
       "    }\n",
       "\n",
       "    .dataframe thead th {\n",
       "        text-align: right;\n",
       "    }\n",
       "</style>\n",
       "<table border=\"1\" class=\"dataframe\">\n",
       "  <thead>\n",
       "    <tr style=\"text-align: right;\">\n",
       "      <th></th>\n",
       "      <th>Topic #0</th>\n",
       "      <th>Topic #1</th>\n",
       "      <th>Topic #2</th>\n",
       "    </tr>\n",
       "  </thead>\n",
       "  <tbody>\n",
       "    <tr>\n",
       "      <th>Missing You</th>\n",
       "      <td>0.022091</td>\n",
       "      <td>0.020750</td>\n",
       "      <td>0.957159</td>\n",
       "    </tr>\n",
       "    <tr>\n",
       "      <th>Abracadabra</th>\n",
       "      <td>0.013907</td>\n",
       "      <td>0.013842</td>\n",
       "      <td>0.972252</td>\n",
       "    </tr>\n",
       "    <tr>\n",
       "      <th>한 남자</th>\n",
       "      <td>0.008807</td>\n",
       "      <td>0.062196</td>\n",
       "      <td>0.928997</td>\n",
       "    </tr>\n",
       "    <tr>\n",
       "      <th>사랑은...향기를 남기고</th>\n",
       "      <td>0.008329</td>\n",
       "      <td>0.008453</td>\n",
       "      <td>0.983218</td>\n",
       "    </tr>\n",
       "    <tr>\n",
       "      <th>너에게 난, 나에게 넌</th>\n",
       "      <td>0.007443</td>\n",
       "      <td>0.984889</td>\n",
       "      <td>0.007668</td>\n",
       "    </tr>\n",
       "    <tr>\n",
       "      <th>그런가봐요...</th>\n",
       "      <td>0.004951</td>\n",
       "      <td>0.004647</td>\n",
       "      <td>0.990402</td>\n",
       "    </tr>\n",
       "    <tr>\n",
       "      <th>잊지 말아요</th>\n",
       "      <td>0.659807</td>\n",
       "      <td>0.167328</td>\n",
       "      <td>0.172865</td>\n",
       "    </tr>\n",
       "    <tr>\n",
       "      <th>소원을 말해봐 (Genie)</th>\n",
       "      <td>0.056457</td>\n",
       "      <td>0.219468</td>\n",
       "      <td>0.724075</td>\n",
       "    </tr>\n",
       "    <tr>\n",
       "      <th>그랬나봐</th>\n",
       "      <td>0.964106</td>\n",
       "      <td>0.014996</td>\n",
       "      <td>0.020898</td>\n",
       "    </tr>\n",
       "    <tr>\n",
       "      <th>Heartbreaker</th>\n",
       "      <td>0.107537</td>\n",
       "      <td>0.011825</td>\n",
       "      <td>0.880638</td>\n",
       "    </tr>\n",
       "  </tbody>\n",
       "</table>\n",
       "</div>"
      ],
      "text/plain": [
       "                 Topic #0  Topic #1  Topic #2\n",
       "Missing You      0.022091  0.020750  0.957159\n",
       "Abracadabra      0.013907  0.013842  0.972252\n",
       "한 남자             0.008807  0.062196  0.928997\n",
       "사랑은...향기를 남기고    0.008329  0.008453  0.983218\n",
       "너에게 난, 나에게 넌     0.007443  0.984889  0.007668\n",
       "그런가봐요...         0.004951  0.004647  0.990402\n",
       "잊지 말아요           0.659807  0.167328  0.172865\n",
       "소원을 말해봐 (Genie)  0.056457  0.219468  0.724075\n",
       "그랬나봐             0.964106  0.014996  0.020898\n",
       "Heartbreaker     0.107537  0.011825  0.880638"
      ]
     },
     "execution_count": 25,
     "metadata": {},
     "output_type": "execute_result"
    }
   ],
   "source": [
    "topic_df[10:20]"
   ]
  },
  {
   "cell_type": "markdown",
   "id": "7bd1a335",
   "metadata": {},
   "source": [
    "## Topic # 1\n",
    "그대*1751.9+사랑*1129.0+사람*392.7+눈물*306.9+기억*235.9+그대 사랑*207.3+사랑 그대*205.8+그대 그대*170.3+생각*164.9+마음*148.2+모두*148.0+시간*147.2+가슴*137.4+바보*135.0+혼자*130.3"
   ]
  },
  {
   "cell_type": "code",
   "execution_count": 26,
   "id": "19280eb1",
   "metadata": {
    "ExecuteTime": {
     "end_time": "2021-12-02T06:17:00.047146Z",
     "start_time": "2021-12-02T06:16:59.990871Z"
    }
   },
   "outputs": [
    {
     "data": {
      "text/html": [
       "<div>\n",
       "<style scoped>\n",
       "    .dataframe tbody tr th:only-of-type {\n",
       "        vertical-align: middle;\n",
       "    }\n",
       "\n",
       "    .dataframe tbody tr th {\n",
       "        vertical-align: top;\n",
       "    }\n",
       "\n",
       "    .dataframe thead th {\n",
       "        text-align: right;\n",
       "    }\n",
       "</style>\n",
       "<table border=\"1\" class=\"dataframe\">\n",
       "  <thead>\n",
       "    <tr style=\"text-align: right;\">\n",
       "      <th></th>\n",
       "      <th>Topic #0</th>\n",
       "      <th>Topic #1</th>\n",
       "      <th>Topic #2</th>\n",
       "    </tr>\n",
       "  </thead>\n",
       "  <tbody>\n",
       "    <tr>\n",
       "      <th>사랑합니다...</th>\n",
       "      <td>0.924752</td>\n",
       "      <td>0.008589</td>\n",
       "      <td>0.066658</td>\n",
       "    </tr>\n",
       "    <tr>\n",
       "      <th>소주 한 잔</th>\n",
       "      <td>0.886860</td>\n",
       "      <td>0.105071</td>\n",
       "      <td>0.008069</td>\n",
       "    </tr>\n",
       "    <tr>\n",
       "      <th>...안 되나요... (부제: 화양연화)</th>\n",
       "      <td>0.987052</td>\n",
       "      <td>0.005927</td>\n",
       "      <td>0.007021</td>\n",
       "    </tr>\n",
       "    <tr>\n",
       "      <th>그랬나봐</th>\n",
       "      <td>0.964106</td>\n",
       "      <td>0.014996</td>\n",
       "      <td>0.020898</td>\n",
       "    </tr>\n",
       "    <tr>\n",
       "      <th>내 귀에 캔디 (feat. 택연 Of 2PM)</th>\n",
       "      <td>0.918879</td>\n",
       "      <td>0.076065</td>\n",
       "      <td>0.005055</td>\n",
       "    </tr>\n",
       "    <tr>\n",
       "      <th>Monologue</th>\n",
       "      <td>0.984210</td>\n",
       "      <td>0.006944</td>\n",
       "      <td>0.008846</td>\n",
       "    </tr>\n",
       "    <tr>\n",
       "      <th>잊었니</th>\n",
       "      <td>0.889072</td>\n",
       "      <td>0.100849</td>\n",
       "      <td>0.010079</td>\n",
       "    </tr>\n",
       "    <tr>\n",
       "      <th>Sweet Dream</th>\n",
       "      <td>0.729190</td>\n",
       "      <td>0.263362</td>\n",
       "      <td>0.007449</td>\n",
       "    </tr>\n",
       "    <tr>\n",
       "      <th>긴 하루</th>\n",
       "      <td>0.789546</td>\n",
       "      <td>0.202407</td>\n",
       "      <td>0.008047</td>\n",
       "    </tr>\n",
       "    <tr>\n",
       "      <th>그댄 달라요</th>\n",
       "      <td>0.984470</td>\n",
       "      <td>0.008357</td>\n",
       "      <td>0.007173</td>\n",
       "    </tr>\n",
       "    <tr>\n",
       "      <th>Sign</th>\n",
       "      <td>0.773749</td>\n",
       "      <td>0.210341</td>\n",
       "      <td>0.015911</td>\n",
       "    </tr>\n",
       "    <tr>\n",
       "      <th>미워도 다시 한번 (Original ver.)</th>\n",
       "      <td>0.980623</td>\n",
       "      <td>0.009865</td>\n",
       "      <td>0.009512</td>\n",
       "    </tr>\n",
       "    <tr>\n",
       "      <th>Hot Issue</th>\n",
       "      <td>0.889383</td>\n",
       "      <td>0.103022</td>\n",
       "      <td>0.007595</td>\n",
       "    </tr>\n",
       "    <tr>\n",
       "      <th>Wanna</th>\n",
       "      <td>0.995552</td>\n",
       "      <td>0.002150</td>\n",
       "      <td>0.002298</td>\n",
       "    </tr>\n",
       "    <tr>\n",
       "      <th>거짓말 (Part.1)</th>\n",
       "      <td>0.817995</td>\n",
       "      <td>0.003896</td>\n",
       "      <td>0.178109</td>\n",
       "    </tr>\n",
       "    <tr>\n",
       "      <th>꿈에</th>\n",
       "      <td>0.885714</td>\n",
       "      <td>0.106290</td>\n",
       "      <td>0.007996</td>\n",
       "    </tr>\n",
       "    <tr>\n",
       "      <th>Without You</th>\n",
       "      <td>0.880915</td>\n",
       "      <td>0.114936</td>\n",
       "      <td>0.004149</td>\n",
       "    </tr>\n",
       "    <tr>\n",
       "      <th>Shine</th>\n",
       "      <td>0.986766</td>\n",
       "      <td>0.006219</td>\n",
       "      <td>0.007015</td>\n",
       "    </tr>\n",
       "    <tr>\n",
       "      <th>그 놈 목소리</th>\n",
       "      <td>0.974544</td>\n",
       "      <td>0.012467</td>\n",
       "      <td>0.012988</td>\n",
       "    </tr>\n",
       "    <tr>\n",
       "      <th>와줘..</th>\n",
       "      <td>0.981402</td>\n",
       "      <td>0.008910</td>\n",
       "      <td>0.009689</td>\n",
       "    </tr>\n",
       "  </tbody>\n",
       "</table>\n",
       "</div>"
      ],
      "text/plain": [
       "                           Topic #0  Topic #1  Topic #2\n",
       "사랑합니다...                   0.924752  0.008589  0.066658\n",
       "소주 한 잔                     0.886860  0.105071  0.008069\n",
       "...안 되나요... (부제: 화양연화)     0.987052  0.005927  0.007021\n",
       "그랬나봐                       0.964106  0.014996  0.020898\n",
       "내 귀에 캔디 (feat. 택연 Of 2PM)  0.918879  0.076065  0.005055\n",
       "Monologue                  0.984210  0.006944  0.008846\n",
       "잊었니                        0.889072  0.100849  0.010079\n",
       "Sweet Dream                0.729190  0.263362  0.007449\n",
       "긴 하루                       0.789546  0.202407  0.008047\n",
       "그댄 달라요                     0.984470  0.008357  0.007173\n",
       "Sign                       0.773749  0.210341  0.015911\n",
       "미워도 다시 한번 (Original ver.)  0.980623  0.009865  0.009512\n",
       "Hot Issue                  0.889383  0.103022  0.007595\n",
       "Wanna                      0.995552  0.002150  0.002298\n",
       "거짓말 (Part.1)               0.817995  0.003896  0.178109\n",
       "꿈에                         0.885714  0.106290  0.007996\n",
       "Without You                0.880915  0.114936  0.004149\n",
       "Shine                      0.986766  0.006219  0.007015\n",
       "그 놈 목소리                    0.974544  0.012467  0.012988\n",
       "와줘..                       0.981402  0.008910  0.009689"
      ]
     },
     "execution_count": 26,
     "metadata": {},
     "output_type": "execute_result"
    }
   ],
   "source": [
    "topic_df[topic_df['Topic #0']>=0.7].head(20)"
   ]
  },
  {
   "cell_type": "markdown",
   "id": "18f72c6e",
   "metadata": {
    "ExecuteTime": {
     "end_time": "2021-12-01T00:13:18.142513Z",
     "start_time": "2021-12-01T00:13:18.109511Z"
    }
   },
   "source": [
    "## Topic # 2\n",
    "Topic # 2\n",
    "하늘*263.0+세상*249.1+모두*241.3+오늘*194.9+바람*161.5+노래*158.4+시간*155.2+위로*150.7+생각*137.3+사람*124.4+하루*121.1+순간*119.1+모습*117.2+가슴*117.1+거리*106.7"
   ]
  },
  {
   "cell_type": "code",
   "execution_count": 37,
   "id": "1126fd66",
   "metadata": {
    "ExecuteTime": {
     "end_time": "2021-12-02T06:18:20.775765Z",
     "start_time": "2021-12-02T06:18:20.738584Z"
    }
   },
   "outputs": [
    {
     "data": {
      "text/html": [
       "<div>\n",
       "<style scoped>\n",
       "    .dataframe tbody tr th:only-of-type {\n",
       "        vertical-align: middle;\n",
       "    }\n",
       "\n",
       "    .dataframe tbody tr th {\n",
       "        vertical-align: top;\n",
       "    }\n",
       "\n",
       "    .dataframe thead th {\n",
       "        text-align: right;\n",
       "    }\n",
       "</style>\n",
       "<table border=\"1\" class=\"dataframe\">\n",
       "  <thead>\n",
       "    <tr style=\"text-align: right;\">\n",
       "      <th></th>\n",
       "      <th>Topic #0</th>\n",
       "      <th>Topic #1</th>\n",
       "      <th>Topic #2</th>\n",
       "    </tr>\n",
       "  </thead>\n",
       "  <tbody>\n",
       "    <tr>\n",
       "      <th>Never Ending Story</th>\n",
       "      <td>0.114825</td>\n",
       "      <td>0.871439</td>\n",
       "      <td>0.013736</td>\n",
       "    </tr>\n",
       "    <tr>\n",
       "      <th>너에게 난, 나에게 넌</th>\n",
       "      <td>0.007443</td>\n",
       "      <td>0.984889</td>\n",
       "      <td>0.007668</td>\n",
       "    </tr>\n",
       "    <tr>\n",
       "      <th>챔피언</th>\n",
       "      <td>0.005653</td>\n",
       "      <td>0.988766</td>\n",
       "      <td>0.005581</td>\n",
       "    </tr>\n",
       "    <tr>\n",
       "      <th>미스터</th>\n",
       "      <td>0.010159</td>\n",
       "      <td>0.979239</td>\n",
       "      <td>0.010602</td>\n",
       "    </tr>\n",
       "    <tr>\n",
       "      <th>디스코왕</th>\n",
       "      <td>0.008222</td>\n",
       "      <td>0.769709</td>\n",
       "      <td>0.222070</td>\n",
       "    </tr>\n",
       "    <tr>\n",
       "      <th>낭만 고양이</th>\n",
       "      <td>0.010843</td>\n",
       "      <td>0.978342</td>\n",
       "      <td>0.010815</td>\n",
       "    </tr>\n",
       "    <tr>\n",
       "      <th>Muzik</th>\n",
       "      <td>0.010146</td>\n",
       "      <td>0.980040</td>\n",
       "      <td>0.009814</td>\n",
       "    </tr>\n",
       "    <tr>\n",
       "      <th>아틀란티스 소녀</th>\n",
       "      <td>0.253625</td>\n",
       "      <td>0.739388</td>\n",
       "      <td>0.006988</td>\n",
       "    </tr>\n",
       "    <tr>\n",
       "      <th>Ring Ding Dong</th>\n",
       "      <td>0.010900</td>\n",
       "      <td>0.977371</td>\n",
       "      <td>0.011729</td>\n",
       "    </tr>\n",
       "    <tr>\n",
       "      <th>Hot 뜨거</th>\n",
       "      <td>0.006672</td>\n",
       "      <td>0.837561</td>\n",
       "      <td>0.155767</td>\n",
       "    </tr>\n",
       "    <tr>\n",
       "      <th>여성시대</th>\n",
       "      <td>0.006167</td>\n",
       "      <td>0.863059</td>\n",
       "      <td>0.130774</td>\n",
       "    </tr>\n",
       "    <tr>\n",
       "      <th>Without Your Love</th>\n",
       "      <td>0.011186</td>\n",
       "      <td>0.937973</td>\n",
       "      <td>0.050841</td>\n",
       "    </tr>\n",
       "    <tr>\n",
       "      <th>여름안에서</th>\n",
       "      <td>0.005778</td>\n",
       "      <td>0.711439</td>\n",
       "      <td>0.282783</td>\n",
       "    </tr>\n",
       "    <tr>\n",
       "      <th>너에게 난 나에게 넌</th>\n",
       "      <td>0.007587</td>\n",
       "      <td>0.984689</td>\n",
       "      <td>0.007725</td>\n",
       "    </tr>\n",
       "    <tr>\n",
       "      <th>Gloomy Sunday</th>\n",
       "      <td>0.231897</td>\n",
       "      <td>0.765626</td>\n",
       "      <td>0.002477</td>\n",
       "    </tr>\n",
       "    <tr>\n",
       "      <th>거리에서</th>\n",
       "      <td>0.008531</td>\n",
       "      <td>0.916334</td>\n",
       "      <td>0.075135</td>\n",
       "    </tr>\n",
       "    <tr>\n",
       "      <th>True Romance (feat. T)</th>\n",
       "      <td>0.276777</td>\n",
       "      <td>0.718130</td>\n",
       "      <td>0.005092</td>\n",
       "    </tr>\n",
       "    <tr>\n",
       "      <th>친구</th>\n",
       "      <td>0.169010</td>\n",
       "      <td>0.823119</td>\n",
       "      <td>0.007871</td>\n",
       "    </tr>\n",
       "    <tr>\n",
       "      <th>우연 (우울한 우연)</th>\n",
       "      <td>0.007267</td>\n",
       "      <td>0.985552</td>\n",
       "      <td>0.007181</td>\n",
       "    </tr>\n",
       "    <tr>\n",
       "      <th>내일 해</th>\n",
       "      <td>0.006981</td>\n",
       "      <td>0.827771</td>\n",
       "      <td>0.165249</td>\n",
       "    </tr>\n",
       "  </tbody>\n",
       "</table>\n",
       "</div>"
      ],
      "text/plain": [
       "                        Topic #0  Topic #1  Topic #2\n",
       "Never Ending Story      0.114825  0.871439  0.013736\n",
       "너에게 난, 나에게 넌            0.007443  0.984889  0.007668\n",
       "챔피언                     0.005653  0.988766  0.005581\n",
       "미스터                     0.010159  0.979239  0.010602\n",
       "디스코왕                    0.008222  0.769709  0.222070\n",
       "낭만 고양이                  0.010843  0.978342  0.010815\n",
       "Muzik                   0.010146  0.980040  0.009814\n",
       "아틀란티스 소녀                0.253625  0.739388  0.006988\n",
       "Ring Ding Dong          0.010900  0.977371  0.011729\n",
       "Hot 뜨거                  0.006672  0.837561  0.155767\n",
       "여성시대                    0.006167  0.863059  0.130774\n",
       "Without Your Love       0.011186  0.937973  0.050841\n",
       "여름안에서                   0.005778  0.711439  0.282783\n",
       "너에게 난 나에게 넌             0.007587  0.984689  0.007725\n",
       "Gloomy Sunday           0.231897  0.765626  0.002477\n",
       "거리에서                    0.008531  0.916334  0.075135\n",
       "True Romance (feat. T)  0.276777  0.718130  0.005092\n",
       "친구                      0.169010  0.823119  0.007871\n",
       "우연 (우울한 우연)             0.007267  0.985552  0.007181\n",
       "내일 해                    0.006981  0.827771  0.165249"
      ]
     },
     "execution_count": 37,
     "metadata": {},
     "output_type": "execute_result"
    }
   ],
   "source": [
    "topic_df[topic_df['Topic #1']>=0.7].head(20)"
   ]
  },
  {
   "cell_type": "markdown",
   "id": "4421a0b1",
   "metadata": {},
   "source": [
    "## Topic # 3\n",
    "사랑*1741.9+눈물*290.2+마음*286.1+가슴*284.5+세상*283.1+그녀*277.2+나나*258.3+사랑 사랑*252.9+나나 나나*192.3+사람*191.9+여자*161.0+당신*150.7+남자*139.0+때문*137.5+생각*133.8"
   ]
  },
  {
   "cell_type": "code",
   "execution_count": 28,
   "id": "7d62da74",
   "metadata": {
    "ExecuteTime": {
     "end_time": "2021-12-02T06:17:12.976452Z",
     "start_time": "2021-12-02T06:17:12.952492Z"
    }
   },
   "outputs": [
    {
     "data": {
      "text/html": [
       "<div>\n",
       "<style scoped>\n",
       "    .dataframe tbody tr th:only-of-type {\n",
       "        vertical-align: middle;\n",
       "    }\n",
       "\n",
       "    .dataframe tbody tr th {\n",
       "        vertical-align: top;\n",
       "    }\n",
       "\n",
       "    .dataframe thead th {\n",
       "        text-align: right;\n",
       "    }\n",
       "</style>\n",
       "<table border=\"1\" class=\"dataframe\">\n",
       "  <thead>\n",
       "    <tr style=\"text-align: right;\">\n",
       "      <th></th>\n",
       "      <th>Topic #0</th>\n",
       "      <th>Topic #1</th>\n",
       "      <th>Topic #2</th>\n",
       "    </tr>\n",
       "  </thead>\n",
       "  <tbody>\n",
       "    <tr>\n",
       "      <th>어쩌면...</th>\n",
       "      <td>0.081702</td>\n",
       "      <td>0.004863</td>\n",
       "      <td>0.913436</td>\n",
       "    </tr>\n",
       "    <tr>\n",
       "      <th>With Me</th>\n",
       "      <td>0.007285</td>\n",
       "      <td>0.007652</td>\n",
       "      <td>0.985063</td>\n",
       "    </tr>\n",
       "    <tr>\n",
       "      <th>니가 참 좋아</th>\n",
       "      <td>0.015793</td>\n",
       "      <td>0.016316</td>\n",
       "      <td>0.967892</td>\n",
       "    </tr>\n",
       "    <tr>\n",
       "      <th>Missing You</th>\n",
       "      <td>0.022091</td>\n",
       "      <td>0.020750</td>\n",
       "      <td>0.957159</td>\n",
       "    </tr>\n",
       "    <tr>\n",
       "      <th>Abracadabra</th>\n",
       "      <td>0.013907</td>\n",
       "      <td>0.013842</td>\n",
       "      <td>0.972252</td>\n",
       "    </tr>\n",
       "    <tr>\n",
       "      <th>한 남자</th>\n",
       "      <td>0.008807</td>\n",
       "      <td>0.062196</td>\n",
       "      <td>0.928997</td>\n",
       "    </tr>\n",
       "    <tr>\n",
       "      <th>사랑은...향기를 남기고</th>\n",
       "      <td>0.008329</td>\n",
       "      <td>0.008453</td>\n",
       "      <td>0.983218</td>\n",
       "    </tr>\n",
       "    <tr>\n",
       "      <th>그런가봐요...</th>\n",
       "      <td>0.004951</td>\n",
       "      <td>0.004647</td>\n",
       "      <td>0.990402</td>\n",
       "    </tr>\n",
       "    <tr>\n",
       "      <th>소원을 말해봐 (Genie)</th>\n",
       "      <td>0.056457</td>\n",
       "      <td>0.219468</td>\n",
       "      <td>0.724075</td>\n",
       "    </tr>\n",
       "    <tr>\n",
       "      <th>Heartbreaker</th>\n",
       "      <td>0.107537</td>\n",
       "      <td>0.011825</td>\n",
       "      <td>0.880638</td>\n",
       "    </tr>\n",
       "    <tr>\n",
       "      <th>결혼해 줄래 (feat. Bizniz)</th>\n",
       "      <td>0.004069</td>\n",
       "      <td>0.004605</td>\n",
       "      <td>0.991326</td>\n",
       "    </tr>\n",
       "    <tr>\n",
       "      <th>점점</th>\n",
       "      <td>0.014403</td>\n",
       "      <td>0.098356</td>\n",
       "      <td>0.887241</td>\n",
       "    </tr>\n",
       "    <tr>\n",
       "      <th>헤어지지 못하는 여자, 떠나가지 못하는 남자 (feat. 정인)</th>\n",
       "      <td>0.002586</td>\n",
       "      <td>0.002595</td>\n",
       "      <td>0.994819</td>\n",
       "    </tr>\n",
       "    <tr>\n",
       "      <th>화장을 고치고</th>\n",
       "      <td>0.089187</td>\n",
       "      <td>0.011817</td>\n",
       "      <td>0.898995</td>\n",
       "    </tr>\n",
       "    <tr>\n",
       "      <th>체념</th>\n",
       "      <td>0.012029</td>\n",
       "      <td>0.010723</td>\n",
       "      <td>0.977248</td>\n",
       "    </tr>\n",
       "    <tr>\n",
       "      <th>너 때문에</th>\n",
       "      <td>0.152714</td>\n",
       "      <td>0.003768</td>\n",
       "      <td>0.843519</td>\n",
       "    </tr>\n",
       "    <tr>\n",
       "      <th>내 여자라니까</th>\n",
       "      <td>0.166102</td>\n",
       "      <td>0.011643</td>\n",
       "      <td>0.822255</td>\n",
       "    </tr>\n",
       "    <tr>\n",
       "      <th>Heartbeat</th>\n",
       "      <td>0.010320</td>\n",
       "      <td>0.098168</td>\n",
       "      <td>0.891513</td>\n",
       "    </tr>\n",
       "    <tr>\n",
       "      <th>잠시만 안녕 (Original)</th>\n",
       "      <td>0.009263</td>\n",
       "      <td>0.009448</td>\n",
       "      <td>0.981289</td>\n",
       "    </tr>\n",
       "    <tr>\n",
       "      <th>감기</th>\n",
       "      <td>0.022328</td>\n",
       "      <td>0.038927</td>\n",
       "      <td>0.938744</td>\n",
       "    </tr>\n",
       "  </tbody>\n",
       "</table>\n",
       "</div>"
      ],
      "text/plain": [
       "                                     Topic #0  Topic #1  Topic #2\n",
       "어쩌면...                               0.081702  0.004863  0.913436\n",
       "With Me                              0.007285  0.007652  0.985063\n",
       "니가 참 좋아                              0.015793  0.016316  0.967892\n",
       "Missing You                          0.022091  0.020750  0.957159\n",
       "Abracadabra                          0.013907  0.013842  0.972252\n",
       "한 남자                                 0.008807  0.062196  0.928997\n",
       "사랑은...향기를 남기고                        0.008329  0.008453  0.983218\n",
       "그런가봐요...                             0.004951  0.004647  0.990402\n",
       "소원을 말해봐 (Genie)                      0.056457  0.219468  0.724075\n",
       "Heartbreaker                         0.107537  0.011825  0.880638\n",
       "결혼해 줄래 (feat. Bizniz)                0.004069  0.004605  0.991326\n",
       "점점                                   0.014403  0.098356  0.887241\n",
       "헤어지지 못하는 여자, 떠나가지 못하는 남자 (feat. 정인)  0.002586  0.002595  0.994819\n",
       "화장을 고치고                              0.089187  0.011817  0.898995\n",
       "체념                                   0.012029  0.010723  0.977248\n",
       "너 때문에                                0.152714  0.003768  0.843519\n",
       "내 여자라니까                              0.166102  0.011643  0.822255\n",
       "Heartbeat                            0.010320  0.098168  0.891513\n",
       "잠시만 안녕 (Original)                    0.009263  0.009448  0.981289\n",
       "감기                                   0.022328  0.038927  0.938744"
      ]
     },
     "execution_count": 28,
     "metadata": {},
     "output_type": "execute_result"
    }
   ],
   "source": [
    "topic_df[topic_df['Topic #2']>=0.7].head(20) # "
   ]
  },
  {
   "cell_type": "code",
   "execution_count": null,
   "id": "0bf2962c",
   "metadata": {},
   "outputs": [],
   "source": []
  }
 ],
 "metadata": {
  "hide_input": false,
  "kernelspec": {
   "display_name": "Python 3",
   "language": "python",
   "name": "python3"
  },
  "language_info": {
   "codemirror_mode": {
    "name": "ipython",
    "version": 3
   },
   "file_extension": ".py",
   "mimetype": "text/x-python",
   "name": "python",
   "nbconvert_exporter": "python",
   "pygments_lexer": "ipython3",
   "version": "3.8.8"
  },
  "toc": {
   "base_numbering": 1,
   "nav_menu": {},
   "number_sections": true,
   "sideBar": true,
   "skip_h1_title": false,
   "title_cell": "Table of Contents",
   "title_sidebar": "Contents",
   "toc_cell": false,
   "toc_position": {},
   "toc_section_display": true,
   "toc_window_display": false
  },
  "varInspector": {
   "cols": {
    "lenName": 16,
    "lenType": 16,
    "lenVar": 40
   },
   "kernels_config": {
    "python": {
     "delete_cmd_postfix": "",
     "delete_cmd_prefix": "del ",
     "library": "var_list.py",
     "varRefreshCmd": "print(var_dic_list())"
    },
    "r": {
     "delete_cmd_postfix": ") ",
     "delete_cmd_prefix": "rm(",
     "library": "var_list.r",
     "varRefreshCmd": "cat(var_dic_list()) "
    }
   },
   "types_to_exclude": [
    "module",
    "function",
    "builtin_function_or_method",
    "instance",
    "_Feature"
   ],
   "window_display": false
  }
 },
 "nbformat": 4,
 "nbformat_minor": 5
}
