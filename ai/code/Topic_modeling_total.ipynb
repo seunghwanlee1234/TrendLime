{
 "cells": [
  {
   "cell_type": "code",
   "execution_count": 1,
   "id": "e8df80f0",
   "metadata": {
    "ExecuteTime": {
     "end_time": "2021-12-04T11:10:37.904721Z",
     "start_time": "2021-12-04T11:10:29.545861Z"
    }
   },
   "outputs": [],
   "source": [
    "import re\n",
    "import requests\n",
    "from bs4 import BeautifulSoup\n",
    "import pandas as pd\n",
    "from konlpy.tag import Okt  \n",
    "okt = Okt() \n",
    "import tensorflow as tf\n",
    "import numpy as np\n",
    "from collections import Counter\n",
    "\n",
    "from wordcloud import WordCloud\n",
    "import matplotlib.pyplot as plt\n",
    "\n",
    "\n",
    "import urllib.request\n",
    "from tqdm import tqdm\n",
    "from tensorflow.keras.preprocessing.text import Tokenizer\n",
    "from tensorflow.keras.preprocessing.sequence import pad_sequences\n",
    "from sklearn.model_selection import train_test_split\n",
    "from sklearn.feature_extraction.text import CountVectorizer"
   ]
  },
  {
   "cell_type": "code",
   "execution_count": 2,
   "id": "1bb997bd",
   "metadata": {
    "ExecuteTime": {
     "end_time": "2021-12-04T11:10:37.952724Z",
     "start_time": "2021-12-04T11:10:37.941729Z"
    }
   },
   "outputs": [],
   "source": [
    "import matplotlib.pyplot as plt \n",
    "from string import punctuation"
   ]
  },
  {
   "cell_type": "code",
   "execution_count": 3,
   "id": "bdfb08bd",
   "metadata": {
    "ExecuteTime": {
     "end_time": "2021-12-04T11:10:38.708730Z",
     "start_time": "2021-12-04T11:10:38.691727Z"
    }
   },
   "outputs": [],
   "source": [
    "import warnings\n",
    "warnings.filterwarnings('ignore')"
   ]
  },
  {
   "cell_type": "markdown",
   "id": "bffe4193",
   "metadata": {},
   "source": [
    "## 데이터 불러오기"
   ]
  },
  {
   "cell_type": "code",
   "execution_count": 4,
   "id": "0f2aed15",
   "metadata": {
    "ExecuteTime": {
     "end_time": "2021-12-04T11:11:39.074332Z",
     "start_time": "2021-12-04T11:11:38.146340Z"
    }
   },
   "outputs": [],
   "source": [
    "playlist = pd.read_csv('pre_total_playlist.csv')"
   ]
  },
  {
   "cell_type": "markdown",
   "id": "071ffbb3",
   "metadata": {},
   "source": [
    "## 불용어"
   ]
  },
  {
   "cell_type": "code",
   "execution_count": 6,
   "id": "38fd288f",
   "metadata": {
    "ExecuteTime": {
     "end_time": "2021-12-04T11:12:30.072305Z",
     "start_time": "2021-12-04T11:12:30.062937Z"
    }
   },
   "outputs": [
    {
     "data": {
      "text/plain": [
       "120"
      ]
     },
     "execution_count": 6,
     "metadata": {},
     "output_type": "execute_result"
    }
   ],
   "source": [
    "len(stop_w)"
   ]
  },
  {
   "cell_type": "markdown",
   "id": "16ed3135",
   "metadata": {},
   "source": [
    "## 신조어"
   ]
  },
  {
   "cell_type": "code",
   "execution_count": 9,
   "id": "035b457e",
   "metadata": {
    "ExecuteTime": {
     "end_time": "2021-12-04T11:13:11.486582Z",
     "start_time": "2021-12-04T11:13:11.474776Z"
    },
    "scrolled": true
   },
   "outputs": [
    {
     "data": {
      "text/plain": [
       "236"
      ]
     },
     "execution_count": 9,
     "metadata": {},
     "output_type": "execute_result"
    }
   ],
   "source": [
    "len(add_words)"
   ]
  },
  {
   "cell_type": "code",
   "execution_count": 10,
   "id": "df9a205c",
   "metadata": {
    "ExecuteTime": {
     "end_time": "2021-12-04T11:13:19.722636Z",
     "start_time": "2021-12-04T11:13:19.422586Z"
    }
   },
   "outputs": [],
   "source": [
    "from ckonlpy.tag import Twitter\n",
    "twitter = Twitter()"
   ]
  },
  {
   "cell_type": "code",
   "execution_count": 11,
   "id": "1c496d6e",
   "metadata": {
    "ExecuteTime": {
     "end_time": "2021-12-04T11:13:24.239717Z",
     "start_time": "2021-12-04T11:13:24.222719Z"
    }
   },
   "outputs": [],
   "source": [
    "# 리스트에 담긴 단어만큼 사전에 추가\n",
    "for i in range(len(add_words)):\n",
    "    twitter.add_dictionary(add_words[i], 'Noun')"
   ]
  },
  {
   "cell_type": "markdown",
   "id": "992970fc",
   "metadata": {},
   "source": [
    "## 토큰화"
   ]
  },
  {
   "cell_type": "code",
   "execution_count": 13,
   "id": "eca05c16",
   "metadata": {
    "ExecuteTime": {
     "end_time": "2021-12-04T11:18:14.665230Z",
     "start_time": "2021-12-04T11:13:48.025143Z"
    }
   },
   "outputs": [],
   "source": [
    "word_list = playlist['Lyric'].apply(lambda x: [word for word in twitter.nouns(x) if word not in stop_w])"
   ]
  },
  {
   "cell_type": "code",
   "execution_count": 14,
   "id": "05416539",
   "metadata": {
    "ExecuteTime": {
     "end_time": "2021-12-04T11:18:14.760113Z",
     "start_time": "2021-12-04T11:18:14.747121Z"
    }
   },
   "outputs": [
    {
     "data": {
      "text/plain": [
       "0        [아무, 리, 바보, 울, 곁, 상처, 기, 다리, 란, 보고, 보고, 만큼, 울,...\n",
       "1        [그대, 란, 사람, 허락, 맘, 그대, 때문, 란, 눈길, 줄, 만큼, 다만, 가...\n",
       "2        [어쩌면, 오늘이, 마지막, 지도, 사랑, 불안, 마음, 니, 눈, 마주, 치, 사...\n",
       "3        [술, 잔, 생각, 밤, 시절, 모두, 한숨, 그대, 얼굴, 혹시, 울, 지나, 먼...\n",
       "4        [손짓, 목소리, 마음, 지도, 맘대로, 나라, 사랑, 행복, 맘, 프라, 가기, ...\n",
       "                               ...                        \n",
       "15337    [언제, 익숙, 매일, 반복, 하루, 연속, 모습, 어가, 거울, 얼굴, 위로, 주...\n",
       "15338    [옛날, 옛적, 서울, 이란, 곳, 구월, 손톱, 구월, 구월, 기, 금, 간, 발...\n",
       "15339    [일로, 전화, 술, 시간, 사실, 취하, 거, 우리, 안, 만해, 남아, 전화, ...\n",
       "15340    [원래, 별, 뜻, 다정, 생각, 향, 길이, 중이, 언제, 순간, 가득, 차, 오...\n",
       "15341    [아침, 진, 꽤, 거, 늦, 어도, 래서, 남, 맘, 아침, 선택, 사항, 사이,...\n",
       "Name: Lyric, Length: 15342, dtype: object"
      ]
     },
     "execution_count": 14,
     "metadata": {},
     "output_type": "execute_result"
    }
   ],
   "source": [
    "word_list"
   ]
  },
  {
   "cell_type": "markdown",
   "id": "78a41df2",
   "metadata": {},
   "source": [
    "## 벡터화"
   ]
  },
  {
   "cell_type": "markdown",
   "id": "5e1950e1",
   "metadata": {
    "ExecuteTime": {
     "end_time": "2021-12-04T11:26:41.533545Z",
     "start_time": "2021-12-04T11:26:41.525547Z"
    }
   },
   "source": [
    "* min_df : 단어장에 포함되기 위한 최소 빈도\n",
    "* max_df : 단어장에 포함되기 위한 최대 빈도\n",
    "* ngram_range : 튜플 (min_n, max_n) n-그램 범위"
   ]
  },
  {
   "cell_type": "code",
   "execution_count": 15,
   "id": "deb4f3b2",
   "metadata": {
    "ExecuteTime": {
     "end_time": "2021-12-04T11:18:30.212543Z",
     "start_time": "2021-12-04T11:18:14.826116Z"
    }
   },
   "outputs": [],
   "source": [
    "from sklearn.feature_extraction.text import CountVectorizer\n",
    "from sklearn.decomposition import LatentDirichletAllocation\n",
    "\n",
    "# 설정해준 카테고리의 데이터들만 추출\n",
    "# CountVectorizer로 텍스트 데이터들 단어 빈도수에 기반해 벡터화시키기(fit_transform)\n",
    "count_vect = CountVectorizer(max_df=0.95, max_features=1000,\n",
    "                            min_df=2, stop_words=stop_w,\n",
    "                            ngram_range=(1,5)) \n",
    "ftr_vect = count_vect.fit_transform(word_list.astype(str))\n"
   ]
  },
  {
   "cell_type": "markdown",
   "id": "4bf7b73b",
   "metadata": {},
   "source": [
    "## 토픽 모델링"
   ]
  },
  {
   "cell_type": "code",
   "execution_count": 16,
   "id": "57e656b3",
   "metadata": {
    "ExecuteTime": {
     "end_time": "2021-12-04T11:19:47.281905Z",
     "start_time": "2021-12-04T11:18:30.292540Z"
    }
   },
   "outputs": [
    {
     "name": "stdout",
     "output_type": "stream",
     "text": [
      "(3, 1000)\n",
      "[[ 21.19249197  50.24118538 318.24898069 ...  14.8570299  152.10444304\n",
      "   14.27736526]\n",
      " [ 23.53864738  43.52012048  31.00857055 ...  69.43079688 161.9596659\n",
      "   58.25934253]\n",
      " [115.26886065 328.23869414 414.74244876 ... 125.71217322  51.93589106\n",
      "   83.46329221]]\n"
     ]
    }
   ],
   "source": [
    "# LDA클래스를 이용해서 피처 벡터화시킨 것을 토픽모델링 시키기\n",
    "# n_components(토픽개수) 3로 설정\n",
    "lda = LatentDirichletAllocation(n_components=3, random_state=42)\n",
    "lda.fit(ftr_vect)\n",
    "# components_속성은 3개의 토픽별(row)로 1000개의 feature(단어)들의 분포수치(column)를 보여줌\n",
    "print(lda.components_.shape)\n",
    "print(lda.components_)"
   ]
  },
  {
   "cell_type": "code",
   "execution_count": 29,
   "id": "7c5d3c9d",
   "metadata": {
    "ExecuteTime": {
     "end_time": "2021-12-04T11:29:08.053020Z",
     "start_time": "2021-12-04T11:29:03.969147Z"
    }
   },
   "outputs": [
    {
     "name": "stdout",
     "output_type": "stream",
     "text": [
      "(15342, 3)\n",
      "[[0.00838982 0.98303465 0.00857553]\n",
      " [0.51127507 0.4798901  0.00883483]]\n"
     ]
    }
   ],
   "source": [
    "# transform까지 수행하면, 문서별(row)로 토픽들(column)의 분포를 알려줌\n",
    "doc_topics = lda.transform(ftr_vect)\n",
    "print(doc_topics.shape)\n",
    "print(doc_topics[:2]) # 두 곡에 대한 확률 정보"
   ]
  },
  {
   "cell_type": "markdown",
   "id": "95d8cf9f",
   "metadata": {},
   "source": [
    "## 토픽 별 주요 단어"
   ]
  },
  {
   "cell_type": "code",
   "execution_count": 22,
   "id": "ce14f9c6",
   "metadata": {
    "ExecuteTime": {
     "end_time": "2021-12-04T11:26:58.087950Z",
     "start_time": "2021-12-04T11:26:58.054914Z"
    }
   },
   "outputs": [
    {
     "name": "stdout",
     "output_type": "stream",
     "text": [
      "\n",
      "Topic # 1\n",
      "그대*14800.4+사랑*6545.2+마음*3584.4+우리*3564.0+어요*3175.4+아름*2593.8+바람*2480.5+기억*2142.7+하루*2079.1+오늘*2077.1+시간*1843.3+순간*1821.8+다가*1760.2+가득*1659.1+하늘*1636.2\n",
      "\n",
      "Topic # 2\n",
      "사랑*17340.2+우리*5628.8+사람*5448.9+마음*3698.7+눈물*3610.6+시간*3397.9+기억*3083.0+아직*2951.6+행복*2906.3+생각*2487.2+이별*2129.1+아무*2087.9+세상*1994.9+가슴*1833.5+모습*1804.8\n",
      "\n",
      "Topic # 3\n",
      "오늘*5906.3+지금*5193.9+우리*5000.3+생각*4436.1+아무*4232.0+어디*3314.5+시간*3038.8+매일*2977.5+하루*2589.6+다가*2236.5+조금*2161.9+기분*2161.4+마음*2077.9+모두*2060.0+내일*2005.4\n"
     ]
    }
   ],
   "source": [
    "def display_topic_words(lda_model, feature_names, num_top_words):\n",
    "    for topic_idx, topic in enumerate(lda_model.components_):\n",
    "        print('\\nTopic #', topic_idx+1)\n",
    "        \n",
    "        # Topic별로 1000개의 단어들(features)중에서 높은 값 순으로 정렬 후 index를 반환해줌\n",
    "\n",
    "        topic_word_idx = topic.argsort()[::-1] # argsort()는 디폴트가 오름차순, [::-1]로 내림차순 변경\n",
    "        top_idx = topic_word_idx[:num_top_words]\n",
    "        \n",
    "        # CountVectorizer함수 할당시킨 객체에 get_feature_names()로 벡터화시킨 feature(단어들)볼 수 있음\n",
    "        # 이 벡터화시킨 단어들(features)은 숫자-알파벳순으로 정렬되며, 단어들 순서는 fit_transform시키고 난 이후에도 동일!\n",
    "        # '문자열'.join 함수로 특정 문자열 사이에 끼고 문자열 합쳐줄 수 있음.\n",
    "        feature_concat = '+'.join([str(feature_names[i])+'*'+str(round(topic[i], 1)) for i in top_idx])\n",
    "        print(feature_concat)        \n",
    "        \n",
    "feature_names = count_vect.get_feature_names()\n",
    "display_topic_words(lda, feature_names, 15)"
   ]
  },
  {
   "cell_type": "markdown",
   "id": "8fd77f59",
   "metadata": {},
   "source": [
    "## 가장 높은 확률의 토픽만 추출"
   ]
  },
  {
   "cell_type": "code",
   "execution_count": 25,
   "id": "d90ae357",
   "metadata": {
    "ExecuteTime": {
     "end_time": "2021-12-04T11:27:50.386767Z",
     "start_time": "2021-12-04T11:27:46.219560Z"
    }
   },
   "outputs": [
    {
     "data": {
      "text/html": [
       "<div>\n",
       "<style scoped>\n",
       "    .dataframe tbody tr th:only-of-type {\n",
       "        vertical-align: middle;\n",
       "    }\n",
       "\n",
       "    .dataframe tbody tr th {\n",
       "        vertical-align: top;\n",
       "    }\n",
       "\n",
       "    .dataframe thead th {\n",
       "        text-align: right;\n",
       "    }\n",
       "</style>\n",
       "<table border=\"1\" class=\"dataframe\">\n",
       "  <thead>\n",
       "    <tr style=\"text-align: right;\">\n",
       "      <th></th>\n",
       "      <th>Doc_Num</th>\n",
       "      <th>Topic</th>\n",
       "      <th>Percentage</th>\n",
       "    </tr>\n",
       "  </thead>\n",
       "  <tbody>\n",
       "    <tr>\n",
       "      <th>0</th>\n",
       "      <td>0</td>\n",
       "      <td>1</td>\n",
       "      <td>0.983035</td>\n",
       "    </tr>\n",
       "    <tr>\n",
       "      <th>1</th>\n",
       "      <td>1</td>\n",
       "      <td>0</td>\n",
       "      <td>0.511275</td>\n",
       "    </tr>\n",
       "    <tr>\n",
       "      <th>2</th>\n",
       "      <td>2</td>\n",
       "      <td>1</td>\n",
       "      <td>0.879037</td>\n",
       "    </tr>\n",
       "    <tr>\n",
       "      <th>3</th>\n",
       "      <td>3</td>\n",
       "      <td>0</td>\n",
       "      <td>0.459547</td>\n",
       "    </tr>\n",
       "    <tr>\n",
       "      <th>4</th>\n",
       "      <td>4</td>\n",
       "      <td>1</td>\n",
       "      <td>0.985411</td>\n",
       "    </tr>\n",
       "  </tbody>\n",
       "</table>\n",
       "</div>"
      ],
      "text/plain": [
       "   Doc_Num  Topic  Percentage\n",
       "0        0      1    0.983035\n",
       "1        1      0    0.511275\n",
       "2        2      1    0.879037\n",
       "3        3      0    0.459547\n",
       "4        4      1    0.985411"
      ]
     },
     "execution_count": 25,
     "metadata": {},
     "output_type": "execute_result"
    }
   ],
   "source": [
    "# 문서별로, 가장 확률이 높은 topic으로 할당해줌\n",
    "\n",
    "doc_topic = lda.transform(ftr_vect)\n",
    "\n",
    "doc_per_topic_list = []\n",
    "for n in range(doc_topic.shape[0]):\n",
    "    topic_most_pr = doc_topic[n].argmax()\n",
    "    topic_pr = doc_topic[n].max()\n",
    "    doc_per_topic_list.append([n, topic_most_pr, topic_pr])\n",
    "    \n",
    "doc_topic_df = pd.DataFrame(doc_per_topic_list, columns=['Doc_Num', 'Topic', 'Percentage'])\n",
    "\n",
    "doc_topic_df.head()"
   ]
  },
  {
   "cell_type": "markdown",
   "id": "83678db3",
   "metadata": {
    "ExecuteTime": {
     "end_time": "2021-12-04T11:19:47.409899Z",
     "start_time": "2021-12-04T11:19:47.396900Z"
    }
   },
   "source": [
    "## 노래 별 토픽 확률"
   ]
  },
  {
   "cell_type": "code",
   "execution_count": 30,
   "id": "a1055ed5",
   "metadata": {
    "ExecuteTime": {
     "end_time": "2021-12-04T11:29:16.235090Z",
     "start_time": "2021-12-04T11:29:16.200439Z"
    }
   },
   "outputs": [
    {
     "data": {
      "text/html": [
       "<div>\n",
       "<style scoped>\n",
       "    .dataframe tbody tr th:only-of-type {\n",
       "        vertical-align: middle;\n",
       "    }\n",
       "\n",
       "    .dataframe tbody tr th {\n",
       "        vertical-align: top;\n",
       "    }\n",
       "\n",
       "    .dataframe thead th {\n",
       "        text-align: right;\n",
       "    }\n",
       "</style>\n",
       "<table border=\"1\" class=\"dataframe\">\n",
       "  <thead>\n",
       "    <tr style=\"text-align: right;\">\n",
       "      <th></th>\n",
       "      <th>Topic #1</th>\n",
       "      <th>Topic #2</th>\n",
       "      <th>Topic #3</th>\n",
       "    </tr>\n",
       "  </thead>\n",
       "  <tbody>\n",
       "    <tr>\n",
       "      <th>보고 싶다</th>\n",
       "      <td>0.008390</td>\n",
       "      <td>0.983035</td>\n",
       "      <td>0.008576</td>\n",
       "    </tr>\n",
       "    <tr>\n",
       "      <th>사랑합니다...</th>\n",
       "      <td>0.511275</td>\n",
       "      <td>0.479890</td>\n",
       "      <td>0.008835</td>\n",
       "    </tr>\n",
       "    <tr>\n",
       "      <th>어쩌면...</th>\n",
       "      <td>0.116552</td>\n",
       "      <td>0.879037</td>\n",
       "      <td>0.004410</td>\n",
       "    </tr>\n",
       "    <tr>\n",
       "      <th>소주 한 잔</th>\n",
       "      <td>0.459547</td>\n",
       "      <td>0.455085</td>\n",
       "      <td>0.085369</td>\n",
       "    </tr>\n",
       "    <tr>\n",
       "      <th>With Me</th>\n",
       "      <td>0.006774</td>\n",
       "      <td>0.985411</td>\n",
       "      <td>0.007815</td>\n",
       "    </tr>\n",
       "  </tbody>\n",
       "</table>\n",
       "</div>"
      ],
      "text/plain": [
       "          Topic #1  Topic #2  Topic #3\n",
       "보고 싶다     0.008390  0.983035  0.008576\n",
       "사랑합니다...  0.511275  0.479890  0.008835\n",
       "어쩌면...    0.116552  0.879037  0.004410\n",
       "소주 한 잔    0.459547  0.455085  0.085369\n",
       "With Me   0.006774  0.985411  0.007815"
      ]
     },
     "execution_count": 30,
     "metadata": {},
     "output_type": "execute_result"
    }
   ],
   "source": [
    "# 주어진 내장 텍스트데이터의 문서이름에는 카테고리가 labeling되어있음. \n",
    "# 따라서, 카테고리가 무엇인지 아는 상태이니까 어떤 문서들이 어떤 토픽들이 높은지 확인해보자.\n",
    "# 그리고 그 토픽들이 각각 무엇을 내용으로 하는지 추측해보자.\n",
    "# 주어진 데이터셋의 filename속성을 이용해서 카테고리값들 가져오기\n",
    "def get_filename_list(playlist):\n",
    "    filename_lst = []\n",
    "    for file in playlist.song_name: \n",
    "        filename_temp = file.split('/')[-2:]\n",
    "        filename = '.'.join(filename_temp)\n",
    "        filename_lst.append(filename)\n",
    "    return filename_lst\n",
    " \n",
    "filename_lst = get_filename_list(playlist)\n",
    "# Dataframe형태로 만들어보기\n",
    "topic_names = ['Topic #'+ str(i) for i in range(1,4)]\n",
    "topic_df = pd.DataFrame(data=doc_topics, columns=topic_names,\n",
    "                       index=filename_lst)\n",
    "\n",
    "topic_df.head()"
   ]
  },
  {
   "cell_type": "markdown",
   "id": "b8248f55",
   "metadata": {},
   "source": [
    "## Topic # 1\n",
    "**그대*14800.4+사랑*6545.2+마음*3584.4+우리*3564.0+어요*3175.4**+아름*2593.8+바람*2480.5+기억*2142.7+하루*2079.1+오늘*2077.1+시간*1843.3+순간*1821.8+다가*1760.2+가득*1659.1+하늘*1636.2\n",
    "\n",
    "## Topic # 2\n",
    "**사랑*17340.2+우리*5628.8+사람*5448.9+마음*3698.7+눈물*3610.6**+시간*3397.9+기억*3083.0+아직*2951.6+행복*2906.3+생각*2487.2+이별*2129.1+아무*2087.9+세상*1994.9+가슴*1833.5+모습*1804.8\n",
    "\n",
    "## Topic # 3\n",
    "**오늘*5906.3+지금*5193.9+우리*5000.3+생각*4436.1+아무*4232.0**+어디*3314.5+시간*3038.8+매일*2977.5+하루*2589.6+다가*2236.5+조금*2161.9+기분*2161.4+마음*2077.9+모두*2060.0+내일*2005.4"
   ]
  },
  {
   "cell_type": "markdown",
   "id": "ebd0e65f",
   "metadata": {},
   "source": [
    "## 가장 높은 확률의 토픽"
   ]
  },
  {
   "cell_type": "code",
   "execution_count": 31,
   "id": "67ea1e55",
   "metadata": {
    "ExecuteTime": {
     "end_time": "2021-12-04T11:29:57.935903Z",
     "start_time": "2021-12-04T11:29:53.661015Z"
    }
   },
   "outputs": [
    {
     "data": {
      "text/html": [
       "<div>\n",
       "<style scoped>\n",
       "    .dataframe tbody tr th:only-of-type {\n",
       "        vertical-align: middle;\n",
       "    }\n",
       "\n",
       "    .dataframe tbody tr th {\n",
       "        vertical-align: top;\n",
       "    }\n",
       "\n",
       "    .dataframe thead th {\n",
       "        text-align: right;\n",
       "    }\n",
       "</style>\n",
       "<table border=\"1\" class=\"dataframe\">\n",
       "  <thead>\n",
       "    <tr style=\"text-align: right;\">\n",
       "      <th></th>\n",
       "      <th>Doc_Num</th>\n",
       "      <th>Topic</th>\n",
       "      <th>Percentage</th>\n",
       "    </tr>\n",
       "  </thead>\n",
       "  <tbody>\n",
       "    <tr>\n",
       "      <th>0</th>\n",
       "      <td>0</td>\n",
       "      <td>1</td>\n",
       "      <td>0.983035</td>\n",
       "    </tr>\n",
       "    <tr>\n",
       "      <th>1</th>\n",
       "      <td>1</td>\n",
       "      <td>0</td>\n",
       "      <td>0.511275</td>\n",
       "    </tr>\n",
       "    <tr>\n",
       "      <th>2</th>\n",
       "      <td>2</td>\n",
       "      <td>1</td>\n",
       "      <td>0.879037</td>\n",
       "    </tr>\n",
       "    <tr>\n",
       "      <th>3</th>\n",
       "      <td>3</td>\n",
       "      <td>0</td>\n",
       "      <td>0.459547</td>\n",
       "    </tr>\n",
       "    <tr>\n",
       "      <th>4</th>\n",
       "      <td>4</td>\n",
       "      <td>1</td>\n",
       "      <td>0.985411</td>\n",
       "    </tr>\n",
       "  </tbody>\n",
       "</table>\n",
       "</div>"
      ],
      "text/plain": [
       "   Doc_Num  Topic  Percentage\n",
       "0        0      1    0.983035\n",
       "1        1      0    0.511275\n",
       "2        2      1    0.879037\n",
       "3        3      0    0.459547\n",
       "4        4      1    0.985411"
      ]
     },
     "execution_count": 31,
     "metadata": {},
     "output_type": "execute_result"
    }
   ],
   "source": [
    "# 문서별로, 가장 확률이 높은 topic으로 할당해줌\n",
    "\n",
    "doc_topic = lda.transform(ftr_vect)\n",
    "\n",
    "doc_per_topic_list = []\n",
    "for n in range(doc_topic.shape[0]):\n",
    "    topic_most_pr = doc_topic[n].argmax()\n",
    "    topic_pr = doc_topic[n].max()\n",
    "    doc_per_topic_list.append([n, topic_most_pr, topic_pr])\n",
    "    \n",
    "doc_topic_df = pd.DataFrame(doc_per_topic_list, columns=['Doc_Num', 'Topic', 'Percentage'])\n",
    "\n",
    "doc_topic_df.head()"
   ]
  },
  {
   "cell_type": "code",
   "execution_count": 35,
   "id": "8249ced5",
   "metadata": {
    "ExecuteTime": {
     "end_time": "2021-12-04T11:46:22.694623Z",
     "start_time": "2021-12-04T11:46:22.673629Z"
    }
   },
   "outputs": [
    {
     "data": {
      "text/html": [
       "<div>\n",
       "<style scoped>\n",
       "    .dataframe tbody tr th:only-of-type {\n",
       "        vertical-align: middle;\n",
       "    }\n",
       "\n",
       "    .dataframe tbody tr th {\n",
       "        vertical-align: top;\n",
       "    }\n",
       "\n",
       "    .dataframe thead th {\n",
       "        text-align: right;\n",
       "    }\n",
       "</style>\n",
       "<table border=\"1\" class=\"dataframe\">\n",
       "  <thead>\n",
       "    <tr style=\"text-align: right;\">\n",
       "      <th></th>\n",
       "      <th>song_id</th>\n",
       "      <th>song_name</th>\n",
       "      <th>artist</th>\n",
       "      <th>album</th>\n",
       "      <th>Like_Count</th>\n",
       "      <th>Lyric</th>\n",
       "      <th>cover_url</th>\n",
       "      <th>tags</th>\n",
       "      <th>words</th>\n",
       "    </tr>\n",
       "  </thead>\n",
       "  <tbody>\n",
       "    <tr>\n",
       "      <th>0</th>\n",
       "      <td>418253</td>\n",
       "      <td>보고 싶다</td>\n",
       "      <td>김범수</td>\n",
       "      <td>3rd. 보고 싶다</td>\n",
       "      <td>342238</td>\n",
       "      <td>아무리 기다려도 난 못가   바보처럼 울고 있는 너의 곁에  상처만 주는 나를 왜 ...</td>\n",
       "      <td>https://image.bugsm.co.kr/album/images/200/262...</td>\n",
       "      <td>['국내', '가요', '발라드한', '발라드', '국내 발라드', '가을', '쓸...</td>\n",
       "      <td>['아무리', '기다려도', '난', '못가', '바보처럼', '울고', '있는',...</td>\n",
       "    </tr>\n",
       "  </tbody>\n",
       "</table>\n",
       "</div>"
      ],
      "text/plain": [
       "   song_id song_name artist       album  Like_Count  \\\n",
       "0   418253     보고 싶다    김범수  3rd. 보고 싶다      342238   \n",
       "\n",
       "                                               Lyric  \\\n",
       "0  아무리 기다려도 난 못가   바보처럼 울고 있는 너의 곁에  상처만 주는 나를 왜 ...   \n",
       "\n",
       "                                           cover_url  \\\n",
       "0  https://image.bugsm.co.kr/album/images/200/262...   \n",
       "\n",
       "                                                tags  \\\n",
       "0  ['국내', '가요', '발라드한', '발라드', '국내 발라드', '가을', '쓸...   \n",
       "\n",
       "                                               words  \n",
       "0  ['아무리', '기다려도', '난', '못가', '바보처럼', '울고', '있는',...  "
      ]
     },
     "execution_count": 35,
     "metadata": {},
     "output_type": "execute_result"
    }
   ],
   "source": [
    "playlist.head(1) # 기본 곡 정보"
   ]
  },
  {
   "cell_type": "code",
   "execution_count": 33,
   "id": "f6585c04",
   "metadata": {
    "ExecuteTime": {
     "end_time": "2021-12-04T11:30:21.493915Z",
     "start_time": "2021-12-04T11:30:21.357970Z"
    },
    "scrolled": false
   },
   "outputs": [
    {
     "data": {
      "text/html": [
       "<div>\n",
       "<style scoped>\n",
       "    .dataframe tbody tr th:only-of-type {\n",
       "        vertical-align: middle;\n",
       "    }\n",
       "\n",
       "    .dataframe tbody tr th {\n",
       "        vertical-align: top;\n",
       "    }\n",
       "\n",
       "    .dataframe thead th {\n",
       "        text-align: right;\n",
       "    }\n",
       "</style>\n",
       "<table border=\"1\" class=\"dataframe\">\n",
       "  <thead>\n",
       "    <tr style=\"text-align: right;\">\n",
       "      <th></th>\n",
       "      <th>Topic</th>\n",
       "      <th>Percentage</th>\n",
       "      <th>song_id</th>\n",
       "      <th>song_name</th>\n",
       "      <th>artist</th>\n",
       "      <th>album</th>\n",
       "      <th>Like_Count</th>\n",
       "      <th>Lyric</th>\n",
       "      <th>cover_url</th>\n",
       "      <th>tags</th>\n",
       "      <th>words</th>\n",
       "    </tr>\n",
       "  </thead>\n",
       "  <tbody>\n",
       "    <tr>\n",
       "      <th>0</th>\n",
       "      <td>1</td>\n",
       "      <td>0.983035</td>\n",
       "      <td>418253</td>\n",
       "      <td>보고 싶다</td>\n",
       "      <td>김범수</td>\n",
       "      <td>3rd. 보고 싶다</td>\n",
       "      <td>342238</td>\n",
       "      <td>아무리 기다려도 난 못가   바보처럼 울고 있는 너의 곁에  상처만 주는 나를 왜 ...</td>\n",
       "      <td>https://image.bugsm.co.kr/album/images/200/262...</td>\n",
       "      <td>['국내', '가요', '발라드한', '발라드', '국내 발라드', '가을', '쓸...</td>\n",
       "      <td>['아무리', '기다려도', '난', '못가', '바보처럼', '울고', '있는',...</td>\n",
       "    </tr>\n",
       "    <tr>\n",
       "      <th>1</th>\n",
       "      <td>0</td>\n",
       "      <td>0.511275</td>\n",
       "      <td>445413</td>\n",
       "      <td>사랑합니다...</td>\n",
       "      <td>팀</td>\n",
       "      <td>Tim 영민</td>\n",
       "      <td>332810</td>\n",
       "      <td>나빠요 참 그대란 사람 허락도 없이 왜 내 맘 가져요 그대 때문에 난 힘겹게 살고만...</td>\n",
       "      <td>https://image.bugsm.co.kr/album/images/200/307...</td>\n",
       "      <td>['국내', '발라드', '발라드한', '100시리즈', '가을', '가요', '감...</td>\n",
       "      <td>['나빠요', '참', '그대란', '사람', '허락도', '없이', '왜', '내...</td>\n",
       "    </tr>\n",
       "    <tr>\n",
       "      <th>2</th>\n",
       "      <td>1</td>\n",
       "      <td>0.879037</td>\n",
       "      <td>489056</td>\n",
       "      <td>어쩌면...</td>\n",
       "      <td>버즈</td>\n",
       "      <td>Morning Of Buzz</td>\n",
       "      <td>295142</td>\n",
       "      <td>어쩌면 오늘이 마지막이 될지도 몰라 나의 사랑이 떠날지 몰라 불안한 나의 마음 니가...</td>\n",
       "      <td>https://image.bugsm.co.kr/album/images/200/328...</td>\n",
       "      <td>['국내', '락발라드', '발라드한', '2000년대', '세부장르', '100시...</td>\n",
       "      <td>['어쩌면', '오늘이', '마지막이', '될지도', '몰라', '나의', '사랑이...</td>\n",
       "    </tr>\n",
       "    <tr>\n",
       "      <th>3</th>\n",
       "      <td>0</td>\n",
       "      <td>0.459547</td>\n",
       "      <td>460396</td>\n",
       "      <td>소주 한 잔</td>\n",
       "      <td>임창정</td>\n",
       "      <td>Bye</td>\n",
       "      <td>277349</td>\n",
       "      <td>술이 한 잔 생각나는 밤 같이 있는 것 같아요  그 좋았던 시절들 이젠 모두 한숨만...</td>\n",
       "      <td>https://image.bugsm.co.kr/album/images/200/314...</td>\n",
       "      <td>['국내', '발라드한', '발라드', '국내 발라드', '100시리즈', '가요'...</td>\n",
       "      <td>['술이', '한', '잔', '생각나는', '밤', '같이', '있는', '것',...</td>\n",
       "    </tr>\n",
       "    <tr>\n",
       "      <th>4</th>\n",
       "      <td>1</td>\n",
       "      <td>0.985411</td>\n",
       "      <td>482653</td>\n",
       "      <td>With Me</td>\n",
       "      <td>휘성(Realslow)</td>\n",
       "      <td>It's Real</td>\n",
       "      <td>268787</td>\n",
       "      <td>네 손짓 하나 보는 게 난 좋은데   네 목소리를 듣는 것도 좋은데   왜 넌 내 ...</td>\n",
       "      <td>https://image.bugsm.co.kr/album/images/200/325...</td>\n",
       "      <td>['가요', '섹시한', '남성보컬']</td>\n",
       "      <td>['네', '손짓', '하나', '보는', '게', '난', '좋은데', '네', ...</td>\n",
       "    </tr>\n",
       "  </tbody>\n",
       "</table>\n",
       "</div>"
      ],
      "text/plain": [
       "   Topic  Percentage  song_id song_name        artist            album  \\\n",
       "0      1    0.983035   418253     보고 싶다           김범수       3rd. 보고 싶다   \n",
       "1      0    0.511275   445413  사랑합니다...             팀           Tim 영민   \n",
       "2      1    0.879037   489056    어쩌면...            버즈  Morning Of Buzz   \n",
       "3      0    0.459547   460396    소주 한 잔           임창정              Bye   \n",
       "4      1    0.985411   482653   With Me  휘성(Realslow)        It's Real   \n",
       "\n",
       "   Like_Count                                              Lyric  \\\n",
       "0      342238  아무리 기다려도 난 못가   바보처럼 울고 있는 너의 곁에  상처만 주는 나를 왜 ...   \n",
       "1      332810  나빠요 참 그대란 사람 허락도 없이 왜 내 맘 가져요 그대 때문에 난 힘겹게 살고만...   \n",
       "2      295142  어쩌면 오늘이 마지막이 될지도 몰라 나의 사랑이 떠날지 몰라 불안한 나의 마음 니가...   \n",
       "3      277349  술이 한 잔 생각나는 밤 같이 있는 것 같아요  그 좋았던 시절들 이젠 모두 한숨만...   \n",
       "4      268787  네 손짓 하나 보는 게 난 좋은데   네 목소리를 듣는 것도 좋은데   왜 넌 내 ...   \n",
       "\n",
       "                                           cover_url  \\\n",
       "0  https://image.bugsm.co.kr/album/images/200/262...   \n",
       "1  https://image.bugsm.co.kr/album/images/200/307...   \n",
       "2  https://image.bugsm.co.kr/album/images/200/328...   \n",
       "3  https://image.bugsm.co.kr/album/images/200/314...   \n",
       "4  https://image.bugsm.co.kr/album/images/200/325...   \n",
       "\n",
       "                                                tags  \\\n",
       "0  ['국내', '가요', '발라드한', '발라드', '국내 발라드', '가을', '쓸...   \n",
       "1  ['국내', '발라드', '발라드한', '100시리즈', '가을', '가요', '감...   \n",
       "2  ['국내', '락발라드', '발라드한', '2000년대', '세부장르', '100시...   \n",
       "3  ['국내', '발라드한', '발라드', '국내 발라드', '100시리즈', '가요'...   \n",
       "4                              ['가요', '섹시한', '남성보컬']   \n",
       "\n",
       "                                               words  \n",
       "0  ['아무리', '기다려도', '난', '못가', '바보처럼', '울고', '있는',...  \n",
       "1  ['나빠요', '참', '그대란', '사람', '허락도', '없이', '왜', '내...  \n",
       "2  ['어쩌면', '오늘이', '마지막이', '될지도', '몰라', '나의', '사랑이...  \n",
       "3  ['술이', '한', '잔', '생각나는', '밤', '같이', '있는', '것',...  \n",
       "4  ['네', '손짓', '하나', '보는', '게', '난', '좋은데', '네', ...  "
      ]
     },
     "execution_count": 33,
     "metadata": {},
     "output_type": "execute_result"
    }
   ],
   "source": [
    "doc_topic_df = doc_topic_df.join(playlist,lsuffix='index') # 병합\n",
    "doc_topic_df.drop('Doc_Num', axis=1,inplace=True)\n",
    "doc_topic_df.head()  "
   ]
  },
  {
   "cell_type": "code",
   "execution_count": 34,
   "id": "c20decc6",
   "metadata": {
    "ExecuteTime": {
     "end_time": "2021-12-04T11:30:41.208030Z",
     "start_time": "2021-12-04T11:30:41.181032Z"
    }
   },
   "outputs": [
    {
     "data": {
      "text/html": [
       "<div>\n",
       "<style scoped>\n",
       "    .dataframe tbody tr th:only-of-type {\n",
       "        vertical-align: middle;\n",
       "    }\n",
       "\n",
       "    .dataframe tbody tr th {\n",
       "        vertical-align: top;\n",
       "    }\n",
       "\n",
       "    .dataframe thead th {\n",
       "        text-align: right;\n",
       "    }\n",
       "</style>\n",
       "<table border=\"1\" class=\"dataframe\">\n",
       "  <thead>\n",
       "    <tr style=\"text-align: right;\">\n",
       "      <th></th>\n",
       "      <th>song_id</th>\n",
       "    </tr>\n",
       "    <tr>\n",
       "      <th>Topic</th>\n",
       "      <th></th>\n",
       "    </tr>\n",
       "  </thead>\n",
       "  <tbody>\n",
       "    <tr>\n",
       "      <th>0</th>\n",
       "      <td>3879</td>\n",
       "    </tr>\n",
       "    <tr>\n",
       "      <th>1</th>\n",
       "      <td>4586</td>\n",
       "    </tr>\n",
       "    <tr>\n",
       "      <th>2</th>\n",
       "      <td>6877</td>\n",
       "    </tr>\n",
       "  </tbody>\n",
       "</table>\n",
       "</div>"
      ],
      "text/plain": [
       "       song_id\n",
       "Topic         \n",
       "0         3879\n",
       "1         4586\n",
       "2         6877"
      ]
     },
     "execution_count": 34,
     "metadata": {},
     "output_type": "execute_result"
    }
   ],
   "source": [
    "# 토픽 별 곡 개수\n",
    "doc_topic_df.groupby('Topic')[['song_id']].count()"
   ]
  },
  {
   "cell_type": "code",
   "execution_count": 36,
   "id": "ad34615f",
   "metadata": {
    "ExecuteTime": {
     "end_time": "2021-12-04T11:47:37.095693Z",
     "start_time": "2021-12-04T11:47:36.260175Z"
    }
   },
   "outputs": [],
   "source": [
    "doc_topic_df.to_csv('total_topic_modeling.csv',index=False)"
   ]
  },
  {
   "cell_type": "code",
   "execution_count": null,
   "id": "f56ff098",
   "metadata": {},
   "outputs": [],
   "source": []
  }
 ],
 "metadata": {
  "hide_input": false,
  "kernelspec": {
   "display_name": "Python 3",
   "language": "python",
   "name": "python3"
  },
  "language_info": {
   "codemirror_mode": {
    "name": "ipython",
    "version": 3
   },
   "file_extension": ".py",
   "mimetype": "text/x-python",
   "name": "python",
   "nbconvert_exporter": "python",
   "pygments_lexer": "ipython3",
   "version": "3.8.8"
  },
  "toc": {
   "base_numbering": 1,
   "nav_menu": {},
   "number_sections": true,
   "sideBar": true,
   "skip_h1_title": false,
   "title_cell": "Table of Contents",
   "title_sidebar": "Contents",
   "toc_cell": false,
   "toc_position": {},
   "toc_section_display": true,
   "toc_window_display": false
  },
  "varInspector": {
   "cols": {
    "lenName": 16,
    "lenType": 16,
    "lenVar": 40
   },
   "kernels_config": {
    "python": {
     "delete_cmd_postfix": "",
     "delete_cmd_prefix": "del ",
     "library": "var_list.py",
     "varRefreshCmd": "print(var_dic_list())"
    },
    "r": {
     "delete_cmd_postfix": ") ",
     "delete_cmd_prefix": "rm(",
     "library": "var_list.r",
     "varRefreshCmd": "cat(var_dic_list()) "
    }
   },
   "types_to_exclude": [
    "module",
    "function",
    "builtin_function_or_method",
    "instance",
    "_Feature"
   ],
   "window_display": false
  }
 },
 "nbformat": 4,
 "nbformat_minor": 5
}
