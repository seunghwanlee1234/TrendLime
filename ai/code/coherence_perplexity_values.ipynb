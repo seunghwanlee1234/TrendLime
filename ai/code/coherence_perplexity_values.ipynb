{
 "cells": [
  {
   "cell_type": "code",
   "execution_count": 1,
   "id": "98c96f4a",
   "metadata": {
    "ExecuteTime": {
     "end_time": "2021-12-04T19:06:55.395796Z",
     "start_time": "2021-12-04T19:06:38.126279Z"
    }
   },
   "outputs": [],
   "source": [
    "import re\n",
    "import requests\n",
    "from bs4 import BeautifulSoup\n",
    "import pandas as pd\n",
    "from konlpy.tag import Okt  \n",
    "okt = Okt() \n",
    "import tensorflow as tf\n",
    "import numpy as np\n",
    "from collections import Counter\n",
    "\n",
    "from wordcloud import WordCloud\n",
    "import matplotlib.pyplot as plt\n",
    "\n",
    "\n",
    "import urllib.request\n",
    "from tqdm import tqdm\n",
    "from tensorflow.keras.preprocessing.text import Tokenizer\n",
    "from tensorflow.keras.preprocessing.sequence import pad_sequences\n",
    "from sklearn.model_selection import train_test_split\n",
    "from sklearn.feature_extraction.text import CountVectorizer"
   ]
  },
  {
   "cell_type": "code",
   "execution_count": 2,
   "id": "491b46bb",
   "metadata": {
    "ExecuteTime": {
     "end_time": "2021-12-04T19:06:55.442022Z",
     "start_time": "2021-12-04T19:06:55.434021Z"
    }
   },
   "outputs": [],
   "source": [
    "import matplotlib.pyplot as plt \n",
    "from string import punctuation"
   ]
  },
  {
   "cell_type": "code",
   "execution_count": 3,
   "id": "0ca219ed",
   "metadata": {
    "ExecuteTime": {
     "end_time": "2021-12-04T19:06:55.504018Z",
     "start_time": "2021-12-04T19:06:55.492018Z"
    }
   },
   "outputs": [],
   "source": [
    "import warnings\n",
    "warnings.filterwarnings('ignore')"
   ]
  },
  {
   "cell_type": "markdown",
   "id": "fd55d262",
   "metadata": {},
   "source": [
    "## 데이터 불러오기"
   ]
  },
  {
   "cell_type": "code",
   "execution_count": 4,
   "id": "cbe5cb06",
   "metadata": {
    "ExecuteTime": {
     "end_time": "2021-12-04T19:06:56.045166Z",
     "start_time": "2021-12-04T19:06:55.556020Z"
    }
   },
   "outputs": [],
   "source": [
    "sort_total_years = pd.read_csv('sort_total_years.csv')\n",
    "# 2020년대 곡\n",
    "y20 = sort_total_years[sort_total_years['year'].str.contains('2020y')]\n",
    "y21 = sort_total_years[sort_total_years['year'].str.contains('2021y')]\n",
    "# latest = y20.append(y21)"
   ]
  },
  {
   "cell_type": "code",
   "execution_count": 5,
   "id": "89a998f5",
   "metadata": {
    "ExecuteTime": {
     "end_time": "2021-12-04T19:06:56.202795Z",
     "start_time": "2021-12-04T19:06:56.190013Z"
    }
   },
   "outputs": [],
   "source": [
    "y20_100 = y20[:100]\n",
    "y21_100 = y21[:100]"
   ]
  },
  {
   "cell_type": "code",
   "execution_count": 6,
   "id": "e385aa3d",
   "metadata": {
    "ExecuteTime": {
     "end_time": "2021-12-04T19:06:56.424854Z",
     "start_time": "2021-12-04T19:06:56.412810Z"
    }
   },
   "outputs": [],
   "source": [
    "latest_100 = y20_100.append(y21_100)"
   ]
  },
  {
   "cell_type": "markdown",
   "id": "b9ba3874",
   "metadata": {},
   "source": [
    "## 불용어"
   ]
  },
  {
   "cell_type": "code",
   "execution_count": 7,
   "id": "edb963ce",
   "metadata": {
    "ExecuteTime": {
     "end_time": "2021-12-04T19:06:56.614013Z",
     "start_time": "2021-12-04T19:06:56.601013Z"
    }
   },
   "outputs": [],
   "source": [
    " # 불용어 (가사 빈도수 높은 + 감정분류와 무관한 단어 추가 중)\n",
    "stop_w = ['all','이렇게','네가','있는','니가','없는','너의','너무','그런',\n",
    "          'oh','whoo','tuesday','내가','너를','나를','we','this','the','그렇게',\n",
    "          'so','am','baby','and','can','you','much','me','for','go','in',\n",
    "          '은', '는', '이', '가', '하','부터','처럼','까지',\n",
    "          'know','no','of','let','my','수','너','내','나','그','난','봐',\n",
    "          '돼','건','모든','에서','에게','싶어','잖아',\n",
    "          '날','널','수','것','못','말','넌','젠','하나','정말','알','여기',\n",
    "          '다시','하게','니까',\n",
    "          '때','아','더','게','또','채','일','걸','누구','나는','너는','라면',\n",
    "          '같아','있어',\n",
    "          '의','가','보','들','좀','잘','걍','과','도','를','으로','우린','하지',\n",
    "          '해도','하고','없어','않아',\n",
    "          '자','에','와','한','하다','네','있다','나의','해','다','내게','왜',\n",
    "          '거야','이제','그냥','했던','하는']\n",
    "# 우리 , 그대 , 사랑 , 지금"
   ]
  },
  {
   "cell_type": "code",
   "execution_count": 8,
   "id": "4af0768e",
   "metadata": {
    "ExecuteTime": {
     "end_time": "2021-12-04T19:06:56.944163Z",
     "start_time": "2021-12-04T19:06:56.917514Z"
    }
   },
   "outputs": [
    {
     "data": {
      "text/plain": [
       "120"
      ]
     },
     "execution_count": 8,
     "metadata": {},
     "output_type": "execute_result"
    }
   ],
   "source": [
    "len(stop_w)"
   ]
  },
  {
   "cell_type": "markdown",
   "id": "73b9203e",
   "metadata": {},
   "source": [
    "## 신조어 단어 사전 추가\n",
    "### ckonlpy "
   ]
  },
  {
   "cell_type": "code",
   "execution_count": 9,
   "id": "87084b21",
   "metadata": {
    "ExecuteTime": {
     "end_time": "2021-12-04T19:06:57.911265Z",
     "start_time": "2021-12-04T19:06:57.267623Z"
    }
   },
   "outputs": [],
   "source": [
    "from ckonlpy.tag import Twitter\n",
    "twitter = Twitter()"
   ]
  },
  {
   "cell_type": "markdown",
   "id": "9cbb12df",
   "metadata": {},
   "source": [
    "## 신조어 정의\n",
    "참고 링크\n",
    "* https://blog.naver.com/dic_master/221436020989\n",
    "* https://open-pro.dict.naver.com/_ivo/dictmain?dictID=enegdwdxdyebegdxdwdsqyofgwrzrzuc&listType=1&page=9\n",
    "* https://open-pro.dict.naver.com/_ivo/dictmain?dictID=enegdwdxdyebegdxdwdsqyofbjqyiebp&page=5"
   ]
  },
  {
   "cell_type": "code",
   "execution_count": 10,
   "id": "cb52117c",
   "metadata": {
    "ExecuteTime": {
     "end_time": "2021-12-04T19:06:58.527899Z",
     "start_time": "2021-12-04T19:06:58.486168Z"
    }
   },
   "outputs": [],
   "source": [
    "add_words = ['먹방','대박','귀요미','네티즌','갑질','짱','사재기','인플루언서',\n",
    "             '탕진잼', '인싸', '자만추', '카카오톡', '현타',\n",
    "'플렉스','번아웃','티키타카','스포','스포일러','꼰대','밈','내로남불',\n",
    "'인싸','아싸','이모티콘','최애','시강','시선강탈','절교','근자감','인만추',\n",
    "'썸네일','탕진잼','사이다','자존감','정주행','코스프레','셀럽','하드캐리',\n",
    "'해시태그','스타벅스','인스타','인스타그램','카카오톡','네이버','넷플릭스',\n",
    "'유레카','치맥','랜선','듣보잡','남사친','여사친','레알','셀카','셀피','셀카봉',\n",
    "'떡상','프사','카톡','읽씹','존버','지못미','불멍','취존','어그로','손절',\n",
    "'버킷리스트','어벤져스','콜라보','케미','라떼','수능','화양연화','콘텐츠','현타',\n",
    "'할로윈','크리스마스','마카롱','크로플','반박불가','솔까','알못','꽃길','힐링',\n",
    "'고인물','언팔','팔로우','맞팔','포스팅','갤러리','소울메이트','타임라인',\n",
    "'그루브','발라드','혼밥','프로포즈','데칼코마니','비트','아티스트','래퍼','힙합',\n",
    "'디엠','트위터','선팔','떡밥','스트리밍','브이','레인보우','와이파이',\n",
    "'아이돌','히트','댓글','컬러링','혼술','센치','방탄소년단','아이유','아이오아이',\n",
    "'아메리카노','티켓','베프','스밍','버건디','아이템','지옥철','트렌드','트렌디',\n",
    "'데님','카라','후드','비주얼','레알','스마트폰','플레이리스트','유튜브','어플',\n",
    "'핫스팟','업로드','채팅','싸이월드','페이스북','페북','보이스','배경화면',\n",
    "'서버','키보드','마우스','블루투스','솔로','캘리그라피',\n",
    "'이모티콘','아이폰','꽁냥','컨텐츠','클라우드','메신저','메시지',\n",
    "'존버','즐겨찾기','바탕화면','치킨','마시멜로','초콜렛','케이크','케잌','스무디',\n",
    "'팝콘','시리얼','앱','지못미','츄러스','빼빼로','퐁듀','에스프레소',\n",
    "'프라푸치노','카푸치노','달고나','파스타','까르보나라','팥빙수','악플',\n",
    "'데스티니','썸남','썸녀','밀당','젤리','마들렌','토스트','밀크티','푸딩',\n",
    "'이벤트','머핀','에이드','라임','버블티','쉐이크','캘리','프러포즈','퍼즐',\n",
    "'옥탑방','팔레트','망고','심쿵','하트','휘게','예스','소맥',\n",
    "'모히또','샴페인','아이언맨','집순','폴라로이드','롤링페이퍼','홍대','컬쳐','체리','블루베리',\n",
    "'출첵','프로젝트','뉴욕','할리우드','헐리웃','등골 브레이커','어장관리','멘붕','쩔어','노잼',\n",
    "'하드캐리','페이스','아몬드','싱글','메이크업','크레딧','아트','러블리','애니','시티']"
   ]
  },
  {
   "cell_type": "code",
   "execution_count": 11,
   "id": "b2206501",
   "metadata": {
    "ExecuteTime": {
     "end_time": "2021-12-04T19:06:58.777844Z",
     "start_time": "2021-12-04T19:06:58.766803Z"
    }
   },
   "outputs": [
    {
     "data": {
      "text/plain": [
       "236"
      ]
     },
     "execution_count": 11,
     "metadata": {},
     "output_type": "execute_result"
    }
   ],
   "source": [
    "len(add_words)"
   ]
  },
  {
   "cell_type": "code",
   "execution_count": 12,
   "id": "3fe99b7e",
   "metadata": {
    "ExecuteTime": {
     "end_time": "2021-12-04T19:06:59.077559Z",
     "start_time": "2021-12-04T19:06:59.067558Z"
    }
   },
   "outputs": [],
   "source": [
    "# 리스트에 담긴 단어만큼 사전에 추가\n",
    "for i in range(len(add_words)):\n",
    "    twitter.add_dictionary(add_words[i], 'Noun')"
   ]
  },
  {
   "cell_type": "markdown",
   "id": "e4b5f954",
   "metadata": {},
   "source": [
    "## 가사 토큰화"
   ]
  },
  {
   "cell_type": "code",
   "execution_count": 13,
   "id": "229739a1",
   "metadata": {
    "ExecuteTime": {
     "end_time": "2021-12-04T19:07:24.607799Z",
     "start_time": "2021-12-04T19:06:59.397723Z"
    }
   },
   "outputs": [],
   "source": [
    "word_list = latest_100['Lyric'].apply(lambda x: [word for word in twitter.nouns(x) if word not in stop_w])"
   ]
  },
  {
   "cell_type": "code",
   "execution_count": 14,
   "id": "d5317408",
   "metadata": {
    "ExecuteTime": {
     "end_time": "2021-12-04T19:07:24.828900Z",
     "start_time": "2021-12-04T19:07:24.798943Z"
    }
   },
   "outputs": [
    {
     "data": {
      "text/plain": [
       "3308    [마음, 상처, 음악, 연고, 발라, 밤, 밤, 바바바, 밤, 발라, 밤, 밤, 바...\n",
       "3309    [밤, 그날, 반딧불, 당신, 창, 가까이, 음, 사랑, 우리, 첫, 입맞춤, 언제...\n",
       "3310    [곁, 이대, 이별, 조금, 멀리, 뿐, 모두, 지나, 간, 기억, 속, 눈물, 만...\n",
       "3311    [웃, 생각, 눈물, 이나, 시간, 준, 사람, 테, 항상, 고단, 하루, 유일, ...\n",
       "3312    [뭐, 행복, 머리, 저, 하늘, 높이, 그때, 니, 두, 날개, 눈, 전부, 조금...\n",
       "                              ...                        \n",
       "3695    [자꾸, 연구, 아인슈타인, 고, 각, 재, 고, 밀고, 스타일, 고, 아보, 거,...\n",
       "3697    [방금, 어깰, 토닥, 바, 라보, 아무, 끌, 어안, 우리, 오늘, 이별, 기억,...\n",
       "3698    [단위, 숨, 탁, 신경, 거절, 어디, 눈, 거울, 속, 마주, 멀리, 멀리, 오...\n",
       "3700    [뒷모습, 분홍, 빛, 이나, 새, 조명, 번쩍, 번쩍, 세상, 머리, 비운, 감정...\n",
       "3702    [어진, 하루, 길, 어진, 그림자, 저, 멀리, 어둠, 속, 헤메, 곳, 아직, ...\n",
       "Name: Lyric, Length: 200, dtype: object"
      ]
     },
     "execution_count": 14,
     "metadata": {},
     "output_type": "execute_result"
    }
   ],
   "source": [
    "word_list"
   ]
  },
  {
   "cell_type": "markdown",
   "id": "7b8a8fb9",
   "metadata": {},
   "source": [
    "## 단어 벡터화 및 토픽 모델링"
   ]
  },
  {
   "cell_type": "code",
   "execution_count": 15,
   "id": "8da4b919",
   "metadata": {
    "ExecuteTime": {
     "end_time": "2021-12-04T19:07:28.666146Z",
     "start_time": "2021-12-04T19:07:25.053920Z"
    }
   },
   "outputs": [
    {
     "name": "stdout",
     "output_type": "stream",
     "text": [
      "(3, 1000)\n",
      "[[ 5.16047483  0.85716253  8.22871042 ...  5.33323757  3.33324038\n",
      "   2.33797516]\n",
      " [ 0.33626074 17.54112241  4.80511733 ...  0.33338005  0.33337793\n",
      "   1.32847097]\n",
      " [ 1.50326442  1.60171506 22.96617225 ...  0.33338238  0.33338169\n",
      "   0.33355386]]\n"
     ]
    }
   ],
   "source": [
    "from sklearn.feature_extraction.text import CountVectorizer\n",
    "from sklearn.decomposition import LatentDirichletAllocation\n",
    "\n",
    "# 설정해준 카테고리의 데이터들만 추출\n",
    "# CountVectorizer로 텍스트 데이터들 단어 빈도수에 기반해 벡터화시키기(fit_transform까지!)\n",
    "count_vect = CountVectorizer(max_df=0.95, max_features=1000,\n",
    "                            min_df=2, stop_words=stop_w,\n",
    "                            ngram_range=(1,5)) # (min_n, max_n) 튜플 : n-그램 범위\n",
    "ftr_vect = count_vect.fit_transform(word_list.astype(str))\n",
    "\n",
    "\n",
    "# LDA클래스를 이용해서 피처 벡터화시킨 것을 토픽모델링 시키기\n",
    "# n_components(토픽개수) 3로 설정\n",
    "lda = LatentDirichletAllocation(n_components=3, random_state=42)\n",
    "lda.fit(ftr_vect)\n",
    "# components_속성은 3개의 토픽별(row)로 1000개의 feature(단어)들의 분포수치(column)를 보여줌\n",
    "print(lda.components_.shape)\n",
    "print(lda.components_)"
   ]
  },
  {
   "cell_type": "code",
   "execution_count": 16,
   "id": "d0c2375d",
   "metadata": {
    "ExecuteTime": {
     "end_time": "2021-12-04T19:07:29.047082Z",
     "start_time": "2021-12-04T19:07:28.930182Z"
    }
   },
   "outputs": [
    {
     "name": "stdout",
     "output_type": "stream",
     "text": [
      "(200, 3)\n",
      "[[0.48902955 0.49273251 0.01823793]\n",
      " [0.00933006 0.98134392 0.00932602]]\n"
     ]
    }
   ],
   "source": [
    "# transform까지 수행하면, 문서별(row)로 토픽들(column)의 분포를 알려줌\n",
    "doc_topics = lda.transform(ftr_vect)\n",
    "print(doc_topics.shape)\n",
    "print(doc_topics[:2]) # 두 곡에 대한 확률 정보 "
   ]
  },
  {
   "cell_type": "markdown",
   "id": "c618e287",
   "metadata": {},
   "source": [
    "`(200, 3)` ==> 문서 200개 , 3개의 토픽<br>\n",
    "`[[0.48902955 0.49273251 0.01823793]` 첫 번째 문서(노래) 에 대한 각 토픽에 해당될 확률<br>\n",
    " `[0.00933006 0.98134392 0.00932602]]`두 번째 문서(노래) 에 대한 각 토픽에 해당될 확률<br>"
   ]
  },
  {
   "cell_type": "code",
   "execution_count": 17,
   "id": "2d046b47",
   "metadata": {
    "ExecuteTime": {
     "end_time": "2021-12-04T19:07:29.312233Z",
     "start_time": "2021-12-04T19:07:29.284379Z"
    }
   },
   "outputs": [
    {
     "name": "stdout",
     "output_type": "stream",
     "text": [
      "\n",
      "Topic # 1\n",
      "생각*54.1+세상*48.2+시간*48.0+사랑*44.3+지금*40.4+어디*39.9+우리*37.9+소리*37.4+모두*30.9+순간*29.8+친구*28.3+내일*27.2+하루*26.7+아무*26.2+머리*25.8\n",
      "\n",
      "Topic # 2\n",
      "그대*152.2+우리*125.4+사랑*118.6+다운*63.1+기억*58.0+아름*55.3+세상*52.6+시간*50.0+오늘*48.0+조금*42.3+아름 다운*40.3+마음*35.8+아무*35.1+위로*31.8+멀리*31.7\n",
      "\n",
      "Topic # 3\n",
      "사랑*155.1+마음*81.3+사람*65.5+노래*57.2+아무*45.7+우리*41.6+지금*39.0+아마*37.3+생각*33.4+사랑 사랑*30.0+아주*29.8+이대*28.5+영원*27.3+시간*27.0+가끔*23.0\n"
     ]
    }
   ],
   "source": [
    "def display_topic_words(lda_model, feature_names, num_top_words):\n",
    "    for topic_idx, topic in enumerate(lda_model.components_):\n",
    "        print('\\nTopic #', topic_idx+1)\n",
    "        \n",
    "        # Topic별로 1000개의 단어들(features)중에서 높은 값 순으로 정렬 후 index를 반환해줌\n",
    "\n",
    "        topic_word_idx = topic.argsort()[::-1] # argsort()는 디폴트가 오름차순, [::-1]로 내림차순 변경\n",
    "        top_idx = topic_word_idx[:num_top_words]\n",
    "        \n",
    "        # CountVectorizer함수 할당시킨 객체에 get_feature_names()로 벡터화시킨 feature(단어들)볼 수 있음\n",
    "        # 이 벡터화시킨 단어들(features)은 숫자-알파벳순으로 정렬되며, 단어들 순서는 fit_transform시키고 난 이후에도 동일!\n",
    "        # '문자열'.join 함수로 특정 문자열 사이에 끼고 문자열 합쳐줄 수 있음.\n",
    "        feature_concat = '+'.join([str(feature_names[i])+'*'+str(round(topic[i], 1)) for i in top_idx])\n",
    "        print(feature_concat)        \n",
    "        \n",
    "feature_names = count_vect.get_feature_names()\n",
    "display_topic_words(lda, feature_names, 15)"
   ]
  },
  {
   "cell_type": "markdown",
   "id": "a16c1b75",
   "metadata": {
    "ExecuteTime": {
     "end_time": "2021-12-04T10:51:18.254640Z",
     "start_time": "2021-12-04T10:51:18.238641Z"
    }
   },
   "source": [
    "## 노래에 대한 각 토픽 확률"
   ]
  },
  {
   "cell_type": "code",
   "execution_count": 18,
   "id": "fe76d9f4",
   "metadata": {
    "ExecuteTime": {
     "end_time": "2021-12-04T19:07:29.595917Z",
     "start_time": "2021-12-04T19:07:29.571695Z"
    }
   },
   "outputs": [],
   "source": [
    "# 주어진 내장 텍스트데이터의 문서이름에는 카테고리가 labeling되어있음. \n",
    "# 따라서, 카테고리가 무엇인지 아는 상태이니까 어떤 문서들이 어떤 토픽들이 높은지 확인해보자.\n",
    "# 그리고 그 토픽들이 각각 무엇을 내용으로 하는지 추측해보자.\n",
    "# 주어진 데이터셋의 filename속성을 이용해서 카테고리값들 가져오기\n",
    "def get_filename_list(latest_100):\n",
    "    filename_lst = []\n",
    "    for file in latest_100.song_name:\n",
    "        filename_temp = file.split('/')[-2:]\n",
    "        filename = '.'.join(filename_temp)\n",
    "        filename_lst.append(filename)\n",
    "    return filename_lst\n",
    " \n",
    "filename_lst = get_filename_list(latest_100)\n",
    "# Dataframe형태로 만들어보기\n",
    "topic_names = ['Topic #'+ str(i) for i in range(1,4)]\n",
    "topic_df = pd.DataFrame(data=doc_topics, columns=topic_names,\n",
    "                       index=filename_lst)\n",
    "# print(topic_df.head(20))"
   ]
  },
  {
   "cell_type": "code",
   "execution_count": 19,
   "id": "ccabc8bc",
   "metadata": {
    "ExecuteTime": {
     "end_time": "2021-12-04T19:07:30.054627Z",
     "start_time": "2021-12-04T19:07:30.012795Z"
    }
   },
   "outputs": [
    {
     "data": {
      "text/html": [
       "<div>\n",
       "<style scoped>\n",
       "    .dataframe tbody tr th:only-of-type {\n",
       "        vertical-align: middle;\n",
       "    }\n",
       "\n",
       "    .dataframe tbody tr th {\n",
       "        vertical-align: top;\n",
       "    }\n",
       "\n",
       "    .dataframe thead th {\n",
       "        text-align: right;\n",
       "    }\n",
       "</style>\n",
       "<table border=\"1\" class=\"dataframe\">\n",
       "  <thead>\n",
       "    <tr style=\"text-align: right;\">\n",
       "      <th></th>\n",
       "      <th>Topic #1</th>\n",
       "      <th>Topic #2</th>\n",
       "      <th>Topic #3</th>\n",
       "    </tr>\n",
       "  </thead>\n",
       "  <tbody>\n",
       "    <tr>\n",
       "      <th>Monster (Korean ver.)</th>\n",
       "      <td>0.489030</td>\n",
       "      <td>0.492733</td>\n",
       "      <td>0.018238</td>\n",
       "    </tr>\n",
       "    <tr>\n",
       "      <th>밤편지</th>\n",
       "      <td>0.009330</td>\n",
       "      <td>0.981344</td>\n",
       "      <td>0.009326</td>\n",
       "    </tr>\n",
       "    <tr>\n",
       "      <th>I Believe (엽기적인 그녀 O.S.T)</th>\n",
       "      <td>0.006816</td>\n",
       "      <td>0.986314</td>\n",
       "      <td>0.006870</td>\n",
       "    </tr>\n",
       "    <tr>\n",
       "      <th>모든 날, 모든 순간 (Every day, Every Moment)</th>\n",
       "      <td>0.982487</td>\n",
       "      <td>0.008958</td>\n",
       "      <td>0.008555</td>\n",
       "    </tr>\n",
       "    <tr>\n",
       "      <th>작은 것들을 위한 시 (Boy With Luv) (Feat. Halsey)</th>\n",
       "      <td>0.983751</td>\n",
       "      <td>0.008104</td>\n",
       "      <td>0.008145</td>\n",
       "    </tr>\n",
       "    <tr>\n",
       "      <th>...</th>\n",
       "      <td>...</td>\n",
       "      <td>...</td>\n",
       "      <td>...</td>\n",
       "    </tr>\n",
       "    <tr>\n",
       "      <th>SCIENTIST</th>\n",
       "      <td>0.985095</td>\n",
       "      <td>0.007320</td>\n",
       "      <td>0.007585</td>\n",
       "    </tr>\n",
       "    <tr>\n",
       "      <th>마지막 날에 (Moving On)</th>\n",
       "      <td>0.006249</td>\n",
       "      <td>0.879620</td>\n",
       "      <td>0.114131</td>\n",
       "    </tr>\n",
       "    <tr>\n",
       "      <th>MAVERICK</th>\n",
       "      <td>0.661576</td>\n",
       "      <td>0.329016</td>\n",
       "      <td>0.009409</td>\n",
       "    </tr>\n",
       "    <tr>\n",
       "      <th>LALISA</th>\n",
       "      <td>0.644196</td>\n",
       "      <td>0.020023</td>\n",
       "      <td>0.335781</td>\n",
       "    </tr>\n",
       "    <tr>\n",
       "      <th>Yours</th>\n",
       "      <td>0.484450</td>\n",
       "      <td>0.500085</td>\n",
       "      <td>0.015465</td>\n",
       "    </tr>\n",
       "  </tbody>\n",
       "</table>\n",
       "<p>200 rows × 3 columns</p>\n",
       "</div>"
      ],
      "text/plain": [
       "                                           Topic #1  Topic #2  Topic #3\n",
       "Monster (Korean ver.)                      0.489030  0.492733  0.018238\n",
       "밤편지                                        0.009330  0.981344  0.009326\n",
       "I Believe (엽기적인 그녀 O.S.T)                  0.006816  0.986314  0.006870\n",
       "모든 날, 모든 순간 (Every day, Every Moment)      0.982487  0.008958  0.008555\n",
       "작은 것들을 위한 시 (Boy With Luv) (Feat. Halsey)  0.983751  0.008104  0.008145\n",
       "...                                             ...       ...       ...\n",
       "SCIENTIST                                  0.985095  0.007320  0.007585\n",
       "마지막 날에 (Moving On)                         0.006249  0.879620  0.114131\n",
       "MAVERICK                                   0.661576  0.329016  0.009409\n",
       "LALISA                                     0.644196  0.020023  0.335781\n",
       "Yours                                      0.484450  0.500085  0.015465\n",
       "\n",
       "[200 rows x 3 columns]"
      ]
     },
     "execution_count": 19,
     "metadata": {},
     "output_type": "execute_result"
    }
   ],
   "source": [
    "topic_df"
   ]
  },
  {
   "cell_type": "markdown",
   "id": "b9c5682c",
   "metadata": {},
   "source": [
    "## Topic # 1\n",
    "**생각*54.1+세상*48.2+시간*48.0+사랑*44.3+지금*40.4**+어디*39.9+우리*37.9+소리*37.4+모두*30.9+순간*29.8+친구*28.3+내일*27.2+하루*26.7+아무*26.2+머리*25.8"
   ]
  },
  {
   "cell_type": "markdown",
   "id": "18c6961b",
   "metadata": {},
   "source": [
    "## Topic # 2\n",
    "**그대*152.2+우리*125.4+사랑*118.6+다운*63.1+기억*58.0**+아름*55.3+세상*52.6+시간*50.0+오늘*48.0+조금*42.3+아름 다운*40.3+마음*35.8+아무*35.1+위로*31.8+멀리*31.7\n"
   ]
  },
  {
   "cell_type": "markdown",
   "id": "6ca83d0d",
   "metadata": {},
   "source": [
    "## Topic # 3\n",
    "**사랑*155.1+마음*81.3+사람*65.5+노래*57.2+아무*45.7**+우리*41.6+지금*39.0+아마*37.3+생각*33.4+사랑 사랑*30.0+아주*29.8+이대*28.5+영원*27.3+시간*27.0+가끔*23.0"
   ]
  },
  {
   "cell_type": "markdown",
   "id": "527ff2d7",
   "metadata": {},
   "source": [
    "---"
   ]
  },
  {
   "cell_type": "markdown",
   "id": "7fb4617e",
   "metadata": {},
   "source": [
    "## 가장 높은 확률의 토픽만 추출"
   ]
  },
  {
   "cell_type": "code",
   "execution_count": 20,
   "id": "d012e3af",
   "metadata": {
    "ExecuteTime": {
     "end_time": "2021-12-04T19:07:30.412713Z",
     "start_time": "2021-12-04T19:07:30.277173Z"
    }
   },
   "outputs": [
    {
     "data": {
      "text/html": [
       "<div>\n",
       "<style scoped>\n",
       "    .dataframe tbody tr th:only-of-type {\n",
       "        vertical-align: middle;\n",
       "    }\n",
       "\n",
       "    .dataframe tbody tr th {\n",
       "        vertical-align: top;\n",
       "    }\n",
       "\n",
       "    .dataframe thead th {\n",
       "        text-align: right;\n",
       "    }\n",
       "</style>\n",
       "<table border=\"1\" class=\"dataframe\">\n",
       "  <thead>\n",
       "    <tr style=\"text-align: right;\">\n",
       "      <th></th>\n",
       "      <th>Doc_Num</th>\n",
       "      <th>Topic</th>\n",
       "      <th>Percentage</th>\n",
       "    </tr>\n",
       "  </thead>\n",
       "  <tbody>\n",
       "    <tr>\n",
       "      <th>0</th>\n",
       "      <td>0</td>\n",
       "      <td>1</td>\n",
       "      <td>0.492733</td>\n",
       "    </tr>\n",
       "    <tr>\n",
       "      <th>1</th>\n",
       "      <td>1</td>\n",
       "      <td>1</td>\n",
       "      <td>0.981344</td>\n",
       "    </tr>\n",
       "    <tr>\n",
       "      <th>2</th>\n",
       "      <td>2</td>\n",
       "      <td>1</td>\n",
       "      <td>0.986314</td>\n",
       "    </tr>\n",
       "    <tr>\n",
       "      <th>3</th>\n",
       "      <td>3</td>\n",
       "      <td>0</td>\n",
       "      <td>0.982487</td>\n",
       "    </tr>\n",
       "    <tr>\n",
       "      <th>4</th>\n",
       "      <td>4</td>\n",
       "      <td>0</td>\n",
       "      <td>0.983751</td>\n",
       "    </tr>\n",
       "  </tbody>\n",
       "</table>\n",
       "</div>"
      ],
      "text/plain": [
       "   Doc_Num  Topic  Percentage\n",
       "0        0      1    0.492733\n",
       "1        1      1    0.981344\n",
       "2        2      1    0.986314\n",
       "3        3      0    0.982487\n",
       "4        4      0    0.983751"
      ]
     },
     "execution_count": 20,
     "metadata": {},
     "output_type": "execute_result"
    }
   ],
   "source": [
    "# 문서별로, 가장 확률이 높은 topic으로 할당해줌\n",
    "\n",
    "doc_topic = lda.transform(ftr_vect)\n",
    "\n",
    "doc_per_topic_list = []\n",
    "for n in range(doc_topic.shape[0]):\n",
    "    topic_most_pr = doc_topic[n].argmax()\n",
    "    topic_pr = doc_topic[n].max()\n",
    "    doc_per_topic_list.append([n, topic_most_pr, topic_pr])\n",
    "    \n",
    "doc_topic_df = pd.DataFrame(doc_per_topic_list, columns=['Doc_Num', 'Topic', 'Percentage'])\n",
    "\n",
    "doc_topic_df.head()"
   ]
  },
  {
   "cell_type": "code",
   "execution_count": 21,
   "id": "3272006d",
   "metadata": {
    "ExecuteTime": {
     "end_time": "2021-12-04T19:07:30.727112Z",
     "start_time": "2021-12-04T19:07:30.716582Z"
    }
   },
   "outputs": [],
   "source": [
    "latest_100.reset_index(drop=True,inplace=True) # 인덱스(iloc)가 일치해야 join 가능"
   ]
  },
  {
   "cell_type": "markdown",
   "id": "eec38abf",
   "metadata": {},
   "source": [
    "## 곡 정보 & 토픽 모델링 결과"
   ]
  },
  {
   "cell_type": "code",
   "execution_count": 22,
   "id": "c8ce5e5c",
   "metadata": {
    "ExecuteTime": {
     "end_time": "2021-12-04T19:07:31.120880Z",
     "start_time": "2021-12-04T19:07:31.077557Z"
    }
   },
   "outputs": [
    {
     "data": {
      "text/html": [
       "<div>\n",
       "<style scoped>\n",
       "    .dataframe tbody tr th:only-of-type {\n",
       "        vertical-align: middle;\n",
       "    }\n",
       "\n",
       "    .dataframe tbody tr th {\n",
       "        vertical-align: top;\n",
       "    }\n",
       "\n",
       "    .dataframe thead th {\n",
       "        text-align: right;\n",
       "    }\n",
       "</style>\n",
       "<table border=\"1\" class=\"dataframe\">\n",
       "  <thead>\n",
       "    <tr style=\"text-align: right;\">\n",
       "      <th></th>\n",
       "      <th>Topic</th>\n",
       "      <th>Percentage</th>\n",
       "      <th>song_id</th>\n",
       "      <th>song_name</th>\n",
       "      <th>artist</th>\n",
       "      <th>album</th>\n",
       "      <th>Like_Count</th>\n",
       "      <th>Lyric</th>\n",
       "      <th>cover_url</th>\n",
       "      <th>tags</th>\n",
       "      <th>year</th>\n",
       "    </tr>\n",
       "  </thead>\n",
       "  <tbody>\n",
       "    <tr>\n",
       "      <th>0</th>\n",
       "      <td>1</td>\n",
       "      <td>0.492733</td>\n",
       "      <td>1764294</td>\n",
       "      <td>Monster (Korean ver.)</td>\n",
       "      <td>드렁큰 타이거(Drunken Tiger)</td>\n",
       "      <td>Feel gHood Muzik - The 8th Wonder</td>\n",
       "      <td>67572</td>\n",
       "      <td>아픈 마음의 상처에 음악의 연고를 발라버려      밤 밤 바바바 밤발라버려 밤 밤...</td>\n",
       "      <td>https://image.bugsm.co.kr/album/images/200/189...</td>\n",
       "      <td>['2020년', '2020년대', '연도별 국내영화OST', '영화', 'OST'...</td>\n",
       "      <td>2020y</td>\n",
       "    </tr>\n",
       "    <tr>\n",
       "      <th>1</th>\n",
       "      <td>1</td>\n",
       "      <td>0.981344</td>\n",
       "      <td>30598121</td>\n",
       "      <td>밤편지</td>\n",
       "      <td>아이유(IU)</td>\n",
       "      <td>밤편지</td>\n",
       "      <td>38694</td>\n",
       "      <td>이 밤 그날의 반딧불을   당신의 창 가까이 보낼게요  음 사랑한다는 말 이에요  ...</td>\n",
       "      <td>https://image.bugsm.co.kr/album/images/200/200...</td>\n",
       "      <td>['국내외', '2020년', '100시리즈', '뮤직기네스', '2020 벅스 종...</td>\n",
       "      <td>2020y</td>\n",
       "    </tr>\n",
       "    <tr>\n",
       "      <th>2</th>\n",
       "      <td>1</td>\n",
       "      <td>0.986314</td>\n",
       "      <td>517714</td>\n",
       "      <td>I Believe (엽기적인 그녀 O.S.T)</td>\n",
       "      <td>신승훈</td>\n",
       "      <td>The Shin Seung Hun</td>\n",
       "      <td>34174</td>\n",
       "      <td>그댄 곁에 없지만   이대로 이별은 아니겠죠     나에게 오는 길은   조금 멀리...</td>\n",
       "      <td>https://image.bugsm.co.kr/album/images/200/158...</td>\n",
       "      <td>['2020년', '2020년대', '연도별 국내영화OST', '영화', 'OST'...</td>\n",
       "      <td>2020y</td>\n",
       "    </tr>\n",
       "    <tr>\n",
       "      <th>3</th>\n",
       "      <td>0</td>\n",
       "      <td>0.982487</td>\n",
       "      <td>30994623</td>\n",
       "      <td>모든 날, 모든 순간 (Every day, Every Moment)</td>\n",
       "      <td>폴킴(Paul Kim)</td>\n",
       "      <td>'키스 먼저 할까요?' OST Part.3</td>\n",
       "      <td>26963</td>\n",
       "      <td>네가 없이 웃을 수 있을까  생각만 해도 눈물이나  힘든 시간 날 지켜준 사람  이...</td>\n",
       "      <td>https://image.bugsm.co.kr/album/images/200/201...</td>\n",
       "      <td>['국내외', '2020년', '100시리즈', '뮤직기네스', '2020 벅스 종...</td>\n",
       "      <td>2020y</td>\n",
       "    </tr>\n",
       "    <tr>\n",
       "      <th>4</th>\n",
       "      <td>0</td>\n",
       "      <td>0.983751</td>\n",
       "      <td>31548668</td>\n",
       "      <td>작은 것들을 위한 시 (Boy With Luv) (Feat. Halsey)</td>\n",
       "      <td>방탄소년단</td>\n",
       "      <td>MAP OF THE SOUL : PERSONA</td>\n",
       "      <td>19884</td>\n",
       "      <td>모든 게 궁금해         뭐가 널 행복하게 하는지          내 머리맡에...</td>\n",
       "      <td>https://image.bugsm.co.kr/album/images/200/202...</td>\n",
       "      <td>['국내외', '2020년', '100시리즈', '뮤직기네스', '2020 벅스 종...</td>\n",
       "      <td>2020y</td>\n",
       "    </tr>\n",
       "  </tbody>\n",
       "</table>\n",
       "</div>"
      ],
      "text/plain": [
       "   Topic  Percentage   song_id                                  song_name  \\\n",
       "0      1    0.492733   1764294                      Monster (Korean ver.)   \n",
       "1      1    0.981344  30598121                                        밤편지   \n",
       "2      1    0.986314    517714                  I Believe (엽기적인 그녀 O.S.T)   \n",
       "3      0    0.982487  30994623      모든 날, 모든 순간 (Every day, Every Moment)   \n",
       "4      0    0.983751  31548668  작은 것들을 위한 시 (Boy With Luv) (Feat. Halsey)   \n",
       "\n",
       "                   artist                              album  Like_Count  \\\n",
       "0  드렁큰 타이거(Drunken Tiger)  Feel gHood Muzik - The 8th Wonder       67572   \n",
       "1                 아이유(IU)                                밤편지       38694   \n",
       "2                     신승훈                 The Shin Seung Hun       34174   \n",
       "3            폴킴(Paul Kim)            '키스 먼저 할까요?' OST Part.3       26963   \n",
       "4                   방탄소년단          MAP OF THE SOUL : PERSONA       19884   \n",
       "\n",
       "                                               Lyric  \\\n",
       "0  아픈 마음의 상처에 음악의 연고를 발라버려      밤 밤 바바바 밤발라버려 밤 밤...   \n",
       "1  이 밤 그날의 반딧불을   당신의 창 가까이 보낼게요  음 사랑한다는 말 이에요  ...   \n",
       "2  그댄 곁에 없지만   이대로 이별은 아니겠죠     나에게 오는 길은   조금 멀리...   \n",
       "3  네가 없이 웃을 수 있을까  생각만 해도 눈물이나  힘든 시간 날 지켜준 사람  이...   \n",
       "4  모든 게 궁금해         뭐가 널 행복하게 하는지          내 머리맡에...   \n",
       "\n",
       "                                           cover_url  \\\n",
       "0  https://image.bugsm.co.kr/album/images/200/189...   \n",
       "1  https://image.bugsm.co.kr/album/images/200/200...   \n",
       "2  https://image.bugsm.co.kr/album/images/200/158...   \n",
       "3  https://image.bugsm.co.kr/album/images/200/201...   \n",
       "4  https://image.bugsm.co.kr/album/images/200/202...   \n",
       "\n",
       "                                                tags   year  \n",
       "0  ['2020년', '2020년대', '연도별 국내영화OST', '영화', 'OST'...  2020y  \n",
       "1  ['국내외', '2020년', '100시리즈', '뮤직기네스', '2020 벅스 종...  2020y  \n",
       "2  ['2020년', '2020년대', '연도별 국내영화OST', '영화', 'OST'...  2020y  \n",
       "3  ['국내외', '2020년', '100시리즈', '뮤직기네스', '2020 벅스 종...  2020y  \n",
       "4  ['국내외', '2020년', '100시리즈', '뮤직기네스', '2020 벅스 종...  2020y  "
      ]
     },
     "execution_count": 22,
     "metadata": {},
     "output_type": "execute_result"
    }
   ],
   "source": [
    "doc_topic_df = doc_topic_df.join(latest_100,lsuffix='index')\n",
    "doc_topic_df.drop('Doc_Num', axis=1,inplace=True)\n",
    "doc_topic_df.head()"
   ]
  },
  {
   "cell_type": "code",
   "execution_count": 23,
   "id": "b58f58aa",
   "metadata": {
    "ExecuteTime": {
     "end_time": "2021-12-04T19:07:31.451196Z",
     "start_time": "2021-12-04T19:07:31.407881Z"
    }
   },
   "outputs": [
    {
     "data": {
      "text/html": [
       "<div>\n",
       "<style scoped>\n",
       "    .dataframe tbody tr th:only-of-type {\n",
       "        vertical-align: middle;\n",
       "    }\n",
       "\n",
       "    .dataframe tbody tr th {\n",
       "        vertical-align: top;\n",
       "    }\n",
       "\n",
       "    .dataframe thead th {\n",
       "        text-align: right;\n",
       "    }\n",
       "</style>\n",
       "<table border=\"1\" class=\"dataframe\">\n",
       "  <thead>\n",
       "    <tr style=\"text-align: right;\">\n",
       "      <th></th>\n",
       "      <th>song_id</th>\n",
       "    </tr>\n",
       "    <tr>\n",
       "      <th>Topic</th>\n",
       "      <th></th>\n",
       "    </tr>\n",
       "  </thead>\n",
       "  <tbody>\n",
       "    <tr>\n",
       "      <th>0</th>\n",
       "      <td>73</td>\n",
       "    </tr>\n",
       "    <tr>\n",
       "      <th>1</th>\n",
       "      <td>74</td>\n",
       "    </tr>\n",
       "    <tr>\n",
       "      <th>2</th>\n",
       "      <td>53</td>\n",
       "    </tr>\n",
       "  </tbody>\n",
       "</table>\n",
       "</div>"
      ],
      "text/plain": [
       "       song_id\n",
       "Topic         \n",
       "0           73\n",
       "1           74\n",
       "2           53"
      ]
     },
     "execution_count": 23,
     "metadata": {},
     "output_type": "execute_result"
    }
   ],
   "source": [
    "# 토픽 별 곡 개수\n",
    "doc_topic_df.groupby('Topic')[['song_id']].count()"
   ]
  },
  {
   "cell_type": "code",
   "execution_count": 27,
   "id": "c5f426c7",
   "metadata": {
    "ExecuteTime": {
     "end_time": "2021-12-04T14:53:19.270614Z",
     "start_time": "2021-12-04T14:53:19.218629Z"
    }
   },
   "outputs": [],
   "source": [
    "doc_topic_df.to_csv('latest_year_100.csv',index=False)"
   ]
  },
  {
   "cell_type": "markdown",
   "id": "16cb81d5",
   "metadata": {},
   "source": [
    "---"
   ]
  },
  {
   "cell_type": "markdown",
   "id": "488bf7a9",
   "metadata": {},
   "source": [
    "## 토픽 모델링 최적 수 선정"
   ]
  },
  {
   "cell_type": "markdown",
   "id": "fb56ddd7",
   "metadata": {},
   "source": [
    "### 평가기준\n",
    "* Perplexity \n",
    "* Topic Coherence"
   ]
  },
  {
   "cell_type": "markdown",
   "id": "e73178bd",
   "metadata": {},
   "source": [
    "## Perplexity\n",
    "perpelxity는 사전적으로는 혼란도 <br>\n",
    "즉 특정 확률 모델이 실제도 관측되는 값을 어마나 잘 예측하는지 의미<br> \n",
    "Perlexity값이 작으면 토픽모델이 문서를 잘 반영된다고 알 수 있음<br> \n",
    "→ 따라서 값이 작아지는 것이 중요\n",
    "\n",
    "* 의미 의미확률 모델이 결과를 얼마나 정확하게 예측하는지.낮을수록 정확하게 예측.\n",
    "* 토픽 모델링 기법이 얼마나 빠르게 수렴하는지 확인할 때,\n",
    "* 확률 모델이 다른 모델에 비해 얼마나 개선되었는지 평가할 때,\n",
    "* 동일 모델 내 파라미터에 따른 성능 평가할 때 주로 사용\n",
    "* 한계 Perplexity가 낮다고 해서, 결과가 해석 용이하다는 의미가 아님"
   ]
  },
  {
   "cell_type": "markdown",
   "id": "9da3eb9a",
   "metadata": {},
   "source": [
    "## Coherence\n",
    "coherence는 주제의 일관성을 측정<br> \n",
    "해당 토픽모델이, 모델링이 잘 되었을수록 한 주제 안에는 의미론적으로 유사한 단어가 많이 모여있음<br> 따라서 상위 단어 간의 유사도를 계산하면 실제로 해당 주제가 의미론적으로 일치하는 단어들끼리 모여있는지 알 수 있음\n",
    "\n",
    "* 토픽이 얼마나 의미론적으로 일관성 있는지.\n",
    "* 높을수록 의미론적 일관성 높음\n",
    "* 해당 모델이 얼마나 실제로 의미있는 결과를 내는지 확인하기 위해 사용\n",
    "* 평가를 진행하기 위해 다른 외부 데이터(코퍼스, 시소러스 등)가 필요"
   ]
  },
  {
   "cell_type": "code",
   "execution_count": 24,
   "id": "6b22d964",
   "metadata": {
    "ExecuteTime": {
     "end_time": "2021-12-04T19:07:32.189087Z",
     "start_time": "2021-12-04T19:07:31.712085Z"
    }
   },
   "outputs": [],
   "source": [
    "from pymongo import MongoClient\n",
    "import pandas as pd\n",
    "import numpy as np\n",
    "import re\n",
    "# import coredottext.nlp as nlp\n",
    "import json\n",
    "\n",
    "from gensim.models.coherencemodel import CoherenceModel\n",
    "from gensim.models.ldamodel import LdaModel\n",
    "from gensim.corpora.dictionary import Dictionary\n",
    "import time"
   ]
  },
  {
   "cell_type": "code",
   "execution_count": 25,
   "id": "191b49f7",
   "metadata": {
    "ExecuteTime": {
     "end_time": "2021-12-04T19:07:32.535838Z",
     "start_time": "2021-12-04T19:07:32.506895Z"
    },
    "scrolled": true
   },
   "outputs": [
    {
     "data": {
      "text/plain": [
       "3308    [마음, 상처, 음악, 연고, 발라, 밤, 밤, 바바바, 밤, 발라, 밤, 밤, 바...\n",
       "3309    [밤, 그날, 반딧불, 당신, 창, 가까이, 음, 사랑, 우리, 첫, 입맞춤, 언제...\n",
       "3310    [곁, 이대, 이별, 조금, 멀리, 뿐, 모두, 지나, 간, 기억, 속, 눈물, 만...\n",
       "3311    [웃, 생각, 눈물, 이나, 시간, 준, 사람, 테, 항상, 고단, 하루, 유일, ...\n",
       "3312    [뭐, 행복, 머리, 저, 하늘, 높이, 그때, 니, 두, 날개, 눈, 전부, 조금...\n",
       "3313    [일부러, 몇, 발자국, 혼자, 옆, 자리, 풍경, 흑백, 거리, 가운데, 뒤, 그...\n",
       "3314    [마음, 당신, 스윽, 길, 외로, 운, 마음, 음, 여운, 사랑, 사랑, 수만, ...\n",
       "3315    [색깔, 성격, 그것, 사이, 사람인, 볼, 예고, 상처, 누가, 털, 어간, 마냥...\n",
       "3316    [만난, 이후, 사소, 변화, 행복, 눈, 부시, 빛, 아침, 눈, 하루, 식탁, ...\n",
       "Name: Lyric, dtype: object"
      ]
     },
     "execution_count": 25,
     "metadata": {},
     "output_type": "execute_result"
    }
   ],
   "source": [
    "word_list[:9]"
   ]
  },
  {
   "cell_type": "code",
   "execution_count": 28,
   "id": "af96fa4b",
   "metadata": {
    "ExecuteTime": {
     "end_time": "2021-12-04T19:07:52.483810Z",
     "start_time": "2021-12-04T19:07:52.422973Z"
    }
   },
   "outputs": [],
   "source": [
    "from gensim import corpora\n",
    "\n",
    "# 각 단어를 (단어id, 나온횟수) 로 바꾸는 작업\n",
    "dictionary = corpora.Dictionary(word_list)\n",
    "corpus = [dictionary.doc2bow(text) for text in word_list]"
   ]
  },
  {
   "cell_type": "code",
   "execution_count": 29,
   "id": "d56adba4",
   "metadata": {
    "ExecuteTime": {
     "end_time": "2021-12-04T19:07:53.285457Z",
     "start_time": "2021-12-04T19:07:53.262114Z"
    }
   },
   "outputs": [
    {
     "name": "stdout",
     "output_type": "stream",
     "text": [
      "[(25, 2), (35, 1), (61, 2), (62, 1), (63, 1), (64, 1), (65, 1), (66, 2), (67, 3), (68, 2), (69, 1), (70, 1), (71, 1), (72, 2), (73, 1), (74, 1), (75, 2), (76, 2), (77, 2), (78, 2), (79, 3), (80, 2), (81, 1), (82, 1), (83, 1), (84, 2), (85, 4), (86, 2), (87, 3), (88, 1), (89, 1), (90, 2), (91, 1), (92, 2), (93, 1), (94, 2), (95, 1)]\n",
      "2820\n",
      "관심\n"
     ]
    }
   ],
   "source": [
    "# corpus[i] : i번째 노래에서 나온단어에서 (단어id, 나온횟수)들을 저장한 list\n",
    "print(corpus[1]) \n",
    "\n",
    "# corpus 사전 단어수\n",
    "print(len(dictionary))\n",
    "\n",
    "# dictionary[j] : id값을 j를 가진 단어가 무엇인지 확인\n",
    "print(dictionary[1111])"
   ]
  },
  {
   "cell_type": "markdown",
   "id": "49b30591",
   "metadata": {},
   "source": [
    "---"
   ]
  },
  {
   "cell_type": "code",
   "execution_count": 30,
   "id": "d31404c5",
   "metadata": {
    "ExecuteTime": {
     "end_time": "2021-12-04T19:08:00.499215Z",
     "start_time": "2021-12-04T19:07:56.010786Z"
    }
   },
   "outputs": [
    {
     "name": "stdout",
     "output_type": "stream",
     "text": [
      "Wall time: 4.47 s\n"
     ]
    }
   ],
   "source": [
    "# 파라미터를 튜닝\n",
    "num_topics = 10\n",
    "chunksize = 2000\n",
    "passes = 20\n",
    "iterations = 400\n",
    "eval_every = None\n",
    "\n",
    "\n",
    "%time model = LdaModel(corpus = corpus, id2word = dictionary, chunksize = chunksize,\\\n",
    "                       alpha =\"auto\", eta=\"auto\",\\\n",
    "                       iterations = iterations, num_topics = num_topics,\\\n",
    "                       passes = passes, eval_every = eval_every)"
   ]
  },
  {
   "cell_type": "code",
   "execution_count": 31,
   "id": "2fcde446",
   "metadata": {
    "ExecuteTime": {
     "end_time": "2021-12-04T19:08:01.306841Z",
     "start_time": "2021-12-04T19:08:00.962575Z"
    }
   },
   "outputs": [
    {
     "name": "stdout",
     "output_type": "stream",
     "text": [
      "Cpherence -5.587936497037971\n",
      "\n",
      "Perplexity:  -6.960112613530565\n"
     ]
    }
   ],
   "source": [
    "cm = CoherenceModel(model=model, corpus=corpus, coherence='u_mass')\n",
    "coherence = cm.get_coherence()\n",
    "print(\"Cpherence\",coherence)\n",
    "print('\\nPerplexity: ', model.log_perplexity(corpus))"
   ]
  },
  {
   "cell_type": "markdown",
   "id": "988b9558",
   "metadata": {},
   "source": [
    "---"
   ]
  },
  {
   "cell_type": "markdown",
   "id": "4bc38cdf",
   "metadata": {},
   "source": [
    "## 최적의 토픽 개수"
   ]
  },
  {
   "cell_type": "code",
   "execution_count": 33,
   "id": "5ea9418b",
   "metadata": {
    "ExecuteTime": {
     "end_time": "2021-12-04T19:08:12.680972Z",
     "start_time": "2021-12-04T19:08:12.674508Z"
    }
   },
   "outputs": [],
   "source": [
    "import gensim\n",
    "from gensim.models import CoherenceModel"
   ]
  },
  {
   "cell_type": "code",
   "execution_count": 34,
   "id": "2991eb5e",
   "metadata": {
    "ExecuteTime": {
     "end_time": "2021-12-04T19:08:32.600399Z",
     "start_time": "2021-12-04T19:08:14.610183Z"
    }
   },
   "outputs": [],
   "source": [
    "perplexity_values = []\n",
    "for i in range(2,15):\n",
    "    ldamodel = gensim.models.ldamodel.LdaModel(corpus,num_topics=i, id2word=dictionary)\n",
    "    perplexity_values.append(ldamodel.log_perplexity(corpus))"
   ]
  },
  {
   "cell_type": "code",
   "execution_count": 35,
   "id": "435bb388",
   "metadata": {
    "ExecuteTime": {
     "end_time": "2021-12-04T19:08:33.353052Z",
     "start_time": "2021-12-04T19:08:32.918226Z"
    }
   },
   "outputs": [
    {
     "data": {
      "image/png": "[encoded data removed]",
      "text/plain": [
       "<Figure size 432x288 with 1 Axes>"
      ]
     },
     "metadata": {
      "needs_background": "light"
     },
     "output_type": "display_data"
    }
   ],
   "source": [
    "x = range(2,15)\n",
    "plt.plot(x,perplexity_values)\n",
    "plt.xlabel('number of topics')\n",
    "plt.ylabel('perplexity score')\n",
    "plt.show()"
   ]
  },
  {
   "cell_type": "code",
   "execution_count": 36,
   "id": "a1bcfdda",
   "metadata": {
    "ExecuteTime": {
     "end_time": "2021-12-04T19:08:33.767147Z",
     "start_time": "2021-12-04T19:08:33.754056Z"
    }
   },
   "outputs": [
    {
     "data": {
      "text/plain": [
       "[-7.177821682701315,\n",
       " -7.221124637366521,\n",
       " -7.296870563312785,\n",
       " -7.36660946110831,\n",
       " -7.405880974284963,\n",
       " -7.396557266077146,\n",
       " -7.542730139453914,\n",
       " -7.558726748538129,\n",
       " -7.609768852096498,\n",
       " -7.6921446532670466,\n",
       " -7.65368280631098,\n",
       " -7.765627581819251,\n",
       " -7.784124008237182]"
      ]
     },
     "execution_count": 36,
     "metadata": {},
     "output_type": "execute_result"
    }
   ],
   "source": [
    "perplexity_values"
   ]
  },
  {
   "cell_type": "code",
   "execution_count": 37,
   "id": "8d3b66f4",
   "metadata": {
    "ExecuteTime": {
     "end_time": "2021-12-04T19:09:15.074777Z",
     "start_time": "2021-12-04T19:08:34.135052Z"
    },
    "scrolled": false
   },
   "outputs": [
    {
     "name": "stderr",
     "output_type": "stream",
     "text": [
      "100%|██████████████████████████████████████████████████████████████████████████████████| 13/13 [00:40<00:00,  3.14s/it]\n"
     ]
    },
    {
     "data": {
      "image/png": "[encoded data removed]",
      "text/plain": [
       "<Figure size 432x288 with 1 Axes>"
      ]
     },
     "metadata": {
      "needs_background": "light"
     },
     "output_type": "display_data"
    }
   ],
   "source": [
    "coherence_values=[]\n",
    "for i in tqdm(range(2,15)):\n",
    "    ldamodel = LdaModel(corpus, id2word=dictionary, num_topics=i, iterations=400)\n",
    "    #ldamodel=gensim.models.ldamodel.LdaModel(corpus, num_topics=i, id2word=dictionary)\n",
    "    #ldamodel = models.ldamodel.LdaModel(corpus, num_topics=i, id2word=dictionary, random_state=99)\n",
    "    #coherence_model_lda=CoherenceModel(model=ldamodel, texts=corpus, dictionary=dictionary, topn=10)\n",
    "    coherence_model_lda=CoherenceModel(model=ldamodel, corpus=corpus, coherence='u_mass')\n",
    "    coherence_lda=coherence_model_lda.get_coherence()\n",
    "    coherence_values.append(coherence_lda)\n",
    "    \n",
    "x=range(2,15)\n",
    "plt.plot(x, coherence_values)\n",
    "plt.xlabel(\"number of topics\")\n",
    "plt.ylabel(\"coherence score\")\n",
    "plt.show()\n"
   ]
  },
  {
   "cell_type": "code",
   "execution_count": 38,
   "id": "357b7ec7",
   "metadata": {
    "ExecuteTime": {
     "end_time": "2021-12-04T19:09:30.231877Z",
     "start_time": "2021-12-04T19:09:30.220702Z"
    },
    "scrolled": true
   },
   "outputs": [
    {
     "data": {
      "text/plain": [
       "[-1.4987958678918707,\n",
       " -1.8231244726581135,\n",
       " -2.598287088957785,\n",
       " -2.7253769456030055,\n",
       " -3.7448858099553752,\n",
       " -3.676697399043856,\n",
       " -3.9706537585710824,\n",
       " -4.425162595853604,\n",
       " -4.6074508513652095,\n",
       " -4.6701797108592755,\n",
       " -4.70319855981947,\n",
       " -5.154177453204701,\n",
       " -4.908557911557701]"
      ]
     },
     "execution_count": 38,
     "metadata": {},
     "output_type": "execute_result"
    }
   ],
   "source": [
    "coherence_values"
   ]
  },
  {
   "cell_type": "code",
   "execution_count": null,
   "id": "14841e48",
   "metadata": {},
   "outputs": [],
   "source": []
  }
 ],
 "metadata": {
  "hide_input": false,
  "kernelspec": {
   "display_name": "Python 3",
   "language": "python",
   "name": "python3"
  },
  "language_info": {
   "codemirror_mode": {
    "name": "ipython",
    "version": 3
   },
   "file_extension": ".py",
   "mimetype": "text/x-python",
   "name": "python",
   "nbconvert_exporter": "python",
   "pygments_lexer": "ipython3",
   "version": "3.8.8"
  },
  "toc": {
   "base_numbering": 1,
   "nav_menu": {},
   "number_sections": true,
   "sideBar": true,
   "skip_h1_title": false,
   "title_cell": "Table of Contents",
   "title_sidebar": "Contents",
   "toc_cell": false,
   "toc_position": {},
   "toc_section_display": true,
   "toc_window_display": false
  },
  "varInspector": {
   "cols": {
    "lenName": 16,
    "lenType": 16,
    "lenVar": 40
   },
   "kernels_config": {
    "python": {
     "delete_cmd_postfix": "",
     "delete_cmd_prefix": "del ",
     "library": "var_list.py",
     "varRefreshCmd": "print(var_dic_list())"
    },
    "r": {
     "delete_cmd_postfix": ") ",
     "delete_cmd_prefix": "rm(",
     "library": "var_list.r",
     "varRefreshCmd": "cat(var_dic_list()) "
    }
   },
   "types_to_exclude": [
    "module",
    "function",
    "builtin_function_or_method",
    "instance",
    "_Feature"
   ],
   "window_display": false
  }
 },
 "nbformat": 4,
 "nbformat_minor": 5
}
