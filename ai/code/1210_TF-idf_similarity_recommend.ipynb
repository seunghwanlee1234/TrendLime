{
 "cells": [
  {
   "cell_type": "code",
   "execution_count": 208,
   "id": "14775fd5",
   "metadata": {
    "ExecuteTime": {
     "end_time": "2021-11-25T19:31:28.901073Z",
     "start_time": "2021-11-25T19:31:28.889118Z"
    }
   },
   "outputs": [
    {
     "ename": "AttributeError",
     "evalue": "module 'tweepy' has no attribute 'StreamListener'",
     "output_type": "error",
     "traceback": [
      "\u001b[0;31m\u001b[0m",
      "\u001b[0;31mAttributeError\u001b[0mTraceback (most recent call last)",
      "\u001b[0;32m<ipython-input-208-2bfdea2893a1>\u001b[0m in \u001b[0;36m<module>\u001b[0;34m\u001b[0m\n\u001b[1;32m      3\u001b[0m \u001b[0;32mfrom\u001b[0m \u001b[0mbs4\u001b[0m \u001b[0;32mimport\u001b[0m \u001b[0mBeautifulSoup\u001b[0m\u001b[0;34m\u001b[0m\u001b[0;34m\u001b[0m\u001b[0m\n\u001b[1;32m      4\u001b[0m \u001b[0;32mimport\u001b[0m \u001b[0mpandas\u001b[0m \u001b[0;32mas\u001b[0m \u001b[0mpd\u001b[0m\u001b[0;34m\u001b[0m\u001b[0;34m\u001b[0m\u001b[0m\n\u001b[0;32m----> 5\u001b[0;31m \u001b[0;32mfrom\u001b[0m \u001b[0mkonlpy\u001b[0m\u001b[0;34m.\u001b[0m\u001b[0mtag\u001b[0m \u001b[0;32mimport\u001b[0m \u001b[0mOkt\u001b[0m\u001b[0;34m\u001b[0m\u001b[0;34m\u001b[0m\u001b[0m\n\u001b[0m\u001b[1;32m      6\u001b[0m \u001b[0mokt\u001b[0m \u001b[0;34m=\u001b[0m \u001b[0mOkt\u001b[0m\u001b[0;34m(\u001b[0m\u001b[0;34m)\u001b[0m\u001b[0;34m\u001b[0m\u001b[0;34m\u001b[0m\u001b[0m\n\u001b[1;32m      7\u001b[0m \u001b[0;32mimport\u001b[0m \u001b[0mtensorflow\u001b[0m \u001b[0;32mas\u001b[0m \u001b[0mtf\u001b[0m\u001b[0;34m\u001b[0m\u001b[0;34m\u001b[0m\u001b[0m\n",
      "\u001b[0;32m/usr/local/lib/python3.8/dist-packages/konlpy/__init__.py\u001b[0m in \u001b[0;36m<module>\u001b[0;34m\u001b[0m\n\u001b[1;32m     10\u001b[0m \u001b[0;34m\u001b[0m\u001b[0m\n\u001b[1;32m     11\u001b[0m \u001b[0;32mfrom\u001b[0m \u001b[0mkonlpy\u001b[0m\u001b[0;34m.\u001b[0m\u001b[0mjvm\u001b[0m \u001b[0;32mimport\u001b[0m \u001b[0minit_jvm\u001b[0m\u001b[0;34m\u001b[0m\u001b[0;34m\u001b[0m\u001b[0m\n\u001b[0;32m---> 12\u001b[0;31m from konlpy import (\n\u001b[0m\u001b[1;32m     13\u001b[0m     \u001b[0mcorpus\u001b[0m\u001b[0;34m,\u001b[0m\u001b[0;34m\u001b[0m\u001b[0;34m\u001b[0m\u001b[0m\n\u001b[1;32m     14\u001b[0m     \u001b[0mdata\u001b[0m\u001b[0;34m,\u001b[0m\u001b[0;34m\u001b[0m\u001b[0;34m\u001b[0m\u001b[0m\n",
      "\u001b[0;32m/usr/local/lib/python3.8/dist-packages/konlpy/stream/__init__.py\u001b[0m in \u001b[0;36m<module>\u001b[0;34m\u001b[0m\n\u001b[1;32m      6\u001b[0m \u001b[0;34m\u001b[0m\u001b[0m\n\u001b[1;32m      7\u001b[0m \u001b[0;32mfrom\u001b[0m \u001b[0mkonlpy\u001b[0m\u001b[0;34m.\u001b[0m\u001b[0mstream\u001b[0m\u001b[0;34m.\u001b[0m\u001b[0mbase\u001b[0m \u001b[0;32mimport\u001b[0m \u001b[0mBaseStreamer\u001b[0m\u001b[0;34m,\u001b[0m \u001b[0mKonlpyStreamerError\u001b[0m\u001b[0;34m\u001b[0m\u001b[0;34m\u001b[0m\u001b[0m\n\u001b[0;32m----> 8\u001b[0;31m \u001b[0;32mfrom\u001b[0m \u001b[0mkonlpy\u001b[0m\u001b[0;34m.\u001b[0m\u001b[0mstream\u001b[0m\u001b[0;34m.\u001b[0m\u001b[0mtwitter\u001b[0m \u001b[0;32mimport\u001b[0m \u001b[0mTwitterStreamer\u001b[0m\u001b[0;34m\u001b[0m\u001b[0;34m\u001b[0m\u001b[0m\n\u001b[0m\u001b[1;32m      9\u001b[0m \u001b[0;32mfrom\u001b[0m \u001b[0mkonlpy\u001b[0m\u001b[0;34m.\u001b[0m\u001b[0mstream\u001b[0m\u001b[0;34m.\u001b[0m\u001b[0mnaver\u001b[0m \u001b[0;32mimport\u001b[0m \u001b[0mNaverStreamer\u001b[0m\u001b[0;34m\u001b[0m\u001b[0;34m\u001b[0m\u001b[0m\n\u001b[1;32m     10\u001b[0m \u001b[0;32mfrom\u001b[0m \u001b[0mkonlpy\u001b[0m\u001b[0;34m.\u001b[0m\u001b[0mstream\u001b[0m\u001b[0;34m.\u001b[0m\u001b[0mdcinside\u001b[0m \u001b[0;32mimport\u001b[0m \u001b[0mDCInsideStreamer\u001b[0m\u001b[0;34m\u001b[0m\u001b[0;34m\u001b[0m\u001b[0m\n",
      "\u001b[0;32m/usr/local/lib/python3.8/dist-packages/konlpy/stream/twitter.py\u001b[0m in \u001b[0;36m<module>\u001b[0;34m\u001b[0m\n\u001b[1;32m     15\u001b[0m \u001b[0;34m\u001b[0m\u001b[0m\n\u001b[1;32m     16\u001b[0m \u001b[0;34m\u001b[0m\u001b[0m\n\u001b[0;32m---> 17\u001b[0;31m \u001b[0;32mclass\u001b[0m \u001b[0mCorpusListener\u001b[0m\u001b[0;34m(\u001b[0m\u001b[0mtweepy\u001b[0m\u001b[0;34m.\u001b[0m\u001b[0mStreamListener\u001b[0m\u001b[0;34m)\u001b[0m\u001b[0;34m:\u001b[0m\u001b[0;34m\u001b[0m\u001b[0;34m\u001b[0m\u001b[0m\n\u001b[0m\u001b[1;32m     18\u001b[0m     \u001b[0;32mdef\u001b[0m \u001b[0m__init__\u001b[0m\u001b[0;34m(\u001b[0m\u001b[0mself\u001b[0m\u001b[0;34m,\u001b[0m \u001b[0moptions\u001b[0m\u001b[0;34m,\u001b[0m \u001b[0mdirname\u001b[0m\u001b[0;34m,\u001b[0m \u001b[0mword_list\u001b[0m\u001b[0;34m)\u001b[0m\u001b[0;34m:\u001b[0m\u001b[0;34m\u001b[0m\u001b[0;34m\u001b[0m\u001b[0m\n\u001b[1;32m     19\u001b[0m         \"\"\"CorpusListener is a tweepy listener to listen on filtered list of words.\n",
      "\u001b[0;31mAttributeError\u001b[0m: module 'tweepy' has no attribute 'StreamListener'"
     ]
    }
   ],
   "source": [
    "import re\n",
    "import requests\n",
    "from bs4 import BeautifulSoup\n",
    "import pandas as pd\n",
    "from konlpy.tag import Okt  \n",
    "okt = Okt() \n",
    "import tensorflow as tf\n",
    "import numpy as np\n",
    "from collections import Counter\n",
    "\n",
    "from wordcloud import WordCloud\n",
    "import matplotlib.pyplot as plt\n",
    "\n",
    "\n",
    "import urllib.request\n",
    "from tqdm import tqdm\n",
    "from tensorflow.keras.preprocessing.text import Tokenizer\n",
    "from tensorflow.keras.preprocessing.sequence import pad_sequences\n",
    "from sklearn.model_selection import train_test_split\n",
    "from sklearn.feature_extraction.text import CountVectorizer"
   ]
  },
  {
   "cell_type": "code",
   "execution_count": 39,
   "id": "7c52ac0d",
   "metadata": {
    "ExecuteTime": {
     "end_time": "2021-11-25T19:31:29.987978Z",
     "start_time": "2021-11-25T19:31:29.977979Z"
    }
   },
   "outputs": [],
   "source": [
    "import matplotlib.pyplot as plt \n",
    "%matplotlib inline\n",
    "from string import punctuation\n",
    "import warnings\n",
    "warnings.filterwarnings('ignore')"
   ]
  },
  {
   "cell_type": "code",
   "execution_count": 41,
   "id": "4e3a18b4",
   "metadata": {
    "ExecuteTime": {
     "end_time": "2021-11-25T19:31:31.867588Z",
     "start_time": "2021-11-25T19:31:31.115596Z"
    }
   },
   "outputs": [],
   "source": [
    "total_playlist = pd.read_csv('total_playlist.csv')"
   ]
  },
  {
   "cell_type": "code",
   "execution_count": 42,
   "id": "cc110fe0",
   "metadata": {
    "ExecuteTime": {
     "end_time": "2021-11-25T19:31:33.944891Z",
     "start_time": "2021-11-25T19:31:33.894787Z"
    }
   },
   "outputs": [
    {
     "name": "stdout",
     "output_type": "stream",
     "text": [
      "<class 'pandas.core.frame.DataFrame'>\n",
      "RangeIndex: 27927 entries, 0 to 27926\n",
      "Data columns (total 8 columns):\n",
      " #   Column      Non-Null Count  Dtype \n",
      "---  ------      --------------  ----- \n",
      " 0   song_id     27927 non-null  int64 \n",
      " 1   song_name   27927 non-null  object\n",
      " 2   artist      27927 non-null  object\n",
      " 3   album       27926 non-null  object\n",
      " 4   Like_Count  27918 non-null  object\n",
      " 5   Lyric       27894 non-null  object\n",
      " 6   cover_url   27906 non-null  object\n",
      " 7   tags        27906 non-null  object\n",
      "dtypes: int64(1), object(7)\n",
      "memory usage: 1.7+ MB\n"
     ]
    }
   ],
   "source": [
    "total_playlist.info()"
   ]
  },
  {
   "cell_type": "code",
   "execution_count": 43,
   "id": "4907b0c4",
   "metadata": {
    "ExecuteTime": {
     "end_time": "2021-11-25T19:31:50.279102Z",
     "start_time": "2021-11-25T19:31:50.272094Z"
    }
   },
   "outputs": [],
   "source": [
    "# 불용어 단어 (가사 빈도수 높은 + 감정분류와 무관한 단어 추가)\n",
    "stop_w = ['all','이렇게','네가','있는','니가','없는','너의','너무','그런',\n",
    "          'oh','whoo','tuesday','내가','너를','나를','we','this','the','그렇게',\n",
    "          'so','am','baby','and','can','you','much','me','for','go','in',\n",
    "          '은', '는', '이', '가', '하','하자','토록',\n",
    "          'know','no','of','let','my','수','너','내','나','그','난','봐','돼','건','모든',\n",
    "          '날','널','수','것','못','말','넌','젠','하나','정말','알','여기','우리','그대','다시',\n",
    "          '때','아','더','게','또','채','일','걸','누구','나는','너는','라면','같아','있어','지금',\n",
    "          '의','가','보','들','좀','잘','걍','과','도','를','으로','우린',\n",
    "          '자','에','와','한','하다','네','있다','나의','해','다','내게','왜','거야',']','[']"
   ]
  },
  {
   "cell_type": "code",
   "execution_count": 44,
   "id": "5370e735",
   "metadata": {
    "ExecuteTime": {
     "end_time": "2021-11-25T19:34:46.515376Z",
     "start_time": "2021-11-25T19:34:39.157130Z"
    }
   },
   "outputs": [],
   "source": [
    "total_playlist['Lyric'] = total_playlist['Lyric'].apply(lambda x: \" \".join(x.lower() for x in str(x).split() if x not in stop_w))\n",
    "\n"
   ]
  },
  {
   "cell_type": "code",
   "execution_count": 45,
   "id": "41b02a4d",
   "metadata": {
    "ExecuteTime": {
     "start_time": "2021-11-25T19:34:52.964Z"
    }
   },
   "outputs": [
    {
     "data": {
      "text/html": [
       "<div>\n",
       "<style scoped>\n",
       "    .dataframe tbody tr th:only-of-type {\n",
       "        vertical-align: middle;\n",
       "    }\n",
       "\n",
       "    .dataframe tbody tr th {\n",
       "        vertical-align: top;\n",
       "    }\n",
       "\n",
       "    .dataframe thead th {\n",
       "        text-align: right;\n",
       "    }\n",
       "</style>\n",
       "<table border=\"1\" class=\"dataframe\">\n",
       "  <thead>\n",
       "    <tr style=\"text-align: right;\">\n",
       "      <th></th>\n",
       "      <th>song_id</th>\n",
       "      <th>song_name</th>\n",
       "      <th>artist</th>\n",
       "      <th>album</th>\n",
       "      <th>Like_Count</th>\n",
       "      <th>Lyric</th>\n",
       "      <th>cover_url</th>\n",
       "      <th>tags</th>\n",
       "      <th>words</th>\n",
       "    </tr>\n",
       "  </thead>\n",
       "  <tbody>\n",
       "    <tr>\n",
       "      <th>0</th>\n",
       "      <td>30392514</td>\n",
       "      <td>bath</td>\n",
       "      <td>offonoff (오프온오프)</td>\n",
       "      <td>bath</td>\n",
       "      <td>[5,781]</td>\n",
       "      <td>거긴 날씨가 어때 하늘과 밤엔 자꾸 떠오르는 기억이 계속 말을 건네네 우리는 함께일...</td>\n",
       "      <td>https://image.bugsm.co.kr/album/images/200/200...</td>\n",
       "      <td>['국내', '힙합', '알앤비', '밤/새벽', '감각적인', '작업실', '몽환...</td>\n",
       "      <td>[거긴, 날씨가, 어때, 하늘과, 밤엔, 자꾸, 떠오르는, 기억이, 계속, 말을, ...</td>\n",
       "    </tr>\n",
       "    <tr>\n",
       "      <th>1</th>\n",
       "      <td>30346372</td>\n",
       "      <td>Belief (millic remix)</td>\n",
       "      <td>millic(밀릭)</td>\n",
       "      <td>Belief</td>\n",
       "      <td>[1,510]</td>\n",
       "      <td>our belief each other written on a page was to...</td>\n",
       "      <td>https://image.bugsm.co.kr/album/images/200/200...</td>\n",
       "      <td>['국내', '힙합', '알앤비', '밤/새벽', '감각적인', '작업실', '몽환...</td>\n",
       "      <td>[our, belief, each, other, written, on, a, pag...</td>\n",
       "    </tr>\n",
       "    <tr>\n",
       "      <th>2</th>\n",
       "      <td>30061516</td>\n",
       "      <td>[권리없는 곡]</td>\n",
       "      <td>아파치(Apachi)</td>\n",
       "      <td>Toujours Youth Remix Album</td>\n",
       "      <td>[54]</td>\n",
       "      <td>겁이 아무 말이나 들려줘 girl i'm tired lgbt next to 순전히 ...</td>\n",
       "      <td>https://image.bugsm.co.kr/album/images/200/200...</td>\n",
       "      <td>['국내', '힙합', '알앤비', '밤/새벽', '감각적인', '작업실', '몽환...</td>\n",
       "      <td>[겁이, 아무, 말이나, 들려줘, girl, i'm, tired, lgbt, nex...</td>\n",
       "    </tr>\n",
       "    <tr>\n",
       "      <th>3</th>\n",
       "      <td>30506160</td>\n",
       "      <td>Every</td>\n",
       "      <td>민제 (Minje)</td>\n",
       "      <td>Boy II Man</td>\n",
       "      <td>[317]</td>\n",
       "      <td>i don't what? every time everything do everyth...</td>\n",
       "      <td>https://image.bugsm.co.kr/album/images/200/200...</td>\n",
       "      <td>['국내', '힙합', '알앤비', '밤/새벽', '감각적인', '작업실', '몽환...</td>\n",
       "      <td>[i, don't, what?, every, time, everything, do,...</td>\n",
       "    </tr>\n",
       "    <tr>\n",
       "      <th>4</th>\n",
       "      <td>3988024</td>\n",
       "      <td>On &amp; On (Prod. By The Quiett)</td>\n",
       "      <td>육지담</td>\n",
       "      <td>언프리티 랩스타 Semi Final 2</td>\n",
       "      <td>[581]</td>\n",
       "      <td>첨부터 길을 잃었던 아이 세상과 마주하기에 어렸던 나이 너넨 모르겠지 tv에 웃는 ...</td>\n",
       "      <td>https://image.bugsm.co.kr/album/images/200/493...</td>\n",
       "      <td>['국내', '힙합', '알앤비', '밤/새벽', '감각적인', '작업실', '몽환...</td>\n",
       "      <td>[첨부터, 길을, 잃었던, 아이, 세상과, 마주하기에, 어렸던, 나이, 너넨, 모르...</td>\n",
       "    </tr>\n",
       "  </tbody>\n",
       "</table>\n",
       "</div>"
      ],
      "text/plain": [
       "    song_id                      song_name            artist  \\\n",
       "0  30392514                           bath  offonoff (오프온오프)   \n",
       "1  30346372          Belief (millic remix)        millic(밀릭)   \n",
       "2  30061516                       [권리없는 곡]       아파치(Apachi)   \n",
       "3  30506160                          Every        민제 (Minje)   \n",
       "4   3988024  On & On (Prod. By The Quiett)               육지담   \n",
       "\n",
       "                        album Like_Count  \\\n",
       "0                        bath    [5,781]   \n",
       "1                      Belief    [1,510]   \n",
       "2  Toujours Youth Remix Album       [54]   \n",
       "3                  Boy II Man      [317]   \n",
       "4       언프리티 랩스타 Semi Final 2      [581]   \n",
       "\n",
       "                                               Lyric  \\\n",
       "0  거긴 날씨가 어때 하늘과 밤엔 자꾸 떠오르는 기억이 계속 말을 건네네 우리는 함께일...   \n",
       "1  our belief each other written on a page was to...   \n",
       "2  겁이 아무 말이나 들려줘 girl i'm tired lgbt next to 순전히 ...   \n",
       "3  i don't what? every time everything do everyth...   \n",
       "4  첨부터 길을 잃었던 아이 세상과 마주하기에 어렸던 나이 너넨 모르겠지 tv에 웃는 ...   \n",
       "\n",
       "                                           cover_url  \\\n",
       "0  https://image.bugsm.co.kr/album/images/200/200...   \n",
       "1  https://image.bugsm.co.kr/album/images/200/200...   \n",
       "2  https://image.bugsm.co.kr/album/images/200/200...   \n",
       "3  https://image.bugsm.co.kr/album/images/200/200...   \n",
       "4  https://image.bugsm.co.kr/album/images/200/493...   \n",
       "\n",
       "                                                tags  \\\n",
       "0  ['국내', '힙합', '알앤비', '밤/새벽', '감각적인', '작업실', '몽환...   \n",
       "1  ['국내', '힙합', '알앤비', '밤/새벽', '감각적인', '작업실', '몽환...   \n",
       "2  ['국내', '힙합', '알앤비', '밤/새벽', '감각적인', '작업실', '몽환...   \n",
       "3  ['국내', '힙합', '알앤비', '밤/새벽', '감각적인', '작업실', '몽환...   \n",
       "4  ['국내', '힙합', '알앤비', '밤/새벽', '감각적인', '작업실', '몽환...   \n",
       "\n",
       "                                               words  \n",
       "0  [거긴, 날씨가, 어때, 하늘과, 밤엔, 자꾸, 떠오르는, 기억이, 계속, 말을, ...  \n",
       "1  [our, belief, each, other, written, on, a, pag...  \n",
       "2  [겁이, 아무, 말이나, 들려줘, girl, i'm, tired, lgbt, nex...  \n",
       "3  [i, don't, what?, every, time, everything, do,...  \n",
       "4  [첨부터, 길을, 잃었던, 아이, 세상과, 마주하기에, 어렸던, 나이, 너넨, 모르...  "
      ]
     },
     "execution_count": 45,
     "metadata": {},
     "output_type": "execute_result"
    }
   ],
   "source": [
    "words = []\n",
    "for word in total_playlist['Lyric'].tolist():\n",
    "    words.append(word.split())\n",
    "    words = [each_word for each_word in words if each_word not in stop_w]\n",
    "#create the new column with the information of words lists\n",
    "total_playlist['words'] = words\n",
    "total_playlist.head()"
   ]
  },
  {
   "cell_type": "code",
   "execution_count": 46,
   "id": "4108e210",
   "metadata": {},
   "outputs": [],
   "source": [
    "total_playlist.to_csv('total_playlist_word.csv',index=False)"
   ]
  },
  {
   "cell_type": "code",
   "execution_count": 47,
   "id": "80f5c47d",
   "metadata": {},
   "outputs": [
    {
     "name": "stdout",
     "output_type": "stream",
     "text": [
      "song_id        0\n",
      "song_name      0\n",
      "artist         0\n",
      "album          1\n",
      "Like_Count     9\n",
      "Lyric          0\n",
      "cover_url     21\n",
      "tags          21\n",
      "words          0\n",
      "dtype: int64\n"
     ]
    }
   ],
   "source": [
    "print(total_playlist.isnull().sum())"
   ]
  },
  {
   "cell_type": "code",
   "execution_count": 48,
   "id": "a528a1af",
   "metadata": {},
   "outputs": [
    {
     "data": {
      "text/html": [
       "<div>\n",
       "<style scoped>\n",
       "    .dataframe tbody tr th:only-of-type {\n",
       "        vertical-align: middle;\n",
       "    }\n",
       "\n",
       "    .dataframe tbody tr th {\n",
       "        vertical-align: top;\n",
       "    }\n",
       "\n",
       "    .dataframe thead th {\n",
       "        text-align: right;\n",
       "    }\n",
       "</style>\n",
       "<table border=\"1\" class=\"dataframe\">\n",
       "  <thead>\n",
       "    <tr style=\"text-align: right;\">\n",
       "      <th></th>\n",
       "      <th>song_id</th>\n",
       "      <th>song_name</th>\n",
       "      <th>artist</th>\n",
       "      <th>album</th>\n",
       "      <th>Like_Count</th>\n",
       "      <th>Lyric</th>\n",
       "      <th>cover_url</th>\n",
       "      <th>tags</th>\n",
       "      <th>words</th>\n",
       "    </tr>\n",
       "  </thead>\n",
       "  <tbody>\n",
       "  </tbody>\n",
       "</table>\n",
       "</div>"
      ],
      "text/plain": [
       "Empty DataFrame\n",
       "Columns: [song_id, song_name, artist, album, Like_Count, Lyric, cover_url, tags, words]\n",
       "Index: []"
      ]
     },
     "execution_count": 48,
     "metadata": {},
     "output_type": "execute_result"
    }
   ],
   "source": [
    "total_playlist.loc[total_playlist.Lyric.isnull()] # 가사없음"
   ]
  },
  {
   "cell_type": "code",
   "execution_count": 49,
   "id": "32e5c8c4",
   "metadata": {},
   "outputs": [
    {
     "data": {
      "text/html": [
       "<div>\n",
       "<style scoped>\n",
       "    .dataframe tbody tr th:only-of-type {\n",
       "        vertical-align: middle;\n",
       "    }\n",
       "\n",
       "    .dataframe tbody tr th {\n",
       "        vertical-align: top;\n",
       "    }\n",
       "\n",
       "    .dataframe thead th {\n",
       "        text-align: right;\n",
       "    }\n",
       "</style>\n",
       "<table border=\"1\" class=\"dataframe\">\n",
       "  <thead>\n",
       "    <tr style=\"text-align: right;\">\n",
       "      <th></th>\n",
       "      <th>song_id</th>\n",
       "      <th>song_name</th>\n",
       "      <th>artist</th>\n",
       "      <th>album</th>\n",
       "      <th>Like_Count</th>\n",
       "      <th>Lyric</th>\n",
       "      <th>cover_url</th>\n",
       "      <th>tags</th>\n",
       "      <th>words</th>\n",
       "    </tr>\n",
       "  </thead>\n",
       "  <tbody>\n",
       "    <tr>\n",
       "      <th>0</th>\n",
       "      <td>30392514</td>\n",
       "      <td>bath</td>\n",
       "      <td>offonoff (오프온오프)</td>\n",
       "      <td>bath</td>\n",
       "      <td>[5,781]</td>\n",
       "      <td>거긴 날씨가 어때 하늘과 밤엔 자꾸 떠오르는 기억이 계속 말을 건네네 우리는 함께일...</td>\n",
       "      <td>https://image.bugsm.co.kr/album/images/200/200...</td>\n",
       "      <td>['국내', '힙합', '알앤비', '밤/새벽', '감각적인', '작업실', '몽환...</td>\n",
       "      <td>[거긴, 날씨가, 어때, 하늘과, 밤엔, 자꾸, 떠오르는, 기억이, 계속, 말을, ...</td>\n",
       "    </tr>\n",
       "    <tr>\n",
       "      <th>1</th>\n",
       "      <td>30346372</td>\n",
       "      <td>Belief (millic remix)</td>\n",
       "      <td>millic(밀릭)</td>\n",
       "      <td>Belief</td>\n",
       "      <td>[1,510]</td>\n",
       "      <td>...</td>\n",
       "      <td>https://image.bugsm.co.kr/album/images/200/200...</td>\n",
       "      <td>['국내', '힙합', '알앤비', '밤/새벽', '감각적인', '작업실', '몽환...</td>\n",
       "      <td>[our, belief, each, other, written, on, a, pag...</td>\n",
       "    </tr>\n",
       "    <tr>\n",
       "      <th>2</th>\n",
       "      <td>30061516</td>\n",
       "      <td>[권리없는 곡]</td>\n",
       "      <td>아파치(Apachi)</td>\n",
       "      <td>Toujours Youth Remix Album</td>\n",
       "      <td>[54]</td>\n",
       "      <td>겁이 아무 말이나 들려줘       순전히 아름다움   팍 튀고 팍  어쩔 없이 감...</td>\n",
       "      <td>https://image.bugsm.co.kr/album/images/200/200...</td>\n",
       "      <td>['국내', '힙합', '알앤비', '밤/새벽', '감각적인', '작업실', '몽환...</td>\n",
       "      <td>[겁이, 아무, 말이나, 들려줘, girl, i'm, tired, lgbt, nex...</td>\n",
       "    </tr>\n",
       "    <tr>\n",
       "      <th>3</th>\n",
       "      <td>30506160</td>\n",
       "      <td>Every</td>\n",
       "      <td>민제 (Minje)</td>\n",
       "      <td>Boy II Man</td>\n",
       "      <td>[317]</td>\n",
       "      <td>길이 어두운 어두운 어두운    ...</td>\n",
       "      <td>https://image.bugsm.co.kr/album/images/200/200...</td>\n",
       "      <td>['국내', '힙합', '알앤비', '밤/새벽', '감각적인', '작업실', '몽환...</td>\n",
       "      <td>[i, don't, what?, every, time, everything, do,...</td>\n",
       "    </tr>\n",
       "    <tr>\n",
       "      <th>4</th>\n",
       "      <td>3988024</td>\n",
       "      <td>On &amp; On (Prod. By The Quiett)</td>\n",
       "      <td>육지담</td>\n",
       "      <td>언프리티 랩스타 Semi Final 2</td>\n",
       "      <td>[581]</td>\n",
       "      <td>첨부터 길을 잃었던 아이 세상과 마주하기에 어렸던 나이 너넨 모르겠지 에 웃는 모습...</td>\n",
       "      <td>https://image.bugsm.co.kr/album/images/200/493...</td>\n",
       "      <td>['국내', '힙합', '알앤비', '밤/새벽', '감각적인', '작업실', '몽환...</td>\n",
       "      <td>[첨부터, 길을, 잃었던, 아이, 세상과, 마주하기에, 어렸던, 나이, 너넨, 모르...</td>\n",
       "    </tr>\n",
       "  </tbody>\n",
       "</table>\n",
       "</div>"
      ],
      "text/plain": [
       "    song_id                      song_name            artist  \\\n",
       "0  30392514                           bath  offonoff (오프온오프)   \n",
       "1  30346372          Belief (millic remix)        millic(밀릭)   \n",
       "2  30061516                       [권리없는 곡]       아파치(Apachi)   \n",
       "3  30506160                          Every        민제 (Minje)   \n",
       "4   3988024  On & On (Prod. By The Quiett)               육지담   \n",
       "\n",
       "                        album Like_Count  \\\n",
       "0                        bath    [5,781]   \n",
       "1                      Belief    [1,510]   \n",
       "2  Toujours Youth Remix Album       [54]   \n",
       "3                  Boy II Man      [317]   \n",
       "4       언프리티 랩스타 Semi Final 2      [581]   \n",
       "\n",
       "                                               Lyric  \\\n",
       "0  거긴 날씨가 어때 하늘과 밤엔 자꾸 떠오르는 기억이 계속 말을 건네네 우리는 함께일...   \n",
       "1                                                ...   \n",
       "2  겁이 아무 말이나 들려줘       순전히 아름다움   팍 튀고 팍  어쩔 없이 감...   \n",
       "3                              길이 어두운 어두운 어두운    ...   \n",
       "4  첨부터 길을 잃었던 아이 세상과 마주하기에 어렸던 나이 너넨 모르겠지 에 웃는 모습...   \n",
       "\n",
       "                                           cover_url  \\\n",
       "0  https://image.bugsm.co.kr/album/images/200/200...   \n",
       "1  https://image.bugsm.co.kr/album/images/200/200...   \n",
       "2  https://image.bugsm.co.kr/album/images/200/200...   \n",
       "3  https://image.bugsm.co.kr/album/images/200/200...   \n",
       "4  https://image.bugsm.co.kr/album/images/200/493...   \n",
       "\n",
       "                                                tags  \\\n",
       "0  ['국내', '힙합', '알앤비', '밤/새벽', '감각적인', '작업실', '몽환...   \n",
       "1  ['국내', '힙합', '알앤비', '밤/새벽', '감각적인', '작업실', '몽환...   \n",
       "2  ['국내', '힙합', '알앤비', '밤/새벽', '감각적인', '작업실', '몽환...   \n",
       "3  ['국내', '힙합', '알앤비', '밤/새벽', '감각적인', '작업실', '몽환...   \n",
       "4  ['국내', '힙합', '알앤비', '밤/새벽', '감각적인', '작업실', '몽환...   \n",
       "\n",
       "                                               words  \n",
       "0  [거긴, 날씨가, 어때, 하늘과, 밤엔, 자꾸, 떠오르는, 기억이, 계속, 말을, ...  \n",
       "1  [our, belief, each, other, written, on, a, pag...  \n",
       "2  [겁이, 아무, 말이나, 들려줘, girl, i'm, tired, lgbt, nex...  \n",
       "3  [i, don't, what?, every, time, everything, do,...  \n",
       "4  [첨부터, 길을, 잃었던, 아이, 세상과, 마주하기에, 어렸던, 나이, 너넨, 모르...  "
      ]
     },
     "execution_count": 49,
     "metadata": {},
     "output_type": "execute_result"
    }
   ],
   "source": [
    "total_playlist['Lyric'] = total_playlist['Lyric'].str.replace(\"[^ㄱ-ㅎㅏ-ㅣ가-힣 ]\",\"\")\n",
    "# 한글과 공백을 제외하고 모두 제거\n",
    "total_playlist[:5]"
   ]
  },
  {
   "cell_type": "code",
   "execution_count": 51,
   "metadata": {},
   "outputs": [],
   "source": [
    "import numpy as np"
   ]
  },
  {
   "cell_type": "code",
   "execution_count": 52,
   "id": "9b5fa8f8",
   "metadata": {},
   "outputs": [
    {
     "name": "stdout",
     "output_type": "stream",
     "text": [
      "song_id          0\n",
      "song_name        0\n",
      "artist           0\n",
      "album            1\n",
      "Like_Count       9\n",
      "Lyric         1124\n",
      "cover_url       21\n",
      "tags            21\n",
      "words            0\n",
      "dtype: int64\n"
     ]
    }
   ],
   "source": [
    "total_playlist['Lyric'] = total_playlist['Lyric'].str.replace('^ +', \"\") # white space 데이터를 empty value로 변경\n",
    "total_playlist['Lyric'].replace('', np.nan, inplace=True)\n",
    "print(total_playlist.isnull().sum())"
   ]
  },
  {
   "cell_type": "code",
   "execution_count": 56,
   "id": "845732fb",
   "metadata": {},
   "outputs": [],
   "source": [
    "total_playlist = total_playlist[~total_playlist['Lyric'].isnull()] # 가사가 영어로만 이루어져 있어서 NaN값인 노래들"
   ]
  },
  {
   "cell_type": "code",
   "execution_count": 57,
   "id": "34813824",
   "metadata": {},
   "outputs": [],
   "source": [
    "total_playlist = total_playlist.dropna(how = 'any')"
   ]
  },
  {
   "cell_type": "code",
   "execution_count": 92,
   "metadata": {},
   "outputs": [],
   "source": [
    "total_playlist.drop_duplicates(['song_id','Lyric'], keep='first',inplace=True)"
   ]
  },
  {
   "cell_type": "code",
   "execution_count": 93,
   "id": "7b7c7690",
   "metadata": {
    "scrolled": true
   },
   "outputs": [
    {
     "name": "stdout",
     "output_type": "stream",
     "text": [
      "전처리 후 데이터의 개수 : 15877\n"
     ]
    }
   ],
   "source": [
    "print('전처리 후 데이터의 개수 :',len(total_playlist))"
   ]
  },
  {
   "cell_type": "code",
   "execution_count": 209,
   "metadata": {},
   "outputs": [],
   "source": [
    "total_playlist.drop_duplicates(['song_id'], keep='first',inplace=True)"
   ]
  },
  {
   "cell_type": "code",
   "execution_count": 210,
   "metadata": {},
   "outputs": [
    {
     "name": "stdout",
     "output_type": "stream",
     "text": [
      "전처리 후 데이터의 개수 : 15341\n"
     ]
    }
   ],
   "source": [
    "print('전처리 후 데이터의 개수 :',len(total_playlist))"
   ]
  },
  {
   "cell_type": "code",
   "execution_count": 94,
   "metadata": {},
   "outputs": [],
   "source": [
    "total_playlist = total_playlist.reset_index(drop=True)"
   ]
  },
  {
   "cell_type": "code",
   "execution_count": 59,
   "id": "65007cfb",
   "metadata": {},
   "outputs": [],
   "source": [
    "# 불용어 (가사 빈도수 높은 + 감정분류와 무관한 단어 추가 중)\n",
    "stop_w = ['all','이렇게','네가','있는','니가','없는','너의','너무','그런',\n",
    "          'oh','whoo','tuesday','내가','너를','나를','we','this','the','그렇게',\n",
    "          'so','am','baby','and','can','you','much','me','for','go','in',\n",
    "          '은', '는', '이', '가', '하',\n",
    "          'know','no','of','let','my','사랑','수','너','내','나','그','난','봐','돼','건','모든',\n",
    "          '날','널','수','것','못','말','넌','젠','하나','정말','알','여기','우리','그대','다시',\n",
    "          '때','아','더','게','또','채','일','걸','누구','나는','너는','라면','같아','있어','지금',\n",
    "          '의','가','보','들','좀','잘','걍','과','도','를','으로','우린',\n",
    "          '자','에','와','한','하다','네','있다','나의','해','다','내게','왜','거야']"
   ]
  },
  {
   "cell_type": "code",
   "execution_count": 60,
   "id": "fa335182",
   "metadata": {},
   "outputs": [],
   "source": [
    "# 불용어 단어 중복제거\n",
    "stop_w = set(stop_w)"
   ]
  },
  {
   "cell_type": "code",
   "execution_count": 95,
   "id": "43d23996",
   "metadata": {},
   "outputs": [
    {
     "name": "stdout",
     "output_type": "stream",
     "text": [
      "(15877, 139929)\n"
     ]
    }
   ],
   "source": [
    "\"\"\"TF-IDF로 만들기\"\"\"\n",
    "from sklearn.feature_extraction.text import TfidfVectorizer\n",
    "tfidf = TfidfVectorizer()\n",
    "tfidf_matrix = tfidf.fit_transform(total_playlist.Lyric)\n",
    "# 줄거리에 대해서 tf-idf 수행\n",
    "print(tfidf_matrix.shape)"
   ]
  },
  {
   "cell_type": "code",
   "execution_count": 96,
   "id": "a150a863",
   "metadata": {},
   "outputs": [],
   "source": [
    "\"\"\"코사인 유사도 구하기\"\"\"\n",
    "from sklearn.metrics.pairwise import linear_kernel\n",
    "cosine_sim = linear_kernel(tfidf_matrix, tfidf_matrix)"
   ]
  },
  {
   "cell_type": "code",
   "execution_count": 97,
   "metadata": {
    "scrolled": true
   },
   "outputs": [
    {
     "name": "stdout",
     "output_type": "stream",
     "text": [
      "song_name\n",
      "bath                                 0\n",
      "[권리없는 곡]                             1\n",
      "Every                                2\n",
      "On & On (Prod. By The Quiett)        3\n",
      "NOT TODAY                            4\n",
      "                                 ...  \n",
      "떠날랏꼬                             15872\n",
      "괜찮아 떠나                           15873\n",
      "배낭여행                             15874\n",
      "좌절금지                             15875\n",
      "아프리카 청춘이다                        15876\n",
      "Length: 15877, dtype: int64\n"
     ]
    }
   ],
   "source": [
    "\"\"\"인덱스 테이블 만들기\"\"\"\n",
    "indices = pd.Series(total_playlist.index, index=total_playlist.song_name).drop_duplicates()\n",
    "print(indices)"
   ]
  },
  {
   "cell_type": "code",
   "execution_count": 130,
   "metadata": {},
   "outputs": [
    {
     "data": {
      "text/plain": [
       "song_name\n",
       "Why                              453\n",
       "Free Somebody                    454\n",
       "Shut Up & Groove (feat. DEAN)    455\n",
       "한숨                               456\n",
       "I Just Wanna Dance               457\n",
       "쏘쏘                               458\n",
       "농담 반 진담 반                        459\n",
       "봄이 좋냐??                          460\n",
       "어떻게 생각해                          461\n",
       "니 눈 니 코 니 입술 (feat. 79)          462\n",
       "dtype: int64"
      ]
     },
     "execution_count": 130,
     "metadata": {},
     "output_type": "execute_result"
    }
   ],
   "source": [
    "indices[453:463]"
   ]
  },
  {
   "cell_type": "code",
   "execution_count": 98,
   "metadata": {},
   "outputs": [
    {
     "data": {
      "text/html": [
       "<div>\n",
       "<style scoped>\n",
       "    .dataframe tbody tr th:only-of-type {\n",
       "        vertical-align: middle;\n",
       "    }\n",
       "\n",
       "    .dataframe tbody tr th {\n",
       "        vertical-align: top;\n",
       "    }\n",
       "\n",
       "    .dataframe thead th {\n",
       "        text-align: right;\n",
       "    }\n",
       "</style>\n",
       "<table border=\"1\" class=\"dataframe\">\n",
       "  <thead>\n",
       "    <tr style=\"text-align: right;\">\n",
       "      <th></th>\n",
       "      <th>song_id</th>\n",
       "      <th>song_name</th>\n",
       "      <th>artist</th>\n",
       "      <th>album</th>\n",
       "      <th>Like_Count</th>\n",
       "      <th>Lyric</th>\n",
       "      <th>cover_url</th>\n",
       "      <th>tags</th>\n",
       "      <th>words</th>\n",
       "    </tr>\n",
       "  </thead>\n",
       "  <tbody>\n",
       "    <tr>\n",
       "      <th>0</th>\n",
       "      <td>30392514</td>\n",
       "      <td>bath</td>\n",
       "      <td>offonoff (오프온오프)</td>\n",
       "      <td>bath</td>\n",
       "      <td>[5,781]</td>\n",
       "      <td>거긴 날씨가 어때 하늘과 밤엔 자꾸 떠오르는 기억이 계속 말을 건네네 우리는 함께일...</td>\n",
       "      <td>https://image.bugsm.co.kr/album/images/200/200...</td>\n",
       "      <td>['국내', '힙합', '알앤비', '밤/새벽', '감각적인', '작업실', '몽환...</td>\n",
       "      <td>[거긴, 날씨가, 어때, 하늘과, 밤엔, 자꾸, 떠오르는, 기억이, 계속, 말을, ...</td>\n",
       "    </tr>\n",
       "  </tbody>\n",
       "</table>\n",
       "</div>"
      ],
      "text/plain": [
       "    song_id song_name            artist album Like_Count  \\\n",
       "0  30392514      bath  offonoff (오프온오프)  bath    [5,781]   \n",
       "\n",
       "                                               Lyric  \\\n",
       "0  거긴 날씨가 어때 하늘과 밤엔 자꾸 떠오르는 기억이 계속 말을 건네네 우리는 함께일...   \n",
       "\n",
       "                                           cover_url  \\\n",
       "0  https://image.bugsm.co.kr/album/images/200/200...   \n",
       "\n",
       "                                                tags  \\\n",
       "0  ['국내', '힙합', '알앤비', '밤/새벽', '감각적인', '작업실', '몽환...   \n",
       "\n",
       "                                               words  \n",
       "0  [거긴, 날씨가, 어때, 하늘과, 밤엔, 자꾸, 떠오르는, 기억이, 계속, 말을, ...  "
      ]
     },
     "execution_count": 98,
     "metadata": {},
     "output_type": "execute_result"
    }
   ],
   "source": [
    "total_playlist.head(1)"
   ]
  },
  {
   "cell_type": "code",
   "execution_count": 163,
   "metadata": {},
   "outputs": [],
   "source": [
    "\"\"\"추천 해주기\"\"\"\n",
    "def music_REC(song_name, cosine_sim=cosine_sim):\n",
    "    #입력한 노래로부터 인덱스 가져오기\n",
    "    idx = indices[song_name]\n",
    "\n",
    "    # 모든 노래에 대해서 해당 노래와의 유사도를 구하기\n",
    "    sim_scores = list(enumerate(cosine_sim[idx]))\n",
    "\n",
    "    # 유사도에 따라 노래들을 정렬\n",
    "    sim_scores = sorted(sim_scores, key=lambda x:x[1], reverse = True)\n",
    "\n",
    "    # 가장 유사한 10개의 노래를 받아옴\n",
    "    sim_scores = sim_scores[1:11]\n",
    "\n",
    "    # 가장 유사한 10개 노래의 인덱스 받아옴\n",
    "    music_indices = [i[0] for i in sim_scores]\n",
    "    \n",
    "    # 기존에 읽어들인 데이터에서 해당 인덱스의 값들을 가져온다. \n",
    "    # 그리고 스코어 열을 추가하여 코사인 유사도도 확인할 수 있게 한다.\n",
    "    result_df = total_playlist.iloc[music_indices].copy()\n",
    "    result_df['score'] = [i[1] for i in sim_scores]\n",
    "    \n",
    "    # 읽어들인 데이터에서 제거할 칼럼명\n",
    "    # del result_df['content']\n",
    "    del result_df['cover_url']\n",
    "    del result_df['album'] \n",
    "    del result_df['words'] \n",
    "\n",
    "    # 가장 유사한 10개의 노래의 제목을 리턴\n",
    "    return result_df"
   ]
  },
  {
   "cell_type": "code",
   "execution_count": 132,
   "metadata": {
    "scrolled": false
   },
   "outputs": [
    {
     "data": {
      "text/html": [
       "<div>\n",
       "<style scoped>\n",
       "    .dataframe tbody tr th:only-of-type {\n",
       "        vertical-align: middle;\n",
       "    }\n",
       "\n",
       "    .dataframe tbody tr th {\n",
       "        vertical-align: top;\n",
       "    }\n",
       "\n",
       "    .dataframe thead th {\n",
       "        text-align: right;\n",
       "    }\n",
       "</style>\n",
       "<table border=\"1\" class=\"dataframe\">\n",
       "  <thead>\n",
       "    <tr style=\"text-align: right;\">\n",
       "      <th></th>\n",
       "      <th>song_id</th>\n",
       "      <th>song_name</th>\n",
       "      <th>artist</th>\n",
       "      <th>Like_Count</th>\n",
       "      <th>Lyric</th>\n",
       "      <th>tags</th>\n",
       "      <th>score</th>\n",
       "    </tr>\n",
       "  </thead>\n",
       "  <tbody>\n",
       "    <tr>\n",
       "      <th>4987</th>\n",
       "      <td>53081</td>\n",
       "      <td>점점 더</td>\n",
       "      <td>장필순</td>\n",
       "      <td>[228]</td>\n",
       "      <td>저녁 창가에 부서지는 햇살은 눈부시지 눈을 감을수록 점점 아침 창밖에 지저귀는 새들...</td>\n",
       "      <td>['국내', '복고/레트로', '뉴트로', '시티팝', '신스팝', '가요', '인...</td>\n",
       "      <td>0.119321</td>\n",
       "    </tr>\n",
       "    <tr>\n",
       "      <th>11804</th>\n",
       "      <td>3673403</td>\n",
       "      <td>아드레날린 (Adrenaline)</td>\n",
       "      <td>소녀시대-태티서(Girls' Generation-TTS)</td>\n",
       "      <td>[2,032]</td>\n",
       "      <td>이런 느낌은 뭐야 나만 모르는 감춰둔 블랙홀 새로운 세계가 반겨 이건 심장의 장난 ...</td>\n",
       "      <td>['국내', '가요', '신나는', '아이돌', '운동/헬스', '드라이브', '노...</td>\n",
       "      <td>0.117202</td>\n",
       "    </tr>\n",
       "    <tr>\n",
       "      <th>7250</th>\n",
       "      <td>85257</td>\n",
       "      <td>바꿔</td>\n",
       "      <td>이정현</td>\n",
       "      <td>[21,920]</td>\n",
       "      <td>모두 제정신이 아니야 다들 미쳐가고만 어느 누굴 믿어 어찌믿어 더는 못믿어 누가 누...</td>\n",
       "      <td>['국내', '가요', '댄스', '테크노', '드라이브', '스트레스/짜증', '...</td>\n",
       "      <td>0.115650</td>\n",
       "    </tr>\n",
       "    <tr>\n",
       "      <th>8902</th>\n",
       "      <td>30892394</td>\n",
       "      <td>In The Moonlight</td>\n",
       "      <td>식스밤(Six Bomb)</td>\n",
       "      <td>[24]</td>\n",
       "      <td>너에게 취해있어 너에게 빠져있어 자꾸 눈이 자꾸 맘이                 ...</td>\n",
       "      <td>['국내', '시티팝', '가요', '선선한', '여름', '여름밤', '밤/새벽'...</td>\n",
       "      <td>0.114382</td>\n",
       "    </tr>\n",
       "    <tr>\n",
       "      <th>7424</th>\n",
       "      <td>4586784</td>\n",
       "      <td>리듬 타 (RHYTHM TA)</td>\n",
       "      <td>iKON</td>\n",
       "      <td>[3,700]</td>\n",
       "      <td>이건 그냥 노래니깐 리듬 타  리듬 타  리듬 타  리듬 타 이건 그냥 노래니깐 리...</td>\n",
       "      <td>['국내', '가요', 'KPOP', '아이돌', '강한', '스트레스/짜증', '...</td>\n",
       "      <td>0.097750</td>\n",
       "    </tr>\n",
       "  </tbody>\n",
       "</table>\n",
       "</div>"
      ],
      "text/plain": [
       "        song_id           song_name                           artist  \\\n",
       "4987      53081                점점 더                              장필순   \n",
       "11804   3673403  아드레날린 (Adrenaline)  소녀시대-태티서(Girls' Generation-TTS)   \n",
       "7250      85257                  바꿔                              이정현   \n",
       "8902   30892394    In The Moonlight                    식스밤(Six Bomb)   \n",
       "7424    4586784    리듬 타 (RHYTHM TA)                             iKON   \n",
       "\n",
       "      Like_Count                                              Lyric  \\\n",
       "4987       [228]  저녁 창가에 부서지는 햇살은 눈부시지 눈을 감을수록 점점 아침 창밖에 지저귀는 새들...   \n",
       "11804    [2,032]  이런 느낌은 뭐야 나만 모르는 감춰둔 블랙홀 새로운 세계가 반겨 이건 심장의 장난 ...   \n",
       "7250    [21,920]  모두 제정신이 아니야 다들 미쳐가고만 어느 누굴 믿어 어찌믿어 더는 못믿어 누가 누...   \n",
       "8902        [24]  너에게 취해있어 너에게 빠져있어 자꾸 눈이 자꾸 맘이                 ...   \n",
       "7424     [3,700]  이건 그냥 노래니깐 리듬 타  리듬 타  리듬 타  리듬 타 이건 그냥 노래니깐 리...   \n",
       "\n",
       "                                                    tags     score  \n",
       "4987   ['국내', '복고/레트로', '뉴트로', '시티팝', '신스팝', '가요', '인...  0.119321  \n",
       "11804  ['국내', '가요', '신나는', '아이돌', '운동/헬스', '드라이브', '노...  0.117202  \n",
       "7250   ['국내', '가요', '댄스', '테크노', '드라이브', '스트레스/짜증', '...  0.115650  \n",
       "8902   ['국내', '시티팝', '가요', '선선한', '여름', '여름밤', '밤/새벽'...  0.114382  \n",
       "7424   ['국내', '가요', 'KPOP', '아이돌', '강한', '스트레스/짜증', '...  0.097750  "
      ]
     },
     "execution_count": 132,
     "metadata": {},
     "output_type": "execute_result"
    }
   ],
   "source": [
    "music_REC(\"I Just Wanna Dance\")"
   ]
  },
  {
   "cell_type": "code",
   "execution_count": 133,
   "metadata": {},
   "outputs": [
    {
     "data": {
      "text/html": [
       "<div>\n",
       "<style scoped>\n",
       "    .dataframe tbody tr th:only-of-type {\n",
       "        vertical-align: middle;\n",
       "    }\n",
       "\n",
       "    .dataframe tbody tr th {\n",
       "        vertical-align: top;\n",
       "    }\n",
       "\n",
       "    .dataframe thead th {\n",
       "        text-align: right;\n",
       "    }\n",
       "</style>\n",
       "<table border=\"1\" class=\"dataframe\">\n",
       "  <thead>\n",
       "    <tr style=\"text-align: right;\">\n",
       "      <th></th>\n",
       "      <th>song_id</th>\n",
       "      <th>song_name</th>\n",
       "      <th>artist</th>\n",
       "      <th>Like_Count</th>\n",
       "      <th>Lyric</th>\n",
       "      <th>tags</th>\n",
       "      <th>score</th>\n",
       "    </tr>\n",
       "  </thead>\n",
       "  <tbody>\n",
       "    <tr>\n",
       "      <th>11944</th>\n",
       "      <td>30107396</td>\n",
       "      <td>리듬 타 (RHYTHM TA) REMIX (Rock Ver.)</td>\n",
       "      <td>iKON</td>\n",
       "      <td>[688]</td>\n",
       "      <td>이건 그냥 노래니깐 리듬 타  리듬 타  리듬 타  리듬 타 이건 그냥 노래니깐 리...</td>\n",
       "      <td>['국내', '가요', '아이돌', 'KPOP', '신나는', '노동요', '운동/...</td>\n",
       "      <td>1.000000</td>\n",
       "    </tr>\n",
       "    <tr>\n",
       "      <th>2080</th>\n",
       "      <td>31369191</td>\n",
       "      <td>Hair in the Air (Sung By 예리, 런쥔, 제노, 재민)</td>\n",
       "      <td>예리 (YERI)</td>\n",
       "      <td>[890]</td>\n",
       "      <td>어서 나와 빨리 나와 뛰어놀자 하늘 닿도록 너와 나와 모두 나와 같이 놀자 볼륨 키...</td>\n",
       "      <td>['국내', '아이돌', '가요', 'KPOP', '기분전환', '드라이브', '월...</td>\n",
       "      <td>0.177090</td>\n",
       "    </tr>\n",
       "    <tr>\n",
       "      <th>4920</th>\n",
       "      <td>31639081</td>\n",
       "      <td>Midnight</td>\n",
       "      <td>에일리(Ailee)</td>\n",
       "      <td>[211]</td>\n",
       "      <td>두 눈처럼 새까만 밤은 어느새 우릴 감싸오고 쏟아지는 별 셀 없이 바랬던 순간 듣고...</td>\n",
       "      <td>['국내', '아이돌', '댄스', '일렉트로닉팝', '신나는', '드라이브', '...</td>\n",
       "      <td>0.160874</td>\n",
       "    </tr>\n",
       "    <tr>\n",
       "      <th>8138</th>\n",
       "      <td>3986111</td>\n",
       "      <td>Kangaroo</td>\n",
       "      <td>라이너스의 담요(Linus' Blanket)</td>\n",
       "      <td>[145]</td>\n",
       "      <td>처음으로 돌아가    이제부터 시작해요     설명은 필요도 없죠 너와 함께라면  ...</td>\n",
       "      <td>['국내', '인디', '국내 인디', '상쾌한', '청량한', '화창한 날', '...</td>\n",
       "      <td>0.158346</td>\n",
       "    </tr>\n",
       "    <tr>\n",
       "      <th>5992</th>\n",
       "      <td>5030288</td>\n",
       "      <td>Spin Up!</td>\n",
       "      <td>SUPER JUNIOR (슈퍼주니어)</td>\n",
       "      <td>[349]</td>\n",
       "      <td>오늘도  쌓여 있다면  여기로 모여  성별 직업 필요 없어 어차피 밤은 시작됐으니까...</td>\n",
       "      <td>['국내', '레이블', 'SM', '아이돌', '가요', '여름', '청량한', ...</td>\n",
       "      <td>0.149409</td>\n",
       "    </tr>\n",
       "  </tbody>\n",
       "</table>\n",
       "</div>"
      ],
      "text/plain": [
       "        song_id                                 song_name  \\\n",
       "11944  30107396        리듬 타 (RHYTHM TA) REMIX (Rock Ver.)   \n",
       "2080   31369191  Hair in the Air (Sung By 예리, 런쥔, 제노, 재민)   \n",
       "4920   31639081                                  Midnight   \n",
       "8138    3986111                                  Kangaroo   \n",
       "5992    5030288                                  Spin Up!   \n",
       "\n",
       "                         artist Like_Count  \\\n",
       "11944                      iKON      [688]   \n",
       "2080                  예리 (YERI)      [890]   \n",
       "4920                 에일리(Ailee)      [211]   \n",
       "8138   라이너스의 담요(Linus' Blanket)      [145]   \n",
       "5992       SUPER JUNIOR (슈퍼주니어)      [349]   \n",
       "\n",
       "                                                   Lyric  \\\n",
       "11944  이건 그냥 노래니깐 리듬 타  리듬 타  리듬 타  리듬 타 이건 그냥 노래니깐 리...   \n",
       "2080   어서 나와 빨리 나와 뛰어놀자 하늘 닿도록 너와 나와 모두 나와 같이 놀자 볼륨 키...   \n",
       "4920   두 눈처럼 새까만 밤은 어느새 우릴 감싸오고 쏟아지는 별 셀 없이 바랬던 순간 듣고...   \n",
       "8138   처음으로 돌아가    이제부터 시작해요     설명은 필요도 없죠 너와 함께라면  ...   \n",
       "5992   오늘도  쌓여 있다면  여기로 모여  성별 직업 필요 없어 어차피 밤은 시작됐으니까...   \n",
       "\n",
       "                                                    tags     score  \n",
       "11944  ['국내', '가요', '아이돌', 'KPOP', '신나는', '노동요', '운동/...  1.000000  \n",
       "2080   ['국내', '아이돌', '가요', 'KPOP', '기분전환', '드라이브', '월...  0.177090  \n",
       "4920   ['국내', '아이돌', '댄스', '일렉트로닉팝', '신나는', '드라이브', '...  0.160874  \n",
       "8138   ['국내', '인디', '국내 인디', '상쾌한', '청량한', '화창한 날', '...  0.158346  \n",
       "5992   ['국내', '레이블', 'SM', '아이돌', '가요', '여름', '청량한', ...  0.149409  "
      ]
     },
     "execution_count": 133,
     "metadata": {},
     "output_type": "execute_result"
    }
   ],
   "source": [
    "music_REC(\"리듬 타 (RHYTHM TA)\")"
   ]
  },
  {
   "cell_type": "code",
   "execution_count": 176,
   "metadata": {},
   "outputs": [
    {
     "data": {
      "text/html": [
       "<div>\n",
       "<style scoped>\n",
       "    .dataframe tbody tr th:only-of-type {\n",
       "        vertical-align: middle;\n",
       "    }\n",
       "\n",
       "    .dataframe tbody tr th {\n",
       "        vertical-align: top;\n",
       "    }\n",
       "\n",
       "    .dataframe thead th {\n",
       "        text-align: right;\n",
       "    }\n",
       "</style>\n",
       "<table border=\"1\" class=\"dataframe\">\n",
       "  <thead>\n",
       "    <tr style=\"text-align: right;\">\n",
       "      <th></th>\n",
       "      <th>song_id</th>\n",
       "      <th>song_name</th>\n",
       "      <th>artist</th>\n",
       "      <th>Like_Count</th>\n",
       "      <th>Lyric</th>\n",
       "      <th>tags</th>\n",
       "      <th>score</th>\n",
       "    </tr>\n",
       "  </thead>\n",
       "  <tbody>\n",
       "    <tr>\n",
       "      <th>13986</th>\n",
       "      <td>5951260</td>\n",
       "      <td>10억뷰 (Feat. MOON)</td>\n",
       "      <td>세훈&amp;찬열</td>\n",
       "      <td>[1,518]</td>\n",
       "      <td>어느 별에서 왔길래 흔들어 놔 자꾸 소름 돋게 하고 맘을 헝클어 놓아 멜로디가 나오...</td>\n",
       "      <td>['국내', '가요', '봄', '초봄', '달달한', '사랑/기쁨']</td>\n",
       "      <td>0.481553</td>\n",
       "    </tr>\n",
       "    <tr>\n",
       "      <th>12580</th>\n",
       "      <td>30702872</td>\n",
       "      <td>좋아, 고마워 (맥심 화이트골드 - 김연아편 CF 삽입곡)</td>\n",
       "      <td>공기남</td>\n",
       "      <td>[1,483]</td>\n",
       "      <td>꽃잎이 바람을 타고 흩날리고 있어요 향기로운 꽃냄새가 설레이게 하죠 따사로운 햇살이...</td>\n",
       "      <td>['국내', '인디', '봄', '국내 인디', '달달한', '봄캐롤', '연애권장...</td>\n",
       "      <td>0.368109</td>\n",
       "    </tr>\n",
       "    <tr>\n",
       "      <th>1908</th>\n",
       "      <td>30857459</td>\n",
       "      <td>좋아요 (No Narration)</td>\n",
       "      <td>좋아서하는밴드</td>\n",
       "      <td>[11]</td>\n",
       "      <td>그대가 좋아요 생각만 해도 좋아요 이러는지 나도 몰라요 그냥 그대와 함께 것만으로 ...</td>\n",
       "      <td>['국내', '인디', '국내 인디', '화창한 날', '일상', '아침', '주말...</td>\n",
       "      <td>0.362537</td>\n",
       "    </tr>\n",
       "    <tr>\n",
       "      <th>15208</th>\n",
       "      <td>30698531</td>\n",
       "      <td>좋아요!</td>\n",
       "      <td>Apink (에이핑크)</td>\n",
       "      <td>[696]</td>\n",
       "      <td>어제 주고받은 메시지를 자꾸만 보게 돼요 친구랑 있어도 핸드폰만 보게 돼요    왠...</td>\n",
       "      <td>['국내', '가요', '사랑/기쁨', '썸 탈때', '연애권장송', '달달한', ...</td>\n",
       "      <td>0.334576</td>\n",
       "    </tr>\n",
       "    <tr>\n",
       "      <th>1912</th>\n",
       "      <td>31059938</td>\n",
       "      <td>행복한 일은 매일 있어 (With 피터한)</td>\n",
       "      <td>타린(Tarin)</td>\n",
       "      <td>[135]</td>\n",
       "      <td>갓 구운 식빵 따뜻한 커피 오늘따라 좋은 봄바람 작년에 입던 원피스 쏘옥 웬일로 화...</td>\n",
       "      <td>['국내', '인디', '국내 인디', '화창한 날', '일상', '아침', '주말...</td>\n",
       "      <td>0.272981</td>\n",
       "    </tr>\n",
       "  </tbody>\n",
       "</table>\n",
       "</div>"
      ],
      "text/plain": [
       "        song_id                         song_name        artist Like_Count  \\\n",
       "13986   5951260                 10억뷰 (Feat. MOON)         세훈&찬열    [1,518]   \n",
       "12580  30702872  좋아, 고마워 (맥심 화이트골드 - 김연아편 CF 삽입곡)           공기남    [1,483]   \n",
       "1908   30857459                좋아요 (No Narration)       좋아서하는밴드       [11]   \n",
       "15208  30698531                              좋아요!  Apink (에이핑크)      [696]   \n",
       "1912   31059938           행복한 일은 매일 있어 (With 피터한)     타린(Tarin)      [135]   \n",
       "\n",
       "                                                   Lyric  \\\n",
       "13986  어느 별에서 왔길래 흔들어 놔 자꾸 소름 돋게 하고 맘을 헝클어 놓아 멜로디가 나오...   \n",
       "12580  꽃잎이 바람을 타고 흩날리고 있어요 향기로운 꽃냄새가 설레이게 하죠 따사로운 햇살이...   \n",
       "1908   그대가 좋아요 생각만 해도 좋아요 이러는지 나도 몰라요 그냥 그대와 함께 것만으로 ...   \n",
       "15208  어제 주고받은 메시지를 자꾸만 보게 돼요 친구랑 있어도 핸드폰만 보게 돼요    왠...   \n",
       "1912   갓 구운 식빵 따뜻한 커피 오늘따라 좋은 봄바람 작년에 입던 원피스 쏘옥 웬일로 화...   \n",
       "\n",
       "                                                    tags     score  \n",
       "13986            ['국내', '가요', '봄', '초봄', '달달한', '사랑/기쁨']  0.481553  \n",
       "12580  ['국내', '인디', '봄', '국내 인디', '달달한', '봄캐롤', '연애권장...  0.368109  \n",
       "1908   ['국내', '인디', '국내 인디', '화창한 날', '일상', '아침', '주말...  0.362537  \n",
       "15208  ['국내', '가요', '사랑/기쁨', '썸 탈때', '연애권장송', '달달한', ...  0.334576  \n",
       "1912   ['국내', '인디', '국내 인디', '화창한 날', '일상', '아침', '주말...  0.272981  "
      ]
     },
     "execution_count": 176,
     "metadata": {},
     "output_type": "execute_result"
    }
   ],
   "source": [
    "music_REC(\"Joa Yo!\").head(5)"
   ]
  },
  {
   "cell_type": "code",
   "execution_count": 170,
   "metadata": {},
   "outputs": [
    {
     "data": {
      "text/html": [
       "<div>\n",
       "<style scoped>\n",
       "    .dataframe tbody tr th:only-of-type {\n",
       "        vertical-align: middle;\n",
       "    }\n",
       "\n",
       "    .dataframe tbody tr th {\n",
       "        vertical-align: top;\n",
       "    }\n",
       "\n",
       "    .dataframe thead th {\n",
       "        text-align: right;\n",
       "    }\n",
       "</style>\n",
       "<table border=\"1\" class=\"dataframe\">\n",
       "  <thead>\n",
       "    <tr style=\"text-align: right;\">\n",
       "      <th></th>\n",
       "      <th>song_id</th>\n",
       "      <th>song_name</th>\n",
       "      <th>artist</th>\n",
       "      <th>Like_Count</th>\n",
       "      <th>Lyric</th>\n",
       "      <th>tags</th>\n",
       "      <th>score</th>\n",
       "    </tr>\n",
       "  </thead>\n",
       "  <tbody>\n",
       "    <tr>\n",
       "      <th>12147</th>\n",
       "      <td>30466667</td>\n",
       "      <td>Perfect</td>\n",
       "      <td>pH-1</td>\n",
       "      <td>[1,496]</td>\n",
       "      <td>뉴욕부터  시차적응 안된 몸 일으키며 나일 탓했어              별 다른말...</td>\n",
       "      <td>['국내', '가요', '경쾌한', '기분전환', '화창한 날', '신나는', '드...</td>\n",
       "      <td>0.170396</td>\n",
       "    </tr>\n",
       "    <tr>\n",
       "      <th>5930</th>\n",
       "      <td>31883146</td>\n",
       "      <td>떠 (Spring)</td>\n",
       "      <td>MCND</td>\n",
       "      <td>[107]</td>\n",
       "      <td>눈치 볼 뭐가 그냥 가보는 거지  맘대로 직진하다 보면 길이 나와 후진  이젠 믿어...</td>\n",
       "      <td>['국내', '가요', '아이돌', 'KPOP', '남자아이돌', '청량한', '시...</td>\n",
       "      <td>0.137854</td>\n",
       "    </tr>\n",
       "    <tr>\n",
       "      <th>4637</th>\n",
       "      <td>31887893</td>\n",
       "      <td>Cloud 9</td>\n",
       "      <td>CRAVITY</td>\n",
       "      <td>[339]</td>\n",
       "      <td>뭔가 다른 느낌 푸른 바다처럼 깊어 색은 짙어질테니 매일 지쳐 뒤척이던 긴긴 밤 이...</td>\n",
       "      <td>['국내', '가요', '아이돌', 'KPOP', '신나는', '시원한', '드라이...</td>\n",
       "      <td>0.126209</td>\n",
       "    </tr>\n",
       "    <tr>\n",
       "      <th>10937</th>\n",
       "      <td>32313718</td>\n",
       "      <td>Shake it (ft.Dislike Mushroom &amp; OLPDio)</td>\n",
       "      <td>Hang.9(행구)</td>\n",
       "      <td>[1]</td>\n",
       "      <td>아래 위로     태워버려  아래 위로     아래 위로       아래 위로   ...</td>\n",
       "      <td>['국내', '인디', '힙합', '사운드클라우드', '힙스터', '국내 인디', ...</td>\n",
       "      <td>0.104914</td>\n",
       "    </tr>\n",
       "    <tr>\n",
       "      <th>8695</th>\n",
       "      <td>5330706</td>\n",
       "      <td>SURFER</td>\n",
       "      <td>1415</td>\n",
       "      <td>[1,421]</td>\n",
       "      <td>너와 지난날을 기억해 처음엔 알고 싶었어 생각해 너와의 시간은 지났고 얼마전 봤을 ...</td>\n",
       "      <td>['국내', '인디', '국내 인디', '쌀쌀한 날', '포근한', '초겨울']</td>\n",
       "      <td>0.098627</td>\n",
       "    </tr>\n",
       "  </tbody>\n",
       "</table>\n",
       "</div>"
      ],
      "text/plain": [
       "        song_id                                song_name      artist  \\\n",
       "12147  30466667                                  Perfect        pH-1   \n",
       "5930   31883146                               떠 (Spring)        MCND   \n",
       "4637   31887893                                  Cloud 9     CRAVITY   \n",
       "10937  32313718  Shake it (ft.Dislike Mushroom & OLPDio)  Hang.9(행구)   \n",
       "8695    5330706                                   SURFER        1415   \n",
       "\n",
       "      Like_Count                                              Lyric  \\\n",
       "12147    [1,496]  뉴욕부터  시차적응 안된 몸 일으키며 나일 탓했어              별 다른말...   \n",
       "5930       [107]  눈치 볼 뭐가 그냥 가보는 거지  맘대로 직진하다 보면 길이 나와 후진  이젠 믿어...   \n",
       "4637       [339]  뭔가 다른 느낌 푸른 바다처럼 깊어 색은 짙어질테니 매일 지쳐 뒤척이던 긴긴 밤 이...   \n",
       "10937        [1]  아래 위로     태워버려  아래 위로     아래 위로       아래 위로   ...   \n",
       "8695     [1,421]  너와 지난날을 기억해 처음엔 알고 싶었어 생각해 너와의 시간은 지났고 얼마전 봤을 ...   \n",
       "\n",
       "                                                    tags     score  \n",
       "12147  ['국내', '가요', '경쾌한', '기분전환', '화창한 날', '신나는', '드...  0.170396  \n",
       "5930   ['국내', '가요', '아이돌', 'KPOP', '남자아이돌', '청량한', '시...  0.137854  \n",
       "4637   ['국내', '가요', '아이돌', 'KPOP', '신나는', '시원한', '드라이...  0.126209  \n",
       "10937  ['국내', '인디', '힙합', '사운드클라우드', '힙스터', '국내 인디', ...  0.104914  \n",
       "8695        ['국내', '인디', '국내 인디', '쌀쌀한 날', '포근한', '초겨울']  0.098627  "
      ]
     },
     "execution_count": 170,
     "metadata": {},
     "output_type": "execute_result"
    }
   ],
   "source": [
    "music_REC(\"strawberry moon\").head(5)"
   ]
  },
  {
   "cell_type": "code",
   "execution_count": 182,
   "metadata": {},
   "outputs": [
    {
     "data": {
      "text/html": [
       "<div>\n",
       "<style scoped>\n",
       "    .dataframe tbody tr th:only-of-type {\n",
       "        vertical-align: middle;\n",
       "    }\n",
       "\n",
       "    .dataframe tbody tr th {\n",
       "        vertical-align: top;\n",
       "    }\n",
       "\n",
       "    .dataframe thead th {\n",
       "        text-align: right;\n",
       "    }\n",
       "</style>\n",
       "<table border=\"1\" class=\"dataframe\">\n",
       "  <thead>\n",
       "    <tr style=\"text-align: right;\">\n",
       "      <th></th>\n",
       "      <th>song_id</th>\n",
       "      <th>song_name</th>\n",
       "      <th>artist</th>\n",
       "      <th>Like_Count</th>\n",
       "      <th>Lyric</th>\n",
       "      <th>tags</th>\n",
       "      <th>score</th>\n",
       "    </tr>\n",
       "  </thead>\n",
       "  <tbody>\n",
       "    <tr>\n",
       "      <th>6074</th>\n",
       "      <td>30309201</td>\n",
       "      <td>Why So Lonely</td>\n",
       "      <td>원더걸스</td>\n",
       "      <td>[13,985]</td>\n",
       "      <td>너와 입술이 닿을 때부터 달라질 줄 알았는데 별거 없어 다른 없어 너와 보내는 주말...</td>\n",
       "      <td>['국내', '걸그룹', 'KPOP', '가요', '여자아이돌', '여름', '시원...</td>\n",
       "      <td>0.141583</td>\n",
       "    </tr>\n",
       "    <tr>\n",
       "      <th>1643</th>\n",
       "      <td>9505095</td>\n",
       "      <td>집앞이야 나와</td>\n",
       "      <td>SHY (손호영)</td>\n",
       "      <td>[375]</td>\n",
       "      <td>하루에 꼭 두통화 적어도 꼭 세통화 하는 말은 어디야 뭐해 알아 뭐하게 알면 오게 ...</td>\n",
       "      <td>['국내', '가요', '사랑/기쁨', '봄', '달달한', '연애권장송']</td>\n",
       "      <td>0.137674</td>\n",
       "    </tr>\n",
       "    <tr>\n",
       "      <th>4654</th>\n",
       "      <td>5937094</td>\n",
       "      <td>My My</td>\n",
       "      <td>세븐틴(SEVENTEEN)</td>\n",
       "      <td>[2,002]</td>\n",
       "      <td>발맞춰 어디론가    건조한 사막이라도   구름은 햇빛의 우산이     하루하루 눈...</td>\n",
       "      <td>['국내', '가요', '아이돌', 'KPOP', '신나는', '시원한', '드라이...</td>\n",
       "      <td>0.110702</td>\n",
       "    </tr>\n",
       "    <tr>\n",
       "      <th>15441</th>\n",
       "      <td>31124876</td>\n",
       "      <td>그대만 보여서</td>\n",
       "      <td>김나영</td>\n",
       "      <td>[2,898]</td>\n",
       "      <td>눈을 감아도 자꾸 맴도는 미소에 잠을 설치고 그대만 보여 꿈꾸듯 걸음씩 나도 모르게...</td>\n",
       "      <td>['국내', '달달한', '설렘/심쿵', '사랑/기쁨']</td>\n",
       "      <td>0.103278</td>\n",
       "    </tr>\n",
       "    <tr>\n",
       "      <th>12679</th>\n",
       "      <td>4429245</td>\n",
       "      <td>더 가까이</td>\n",
       "      <td>효린</td>\n",
       "      <td>[223]</td>\n",
       "      <td>길을 잃은 사람이 건네 준 따스했던 설레임 기억이나 자꾸 생각나 늘 기다린 사랑이라...</td>\n",
       "      <td>['OST', '영화/드라마', '국내', '빼빼로데이', '드라마', '고백', ...</td>\n",
       "      <td>0.100534</td>\n",
       "    </tr>\n",
       "  </tbody>\n",
       "</table>\n",
       "</div>"
      ],
      "text/plain": [
       "        song_id      song_name          artist Like_Count  \\\n",
       "6074   30309201  Why So Lonely            원더걸스   [13,985]   \n",
       "1643    9505095        집앞이야 나와       SHY (손호영)      [375]   \n",
       "4654    5937094          My My  세븐틴(SEVENTEEN)    [2,002]   \n",
       "15441  31124876        그대만 보여서             김나영    [2,898]   \n",
       "12679   4429245          더 가까이              효린      [223]   \n",
       "\n",
       "                                                   Lyric  \\\n",
       "6074   너와 입술이 닿을 때부터 달라질 줄 알았는데 별거 없어 다른 없어 너와 보내는 주말...   \n",
       "1643   하루에 꼭 두통화 적어도 꼭 세통화 하는 말은 어디야 뭐해 알아 뭐하게 알면 오게 ...   \n",
       "4654   발맞춰 어디론가    건조한 사막이라도   구름은 햇빛의 우산이     하루하루 눈...   \n",
       "15441  눈을 감아도 자꾸 맴도는 미소에 잠을 설치고 그대만 보여 꿈꾸듯 걸음씩 나도 모르게...   \n",
       "12679  길을 잃은 사람이 건네 준 따스했던 설레임 기억이나 자꾸 생각나 늘 기다린 사랑이라...   \n",
       "\n",
       "                                                    tags     score  \n",
       "6074   ['국내', '걸그룹', 'KPOP', '가요', '여자아이돌', '여름', '시원...  0.141583  \n",
       "1643          ['국내', '가요', '사랑/기쁨', '봄', '달달한', '연애권장송']  0.137674  \n",
       "4654   ['국내', '가요', '아이돌', 'KPOP', '신나는', '시원한', '드라이...  0.110702  \n",
       "15441                    ['국내', '달달한', '설렘/심쿵', '사랑/기쁨']  0.103278  \n",
       "12679  ['OST', '영화/드라마', '국내', '빼빼로데이', '드라마', '고백', ...  0.100534  "
      ]
     },
     "execution_count": 182,
     "metadata": {},
     "output_type": "execute_result"
    }
   ],
   "source": [
    "music_REC(\"금요일에 만나요 (feat. 장이정 Of History)\").head(5)"
   ]
  },
  {
   "cell_type": "code",
   "execution_count": 167,
   "metadata": {},
   "outputs": [
    {
     "data": {
      "text/html": [
       "<div>\n",
       "<style scoped>\n",
       "    .dataframe tbody tr th:only-of-type {\n",
       "        vertical-align: middle;\n",
       "    }\n",
       "\n",
       "    .dataframe tbody tr th {\n",
       "        vertical-align: top;\n",
       "    }\n",
       "\n",
       "    .dataframe thead th {\n",
       "        text-align: right;\n",
       "    }\n",
       "</style>\n",
       "<table border=\"1\" class=\"dataframe\">\n",
       "  <thead>\n",
       "    <tr style=\"text-align: right;\">\n",
       "      <th></th>\n",
       "      <th>song_id</th>\n",
       "      <th>song_name</th>\n",
       "      <th>artist</th>\n",
       "      <th>Like_Count</th>\n",
       "      <th>Lyric</th>\n",
       "      <th>tags</th>\n",
       "      <th>score</th>\n",
       "    </tr>\n",
       "  </thead>\n",
       "  <tbody>\n",
       "    <tr>\n",
       "      <th>13928</th>\n",
       "      <td>32245079</td>\n",
       "      <td>걸어 (Feat.PEBBLE)</td>\n",
       "      <td>WANNA(워나)</td>\n",
       "      <td>[2]</td>\n",
       "      <td>수많은 걱정들 속에 너라는 이름은 없어 어떻게 그럴 수가 있어 묻는다면 나도 첨이야...</td>\n",
       "      <td>['국내', '인디', '사랑/기쁨', '국내 인디']</td>\n",
       "      <td>0.174139</td>\n",
       "    </tr>\n",
       "    <tr>\n",
       "      <th>826</th>\n",
       "      <td>38793</td>\n",
       "      <td>거꾸로 강을 거슬러 오르는 저 힘찬 연어들처럼</td>\n",
       "      <td>강산에(San-Eh Kang)</td>\n",
       "      <td>[39,881]</td>\n",
       "      <td>흐르는 강물을 거꾸로 거슬러 오르는 연어들의 도무지 그들만의 신비한 이유처럼 언제서...</td>\n",
       "      <td>['국내', '가요', '복고/레트로', '뉴트로', '감각적인', '신스팝']</td>\n",
       "      <td>0.158437</td>\n",
       "    </tr>\n",
       "    <tr>\n",
       "      <th>9652</th>\n",
       "      <td>80394986</td>\n",
       "      <td>엉뚱한 상상</td>\n",
       "      <td>에이트(8Eight)</td>\n",
       "      <td>[359]</td>\n",
       "      <td>언제부터인지 나도 수는 없지만 성탄절에 눈이 오지 않기 시작했어 매년 그때가 되면 ...</td>\n",
       "      <td>['국내', '가요', '눈오는 날', '첫눈']</td>\n",
       "      <td>0.127340</td>\n",
       "    </tr>\n",
       "    <tr>\n",
       "      <th>11151</th>\n",
       "      <td>32011993</td>\n",
       "      <td>라 루나 (La Luna)</td>\n",
       "      <td>핫펠트 (HA:TFELT)</td>\n",
       "      <td>[624]</td>\n",
       "      <td>막다른 골목에 선 긴장감이 흘러  뻔한 이끌림이래도 운명은 우연의 반복 궁금해져 너...</td>\n",
       "      <td>['국내', '알앤비', '힙합', '그루브한', '트렌디한', '편집숍/매장', ...</td>\n",
       "      <td>0.123045</td>\n",
       "    </tr>\n",
       "    <tr>\n",
       "      <th>9325</th>\n",
       "      <td>5522222</td>\n",
       "      <td>THE LAST HOLIDAY</td>\n",
       "      <td>레이디스 코드(LADIES' CODE)</td>\n",
       "      <td>[239]</td>\n",
       "      <td>추운 온도에 얼어붙은 손을 내밀어 따뜻한 커피와 추억들을 나눠줄래 떨리는 겨울이지만...</td>\n",
       "      <td>['국내', '가요', '캐롤', '크리스마스', '눈오는 날', '겨울']</td>\n",
       "      <td>0.119786</td>\n",
       "    </tr>\n",
       "  </tbody>\n",
       "</table>\n",
       "</div>"
      ],
      "text/plain": [
       "        song_id                  song_name                 artist Like_Count  \\\n",
       "13928  32245079           걸어 (Feat.PEBBLE)              WANNA(워나)        [2]   \n",
       "826       38793  거꾸로 강을 거슬러 오르는 저 힘찬 연어들처럼       강산에(San-Eh Kang)   [39,881]   \n",
       "9652   80394986                     엉뚱한 상상            에이트(8Eight)      [359]   \n",
       "11151  32011993             라 루나 (La Luna)         핫펠트 (HA:TFELT)      [624]   \n",
       "9325    5522222           THE LAST HOLIDAY  레이디스 코드(LADIES' CODE)      [239]   \n",
       "\n",
       "                                                   Lyric  \\\n",
       "13928  수많은 걱정들 속에 너라는 이름은 없어 어떻게 그럴 수가 있어 묻는다면 나도 첨이야...   \n",
       "826    흐르는 강물을 거꾸로 거슬러 오르는 연어들의 도무지 그들만의 신비한 이유처럼 언제서...   \n",
       "9652   언제부터인지 나도 수는 없지만 성탄절에 눈이 오지 않기 시작했어 매년 그때가 되면 ...   \n",
       "11151  막다른 골목에 선 긴장감이 흘러  뻔한 이끌림이래도 운명은 우연의 반복 궁금해져 너...   \n",
       "9325   추운 온도에 얼어붙은 손을 내밀어 따뜻한 커피와 추억들을 나눠줄래 떨리는 겨울이지만...   \n",
       "\n",
       "                                                    tags     score  \n",
       "13928                     ['국내', '인디', '사랑/기쁨', '국내 인디']  0.174139  \n",
       "826         ['국내', '가요', '복고/레트로', '뉴트로', '감각적인', '신스팝']  0.158437  \n",
       "9652                         ['국내', '가요', '눈오는 날', '첫눈']  0.127340  \n",
       "11151  ['국내', '알앤비', '힙합', '그루브한', '트렌디한', '편집숍/매장', ...  0.123045  \n",
       "9325          ['국내', '가요', '캐롤', '크리스마스', '눈오는 날', '겨울']  0.119786  "
      ]
     },
     "execution_count": 167,
     "metadata": {},
     "output_type": "execute_result"
    }
   ],
   "source": [
    "music_REC(\"미리 메리 크리스마스 (feat. 천둥 Of MBLAQ)\").head(5)"
   ]
  },
  {
   "cell_type": "markdown",
   "metadata": {},
   "source": [
    "## Error\n",
    "ValueError: The truth value of an array with `more than one element` is `ambiguous`. Use a.any() or a.all()\n",
    "* 아이유의 좋은 날을 생각하고 입력했던 곡 제목이 출력이 안되는 문제 발견\n",
    "* 한 개 이상의 요소를 입력하지 않았음에도 `more than one element` is `ambiguous`라는 오류가 발생\n",
    "* 보유한 노래 목록에서 '좋은 날' 과 일치하는 노래를 출력시켜 보았음"
   ]
  },
  {
   "cell_type": "code",
   "execution_count": 186,
   "metadata": {},
   "outputs": [
    {
     "ename": "ValueError",
     "evalue": "The truth value of an array with more than one element is ambiguous. Use a.any() or a.all()",
     "output_type": "error",
     "traceback": [
      "\u001b[0;31m\u001b[0m",
      "\u001b[0;31mValueError\u001b[0mTraceback (most recent call last)",
      "\u001b[0;32m<ipython-input-186-0c360d605441>\u001b[0m in \u001b[0;36m<module>\u001b[0;34m\u001b[0m\n\u001b[0;32m----> 1\u001b[0;31m \u001b[0mmusic_REC\u001b[0m\u001b[0;34m(\u001b[0m\u001b[0;34m\"좋은 날\"\u001b[0m\u001b[0;34m)\u001b[0m\u001b[0;34m.\u001b[0m\u001b[0mhead\u001b[0m\u001b[0;34m(\u001b[0m\u001b[0;36m5\u001b[0m\u001b[0;34m)\u001b[0m\u001b[0;34m\u001b[0m\u001b[0;34m\u001b[0m\u001b[0m\n\u001b[0m",
      "\u001b[0;32m<ipython-input-163-90709c68f25b>\u001b[0m in \u001b[0;36mmusic_REC\u001b[0;34m(song_name, cosine_sim)\u001b[0m\n\u001b[1;32m      8\u001b[0m \u001b[0;34m\u001b[0m\u001b[0m\n\u001b[1;32m      9\u001b[0m     \u001b[0;31m# 유사도에 따라 노래들을 정렬\u001b[0m\u001b[0;34m\u001b[0m\u001b[0;34m\u001b[0m\u001b[0;34m\u001b[0m\u001b[0m\n\u001b[0;32m---> 10\u001b[0;31m     \u001b[0msim_scores\u001b[0m \u001b[0;34m=\u001b[0m \u001b[0msorted\u001b[0m\u001b[0;34m(\u001b[0m\u001b[0msim_scores\u001b[0m\u001b[0;34m,\u001b[0m \u001b[0mkey\u001b[0m\u001b[0;34m=\u001b[0m\u001b[0;32mlambda\u001b[0m \u001b[0mx\u001b[0m\u001b[0;34m:\u001b[0m\u001b[0mx\u001b[0m\u001b[0;34m[\u001b[0m\u001b[0;36m1\u001b[0m\u001b[0;34m]\u001b[0m\u001b[0;34m,\u001b[0m \u001b[0mreverse\u001b[0m \u001b[0;34m=\u001b[0m \u001b[0;32mTrue\u001b[0m\u001b[0;34m)\u001b[0m\u001b[0;34m\u001b[0m\u001b[0;34m\u001b[0m\u001b[0m\n\u001b[0m\u001b[1;32m     11\u001b[0m \u001b[0;34m\u001b[0m\u001b[0m\n\u001b[1;32m     12\u001b[0m     \u001b[0;31m# 가장 유사한 10개의 노래를 받아옴\u001b[0m\u001b[0;34m\u001b[0m\u001b[0;34m\u001b[0m\u001b[0;34m\u001b[0m\u001b[0m\n",
      "\u001b[0;31mValueError\u001b[0m: The truth value of an array with more than one element is ambiguous. Use a.any() or a.all()"
     ]
    }
   ],
   "source": [
    "music_REC(\"좋은 날\").head(5)"
   ]
  },
  {
   "cell_type": "code",
   "execution_count": 184,
   "metadata": {
    "scrolled": false
   },
   "outputs": [
    {
     "data": {
      "text/html": [
       "<div>\n",
       "<style scoped>\n",
       "    .dataframe tbody tr th:only-of-type {\n",
       "        vertical-align: middle;\n",
       "    }\n",
       "\n",
       "    .dataframe tbody tr th {\n",
       "        vertical-align: top;\n",
       "    }\n",
       "\n",
       "    .dataframe thead th {\n",
       "        text-align: right;\n",
       "    }\n",
       "</style>\n",
       "<table border=\"1\" class=\"dataframe\">\n",
       "  <thead>\n",
       "    <tr style=\"text-align: right;\">\n",
       "      <th></th>\n",
       "      <th>song_id</th>\n",
       "      <th>song_name</th>\n",
       "      <th>artist</th>\n",
       "      <th>album</th>\n",
       "      <th>Like_Count</th>\n",
       "      <th>Lyric</th>\n",
       "      <th>cover_url</th>\n",
       "      <th>tags</th>\n",
       "      <th>words</th>\n",
       "    </tr>\n",
       "  </thead>\n",
       "  <tbody>\n",
       "    <tr>\n",
       "      <th>11846</th>\n",
       "      <td>2150694</td>\n",
       "      <td>좋은 날</td>\n",
       "      <td>아이유(IU)</td>\n",
       "      <td>Real</td>\n",
       "      <td>[40,186]</td>\n",
       "      <td>어쩜 하늘은 파란 건지 오늘따라 바람은 완벽한지 그냥 모르는 척 못들은 척 지워버린...</td>\n",
       "      <td>https://image.bugsm.co.kr/album/images/200/249...</td>\n",
       "      <td>['국내', 'KPOP', '아이돌', '떼창', '군대', '군인', '밀보드',...</td>\n",
       "      <td>[어쩜, 하늘은, 파란, 건지, 오늘따라, 바람은, 완벽한지, 그냥, 모르는, 척,...</td>\n",
       "    </tr>\n",
       "    <tr>\n",
       "      <th>12972</th>\n",
       "      <td>31177441</td>\n",
       "      <td>좋은 날</td>\n",
       "      <td>멜로망스(MeloMance)</td>\n",
       "      <td>미스터 션샤인 (tvN 주말드라마) OST - Part.5</td>\n",
       "      <td>[4,724]</td>\n",
       "      <td>조용한 바람 생각 물어옵니다 그댄 어느새 맘에 조용히 내려왔죠 깊은 잠일까 꿈을 꾸...</td>\n",
       "      <td>https://image.bugsm.co.kr/album/images/200/201...</td>\n",
       "      <td>['국내외', '지치고 힘들때', '울고 싶을때', '우울할때', '눈물']</td>\n",
       "      <td>[조용한, 바람, 생각, 물어옵니다, 그댄, 어느새, 맘에, 조용히, 내려왔죠, 깊...</td>\n",
       "    </tr>\n",
       "  </tbody>\n",
       "</table>\n",
       "</div>"
      ],
      "text/plain": [
       "        song_id song_name           artist                             album  \\\n",
       "11846   2150694      좋은 날          아이유(IU)                              Real   \n",
       "12972  31177441      좋은 날  멜로망스(MeloMance)  미스터 션샤인 (tvN 주말드라마) OST - Part.5   \n",
       "\n",
       "      Like_Count                                              Lyric  \\\n",
       "11846   [40,186]  어쩜 하늘은 파란 건지 오늘따라 바람은 완벽한지 그냥 모르는 척 못들은 척 지워버린...   \n",
       "12972    [4,724]  조용한 바람 생각 물어옵니다 그댄 어느새 맘에 조용히 내려왔죠 깊은 잠일까 꿈을 꾸...   \n",
       "\n",
       "                                               cover_url  \\\n",
       "11846  https://image.bugsm.co.kr/album/images/200/249...   \n",
       "12972  https://image.bugsm.co.kr/album/images/200/201...   \n",
       "\n",
       "                                                    tags  \\\n",
       "11846  ['국내', 'KPOP', '아이돌', '떼창', '군대', '군인', '밀보드',...   \n",
       "12972         ['국내외', '지치고 힘들때', '울고 싶을때', '우울할때', '눈물']   \n",
       "\n",
       "                                                   words  \n",
       "11846  [어쩜, 하늘은, 파란, 건지, 오늘따라, 바람은, 완벽한지, 그냥, 모르는, 척,...  \n",
       "12972  [조용한, 바람, 생각, 물어옵니다, 그댄, 어느새, 맘에, 조용히, 내려왔죠, 깊...  "
      ]
     },
     "execution_count": 184,
     "metadata": {},
     "output_type": "execute_result"
    }
   ],
   "source": [
    "total_playlist[total_playlist['song_name']=='좋은 날']"
   ]
  },
  {
   "cell_type": "markdown",
   "metadata": {},
   "source": [
    "### 제목이 동일한 곡일 경우 다중으로 입력되어 오류가 발생한 것임을 파악\n",
    "* 아이유의 '좋은 날' , 멜로망스의 '좋은 날'"
   ]
  },
  {
   "cell_type": "markdown",
   "metadata": {},
   "source": [
    "---"
   ]
  },
  {
   "cell_type": "markdown",
   "metadata": {},
   "source": [
    "### 해결 방법 : 곡 제목이 아닌 고유 번호로 검색하는 방식"
   ]
  },
  {
   "cell_type": "markdown",
   "metadata": {},
   "source": [
    "* 곡 아이디를 str로 형변환"
   ]
  },
  {
   "cell_type": "code",
   "execution_count": 194,
   "metadata": {},
   "outputs": [],
   "source": [
    "total_playlist.song_id = total_playlist.song_id.astype(str)"
   ]
  },
  {
   "cell_type": "markdown",
   "metadata": {},
   "source": [
    "### 인덱스 테이블을 만들 때 곡 이름이 아닌, 고유 번호로 생성"
   ]
  },
  {
   "cell_type": "code",
   "execution_count": 200,
   "metadata": {
    "scrolled": true
   },
   "outputs": [
    {
     "name": "stdout",
     "output_type": "stream",
     "text": [
      "(15877, 139929)\n"
     ]
    }
   ],
   "source": [
    "\"\"\"TF-IDF로 만들기\"\"\"\n",
    "from sklearn.feature_extraction.text import TfidfVectorizer\n",
    "tfidf = TfidfVectorizer()\n",
    "tfidf_matrix = tfidf.fit_transform(total_playlist.Lyric)\n",
    "# 줄거리에 대해서 tf-idf 수행\n",
    "print(tfidf_matrix.shape)"
   ]
  },
  {
   "cell_type": "code",
   "execution_count": 201,
   "metadata": {},
   "outputs": [],
   "source": [
    "\"\"\"코사인 유사도 구하기\"\"\"\n",
    "from sklearn.metrics.pairwise import linear_kernel\n",
    "cosine_sim = linear_kernel(tfidf_matrix, tfidf_matrix)"
   ]
  },
  {
   "cell_type": "markdown",
   "metadata": {},
   "source": [
    "* 변경 : index=total_playlist.song_id"
   ]
  },
  {
   "cell_type": "code",
   "execution_count": 202,
   "metadata": {},
   "outputs": [
    {
     "name": "stdout",
     "output_type": "stream",
     "text": [
      "song_id\n",
      "30392514        0\n",
      "30061516        1\n",
      "30506160        2\n",
      "3988024         3\n",
      "30428818        4\n",
      "            ...  \n",
      "30347583    15872\n",
      "3095885     15873\n",
      "3724882     15874\n",
      "80201761    15875\n",
      "3769789     15876\n",
      "Length: 15877, dtype: int64\n"
     ]
    }
   ],
   "source": [
    "\"\"\"인덱스 테이블 만들기\"\"\"\n",
    "indices = pd.Series(total_playlist.index, index=total_playlist.song_id).drop_duplicates()\n",
    "print(indices)"
   ]
  },
  {
   "cell_type": "markdown",
   "metadata": {},
   "source": [
    "### 함수 변경 \n",
    "* 곡 아이디를 입력했을 때 해당 아이디와 일치하는 가사의 코사인 유사도를 계산할 수 있도록 함"
   ]
  },
  {
   "cell_type": "code",
   "execution_count": 203,
   "metadata": {},
   "outputs": [],
   "source": [
    "\"\"\"추천 해주기\"\"\"\n",
    "def music_REC(song_id, cosine_sim=cosine_sim):\n",
    "    #입력한 노래로부터 인덱스 가져오기\n",
    "    idx = indices[song_id]\n",
    "\n",
    "    # 모든 노래에 대해서 해당 노래와의 유사도를 구하기\n",
    "    sim_scores = list(enumerate(cosine_sim[idx]))\n",
    "\n",
    "    # 유사도에 따라 노래들을 정렬\n",
    "    sim_scores = sorted(sim_scores, key=lambda x:x[1], reverse = True)\n",
    "\n",
    "    # 가장 유사한 10개의 노래를 받아옴\n",
    "    sim_scores = sim_scores[1:11]\n",
    "\n",
    "    # 가장 유사한 10개 노래의 인덱스 받아옴\n",
    "    music_indices = [i[0] for i in sim_scores]\n",
    "    \n",
    "    # 기존에 읽어들인 데이터에서 해당 인덱스의 값들을 가져온다. \n",
    "    # 그리고 스코어 열을 추가하여 코사인 유사도도 확인할 수 있게 한다.\n",
    "    result_df = total_playlist.iloc[music_indices].copy()\n",
    "    result_df['score'] = [i[1] for i in sim_scores]\n",
    "    \n",
    "    # 읽어들인 데이터에서 제거할 칼럼명\n",
    "    # del result_df['content']\n",
    "    del result_df['cover_url']\n",
    "    del result_df['album'] \n",
    "    del result_df['words'] \n",
    "\n",
    "    # 가장 유사한 10개의 노래의 제목을 리턴\n",
    "    return result_df"
   ]
  },
  {
   "cell_type": "markdown",
   "metadata": {},
   "source": [
    "### 결과 확인\n",
    "* 아이유 '좋은 날'의 고유 번호는 2150694"
   ]
  },
  {
   "cell_type": "code",
   "execution_count": 205,
   "metadata": {},
   "outputs": [
    {
     "data": {
      "text/html": [
       "<div>\n",
       "<style scoped>\n",
       "    .dataframe tbody tr th:only-of-type {\n",
       "        vertical-align: middle;\n",
       "    }\n",
       "\n",
       "    .dataframe tbody tr th {\n",
       "        vertical-align: top;\n",
       "    }\n",
       "\n",
       "    .dataframe thead th {\n",
       "        text-align: right;\n",
       "    }\n",
       "</style>\n",
       "<table border=\"1\" class=\"dataframe\">\n",
       "  <thead>\n",
       "    <tr style=\"text-align: right;\">\n",
       "      <th></th>\n",
       "      <th>song_id</th>\n",
       "      <th>song_name</th>\n",
       "      <th>artist</th>\n",
       "      <th>Like_Count</th>\n",
       "      <th>Lyric</th>\n",
       "      <th>tags</th>\n",
       "      <th>score</th>\n",
       "    </tr>\n",
       "  </thead>\n",
       "  <tbody>\n",
       "    <tr>\n",
       "      <th>8440</th>\n",
       "      <td>80392898</td>\n",
       "      <td>봄봄봄</td>\n",
       "      <td>루싸이트 토끼</td>\n",
       "      <td>[3,417]</td>\n",
       "      <td>파란하늘 졸린 봄 노란 공기 이런 하기 딱 좋은걸 뻔하고 서툴러 망설여져 지루해도 ...</td>\n",
       "      <td>['국내', '인디', '국내 인디', '여성보컬', '비온후/맑게갠', '목소리/...</td>\n",
       "      <td>0.147044</td>\n",
       "    </tr>\n",
       "    <tr>\n",
       "      <th>2721</th>\n",
       "      <td>3361811</td>\n",
       "      <td>마치 오늘 같으니까</td>\n",
       "      <td>스무살</td>\n",
       "      <td>[191]</td>\n",
       "      <td>맞아 그땐 어렸었지 그리고 미쳐 그땐 몰랐었지 그런데 생각해보니까 아니 그럴 필요도...</td>\n",
       "      <td>['국내', '인디', '잔잔한', '겨울', '카페', '어쿠스틱한', '포크/어...</td>\n",
       "      <td>0.132277</td>\n",
       "    </tr>\n",
       "    <tr>\n",
       "      <th>9794</th>\n",
       "      <td>3768051</td>\n",
       "      <td>그녀가 말했다 (With 권진아)</td>\n",
       "      <td>토이(Toy)</td>\n",
       "      <td>[6,514]</td>\n",
       "      <td>새 옷을 사고 종일 를 켜놔도 자꾸만 멍하니 전화만 보네요 친굴 만나고 애써 아닌 ...</td>\n",
       "      <td>['국내', '발라드', '발라드한', '가을', '겨울', '환절기', '감성적인...</td>\n",
       "      <td>0.115737</td>\n",
       "    </tr>\n",
       "    <tr>\n",
       "      <th>8876</th>\n",
       "      <td>30249354</td>\n",
       "      <td>우리 이젠 어디로</td>\n",
       "      <td>지소울 (GSoul)</td>\n",
       "      <td>[1,381]</td>\n",
       "      <td>할말 없음 끊을게 졸려 잘게 짜증낸 거 아냐 그냥 피곤해 그만 귀찮게 된 건지 한땐...</td>\n",
       "      <td>['국내', '인디', '국내 인디', '밤/새벽', '시티팝', '하교/퇴근길',...</td>\n",
       "      <td>0.111458</td>\n",
       "    </tr>\n",
       "    <tr>\n",
       "      <th>12758</th>\n",
       "      <td>30724656</td>\n",
       "      <td>어디서부터</td>\n",
       "      <td>이진아</td>\n",
       "      <td>[550]</td>\n",
       "      <td>어디서부터 어떻게 할지 자존심은 이리 커져 건지 몰라요 사랑은 어디로 가버린 건지 ...</td>\n",
       "      <td>['국내', '우울할때', '위로', '나 혼자', '고독', '울고 싶을때', '...</td>\n",
       "      <td>0.099618</td>\n",
       "    </tr>\n",
       "  </tbody>\n",
       "</table>\n",
       "</div>"
      ],
      "text/plain": [
       "        song_id           song_name       artist Like_Count  \\\n",
       "8440   80392898                 봄봄봄      루싸이트 토끼    [3,417]   \n",
       "2721    3361811          마치 오늘 같으니까          스무살      [191]   \n",
       "9794    3768051  그녀가 말했다 (With 권진아)      토이(Toy)    [6,514]   \n",
       "8876   30249354           우리 이젠 어디로  지소울 (GSoul)    [1,381]   \n",
       "12758  30724656               어디서부터          이진아      [550]   \n",
       "\n",
       "                                                   Lyric  \\\n",
       "8440   파란하늘 졸린 봄 노란 공기 이런 하기 딱 좋은걸 뻔하고 서툴러 망설여져 지루해도 ...   \n",
       "2721   맞아 그땐 어렸었지 그리고 미쳐 그땐 몰랐었지 그런데 생각해보니까 아니 그럴 필요도...   \n",
       "9794   새 옷을 사고 종일 를 켜놔도 자꾸만 멍하니 전화만 보네요 친굴 만나고 애써 아닌 ...   \n",
       "8876   할말 없음 끊을게 졸려 잘게 짜증낸 거 아냐 그냥 피곤해 그만 귀찮게 된 건지 한땐...   \n",
       "12758  어디서부터 어떻게 할지 자존심은 이리 커져 건지 몰라요 사랑은 어디로 가버린 건지 ...   \n",
       "\n",
       "                                                    tags     score  \n",
       "8440   ['국내', '인디', '국내 인디', '여성보컬', '비온후/맑게갠', '목소리/...  0.147044  \n",
       "2721   ['국내', '인디', '잔잔한', '겨울', '카페', '어쿠스틱한', '포크/어...  0.132277  \n",
       "9794   ['국내', '발라드', '발라드한', '가을', '겨울', '환절기', '감성적인...  0.115737  \n",
       "8876   ['국내', '인디', '국내 인디', '밤/새벽', '시티팝', '하교/퇴근길',...  0.111458  \n",
       "12758  ['국내', '우울할때', '위로', '나 혼자', '고독', '울고 싶을때', '...  0.099618  "
      ]
     },
     "execution_count": 205,
     "metadata": {},
     "output_type": "execute_result"
    }
   ],
   "source": [
    "music_REC('2150694').head(5)"
   ]
  },
  {
   "cell_type": "markdown",
   "metadata": {},
   "source": [
    "* 멜로망스의 '좋은 날'의 고유 번호는 31177441"
   ]
  },
  {
   "cell_type": "code",
   "execution_count": 211,
   "metadata": {},
   "outputs": [
    {
     "data": {
      "text/html": [
       "<div>\n",
       "<style scoped>\n",
       "    .dataframe tbody tr th:only-of-type {\n",
       "        vertical-align: middle;\n",
       "    }\n",
       "\n",
       "    .dataframe tbody tr th {\n",
       "        vertical-align: top;\n",
       "    }\n",
       "\n",
       "    .dataframe thead th {\n",
       "        text-align: right;\n",
       "    }\n",
       "</style>\n",
       "<table border=\"1\" class=\"dataframe\">\n",
       "  <thead>\n",
       "    <tr style=\"text-align: right;\">\n",
       "      <th></th>\n",
       "      <th>song_id</th>\n",
       "      <th>song_name</th>\n",
       "      <th>artist</th>\n",
       "      <th>Like_Count</th>\n",
       "      <th>Lyric</th>\n",
       "      <th>tags</th>\n",
       "      <th>score</th>\n",
       "    </tr>\n",
       "  </thead>\n",
       "  <tbody>\n",
       "    <tr>\n",
       "      <th>3540</th>\n",
       "      <td>30047200</td>\n",
       "      <td>걱정말아요 그대</td>\n",
       "      <td>이적</td>\n",
       "      <td>[16,608]</td>\n",
       "      <td>그대여 아무 걱정 하지 말아요 함께 노래 합시다 아픈 기억들 모두 그대여 가슴에 깊...</td>\n",
       "      <td>['국내', '발라드한', '발라드', '국내 발라드', '100시리즈', '가요'...</td>\n",
       "      <td>0.224383</td>\n",
       "    </tr>\n",
       "    <tr>\n",
       "      <th>6160</th>\n",
       "      <td>31109522</td>\n",
       "      <td>Circus</td>\n",
       "      <td>태연 (TAEYEON)</td>\n",
       "      <td>[4,192]</td>\n",
       "      <td>아주 찬란했고 빛이 가득해 늘 가득해  모두 환호하고 환호해 우릴 향해    모습이...</td>\n",
       "      <td>['국내', '가요', '아이돌', 'KPOP', '가을', '아련한', '청량한'...</td>\n",
       "      <td>0.224383</td>\n",
       "    </tr>\n",
       "    <tr>\n",
       "      <th>9706</th>\n",
       "      <td>30432855</td>\n",
       "      <td>애정 없는 장난</td>\n",
       "      <td>곽푸른하늘</td>\n",
       "      <td>[316]</td>\n",
       "      <td>애정 장난에 속아 버렸어 아마 이런 식의 만남은 처음이었을 둘도 존재가 되어주지 않...</td>\n",
       "      <td>['국내', '발라드', '가을', '이별/슬픔', '발라드한', '국내 발라드']</td>\n",
       "      <td>0.224383</td>\n",
       "    </tr>\n",
       "    <tr>\n",
       "      <th>4421</th>\n",
       "      <td>31642988</td>\n",
       "      <td>잠들고 나면</td>\n",
       "      <td>이은서</td>\n",
       "      <td>[86]</td>\n",
       "      <td>세계엔 많은 숫자들이 누군가의 뒤엔 누군가의 표정이 나타나고 사라지는 말들이 공기 ...</td>\n",
       "      <td>['국내', '인디', '국내 인디', '밤/새벽', '카페', '감성적인', '몽...</td>\n",
       "      <td>0.142295</td>\n",
       "    </tr>\n",
       "    <tr>\n",
       "      <th>9552</th>\n",
       "      <td>432843</td>\n",
       "      <td>소리</td>\n",
       "      <td>윤상</td>\n",
       "      <td>[1,097]</td>\n",
       "      <td>좋아하는 몇 가지 있단다 하늘만큼 땅만큼 좋아하는 반가운 사람이 찾아와 문 두드리는...</td>\n",
       "      <td>['국내', '가요', '발라드한', '국내 발라드', '발라드', '눈오는 날',...</td>\n",
       "      <td>0.136937</td>\n",
       "    </tr>\n",
       "  </tbody>\n",
       "</table>\n",
       "</div>"
      ],
      "text/plain": [
       "       song_id song_name        artist Like_Count  \\\n",
       "3540  30047200  걱정말아요 그대            이적   [16,608]   \n",
       "6160  31109522    Circus  태연 (TAEYEON)    [4,192]   \n",
       "9706  30432855  애정 없는 장난         곽푸른하늘      [316]   \n",
       "4421  31642988    잠들고 나면           이은서       [86]   \n",
       "9552    432843        소리            윤상    [1,097]   \n",
       "\n",
       "                                                  Lyric  \\\n",
       "3540  그대여 아무 걱정 하지 말아요 함께 노래 합시다 아픈 기억들 모두 그대여 가슴에 깊...   \n",
       "6160  아주 찬란했고 빛이 가득해 늘 가득해  모두 환호하고 환호해 우릴 향해    모습이...   \n",
       "9706  애정 장난에 속아 버렸어 아마 이런 식의 만남은 처음이었을 둘도 존재가 되어주지 않...   \n",
       "4421  세계엔 많은 숫자들이 누군가의 뒤엔 누군가의 표정이 나타나고 사라지는 말들이 공기 ...   \n",
       "9552  좋아하는 몇 가지 있단다 하늘만큼 땅만큼 좋아하는 반가운 사람이 찾아와 문 두드리는...   \n",
       "\n",
       "                                                   tags     score  \n",
       "3540  ['국내', '발라드한', '발라드', '국내 발라드', '100시리즈', '가요'...  0.224383  \n",
       "6160  ['국내', '가요', '아이돌', 'KPOP', '가을', '아련한', '청량한'...  0.224383  \n",
       "9706     ['국내', '발라드', '가을', '이별/슬픔', '발라드한', '국내 발라드']  0.224383  \n",
       "4421  ['국내', '인디', '국내 인디', '밤/새벽', '카페', '감성적인', '몽...  0.142295  \n",
       "9552  ['국내', '가요', '발라드한', '국내 발라드', '발라드', '눈오는 날',...  0.136937  "
      ]
     },
     "execution_count": 211,
     "metadata": {},
     "output_type": "execute_result"
    }
   ],
   "source": [
    "music_REC('31177441').head(5)"
   ]
  },
  {
   "cell_type": "code",
   "execution_count": null,
   "metadata": {},
   "outputs": [],
   "source": []
  }
 ],
 "metadata": {
  "hide_input": false,
  "kernelspec": {
   "display_name": "Python 3",
   "language": "python",
   "name": "python3"
  },
  "language_info": {
   "codemirror_mode": {
    "name": "ipython",
    "version": 3
   },
   "file_extension": ".py",
   "mimetype": "text/x-python",
   "name": "python",
   "nbconvert_exporter": "python",
   "pygments_lexer": "ipython3",
   "version": "3.8.10"
  },
  "toc": {
   "base_numbering": 1,
   "nav_menu": {},
   "number_sections": true,
   "sideBar": true,
   "skip_h1_title": false,
   "title_cell": "Table of Contents",
   "title_sidebar": "Contents",
   "toc_cell": false,
   "toc_position": {},
   "toc_section_display": true,
   "toc_window_display": false
  },
  "varInspector": {
   "cols": {
    "lenName": 16,
    "lenType": 16,
    "lenVar": 40
   },
   "kernels_config": {
    "python": {
     "delete_cmd_postfix": "",
     "delete_cmd_prefix": "del ",
     "library": "var_list.py",
     "varRefreshCmd": "print(var_dic_list())"
    },
    "r": {
     "delete_cmd_postfix": ") ",
     "delete_cmd_prefix": "rm(",
     "library": "var_list.r",
     "varRefreshCmd": "cat(var_dic_list()) "
    }
   },
   "types_to_exclude": [
    "module",
    "function",
    "builtin_function_or_method",
    "instance",
    "_Feature"
   ],
   "window_display": false
  }
 },
 "nbformat": 4,
 "nbformat_minor": 5
}
