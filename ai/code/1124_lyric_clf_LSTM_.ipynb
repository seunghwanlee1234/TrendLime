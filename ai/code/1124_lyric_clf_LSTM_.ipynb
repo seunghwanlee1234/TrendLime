{
 "cells": [
  {
   "cell_type": "markdown",
   "id": "389c464c",
   "metadata": {},
   "source": [
    "## 1124 가사 이진 감정 분류 모델"
   ]
  },
  {
   "cell_type": "code",
   "execution_count": 79,
   "id": "ff9c3b57",
   "metadata": {
    "ExecuteTime": {
     "end_time": "2021-11-24T08:47:03.291413Z",
     "start_time": "2021-11-24T08:47:00.817319Z"
    }
   },
   "outputs": [],
   "source": [
    "import re\n",
    "import requests\n",
    "from bs4 import BeautifulSoup\n",
    "import pandas as pd\n",
    "from konlpy.tag import Okt  \n",
    "okt = Okt() \n",
    "import tensorflow as tf\n",
    "import numpy as np\n",
    "from collections import Counter\n",
    "from konlpy.tag import Komoran\n",
    "komoran = Komoran()\n",
    "from wordcloud import WordCloud\n",
    "import matplotlib.pyplot as plt\n",
    "\n",
    "\n",
    "import urllib.request\n",
    "from tqdm import tqdm\n",
    "from tensorflow.keras.preprocessing.text import Tokenizer\n",
    "from tensorflow.keras.preprocessing.sequence import pad_sequences\n",
    "from sklearn.model_selection import train_test_split"
   ]
  },
  {
   "cell_type": "code",
   "execution_count": 2,
   "id": "fd75dee7",
   "metadata": {
    "ExecuteTime": {
     "end_time": "2021-11-24T05:10:18.559483Z",
     "start_time": "2021-11-24T05:10:18.532479Z"
    }
   },
   "outputs": [],
   "source": [
    "import matplotlib.pyplot as plt \n",
    "%matplotlib inline\n",
    "from string import punctuation\n",
    "import warnings\n",
    "warnings.filterwarnings('ignore')"
   ]
  },
  {
   "cell_type": "code",
   "execution_count": 34,
   "id": "cc652472",
   "metadata": {
    "ExecuteTime": {
     "end_time": "2021-11-24T05:27:01.210972Z",
     "start_time": "2021-11-24T05:27:00.535957Z"
    }
   },
   "outputs": [],
   "source": [
    "df = pd.read_csv('./z_save/total_playlist.csv')"
   ]
  },
  {
   "cell_type": "code",
   "execution_count": 35,
   "id": "ca2f6cb5",
   "metadata": {
    "ExecuteTime": {
     "end_time": "2021-11-24T05:27:01.573940Z",
     "start_time": "2021-11-24T05:27:01.543968Z"
    }
   },
   "outputs": [
    {
     "name": "stdout",
     "output_type": "stream",
     "text": [
      "<class 'pandas.core.frame.DataFrame'>\n",
      "RangeIndex: 27927 entries, 0 to 27926\n",
      "Data columns (total 8 columns):\n",
      " #   Column      Non-Null Count  Dtype \n",
      "---  ------      --------------  ----- \n",
      " 0   song_id     27927 non-null  int64 \n",
      " 1   song_name   27927 non-null  object\n",
      " 2   artist      27927 non-null  object\n",
      " 3   album       27926 non-null  object\n",
      " 4   Like_Count  27918 non-null  object\n",
      " 5   Lyric       27894 non-null  object\n",
      " 6   cover_url   27906 non-null  object\n",
      " 7   tags        27906 non-null  object\n",
      "dtypes: int64(1), object(7)\n",
      "memory usage: 1.7+ MB\n"
     ]
    }
   ],
   "source": [
    "df.info()"
   ]
  },
  {
   "cell_type": "code",
   "execution_count": 37,
   "id": "b47384dc",
   "metadata": {
    "ExecuteTime": {
     "end_time": "2021-11-24T05:27:08.980746Z",
     "start_time": "2021-11-24T05:27:08.963714Z"
    }
   },
   "outputs": [
    {
     "name": "stdout",
     "output_type": "stream",
     "text": [
      "27894\n"
     ]
    }
   ],
   "source": [
    "print(len(df.Lyric)) # 데이터 개수"
   ]
  },
  {
   "cell_type": "markdown",
   "id": "cdbf46e0",
   "metadata": {},
   "source": [
    "## word columns"
   ]
  },
  {
   "cell_type": "code",
   "execution_count": 38,
   "id": "9b51cef1",
   "metadata": {
    "ExecuteTime": {
     "end_time": "2021-11-24T05:27:10.537976Z",
     "start_time": "2021-11-24T05:27:10.518959Z"
    }
   },
   "outputs": [],
   "source": [
    "# 불용어 단어 (가사 빈도수 높은 + 감정분류와 무관한 단어 추가 중)\n",
    "stop_w = ['all','이렇게','네가','있는','니가','없는','너의','너무','그런',\n",
    "          'oh','whoo','tuesday','내가','너를','나를','we','this','the','그렇게',\n",
    "          'so','am','baby','and','can','you','much','me','for','go','in',\n",
    "          '은', '는', '이', '가', '하',\n",
    "          'know','no','of','let','my','사랑','수','너','내','나','그','난','봐','돼','건','모든',\n",
    "          '날','널','수','것','못','말','넌','젠','하나','정말','알','여기','우리','그대','다시',\n",
    "          '때','아','더','게','또','채','일','걸','누구','나는','너는','라면','같아','있어','지금',\n",
    "          '의','가','보','들','좀','잘','걍','과','도','를','으로','우린',\n",
    "          '자','에','와','한','하다','네','있다','나의','해','다','내게','왜','거야']"
   ]
  },
  {
   "cell_type": "code",
   "execution_count": 39,
   "id": "abb253cb",
   "metadata": {
    "ExecuteTime": {
     "end_time": "2021-11-24T05:27:25.107968Z",
     "start_time": "2021-11-24T05:27:12.104713Z"
    }
   },
   "outputs": [],
   "source": [
    "words = []\n",
    "for sent in df['Lyric'].tolist():\n",
    "    sent_s = []\n",
    "    sent_s.append(sent.split())\n",
    "    for word in sent_s:\n",
    "        if word not in stop_w:\n",
    "            words.append(word)"
   ]
  },
  {
   "cell_type": "code",
   "execution_count": 41,
   "id": "5280af4a",
   "metadata": {
    "ExecuteTime": {
     "end_time": "2021-11-24T05:28:19.529967Z",
     "start_time": "2021-11-24T05:28:19.395815Z"
    }
   },
   "outputs": [
    {
     "data": {
      "text/html": [
       "<div>\n",
       "<style scoped>\n",
       "    .dataframe tbody tr th:only-of-type {\n",
       "        vertical-align: middle;\n",
       "    }\n",
       "\n",
       "    .dataframe tbody tr th {\n",
       "        vertical-align: top;\n",
       "    }\n",
       "\n",
       "    .dataframe thead th {\n",
       "        text-align: right;\n",
       "    }\n",
       "</style>\n",
       "<table border=\"1\" class=\"dataframe\">\n",
       "  <thead>\n",
       "    <tr style=\"text-align: right;\">\n",
       "      <th></th>\n",
       "      <th>song_id</th>\n",
       "      <th>song_name</th>\n",
       "      <th>artist</th>\n",
       "      <th>album</th>\n",
       "      <th>Like_Count</th>\n",
       "      <th>Lyric</th>\n",
       "      <th>cover_url</th>\n",
       "      <th>tags</th>\n",
       "      <th>words</th>\n",
       "    </tr>\n",
       "  </thead>\n",
       "  <tbody>\n",
       "    <tr>\n",
       "      <th>0</th>\n",
       "      <td>30392514</td>\n",
       "      <td>bath</td>\n",
       "      <td>offonoff (오프온오프)</td>\n",
       "      <td>bath</td>\n",
       "      <td>[5,781]</td>\n",
       "      <td>거긴 날씨가 어때   나의 하늘과 밤엔   자꾸 떠오르는 기억이   계속 내게 말을...</td>\n",
       "      <td>https://image.bugsm.co.kr/album/images/200/200...</td>\n",
       "      <td>['국내', '힙합', '알앤비', '밤/새벽', '감각적인', '작업실', '몽환...</td>\n",
       "      <td>[거긴, 날씨가, 어때, 나의, 하늘과, 밤엔, 자꾸, 떠오르는, 기억이, 계속, ...</td>\n",
       "    </tr>\n",
       "    <tr>\n",
       "      <th>1</th>\n",
       "      <td>30346372</td>\n",
       "      <td>Belief (millic remix)</td>\n",
       "      <td>millic(밀릭)</td>\n",
       "      <td>Belief</td>\n",
       "      <td>[1,510]</td>\n",
       "      <td>Our belief for each other  written on a page  ...</td>\n",
       "      <td>https://image.bugsm.co.kr/album/images/200/200...</td>\n",
       "      <td>['국내', '힙합', '알앤비', '밤/새벽', '감각적인', '작업실', '몽환...</td>\n",
       "      <td>[Our, belief, for, each, other, written, on, a...</td>\n",
       "    </tr>\n",
       "    <tr>\n",
       "      <th>2</th>\n",
       "      <td>30061516</td>\n",
       "      <td>[권리없는 곡]</td>\n",
       "      <td>아파치(Apachi)</td>\n",
       "      <td>Toujours Youth Remix Album</td>\n",
       "      <td>[54]</td>\n",
       "      <td>겁이 나  내게 아무 말이나 들려줘  Girl I'm tired    LGBT ne...</td>\n",
       "      <td>https://image.bugsm.co.kr/album/images/200/200...</td>\n",
       "      <td>['국내', '힙합', '알앤비', '밤/새벽', '감각적인', '작업실', '몽환...</td>\n",
       "      <td>[겁이, 나, 내게, 아무, 말이나, 들려줘, Girl, I'm, tired, LG...</td>\n",
       "    </tr>\n",
       "  </tbody>\n",
       "</table>\n",
       "</div>"
      ],
      "text/plain": [
       "    song_id              song_name            artist  \\\n",
       "0  30392514                   bath  offonoff (오프온오프)   \n",
       "1  30346372  Belief (millic remix)        millic(밀릭)   \n",
       "2  30061516               [권리없는 곡]       아파치(Apachi)   \n",
       "\n",
       "                        album Like_Count  \\\n",
       "0                        bath    [5,781]   \n",
       "1                      Belief    [1,510]   \n",
       "2  Toujours Youth Remix Album       [54]   \n",
       "\n",
       "                                               Lyric  \\\n",
       "0  거긴 날씨가 어때   나의 하늘과 밤엔   자꾸 떠오르는 기억이   계속 내게 말을...   \n",
       "1  Our belief for each other  written on a page  ...   \n",
       "2  겁이 나  내게 아무 말이나 들려줘  Girl I'm tired    LGBT ne...   \n",
       "\n",
       "                                           cover_url  \\\n",
       "0  https://image.bugsm.co.kr/album/images/200/200...   \n",
       "1  https://image.bugsm.co.kr/album/images/200/200...   \n",
       "2  https://image.bugsm.co.kr/album/images/200/200...   \n",
       "\n",
       "                                                tags  \\\n",
       "0  ['국내', '힙합', '알앤비', '밤/새벽', '감각적인', '작업실', '몽환...   \n",
       "1  ['국내', '힙합', '알앤비', '밤/새벽', '감각적인', '작업실', '몽환...   \n",
       "2  ['국내', '힙합', '알앤비', '밤/새벽', '감각적인', '작업실', '몽환...   \n",
       "\n",
       "                                               words  \n",
       "0  [거긴, 날씨가, 어때, 나의, 하늘과, 밤엔, 자꾸, 떠오르는, 기억이, 계속, ...  \n",
       "1  [Our, belief, for, each, other, written, on, a...  \n",
       "2  [겁이, 나, 내게, 아무, 말이나, 들려줘, Girl, I'm, tired, LG...  "
      ]
     },
     "execution_count": 41,
     "metadata": {},
     "output_type": "execute_result"
    }
   ],
   "source": [
    "df['words'] = words\n",
    "df.head(3)"
   ]
  },
  {
   "cell_type": "markdown",
   "id": "46b22849",
   "metadata": {},
   "source": [
    "## 전처리"
   ]
  },
  {
   "cell_type": "code",
   "execution_count": 42,
   "id": "bd406c46",
   "metadata": {
    "ExecuteTime": {
     "end_time": "2021-11-24T05:28:37.224206Z",
     "start_time": "2021-11-24T05:28:36.312017Z"
    }
   },
   "outputs": [
    {
     "data": {
      "text/html": [
       "<div>\n",
       "<style scoped>\n",
       "    .dataframe tbody tr th:only-of-type {\n",
       "        vertical-align: middle;\n",
       "    }\n",
       "\n",
       "    .dataframe tbody tr th {\n",
       "        vertical-align: top;\n",
       "    }\n",
       "\n",
       "    .dataframe thead th {\n",
       "        text-align: right;\n",
       "    }\n",
       "</style>\n",
       "<table border=\"1\" class=\"dataframe\">\n",
       "  <thead>\n",
       "    <tr style=\"text-align: right;\">\n",
       "      <th></th>\n",
       "      <th>song_id</th>\n",
       "      <th>song_name</th>\n",
       "      <th>artist</th>\n",
       "      <th>album</th>\n",
       "      <th>Like_Count</th>\n",
       "      <th>Lyric</th>\n",
       "      <th>cover_url</th>\n",
       "      <th>tags</th>\n",
       "      <th>words</th>\n",
       "    </tr>\n",
       "  </thead>\n",
       "  <tbody>\n",
       "    <tr>\n",
       "      <th>0</th>\n",
       "      <td>30392514</td>\n",
       "      <td>bath</td>\n",
       "      <td>offonoff (오프온오프)</td>\n",
       "      <td>bath</td>\n",
       "      <td>[5,781]</td>\n",
       "      <td>거긴 날씨가 어때   나의 하늘과 밤엔   자꾸 떠오르는 기억이   계속 내게 말을...</td>\n",
       "      <td>https://image.bugsm.co.kr/album/images/200/200...</td>\n",
       "      <td>['국내', '힙합', '알앤비', '밤/새벽', '감각적인', '작업실', '몽환...</td>\n",
       "      <td>[거긴, 날씨가, 어때, 나의, 하늘과, 밤엔, 자꾸, 떠오르는, 기억이, 계속, ...</td>\n",
       "    </tr>\n",
       "    <tr>\n",
       "      <th>1</th>\n",
       "      <td>30346372</td>\n",
       "      <td>Belief (millic remix)</td>\n",
       "      <td>millic(밀릭)</td>\n",
       "      <td>Belief</td>\n",
       "      <td>[1,510]</td>\n",
       "      <td>...</td>\n",
       "      <td>https://image.bugsm.co.kr/album/images/200/200...</td>\n",
       "      <td>['국내', '힙합', '알앤비', '밤/새벽', '감각적인', '작업실', '몽환...</td>\n",
       "      <td>[Our, belief, for, each, other, written, on, a...</td>\n",
       "    </tr>\n",
       "    <tr>\n",
       "      <th>2</th>\n",
       "      <td>30061516</td>\n",
       "      <td>[권리없는 곡]</td>\n",
       "      <td>아파치(Apachi)</td>\n",
       "      <td>Toujours Youth Remix Album</td>\n",
       "      <td>[54]</td>\n",
       "      <td>겁이 나  내게 아무 말이나 들려줘             순전히 아름다움     팍...</td>\n",
       "      <td>https://image.bugsm.co.kr/album/images/200/200...</td>\n",
       "      <td>['국내', '힙합', '알앤비', '밤/새벽', '감각적인', '작업실', '몽환...</td>\n",
       "      <td>[겁이, 나, 내게, 아무, 말이나, 들려줘, Girl, I'm, tired, LG...</td>\n",
       "    </tr>\n",
       "    <tr>\n",
       "      <th>3</th>\n",
       "      <td>30506160</td>\n",
       "      <td>Every</td>\n",
       "      <td>민제 (Minje)</td>\n",
       "      <td>Boy II Man</td>\n",
       "      <td>[317]</td>\n",
       "      <td>난 이 길...</td>\n",
       "      <td>https://image.bugsm.co.kr/album/images/200/200...</td>\n",
       "      <td>['국내', '힙합', '알앤비', '밤/새벽', '감각적인', '작업실', '몽환...</td>\n",
       "      <td>[I, don't, know, what?, every, time, everythin...</td>\n",
       "    </tr>\n",
       "    <tr>\n",
       "      <th>4</th>\n",
       "      <td>3988024</td>\n",
       "      <td>On &amp; On (Prod. By The Quiett)</td>\n",
       "      <td>육지담</td>\n",
       "      <td>언프리티 랩스타 Semi Final 2</td>\n",
       "      <td>[581]</td>\n",
       "      <td>첨부터 길을 잃었던 아이 세상과 마주하기에 너무 어렸던 나이 너넨 모르겠지 에 웃는...</td>\n",
       "      <td>https://image.bugsm.co.kr/album/images/200/493...</td>\n",
       "      <td>['국내', '힙합', '알앤비', '밤/새벽', '감각적인', '작업실', '몽환...</td>\n",
       "      <td>[첨부터, 길을, 잃었던, 아이, 세상과, 마주하기에, 너무, 어렸던, 나이, 너넨...</td>\n",
       "    </tr>\n",
       "  </tbody>\n",
       "</table>\n",
       "</div>"
      ],
      "text/plain": [
       "    song_id                      song_name            artist  \\\n",
       "0  30392514                           bath  offonoff (오프온오프)   \n",
       "1  30346372          Belief (millic remix)        millic(밀릭)   \n",
       "2  30061516                       [권리없는 곡]       아파치(Apachi)   \n",
       "3  30506160                          Every        민제 (Minje)   \n",
       "4   3988024  On & On (Prod. By The Quiett)               육지담   \n",
       "\n",
       "                        album Like_Count  \\\n",
       "0                        bath    [5,781]   \n",
       "1                      Belief    [1,510]   \n",
       "2  Toujours Youth Remix Album       [54]   \n",
       "3                  Boy II Man      [317]   \n",
       "4       언프리티 랩스타 Semi Final 2      [581]   \n",
       "\n",
       "                                               Lyric  \\\n",
       "0  거긴 날씨가 어때   나의 하늘과 밤엔   자꾸 떠오르는 기억이   계속 내게 말을...   \n",
       "1                                                ...   \n",
       "2  겁이 나  내게 아무 말이나 들려줘             순전히 아름다움     팍...   \n",
       "3                                           난 이 길...   \n",
       "4  첨부터 길을 잃었던 아이 세상과 마주하기에 너무 어렸던 나이 너넨 모르겠지 에 웃는...   \n",
       "\n",
       "                                           cover_url  \\\n",
       "0  https://image.bugsm.co.kr/album/images/200/200...   \n",
       "1  https://image.bugsm.co.kr/album/images/200/200...   \n",
       "2  https://image.bugsm.co.kr/album/images/200/200...   \n",
       "3  https://image.bugsm.co.kr/album/images/200/200...   \n",
       "4  https://image.bugsm.co.kr/album/images/200/493...   \n",
       "\n",
       "                                                tags  \\\n",
       "0  ['국내', '힙합', '알앤비', '밤/새벽', '감각적인', '작업실', '몽환...   \n",
       "1  ['국내', '힙합', '알앤비', '밤/새벽', '감각적인', '작업실', '몽환...   \n",
       "2  ['국내', '힙합', '알앤비', '밤/새벽', '감각적인', '작업실', '몽환...   \n",
       "3  ['국내', '힙합', '알앤비', '밤/새벽', '감각적인', '작업실', '몽환...   \n",
       "4  ['국내', '힙합', '알앤비', '밤/새벽', '감각적인', '작업실', '몽환...   \n",
       "\n",
       "                                               words  \n",
       "0  [거긴, 날씨가, 어때, 나의, 하늘과, 밤엔, 자꾸, 떠오르는, 기억이, 계속, ...  \n",
       "1  [Our, belief, for, each, other, written, on, a...  \n",
       "2  [겁이, 나, 내게, 아무, 말이나, 들려줘, Girl, I'm, tired, LG...  \n",
       "3  [I, don't, know, what?, every, time, everythin...  \n",
       "4  [첨부터, 길을, 잃었던, 아이, 세상과, 마주하기에, 너무, 어렸던, 나이, 너넨...  "
      ]
     },
     "execution_count": 42,
     "metadata": {},
     "output_type": "execute_result"
    }
   ],
   "source": [
    "df['Lyric'] = df['Lyric'].str.replace(\"[^ㄱ-ㅎㅏ-ㅣ가-힣 ]\",\"\")\n",
    "# 한글과 공백을 제외하고 모두 제거\n",
    "df[:5]"
   ]
  },
  {
   "cell_type": "code",
   "execution_count": 43,
   "id": "21321ebb",
   "metadata": {
    "ExecuteTime": {
     "end_time": "2021-11-24T05:28:47.178461Z",
     "start_time": "2021-11-24T05:28:46.953431Z"
    }
   },
   "outputs": [
    {
     "name": "stdout",
     "output_type": "stream",
     "text": [
      "song_id          0\n",
      "song_name        0\n",
      "artist           0\n",
      "album            1\n",
      "Like_Count       0\n",
      "Lyric         1089\n",
      "cover_url       12\n",
      "tags            12\n",
      "words            0\n",
      "dtype: int64\n"
     ]
    }
   ],
   "source": [
    "df['Lyric'] = df['Lyric'].str.replace('^ +', \"\") # white space 데이터를 empty value로 변경\n",
    "df['Lyric'].replace('', np.nan, inplace=True)\n",
    "print(df.isnull().sum())"
   ]
  },
  {
   "cell_type": "code",
   "execution_count": 44,
   "id": "7b538ddf",
   "metadata": {
    "ExecuteTime": {
     "end_time": "2021-11-24T05:28:50.548729Z",
     "start_time": "2021-11-24T05:28:50.497555Z"
    }
   },
   "outputs": [
    {
     "data": {
      "text/html": [
       "<div>\n",
       "<style scoped>\n",
       "    .dataframe tbody tr th:only-of-type {\n",
       "        vertical-align: middle;\n",
       "    }\n",
       "\n",
       "    .dataframe tbody tr th {\n",
       "        vertical-align: top;\n",
       "    }\n",
       "\n",
       "    .dataframe thead th {\n",
       "        text-align: right;\n",
       "    }\n",
       "</style>\n",
       "<table border=\"1\" class=\"dataframe\">\n",
       "  <thead>\n",
       "    <tr style=\"text-align: right;\">\n",
       "      <th></th>\n",
       "      <th>song_id</th>\n",
       "      <th>song_name</th>\n",
       "      <th>artist</th>\n",
       "      <th>album</th>\n",
       "      <th>Like_Count</th>\n",
       "      <th>Lyric</th>\n",
       "      <th>cover_url</th>\n",
       "      <th>tags</th>\n",
       "      <th>words</th>\n",
       "    </tr>\n",
       "  </thead>\n",
       "  <tbody>\n",
       "    <tr>\n",
       "      <th>1</th>\n",
       "      <td>30346372</td>\n",
       "      <td>Belief (millic remix)</td>\n",
       "      <td>millic(밀릭)</td>\n",
       "      <td>Belief</td>\n",
       "      <td>[1,510]</td>\n",
       "      <td>NaN</td>\n",
       "      <td>https://image.bugsm.co.kr/album/images/200/200...</td>\n",
       "      <td>['국내', '힙합', '알앤비', '밤/새벽', '감각적인', '작업실', '몽환...</td>\n",
       "      <td>[Our, belief, for, each, other, written, on, a...</td>\n",
       "    </tr>\n",
       "    <tr>\n",
       "      <th>129</th>\n",
       "      <td>6077809</td>\n",
       "      <td>TITANIC (feat. Rich Brian)</td>\n",
       "      <td>잭슨 (Jackson Wang)</td>\n",
       "      <td>MIRRORS</td>\n",
       "      <td>[12]</td>\n",
       "      <td>NaN</td>\n",
       "      <td>https://image.bugsm.co.kr/album/images/200/403...</td>\n",
       "      <td>['국내', '가요', 'KPOP', '아이돌', '치명적인', '섹시한', '남자...</td>\n",
       "      <td>[I, got, your, girl, on, panic, Iced, out, my,...</td>\n",
       "    </tr>\n",
       "    <tr>\n",
       "      <th>208</th>\n",
       "      <td>31642982</td>\n",
       "      <td>Sapphire Blue</td>\n",
       "      <td>Jiwoo</td>\n",
       "      <td>Maison</td>\n",
       "      <td>[58]</td>\n",
       "      <td>NaN</td>\n",
       "      <td>https://image.bugsm.co.kr/album/images/200/202...</td>\n",
       "      <td>['국내', '인디', '국내 인디', '알앤비', '그루브한', '밤/새벽', '...</td>\n",
       "      <td>[Twenty, one, miles, past, blue, Twenty, one, ...</td>\n",
       "    </tr>\n",
       "    <tr>\n",
       "      <th>209</th>\n",
       "      <td>31760450</td>\n",
       "      <td>Thief</td>\n",
       "      <td>Mood &amp; Feel(무드앤필)</td>\n",
       "      <td>Thief</td>\n",
       "      <td>[114]</td>\n",
       "      <td>NaN</td>\n",
       "      <td>https://image.bugsm.co.kr/album/images/200/202...</td>\n",
       "      <td>['국내', '인디', '국내 인디', '알앤비', '그루브한', '밤/새벽', '...</td>\n",
       "      <td>[Something's, knocking, on, my, eyes, And, it,...</td>\n",
       "    </tr>\n",
       "    <tr>\n",
       "      <th>211</th>\n",
       "      <td>31914612</td>\n",
       "      <td>Alone</td>\n",
       "      <td>미소(Miso)</td>\n",
       "      <td>Alone</td>\n",
       "      <td>[532]</td>\n",
       "      <td>NaN</td>\n",
       "      <td>https://image.bugsm.co.kr/album/images/200/203...</td>\n",
       "      <td>['국내', '인디', '국내 인디', '알앤비', '그루브한', '밤/새벽', '...</td>\n",
       "      <td>[The, season, goes, you're, all, alone, Nowher...</td>\n",
       "    </tr>\n",
       "    <tr>\n",
       "      <th>...</th>\n",
       "      <td>...</td>\n",
       "      <td>...</td>\n",
       "      <td>...</td>\n",
       "      <td>...</td>\n",
       "      <td>...</td>\n",
       "      <td>...</td>\n",
       "      <td>...</td>\n",
       "      <td>...</td>\n",
       "      <td>...</td>\n",
       "    </tr>\n",
       "    <tr>\n",
       "      <th>27495</th>\n",
       "      <td>3587989</td>\n",
       "      <td>Faithful</td>\n",
       "      <td>AMP</td>\n",
       "      <td>Glory Songs [Japan Special Edition]</td>\n",
       "      <td>[207]</td>\n",
       "      <td>NaN</td>\n",
       "      <td>https://image.bugsm.co.kr/album/images/200/439...</td>\n",
       "      <td>['국내', '지치고 힘들때', '응원', '사회초년생', '취준/수험생']</td>\n",
       "      <td>[Never, give, up,, never, give, in, Never, let...</td>\n",
       "    </tr>\n",
       "    <tr>\n",
       "      <th>27685</th>\n",
       "      <td>31624550</td>\n",
       "      <td>Don't Let Me Down</td>\n",
       "      <td>Alisha(알리샤)</td>\n",
       "      <td>Don't Let Me Down</td>\n",
       "      <td>[50]</td>\n",
       "      <td>NaN</td>\n",
       "      <td>https://image.bugsm.co.kr/album/images/200/202...</td>\n",
       "      <td>['국내', '가요', '지치고 힘들때', '용기']</td>\n",
       "      <td>[I, know, you've, been, through, a, lot, latel...</td>\n",
       "    </tr>\n",
       "    <tr>\n",
       "      <th>27696</th>\n",
       "      <td>32196832</td>\n",
       "      <td>Film out</td>\n",
       "      <td>방탄소년단</td>\n",
       "      <td>BTS, THE BEST</td>\n",
       "      <td>[720]</td>\n",
       "      <td>NaN</td>\n",
       "      <td>https://image.bugsm.co.kr/album/images/200/203...</td>\n",
       "      <td>['국내', '발라드', '국내 발라드', '위로', '감성적인', '가요', '지...</td>\n",
       "      <td>[浮かび上がる君は, あまりに鮮やかで, まるでそこにいるかと, 手を伸ばすところで, ふっ...</td>\n",
       "    </tr>\n",
       "    <tr>\n",
       "      <th>27720</th>\n",
       "      <td>32256360</td>\n",
       "      <td>Dear Son</td>\n",
       "      <td>박선예</td>\n",
       "      <td>마인 OST Part 4</td>\n",
       "      <td>[168]</td>\n",
       "      <td>NaN</td>\n",
       "      <td>https://image.bugsm.co.kr/album/images/200/204...</td>\n",
       "      <td>['국내', '인디', '지치고 힘들때', '위로', '국내 인디']</td>\n",
       "      <td>[I'm, about, to, cry, Cause, you're, standing,...</td>\n",
       "    </tr>\n",
       "    <tr>\n",
       "      <th>27922</th>\n",
       "      <td>4306483</td>\n",
       "      <td>Flashlight (From \"Pitch Perfect 2\" Soundtrack)...</td>\n",
       "      <td>Jessie J(제시 제이)</td>\n",
       "      <td>Flashlight (From \"Pitch Perfect 2\" Soundtrack)</td>\n",
       "      <td>[1,992]</td>\n",
       "      <td>NaN</td>\n",
       "      <td>https://image.bugsm.co.kr/album/images/200/498...</td>\n",
       "      <td>['국내', '위로', '취준/수험생', '지치고 힘들때', '청춘에게']</td>\n",
       "      <td>[When, tomorrow, comes, I'll, be, on, my, own,...</td>\n",
       "    </tr>\n",
       "  </tbody>\n",
       "</table>\n",
       "<p>1089 rows × 9 columns</p>\n",
       "</div>"
      ],
      "text/plain": [
       "        song_id                                          song_name  \\\n",
       "1      30346372                              Belief (millic remix)   \n",
       "129     6077809                         TITANIC (feat. Rich Brian)   \n",
       "208    31642982                                      Sapphire Blue   \n",
       "209    31760450                                              Thief   \n",
       "211    31914612                                              Alone   \n",
       "...         ...                                                ...   \n",
       "27495   3587989                                           Faithful   \n",
       "27685  31624550                                  Don't Let Me Down   \n",
       "27696  32196832                                           Film out   \n",
       "27720  32256360                                           Dear Son   \n",
       "27922   4306483  Flashlight (From \"Pitch Perfect 2\" Soundtrack)...   \n",
       "\n",
       "                  artist                                           album  \\\n",
       "1             millic(밀릭)                                          Belief   \n",
       "129    잭슨 (Jackson Wang)                                         MIRRORS   \n",
       "208                Jiwoo                                          Maison   \n",
       "209    Mood & Feel(무드앤필)                                           Thief   \n",
       "211             미소(Miso)                                           Alone   \n",
       "...                  ...                                             ...   \n",
       "27495                AMP             Glory Songs [Japan Special Edition]   \n",
       "27685        Alisha(알리샤)                               Don't Let Me Down   \n",
       "27696              방탄소년단                                   BTS, THE BEST   \n",
       "27720                박선예                                   마인 OST Part 4   \n",
       "27922    Jessie J(제시 제이)  Flashlight (From \"Pitch Perfect 2\" Soundtrack)   \n",
       "\n",
       "      Like_Count Lyric                                          cover_url  \\\n",
       "1        [1,510]   NaN  https://image.bugsm.co.kr/album/images/200/200...   \n",
       "129         [12]   NaN  https://image.bugsm.co.kr/album/images/200/403...   \n",
       "208         [58]   NaN  https://image.bugsm.co.kr/album/images/200/202...   \n",
       "209        [114]   NaN  https://image.bugsm.co.kr/album/images/200/202...   \n",
       "211        [532]   NaN  https://image.bugsm.co.kr/album/images/200/203...   \n",
       "...          ...   ...                                                ...   \n",
       "27495      [207]   NaN  https://image.bugsm.co.kr/album/images/200/439...   \n",
       "27685       [50]   NaN  https://image.bugsm.co.kr/album/images/200/202...   \n",
       "27696      [720]   NaN  https://image.bugsm.co.kr/album/images/200/203...   \n",
       "27720      [168]   NaN  https://image.bugsm.co.kr/album/images/200/204...   \n",
       "27922    [1,992]   NaN  https://image.bugsm.co.kr/album/images/200/498...   \n",
       "\n",
       "                                                    tags  \\\n",
       "1      ['국내', '힙합', '알앤비', '밤/새벽', '감각적인', '작업실', '몽환...   \n",
       "129    ['국내', '가요', 'KPOP', '아이돌', '치명적인', '섹시한', '남자...   \n",
       "208    ['국내', '인디', '국내 인디', '알앤비', '그루브한', '밤/새벽', '...   \n",
       "209    ['국내', '인디', '국내 인디', '알앤비', '그루브한', '밤/새벽', '...   \n",
       "211    ['국내', '인디', '국내 인디', '알앤비', '그루브한', '밤/새벽', '...   \n",
       "...                                                  ...   \n",
       "27495         ['국내', '지치고 힘들때', '응원', '사회초년생', '취준/수험생']   \n",
       "27685                      ['국내', '가요', '지치고 힘들때', '용기']   \n",
       "27696  ['국내', '발라드', '국내 발라드', '위로', '감성적인', '가요', '지...   \n",
       "27720             ['국내', '인디', '지치고 힘들때', '위로', '국내 인디']   \n",
       "27922          ['국내', '위로', '취준/수험생', '지치고 힘들때', '청춘에게']   \n",
       "\n",
       "                                                   words  \n",
       "1      [Our, belief, for, each, other, written, on, a...  \n",
       "129    [I, got, your, girl, on, panic, Iced, out, my,...  \n",
       "208    [Twenty, one, miles, past, blue, Twenty, one, ...  \n",
       "209    [Something's, knocking, on, my, eyes, And, it,...  \n",
       "211    [The, season, goes, you're, all, alone, Nowher...  \n",
       "...                                                  ...  \n",
       "27495  [Never, give, up,, never, give, in, Never, let...  \n",
       "27685  [I, know, you've, been, through, a, lot, latel...  \n",
       "27696  [浮かび上がる君は, あまりに鮮やかで, まるでそこにいるかと, 手を伸ばすところで, ふっ...  \n",
       "27720  [I'm, about, to, cry, Cause, you're, standing,...  \n",
       "27922  [When, tomorrow, comes, I'll, be, on, my, own,...  \n",
       "\n",
       "[1089 rows x 9 columns]"
      ]
     },
     "execution_count": 44,
     "metadata": {},
     "output_type": "execute_result"
    }
   ],
   "source": [
    "df[df['Lyric'].isnull()] # 한국어가 아닌 가사 - NaN값인 노래들"
   ]
  },
  {
   "cell_type": "code",
   "execution_count": 45,
   "id": "ab1858ce",
   "metadata": {
    "ExecuteTime": {
     "end_time": "2021-11-24T05:30:01.653434Z",
     "start_time": "2021-11-24T05:30:01.598797Z"
    }
   },
   "outputs": [],
   "source": [
    "df = df.dropna(how = 'any')"
   ]
  },
  {
   "cell_type": "code",
   "execution_count": 46,
   "id": "7cb6ed86",
   "metadata": {
    "ExecuteTime": {
     "end_time": "2021-11-24T05:30:10.811873Z",
     "start_time": "2021-11-24T05:30:10.798878Z"
    }
   },
   "outputs": [
    {
     "name": "stdout",
     "output_type": "stream",
     "text": [
      "전처리 후 데이터의 개수 : 26793\n"
     ]
    }
   ],
   "source": [
    "print('전처리 후 데이터의 개수 :',len(df))"
   ]
  },
  {
   "cell_type": "markdown",
   "id": "c498ed28",
   "metadata": {},
   "source": [
    "## 긍정 감정에 해당하는 곡 category (tag) : \n",
    "* 사랑/기쁨 or \n",
    "* 설렘/심쿵 or \n",
    "* 기분전환 or\n",
    "* 썸 탈때 or\n",
    "* 고백"
   ]
  },
  {
   "cell_type": "code",
   "execution_count": 54,
   "id": "c9c53983",
   "metadata": {
    "ExecuteTime": {
     "end_time": "2021-11-24T08:21:54.811796Z",
     "start_time": "2021-11-24T08:21:54.442801Z"
    }
   },
   "outputs": [],
   "source": [
    "jdf = df[df['tags'].str.contains('사랑/기쁨', na=False) | df['tags'].str.contains('셀렘/심쿵', na=False) | df['tags'].str.contains('기분전환', na=False) | df['tags'].str.contains('고백', na=False) | df['tags'].str.contains('썸 탈때', na=False)].drop_duplicates(['song_id','Lyric'], keep='first',inplace=False).reset_index(drop=True)"
   ]
  },
  {
   "cell_type": "code",
   "execution_count": 63,
   "id": "f47a5cfc",
   "metadata": {
    "ExecuteTime": {
     "end_time": "2021-11-24T08:33:14.595943Z",
     "start_time": "2021-11-24T08:33:14.569379Z"
    }
   },
   "outputs": [
    {
     "data": {
      "text/html": [
       "<div>\n",
       "<style scoped>\n",
       "    .dataframe tbody tr th:only-of-type {\n",
       "        vertical-align: middle;\n",
       "    }\n",
       "\n",
       "    .dataframe tbody tr th {\n",
       "        vertical-align: top;\n",
       "    }\n",
       "\n",
       "    .dataframe thead th {\n",
       "        text-align: right;\n",
       "    }\n",
       "</style>\n",
       "<table border=\"1\" class=\"dataframe\">\n",
       "  <thead>\n",
       "    <tr style=\"text-align: right;\">\n",
       "      <th></th>\n",
       "      <th>song_id</th>\n",
       "      <th>song_name</th>\n",
       "      <th>artist</th>\n",
       "      <th>album</th>\n",
       "      <th>Like_Count</th>\n",
       "      <th>Lyric</th>\n",
       "      <th>cover_url</th>\n",
       "      <th>tags</th>\n",
       "      <th>words</th>\n",
       "      <th>label</th>\n",
       "    </tr>\n",
       "  </thead>\n",
       "  <tbody>\n",
       "    <tr>\n",
       "      <th>0</th>\n",
       "      <td>5906518</td>\n",
       "      <td>Kiss</td>\n",
       "      <td>OSIXTWO</td>\n",
       "      <td>무궁무진</td>\n",
       "      <td>[12]</td>\n",
       "      <td>뭐 하냐고 묻지 마 입술을 갖고 와줘  먹어브러   맛있어        아랫입술  ...</td>\n",
       "      <td>https://image.bugsm.co.kr/album/images/200/980...</td>\n",
       "      <td>['국내', '힙합', '국내 랩/힙합', '침대송', '연인/커플', '밤/새벽'...</td>\n",
       "      <td>[Hold, me, tight, Feel, so, right, babe, I, ne...</td>\n",
       "      <td>1</td>\n",
       "    </tr>\n",
       "  </tbody>\n",
       "</table>\n",
       "</div>"
      ],
      "text/plain": [
       "   song_id song_name   artist album Like_Count  \\\n",
       "0  5906518      Kiss  OSIXTWO  무궁무진       [12]   \n",
       "\n",
       "                                               Lyric  \\\n",
       "0  뭐 하냐고 묻지 마 입술을 갖고 와줘  먹어브러   맛있어        아랫입술  ...   \n",
       "\n",
       "                                           cover_url  \\\n",
       "0  https://image.bugsm.co.kr/album/images/200/980...   \n",
       "\n",
       "                                                tags  \\\n",
       "0  ['국내', '힙합', '국내 랩/힙합', '침대송', '연인/커플', '밤/새벽'...   \n",
       "\n",
       "                                               words  label  \n",
       "0  [Hold, me, tight, Feel, so, right, babe, I, ne...      1  "
      ]
     },
     "execution_count": 63,
     "metadata": {},
     "output_type": "execute_result"
    }
   ],
   "source": [
    "jdf['label'] = 1\n",
    "jdf.head(1)"
   ]
  },
  {
   "cell_type": "code",
   "execution_count": 66,
   "id": "d84a60fc",
   "metadata": {
    "ExecuteTime": {
     "end_time": "2021-11-24T08:33:47.317981Z",
     "start_time": "2021-11-24T08:33:47.298981Z"
    }
   },
   "outputs": [
    {
     "name": "stdout",
     "output_type": "stream",
     "text": [
      "<class 'pandas.core.frame.DataFrame'>\n",
      "RangeIndex: 3564 entries, 0 to 3563\n",
      "Data columns (total 10 columns):\n",
      " #   Column      Non-Null Count  Dtype \n",
      "---  ------      --------------  ----- \n",
      " 0   song_id     3564 non-null   int64 \n",
      " 1   song_name   3564 non-null   object\n",
      " 2   artist      3564 non-null   object\n",
      " 3   album       3564 non-null   object\n",
      " 4   Like_Count  3564 non-null   object\n",
      " 5   Lyric       3564 non-null   object\n",
      " 6   cover_url   3564 non-null   object\n",
      " 7   tags        3564 non-null   object\n",
      " 8   words       3564 non-null   object\n",
      " 9   label       3564 non-null   int64 \n",
      "dtypes: int64(2), object(8)\n",
      "memory usage: 278.6+ KB\n"
     ]
    }
   ],
   "source": [
    "jdf.info()"
   ]
  },
  {
   "cell_type": "markdown",
   "id": "e8e4205e",
   "metadata": {},
   "source": [
    "## 부정 감정에 해당하는 곡 category (tag) : \n",
    "* 이별/슬픔 or\n",
    "* 울고 싶을때 or\n",
    "* 애절한 or\n",
    "* 쓸쓸한"
   ]
  },
  {
   "cell_type": "code",
   "execution_count": 60,
   "id": "c4e73301",
   "metadata": {
    "ExecuteTime": {
     "end_time": "2021-11-24T08:28:11.374708Z",
     "start_time": "2021-11-24T08:28:11.285524Z"
    }
   },
   "outputs": [],
   "source": [
    "sdf = df[df['tags'].str.contains('이별/슬픔', na=False) | df['tags'].str.contains('울고 싶을때', na=False) | df['tags'].str.contains('애절한', na=False) | df['tags'].str.contains('쓸쓸한', na=False) | ].drop_duplicates(['song_id','Lyric'], keep='first',inplace=False).reset_index(drop=True)\n",
    "\n"
   ]
  },
  {
   "cell_type": "code",
   "execution_count": 64,
   "id": "baa85544",
   "metadata": {
    "ExecuteTime": {
     "end_time": "2021-11-24T08:33:37.289925Z",
     "start_time": "2021-11-24T08:33:37.262932Z"
    }
   },
   "outputs": [
    {
     "data": {
      "text/html": [
       "<div>\n",
       "<style scoped>\n",
       "    .dataframe tbody tr th:only-of-type {\n",
       "        vertical-align: middle;\n",
       "    }\n",
       "\n",
       "    .dataframe tbody tr th {\n",
       "        vertical-align: top;\n",
       "    }\n",
       "\n",
       "    .dataframe thead th {\n",
       "        text-align: right;\n",
       "    }\n",
       "</style>\n",
       "<table border=\"1\" class=\"dataframe\">\n",
       "  <thead>\n",
       "    <tr style=\"text-align: right;\">\n",
       "      <th></th>\n",
       "      <th>song_id</th>\n",
       "      <th>song_name</th>\n",
       "      <th>artist</th>\n",
       "      <th>album</th>\n",
       "      <th>Like_Count</th>\n",
       "      <th>Lyric</th>\n",
       "      <th>cover_url</th>\n",
       "      <th>tags</th>\n",
       "      <th>words</th>\n",
       "      <th>label</th>\n",
       "    </tr>\n",
       "  </thead>\n",
       "  <tbody>\n",
       "    <tr>\n",
       "      <th>0</th>\n",
       "      <td>3078025</td>\n",
       "      <td>불편한 진실</td>\n",
       "      <td>이지영 (빅마마)</td>\n",
       "      <td>The Lyrics (더 리릭스) - No.3</td>\n",
       "      <td>[313]</td>\n",
       "      <td>현재 시간은 열두시  지금이 낮인지 밤인지 이게 제대로 된 삶인지    불편한 진실...</td>\n",
       "      <td>https://image.bugsm.co.kr/album/images/200/373...</td>\n",
       "      <td>['국내', '이색테마', '이별/슬픔', '밤/새벽', '소울풀한']</td>\n",
       "      <td>[현재, 시간은, 열두시, 지금이, 낮인지, 밤인지, 이게, 제대로, 된, 삶인지,...</td>\n",
       "      <td>0</td>\n",
       "    </tr>\n",
       "  </tbody>\n",
       "</table>\n",
       "</div>"
      ],
      "text/plain": [
       "   song_id song_name     artist                      album Like_Count  \\\n",
       "0  3078025    불편한 진실  이지영 (빅마마)  The Lyrics (더 리릭스) - No.3      [313]   \n",
       "\n",
       "                                               Lyric  \\\n",
       "0  현재 시간은 열두시  지금이 낮인지 밤인지 이게 제대로 된 삶인지    불편한 진실...   \n",
       "\n",
       "                                           cover_url  \\\n",
       "0  https://image.bugsm.co.kr/album/images/200/373...   \n",
       "\n",
       "                                      tags  \\\n",
       "0  ['국내', '이색테마', '이별/슬픔', '밤/새벽', '소울풀한']   \n",
       "\n",
       "                                               words  label  \n",
       "0  [현재, 시간은, 열두시, 지금이, 낮인지, 밤인지, 이게, 제대로, 된, 삶인지,...      0  "
      ]
     },
     "execution_count": 64,
     "metadata": {},
     "output_type": "execute_result"
    }
   ],
   "source": [
    "sdf['label'] = 0\n",
    "sdf.head(1)"
   ]
  },
  {
   "cell_type": "code",
   "execution_count": 65,
   "id": "cb8326f8",
   "metadata": {
    "ExecuteTime": {
     "end_time": "2021-11-24T08:33:42.115928Z",
     "start_time": "2021-11-24T08:33:42.092768Z"
    }
   },
   "outputs": [
    {
     "name": "stdout",
     "output_type": "stream",
     "text": [
      "<class 'pandas.core.frame.DataFrame'>\n",
      "RangeIndex: 3320 entries, 0 to 3319\n",
      "Data columns (total 10 columns):\n",
      " #   Column      Non-Null Count  Dtype \n",
      "---  ------      --------------  ----- \n",
      " 0   song_id     3320 non-null   int64 \n",
      " 1   song_name   3320 non-null   object\n",
      " 2   artist      3320 non-null   object\n",
      " 3   album       3320 non-null   object\n",
      " 4   Like_Count  3320 non-null   object\n",
      " 5   Lyric       3320 non-null   object\n",
      " 6   cover_url   3320 non-null   object\n",
      " 7   tags        3320 non-null   object\n",
      " 8   words       3320 non-null   object\n",
      " 9   label       3320 non-null   int64 \n",
      "dtypes: int64(2), object(8)\n",
      "memory usage: 259.5+ KB\n"
     ]
    }
   ],
   "source": [
    "sdf.info()"
   ]
  },
  {
   "cell_type": "code",
   "execution_count": 67,
   "id": "8c227a68",
   "metadata": {
    "ExecuteTime": {
     "end_time": "2021-11-24T08:34:03.235637Z",
     "start_time": "2021-11-24T08:34:03.205512Z"
    }
   },
   "outputs": [
    {
     "name": "stdout",
     "output_type": "stream",
     "text": [
      "<class 'pandas.core.frame.DataFrame'>\n",
      "RangeIndex: 6884 entries, 0 to 6883\n",
      "Data columns (total 11 columns):\n",
      " #   Column      Non-Null Count  Dtype \n",
      "---  ------      --------------  ----- \n",
      " 0   index       6884 non-null   int64 \n",
      " 1   song_id     6884 non-null   int64 \n",
      " 2   song_name   6884 non-null   object\n",
      " 3   artist      6884 non-null   object\n",
      " 4   album       6884 non-null   object\n",
      " 5   Like_Count  6884 non-null   object\n",
      " 6   Lyric       6884 non-null   object\n",
      " 7   cover_url   6884 non-null   object\n",
      " 8   tags        6884 non-null   object\n",
      " 9   words       6884 non-null   object\n",
      " 10  label       6884 non-null   int64 \n",
      "dtypes: int64(3), object(8)\n",
      "memory usage: 591.7+ KB\n"
     ]
    }
   ],
   "source": [
    "jsdf = sdf.append(jdf)\n",
    "jsdf.reset_index(inplace=True)\n",
    "jsdf.info()"
   ]
  },
  {
   "cell_type": "markdown",
   "id": "ee350c69",
   "metadata": {},
   "source": [
    "## 데이터 분리"
   ]
  },
  {
   "cell_type": "code",
   "execution_count": 71,
   "id": "2f02a51e",
   "metadata": {
    "ExecuteTime": {
     "end_time": "2021-11-24T08:37:15.307771Z",
     "start_time": "2021-11-24T08:37:15.276619Z"
    }
   },
   "outputs": [],
   "source": [
    "train_data, test_data = train_test_split(\n",
    "  jsdf,\n",
    "  test_size = 0.25,\n",
    "  random_state = 5\n",
    ")"
   ]
  },
  {
   "cell_type": "code",
   "execution_count": 72,
   "id": "cd6cccdc",
   "metadata": {
    "ExecuteTime": {
     "end_time": "2021-11-24T08:39:01.237020Z",
     "start_time": "2021-11-24T08:37:17.906932Z"
    }
   },
   "outputs": [
    {
     "name": "stderr",
     "output_type": "stream",
     "text": [
      "100%|██████████████████████████████████████████████████████████████████████████████| 5163/5163 [01:43<00:00, 49.99it/s]\n"
     ]
    }
   ],
   "source": [
    "# 학습 데이터\n",
    "X_train = []\n",
    "for sentence in tqdm(train_data['Lyric']):\n",
    "    tokenized_sentence = okt.morphs(sentence, stem=True) # 토큰화\n",
    "    stopwords_removed_sentence = [word for word in tokenized_sentence if not word in stop_w] # 불용어 제거\n",
    "    X_train.append(stopwords_removed_sentence)"
   ]
  },
  {
   "cell_type": "code",
   "execution_count": 73,
   "id": "8a8ca80e",
   "metadata": {
    "ExecuteTime": {
     "end_time": "2021-11-24T08:39:36.331561Z",
     "start_time": "2021-11-24T08:39:02.968018Z"
    },
    "scrolled": true
   },
   "outputs": [
    {
     "name": "stderr",
     "output_type": "stream",
     "text": [
      "100%|██████████████████████████████████████████████████████████████████████████████| 1721/1721 [00:33<00:00, 51.61it/s]\n"
     ]
    }
   ],
   "source": [
    "# 테스트 데이터 \n",
    "X_test = []\n",
    "for sentence in tqdm(test_data['Lyric']):\n",
    "    tokenized_sentence = okt.morphs(sentence, stem=True) # 토큰화\n",
    "    stopwords_removed_sentence = [word for word in tokenized_sentence if not word in stop_w] # 불용어 제거\n",
    "    X_test.append(stopwords_removed_sentence)"
   ]
  },
  {
   "cell_type": "code",
   "execution_count": 74,
   "id": "8f34e5d0",
   "metadata": {
    "ExecuteTime": {
     "end_time": "2021-11-24T08:39:37.868297Z",
     "start_time": "2021-11-24T08:39:37.854030Z"
    },
    "scrolled": false
   },
   "outputs": [
    {
     "data": {
      "text/plain": [
       "[['언제',\n",
       "  '부턴',\n",
       "  '가다',\n",
       "  '맘',\n",
       "  '을',\n",
       "  '괴롭히다',\n",
       "  '한순간',\n",
       "  '눈',\n",
       "  '을',\n",
       "  '떼다',\n",
       "  '수가',\n",
       "  '없다',\n",
       "  '뭘',\n",
       "  '먹다',\n",
       "  '자르다',\n",
       "  '너무나',\n",
       "  '예쁘다',\n",
       "  '어떡하다',\n",
       "  '귀엽다',\n",
       "  '나르다',\n",
       "  '웃다',\n",
       "  '만의',\n",
       "  '차갑다',\n",
       "  '이미지',\n",
       "  '얼마나',\n",
       "  '따뜻하다',\n",
       "  '만이',\n",
       "  '느끼다',\n",
       "  '어느새다',\n",
       "  '계절',\n",
       "  '속',\n",
       "  '빠지다',\n",
       "  '보다',\n",
       "  '어느새다',\n",
       "  '맘',\n",
       "  '아무',\n",
       "  '모르다',\n",
       "  '입술',\n",
       "  '닿다',\n",
       "  '빨갛다',\n",
       "  '니',\n",
       "  '두',\n",
       "  '뺨',\n",
       "  '면',\n",
       "  '충분하다',\n",
       "  '그것',\n",
       "  '만으로도',\n",
       "  '단',\n",
       "  '한번',\n",
       "  '전화',\n",
       "  '그냥',\n",
       "  '적',\n",
       "  '없다',\n",
       "  '떨리다',\n",
       "  '목',\n",
       "  '막히다',\n",
       "  '만',\n",
       "  '번은',\n",
       "  '고민',\n",
       "  '말투',\n",
       "  '예쁘다',\n",
       "  '부탁',\n",
       "  '그만하다',\n",
       "  '자제',\n",
       "  '잠',\n",
       "  '들다',\n",
       "  '내다',\n",
       "  '짓다',\n",
       "  '미소',\n",
       "  '얼마나',\n",
       "  '위험하다',\n",
       "  '건지다',\n",
       "  '숨',\n",
       "  '멎다',\n",
       "  '버리다',\n",
       "  '같다',\n",
       "  '어느새다',\n",
       "  '계절',\n",
       "  '속',\n",
       "  '빠지다',\n",
       "  '보다',\n",
       "  '어느새다',\n",
       "  '맘',\n",
       "  '아무',\n",
       "  '모르다',\n",
       "  '입술',\n",
       "  '닿다',\n",
       "  '빨갛다',\n",
       "  '니',\n",
       "  '두',\n",
       "  '뺨',\n",
       "  '면',\n",
       "  '충분하다',\n",
       "  '그것',\n",
       "  '만으로도',\n",
       "  '칭찬',\n",
       "  '없다',\n",
       "  '만의',\n",
       "  '만의',\n",
       "  '되어다',\n",
       "  '어느새다',\n",
       "  '계절',\n",
       "  '속',\n",
       "  '빠지다',\n",
       "  '보다',\n",
       "  '어느새다',\n",
       "  '맘',\n",
       "  '따뜻하다',\n",
       "  '맘',\n",
       "  '내다',\n",
       "  '취한',\n",
       "  '같다',\n",
       "  '어느새다',\n",
       "  '맘',\n",
       "  '아무',\n",
       "  '모르다',\n",
       "  '손',\n",
       "  '을',\n",
       "  '잡고',\n",
       "  '길',\n",
       "  '을',\n",
       "  '함께',\n",
       "  '걸다',\n",
       "  '충분하다',\n",
       "  '누가',\n",
       "  '보다']]"
      ]
     },
     "execution_count": 74,
     "metadata": {},
     "output_type": "execute_result"
    }
   ],
   "source": [
    "X_train[:1]"
   ]
  },
  {
   "cell_type": "markdown",
   "id": "b1367a3c",
   "metadata": {},
   "source": [
    "## 정답 데이터 저장"
   ]
  },
  {
   "cell_type": "code",
   "execution_count": 75,
   "id": "36f00361",
   "metadata": {
    "ExecuteTime": {
     "end_time": "2021-11-24T08:39:39.342141Z",
     "start_time": "2021-11-24T08:39:39.328749Z"
    }
   },
   "outputs": [],
   "source": [
    "y_train = np.array(train_data['label'])\n",
    "y_test = np.array(test_data['label'])"
   ]
  },
  {
   "cell_type": "code",
   "execution_count": 76,
   "id": "33db0c77",
   "metadata": {
    "ExecuteTime": {
     "end_time": "2021-11-24T08:39:40.989044Z",
     "start_time": "2021-11-24T08:39:40.975024Z"
    },
    "scrolled": true
   },
   "outputs": [
    {
     "name": "stdout",
     "output_type": "stream",
     "text": [
      "[]\n"
     ]
    }
   ],
   "source": [
    "drop_train = [index for index, sentence in enumerate(X_train) if len(sentence) < 1]\n",
    "drop_test = [index for index, sentence in enumerate(X_test) if len(sentence) < 1]\n",
    "print(drop_train)"
   ]
  },
  {
   "cell_type": "code",
   "execution_count": 77,
   "id": "2ab62eeb",
   "metadata": {
    "ExecuteTime": {
     "end_time": "2021-11-24T08:39:42.732019Z",
     "start_time": "2021-11-24T08:39:42.670021Z"
    }
   },
   "outputs": [
    {
     "name": "stdout",
     "output_type": "stream",
     "text": [
      "5163\n",
      "5163\n",
      "1721\n",
      "1721\n",
      "1721\n",
      "1721\n"
     ]
    }
   ],
   "source": [
    "X_train = np.delete(X_train, drop_train, axis=0)\n",
    "y_train = np.delete(y_train, drop_train, axis=0)\n",
    "print(len(X_train))\n",
    "print(len(y_train))\n",
    "print(len(X_test))\n",
    "print(len(y_test))\n",
    "X_test = np.delete(X_test, drop_test, axis=0)\n",
    "y_test = np.delete(y_test, drop_test, axis=0)\n",
    "print(len(X_test))\n",
    "print(len(y_test))"
   ]
  },
  {
   "cell_type": "markdown",
   "id": "5f9397b2",
   "metadata": {},
   "source": [
    "## 정수 인코딩\n",
    "* 모델이 텍스트를 숫자로 처리할 수 있도록 훈련 데이터와 테스트 데이터에 정수 인코딩을 수행\n",
    "* 단어 집합이 생성되는 동시에 각 단어에 고유한 정수를 부여함\n",
    "* 각 정수는 전체 훈련 데이터에서 등장 빈도수가 높은 순서대로 부여되었기 때문에, <br>높은 정수가 부여된 단어들은 등장 빈도수가 매우 낮다는 것을 의미함"
   ]
  },
  {
   "cell_type": "code",
   "execution_count": 81,
   "id": "b5bd24ad",
   "metadata": {
    "ExecuteTime": {
     "end_time": "2021-11-24T08:48:30.914714Z",
     "start_time": "2021-11-24T08:48:29.343665Z"
    }
   },
   "outputs": [],
   "source": [
    "tokenizer = Tokenizer()\n",
    "tokenizer.fit_on_texts(X_train)"
   ]
  },
  {
   "cell_type": "code",
   "execution_count": 82,
   "id": "e3ead871",
   "metadata": {
    "ExecuteTime": {
     "end_time": "2021-11-24T08:48:32.266163Z",
     "start_time": "2021-11-24T08:48:32.252920Z"
    }
   },
   "outputs": [],
   "source": [
    "# print(tokenizer.word_index)\n",
    "# print(tokenizer.word_counts.items())"
   ]
  },
  {
   "cell_type": "markdown",
   "id": "3af8a1f4",
   "metadata": {},
   "source": [
    "## 빈도수 확인 (3회 미만)"
   ]
  },
  {
   "cell_type": "code",
   "execution_count": 83,
   "id": "1109b487",
   "metadata": {
    "ExecuteTime": {
     "end_time": "2021-11-24T08:48:33.717298Z",
     "start_time": "2021-11-24T08:48:33.703167Z"
    },
    "scrolled": true
   },
   "outputs": [],
   "source": [
    "threshold = 3\n",
    "total_cnt = len(tokenizer.word_index) # 단어의 수\n",
    "rare_cnt = 0 # 등장 빈도수가 threshold보다 작은 단어의 개수를 카운트\n",
    "total_freq = 0 # 훈련 데이터의 전체 단어 빈도수 총 합\n",
    "rare_freq = 0 # 등장 빈도수가 threshold보다 작은 단어의 등장 빈도수의 총 합"
   ]
  },
  {
   "cell_type": "code",
   "execution_count": 84,
   "id": "8dd8be8b",
   "metadata": {
    "ExecuteTime": {
     "end_time": "2021-11-24T08:48:37.530325Z",
     "start_time": "2021-11-24T08:48:37.516329Z"
    }
   },
   "outputs": [
    {
     "name": "stdout",
     "output_type": "stream",
     "text": [
      "단어 집합(vocabulary)의 크기 : 11870\n",
      "등장 빈도가 2번 이하인 희귀 단어의 수: 5310\n",
      "단어 집합에서 희귀 단어의 비율: 44.734625105307494\n",
      "전체 등장 빈도에서 희귀 단어 등장 빈도 비율: 1.1170550337628946\n"
     ]
    }
   ],
   "source": [
    "# 단어와 빈도수의 쌍(pair)을 key와 value로 받는다.\n",
    "for key, value in tokenizer.word_counts.items():\n",
    "    total_freq = total_freq + value\n",
    "\n",
    "    # 단어의 등장 빈도수가 threshold보다 작으면\n",
    "    if(value < threshold):\n",
    "        rare_cnt = rare_cnt + 1\n",
    "        rare_freq = rare_freq + value\n",
    "\n",
    "print('단어 집합(vocabulary)의 크기 :',total_cnt)\n",
    "print('등장 빈도가 %s번 이하인 희귀 단어의 수: %s'%(threshold - 1, rare_cnt))\n",
    "print(\"단어 집합에서 희귀 단어의 비율:\", (rare_cnt / total_cnt)*100)\n",
    "print(\"전체 등장 빈도에서 희귀 단어 등장 빈도 비율:\", (rare_freq / total_freq)*100)"
   ]
  },
  {
   "cell_type": "code",
   "execution_count": 85,
   "id": "17fb8516",
   "metadata": {
    "ExecuteTime": {
     "end_time": "2021-11-24T08:48:53.207951Z",
     "start_time": "2021-11-24T08:48:53.189947Z"
    }
   },
   "outputs": [
    {
     "name": "stdout",
     "output_type": "stream",
     "text": [
      "단어 집합의 크기 : 6561\n"
     ]
    }
   ],
   "source": [
    "# 전체 단어 개수 중 빈도수 2이하인 단어는 제거.\n",
    "# 0번 패딩 토큰을 고려하여 + 1\n",
    "vocab_size = total_cnt - rare_cnt + 1\n",
    "print('단어 집합의 크기 :',vocab_size)"
   ]
  },
  {
   "cell_type": "markdown",
   "id": "05b3c71d",
   "metadata": {},
   "source": [
    "단어 집합을 케라스 토크나이저의 인자로 넘겨주면, 케라스 토크나이저는 텍스트 시퀀스를 숫자 시퀀스로 변환"
   ]
  },
  {
   "cell_type": "code",
   "execution_count": 86,
   "id": "652551c4",
   "metadata": {
    "ExecuteTime": {
     "end_time": "2021-11-24T08:49:08.590869Z",
     "start_time": "2021-11-24T08:49:06.566888Z"
    }
   },
   "outputs": [],
   "source": [
    "tokenizer = Tokenizer(vocab_size) \n",
    "tokenizer.fit_on_texts(X_train)\n",
    "X_train = tokenizer.texts_to_sequences(X_train)\n",
    "X_test = tokenizer.texts_to_sequences(X_test)"
   ]
  },
  {
   "cell_type": "markdown",
   "id": "fc26de63",
   "metadata": {},
   "source": [
    "### 정수 인코딩 확인"
   ]
  },
  {
   "cell_type": "code",
   "execution_count": 87,
   "id": "e697688a",
   "metadata": {
    "ExecuteTime": {
     "end_time": "2021-11-24T08:49:10.885274Z",
     "start_time": "2021-11-24T08:49:10.872279Z"
    }
   },
   "outputs": [
    {
     "name": "stdout",
     "output_type": "stream",
     "text": [
      "[[140, 1003, 30, 8, 1, 1034, 1175, 20, 1, 856, 168, 3, 362, 288, 1294, 348, 113, 208, 694, 12, 44, 246, 307, 5037, 314, 323, 448, 159, 316, 333, 32, 196, 2, 316, 8, 56, 11, 278, 247, 662, 15, 65, 2094, 105, 630, 767, 1574, 270, 150, 395, 82, 319, 3, 229, 738, 896, 5, 1999, 359, 653, 113, 1046, 864, 5038, 203, 52, 16, 503, 167, 314, 1231, 309, 181, 1126, 29, 6, 316, 333, 32, 196, 2, 316, 8, 56, 11, 278, 247, 662, 15, 65, 2094, 105, 630, 767, 1574, 3992, 3, 246, 246, 211, 316, 333, 32, 196, 2, 316, 8, 323, 8, 16, 1176, 6, 316, 8, 56, 11, 50, 1, 324, 99, 1, 48, 81, 630, 354, 2]]\n"
     ]
    }
   ],
   "source": [
    "print(X_train[:1])"
   ]
  },
  {
   "cell_type": "markdown",
   "id": "eb29e83f",
   "metadata": {},
   "source": [
    "## 패딩"
   ]
  },
  {
   "cell_type": "code",
   "execution_count": 88,
   "id": "c4d3a2ce",
   "metadata": {
    "ExecuteTime": {
     "end_time": "2021-11-24T08:49:15.175148Z",
     "start_time": "2021-11-24T08:49:14.897697Z"
    }
   },
   "outputs": [
    {
     "name": "stdout",
     "output_type": "stream",
     "text": [
      "가사의 최대 길이 : 358\n",
      "가사의 평균 길이 : 117.39376331590161\n"
     ]
    },
    {
     "data": {
      "image/png": "[encoded data removed]",
      "text/plain": [
       "<Figure size 432x288 with 1 Axes>"
      ]
     },
     "metadata": {
      "needs_background": "light"
     },
     "output_type": "display_data"
    }
   ],
   "source": [
    "print('가사의 최대 길이 :',max(len(l) for l in X_train))\n",
    "print('가사의 평균 길이 :',sum(map(len, X_train))/len(X_train))\n",
    "plt.hist([len(s) for s in X_train], bins=50)\n",
    "plt.xlabel('length of samples')\n",
    "plt.ylabel('number of samples')\n",
    "plt.show()"
   ]
  },
  {
   "cell_type": "code",
   "execution_count": 89,
   "id": "2f3dae01",
   "metadata": {
    "ExecuteTime": {
     "end_time": "2021-11-24T08:49:24.209448Z",
     "start_time": "2021-11-24T08:49:24.198392Z"
    }
   },
   "outputs": [],
   "source": [
    "def below_threshold_len(max_len, nested_list):\n",
    "    cnt = 0\n",
    "    for s in nested_list:\n",
    "        if(len(s) <= max_len):\n",
    "            cnt = cnt + 1\n",
    "    print('전체 샘플 중 길이가 %s 이하인 샘플의 비율: %s'%(max_len, (cnt / len(nested_list))*100))"
   ]
  },
  {
   "cell_type": "code",
   "execution_count": 93,
   "id": "dbd8f101",
   "metadata": {
    "ExecuteTime": {
     "end_time": "2021-11-24T08:49:42.864771Z",
     "start_time": "2021-11-24T08:49:42.857771Z"
    }
   },
   "outputs": [
    {
     "name": "stdout",
     "output_type": "stream",
     "text": [
      "전체 샘플 중 길이가 200 이하인 샘플의 비율: 95.09974820840597\n"
     ]
    }
   ],
   "source": [
    "max_len = 200\n",
    "below_threshold_len(max_len, X_train)"
   ]
  },
  {
   "cell_type": "markdown",
   "id": "01f47ef2",
   "metadata": {},
   "source": [
    "## 모든 샘플의 길이를 max_len로 조정"
   ]
  },
  {
   "cell_type": "code",
   "execution_count": 94,
   "id": "04b9c044",
   "metadata": {
    "ExecuteTime": {
     "end_time": "2021-11-24T08:49:47.530212Z",
     "start_time": "2021-11-24T08:49:47.429112Z"
    }
   },
   "outputs": [],
   "source": [
    "X_train = pad_sequences(X_train, maxlen = max_len)\n",
    "X_test = pad_sequences(X_test, maxlen = max_len)"
   ]
  },
  {
   "cell_type": "markdown",
   "id": "f5169d46",
   "metadata": {},
   "source": [
    "---"
   ]
  },
  {
   "cell_type": "markdown",
   "id": "e4f1a865",
   "metadata": {},
   "source": [
    "## 모델 적용"
   ]
  },
  {
   "cell_type": "code",
   "execution_count": 95,
   "id": "d9a6e0a7",
   "metadata": {
    "ExecuteTime": {
     "end_time": "2021-11-24T08:49:50.267290Z",
     "start_time": "2021-11-24T08:49:50.258295Z"
    }
   },
   "outputs": [],
   "source": [
    "import numpy as np\n",
    "import matplotlib.pyplot as plt\n",
    "import pandas as pd\n",
    "from tensorflow.keras.layers import Dense, Flatten, Dropout, Conv2D, MaxPooling2D, LSTM, Embedding, Bidirectional\n",
    "from tensorflow.keras import Model\n",
    "from tensorflow.keras.models import Sequential\n",
    "from tensorflow.keras.models import load_model\n",
    "import tensorflow as tf\n",
    "from tensorflow.keras.callbacks import EarlyStopping, ModelCheckpoint"
   ]
  },
  {
   "cell_type": "code",
   "execution_count": 96,
   "id": "95a7867f",
   "metadata": {
    "ExecuteTime": {
     "end_time": "2021-11-24T08:49:59.430111Z",
     "start_time": "2021-11-24T08:49:59.413854Z"
    }
   },
   "outputs": [],
   "source": [
    "def sentiment_predict(new_sentence):\n",
    "  new_sentence = re.sub(r'[^ㄱ-ㅎㅏ-ㅣ가-힣 ]','', new_sentence)\n",
    "  new_sentence = okt.morphs(new_sentence, stem=True) # 토큰화\n",
    "  new_sentence = [word for word in new_sentence if not word in stop_w] # 불용어 제거\n",
    "  encoded = tokenizer.texts_to_sequences([new_sentence]) # 정수 인코딩\n",
    "  pad_new = pad_sequences(encoded, maxlen = max_len) # 패딩\n",
    "  score = float(model.predict(pad_new)) # 예측\n",
    "  if(score > 0.5):\n",
    "    print(\"{:.2f}% 확률로 긍정 가사입니다.\\n\".format(score * 100))\n",
    "  else:\n",
    "    print(\"{:.2f}% 확률로 부정 가사입니다.\\n\".format((1 - score) * 100))"
   ]
  },
  {
   "cell_type": "markdown",
   "id": "ac361da7",
   "metadata": {},
   "source": [
    "---"
   ]
  },
  {
   "cell_type": "markdown",
   "id": "d5545fdb",
   "metadata": {},
   "source": [
    "## Bidirectional(LSTM(N))\n",
    "양방향 many-to-one LSTM\n",
    "*  return_sequence=False (default) : 양방향 & many-to-one 유형\n",
    "* 양방향(Bidirection) 재귀 모델은 시간적으로 앞의 데이터만 가지고는 올바른 예측을 할 수 없다는 문제점을 해결하기 위하여,<br> 정방향뿐 아닌 역방향의 전파까지도 실행시키는 것을 의미함\n",
    "* LSTM에 return_sequence=True, Bidirectional이면서 TimeDistributed() 함수가 사용되면 양방향 many-to-many 유형\n",
    "\n",
    "> https://www.tensorflow.org/api_docs/python/tf/keras/layers/Bidirectional"
   ]
  },
  {
   "cell_type": "markdown",
   "id": "5aa3bbf1",
   "metadata": {},
   "source": [
    "## T1\n",
    "* model.add(Embedding(vocab_size, 300, mask_zero=True))\n",
    "* model.compile(optimizer='adam', loss='binary_crossentropy', metrics=['acc'])\n",
    "* loss: 0.1099 - acc: 0.9567 - val_loss: 0.8096 - val_acc: 0.7735\n",
    "* 330s"
   ]
  },
  {
   "cell_type": "code",
   "execution_count": 110,
   "id": "569e814d",
   "metadata": {
    "ExecuteTime": {
     "end_time": "2021-11-24T09:05:41.895528Z",
     "start_time": "2021-11-24T09:05:36.627342Z"
    }
   },
   "outputs": [],
   "source": [
    "model = Sequential()\n",
    "model.add(Embedding(vocab_size, 300, mask_zero=True))\n",
    "model.add(Bidirectional(LSTM(128)))\n",
    "model.add(Dense(64,activation=\"relu\"))\n",
    "model.add(Dense(32,activation=\"relu\"))\n",
    "model.add(Dense(16,activation=\"relu\"))\n",
    "model.add(Dense(1,activation='sigmoid')) # , activation='sigmoid'"
   ]
  },
  {
   "cell_type": "code",
   "execution_count": 99,
   "id": "b2785ff5",
   "metadata": {
    "ExecuteTime": {
     "end_time": "2021-11-24T08:50:23.924994Z",
     "start_time": "2021-11-24T08:50:23.910973Z"
    }
   },
   "outputs": [],
   "source": [
    "es = EarlyStopping(monitor='val_loss', mode='min', verbose=1, patience=4)\n",
    "mc = ModelCheckpoint('best_model.h5', monitor='val_acc', mode='max', verbose=1, save_best_only=True)"
   ]
  },
  {
   "cell_type": "code",
   "execution_count": 100,
   "id": "35e16a89",
   "metadata": {
    "ExecuteTime": {
     "end_time": "2021-11-24T09:00:43.149180Z",
     "start_time": "2021-11-24T08:50:43.337209Z"
    }
   },
   "outputs": [
    {
     "name": "stdout",
     "output_type": "stream",
     "text": [
      "Epoch 1/15\n",
      "65/65 [==============================] - 116s 2s/step - loss: 0.5328 - acc: 0.7354 - val_loss: 0.5032 - val_acc: 0.7890\n",
      "\n",
      "Epoch 00001: val_acc improved from -inf to 0.78896, saving model to best_model.h5\n",
      "Epoch 2/15\n",
      "65/65 [==============================] - 118s 2s/step - loss: 0.3484 - acc: 0.8673 - val_loss: 0.5328 - val_acc: 0.7803\n",
      "\n",
      "Epoch 00002: val_acc did not improve from 0.78896\n",
      "Epoch 3/15\n",
      "65/65 [==============================] - 121s 2s/step - loss: 0.2452 - acc: 0.9090 - val_loss: 0.5245 - val_acc: 0.7870\n",
      "\n",
      "Epoch 00003: val_acc did not improve from 0.78896\n",
      "Epoch 4/15\n",
      "65/65 [==============================] - 125s 2s/step - loss: 0.1634 - acc: 0.9453 - val_loss: 0.6711 - val_acc: 0.7677\n",
      "\n",
      "Epoch 00004: val_acc did not improve from 0.78896\n",
      "Epoch 5/15\n",
      "65/65 [==============================] - 119s 2s/step - loss: 0.1099 - acc: 0.9567 - val_loss: 0.8096 - val_acc: 0.7735\n",
      "\n",
      "Epoch 00005: val_acc did not improve from 0.78896\n",
      "Epoch 00005: early stopping\n"
     ]
    }
   ],
   "source": [
    "model.compile(optimizer='adam', loss='binary_crossentropy', metrics=['acc'])\n",
    "history = model.fit(X_train, y_train, epochs=15, callbacks=[es, mc], batch_size=64, validation_split=0.2)"
   ]
  },
  {
   "cell_type": "code",
   "execution_count": 101,
   "id": "a2d4a036",
   "metadata": {
    "ExecuteTime": {
     "end_time": "2021-11-24T09:01:05.058346Z",
     "start_time": "2021-11-24T09:01:02.064359Z"
    }
   },
   "outputs": [
    {
     "name": "stdout",
     "output_type": "stream",
     "text": [
      "64.35% 확률로 긍정 가사입니다.\n",
      "\n"
     ]
    }
   ],
   "source": [
    "sentiment_predict('너를 만난 세상 슬픈 우연 속에서')"
   ]
  },
  {
   "cell_type": "code",
   "execution_count": 102,
   "id": "887891ed",
   "metadata": {
    "ExecuteTime": {
     "end_time": "2021-11-24T09:01:13.692457Z",
     "start_time": "2021-11-24T09:01:12.807276Z"
    }
   },
   "outputs": [
    {
     "name": "stdout",
     "output_type": "stream",
     "text": [
      "97.48% 확률로 부정 가사입니다.\n",
      "\n"
     ]
    }
   ],
   "source": [
    "sentiment_predict('눈물이 흘러 이별인걸 알았어. 힘없이 돌아서던 너의 뒷모습을 바라보며')"
   ]
  },
  {
   "cell_type": "code",
   "execution_count": 103,
   "id": "c1401f1f",
   "metadata": {
    "ExecuteTime": {
     "end_time": "2021-11-24T09:01:15.120737Z",
     "start_time": "2021-11-24T09:01:15.043701Z"
    }
   },
   "outputs": [
    {
     "name": "stdout",
     "output_type": "stream",
     "text": [
      "75.34% 확률로 부정 가사입니다.\n",
      "\n"
     ]
    }
   ],
   "source": [
    "sentiment_predict('나는 나는 행복에 묻힐 거에요')"
   ]
  },
  {
   "cell_type": "code",
   "execution_count": 104,
   "id": "28880c11",
   "metadata": {
    "ExecuteTime": {
     "end_time": "2021-11-24T09:01:16.586038Z",
     "start_time": "2021-11-24T09:01:16.503931Z"
    }
   },
   "outputs": [
    {
     "name": "stdout",
     "output_type": "stream",
     "text": [
      "70.36% 확률로 긍정 가사입니다.\n",
      "\n"
     ]
    }
   ],
   "source": [
    "sentiment_predict('눈을 뜨기 힘든 가을 보다 높은 저 하늘이 기분 좋아')"
   ]
  },
  {
   "cell_type": "code",
   "execution_count": 105,
   "id": "86e3bb54",
   "metadata": {
    "ExecuteTime": {
     "end_time": "2021-11-24T09:01:18.317196Z",
     "start_time": "2021-11-24T09:01:18.215189Z"
    }
   },
   "outputs": [
    {
     "name": "stdout",
     "output_type": "stream",
     "text": [
      "85.13% 확률로 긍정 가사입니다.\n",
      "\n"
     ]
    }
   ],
   "source": [
    "sentiment_predict('두 눈에 비친 너의 미소 지친 날 감싸듯 내 맘 비춰 소리없이 찾아와')"
   ]
  },
  {
   "cell_type": "code",
   "execution_count": 106,
   "id": "bb80989f",
   "metadata": {
    "ExecuteTime": {
     "end_time": "2021-11-24T09:01:20.215378Z",
     "start_time": "2021-11-24T09:01:20.126242Z"
    }
   },
   "outputs": [
    {
     "name": "stdout",
     "output_type": "stream",
     "text": [
      "76.05% 확률로 긍정 가사입니다.\n",
      "\n"
     ]
    }
   ],
   "source": [
    "sentiment_predict('넌 그대로가 사랑이니까 이대로가 좋다 했지')"
   ]
  },
  {
   "cell_type": "code",
   "execution_count": 107,
   "id": "89d34e9c",
   "metadata": {
    "ExecuteTime": {
     "end_time": "2021-11-24T09:01:21.785320Z",
     "start_time": "2021-11-24T09:01:21.692239Z"
    }
   },
   "outputs": [
    {
     "name": "stdout",
     "output_type": "stream",
     "text": [
      "84.47% 확률로 긍정 가사입니다.\n",
      "\n"
     ]
    }
   ],
   "source": [
    "sentiment_predict('손을잡아 너와 함께 난 언제라도 따듯한 폭닥한 이불 널 보면 생각나')"
   ]
  },
  {
   "cell_type": "code",
   "execution_count": 108,
   "id": "b7025af8",
   "metadata": {
    "ExecuteTime": {
     "end_time": "2021-11-24T09:01:55.437179Z",
     "start_time": "2021-11-24T09:01:55.063212Z"
    }
   },
   "outputs": [
    {
     "data": {
      "image/png": "[encoded data removed]",
      "text/plain": [
       "<Figure size 432x288 with 1 Axes>"
      ]
     },
     "metadata": {
      "needs_background": "light"
     },
     "output_type": "display_data"
    },
    {
     "data": {
      "image/png": "[encoded data removed]",
      "text/plain": [
       "<Figure size 432x288 with 1 Axes>"
      ]
     },
     "metadata": {
      "needs_background": "light"
     },
     "output_type": "display_data"
    }
   ],
   "source": [
    "#  \"Accuracy\"\n",
    "plt.plot(history.history['acc'])\n",
    "plt.plot(history.history['val_acc'])\n",
    "plt.title('model accuracy')\n",
    "plt.ylabel('accuracy')\n",
    "plt.xlabel('epoch')\n",
    "plt.legend(['train', 'validation'], loc='upper left')\n",
    "plt.show()\n",
    "\n",
    "# \"Loss\"\n",
    "plt.plot(history.history['loss'])\n",
    "plt.plot(history.history['val_loss'])\n",
    "plt.title('model loss')\n",
    "plt.ylabel('loss')\n",
    "plt.xlabel('epoch')\n",
    "plt.legend(['train', 'validation'], loc='upper left')\n",
    "plt.show()"
   ]
  },
  {
   "cell_type": "markdown",
   "id": "5447a3ab",
   "metadata": {},
   "source": [
    "## T2\n",
    "* optimizer='adam', loss='binary_crossentropy', metrics=['acc']\n",
    "* 1070 s"
   ]
  },
  {
   "cell_type": "code",
   "execution_count": 111,
   "id": "ca072248",
   "metadata": {
    "ExecuteTime": {
     "end_time": "2021-11-24T09:06:09.052388Z",
     "start_time": "2021-11-24T09:06:01.337292Z"
    }
   },
   "outputs": [],
   "source": [
    "model = Sequential()\n",
    "model.add(Embedding(vocab_size, 300, mask_zero=True))\n",
    "model.add(Bidirectional(LSTM(128)))\n",
    "model.add(Dense(64,activation=\"relu\"))\n",
    "model.add(Dense(32,activation=\"relu\"))\n",
    "model.add(Dense(16,activation=\"relu\"))\n",
    "model.add(Dense(4,activation=\"relu\"))\n",
    "model.add(Dense(1,activation='sigmoid')) # , activation='sigmoid'"
   ]
  },
  {
   "cell_type": "code",
   "execution_count": 112,
   "id": "feb664a6",
   "metadata": {
    "ExecuteTime": {
     "end_time": "2021-11-24T09:06:13.448212Z",
     "start_time": "2021-11-24T09:06:13.428219Z"
    }
   },
   "outputs": [],
   "source": [
    "es = EarlyStopping(monitor='val_loss', mode='min', verbose=1, patience=4)\n",
    "mc = ModelCheckpoint('best_model.h5', monitor='val_acc', mode='max', verbose=1, save_best_only=True)"
   ]
  },
  {
   "cell_type": "code",
   "execution_count": 113,
   "id": "6bcd7d09",
   "metadata": {
    "ExecuteTime": {
     "end_time": "2021-11-24T09:24:15.677364Z",
     "start_time": "2021-11-24T09:06:25.701274Z"
    }
   },
   "outputs": [
    {
     "name": "stdout",
     "output_type": "stream",
     "text": [
      "Epoch 1/15\n",
      "65/65 [==============================] - 164s 2s/step - loss: 0.6150 - acc: 0.6433 - val_loss: 0.5323 - val_acc: 0.7076\n",
      "\n",
      "Epoch 00001: val_acc improved from -inf to 0.70765, saving model to best_model.h5\n",
      "Epoch 2/15\n",
      "65/65 [==============================] - 152s 2s/step - loss: 0.4524 - acc: 0.8017 - val_loss: 0.5298 - val_acc: 0.7754\n",
      "\n",
      "Epoch 00002: val_acc improved from 0.70765 to 0.77541, saving model to best_model.h5\n",
      "Epoch 3/15\n",
      "65/65 [==============================] - 146s 2s/step - loss: 0.3555 - acc: 0.8620 - val_loss: 0.4792 - val_acc: 0.7890\n",
      "\n",
      "Epoch 00003: val_acc improved from 0.77541 to 0.78896, saving model to best_model.h5\n",
      "Epoch 4/15\n",
      "65/65 [==============================] - 154s 2s/step - loss: 0.2697 - acc: 0.8966 - val_loss: 0.5049 - val_acc: 0.7996\n",
      "\n",
      "Epoch 00004: val_acc improved from 0.78896 to 0.79961, saving model to best_model.h5\n",
      "Epoch 5/15\n",
      "65/65 [==============================] - 152s 2s/step - loss: 0.1926 - acc: 0.9266 - val_loss: 0.6076 - val_acc: 0.7938\n",
      "\n",
      "Epoch 00005: val_acc did not improve from 0.79961\n",
      "Epoch 6/15\n",
      "65/65 [==============================] - 151s 2s/step - loss: 0.1407 - acc: 0.9465 - val_loss: 0.6235 - val_acc: 0.7919\n",
      "\n",
      "Epoch 00006: val_acc did not improve from 0.79961\n",
      "Epoch 7/15\n",
      "65/65 [==============================] - 148s 2s/step - loss: 0.1080 - acc: 0.9584 - val_loss: 0.6111 - val_acc: 0.7706\n",
      "\n",
      "Epoch 00007: val_acc did not improve from 0.79961\n",
      "Epoch 00007: early stopping\n"
     ]
    }
   ],
   "source": [
    "model.compile(optimizer='adam', loss='binary_crossentropy', metrics=['acc'])\n",
    "history = model.fit(X_train, y_train, epochs=15, callbacks=[es, mc], batch_size=64, validation_split=0.2)"
   ]
  },
  {
   "cell_type": "code",
   "execution_count": 114,
   "id": "f8f719e7",
   "metadata": {
    "ExecuteTime": {
     "end_time": "2021-11-24T09:26:15.694270Z",
     "start_time": "2021-11-24T09:26:13.396156Z"
    }
   },
   "outputs": [
    {
     "name": "stdout",
     "output_type": "stream",
     "text": [
      "93.38% 확률로 부정 가사입니다.\n",
      "\n"
     ]
    }
   ],
   "source": [
    "sentiment_predict('너를 만난 세상 슬픈 우연 속에서')"
   ]
  },
  {
   "cell_type": "code",
   "execution_count": 115,
   "id": "0a0add7f",
   "metadata": {
    "ExecuteTime": {
     "end_time": "2021-11-24T09:26:17.129677Z",
     "start_time": "2021-11-24T09:26:17.067674Z"
    }
   },
   "outputs": [
    {
     "name": "stdout",
     "output_type": "stream",
     "text": [
      "99.59% 확률로 부정 가사입니다.\n",
      "\n"
     ]
    }
   ],
   "source": [
    "sentiment_predict('눈물이 흘러 이별인걸 알았어. 힘없이 돌아서던 너의 뒷모습을 바라보며')"
   ]
  },
  {
   "cell_type": "code",
   "execution_count": 116,
   "id": "aea6e9aa",
   "metadata": {
    "ExecuteTime": {
     "end_time": "2021-11-24T09:26:18.546746Z",
     "start_time": "2021-11-24T09:26:18.454729Z"
    }
   },
   "outputs": [
    {
     "name": "stdout",
     "output_type": "stream",
     "text": [
      "64.30% 확률로 부정 가사입니다.\n",
      "\n"
     ]
    }
   ],
   "source": [
    "sentiment_predict('나는 나는 행복에 묻힐 거에요')"
   ]
  },
  {
   "cell_type": "code",
   "execution_count": 117,
   "id": "292ab23d",
   "metadata": {
    "ExecuteTime": {
     "end_time": "2021-11-24T09:26:19.973833Z",
     "start_time": "2021-11-24T09:26:19.882834Z"
    }
   },
   "outputs": [
    {
     "name": "stdout",
     "output_type": "stream",
     "text": [
      "81.43% 확률로 긍정 가사입니다.\n",
      "\n"
     ]
    }
   ],
   "source": [
    "sentiment_predict('눈을 뜨기 힘든 가을 보다 높은 저 하늘이 기분 좋아')"
   ]
  },
  {
   "cell_type": "code",
   "execution_count": 118,
   "id": "68fd443d",
   "metadata": {
    "ExecuteTime": {
     "end_time": "2021-11-24T09:26:21.400187Z",
     "start_time": "2021-11-24T09:26:21.322976Z"
    }
   },
   "outputs": [
    {
     "name": "stdout",
     "output_type": "stream",
     "text": [
      "65.21% 확률로 부정 가사입니다.\n",
      "\n"
     ]
    }
   ],
   "source": [
    "sentiment_predict('두 눈에 비친 너의 미소 지친 날 감싸듯 내 맘 비춰 소리없이 찾아와')"
   ]
  },
  {
   "cell_type": "code",
   "execution_count": 119,
   "id": "fc98d9e8",
   "metadata": {
    "ExecuteTime": {
     "end_time": "2021-11-24T09:26:22.778208Z",
     "start_time": "2021-11-24T09:26:22.716717Z"
    }
   },
   "outputs": [
    {
     "name": "stdout",
     "output_type": "stream",
     "text": [
      "54.75% 확률로 긍정 가사입니다.\n",
      "\n"
     ]
    }
   ],
   "source": [
    "sentiment_predict('넌 그대로가 사랑이니까 이대로가 좋다 했지')"
   ]
  },
  {
   "cell_type": "code",
   "execution_count": 120,
   "id": "9dab3a54",
   "metadata": {
    "ExecuteTime": {
     "end_time": "2021-11-24T09:26:24.173122Z",
     "start_time": "2021-11-24T09:26:24.096121Z"
    }
   },
   "outputs": [
    {
     "name": "stdout",
     "output_type": "stream",
     "text": [
      "62.49% 확률로 긍정 가사입니다.\n",
      "\n"
     ]
    }
   ],
   "source": [
    "sentiment_predict('손을잡아 너와 함께 난 언제라도 따듯한 폭닥한 이불 널 보면 생각나')"
   ]
  },
  {
   "cell_type": "code",
   "execution_count": 122,
   "id": "55207a96",
   "metadata": {
    "ExecuteTime": {
     "end_time": "2021-11-24T09:59:24.530943Z",
     "start_time": "2021-11-24T09:59:24.161899Z"
    }
   },
   "outputs": [
    {
     "data": {
      "image/png": "[encoded data removed]",
      "text/plain": [
       "<Figure size 432x288 with 1 Axes>"
      ]
     },
     "metadata": {
      "needs_background": "light"
     },
     "output_type": "display_data"
    },
    {
     "data": {
      "image/png": "[encoded data removed]",
      "text/plain": [
       "<Figure size 432x288 with 1 Axes>"
      ]
     },
     "metadata": {
      "needs_background": "light"
     },
     "output_type": "display_data"
    }
   ],
   "source": [
    "#  \"Accuracy\"\n",
    "plt.plot(history.history['acc'])\n",
    "plt.plot(history.history['val_acc'])\n",
    "plt.title('model accuracy')\n",
    "plt.ylabel('accuracy')\n",
    "plt.xlabel('epoch')\n",
    "plt.legend(['train', 'validation'], loc='upper left')\n",
    "plt.show()\n",
    "\n",
    "# \"Loss\"\n",
    "plt.plot(history.history['loss'])\n",
    "plt.plot(history.history['val_loss'])\n",
    "plt.title('model loss')\n",
    "plt.ylabel('loss')\n",
    "plt.xlabel('epoch')\n",
    "plt.legend(['train', 'validation'], loc='upper left')\n",
    "plt.show()"
   ]
  },
  {
   "cell_type": "markdown",
   "id": "254a4dc7",
   "metadata": {},
   "source": [
    "## 모델 저장"
   ]
  },
  {
   "cell_type": "code",
   "execution_count": 121,
   "id": "0eb14d21",
   "metadata": {
    "ExecuteTime": {
     "end_time": "2021-11-24T09:26:40.536499Z",
     "start_time": "2021-11-24T09:26:40.428084Z"
    }
   },
   "outputs": [],
   "source": [
    "# creates a HDF5 file 'my_model.h5'\n",
    "model.save('models/biLSTM_w2v_1124_2.h5')"
   ]
  },
  {
   "cell_type": "code",
   "execution_count": 185,
   "id": "02d52cea",
   "metadata": {
    "ExecuteTime": {
     "end_time": "2021-11-19T19:33:44.177075Z",
     "start_time": "2021-11-19T19:33:41.238137Z"
    }
   },
   "outputs": [],
   "source": [
    "from keras.models import load_model\n",
    "predictor = load_model('models/biLSTM_w2v.h5')"
   ]
  },
  {
   "cell_type": "code",
   "execution_count": null,
   "id": "3bc23c2c",
   "metadata": {},
   "outputs": [],
   "source": []
  }
 ],
 "metadata": {
  "hide_input": false,
  "kernelspec": {
   "display_name": "Python 3",
   "language": "python",
   "name": "python3"
  },
  "language_info": {
   "codemirror_mode": {
    "name": "ipython",
    "version": 3
   },
   "file_extension": ".py",
   "mimetype": "text/x-python",
   "name": "python",
   "nbconvert_exporter": "python",
   "pygments_lexer": "ipython3",
   "version": "3.8.8"
  },
  "toc": {
   "base_numbering": 1,
   "nav_menu": {},
   "number_sections": true,
   "sideBar": true,
   "skip_h1_title": false,
   "title_cell": "Table of Contents",
   "title_sidebar": "Contents",
   "toc_cell": false,
   "toc_position": {},
   "toc_section_display": true,
   "toc_window_display": false
  },
  "varInspector": {
   "cols": {
    "lenName": 16,
    "lenType": 16,
    "lenVar": 40
   },
   "kernels_config": {
    "python": {
     "delete_cmd_postfix": "",
     "delete_cmd_prefix": "del ",
     "library": "var_list.py",
     "varRefreshCmd": "print(var_dic_list())"
    },
    "r": {
     "delete_cmd_postfix": ") ",
     "delete_cmd_prefix": "rm(",
     "library": "var_list.r",
     "varRefreshCmd": "cat(var_dic_list()) "
    }
   },
   "types_to_exclude": [
    "module",
    "function",
    "builtin_function_or_method",
    "instance",
    "_Feature"
   ],
   "window_display": false
  }
 },
 "nbformat": 4,
 "nbformat_minor": 5
}
