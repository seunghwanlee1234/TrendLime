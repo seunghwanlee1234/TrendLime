{
 "cells": [
  {
   "cell_type": "code",
   "execution_count": 1,
   "id": "492250f5",
   "metadata": {
    "ExecuteTime": {
     "end_time": "2021-11-29T03:59:44.248590Z",
     "start_time": "2021-11-29T03:59:27.745998Z"
    }
   },
   "outputs": [],
   "source": [
    "import re\n",
    "import requests\n",
    "from bs4 import BeautifulSoup\n",
    "import pandas as pd\n",
    "from konlpy.tag import Okt  \n",
    "okt = Okt() \n",
    "import tensorflow as tf\n",
    "import numpy as np\n",
    "from collections import Counter\n",
    "\n",
    "from wordcloud import WordCloud\n",
    "import matplotlib.pyplot as plt\n",
    "\n",
    "\n",
    "import urllib.request\n",
    "from tqdm import tqdm\n",
    "from tensorflow.keras.preprocessing.text import Tokenizer\n",
    "from tensorflow.keras.preprocessing.sequence import pad_sequences\n",
    "from sklearn.model_selection import train_test_split\n",
    "from sklearn.feature_extraction.text import CountVectorizer"
   ]
  },
  {
   "cell_type": "code",
   "execution_count": 2,
   "id": "f6dd92dc",
   "metadata": {
    "ExecuteTime": {
     "end_time": "2021-11-29T03:59:44.296626Z",
     "start_time": "2021-11-29T03:59:44.287597Z"
    }
   },
   "outputs": [],
   "source": [
    "import matplotlib.pyplot as plt \n",
    "from string import punctuation\n",
    "import warnings\n",
    "warnings.filterwarnings('ignore')"
   ]
  },
  {
   "cell_type": "code",
   "execution_count": 3,
   "id": "bf305271",
   "metadata": {
    "ExecuteTime": {
     "end_time": "2021-11-29T03:59:44.647591Z",
     "start_time": "2021-11-29T03:59:44.336599Z"
    }
   },
   "outputs": [],
   "source": [
    "import seaborn as sns\n",
    "import matplotlib.font_manager as fm\n",
    "\n",
    "# jupyter notebook 내 그래프를 바로 그리기 위한 설정\n",
    "%matplotlib inline\n",
    "\n",
    "plt.rc('font', family='malgun gothic') # 그래프에서 한글 깨지는 현상 방지\n",
    "plt.rcParams['axes.unicode_minus']=False #음수 부호 깨짐 방지"
   ]
  },
  {
   "cell_type": "code",
   "execution_count": 4,
   "id": "362fae8b",
   "metadata": {
    "ExecuteTime": {
     "end_time": "2021-11-29T04:00:38.960370Z",
     "start_time": "2021-11-29T04:00:38.017351Z"
    }
   },
   "outputs": [],
   "source": [
    "playlist = pd.read_csv('./z_save/total_playlist.csv')"
   ]
  },
  {
   "cell_type": "markdown",
   "id": "cf2e638e",
   "metadata": {},
   "source": [
    "## 전처리"
   ]
  },
  {
   "cell_type": "code",
   "execution_count": 5,
   "id": "46141697",
   "metadata": {
    "ExecuteTime": {
     "end_time": "2021-11-29T04:02:59.156656Z",
     "start_time": "2021-11-29T04:02:57.453625Z"
    }
   },
   "outputs": [
    {
     "name": "stdout",
     "output_type": "stream",
     "text": [
      "song_id          0\n",
      "song_name        0\n",
      "artist           0\n",
      "album            1\n",
      "Like_Count       9\n",
      "Lyric         1122\n",
      "cover_url       21\n",
      "tags            21\n",
      "dtype: int64\n",
      "전처리 후 데이터의 개수 : 26793\n"
     ]
    }
   ],
   "source": [
    "playlist['Lyric'] = playlist['Lyric'].str.replace(\"[^ㄱ-ㅎㅏ-ㅣ가-힣 ]\",\"\")\n",
    "# 한글과 공백을 제외하고 모두 제거\n",
    "playlist[:5]\n",
    "playlist['Lyric'] = playlist['Lyric'].str.replace('^ +', \"\") # white space 데이터를 empty value로 변경\n",
    "playlist['Lyric'].replace('', np.nan, inplace=True)\n",
    "print(playlist.isnull().sum())\n",
    "playlist = playlist.dropna(how = 'any')\n",
    "playlist.reset_index(drop=True)\n",
    "print('전처리 후 데이터의 개수 :',len(playlist))"
   ]
  },
  {
   "cell_type": "code",
   "execution_count": 6,
   "id": "3cf1947f",
   "metadata": {
    "ExecuteTime": {
     "end_time": "2021-11-29T04:03:30.934902Z",
     "start_time": "2021-11-29T04:03:30.876908Z"
    }
   },
   "outputs": [
    {
     "name": "stdout",
     "output_type": "stream",
     "text": [
      "<class 'pandas.core.frame.DataFrame'>\n",
      "Int64Index: 26793 entries, 0 to 27926\n",
      "Data columns (total 8 columns):\n",
      " #   Column      Non-Null Count  Dtype \n",
      "---  ------      --------------  ----- \n",
      " 0   song_id     26793 non-null  int64 \n",
      " 1   song_name   26793 non-null  object\n",
      " 2   artist      26793 non-null  object\n",
      " 3   album       26793 non-null  object\n",
      " 4   Like_Count  26793 non-null  object\n",
      " 5   Lyric       26793 non-null  object\n",
      " 6   cover_url   26793 non-null  object\n",
      " 7   tags        26793 non-null  object\n",
      "dtypes: int64(1), object(7)\n",
      "memory usage: 1.8+ MB\n"
     ]
    }
   ],
   "source": [
    "playlist.info()"
   ]
  },
  {
   "cell_type": "code",
   "execution_count": 8,
   "id": "fb03fafa",
   "metadata": {
    "ExecuteTime": {
     "end_time": "2021-11-29T04:04:50.401849Z",
     "start_time": "2021-11-29T04:04:50.384469Z"
    }
   },
   "outputs": [
    {
     "data": {
      "text/plain": [
       "1130"
      ]
     },
     "execution_count": 8,
     "metadata": {},
     "output_type": "execute_result"
    }
   ],
   "source": [
    "playlist['tags'].nunique()"
   ]
  },
  {
   "cell_type": "code",
   "execution_count": 53,
   "id": "6a9c181c",
   "metadata": {
    "ExecuteTime": {
     "end_time": "2021-11-29T04:23:02.265112Z",
     "start_time": "2021-11-29T04:23:02.243112Z"
    }
   },
   "outputs": [
    {
     "name": "stdout",
     "output_type": "stream",
     "text": [
      "1975\n"
     ]
    }
   ],
   "source": [
    "spring = playlist[playlist['tags'].str.contains('봄')]\n",
    "spring_count = len(spring)\n",
    "print(spring_count)"
   ]
  },
  {
   "cell_type": "code",
   "execution_count": 52,
   "id": "d09ff508",
   "metadata": {
    "ExecuteTime": {
     "end_time": "2021-11-29T04:22:58.043122Z",
     "start_time": "2021-11-29T04:22:58.015822Z"
    }
   },
   "outputs": [
    {
     "name": "stdout",
     "output_type": "stream",
     "text": [
      "2200\n"
     ]
    }
   ],
   "source": [
    "summer = playlist[playlist['tags'].str.contains('여름')]\n",
    "summer_count = len(summer)\n",
    "print(summer_count)"
   ]
  },
  {
   "cell_type": "code",
   "execution_count": 50,
   "id": "96e45d6f",
   "metadata": {
    "ExecuteTime": {
     "end_time": "2021-11-29T04:22:46.318004Z",
     "start_time": "2021-11-29T04:22:46.290824Z"
    }
   },
   "outputs": [
    {
     "name": "stdout",
     "output_type": "stream",
     "text": [
      "3069\n"
     ]
    }
   ],
   "source": [
    "fall = playlist[playlist['tags'].str.contains('가을')]\n",
    "fall_count = len(fall)\n",
    "print(fall_count)"
   ]
  },
  {
   "cell_type": "code",
   "execution_count": 49,
   "id": "064139a0",
   "metadata": {
    "ExecuteTime": {
     "end_time": "2021-11-29T04:22:40.302029Z",
     "start_time": "2021-11-29T04:22:40.275015Z"
    }
   },
   "outputs": [
    {
     "name": "stdout",
     "output_type": "stream",
     "text": [
      "2598\n"
     ]
    }
   ],
   "source": [
    "winter = playlist[playlist['tags'].str.contains('겨울')]\n",
    "winter_count = len(winter)\n",
    "print(winter_count)"
   ]
  },
  {
   "cell_type": "code",
   "execution_count": 51,
   "id": "eada5145",
   "metadata": {
    "ExecuteTime": {
     "end_time": "2021-11-29T04:22:52.742219Z",
     "start_time": "2021-11-29T04:22:52.718221Z"
    }
   },
   "outputs": [
    {
     "name": "stdout",
     "output_type": "stream",
     "text": [
      "<class 'pandas.core.frame.DataFrame'>\n",
      "Int64Index: 3069 entries, 198 to 26847\n",
      "Data columns (total 8 columns):\n",
      " #   Column      Non-Null Count  Dtype \n",
      "---  ------      --------------  ----- \n",
      " 0   song_id     3069 non-null   int64 \n",
      " 1   song_name   3069 non-null   object\n",
      " 2   artist      3069 non-null   object\n",
      " 3   album       3069 non-null   object\n",
      " 4   Like_Count  3069 non-null   object\n",
      " 5   Lyric       3069 non-null   object\n",
      " 6   cover_url   3069 non-null   object\n",
      " 7   tags        3069 non-null   object\n",
      "dtypes: int64(1), object(7)\n",
      "memory usage: 215.8+ KB\n"
     ]
    }
   ],
   "source": [
    "fall.info()"
   ]
  },
  {
   "cell_type": "code",
   "execution_count": 54,
   "id": "ce09927e",
   "metadata": {
    "ExecuteTime": {
     "end_time": "2021-11-29T04:23:07.455009Z",
     "start_time": "2021-11-29T04:23:07.444007Z"
    },
    "scrolled": false
   },
   "outputs": [],
   "source": [
    "seasons = [spring_count,summer_count,fall_count,winter_count]"
   ]
  },
  {
   "cell_type": "code",
   "execution_count": 55,
   "id": "eced6001",
   "metadata": {
    "ExecuteTime": {
     "end_time": "2021-11-29T04:23:08.281008Z",
     "start_time": "2021-11-29T04:23:08.274008Z"
    }
   },
   "outputs": [
    {
     "data": {
      "text/plain": [
       "[1975, 2200, 3069, 2598]"
      ]
     },
     "execution_count": 55,
     "metadata": {},
     "output_type": "execute_result"
    }
   ],
   "source": [
    "seasons"
   ]
  },
  {
   "cell_type": "code",
   "execution_count": 36,
   "id": "090d4218",
   "metadata": {
    "ExecuteTime": {
     "end_time": "2021-11-29T04:17:27.027209Z",
     "start_time": "2021-11-29T04:17:27.015215Z"
    }
   },
   "outputs": [],
   "source": [
    "import matplotlib.pyplot as plt"
   ]
  },
  {
   "cell_type": "code",
   "execution_count": 45,
   "id": "13a35792",
   "metadata": {
    "ExecuteTime": {
     "end_time": "2021-11-29T04:21:13.961405Z",
     "start_time": "2021-11-29T04:21:13.950408Z"
    }
   },
   "outputs": [],
   "source": [
    "seasons_name = ['봄', '여름', '가을', '겨울']"
   ]
  },
  {
   "cell_type": "code",
   "execution_count": 56,
   "id": "ee37e957",
   "metadata": {
    "ExecuteTime": {
     "end_time": "2021-11-29T04:23:10.866011Z",
     "start_time": "2021-11-29T04:23:10.690629Z"
    }
   },
   "outputs": [
    {
     "data": {
      "text/plain": [
       "Text(0.5, 1.0, '노래의 계절 분포 수')"
      ]
     },
     "execution_count": 56,
     "metadata": {},
     "output_type": "execute_result"
    },
    {
     "data": {
      "image/png": "[encoded data removed]",
      "text/plain": [
       "<Figure size 432x288 with 1 Axes>"
      ]
     },
     "metadata": {
      "needs_background": "light"
     },
     "output_type": "display_data"
    }
   ],
   "source": [
    "sns.barplot(seasons_name, seasons, palette='husl')\n",
    "plt.title('노래의 계절 분포 수')"
   ]
  },
  {
   "cell_type": "code",
   "execution_count": 57,
   "id": "26388732",
   "metadata": {
    "ExecuteTime": {
     "end_time": "2021-11-29T04:27:04.467235Z",
     "start_time": "2021-11-29T04:27:04.440237Z"
    }
   },
   "outputs": [
    {
     "name": "stdout",
     "output_type": "stream",
     "text": [
      "6615\n"
     ]
    }
   ],
   "source": [
    "b = playlist[playlist['tags'].str.contains('발라드')]\n",
    "b_count = len(b)\n",
    "print(b_count)"
   ]
  },
  {
   "cell_type": "code",
   "execution_count": 58,
   "id": "0f532509",
   "metadata": {
    "ExecuteTime": {
     "end_time": "2021-11-29T04:28:39.009849Z",
     "start_time": "2021-11-29T04:28:38.986763Z"
    }
   },
   "outputs": [
    {
     "name": "stdout",
     "output_type": "stream",
     "text": [
      "2380\n"
     ]
    }
   ],
   "source": [
    "e = playlist[playlist['tags'].str.contains('신나는')]\n",
    "e_count = len(e)\n",
    "print(e_count)"
   ]
  },
  {
   "cell_type": "code",
   "execution_count": 59,
   "id": "d3bcc5dc",
   "metadata": {
    "ExecuteTime": {
     "end_time": "2021-11-29T04:29:07.424774Z",
     "start_time": "2021-11-29T04:29:07.395764Z"
    }
   },
   "outputs": [
    {
     "name": "stdout",
     "output_type": "stream",
     "text": [
      "1015\n"
     ]
    }
   ],
   "source": [
    "a = playlist[playlist['tags'].str.contains('어쿠스틱')]\n",
    "a_count = len(a)\n",
    "print(a_count)"
   ]
  },
  {
   "cell_type": "code",
   "execution_count": 60,
   "id": "00b78867",
   "metadata": {
    "ExecuteTime": {
     "end_time": "2021-11-29T04:29:36.987069Z",
     "start_time": "2021-11-29T04:29:36.948053Z"
    }
   },
   "outputs": [
    {
     "name": "stdout",
     "output_type": "stream",
     "text": [
      "9450\n"
     ]
    }
   ],
   "source": [
    "i = playlist[playlist['tags'].str.contains('인디')]\n",
    "i_count = len(i)\n",
    "print(i_count)"
   ]
  },
  {
   "cell_type": "code",
   "execution_count": 77,
   "id": "78316efc",
   "metadata": {
    "ExecuteTime": {
     "end_time": "2021-11-29T04:48:54.771931Z",
     "start_time": "2021-11-29T04:48:54.748426Z"
    }
   },
   "outputs": [
    {
     "name": "stdout",
     "output_type": "stream",
     "text": [
      "729\n"
     ]
    }
   ],
   "source": [
    "ele = playlist[playlist['tags'].str.contains('일렉트로')]\n",
    "ele_count = len(ele)\n",
    "print(ele_count)"
   ]
  },
  {
   "cell_type": "code",
   "execution_count": 78,
   "id": "d51e7e9a",
   "metadata": {
    "ExecuteTime": {
     "end_time": "2021-11-29T04:49:28.725400Z",
     "start_time": "2021-11-29T04:49:28.701400Z"
    }
   },
   "outputs": [
    {
     "name": "stdout",
     "output_type": "stream",
     "text": [
      "371\n"
     ]
    }
   ],
   "source": [
    "drama = playlist[playlist['tags'].str.contains('드라마')]\n",
    "drama_count = len(drama)\n",
    "print(drama_count)"
   ]
  },
  {
   "cell_type": "code",
   "execution_count": 79,
   "id": "872445ae",
   "metadata": {
    "ExecuteTime": {
     "end_time": "2021-11-29T04:50:24.045662Z",
     "start_time": "2021-11-29T04:50:24.027664Z"
    }
   },
   "outputs": [
    {
     "name": "stdout",
     "output_type": "stream",
     "text": [
      "730\n"
     ]
    }
   ],
   "source": [
    "dance = playlist[playlist['tags'].str.contains('댄스')]\n",
    "dance_count = len(dance)\n",
    "print(dance_count)"
   ]
  },
  {
   "cell_type": "code",
   "execution_count": 80,
   "id": "061cd741",
   "metadata": {
    "ExecuteTime": {
     "end_time": "2021-11-29T04:51:28.435040Z",
     "start_time": "2021-11-29T04:51:28.405037Z"
    }
   },
   "outputs": [
    {
     "name": "stdout",
     "output_type": "stream",
     "text": [
      "1984\n"
     ]
    }
   ],
   "source": [
    "rnb = playlist[playlist['tags'].str.contains('알앤비')]\n",
    "rnb_count = len(rnb)\n",
    "print(rnb_count)"
   ]
  },
  {
   "cell_type": "code",
   "execution_count": 95,
   "id": "1155d0db",
   "metadata": {
    "ExecuteTime": {
     "end_time": "2021-11-29T05:10:29.226217Z",
     "start_time": "2021-11-29T05:10:29.196199Z"
    }
   },
   "outputs": [
    {
     "name": "stdout",
     "output_type": "stream",
     "text": [
      "25\n"
     ]
    }
   ],
   "source": [
    "tt = playlist[playlist['tags'].str.contains('트로트')]\n",
    "tt_count = len(tt)\n",
    "print(tt_count)"
   ]
  },
  {
   "cell_type": "code",
   "execution_count": 96,
   "id": "02d14ef8",
   "metadata": {
    "ExecuteTime": {
     "end_time": "2021-11-29T05:22:36.316799Z",
     "start_time": "2021-11-29T05:22:36.254765Z"
    }
   },
   "outputs": [
    {
     "name": "stdout",
     "output_type": "stream",
     "text": [
      "2041\n"
     ]
    }
   ],
   "source": [
    "h = playlist[playlist['tags'].str.contains('힙합')]\n",
    "h_count = len(h)\n",
    "print(h_count)"
   ]
  },
  {
   "cell_type": "code",
   "execution_count": 98,
   "id": "672da731",
   "metadata": {
    "ExecuteTime": {
     "end_time": "2021-11-29T05:25:33.130907Z",
     "start_time": "2021-11-29T05:25:33.110838Z"
    }
   },
   "outputs": [],
   "source": [
    "dist = pd.DataFrame({'힙합':[2041],'일렉트로닉':[729],'드라마':[371],'댄스':[730],'발라드':[6615], '알앤비':[1984],'어쿠스틱':[1015],'인디':[9450]},index=['count']).T\n",
    "\n",
    "\n"
   ]
  },
  {
   "cell_type": "code",
   "execution_count": 65,
   "id": "a6e06169",
   "metadata": {
    "ExecuteTime": {
     "end_time": "2021-11-29T04:32:49.046692Z",
     "start_time": "2021-11-29T04:32:49.036598Z"
    }
   },
   "outputs": [],
   "source": [
    "colors = ['#8fd9b6','#ff9999','#ffc000','#c2c2f0']"
   ]
  },
  {
   "cell_type": "code",
   "execution_count": 109,
   "id": "09bef6f9",
   "metadata": {
    "ExecuteTime": {
     "end_time": "2021-11-29T05:27:56.171709Z",
     "start_time": "2021-11-29T05:27:56.158712Z"
    }
   },
   "outputs": [],
   "source": [
    "colors = [ '#ff9999','#ffc000','#fef98b','#e7ffba',\n",
    "          '#baffd3','#bae7ff','#f5baff','#c2c2f0']\n"
   ]
  },
  {
   "cell_type": "code",
   "execution_count": 83,
   "id": "0a70bff7",
   "metadata": {
    "ExecuteTime": {
     "end_time": "2021-11-29T04:57:38.102454Z",
     "start_time": "2021-11-29T04:57:38.096457Z"
    }
   },
   "outputs": [],
   "source": [
    "wedgeprops={'width': 0.75, 'edgecolor': 'w', 'linewidth': 5}"
   ]
  },
  {
   "cell_type": "code",
   "execution_count": 110,
   "id": "6c42a937",
   "metadata": {
    "ExecuteTime": {
     "end_time": "2021-11-29T05:27:58.311051Z",
     "start_time": "2021-11-29T05:27:57.938057Z"
    }
   },
   "outputs": [
    {
     "data": {
      "text/plain": [
       "Text(0.5, 1.0, 'genre')"
      ]
     },
     "execution_count": 110,
     "metadata": {},
     "output_type": "execute_result"
    },
    {
     "data": {
      "image/png": "[encoded data removed]",
      "text/plain": [
       "<Figure size 576x576 with 1 Axes>"
      ]
     },
     "metadata": {},
     "output_type": "display_data"
    }
   ],
   "source": [
    "plot = dist.plot.pie(y='count',figsize=(8,8),fontsize=13, explode = (0,0,0.3,0,0,0,0,0),autopct='%1.1f%%',colors=colors,wedgeprops=wedgeprops)\n",
    "plt.legend(loc=3) # lower left\n",
    "plt.title('genre')"
   ]
  },
  {
   "cell_type": "code",
   "execution_count": null,
   "id": "686a9768",
   "metadata": {},
   "outputs": [],
   "source": []
  }
 ],
 "metadata": {
  "hide_input": false,
  "kernelspec": {
   "display_name": "Python 3",
   "language": "python",
   "name": "python3"
  },
  "language_info": {
   "codemirror_mode": {
    "name": "ipython",
    "version": 3
   },
   "file_extension": ".py",
   "mimetype": "text/x-python",
   "name": "python",
   "nbconvert_exporter": "python",
   "pygments_lexer": "ipython3",
   "version": "3.8.8"
  },
  "toc": {
   "base_numbering": 1,
   "nav_menu": {},
   "number_sections": true,
   "sideBar": true,
   "skip_h1_title": false,
   "title_cell": "Table of Contents",
   "title_sidebar": "Contents",
   "toc_cell": false,
   "toc_position": {},
   "toc_section_display": true,
   "toc_window_display": false
  },
  "varInspector": {
   "cols": {
    "lenName": 16,
    "lenType": 16,
    "lenVar": 40
   },
   "kernels_config": {
    "python": {
     "delete_cmd_postfix": "",
     "delete_cmd_prefix": "del ",
     "library": "var_list.py",
     "varRefreshCmd": "print(var_dic_list())"
    },
    "r": {
     "delete_cmd_postfix": ") ",
     "delete_cmd_prefix": "rm(",
     "library": "var_list.r",
     "varRefreshCmd": "cat(var_dic_list()) "
    }
   },
   "types_to_exclude": [
    "module",
    "function",
    "builtin_function_or_method",
    "instance",
    "_Feature"
   ],
   "window_display": false
  }
 },
 "nbformat": 4,
 "nbformat_minor": 5
}
