{
 "cells": [
  {
   "cell_type": "code",
   "execution_count": 1,
   "id": "dfc6129f",
   "metadata": {
    "ExecuteTime": {
     "end_time": "2021-11-29T03:59:44.248590Z",
     "start_time": "2021-11-29T03:59:27.745998Z"
    }
   },
   "outputs": [],
   "source": [
    "import re\n",
    "import requests\n",
    "from bs4 import BeautifulSoup\n",
    "import pandas as pd\n",
    "from konlpy.tag import Okt  \n",
    "okt = Okt() \n",
    "import tensorflow as tf\n",
    "import numpy as np\n",
    "from collections import Counter\n",
    "\n",
    "from wordcloud import WordCloud\n",
    "import matplotlib.pyplot as plt\n",
    "\n",
    "\n",
    "import urllib.request\n",
    "from tqdm import tqdm\n",
    "from tensorflow.keras.preprocessing.text import Tokenizer\n",
    "from tensorflow.keras.preprocessing.sequence import pad_sequences\n",
    "from sklearn.model_selection import train_test_split\n",
    "from sklearn.feature_extraction.text import CountVectorizer"
   ]
  },
  {
   "cell_type": "code",
   "execution_count": 2,
   "id": "635d9341",
   "metadata": {
    "ExecuteTime": {
     "end_time": "2021-11-29T03:59:44.296626Z",
     "start_time": "2021-11-29T03:59:44.287597Z"
    }
   },
   "outputs": [],
   "source": [
    "import matplotlib.pyplot as plt \n",
    "from string import punctuation\n",
    "import warnings\n",
    "warnings.filterwarnings('ignore')"
   ]
  },
  {
   "cell_type": "code",
   "execution_count": 3,
   "id": "e6f09fc5",
   "metadata": {
    "ExecuteTime": {
     "end_time": "2021-11-29T03:59:44.647591Z",
     "start_time": "2021-11-29T03:59:44.336599Z"
    }
   },
   "outputs": [],
   "source": [
    "import seaborn as sns\n",
    "import matplotlib.font_manager as fm\n",
    "\n",
    "# jupyter notebook 내 그래프를 바로 그리기 위한 설정\n",
    "%matplotlib inline\n",
    "\n",
    "plt.rc('font', family='malgun gothic') # 그래프에서 한글 깨지는 현상 방지\n",
    "plt.rcParams['axes.unicode_minus']=False #음수 부호 깨짐 방지"
   ]
  },
  {
   "cell_type": "code",
   "execution_count": 139,
   "id": "f1ca8b2e",
   "metadata": {
    "ExecuteTime": {
     "end_time": "2021-11-29T06:59:24.732611Z",
     "start_time": "2021-11-29T06:59:23.739255Z"
    }
   },
   "outputs": [],
   "source": [
    "playlist = pd.read_csv('./z_save/total_playlist.csv')"
   ]
  },
  {
   "cell_type": "markdown",
   "id": "fd20be55",
   "metadata": {},
   "source": [
    "## 전처리"
   ]
  },
  {
   "cell_type": "code",
   "execution_count": 140,
   "id": "5a07da1b",
   "metadata": {
    "ExecuteTime": {
     "end_time": "2021-11-29T06:59:28.079742Z",
     "start_time": "2021-11-29T06:59:26.315706Z"
    }
   },
   "outputs": [
    {
     "name": "stdout",
     "output_type": "stream",
     "text": [
      "song_id          0\n",
      "song_name        0\n",
      "artist           0\n",
      "album            1\n",
      "Like_Count       9\n",
      "Lyric         1122\n",
      "cover_url       21\n",
      "tags            21\n",
      "dtype: int64\n",
      "전처리 후 데이터의 개수 : 26793\n"
     ]
    }
   ],
   "source": [
    "playlist['Lyric'] = playlist['Lyric'].str.replace(\"[^ㄱ-ㅎㅏ-ㅣ가-힣 ]\",\"\")\n",
    "# 한글과 공백을 제외하고 모두 제거\n",
    "playlist[:5]\n",
    "playlist['Lyric'] = playlist['Lyric'].str.replace('^ +', \"\") # white space 데이터를 empty value로 변경\n",
    "playlist['Lyric'].replace('', np.nan, inplace=True)\n",
    "print(playlist.isnull().sum())\n",
    "playlist = playlist.dropna(how = 'any')\n",
    "playlist.reset_index(drop=True)\n",
    "print('전처리 후 데이터의 개수 :',len(playlist))"
   ]
  },
  {
   "cell_type": "code",
   "execution_count": 141,
   "id": "4bc27e20",
   "metadata": {
    "ExecuteTime": {
     "end_time": "2021-11-29T06:59:28.970705Z",
     "start_time": "2021-11-29T06:59:28.914702Z"
    }
   },
   "outputs": [
    {
     "name": "stdout",
     "output_type": "stream",
     "text": [
      "<class 'pandas.core.frame.DataFrame'>\n",
      "Int64Index: 26793 entries, 0 to 27926\n",
      "Data columns (total 8 columns):\n",
      " #   Column      Non-Null Count  Dtype \n",
      "---  ------      --------------  ----- \n",
      " 0   song_id     26793 non-null  int64 \n",
      " 1   song_name   26793 non-null  object\n",
      " 2   artist      26793 non-null  object\n",
      " 3   album       26793 non-null  object\n",
      " 4   Like_Count  26793 non-null  object\n",
      " 5   Lyric       26793 non-null  object\n",
      " 6   cover_url   26793 non-null  object\n",
      " 7   tags        26793 non-null  object\n",
      "dtypes: int64(1), object(7)\n",
      "memory usage: 1.8+ MB\n"
     ]
    }
   ],
   "source": [
    "playlist.info()"
   ]
  },
  {
   "cell_type": "markdown",
   "id": "97a6a151",
   "metadata": {},
   "source": [
    "---"
   ]
  },
  {
   "cell_type": "markdown",
   "id": "8cecd9f3",
   "metadata": {},
   "source": [
    "## SentencePiece"
   ]
  },
  {
   "cell_type": "markdown",
   "id": "67655c3b",
   "metadata": {},
   "source": [
    "> https://inhyeokyoo.github.io/nlp/Sentencepiece/#sentencepiece"
   ]
  },
  {
   "cell_type": "code",
   "execution_count": 191,
   "id": "05171e40",
   "metadata": {
    "ExecuteTime": {
     "end_time": "2021-11-29T08:59:51.704150Z",
     "start_time": "2021-11-29T08:59:51.700144Z"
    }
   },
   "outputs": [],
   "source": [
    "import os\n",
    "import gzip\n",
    "import pandas as pd\n",
    "import sentencepiece as spm\n",
    "import shutil\n",
    "import csv"
   ]
  },
  {
   "cell_type": "markdown",
   "id": "f13ae1d1",
   "metadata": {
    "ExecuteTime": {
     "end_time": "2021-11-29T09:04:55.397435Z",
     "start_time": "2021-11-29T09:04:55.383404Z"
    }
   },
   "source": [
    "학습에 필요한 parameter"
   ]
  },
  {
   "cell_type": "markdown",
   "id": "e201e645",
   "metadata": {},
   "source": [
    "spm_train --input=<input> --model_prefix=<model_name> --vocab_size=8000 --character_coverage=1.0 --model_type=<type>"
   ]
  },
  {
   "cell_type": "code",
   "execution_count": null,
   "id": "bbfb2d6f",
   "metadata": {},
   "outputs": [],
   "source": [
    "corpus = \"lyric.txt\"\n",
    "prefix = \"lyric\"\n",
    "vocab_size = 8000\n",
    "spm.SentencePieceTrainer.train(\n",
    "    f\"--input={corpus} --model_prefix={prefix} --vocab_size={vocab_size + 7}\" + \n",
    "    \" --model_type=bpe\" +\n",
    "    \" --max_sentence_length=999999\" + # 문장 최대 길이\n",
    "    \" --pad_id=0 --pad_piece=[PAD]\" + # pad (0)\n",
    "    \" --unk_id=1 --unk_piece=[UNK]\" + # unknown (1)\n",
    "    \" --bos_id=2 --bos_piece=[BOS]\" + # begin of sequence (2)\n",
    "    \" --eos_id=3 --eos_piece=[EOS]\" + # end of sequence (3)\n",
    "    \" --user_defined_symbols=[SEP],[CLS],[MASK]\") # 사용자 정의"
   ]
  },
  {
   "cell_type": "markdown",
   "id": "af6ad7ed",
   "metadata": {},
   "source": [
    "> https://paul-hyun.github.io/vocab-with-sentencepiece/ <br>\n",
    "https://github.com/paul-hyun/transformer-evolution/blob/master/tutorial/vocab_with_sentencepiece.ipynb <br>\n",
    "https://paul-hyun.github.io/nlp-tutorial-02-02-tokenizer/"
   ]
  },
  {
   "cell_type": "markdown",
   "id": "21f0dd81",
   "metadata": {},
   "source": [
    "* input: 입력 corpus\n",
    "* prefix: 저장할 모델 이름\n",
    "* vocab_size: vocab 개수 (기본 8,000에 스페셜 토큰 7개를 더해서 8,007개)\n",
    "* max_sentence_length: 문장의 최대 길이\n",
    "* pad_id, pad_piece: pad token id, 값\n",
    "* unk_id, unk_piece: unknown token id, 값\n",
    "* bos_id, bos_piece: begin of sentence token id, 값\n",
    "* eos_id, eos_piece: end of sequence token id, 값\n",
    "* user_defined_symbols: 사용자 정의 토큰"
   ]
  },
  {
   "cell_type": "markdown",
   "id": "11218e44",
   "metadata": {},
   "source": [
    "* --input: 한 라인 당 한 문장을 갖는 corpus로 raw file. Tokenizer, normalizer, preprocessor를 실행할 필요가 없음. default로 Unicode NFKC로 normalize 함. comma-separated로 파일 리스트를 넣을 수 있음.\n",
    "* --model_prefix: 모델 이름에 붙는 prefix. <model_name>.model와 <model_name>.vocab가 생성.\n",
    "* --vocab_size: vocabulary size, e.g., 8000, 16000, or 32000\n",
    "* --character_coverage: 모델에 의해 cover할 character의 양. 일어나 중어 같은 rich character set은 0.9995가 좋은 결과를 내고, 그 외 character set이 작은 언어는 1.0이 좋음.\n",
    "* --model_type: 모델 타입. unigram (default), bpe, char, or word 중 선택. word을 선택할 경우 반드시 pretokenized 되야 함.\n",
    "\n",
    "\n",
    "templates에다가 parameter를 입력"
   ]
  },
  {
   "cell_type": "code",
   "execution_count": 185,
   "id": "8f3b6fbb",
   "metadata": {
    "ExecuteTime": {
     "end_time": "2021-11-29T08:57:32.780233Z",
     "start_time": "2021-11-29T08:57:32.620232Z"
    }
   },
   "outputs": [],
   "source": [
    "templates= '--input={} \\\n",
    "--pad_id={} \\\n",
    "--bos_id={} \\\n",
    "--eos_id={} \\\n",
    "--unk_id={} \\\n",
    "--model_prefix={} \\\n",
    "--vocab_size={} \\\n",
    "--character_coverage={} \\\n",
    "--model_type={}'"
   ]
  },
  {
   "cell_type": "code",
   "execution_count": 187,
   "id": "33728f56",
   "metadata": {
    "ExecuteTime": {
     "end_time": "2021-11-29T08:57:51.678449Z",
     "start_time": "2021-11-29T08:57:51.665451Z"
    }
   },
   "outputs": [],
   "source": [
    "lyric = playlist['Lyric']"
   ]
  },
  {
   "cell_type": "code",
   "execution_count": 193,
   "id": "3fbfeeb9",
   "metadata": {
    "ExecuteTime": {
     "end_time": "2021-11-29T09:01:47.751985Z",
     "start_time": "2021-11-29T09:01:47.731992Z"
    }
   },
   "outputs": [
    {
     "data": {
      "text/plain": [
       "26793"
      ]
     },
     "execution_count": 193,
     "metadata": {},
     "output_type": "execute_result"
    }
   ],
   "source": [
    "len(lyric)"
   ]
  },
  {
   "cell_type": "code",
   "execution_count": 194,
   "id": "6a29df2d",
   "metadata": {
    "ExecuteTime": {
     "end_time": "2021-11-29T09:02:00.453062Z",
     "start_time": "2021-11-29T09:02:00.253064Z"
    }
   },
   "outputs": [],
   "source": [
    "# 26793개의 샘플을 sad_lyric.txt 파일에 저장한 후에 센텐스피스를 통해 단어 집합을 생성\n",
    "\n",
    "with open('lyric.txt', 'w', encoding='utf8') as f:\n",
    "    f.write('\\n'.join(playlist['Lyric']))"
   ]
  },
  {
   "cell_type": "code",
   "execution_count": 199,
   "id": "89b55250",
   "metadata": {
    "ExecuteTime": {
     "end_time": "2021-11-29T09:06:43.709020Z",
     "start_time": "2021-11-29T09:06:43.700018Z"
    }
   },
   "outputs": [],
   "source": [
    "train_input_file = 'lyric.txt'\n",
    "pad_id = 0  # <pad>\n",
    "vocab_size = 2000 # vocab size\n",
    "prefix = 'lyric_spm'\n",
    "bos_id = 1 # <start> token\n",
    "eos_id = 2 # <end> token\n",
    "unk_id = 3 # <unknown> token\n",
    "character_coverage = 1.0 # 보통 1\n",
    "model_type = 'unigram' # Choose from unigram (default), bpe, char, or word"
   ]
  },
  {
   "cell_type": "code",
   "execution_count": 200,
   "id": "71d03625",
   "metadata": {
    "ExecuteTime": {
     "end_time": "2021-11-29T09:06:53.437527Z",
     "start_time": "2021-11-29T09:06:53.413970Z"
    }
   },
   "outputs": [
    {
     "data": {
      "text/plain": [
       "'--input=lyric.txt --pad_id=0 --bos_id=1 --eos_id=2 --unk_id=3 --model_prefix=lyric_spm --vocab_size=2000 --character_coverage=1.0 --model_type=unigram'"
      ]
     },
     "execution_count": 200,
     "metadata": {},
     "output_type": "execute_result"
    }
   ],
   "source": [
    "cmd = templates.format(train_input_file,\n",
    "                pad_id,\n",
    "                bos_id,\n",
    "                eos_id,\n",
    "                unk_id,\n",
    "                prefix,\n",
    "                vocab_size,\n",
    "                character_coverage,\n",
    "                model_type)\n",
    "\n",
    "cmd        "
   ]
  },
  {
   "cell_type": "markdown",
   "id": "22a70337",
   "metadata": {},
   "source": [
    "SentencePieceTrainer의 Train 클래스를 통해 학습할 수가 있다. 이를 통해 생성되는 것은 model과 vocab이며, 앞서 model_prefix를 통해 이름을 지정한 그대로 나오게된다."
   ]
  },
  {
   "cell_type": "code",
   "execution_count": 201,
   "id": "155339b1",
   "metadata": {
    "ExecuteTime": {
     "end_time": "2021-11-29T09:07:27.426746Z",
     "start_time": "2021-11-29T09:07:09.337029Z"
    }
   },
   "outputs": [],
   "source": [
    "spm.SentencePieceTrainer.Train(cmd)\n",
    "\n",
    "# lyric_spm.model\n",
    "# lyric_spm.vocab"
   ]
  },
  {
   "cell_type": "code",
   "execution_count": 203,
   "id": "b677ce5e",
   "metadata": {
    "ExecuteTime": {
     "end_time": "2021-11-29T09:08:11.141844Z",
     "start_time": "2021-11-29T09:08:11.114843Z"
    }
   },
   "outputs": [
    {
     "data": {
      "text/plain": [
       "'거긴 날씨가 어때   나의 하늘과 밤엔   자꾸 떠오르는 기억이   계속 내게 말을 건네네     우리는 함께일 때   참 많이도 웃었네   지금 나는 무표정을 해  너가 없이 무슨 말을 해      도대체 왜   어떤 걸로도 대신할 수 없는  말로는 설명할 수 없는  무슨 기분일까   무슨 마음일까  내게 왜 그래   나는 왜 이래     보고싶어   너가 보고싶어서   내가 이래 나는 이래   보고싶어   이렇게 보고 싶으면   그건 사랑이래   이건 사랑이네    나는 매일 네 생각을 해   그걸 멈추는게 잘 안돼             이제 나는 네게 말을 해   나의 맘이 흘러 넘치게              '"
      ]
     },
     "execution_count": 203,
     "metadata": {},
     "output_type": "execute_result"
    }
   ],
   "source": [
    "lyric[0]"
   ]
  },
  {
   "cell_type": "code",
   "execution_count": 211,
   "id": "5da6b308",
   "metadata": {
    "ExecuteTime": {
     "end_time": "2021-11-29T09:41:54.067533Z",
     "start_time": "2021-11-29T09:41:54.035537Z"
    }
   },
   "outputs": [
    {
     "name": "stdout",
     "output_type": "stream",
     "text": [
      "['<s>', '▁나의', '▁하늘', '과', '▁밤', '엔', '▁자꾸', '▁', '떠', '오', '르', '는', '▁기억', '이', '▁', '계', '속', '▁내게', '▁말', '을', '▁건', '네', '네', '</s>']\n",
      "[1, 79, 224, 151, 87, 140, 272, 4, 721, 165, 201, 10, 169, 5, 4, 401, 400, 75, 28, 9, 102, 59, 59, 2]\n"
     ]
    }
   ],
   "source": [
    "sp = spm.SentencePieceProcessor()\n",
    "sp.Load('lyric_spm.model')\n",
    "\n",
    "sp.SetEncodeExtraOptions('bos:eos') # <s>, </s>를 자동으로 넣어줌\n",
    "\n",
    "text = '나의 하늘과 밤엔 자꾸 떠오르는 기억이 계속 내게 말을 건네네'\n",
    "\n",
    "# 문자열을 token으로 분할하는 함수 (encode_as_pieces)\n",
    "tokens = sp.EncodeAsPieces(text)\n",
    "print(tokens)\n",
    "\n",
    "# token을 숫자로 변환하는 함수 (piece_to_id)\n",
    "ids = sp.EncodeAsIds(text)\n",
    "print(ids)"
   ]
  },
  {
   "cell_type": "markdown",
   "id": "04c84f17",
   "metadata": {},
   "source": [
    "Detokenize는 DecodePieces와 DecodeIds를 통해 할 수 있다."
   ]
  },
  {
   "cell_type": "markdown",
   "id": "6af01876",
   "metadata": {},
   "source": [
    "token을 문자열로 복원하는 함수 (decode_pieces)"
   ]
  },
  {
   "cell_type": "code",
   "execution_count": 208,
   "id": "fd14b268",
   "metadata": {
    "ExecuteTime": {
     "end_time": "2021-11-29T09:40:11.623856Z",
     "start_time": "2021-11-29T09:40:11.607855Z"
    }
   },
   "outputs": [
    {
     "data": {
      "text/plain": [
       "'나의 하늘과 밤엔 자꾸 떠오르는 기억이 계속 내게 말을 건네네'"
      ]
     },
     "execution_count": 208,
     "metadata": {},
     "output_type": "execute_result"
    }
   ],
   "source": [
    "# token을 문자열로 복원\n",
    "sp.DecodePieces(tokens)\n"
   ]
  },
  {
   "cell_type": "markdown",
   "id": "8da4a3fc",
   "metadata": {},
   "source": [
    "문자열을 숫자로 분할하는 함수 (encode_as_ids)"
   ]
  },
  {
   "cell_type": "code",
   "execution_count": 209,
   "id": "31576e9c",
   "metadata": {
    "ExecuteTime": {
     "end_time": "2021-11-29T09:40:13.728756Z",
     "start_time": "2021-11-29T09:40:13.708728Z"
    }
   },
   "outputs": [
    {
     "data": {
      "text/plain": [
       "'나의 하늘과 밤엔 자꾸 떠오르는 기억이 계속 내게 말을 건네네'"
      ]
     },
     "execution_count": 209,
     "metadata": {},
     "output_type": "execute_result"
    }
   ],
   "source": [
    "sp.DecodeIds(ids)"
   ]
  },
  {
   "cell_type": "markdown",
   "id": "ef335947",
   "metadata": {},
   "source": [
    "## SentencePeice with Morph"
   ]
  },
  {
   "cell_type": "code",
   "execution_count": 219,
   "id": "b130a0f9",
   "metadata": {
    "ExecuteTime": {
     "end_time": "2021-11-29T09:51:56.520189Z",
     "start_time": "2021-11-29T09:51:56.505156Z"
    }
   },
   "outputs": [],
   "source": [
    "import zipfile\n",
    "import torch\n",
    "import argparse"
   ]
  },
  {
   "cell_type": "code",
   "execution_count": 215,
   "id": "98a1d78b",
   "metadata": {
    "ExecuteTime": {
     "end_time": "2021-11-29T09:51:19.112409Z",
     "start_time": "2021-11-29T09:51:19.095410Z"
    }
   },
   "outputs": [],
   "source": [
    "lyric_file = 'lyric.txt'"
   ]
  },
  {
   "cell_type": "code",
   "execution_count": 220,
   "id": "e5f48f76",
   "metadata": {
    "ExecuteTime": {
     "end_time": "2021-11-29T09:51:58.655584Z",
     "start_time": "2021-11-29T09:51:58.637578Z"
    }
   },
   "outputs": [
    {
     "name": "stdout",
     "output_type": "stream",
     "text": [
      "Namespace(corpus='lyric.txt', device=device(type='cpu'), seed=1234)\n"
     ]
    }
   ],
   "source": [
    "# 환경 설정\n",
    "args = {\n",
    "    # random seed value\n",
    "    \"seed\": 1234,\n",
    "    # CPU 또는 GPU 사용여부 결정\n",
    "    \"device\": torch.device(\"cuda\" if torch.cuda.is_available() else \"cpu\"),\n",
    "    # 말뭉치 파일\n",
    "    \"corpus\": lyric_file,\n",
    "}\n",
    "args = argparse.Namespace(**args)\n",
    "\n",
    "print(args)"
   ]
  },
  {
   "cell_type": "code",
   "execution_count": 226,
   "id": "b5beeb83",
   "metadata": {
    "ExecuteTime": {
     "end_time": "2021-11-29T10:15:37.401303Z",
     "start_time": "2021-11-29T09:59:55.982160Z"
    }
   },
   "outputs": [],
   "source": [
    "# morph 단위로 분할된 말뭉치 생성\n",
    "with open(\"lyric-okt.txt\", \"w\") as o_f:\n",
    "    # with zipfile.ZipFile(args.corpus) as z:\n",
    "    with open('lyric.txt',encoding='UTF8') as f:\n",
    "        for i, line in enumerate(f):\n",
    "            line = line.strip()\n",
    "            tokens = okt.morphs(line)\n",
    "            string = \" \".join(tokens)\n",
    "            o_f.write(string)\n",
    "            o_f.write(\"\\n\")"
   ]
  },
  {
   "cell_type": "markdown",
   "id": "54f1098d",
   "metadata": {},
   "source": [
    "## Error\n",
    "UnicodeDecodeError: 'cp949' codec can't decode byte 0xeb in position 7\n",
    "*  with open('lyric.txt',encoding='UTF8') as f:"
   ]
  },
  {
   "cell_type": "markdown",
   "id": "de1a8429",
   "metadata": {
    "ExecuteTime": {
     "end_time": "2021-11-29T09:59:17.178801Z",
     "start_time": "2021-11-29T09:59:17.172796Z"
    }
   },
   "source": [
    "## Error\n",
    "AttributeError: 'str' object has no attribute 'decode'\n",
    "> https://stackoverflow.com/questions/28583565/str-object-has-no-attribute-decode-python-3-error"
   ]
  },
  {
   "cell_type": "code",
   "execution_count": 233,
   "id": "fc47f331",
   "metadata": {
    "ExecuteTime": {
     "end_time": "2021-11-29T10:40:49.425652Z",
     "start_time": "2021-11-29T10:40:49.410651Z"
    }
   },
   "outputs": [],
   "source": [
    "def train_sentencepiece(corpus, prefix, vocab_size=1700):\n",
    "    \"\"\"\n",
    "    sentencepiece를 이용해 vocab 학습\n",
    "    :param corpus: 학습할 말뭉치\n",
    "    :param prefix: 저장할 vocab 이름\n",
    "    :param vocab_size: vocab 개수\n",
    "    \"\"\"\n",
    "    spm.SentencePieceTrainer.train(\n",
    "        f\"--input={corpus} --model_prefix={prefix} --vocab_size={vocab_size + 7}\" +  # 7은 특수문자 개수\n",
    "        \" --model_type=unigram\" +\n",
    "        \" --max_sentence_length=999999\" +  # 문장 최대 길이\n",
    "        \" --pad_id=0 --pad_piece=[PAD]\" +  # pad token 및 id 지정\n",
    "        \" --unk_id=1 --unk_piece=[UNK]\" +  # unknown token 및 id 지정\n",
    "        \" --bos_id=2 --bos_piece=[BOS]\" +  # begin of sequence token 및 id 지정\n",
    "        \" --eos_id=3 --eos_piece=[EOS]\" +  # end of sequence token 및 id 지정\n",
    "        \" --user_defined_symbols=[SEP],[CLS],[MASK]\" +  # 기타 추가 토큰 SEP: 4, CLS: 5, MASK: 6\n",
    "        \" --input_sentence_size=100000\" +  # 말뭉치에서 셈플링해서 학습\n",
    "        \" --shuffle_input_sentence=true\")  # 셈플링한 말뭉치 shuffle\n"
   ]
  },
  {
   "cell_type": "code",
   "execution_count": 234,
   "id": "68318488",
   "metadata": {
    "ExecuteTime": {
     "end_time": "2021-11-29T10:41:13.021839Z",
     "start_time": "2021-11-29T10:40:55.357629Z"
    },
    "scrolled": true
   },
   "outputs": [],
   "source": [
    "# morph vocab 학습\n",
    "train_sentencepiece(\"lyric-okt.txt\", \"lyric_okt_32000\")"
   ]
  },
  {
   "cell_type": "markdown",
   "id": "30895b22",
   "metadata": {
    "ExecuteTime": {
     "end_time": "2021-11-29T10:39:33.782052Z",
     "start_time": "2021-11-29T10:39:33.763021Z"
    }
   },
   "source": [
    "## Error\n",
    "RuntimeError: Internal: C:\\projects\\sentencepiece\\src\\trainer_interface.cc(590)\n",
    "Vocabulary size too high (32007). Please set it to a value <= `1800.`\n",
    "> https://blog.naver.com/yse00800/221972711068"
   ]
  },
  {
   "cell_type": "code",
   "execution_count": 248,
   "id": "6b49ef89",
   "metadata": {
    "ExecuteTime": {
     "end_time": "2021-11-29T10:51:45.547685Z",
     "start_time": "2021-11-29T10:51:45.508686Z"
    }
   },
   "outputs": [
    {
     "ename": "FileNotFoundError",
     "evalue": "[Errno 2] No such file or directory: ''",
     "output_type": "error",
     "traceback": [
      "\u001b[1;31m---------------------------------------------------------------------------\u001b[0m",
      "\u001b[1;31mFileNotFoundError\u001b[0m                         Traceback (most recent call last)",
      "\u001b[1;32m<ipython-input-248-ce20baa7f092>\u001b[0m in \u001b[0;36m<module>\u001b[1;34m\u001b[0m\n\u001b[0;32m      1\u001b[0m \u001b[1;31m# 생성파일 백업\u001b[0m\u001b[1;33m\u001b[0m\u001b[1;33m\u001b[0m\u001b[1;33m\u001b[0m\u001b[0m\n\u001b[0;32m      2\u001b[0m \u001b[0mcorpus_dir\u001b[0m \u001b[1;33m=\u001b[0m \u001b[0mos\u001b[0m\u001b[1;33m.\u001b[0m\u001b[0mpath\u001b[0m\u001b[1;33m.\u001b[0m\u001b[0mdirname\u001b[0m\u001b[1;33m(\u001b[0m\u001b[0margs\u001b[0m\u001b[1;33m.\u001b[0m\u001b[0mcorpus\u001b[0m\u001b[1;33m)\u001b[0m\u001b[1;33m\u001b[0m\u001b[1;33m\u001b[0m\u001b[0m\n\u001b[1;32m----> 3\u001b[1;33m \u001b[0mshutil\u001b[0m\u001b[1;33m.\u001b[0m\u001b[0mcopy\u001b[0m\u001b[1;33m(\u001b[0m\u001b[1;34m\"lyric_okt_32000.model\"\u001b[0m\u001b[1;33m,\u001b[0m \u001b[0mcorpus_dir\u001b[0m\u001b[1;33m)\u001b[0m\u001b[1;33m\u001b[0m\u001b[1;33m\u001b[0m\u001b[0m\n\u001b[0m\u001b[0;32m      4\u001b[0m \u001b[0mshutil\u001b[0m\u001b[1;33m.\u001b[0m\u001b[0mcopy\u001b[0m\u001b[1;33m(\u001b[0m\u001b[1;34m\"lyric_okt_32000.vocab\"\u001b[0m\u001b[1;33m,\u001b[0m \u001b[0mcorpus_dir\u001b[0m\u001b[1;33m)\u001b[0m\u001b[1;33m\u001b[0m\u001b[1;33m\u001b[0m\u001b[0m\n\u001b[0;32m      5\u001b[0m \u001b[1;33m\u001b[0m\u001b[0m\n",
      "\u001b[1;32mC:\\ProgramData\\Anaconda3\\lib\\shutil.py\u001b[0m in \u001b[0;36mcopy\u001b[1;34m(src, dst, follow_symlinks)\u001b[0m\n\u001b[0;32m    416\u001b[0m     \u001b[1;32mif\u001b[0m \u001b[0mos\u001b[0m\u001b[1;33m.\u001b[0m\u001b[0mpath\u001b[0m\u001b[1;33m.\u001b[0m\u001b[0misdir\u001b[0m\u001b[1;33m(\u001b[0m\u001b[0mdst\u001b[0m\u001b[1;33m)\u001b[0m\u001b[1;33m:\u001b[0m\u001b[1;33m\u001b[0m\u001b[1;33m\u001b[0m\u001b[0m\n\u001b[0;32m    417\u001b[0m         \u001b[0mdst\u001b[0m \u001b[1;33m=\u001b[0m \u001b[0mos\u001b[0m\u001b[1;33m.\u001b[0m\u001b[0mpath\u001b[0m\u001b[1;33m.\u001b[0m\u001b[0mjoin\u001b[0m\u001b[1;33m(\u001b[0m\u001b[0mdst\u001b[0m\u001b[1;33m,\u001b[0m \u001b[0mos\u001b[0m\u001b[1;33m.\u001b[0m\u001b[0mpath\u001b[0m\u001b[1;33m.\u001b[0m\u001b[0mbasename\u001b[0m\u001b[1;33m(\u001b[0m\u001b[0msrc\u001b[0m\u001b[1;33m)\u001b[0m\u001b[1;33m)\u001b[0m\u001b[1;33m\u001b[0m\u001b[1;33m\u001b[0m\u001b[0m\n\u001b[1;32m--> 418\u001b[1;33m     \u001b[0mcopyfile\u001b[0m\u001b[1;33m(\u001b[0m\u001b[0msrc\u001b[0m\u001b[1;33m,\u001b[0m \u001b[0mdst\u001b[0m\u001b[1;33m,\u001b[0m \u001b[0mfollow_symlinks\u001b[0m\u001b[1;33m=\u001b[0m\u001b[0mfollow_symlinks\u001b[0m\u001b[1;33m)\u001b[0m\u001b[1;33m\u001b[0m\u001b[1;33m\u001b[0m\u001b[0m\n\u001b[0m\u001b[0;32m    419\u001b[0m     \u001b[0mcopymode\u001b[0m\u001b[1;33m(\u001b[0m\u001b[0msrc\u001b[0m\u001b[1;33m,\u001b[0m \u001b[0mdst\u001b[0m\u001b[1;33m,\u001b[0m \u001b[0mfollow_symlinks\u001b[0m\u001b[1;33m=\u001b[0m\u001b[0mfollow_symlinks\u001b[0m\u001b[1;33m)\u001b[0m\u001b[1;33m\u001b[0m\u001b[1;33m\u001b[0m\u001b[0m\n\u001b[0;32m    420\u001b[0m     \u001b[1;32mreturn\u001b[0m \u001b[0mdst\u001b[0m\u001b[1;33m\u001b[0m\u001b[1;33m\u001b[0m\u001b[0m\n",
      "\u001b[1;32mC:\\ProgramData\\Anaconda3\\lib\\shutil.py\u001b[0m in \u001b[0;36mcopyfile\u001b[1;34m(src, dst, follow_symlinks)\u001b[0m\n\u001b[0;32m    262\u001b[0m         \u001b[0mos\u001b[0m\u001b[1;33m.\u001b[0m\u001b[0msymlink\u001b[0m\u001b[1;33m(\u001b[0m\u001b[0mos\u001b[0m\u001b[1;33m.\u001b[0m\u001b[0mreadlink\u001b[0m\u001b[1;33m(\u001b[0m\u001b[0msrc\u001b[0m\u001b[1;33m)\u001b[0m\u001b[1;33m,\u001b[0m \u001b[0mdst\u001b[0m\u001b[1;33m)\u001b[0m\u001b[1;33m\u001b[0m\u001b[1;33m\u001b[0m\u001b[0m\n\u001b[0;32m    263\u001b[0m     \u001b[1;32melse\u001b[0m\u001b[1;33m:\u001b[0m\u001b[1;33m\u001b[0m\u001b[1;33m\u001b[0m\u001b[0m\n\u001b[1;32m--> 264\u001b[1;33m         \u001b[1;32mwith\u001b[0m \u001b[0mopen\u001b[0m\u001b[1;33m(\u001b[0m\u001b[0msrc\u001b[0m\u001b[1;33m,\u001b[0m \u001b[1;34m'rb'\u001b[0m\u001b[1;33m)\u001b[0m \u001b[1;32mas\u001b[0m \u001b[0mfsrc\u001b[0m\u001b[1;33m,\u001b[0m \u001b[0mopen\u001b[0m\u001b[1;33m(\u001b[0m\u001b[0mdst\u001b[0m\u001b[1;33m,\u001b[0m \u001b[1;34m'wb'\u001b[0m\u001b[1;33m)\u001b[0m \u001b[1;32mas\u001b[0m \u001b[0mfdst\u001b[0m\u001b[1;33m:\u001b[0m\u001b[1;33m\u001b[0m\u001b[1;33m\u001b[0m\u001b[0m\n\u001b[0m\u001b[0;32m    265\u001b[0m             \u001b[1;31m# macOS\u001b[0m\u001b[1;33m\u001b[0m\u001b[1;33m\u001b[0m\u001b[1;33m\u001b[0m\u001b[0m\n\u001b[0;32m    266\u001b[0m             \u001b[1;32mif\u001b[0m \u001b[0m_HAS_FCOPYFILE\u001b[0m\u001b[1;33m:\u001b[0m\u001b[1;33m\u001b[0m\u001b[1;33m\u001b[0m\u001b[0m\n",
      "\u001b[1;31mFileNotFoundError\u001b[0m: [Errno 2] No such file or directory: ''"
     ]
    }
   ],
   "source": [
    "# 생성파일 백업\n",
    "corpus_dir = os.path.dirname(args.corpus)\n",
    "shutil.copy(\"lyric_okt_32000.model\", corpus_dir)\n",
    "shutil.copy(\"lyric_okt_32000.vocab\", corpus_dir)\n",
    "\n",
    "print(os.listdir(corpus_dir))"
   ]
  },
  {
   "cell_type": "markdown",
   "id": "d5eb1dc9",
   "metadata": {},
   "source": [
    "## Error\n",
    "* FileNotFoundError: [Errno 2] No such file or directory: ''\n",
    "* SameFileError: 'lyric_okt_32000.model' and '.\\\\lyric_okt_32000.model' are the same file"
   ]
  },
  {
   "cell_type": "code",
   "execution_count": 250,
   "id": "dd25a8bc",
   "metadata": {
    "ExecuteTime": {
     "end_time": "2021-11-29T11:00:00.996622Z",
     "start_time": "2021-11-29T11:00:00.975631Z"
    }
   },
   "outputs": [
    {
     "data": {
      "text/plain": [
       "True"
      ]
     },
     "execution_count": 250,
     "metadata": {},
     "output_type": "execute_result"
    }
   ],
   "source": [
    "# load morph vocab\n",
    "spm_morph_vocab = spm.SentencePieceProcessor()\n",
    "spm_morph_vocab.load(os.path.join(corpus_dir, \"lyric_okt_32000.model\"))"
   ]
  },
  {
   "cell_type": "code",
   "execution_count": 252,
   "id": "9f680bd4",
   "metadata": {
    "ExecuteTime": {
     "end_time": "2021-11-29T11:00:54.797500Z",
     "start_time": "2021-11-29T11:00:54.610460Z"
    },
    "scrolled": false
   },
   "outputs": [
    {
     "name": "stdout",
     "output_type": "stream",
     "text": [
      "거 긴 날씨 가 어때 나 의 하늘 과 밤 엔 자꾸 떠오르는 기억 이 계속 내게 말 을 건네네 우리 는 함께 일 때 참 많이 도 웃었네 지금 나 는 무표정 을 해 너 가 없이 무슨 말 을 해 도대체 왜 어떤 걸 로 도 대신 할 수 없는 말 로는 설명 할 수 없는 무슨 기분 일까 무슨 마음 일까 내게 왜 그래 나 는 왜 이래 보고싶어 너 가 보고싶어서 내 가 이래 나 는 이래 보고싶어 이렇게 보고 싶으면 그건 사랑 이래 이건 사랑 이네 나 는 매일 네 생각 을 해 그걸 멈추는게 잘 안 돼 이제 나 는 네 게 말 을 해 나 의 맘 이 흘러 넘치게\n",
      "거 긴 날씨 가 어때 나 의 하늘 과 밤 엔 자꾸 떠오르는 기억 이 계속 내게 말 을 건네네 우리 는 함께 일 때 참 많이 도 웃었네 지금 나 는 무표정 을 해 너 가 없이 무슨 말 을 해 도대체 왜 어떤 걸 로 도 대신 할 수 없는 말 로는 설명 할 수 없는 무슨 기분 일까 무슨 마음 일까 내게 왜 그래 나 는 왜 이래 보고싶어 너 가 보고싶어서 내 가 이래 나 는 이래 보고싶어 이렇게 보고 싶으면 그건 사랑 이래 이건 사랑 이네 나 는 매일 네 생각 을 해 그걸 멈추는게 잘 안 돼 이제 나 는 네 게 말 을 해 나 의 맘 이 흘러 넘치게\n",
      "['▁', '거', '▁', '긴', '▁', '날씨', '▁', '가', '▁', '어때', '▁', '나', '▁', '의', '▁', '하늘', '▁', '과', '▁', '밤', '▁', '엔', '▁', '자꾸', '▁', '떠오르는', '▁', '기', '억', '▁', '이', '▁', '계속', '▁', '내게', '▁', '말', '▁', '을', '▁', '건네네', '▁', '우리', '▁', '는', '▁', '함께', '▁', '일', '▁', '때', '▁', '참', '▁', '많이', '▁', '도', '▁', '웃었네', '▁', '지금', '▁', '나', '▁', '는', '▁', '무표정', '▁', '을', '▁', '해', '▁', '너', '▁', '가', '▁', '없이', '▁', '무슨', '▁', '말', '▁', '을', '▁', '해', '▁', '도대체', '▁', '왜', '▁', '어떤', '▁', '걸', '▁', '로', '▁', '도', '▁', '대신', '▁', '할', '▁', '수', '▁', '없는', '▁', '말', '▁', '로는', '▁', '설명', '▁', '할', '▁', '수', '▁', '없는', '▁', '무슨', '▁', '기', '분', '▁', '일까', '▁', '무슨', '▁', '마음', '▁', '일까', '▁', '내게', '▁', '왜', '▁', '그래', '▁', '나', '▁', '는', '▁', '왜', '▁', '이래', '▁', '보고싶어', '▁', '너', '▁', '가', '▁', '보고싶어서', '▁', '내', '▁', '가', '▁', '이래', '▁', '나', '▁', '는', '▁', '이래', '▁', '보고싶어', '▁', '이렇게', '▁', '보고', '▁', '싶으면', '▁', '그건', '▁', '사랑', '▁', '이래', '▁', '이건', '▁', '사랑', '▁', '이네', '▁', '나', '▁', '는', '▁', '매일', '▁', '네', '▁', '생각', '▁', '을', '▁', '해', '▁', '그걸', '▁', '멈추는게', '▁', '잘', '▁', '안', '▁', '돼', '▁', '이제', '▁', '나', '▁', '는', '▁', '네', '▁', '게', '▁', '말', '▁', '을', '▁', '해', '▁', '나', '▁', '의', '▁', '맘', '▁', '이', '▁', '흘러', '▁', '넘치게']\n",
      "[14, 1, 14, 1, 14, 1, 14, 1, 14, 1, 14, 1, 14, 1, 14, 1, 14, 1, 14, 1, 14, 1, 14, 1, 14, 1, 14, 635, 1, 14, 1, 14, 1, 14, 1, 14, 1, 14, 1, 14, 1, 14, 1, 14, 1, 14, 1, 14, 1, 14, 1, 14, 1, 14, 1, 14, 1, 14, 1, 14, 1, 14, 1, 14, 1, 14, 1, 14, 1, 14, 1, 14, 1, 14, 1, 14, 1, 14, 1, 14, 1, 14, 1, 14, 1, 14, 1, 14, 1, 14, 1, 14, 1, 14, 1, 14, 1, 14, 1, 14, 1, 14, 1, 14, 1, 14, 1, 14, 1, 14, 1, 14, 1, 14, 1, 14, 1, 14, 1, 14, 635, 1, 14, 1, 14, 1, 14, 1, 14, 1, 14, 1, 14, 1, 14, 1, 14, 1, 14, 1, 14, 1, 14, 1, 14, 1, 14, 1, 14, 1, 14, 1, 14, 1, 14, 1, 14, 1, 14, 1, 14, 1, 14, 1, 14, 1, 14, 1, 14, 1, 14, 1, 14, 1, 14, 1, 14, 1, 14, 1, 14, 1, 14, 1, 14, 1, 14, 1, 14, 1, 14, 1, 14, 1, 14, 1, 14, 1, 14, 1, 14, 1, 14, 1, 14, 1, 14, 1, 14, 1, 14, 1, 14, 1, 14, 1, 14, 1, 14, 1, 14, 1, 14, 1, 14, 1, 14, 1, 14, 1, 14, 1, 14, 1, 14, 1]\n",
      "겁 이 나 내게 아무 말 이나 들려줘 순전히 아름다 움 팍 튀고 팍 어쩔 수 없이 감추는 사랑 과 겁 순전히 아름다 움 구글링 으로 채운 머리 는 이미 추억 미래 는 사랑 과 겁 겁 이 나 아무 말 이나 들려줘 미래 는 사랑 과 겁 순전히 아름다 움 팍 튀고 팍 어쩔 수 없이 감추는 사랑 과 겁 순전히 아름다 움 구글링 으로 채운 머리 는 이미 추억 미래 는 사랑 과 겁\n",
      "겁 이 나 내게 아무 말 이나 들려줘 순전히 아름다 움 팍 튀고 팍 어쩔 수 없이 감추는 사랑 과 겁 순전히 아름다 움 구글링 으로 채운 머리 는 이미 추억 미래 는 사랑 과 겁 겁 이 나 아무 말 이나 들려줘 미래 는 사랑 과 겁 순전히 아름다 움 팍 튀고 팍 어쩔 수 없이 감추는 사랑 과 겁 순전히 아름다 움 구글링 으로 채운 머리 는 이미 추억 미래 는 사랑 과 겁\n",
      "['▁', '겁', '▁', '이', '▁', '나', '▁', '내게', '▁', '아무', '▁', '말', '▁', '이나', '▁', '들려줘', '▁', '순전히', '▁', '아름다', '▁', '움', '▁', '팍', '▁', '튀고', '▁', '팍', '▁', '어쩔', '▁', '수', '▁', '없이', '▁', '감추는', '▁', '사랑', '▁', '과', '▁', '겁', '▁', '순전히', '▁', '아름다', '▁', '움', '▁', '구글링', '▁', '으로', '▁', '채운', '▁', '머리', '▁', '는', '▁', '이미', '▁', '추억', '▁', '미래', '▁', '는', '▁', '사랑', '▁', '과', '▁', '겁', '▁', '겁', '▁', '이', '▁', '나', '▁', '아무', '▁', '말', '▁', '이나', '▁', '들려줘', '▁', '미래', '▁', '는', '▁', '사랑', '▁', '과', '▁', '겁', '▁', '순전히', '▁', '아름다', '▁', '움', '▁', '팍', '▁', '튀고', '▁', '팍', '▁', '어쩔', '▁', '수', '▁', '없이', '▁', '감추는', '▁', '사랑', '▁', '과', '▁', '겁', '▁', '순전히', '▁', '아름다', '▁', '움', '▁', '구글링', '▁', '으로', '▁', '채운', '▁', '머리', '▁', '는', '▁', '이미', '▁', '추억', '▁', '미래', '▁', '는', '▁', '사랑', '▁', '과', '▁', '겁']\n",
      "[14, 1, 14, 1, 14, 1, 14, 1, 14, 1, 14, 1, 14, 1, 14, 1, 14, 1, 14, 1, 14, 1, 14, 1, 14, 1, 14, 1, 14, 1, 14, 1, 14, 1, 14, 1, 14, 1, 14, 1, 14, 1, 14, 1, 14, 1, 14, 1, 14, 1, 14, 1, 14, 1, 14, 1, 14, 1, 14, 1, 14, 1, 14, 1, 14, 1, 14, 1, 14, 1, 14, 1, 14, 1, 14, 1, 14, 1, 14, 1, 14, 1, 14, 1, 14, 1, 14, 1, 14, 1, 14, 1, 14, 1, 14, 1, 14, 1, 14, 1, 14, 1, 14, 1, 14, 1, 14, 1, 14, 1, 14, 1, 14, 1, 14, 1, 14, 1, 14, 1, 14, 1, 14, 1, 14, 1, 14, 1, 14, 1, 14, 1, 14, 1, 14, 1, 14, 1, 14, 1, 14, 1, 14, 1, 14, 1, 14, 1, 14, 1, 14, 1]\n",
      "난 이 길이 다 어 두운 또 어 두운 좀 어 두운 난 가벼워 지는게 싫은데 네 얼굴 이 떠 올라 어떡해 참을 수가 없어서 네 감정 에 솔직해 넌 바다 같이 아름다운데 넌 감정 에 솔직해 그러면 너 와 나 는 행복해 내 가 너 를 사랑 하는 건 그냥 꽃처럼 사랑 하는 것 돈 만 보고 살아가는 건 그냥 꽃처럼 살아가는 것 이 라면 시라 면 시라 면\n",
      "난 이 길이 다 어 두운 또 어 두운 좀 어 두운 난 가벼워 지는게 싫은데 네 얼굴 이 떠 올라 어떡해 참을 수가 없어서 네 감정 에 솔직해 넌 바다 같이 아름다운데 넌 감정 에 솔직해 그러면 너 와 나 는 행복해 내 가 너 를 사랑 하는 건 그냥 꽃처럼 사랑 하는 것 돈 만 보고 살아가는 건 그냥 꽃처럼 살아가는 것 이 라면 시라 면 시라 면\n",
      "['▁', '난', '▁', '이', '▁', '길이', '▁', '다', '▁', '어', '▁', '두운', '▁', '또', '▁', '어', '▁', '두운', '▁', '좀', '▁', '어', '▁', '두운', '▁', '난', '▁', '가벼워', '▁', '지는게', '▁', '싫은데', '▁', '네', '▁', '얼굴', '▁', '이', '▁', '떠', '▁', '올라', '▁', '어떡해', '▁', '참을', '▁', '수가', '▁', '없어서', '▁', '네', '▁', '감정', '▁', '에', '▁', '솔직해', '▁', '넌', '▁', '바다', '▁', '같이', '▁', '아름다운데', '▁', '넌', '▁', '감정', '▁', '에', '▁', '솔직해', '▁', '그러면', '▁', '너', '▁', '와', '▁', '나', '▁', '는', '▁', '행복해', '▁', '내', '▁', '가', '▁', '너', '▁', '를', '▁', '사랑', '▁', '하는', '▁', '건', '▁', '그냥', '▁', '꽃처럼', '▁', '사랑', '▁', '하는', '▁', '것', '▁', '돈', '▁', '만', '▁', '보고', '▁', '살아가는', '▁', '건', '▁', '그냥', '▁', '꽃처럼', '▁', '살아가는', '▁', '것', '▁', '이', '▁', '라면', '▁', '시라', '▁', '면', '▁', '시라', '▁', '면']\n",
      "[14, 1, 14, 1, 14, 1, 14, 1, 14, 1, 14, 1, 14, 1, 14, 1, 14, 1, 14, 1, 14, 1, 14, 1, 14, 1, 14, 1, 14, 1, 14, 1, 14, 1, 14, 1, 14, 1, 14, 1, 14, 1, 14, 1, 14, 1, 14, 1, 14, 1, 14, 1, 14, 1, 14, 1, 14, 1, 14, 1, 14, 1, 14, 1, 14, 1, 14, 1, 14, 1, 14, 1, 14, 1, 14, 1, 14, 1, 14, 1, 14, 1, 14, 1, 14, 1, 14, 1, 14, 1, 14, 1, 14, 1, 14, 1, 14, 1, 14, 1, 14, 1, 14, 1, 14, 1, 14, 1, 14, 1, 14, 1, 14, 1, 14, 1, 14, 1, 14, 1, 14, 1, 14, 1, 14, 1, 14, 1, 14, 1, 14, 1, 14, 1, 14, 1, 14, 1, 14, 1]\n",
      "첨부 터 길 을 잃었던 아이 세상 과 마주 하기에 너무 어렸던 나이 너넨 모르겠지 에 웃는 내 모습 과 인터넷 속 글 만 죽어라 믿잖니 피부 가 까맣다며 아이 들 이 놀릴 때 타샤 의 검은 행복 이 나를 위로 했어 그때 부터 알 게 된 힙합 그래 내 유일한 진짜 친구 니까 눈 을 떴을 땐 내 가 가해자 로 변신 대중 이 무서워 걍 방 구석 에 숨은 병신 진실 을 말 해도 거짓 에 묻히는 현실 아 빤 하루 도 편히 주무시지 못 하셨지 감히 신 을 원망하고 넘겼던 모든 잘못 내 가 죽으면 알아줄까 했던 못 된 사고 악몽 에서 깨 몸 으로 부딪쳤어 파도 그래 자 어디 한번 끝 까지 가보자고 난 나를 믿어 다른 사람 들 이 뭐 래 도 이 게 나야 꿈 같던 일 들 을 모두 보내고 가까워진 꿈 대신 가혹했던 통행료 나를 알린 대신 지나가는 이 에게 침 까지 맞게 됐지 눈물 팔이 이 게 나 짜고 치는 절대 대본 없는 진실 이제 알 게 됐어 다 들 믿고 싶은 대로 내 말 따윈 귀 기울여주지 않는 세상 인 걸 다 들 모른 척 해 내 가 주저앉을 때 는 다 들 아는 척 해 혼자 일어섰을 때 는 엎친 데 겹 쳐 또 머리 에 사라진 내 가사 차가워진 관객 표정 내 입술 은 말라 바짝 잠깐 내 가 사랑 하는 사람 앞 에 주저앉긴 너무나도 싫어 포기 하고 싶어질 때 마다 나를 믿는 사람 들 의 응원 에 다시 일어나 뛰어 난 나를 믿어 다른 사람 들 이 뭐 래 도 이 게 나야\n",
      "첨부 터 길 을 잃었던 아이 세상 과 마주 하기에 너무 어렸던 나이 너넨 모르겠지 에 웃는 내 모습 과 인터넷 속 글 만 죽어라 믿잖니 피부 가 까맣다며 아이 들 이 놀릴 때 타샤 의 검은 행복 이 나를 위로 했어 그때 부터 알 게 된 힙합 그래 내 유일한 진짜 친구 니까 눈 을 떴을 땐 내 가 가해자 로 변신 대중 이 무서워 걍 방 구석 에 숨은 병신 진실 을 말 해도 거짓 에 묻히는 현실 아 빤 하루 도 편히 주무시지 못 하셨지 감히 신 을 원망하고 넘겼던 모든 잘못 내 가 죽으면 알아줄까 했던 못 된 사고 악몽 에서 깨 몸 으로 부딪쳤어 파도 그래 자 어디 한번 끝 까지 가보자고 난 나를 믿어 다른 사람 들 이 뭐 래 도 이 게 나야 꿈 같던 일 들 을 모두 보내고 가까워진 꿈 대신 가혹했던 통행료 나를 알린 대신 지나가는 이 에게 침 까지 맞게 됐지 눈물 팔이 이 게 나 짜고 치는 절대 대본 없는 진실 이제 알 게 됐어 다 들 믿고 싶은 대로 내 말 따윈 귀 기울여주지 않는 세상 인 걸 다 들 모른 척 해 내 가 주저앉을 때 는 다 들 아는 척 해 혼자 일어섰을 때 는 엎친 데 겹 쳐 또 머리 에 사라진 내 가사 차가워진 관객 표정 내 입술 은 말라 바짝 잠깐 내 가 사랑 하는 사람 앞 에 주저앉긴 너무나도 싫어 포기 하고 싶어질 때 마다 나를 믿는 사람 들 의 응원 에 다시 일어나 뛰어 난 나를 믿어 다른 사람 들 이 뭐 래 도 이 게 나야\n",
      "['▁', '첨부', '▁', '터', '▁', '길', '▁', '을', '▁', '잃었던', '▁', '아이', '▁', '세상', '▁', '과', '▁', '마주', '▁', '하', '기', '에', '▁', '너무', '▁', '어렸던', '▁', '나이', '▁', '너넨', '▁', '모르겠지', '▁', '에', '▁', '웃는', '▁', '내', '▁', '모습', '▁', '과', '▁', '인터넷', '▁', '속', '▁', '글', '▁', '만', '▁', '죽어라', '▁', '믿잖니', '▁', '피부', '▁', '가', '▁', '까맣다며', '▁', '아이', '▁', '들', '▁', '이', '▁', '놀릴', '▁', '때', '▁', '타샤', '▁', '의', '▁', '검은', '▁', '행복', '▁', '이', '▁', '나를', '▁', '위로', '▁', '했어', '▁', '그때', '▁', '부터', '▁', '알', '▁', '게', '▁', '된', '▁', '힙합', '▁', '그래', '▁', '내', '▁', '유일한', '▁', '진짜', '▁', '친구', '▁', '니까', '▁', '눈', '▁', '을', '▁', '떴을', '▁', '땐', '▁', '내', '▁', '가', '▁', '가해자', '▁', '로', '▁', '변신', '▁', '대중', '▁', '이', '▁', '무서워', '▁', '걍', '▁', '방', '▁', '구석', '▁', '에', '▁', '숨은', '▁', '병신', '▁', '진실', '▁', '을', '▁', '말', '▁', '해도', '▁', '거짓', '▁', '에', '▁', '묻히는', '▁', '현실', '▁', '아', '▁', '빤', '▁', '하루', '▁', '도', '▁', '편히', '▁', '주무시지', '▁', '못', '▁', '하셨지', '▁', '감히', '▁', '신', '▁', '을', '▁', '원망하고', '▁', '넘겼던', '▁', '모든', '▁', '잘못', '▁', '내', '▁', '가', '▁', '죽으면', '▁', '알아줄까', '▁', '했던', '▁', '못', '▁', '된', '▁', '사고', '▁', '악몽', '▁', '에서', '▁', '깨', '▁', '몸', '▁', '으로', '▁', '부딪쳤어', '▁', '파도', '▁', '그래', '▁', '자', '▁', '어디', '▁', '한번', '▁', '끝', '▁', '까지', '▁', '가보자고', '▁', '난', '▁', '나를', '▁', '믿어', '▁', '다른', '▁', '사람', '▁', '들', '▁', '이', '▁', '뭐', '▁', '래', '▁', '도', '▁', '이', '▁', '게', '▁', '나야', '▁', '꿈', '▁', '같던', '▁', '일', '▁', '들', '▁', '을', '▁', '모두', '▁', '보내고', '▁', '가까워진', '▁', '꿈', '▁', '대신', '▁', '가혹했던', '▁', '통행료', '▁', '나를', '▁', '알린', '▁', '대신', '▁', '지나가는', '▁', '이', '▁', '에게', '▁', '침', '▁', '까지', '▁', '맞게', '▁', '됐지', '▁', '눈물', '▁', '팔이', '▁', '이', '▁', '게', '▁', '나', '▁', '짜고', '▁', '치는', '▁', '절대', '▁', '대본', '▁', '없는', '▁', '진실', '▁', '이제', '▁', '알', '▁', '게', '▁', '됐어', '▁', '다', '▁', '들', '▁', '믿고', '▁', '싶은', '▁', '대로', '▁', '내', '▁', '말', '▁', '따윈', '▁', '귀', '▁', '기', '울여주지', '▁', '않는', '▁', '세상', '▁', '인', '▁', '걸', '▁', '다', '▁', '들', '▁', '모른', '▁', '척', '▁', '해', '▁', '내', '▁', '가', '▁', '주저앉을', '▁', '때', '▁', '는', '▁', '다', '▁', '들', '▁', '아는', '▁', '척', '▁', '해', '▁', '혼자', '▁', '일어섰을', '▁', '때', '▁', '는', '▁', '엎친', '▁', '데', '▁', '겹', '▁', '쳐', '▁', '또', '▁', '머리', '▁', '에', '▁', '사라진', '▁', '내', '▁', '가사', '▁', '차가워진', '▁', '관객', '▁', '표정', '▁', '내', '▁', '입술', '▁', '은', '▁', '말라', '▁', '바짝', '▁', '잠깐', '▁', '내', '▁', '가', '▁', '사랑', '▁', '하는', '▁', '사람', '▁', '앞', '▁', '에', '▁', '주저앉긴', '▁', '너무나도', '▁', '싫어', '▁', '포', '기', '▁', '하고', '▁', '싶어질', '▁', '때', '▁', '마다', '▁', '나를', '▁', '믿는', '▁', '사람', '▁', '들', '▁', '의', '▁', '응원', '▁', '에', '▁', '다시', '▁', '일어나', '▁', '뛰어', '▁', '난', '▁', '나를', '▁', '믿어', '▁', '다른', '▁', '사람', '▁', '들', '▁', '이', '▁', '뭐', '▁', '래', '▁', '도', '▁', '이', '▁', '게', '▁', '나야']\n",
      "[14, 1, 14, 1, 14, 1, 14, 1, 14, 1, 14, 1, 14, 1, 14, 1, 14, 1, 14, 1, 635, 1, 14, 1, 14, 1, 14, 1, 14, 1, 14, 1, 14, 1, 14, 1, 14, 1, 14, 1, 14, 1, 14, 1, 14, 1, 14, 1, 14, 1, 14, 1, 14, 1, 14, 1, 14, 1, 14, 1, 14, 1, 14, 1, 14, 1, 14, 1, 14, 1, 14, 1, 14, 1, 14, 1, 14, 1, 14, 1, 14, 1, 14, 1, 14, 1, 14, 1, 14, 1, 14, 1, 14, 1, 14, 1, 14, 1, 14, 1, 14, 1, 14, 1, 14, 1, 14, 1, 14, 1, 14, 1, 14, 1, 14, 1, 14, 1, 14, 1, 14, 1, 14, 1, 14, 1, 14, 1, 14, 1, 14, 1, 14, 1, 14, 1, 14, 1, 14, 1, 14, 1, 14, 1, 14, 1, 14, 1, 14, 1, 14, 1, 14, 1, 14, 1, 14, 1, 14, 1, 14, 1, 14, 1, 14, 1, 14, 1, 14, 1, 14, 1, 14, 1, 14, 1, 14, 1, 14, 1, 14, 1, 14, 1, 14, 1, 14, 1, 14, 1, 14, 1, 14, 1, 14, 1, 14, 1, 14, 1, 14, 1, 14, 1, 14, 1, 14, 1, 14, 1, 14, 1, 14, 1, 14, 1, 14, 1, 14, 1, 14, 1, 14, 1, 14, 1, 14, 1, 14, 1, 14, 1, 14, 1, 14, 1, 14, 1, 14, 1, 14, 1, 14, 1, 14, 1, 14, 1, 14, 1, 14, 1, 14, 1, 14, 1, 14, 1, 14, 1, 14, 1, 14, 1, 14, 1, 14, 1, 14, 1, 14, 1, 14, 1, 14, 1, 14, 1, 14, 1, 14, 1, 14, 1, 14, 1, 14, 1, 14, 1, 14, 1, 14, 1, 14, 1, 14, 1, 14, 1, 14, 1, 14, 1, 14, 1, 14, 1, 14, 1, 14, 1, 14, 1, 14, 1, 14, 1, 14, 1, 14, 1, 14, 1, 14, 1, 14, 1, 14, 1, 14, 1, 14, 1, 14, 1, 14, 1, 14, 1, 14, 1, 14, 1, 14, 1, 14, 1, 14, 1, 14, 1, 14, 1, 14, 635, 1, 14, 1, 14, 1, 14, 1, 14, 1, 14, 1, 14, 1, 14, 1, 14, 1, 14, 1, 14, 1, 14, 1, 14, 1, 14, 1, 14, 1, 14, 1, 14, 1, 14, 1, 14, 1, 14, 1, 14, 1, 14, 1, 14, 1, 14, 1, 14, 1, 14, 1, 14, 1, 14, 1, 14, 1, 14, 1, 14, 1, 14, 1, 14, 1, 14, 1, 14, 1, 14, 1, 14, 1, 14, 1, 14, 1, 14, 1, 14, 1, 14, 1, 14, 1, 14, 1, 14, 1, 14, 1, 14, 1, 14, 1, 14, 1, 14, 1, 14, 1, 14, 1, 14, 1, 14, 1, 635, 14, 1, 14, 1, 14, 1, 14, 1, 14, 1, 14, 1, 14, 1, 14, 1, 14, 1, 14, 1, 14, 1, 14, 1, 14, 1, 14, 1, 14, 1, 14, 1, 14, 1, 14, 1, 14, 1, 14, 1, 14, 1, 14, 1, 14, 1, 14, 1, 14, 1, 14, 1, 14, 1]\n",
      "내 하루 여기 가 어디 든 느껴 끝나지 않을 듯 혹시 내게 화났니 왜 그렇게 쳐다봐 난 단지 잘 지내 요즘 난 잘 지내 그 누구 부럽지 않게 날 비추어 주는 불빛 금 토일 밤 엔 밤 에 취해 나가지 몸 을 던지려 그 열기 에 또 비비러 혹시 나와 마주치면 괜히 아는 척 은 말어 난 너 의 누나 언니 보단 친구 가 좋아 걍 곧바로 흔들어 그럼 여긴 스테이지 가 되고 내일 되어 눈 뜨면 이 게 진짜 였나 싶다고 장담 해 의심 말고 날 따라와 난 가식 떠는 거 싫어해 넌 잘 알 지 이리 와 놀면서 지켜봐 쟤 네 의 거품 은 얼마나 갈지 걱정 마 이 분위기 가 얼마나 갈지 이 자린 또 값 이 얼마나 갈지 니 눈 에 가치 없어 보일지 모르지 이런 나 의 사치 넌 관심 없거나 갖고 싶거나 하고 싶은데 못 하는 거 내 가 한다고 욕 하면 건 니 속 에 화만 더 보태 는 거 차라리 니 가 이 리 로 가까이 오는 게 나을지도 그래놓고 넌 나 의 추락 을 바라겠지 내 하루 여기 가 어디 든 느껴 끝나지 않을 듯 혹시 내게 화났니 왜 그렇게 쳐다봐 난 단지 잘 지내 주위 에 많은 것 들 이 빠르게도 변해 방금 가득 차있던 잔 마저도 비었네 그 래서 인지 사람 들 은 내게 좀 더더 새로운 걸 바 래 정 붙일 틈 따윈 없지 날 붙잡지 마 난 또 가야 돼 내 가 준비 한 선물 에 포장 을 니 가 뜯을 때 그 어떤 순간 보다 내 가슴 은 설레고 들떠 인정 을 바라지 않아 그게 지금 뭐 가 중요해 이렇게 가만히 앉아서 반응 을 상상 만 해도 난 짜릿해 그러니 내 하루 는 파티 일 수 밖에 눈 뜨는 순간 부터 종일 방 에 처 박혀 널 놀라게 할 뭔갈 생각 해 도무지 멈출 길이 없어 계속 하는 수 밖에 난 기다림 에 보답 해 난 진짜 쉼 없이 달려왔어 언제 부터 많은 게 딸려 왔고 근데 오늘 은 잠깐 만 내려놓고 싶어 날 알지도 모르면서 끌어내리려 하는 이 들 에게 이 말 은 해야지 아직 은 때 가 아니라고 내 하루 여기 가 어디 든 느껴 끝나지 않을 듯 혹시 내게 화났니 왜 그렇게 쳐다봐 난 단지 잘 지내\n",
      "내 하루 여기 가 어디 든 느껴 끝나지 않을 듯 혹시 내게 화났니 왜 그렇게 쳐다봐 난 단지 잘 지내 요즘 난 잘 지내 그 누구 부럽지 않게 날 비추어 주는 불빛 금 토일 밤 엔 밤 에 취해 나가지 몸 을 던지려 그 열기 에 또 비비러 혹시 나와 마주치면 괜히 아는 척 은 말어 난 너 의 누나 언니 보단 친구 가 좋아 걍 곧바로 흔들어 그럼 여긴 스테이지 가 되고 내일 되어 눈 뜨면 이 게 진짜 였나 싶다고 장담 해 의심 말고 날 따라와 난 가식 떠는 거 싫어해 넌 잘 알 지 이리 와 놀면서 지켜봐 쟤 네 의 거품 은 얼마나 갈지 걱정 마 이 분위기 가 얼마나 갈지 이 자린 또 값 이 얼마나 갈지 니 눈 에 가치 없어 보일지 모르지 이런 나 의 사치 넌 관심 없거나 갖고 싶거나 하고 싶은데 못 하는 거 내 가 한다고 욕 하면 건 니 속 에 화만 더 보태 는 거 차라리 니 가 이 리 로 가까이 오는 게 나을지도 그래놓고 넌 나 의 추락 을 바라겠지 내 하루 여기 가 어디 든 느껴 끝나지 않을 듯 혹시 내게 화났니 왜 그렇게 쳐다봐 난 단지 잘 지내 주위 에 많은 것 들 이 빠르게도 변해 방금 가득 차있던 잔 마저도 비었네 그 래서 인지 사람 들 은 내게 좀 더더 새로운 걸 바 래 정 붙일 틈 따윈 없지 날 붙잡지 마 난 또 가야 돼 내 가 준비 한 선물 에 포장 을 니 가 뜯을 때 그 어떤 순간 보다 내 가슴 은 설레고 들떠 인정 을 바라지 않아 그게 지금 뭐 가 중요해 이렇게 가만히 앉아서 반응 을 상상 만 해도 난 짜릿해 그러니 내 하루 는 파티 일 수 밖에 눈 뜨는 순간 부터 종일 방 에 처 박혀 널 놀라게 할 뭔갈 생각 해 도무지 멈출 길이 없어 계속 하는 수 밖에 난 기다림 에 보답 해 난 진짜 쉼 없이 달려왔어 언제 부터 많은 게 딸려 왔고 근데 오늘 은 잠깐 만 내려놓고 싶어 날 알지도 모르면서 끌어내리려 하는 이 들 에게 이 말 은 해야지 아직 은 때 가 아니라고 내 하루 여기 가 어디 든 느껴 끝나지 않을 듯 혹시 내게 화났니 왜 그렇게 쳐다봐 난 단지 잘 지내\n",
      "['▁', '내', '▁', '하루', '▁', '여', '기', '▁', '가', '▁', '어디', '▁', '든', '▁', '느껴', '▁', '끝나지', '▁', '않을', '▁', '듯', '▁', '혹시', '▁', '내게', '▁', '화났니', '▁', '왜', '▁', '그렇게', '▁', '쳐다봐', '▁', '난', '▁', '단지', '▁', '잘', '▁', '지내', '▁', '요즘', '▁', '난', '▁', '잘', '▁', '지내', '▁', '그', '▁', '누구', '▁', '부럽지', '▁', '않게', '▁', '날', '▁', '비추어', '▁', '주는', '▁', '불빛', '▁', '금', '▁', '토일', '▁', '밤', '▁', '엔', '▁', '밤', '▁', '에', '▁', '취해', '▁', '나가지', '▁', '몸', '▁', '을', '▁', '던지려', '▁', '그', '▁', '열', '기', '▁', '에', '▁', '또', '▁', '비비러', '▁', '혹시', '▁', '나와', '▁', '마주치면', '▁', '괜히', '▁', '아는', '▁', '척', '▁', '은', '▁', '말어', '▁', '난', '▁', '너', '▁', '의', '▁', '누나', '▁', '언니', '▁', '보단', '▁', '친구', '▁', '가', '▁', '좋아', '▁', '걍', '▁', '곧바로', '▁', '흔들어', '▁', '그럼', '▁', '여긴', '▁', '스테이지', '▁', '가', '▁', '되고', '▁', '내일', '▁', '되어', '▁', '눈', '▁', '뜨면', '▁', '이', '▁', '게', '▁', '진짜', '▁', '였나', '▁', '싶다고', '▁', '장담', '▁', '해', '▁', '의심', '▁', '말고', '▁', '날', '▁', '따라와', '▁', '난', '▁', '가식', '▁', '떠는', '▁', '거', '▁', '싫어해', '▁', '넌', '▁', '잘', '▁', '알', '▁', '지', '▁', '이리', '▁', '와', '▁', '놀면서', '▁', '지켜봐', '▁', '쟤', '▁', '네', '▁', '의', '▁', '거품', '▁', '은', '▁', '얼마나', '▁', '갈지', '▁', '걱정', '▁', '마', '▁', '이', '▁', '분위', '기', '▁', '가', '▁', '얼마나', '▁', '갈지', '▁', '이', '▁', '자린', '▁', '또', '▁', '값', '▁', '이', '▁', '얼마나', '▁', '갈지', '▁', '니', '▁', '눈', '▁', '에', '▁', '가치', '▁', '없어', '▁', '보일지', '▁', '모르지', '▁', '이런', '▁', '나', '▁', '의', '▁', '사치', '▁', '넌', '▁', '관심', '▁', '없거나', '▁', '갖고', '▁', '싶거나', '▁', '하고', '▁', '싶은데', '▁', '못', '▁', '하는', '▁', '거', '▁', '내', '▁', '가', '▁', '한다고', '▁', '욕', '▁', '하면', '▁', '건', '▁', '니', '▁', '속', '▁', '에', '▁', '화만', '▁', '더', '▁', '보태', '▁', '는', '▁', '거', '▁', '차라리', '▁', '니', '▁', '가', '▁', '이', '▁', '리', '▁', '로', '▁', '가까이', '▁', '오는', '▁', '게', '▁', '나을지도', '▁', '그래놓고', '▁', '넌', '▁', '나', '▁', '의', '▁', '추락', '▁', '을', '▁', '바라겠지', '▁', '내', '▁', '하루', '▁', '여', '기', '▁', '가', '▁', '어디', '▁', '든', '▁', '느껴', '▁', '끝나지', '▁', '않을', '▁', '듯', '▁', '혹시', '▁', '내게', '▁', '화났니', '▁', '왜', '▁', '그렇게', '▁', '쳐다봐', '▁', '난', '▁', '단지', '▁', '잘', '▁', '지내', '▁', '주위', '▁', '에', '▁', '많은', '▁', '것', '▁', '들', '▁', '이', '▁', '빠르게도', '▁', '변해', '▁', '방금', '▁', '가득', '▁', '차있던', '▁', '잔', '▁', '마저도', '▁', '비었네', '▁', '그', '▁', '래서', '▁', '인지', '▁', '사람', '▁', '들', '▁', '은', '▁', '내게', '▁', '좀', '▁', '더더', '▁', '새로운', '▁', '걸', '▁', '바', '▁', '래', '▁', '정', '▁', '붙일', '▁', '틈', '▁', '따윈', '▁', '없지', '▁', '날', '▁', '붙잡지', '▁', '마', '▁', '난', '▁', '또', '▁', '가야', '▁', '돼', '▁', '내', '▁', '가', '▁', '준비', '▁', '한', '▁', '선물', '▁', '에', '▁', '포장', '▁', '을', '▁', '니', '▁', '가', '▁', '뜯을', '▁', '때', '▁', '그', '▁', '어떤', '▁', '순간', '▁', '보다', '▁', '내', '▁', '가슴', '▁', '은', '▁', '설레고', '▁', '들떠', '▁', '인정', '▁', '을', '▁', '바라지', '▁', '않아', '▁', '그게', '▁', '지금', '▁', '뭐', '▁', '가', '▁', '중요해', '▁', '이렇게', '▁', '가만히', '▁', '앉아서', '▁', '반응', '▁', '을', '▁', '상상', '▁', '만', '▁', '해도', '▁', '난', '▁', '짜릿해', '▁', '그러니', '▁', '내', '▁', '하루', '▁', '는', '▁', '파티', '▁', '일', '▁', '수', '▁', '밖에', '▁', '눈', '▁', '뜨는', '▁', '순간', '▁', '부터', '▁', '종일', '▁', '방', '▁', '에', '▁', '처', '▁', '박혀', '▁', '널', '▁', '놀라게', '▁', '할', '▁', '뭔갈', '▁', '생각', '▁', '해', '▁', '도무지', '▁', '멈출', '▁', '길이', '▁', '없어', '▁', '계속', '▁', '하는', '▁', '수', '▁', '밖에', '▁', '난', '▁', '기', '다림', '▁', '에', '▁', '보답', '▁', '해', '▁', '난', '▁', '진짜', '▁', '쉼', '▁', '없이', '▁', '달려왔어', '▁', '언제', '▁', '부터', '▁', '많은', '▁', '게', '▁', '딸려', '▁', '왔고', '▁', '근데', '▁', '오늘', '▁', '은', '▁', '잠깐', '▁', '만', '▁', '내려놓고', '▁', '싶어', '▁', '날', '▁', '알지도', '▁', '모르면서', '▁', '끌어내리려', '▁', '하는', '▁', '이', '▁', '들', '▁', '에게', '▁', '이', '▁', '말', '▁', '은', '▁', '해야지', '▁', '아직', '▁', '은', '▁', '때', '▁', '가', '▁', '아니라고', '▁', '내', '▁', '하루', '▁', '여', '기', '▁', '가', '▁', '어디', '▁', '든', '▁', '느껴', '▁', '끝나지', '▁', '않을', '▁', '듯', '▁', '혹시', '▁', '내게', '▁', '화났니', '▁', '왜', '▁', '그렇게', '▁', '쳐다봐', '▁', '난', '▁', '단지', '▁', '잘', '▁', '지내']\n",
      "[14, 1, 14, 1, 14, 1, 635, 14, 1, 14, 1, 14, 1, 14, 1, 14, 1, 14, 1, 14, 1, 14, 1, 14, 1, 14, 1, 14, 1, 14, 1, 14, 1, 14, 1, 14, 1, 14, 1, 14, 1, 14, 1, 14, 1, 14, 1, 14, 1, 14, 1, 14, 1, 14, 1, 14, 1, 14, 1, 14, 1, 14, 1, 14, 1, 14, 1, 14, 1, 14, 1, 14, 1, 14, 1, 14, 1, 14, 1, 14, 1, 14, 1, 14, 1, 14, 1, 14, 1, 14, 1, 635, 14, 1, 14, 1, 14, 1, 14, 1, 14, 1, 14, 1, 14, 1, 14, 1, 14, 1, 14, 1, 14, 1, 14, 1, 14, 1, 14, 1, 14, 1, 14, 1, 14, 1, 14, 1, 14, 1, 14, 1, 14, 1, 14, 1, 14, 1, 14, 1, 14, 1, 14, 1, 14, 1, 14, 1, 14, 1, 14, 1, 14, 1, 14, 1, 14, 1, 14, 1, 14, 1, 14, 1, 14, 1, 14, 1, 14, 1, 14, 1, 14, 1, 14, 1, 14, 1, 14, 1, 14, 1, 14, 1, 14, 1, 14, 1, 14, 1, 14, 1, 14, 1, 14, 1, 14, 1, 14, 1, 14, 1, 14, 1, 14, 1, 14, 1, 14, 1, 14, 1, 14, 1, 14, 1, 14, 1, 14, 1, 14, 1, 14, 1, 14, 1, 635, 14, 1, 14, 1, 14, 1, 14, 1, 14, 1, 14, 1, 14, 1, 14, 1, 14, 1, 14, 1, 14, 1, 14, 1, 14, 1, 14, 1, 14, 1, 14, 1, 14, 1, 14, 1, 14, 1, 14, 1, 14, 1, 14, 1, 14, 1, 14, 1, 14, 1, 14, 1, 14, 1, 14, 1, 14, 1, 14, 1, 14, 1, 14, 1, 14, 1, 14, 1, 14, 1, 14, 1, 14, 1, 14, 1, 14, 1, 14, 1, 14, 1, 14, 1, 14, 1, 14, 1, 14, 1, 14, 1, 14, 1, 14, 1, 14, 1, 14, 1, 14, 1, 14, 1, 14, 1, 14, 1, 14, 1, 14, 1, 14, 1, 14, 1, 14, 1, 14, 1, 14, 1, 14, 1, 14, 1, 14, 1, 14, 1, 635, 14, 1, 14, 1, 14, 1, 14, 1, 14, 1, 14, 1, 14, 1, 14, 1, 14, 1, 14, 1, 14, 1, 14, 1, 14, 1, 14, 1, 14, 1, 14, 1, 14, 1, 14, 1, 14, 1, 14, 1, 14, 1, 14, 1, 14, 1, 14, 1, 14, 1, 14, 1, 14, 1, 14, 1, 14, 1, 14, 1, 14, 1, 14, 1, 14, 1, 14, 1, 14, 1, 14, 1, 14, 1, 14, 1, 14, 1, 14, 1, 14, 1, 14, 1, 14, 1, 14, 1, 14, 1, 14, 1, 14, 1, 14, 1, 14, 1, 14, 1, 14, 1, 14, 1, 14, 1, 14, 1, 14, 1, 14, 1, 14, 1, 14, 1, 14, 1, 14, 1, 14, 1, 14, 1, 14, 1, 14, 1, 14, 1, 14, 1, 14, 1, 14, 1, 14, 1, 14, 1, 14, 1, 14, 1, 14, 1, 14, 1, 14, 1, 14, 1, 14, 1, 14, 1, 14, 1, 14, 1, 14, 1, 14, 1, 14, 1, 14, 1, 14, 1, 14, 1, 14, 1, 14, 1, 14, 1, 14, 1, 14, 1, 14, 1, 14, 1, 14, 1, 14, 1, 14, 1, 14, 1, 14, 1, 14, 1, 14, 1, 14, 1, 14, 1, 14, 1, 14, 1, 14, 1, 14, 1, 14, 1, 14, 1, 14, 1, 14, 1, 14, 1, 14, 1, 14, 1, 14, 1, 14, 1, 14, 1, 14, 1, 14, 1, 14, 1, 14, 1, 14, 1, 14, 1, 14, 1, 14, 1, 14, 1, 14, 1, 14, 1, 14, 1, 14, 635, 1, 14, 1, 14, 1, 14, 1, 14, 1, 14, 1, 14, 1, 14, 1, 14, 1, 14, 1, 14, 1, 14, 1, 14, 1, 14, 1, 14, 1, 14, 1, 14, 1, 14, 1, 14, 1, 14, 1, 14, 1, 14, 1, 14, 1, 14, 1, 14, 1, 14, 1, 14, 1, 14, 1, 14, 1, 14, 1, 14, 1, 14, 1, 14, 1, 14, 1, 14, 1, 14, 1, 14, 1, 14, 1, 14, 1, 14, 1, 14, 1, 14, 1, 635, 14, 1, 14, 1, 14, 1, 14, 1, 14, 1, 14, 1, 14, 1, 14, 1, 14, 1, 14, 1, 14, 1, 14, 1, 14, 1, 14, 1, 14, 1, 14, 1, 14, 1]\n"
     ]
    }
   ],
   "source": [
    "# wiki spm morph tokenize\n",
    "#with zipfile.ZipFile(args.corpus) as z:\n",
    "with open('lyric-okt.txt') as f:\n",
    "    for i, line in enumerate(f):\n",
    "        if i >= 5:\n",
    "            break\n",
    "        line = line.strip()\n",
    "        print(line)\n",
    "        string = \" \".join(okt.morphs(line))\n",
    "        print(string)\n",
    "        tokens = spm_morph_vocab.encode_as_pieces(string)\n",
    "        print(tokens)\n",
    "        _ids = spm_morph_vocab.encode_as_ids(string)\n",
    "        print(_ids)"
   ]
  }
 ],
 "metadata": {
  "hide_input": false,
  "kernelspec": {
   "display_name": "Python 3",
   "language": "python",
   "name": "python3"
  },
  "language_info": {
   "codemirror_mode": {
    "name": "ipython",
    "version": 3
   },
   "file_extension": ".py",
   "mimetype": "text/x-python",
   "name": "python",
   "nbconvert_exporter": "python",
   "pygments_lexer": "ipython3",
   "version": "3.8.8"
  },
  "toc": {
   "base_numbering": 1,
   "nav_menu": {},
   "number_sections": true,
   "sideBar": true,
   "skip_h1_title": false,
   "title_cell": "Table of Contents",
   "title_sidebar": "Contents",
   "toc_cell": false,
   "toc_position": {},
   "toc_section_display": true,
   "toc_window_display": false
  },
  "varInspector": {
   "cols": {
    "lenName": 16,
    "lenType": 16,
    "lenVar": 40
   },
   "kernels_config": {
    "python": {
     "delete_cmd_postfix": "",
     "delete_cmd_prefix": "del ",
     "library": "var_list.py",
     "varRefreshCmd": "print(var_dic_list())"
    },
    "r": {
     "delete_cmd_postfix": ") ",
     "delete_cmd_prefix": "rm(",
     "library": "var_list.r",
     "varRefreshCmd": "cat(var_dic_list()) "
    }
   },
   "types_to_exclude": [
    "module",
    "function",
    "builtin_function_or_method",
    "instance",
    "_Feature"
   ],
   "window_display": false
  }
 },
 "nbformat": 4,
 "nbformat_minor": 5
}
