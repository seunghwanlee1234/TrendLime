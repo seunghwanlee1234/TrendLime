{
 "cells": [
  {
   "cell_type": "code",
   "execution_count": 1,
   "id": "5a0cdf3b",
   "metadata": {
    "ExecuteTime": {
     "end_time": "2021-12-01T07:36:49.602847Z",
     "start_time": "2021-12-01T07:36:35.313421Z"
    }
   },
   "outputs": [],
   "source": [
    "import re\n",
    "import requests\n",
    "from bs4 import BeautifulSoup\n",
    "import pandas as pd\n",
    "from konlpy.tag import Okt  \n",
    "okt = Okt() \n",
    "import tensorflow as tf\n",
    "import numpy as np\n",
    "from collections import Counter\n",
    "\n",
    "from wordcloud import WordCloud\n",
    "import matplotlib.pyplot as plt\n",
    "\n",
    "\n",
    "import urllib.request\n",
    "from tqdm import tqdm\n",
    "from tensorflow.keras.preprocessing.text import Tokenizer\n",
    "from tensorflow.keras.preprocessing.sequence import pad_sequences\n",
    "from sklearn.model_selection import train_test_split\n",
    "from sklearn.feature_extraction.text import CountVectorizer"
   ]
  },
  {
   "cell_type": "code",
   "execution_count": 2,
   "id": "4784956c",
   "metadata": {
    "ExecuteTime": {
     "end_time": "2021-12-01T07:36:49.650896Z",
     "start_time": "2021-12-01T07:36:49.639847Z"
    }
   },
   "outputs": [],
   "source": [
    "import matplotlib.pyplot as plt \n",
    "from string import punctuation\n",
    "import warnings\n",
    "warnings.filterwarnings('ignore')"
   ]
  },
  {
   "cell_type": "code",
   "execution_count": 3,
   "id": "c7f8edfb",
   "metadata": {
    "ExecuteTime": {
     "end_time": "2021-12-01T07:36:49.920852Z",
     "start_time": "2021-12-01T07:36:49.688852Z"
    }
   },
   "outputs": [],
   "source": [
    "import seaborn as sns\n",
    "import matplotlib.font_manager as fm\n",
    "\n",
    "# jupyter notebook 내 그래프를 바로 그리기 위한 설정\n",
    "%matplotlib inline\n",
    "\n",
    "plt.rc('font', family='malgun gothic') # 그래프에서 한글 깨지는 현상 방지\n",
    "plt.rcParams['axes.unicode_minus']=False #음수 부호 깨짐 방지"
   ]
  },
  {
   "cell_type": "markdown",
   "id": "9e875e8e",
   "metadata": {},
   "source": [
    "---"
   ]
  },
  {
   "cell_type": "markdown",
   "id": "135b7d4f",
   "metadata": {},
   "source": [
    "## Like Count"
   ]
  },
  {
   "cell_type": "markdown",
   "id": "03e4e229",
   "metadata": {},
   "source": [
    "### 데이터 불러오기"
   ]
  },
  {
   "cell_type": "code",
   "execution_count": 4,
   "id": "383d38cd",
   "metadata": {
    "ExecuteTime": {
     "end_time": "2021-12-01T07:49:54.348421Z",
     "start_time": "2021-12-01T07:49:54.289419Z"
    }
   },
   "outputs": [
    {
     "name": "stdout",
     "output_type": "stream",
     "text": [
      "<class 'pandas.core.frame.DataFrame'>\n",
      "RangeIndex: 720 entries, 0 to 719\n",
      "Data columns (total 9 columns):\n",
      " #   Column      Non-Null Count  Dtype \n",
      "---  ------      --------------  ----- \n",
      " 0   song_id     720 non-null    int64 \n",
      " 1   song_name   720 non-null    object\n",
      " 2   artist      720 non-null    object\n",
      " 3   album       720 non-null    object\n",
      " 4   Like_Count  720 non-null    object\n",
      " 5   Lyric       657 non-null    object\n",
      " 6   cover_url   720 non-null    object\n",
      " 7   tags        720 non-null    object\n",
      " 8   year        720 non-null    object\n",
      "dtypes: int64(1), object(8)\n",
      "memory usage: 50.8+ KB\n"
     ]
    }
   ],
   "source": [
    "years20 = pd.read_csv('year2020.csv')\n",
    "years20.info()"
   ]
  },
  {
   "cell_type": "code",
   "execution_count": 5,
   "id": "bd82618a",
   "metadata": {
    "ExecuteTime": {
     "end_time": "2021-12-01T07:50:04.141431Z",
     "start_time": "2021-12-01T07:50:03.953213Z"
    }
   },
   "outputs": [
    {
     "name": "stdout",
     "output_type": "stream",
     "text": [
      "<class 'pandas.core.frame.DataFrame'>\n",
      "RangeIndex: 705 entries, 0 to 704\n",
      "Data columns (total 9 columns):\n",
      " #   Column      Non-Null Count  Dtype \n",
      "---  ------      --------------  ----- \n",
      " 0   song_id     705 non-null    int64 \n",
      " 1   song_name   705 non-null    object\n",
      " 2   artist      705 non-null    object\n",
      " 3   album       705 non-null    object\n",
      " 4   Like_Count  705 non-null    object\n",
      " 5   Lyric       697 non-null    object\n",
      " 6   cover_url   705 non-null    object\n",
      " 7   tags        705 non-null    object\n",
      " 8   year        705 non-null    object\n",
      "dtypes: int64(1), object(8)\n",
      "memory usage: 49.7+ KB\n"
     ]
    }
   ],
   "source": [
    "years21 = pd.read_csv('year2021.csv')\n",
    "years21.info()"
   ]
  },
  {
   "cell_type": "code",
   "execution_count": 6,
   "id": "c97c0d14",
   "metadata": {
    "ExecuteTime": {
     "end_time": "2021-12-01T07:50:42.095784Z",
     "start_time": "2021-12-01T07:50:42.081743Z"
    }
   },
   "outputs": [],
   "source": [
    "years210 = years20.append(years21)"
   ]
  },
  {
   "cell_type": "markdown",
   "id": "0e42a1c2",
   "metadata": {
    "ExecuteTime": {
     "end_time": "2021-12-01T02:19:45.648603Z",
     "start_time": "2021-12-01T02:19:45.638497Z"
    }
   },
   "source": [
    "## 전처리\n",
    "* Like_Count 괄호 제거\n",
    "* 숫자형변환"
   ]
  },
  {
   "cell_type": "code",
   "execution_count": 11,
   "id": "ae32c2a6",
   "metadata": {
    "ExecuteTime": {
     "end_time": "2021-12-01T07:56:16.018632Z",
     "start_time": "2021-12-01T07:56:16.006603Z"
    }
   },
   "outputs": [],
   "source": [
    "years210.reset_index(drop=True,inplace=True)"
   ]
  },
  {
   "cell_type": "code",
   "execution_count": 12,
   "id": "9af8a82a",
   "metadata": {
    "ExecuteTime": {
     "end_time": "2021-12-01T07:56:23.170837Z",
     "start_time": "2021-12-01T07:56:23.137804Z"
    }
   },
   "outputs": [
    {
     "data": {
      "text/html": [
       "<div>\n",
       "<style scoped>\n",
       "    .dataframe tbody tr th:only-of-type {\n",
       "        vertical-align: middle;\n",
       "    }\n",
       "\n",
       "    .dataframe tbody tr th {\n",
       "        vertical-align: top;\n",
       "    }\n",
       "\n",
       "    .dataframe thead th {\n",
       "        text-align: right;\n",
       "    }\n",
       "</style>\n",
       "<table border=\"1\" class=\"dataframe\">\n",
       "  <thead>\n",
       "    <tr style=\"text-align: right;\">\n",
       "      <th></th>\n",
       "      <th>song_id</th>\n",
       "      <th>song_name</th>\n",
       "      <th>artist</th>\n",
       "      <th>album</th>\n",
       "      <th>Like_Count</th>\n",
       "      <th>Lyric</th>\n",
       "      <th>cover_url</th>\n",
       "      <th>tags</th>\n",
       "      <th>year</th>\n",
       "    </tr>\n",
       "  </thead>\n",
       "  <tbody>\n",
       "    <tr>\n",
       "      <th>0</th>\n",
       "      <td>31904571</td>\n",
       "      <td>에잇(Prod.&amp;Feat. SUGA of BTS)</td>\n",
       "      <td>아이유(IU)</td>\n",
       "      <td>에잇</td>\n",
       "      <td>[15,806]</td>\n",
       "      <td>뭐 그대로야 난  다 잃어버린 것 같아  모든 게 맘대로 왔다...</td>\n",
       "      <td>https://image.bugsm.co.kr/album/images/200/203...</td>\n",
       "      <td>['국내', '가요', '연도별 인기가요', '2020년', '2020년대']</td>\n",
       "      <td>2020y</td>\n",
       "    </tr>\n",
       "  </tbody>\n",
       "</table>\n",
       "</div>"
      ],
      "text/plain": [
       "    song_id                    song_name   artist album Like_Count  \\\n",
       "0  31904571  에잇(Prod.&Feat. SUGA of BTS)  아이유(IU)    에잇   [15,806]   \n",
       "\n",
       "                                               Lyric  \\\n",
       "0              뭐 그대로야 난  다 잃어버린 것 같아  모든 게 맘대로 왔다...   \n",
       "\n",
       "                                           cover_url  \\\n",
       "0  https://image.bugsm.co.kr/album/images/200/203...   \n",
       "\n",
       "                                          tags   year  \n",
       "0  ['국내', '가요', '연도별 인기가요', '2020년', '2020년대']  2020y  "
      ]
     },
     "execution_count": 12,
     "metadata": {},
     "output_type": "execute_result"
    }
   ],
   "source": [
    "years210['Lyric'] = years210['Lyric'].str.replace(\"[^ㄱ-ㅎㅏ-ㅣ가-힣 ]\",\"\")\n",
    "# 한글과 공백을 제외하고 모두 제거\n",
    "years210.loc[:0]"
   ]
  },
  {
   "cell_type": "code",
   "execution_count": 14,
   "id": "8730b422",
   "metadata": {
    "ExecuteTime": {
     "end_time": "2021-12-01T07:56:50.365377Z",
     "start_time": "2021-12-01T07:56:50.323373Z"
    }
   },
   "outputs": [
    {
     "name": "stdout",
     "output_type": "stream",
     "text": [
      "song_id         0\n",
      "song_name       0\n",
      "artist          0\n",
      "album           0\n",
      "Like_Count      0\n",
      "Lyric         171\n",
      "cover_url       0\n",
      "tags            0\n",
      "year            0\n",
      "dtype: int64\n"
     ]
    }
   ],
   "source": [
    "years210['Lyric'] = years210['Lyric'].str.replace('^ +', \"\") # white space 데이터를 empty value로 변경\n",
    "years210['Lyric'].replace('', np.nan, inplace=True)\n",
    "print(years210.isnull().sum())"
   ]
  },
  {
   "cell_type": "code",
   "execution_count": 15,
   "id": "864e36ed",
   "metadata": {
    "ExecuteTime": {
     "end_time": "2021-12-01T07:57:03.446283Z",
     "start_time": "2021-12-01T07:57:03.401058Z"
    }
   },
   "outputs": [
    {
     "name": "stdout",
     "output_type": "stream",
     "text": [
      "전처리 후 데이터의 개수 : 1254\n"
     ]
    }
   ],
   "source": [
    "years210[years210['Lyric'].isnull()] # 한국어가 아닌 가사 - NaN값인 노래들\n",
    "years210 = years210.dropna(how = 'any')\n",
    "print('전처리 후 데이터의 개수 :',len(years210))"
   ]
  },
  {
   "cell_type": "code",
   "execution_count": 16,
   "id": "15497460",
   "metadata": {
    "ExecuteTime": {
     "end_time": "2021-12-01T07:57:14.819555Z",
     "start_time": "2021-12-01T07:57:14.795568Z"
    }
   },
   "outputs": [],
   "source": [
    "years210['Like_Count'] = years210['Like_Count'].str.replace('\\[', \"\").replace('\\]', '', regex= True).replace(',', '', regex= True)\n",
    "years210['Like_Count'] = years210['Like_Count'].astype(int)\n"
   ]
  },
  {
   "cell_type": "code",
   "execution_count": 17,
   "id": "124a904c",
   "metadata": {
    "ExecuteTime": {
     "end_time": "2021-12-01T07:57:17.781265Z",
     "start_time": "2021-12-01T07:57:17.768261Z"
    }
   },
   "outputs": [
    {
     "data": {
      "text/html": [
       "<div>\n",
       "<style scoped>\n",
       "    .dataframe tbody tr th:only-of-type {\n",
       "        vertical-align: middle;\n",
       "    }\n",
       "\n",
       "    .dataframe tbody tr th {\n",
       "        vertical-align: top;\n",
       "    }\n",
       "\n",
       "    .dataframe thead th {\n",
       "        text-align: right;\n",
       "    }\n",
       "</style>\n",
       "<table border=\"1\" class=\"dataframe\">\n",
       "  <thead>\n",
       "    <tr style=\"text-align: right;\">\n",
       "      <th></th>\n",
       "      <th>song_id</th>\n",
       "      <th>song_name</th>\n",
       "      <th>artist</th>\n",
       "      <th>album</th>\n",
       "      <th>Like_Count</th>\n",
       "      <th>Lyric</th>\n",
       "      <th>cover_url</th>\n",
       "      <th>tags</th>\n",
       "      <th>year</th>\n",
       "    </tr>\n",
       "  </thead>\n",
       "  <tbody>\n",
       "    <tr>\n",
       "      <th>0</th>\n",
       "      <td>31904571</td>\n",
       "      <td>에잇(Prod.&amp;Feat. SUGA of BTS)</td>\n",
       "      <td>아이유(IU)</td>\n",
       "      <td>에잇</td>\n",
       "      <td>15806</td>\n",
       "      <td>뭐 그대로야 난  다 잃어버린 것 같아  모든 게 맘대로 왔다가 인사도 없이 떠나 ...</td>\n",
       "      <td>https://image.bugsm.co.kr/album/images/200/203...</td>\n",
       "      <td>['국내', '가요', '연도별 인기가요', '2020년', '2020년대']</td>\n",
       "      <td>2020y</td>\n",
       "    </tr>\n",
       "    <tr>\n",
       "      <th>2</th>\n",
       "      <td>31806631</td>\n",
       "      <td>아무노래</td>\n",
       "      <td>지코</td>\n",
       "      <td>아무노래</td>\n",
       "      <td>11492</td>\n",
       "      <td>왜들 그리 다운돼있어  뭐가 문제야    분위기가 겁나 싸해  요새는 이런 게 유행...</td>\n",
       "      <td>https://image.bugsm.co.kr/album/images/200/203...</td>\n",
       "      <td>['국내', '가요', '연도별 인기가요', '2020년', '2020년대']</td>\n",
       "      <td>2020y</td>\n",
       "    </tr>\n",
       "  </tbody>\n",
       "</table>\n",
       "</div>"
      ],
      "text/plain": [
       "    song_id                    song_name   artist album  Like_Count  \\\n",
       "0  31904571  에잇(Prod.&Feat. SUGA of BTS)  아이유(IU)    에잇       15806   \n",
       "2  31806631                         아무노래       지코  아무노래       11492   \n",
       "\n",
       "                                               Lyric  \\\n",
       "0  뭐 그대로야 난  다 잃어버린 것 같아  모든 게 맘대로 왔다가 인사도 없이 떠나 ...   \n",
       "2  왜들 그리 다운돼있어  뭐가 문제야    분위기가 겁나 싸해  요새는 이런 게 유행...   \n",
       "\n",
       "                                           cover_url  \\\n",
       "0  https://image.bugsm.co.kr/album/images/200/203...   \n",
       "2  https://image.bugsm.co.kr/album/images/200/203...   \n",
       "\n",
       "                                          tags   year  \n",
       "0  ['국내', '가요', '연도별 인기가요', '2020년', '2020년대']  2020y  \n",
       "2  ['국내', '가요', '연도별 인기가요', '2020년', '2020년대']  2020y  "
      ]
     },
     "execution_count": 17,
     "metadata": {},
     "output_type": "execute_result"
    }
   ],
   "source": [
    "years210.head(2)"
   ]
  },
  {
   "cell_type": "markdown",
   "id": "59bc0d0d",
   "metadata": {},
   "source": [
    "## 정렬 \n",
    "* sort_values\n",
    "* ascending = False"
   ]
  },
  {
   "cell_type": "code",
   "execution_count": 18,
   "id": "2f118e87",
   "metadata": {
    "ExecuteTime": {
     "end_time": "2021-12-01T07:57:34.557797Z",
     "start_time": "2021-12-01T07:57:34.542878Z"
    }
   },
   "outputs": [],
   "source": [
    "sort_like = years210.sort_values(by= 'Like_Count',ascending=False)"
   ]
  },
  {
   "cell_type": "markdown",
   "id": "f2d19b59",
   "metadata": {},
   "source": [
    "### 중복 제거"
   ]
  },
  {
   "cell_type": "code",
   "execution_count": 19,
   "id": "11e81996",
   "metadata": {
    "ExecuteTime": {
     "end_time": "2021-12-01T07:57:38.026317Z",
     "start_time": "2021-12-01T07:57:38.017167Z"
    }
   },
   "outputs": [],
   "source": [
    "sort_like.drop_duplicates(['song_id','song_name'], keep='first',inplace=True)"
   ]
  },
  {
   "cell_type": "markdown",
   "id": "f2a2d930",
   "metadata": {},
   "source": [
    "### index (iloc) 재정의"
   ]
  },
  {
   "cell_type": "code",
   "execution_count": 20,
   "id": "815417f1",
   "metadata": {
    "ExecuteTime": {
     "end_time": "2021-12-01T07:57:40.174691Z",
     "start_time": "2021-12-01T07:57:40.166732Z"
    }
   },
   "outputs": [],
   "source": [
    "sort_like= sort_like.reset_index(drop=True)"
   ]
  },
  {
   "cell_type": "code",
   "execution_count": 24,
   "id": "fcbf6349",
   "metadata": {
    "ExecuteTime": {
     "end_time": "2021-12-01T07:58:52.814239Z",
     "start_time": "2021-12-01T07:58:52.797242Z"
    },
    "scrolled": false
   },
   "outputs": [
    {
     "data": {
      "text/html": [
       "<div>\n",
       "<style scoped>\n",
       "    .dataframe tbody tr th:only-of-type {\n",
       "        vertical-align: middle;\n",
       "    }\n",
       "\n",
       "    .dataframe tbody tr th {\n",
       "        vertical-align: top;\n",
       "    }\n",
       "\n",
       "    .dataframe thead th {\n",
       "        text-align: right;\n",
       "    }\n",
       "</style>\n",
       "<table border=\"1\" class=\"dataframe\">\n",
       "  <thead>\n",
       "    <tr style=\"text-align: right;\">\n",
       "      <th></th>\n",
       "      <th>song_id</th>\n",
       "      <th>song_name</th>\n",
       "      <th>artist</th>\n",
       "      <th>album</th>\n",
       "      <th>Like_Count</th>\n",
       "      <th>Lyric</th>\n",
       "      <th>cover_url</th>\n",
       "      <th>tags</th>\n",
       "      <th>year</th>\n",
       "    </tr>\n",
       "  </thead>\n",
       "  <tbody>\n",
       "    <tr>\n",
       "      <th>0</th>\n",
       "      <td>1764294</td>\n",
       "      <td>Monster (Korean ver.)</td>\n",
       "      <td>드렁큰 타이거(Drunken Tiger)</td>\n",
       "      <td>Feel gHood Muzik - The 8th Wonder</td>\n",
       "      <td>67572</td>\n",
       "      <td>아픈 마음의 상처에 음악의 연고를 발라버려      밤 밤 바바바 밤발라버려 밤 밤...</td>\n",
       "      <td>https://image.bugsm.co.kr/album/images/200/189...</td>\n",
       "      <td>['2020년', '2020년대', '연도별 국내영화OST', '영화', 'OST'...</td>\n",
       "      <td>2020y</td>\n",
       "    </tr>\n",
       "    <tr>\n",
       "      <th>1</th>\n",
       "      <td>30598121</td>\n",
       "      <td>밤편지</td>\n",
       "      <td>아이유(IU)</td>\n",
       "      <td>밤편지</td>\n",
       "      <td>38694</td>\n",
       "      <td>이 밤 그날의 반딧불을   당신의 창 가까이 보낼게요  음 사랑한다는 말 이에요  ...</td>\n",
       "      <td>https://image.bugsm.co.kr/album/images/200/200...</td>\n",
       "      <td>['국내외', '2020년', '100시리즈', '뮤직기네스', '2020 벅스 종...</td>\n",
       "      <td>2020y</td>\n",
       "    </tr>\n",
       "  </tbody>\n",
       "</table>\n",
       "</div>"
      ],
      "text/plain": [
       "    song_id              song_name                  artist  \\\n",
       "0   1764294  Monster (Korean ver.)  드렁큰 타이거(Drunken Tiger)   \n",
       "1  30598121                    밤편지                 아이유(IU)   \n",
       "\n",
       "                               album  Like_Count  \\\n",
       "0  Feel gHood Muzik - The 8th Wonder       67572   \n",
       "1                                밤편지       38694   \n",
       "\n",
       "                                               Lyric  \\\n",
       "0  아픈 마음의 상처에 음악의 연고를 발라버려      밤 밤 바바바 밤발라버려 밤 밤...   \n",
       "1  이 밤 그날의 반딧불을   당신의 창 가까이 보낼게요  음 사랑한다는 말 이에요  ...   \n",
       "\n",
       "                                           cover_url  \\\n",
       "0  https://image.bugsm.co.kr/album/images/200/189...   \n",
       "1  https://image.bugsm.co.kr/album/images/200/200...   \n",
       "\n",
       "                                                tags   year  \n",
       "0  ['2020년', '2020년대', '연도별 국내영화OST', '영화', 'OST'...  2020y  \n",
       "1  ['국내외', '2020년', '100시리즈', '뮤직기네스', '2020 벅스 종...  2020y  "
      ]
     },
     "execution_count": 24,
     "metadata": {},
     "output_type": "execute_result"
    }
   ],
   "source": [
    "sort_like.head(2)"
   ]
  },
  {
   "cell_type": "markdown",
   "id": "25de92e6",
   "metadata": {},
   "source": [
    "## 연대별 like count 기준 정렬 & 저장 과정"
   ]
  },
  {
   "cell_type": "code",
   "execution_count": 25,
   "id": "7db52162",
   "metadata": {
    "ExecuteTime": {
     "end_time": "2021-12-01T07:59:34.516038Z",
     "start_time": "2021-12-01T07:59:34.486044Z"
    }
   },
   "outputs": [
    {
     "name": "stdout",
     "output_type": "stream",
     "text": [
      "2020년도 곡 개수 :  612\n"
     ]
    },
    {
     "data": {
      "text/html": [
       "<div>\n",
       "<style scoped>\n",
       "    .dataframe tbody tr th:only-of-type {\n",
       "        vertical-align: middle;\n",
       "    }\n",
       "\n",
       "    .dataframe tbody tr th {\n",
       "        vertical-align: top;\n",
       "    }\n",
       "\n",
       "    .dataframe thead th {\n",
       "        text-align: right;\n",
       "    }\n",
       "</style>\n",
       "<table border=\"1\" class=\"dataframe\">\n",
       "  <thead>\n",
       "    <tr style=\"text-align: right;\">\n",
       "      <th></th>\n",
       "      <th>song_id</th>\n",
       "      <th>song_name</th>\n",
       "      <th>artist</th>\n",
       "      <th>album</th>\n",
       "      <th>Like_Count</th>\n",
       "      <th>Lyric</th>\n",
       "      <th>cover_url</th>\n",
       "      <th>tags</th>\n",
       "      <th>year</th>\n",
       "    </tr>\n",
       "  </thead>\n",
       "  <tbody>\n",
       "    <tr>\n",
       "      <th>0</th>\n",
       "      <td>1764294</td>\n",
       "      <td>Monster (Korean ver.)</td>\n",
       "      <td>드렁큰 타이거(Drunken Tiger)</td>\n",
       "      <td>Feel gHood Muzik - The 8th Wonder</td>\n",
       "      <td>67572</td>\n",
       "      <td>아픈 마음의 상처에 음악의 연고를 발라버려      밤 밤 바바바 밤발라버려 밤 밤...</td>\n",
       "      <td>https://image.bugsm.co.kr/album/images/200/189...</td>\n",
       "      <td>['2020년', '2020년대', '연도별 국내영화OST', '영화', 'OST'...</td>\n",
       "      <td>2020y</td>\n",
       "    </tr>\n",
       "    <tr>\n",
       "      <th>1</th>\n",
       "      <td>30598121</td>\n",
       "      <td>밤편지</td>\n",
       "      <td>아이유(IU)</td>\n",
       "      <td>밤편지</td>\n",
       "      <td>38694</td>\n",
       "      <td>이 밤 그날의 반딧불을   당신의 창 가까이 보낼게요  음 사랑한다는 말 이에요  ...</td>\n",
       "      <td>https://image.bugsm.co.kr/album/images/200/200...</td>\n",
       "      <td>['국내외', '2020년', '100시리즈', '뮤직기네스', '2020 벅스 종...</td>\n",
       "      <td>2020y</td>\n",
       "    </tr>\n",
       "  </tbody>\n",
       "</table>\n",
       "</div>"
      ],
      "text/plain": [
       "    song_id              song_name                  artist  \\\n",
       "0   1764294  Monster (Korean ver.)  드렁큰 타이거(Drunken Tiger)   \n",
       "1  30598121                    밤편지                 아이유(IU)   \n",
       "\n",
       "                               album  Like_Count  \\\n",
       "0  Feel gHood Muzik - The 8th Wonder       67572   \n",
       "1                                밤편지       38694   \n",
       "\n",
       "                                               Lyric  \\\n",
       "0  아픈 마음의 상처에 음악의 연고를 발라버려      밤 밤 바바바 밤발라버려 밤 밤...   \n",
       "1  이 밤 그날의 반딧불을   당신의 창 가까이 보낼게요  음 사랑한다는 말 이에요  ...   \n",
       "\n",
       "                                           cover_url  \\\n",
       "0  https://image.bugsm.co.kr/album/images/200/189...   \n",
       "1  https://image.bugsm.co.kr/album/images/200/200...   \n",
       "\n",
       "                                                tags   year  \n",
       "0  ['2020년', '2020년대', '연도별 국내영화OST', '영화', 'OST'...  2020y  \n",
       "1  ['국내외', '2020년', '100시리즈', '뮤직기네스', '2020 벅스 종...  2020y  "
      ]
     },
     "execution_count": 25,
     "metadata": {},
     "output_type": "execute_result"
    }
   ],
   "source": [
    "sort_like2020 = sort_like[sort_like['year']=='2020y']\n",
    "print('2020년도 곡 개수 : ',len(sort_like2020))\n",
    "sort_like2020.head(2)\n"
   ]
  },
  {
   "cell_type": "code",
   "execution_count": 26,
   "id": "e0d225d0",
   "metadata": {
    "ExecuteTime": {
     "end_time": "2021-12-01T07:59:55.163414Z",
     "start_time": "2021-12-01T07:59:55.137419Z"
    }
   },
   "outputs": [
    {
     "name": "stdout",
     "output_type": "stream",
     "text": [
      "2021년도 곡 개수 :  642\n"
     ]
    },
    {
     "data": {
      "text/html": [
       "<div>\n",
       "<style scoped>\n",
       "    .dataframe tbody tr th:only-of-type {\n",
       "        vertical-align: middle;\n",
       "    }\n",
       "\n",
       "    .dataframe tbody tr th {\n",
       "        vertical-align: top;\n",
       "    }\n",
       "\n",
       "    .dataframe thead th {\n",
       "        text-align: right;\n",
       "    }\n",
       "</style>\n",
       "<table border=\"1\" class=\"dataframe\">\n",
       "  <thead>\n",
       "    <tr style=\"text-align: right;\">\n",
       "      <th></th>\n",
       "      <th>song_id</th>\n",
       "      <th>song_name</th>\n",
       "      <th>artist</th>\n",
       "      <th>album</th>\n",
       "      <th>Like_Count</th>\n",
       "      <th>Lyric</th>\n",
       "      <th>cover_url</th>\n",
       "      <th>tags</th>\n",
       "      <th>year</th>\n",
       "    </tr>\n",
       "  </thead>\n",
       "  <tbody>\n",
       "    <tr>\n",
       "      <th>16</th>\n",
       "      <td>30210331</td>\n",
       "      <td>상상더하기</td>\n",
       "      <td>라붐(LABOUM)</td>\n",
       "      <td>Fresh Adventure</td>\n",
       "      <td>12992</td>\n",
       "      <td>지금 나와 어디든 가자   지루한 하루 여기까지만    작은 가방 운동화 챙겨   ...</td>\n",
       "      <td>https://image.bugsm.co.kr/album/images/200/200...</td>\n",
       "      <td>['국내', '가요', '여름', '여성보컬', 'KPOP', '아이돌']</td>\n",
       "      <td>2021y</td>\n",
       "    </tr>\n",
       "    <tr>\n",
       "      <th>18</th>\n",
       "      <td>6065263</td>\n",
       "      <td>Celebrity</td>\n",
       "      <td>아이유(IU)</td>\n",
       "      <td>IU 5th Album 'LILAC'</td>\n",
       "      <td>12852</td>\n",
       "      <td>세상의 모서리  구부정하게 커버린  골칫거리   걸음걸이 옷차림  이어폰 너머   ...</td>\n",
       "      <td>https://image.bugsm.co.kr/album/images/200/402...</td>\n",
       "      <td>['국내', '100시리즈', '2021년', '2021 뮤직PD 선곡 TOP100']</td>\n",
       "      <td>2021y</td>\n",
       "    </tr>\n",
       "  </tbody>\n",
       "</table>\n",
       "</div>"
      ],
      "text/plain": [
       "     song_id  song_name      artist                 album  Like_Count  \\\n",
       "16  30210331      상상더하기  라붐(LABOUM)       Fresh Adventure       12992   \n",
       "18   6065263  Celebrity     아이유(IU)  IU 5th Album 'LILAC'       12852   \n",
       "\n",
       "                                                Lyric  \\\n",
       "16  지금 나와 어디든 가자   지루한 하루 여기까지만    작은 가방 운동화 챙겨   ...   \n",
       "18  세상의 모서리  구부정하게 커버린  골칫거리   걸음걸이 옷차림  이어폰 너머   ...   \n",
       "\n",
       "                                            cover_url  \\\n",
       "16  https://image.bugsm.co.kr/album/images/200/200...   \n",
       "18  https://image.bugsm.co.kr/album/images/200/402...   \n",
       "\n",
       "                                                tags   year  \n",
       "16         ['국내', '가요', '여름', '여성보컬', 'KPOP', '아이돌']  2021y  \n",
       "18  ['국내', '100시리즈', '2021년', '2021 뮤직PD 선곡 TOP100']  2021y  "
      ]
     },
     "execution_count": 26,
     "metadata": {},
     "output_type": "execute_result"
    }
   ],
   "source": [
    "sort_like2021 = sort_like[sort_like['year']=='2021y']\n",
    "print('2021년도 곡 개수 : ',len(sort_like2021))\n",
    "sort_like2021.head(2)"
   ]
  },
  {
   "cell_type": "markdown",
   "id": "98c3315b",
   "metadata": {},
   "source": [
    "### append()\n",
    "* 기존 연대별 곡 목록 + 2020년도 + 2021년도"
   ]
  },
  {
   "cell_type": "code",
   "execution_count": 29,
   "id": "eee1005a",
   "metadata": {
    "ExecuteTime": {
     "end_time": "2021-12-01T08:02:59.917299Z",
     "start_time": "2021-12-01T08:02:59.455298Z"
    }
   },
   "outputs": [],
   "source": [
    "sort_total_years = pd.read_csv('sort_total_years.csv')\n",
    "sort_total_years = sort_total_years.append(sort_like)\n",
    "sort_total_years.reset_index(drop=True)\n",
    "sort_total_years.to_csv('sort_total_years.csv',index=False)"
   ]
  },
  {
   "cell_type": "markdown",
   "id": "1aec4417",
   "metadata": {},
   "source": [
    "### to_csv"
   ]
  },
  {
   "cell_type": "code",
   "execution_count": 28,
   "id": "6da56733",
   "metadata": {
    "ExecuteTime": {
     "end_time": "2021-12-01T08:01:53.365906Z",
     "start_time": "2021-12-01T08:01:53.297847Z"
    }
   },
   "outputs": [],
   "source": [
    "sort_like.to_csv('years20_21.csv',index=False)"
   ]
  },
  {
   "cell_type": "markdown",
   "id": "32fd448a",
   "metadata": {},
   "source": [
    "### 결과 확인"
   ]
  },
  {
   "cell_type": "code",
   "execution_count": 31,
   "id": "5ce72723",
   "metadata": {
    "ExecuteTime": {
     "end_time": "2021-12-01T08:06:23.711691Z",
     "start_time": "2021-12-01T08:06:23.548697Z"
    }
   },
   "outputs": [
    {
     "data": {
      "text/html": [
       "<div>\n",
       "<style scoped>\n",
       "    .dataframe tbody tr th:only-of-type {\n",
       "        vertical-align: middle;\n",
       "    }\n",
       "\n",
       "    .dataframe tbody tr th {\n",
       "        vertical-align: top;\n",
       "    }\n",
       "\n",
       "    .dataframe thead th {\n",
       "        text-align: right;\n",
       "    }\n",
       "</style>\n",
       "<table border=\"1\" class=\"dataframe\">\n",
       "  <thead>\n",
       "    <tr style=\"text-align: right;\">\n",
       "      <th></th>\n",
       "      <th>song_id</th>\n",
       "      <th>song_name</th>\n",
       "      <th>artist</th>\n",
       "      <th>album</th>\n",
       "      <th>Like_Count</th>\n",
       "      <th>Lyric</th>\n",
       "      <th>cover_url</th>\n",
       "      <th>tags</th>\n",
       "      <th>year</th>\n",
       "    </tr>\n",
       "  </thead>\n",
       "  <tbody>\n",
       "    <tr>\n",
       "      <th>3308</th>\n",
       "      <td>1764294</td>\n",
       "      <td>Monster (Korean ver.)</td>\n",
       "      <td>드렁큰 타이거(Drunken Tiger)</td>\n",
       "      <td>Feel gHood Muzik - The 8th Wonder</td>\n",
       "      <td>67572</td>\n",
       "      <td>아픈 마음의 상처에 음악의 연고를 발라버려      밤 밤 바바바 밤발라버려 밤 밤...</td>\n",
       "      <td>https://image.bugsm.co.kr/album/images/200/189...</td>\n",
       "      <td>['2020년', '2020년대', '연도별 국내영화OST', '영화', 'OST'...</td>\n",
       "      <td>2020y</td>\n",
       "    </tr>\n",
       "    <tr>\n",
       "      <th>3309</th>\n",
       "      <td>30598121</td>\n",
       "      <td>밤편지</td>\n",
       "      <td>아이유(IU)</td>\n",
       "      <td>밤편지</td>\n",
       "      <td>38694</td>\n",
       "      <td>이 밤 그날의 반딧불을   당신의 창 가까이 보낼게요  음 사랑한다는 말 이에요  ...</td>\n",
       "      <td>https://image.bugsm.co.kr/album/images/200/200...</td>\n",
       "      <td>['국내외', '2020년', '100시리즈', '뮤직기네스', '2020 벅스 종...</td>\n",
       "      <td>2020y</td>\n",
       "    </tr>\n",
       "  </tbody>\n",
       "</table>\n",
       "</div>"
      ],
      "text/plain": [
       "       song_id              song_name                  artist  \\\n",
       "3308   1764294  Monster (Korean ver.)  드렁큰 타이거(Drunken Tiger)   \n",
       "3309  30598121                    밤편지                 아이유(IU)   \n",
       "\n",
       "                                  album  Like_Count  \\\n",
       "3308  Feel gHood Muzik - The 8th Wonder       67572   \n",
       "3309                                밤편지       38694   \n",
       "\n",
       "                                                  Lyric  \\\n",
       "3308  아픈 마음의 상처에 음악의 연고를 발라버려      밤 밤 바바바 밤발라버려 밤 밤...   \n",
       "3309  이 밤 그날의 반딧불을   당신의 창 가까이 보낼게요  음 사랑한다는 말 이에요  ...   \n",
       "\n",
       "                                              cover_url  \\\n",
       "3308  https://image.bugsm.co.kr/album/images/200/189...   \n",
       "3309  https://image.bugsm.co.kr/album/images/200/200...   \n",
       "\n",
       "                                                   tags   year  \n",
       "3308  ['2020년', '2020년대', '연도별 국내영화OST', '영화', 'OST'...  2020y  \n",
       "3309  ['국내외', '2020년', '100시리즈', '뮤직기네스', '2020 벅스 종...  2020y  "
      ]
     },
     "execution_count": 31,
     "metadata": {},
     "output_type": "execute_result"
    }
   ],
   "source": [
    "sort_total_years = pd.read_csv('sort_total_years.csv')\n",
    "# 2020년대 곡\n",
    "sort_total_years[sort_total_years['year'].str.contains('2020y')].head(2)"
   ]
  },
  {
   "cell_type": "markdown",
   "id": "0dee1a14",
   "metadata": {},
   "source": [
    "---"
   ]
  },
  {
   "cell_type": "markdown",
   "id": "fd5baac0",
   "metadata": {},
   "source": [
    "## 최신 트렌드 주요 키워드 추출\n",
    "* 2020 / 2021"
   ]
  },
  {
   "cell_type": "markdown",
   "id": "583a6c1e",
   "metadata": {},
   "source": [
    "## 2020 년도"
   ]
  },
  {
   "cell_type": "code",
   "execution_count": 32,
   "id": "13a70d88",
   "metadata": {
    "ExecuteTime": {
     "end_time": "2021-12-01T08:07:37.097462Z",
     "start_time": "2021-12-01T08:07:37.081628Z"
    }
   },
   "outputs": [
    {
     "data": {
      "text/html": [
       "<div>\n",
       "<style scoped>\n",
       "    .dataframe tbody tr th:only-of-type {\n",
       "        vertical-align: middle;\n",
       "    }\n",
       "\n",
       "    .dataframe tbody tr th {\n",
       "        vertical-align: top;\n",
       "    }\n",
       "\n",
       "    .dataframe thead th {\n",
       "        text-align: right;\n",
       "    }\n",
       "</style>\n",
       "<table border=\"1\" class=\"dataframe\">\n",
       "  <thead>\n",
       "    <tr style=\"text-align: right;\">\n",
       "      <th></th>\n",
       "      <th>song_id</th>\n",
       "      <th>song_name</th>\n",
       "      <th>artist</th>\n",
       "      <th>album</th>\n",
       "      <th>Like_Count</th>\n",
       "      <th>Lyric</th>\n",
       "      <th>cover_url</th>\n",
       "      <th>tags</th>\n",
       "      <th>year</th>\n",
       "    </tr>\n",
       "  </thead>\n",
       "  <tbody>\n",
       "    <tr>\n",
       "      <th>0</th>\n",
       "      <td>1764294</td>\n",
       "      <td>Monster (Korean ver.)</td>\n",
       "      <td>드렁큰 타이거(Drunken Tiger)</td>\n",
       "      <td>Feel gHood Muzik - The 8th Wonder</td>\n",
       "      <td>67572</td>\n",
       "      <td>아픈 마음의 상처에 음악의 연고를 발라버려      밤 밤 바바바 밤발라버려 밤 밤...</td>\n",
       "      <td>https://image.bugsm.co.kr/album/images/200/189...</td>\n",
       "      <td>['2020년', '2020년대', '연도별 국내영화OST', '영화', 'OST'...</td>\n",
       "      <td>2020y</td>\n",
       "    </tr>\n",
       "    <tr>\n",
       "      <th>1</th>\n",
       "      <td>30598121</td>\n",
       "      <td>밤편지</td>\n",
       "      <td>아이유(IU)</td>\n",
       "      <td>밤편지</td>\n",
       "      <td>38694</td>\n",
       "      <td>이 밤 그날의 반딧불을   당신의 창 가까이 보낼게요  음 사랑한다는 말 이에요  ...</td>\n",
       "      <td>https://image.bugsm.co.kr/album/images/200/200...</td>\n",
       "      <td>['국내외', '2020년', '100시리즈', '뮤직기네스', '2020 벅스 종...</td>\n",
       "      <td>2020y</td>\n",
       "    </tr>\n",
       "  </tbody>\n",
       "</table>\n",
       "</div>"
      ],
      "text/plain": [
       "    song_id              song_name                  artist  \\\n",
       "0   1764294  Monster (Korean ver.)  드렁큰 타이거(Drunken Tiger)   \n",
       "1  30598121                    밤편지                 아이유(IU)   \n",
       "\n",
       "                               album  Like_Count  \\\n",
       "0  Feel gHood Muzik - The 8th Wonder       67572   \n",
       "1                                밤편지       38694   \n",
       "\n",
       "                                               Lyric  \\\n",
       "0  아픈 마음의 상처에 음악의 연고를 발라버려      밤 밤 바바바 밤발라버려 밤 밤...   \n",
       "1  이 밤 그날의 반딧불을   당신의 창 가까이 보낼게요  음 사랑한다는 말 이에요  ...   \n",
       "\n",
       "                                           cover_url  \\\n",
       "0  https://image.bugsm.co.kr/album/images/200/189...   \n",
       "1  https://image.bugsm.co.kr/album/images/200/200...   \n",
       "\n",
       "                                                tags   year  \n",
       "0  ['2020년', '2020년대', '연도별 국내영화OST', '영화', 'OST'...  2020y  \n",
       "1  ['국내외', '2020년', '100시리즈', '뮤직기네스', '2020 벅스 종...  2020y  "
      ]
     },
     "execution_count": 32,
     "metadata": {},
     "output_type": "execute_result"
    }
   ],
   "source": [
    "# like count 정렬 맞는지 다시 확인\n",
    "sort_like2020.head(2)"
   ]
  },
  {
   "cell_type": "markdown",
   "id": "125e3412",
   "metadata": {},
   "source": [
    "### 불용어"
   ]
  },
  {
   "cell_type": "code",
   "execution_count": 33,
   "id": "a57a1f31",
   "metadata": {
    "ExecuteTime": {
     "end_time": "2021-12-01T08:07:45.964887Z",
     "start_time": "2021-12-01T08:07:45.802398Z"
    }
   },
   "outputs": [],
   "source": [
    " # 불용어 (가사 빈도수 높은 + 감정분류와 무관한 단어 추가 중)\n",
    "stop_w = ['all','이렇게','네가','있는','니가','없는','너의','너무','그런',\n",
    "          'oh','whoo','tuesday','내가','너를','나를','we','this','the','그렇게',\n",
    "          'so','am','baby','and','can','you','much','me','for','go','in',\n",
    "          '은', '는', '이', '가', '하','부터','처럼','까지',\n",
    "          'know','no','of','let','my','수','너','내','나','그','난','봐',\n",
    "          '돼','건','모든','에서','에게','싶어','잖아',\n",
    "          '날','널','수','것','못','말','넌','젠','하나','정말','알','여기',\n",
    "          '우리','다시','하게','니까',\n",
    "          '때','아','더','게','또','채','일','걸','누구','나는','너는','라면',\n",
    "          '같아','있어',\n",
    "          '의','가','보','들','좀','잘','걍','과','도','를','으로','우린','하지',\n",
    "          '해도','하고','없어','않아',\n",
    "          '자','에','와','한','하다','네','있다','나의','해','다','내게','왜',\n",
    "          '거야','이제','그냥','했던','하는']"
   ]
  },
  {
   "cell_type": "code",
   "execution_count": 34,
   "id": "27b68ece",
   "metadata": {
    "ExecuteTime": {
     "end_time": "2021-12-01T08:07:53.865418Z",
     "start_time": "2021-12-01T08:07:53.847320Z"
    }
   },
   "outputs": [],
   "source": [
    "lyric2020 = sort_like2020.Lyric"
   ]
  },
  {
   "cell_type": "markdown",
   "id": "c5e6c6c7",
   "metadata": {},
   "source": [
    "### 토큰화"
   ]
  },
  {
   "cell_type": "code",
   "execution_count": 35,
   "id": "8797402c",
   "metadata": {
    "ExecuteTime": {
     "end_time": "2021-12-01T08:08:17.499019Z",
     "start_time": "2021-12-01T08:07:58.066615Z"
    }
   },
   "outputs": [],
   "source": [
    "tagging_okt = []\n",
    "for i in lyric2020:\n",
    "    tag_word = okt.pos(i)\n",
    "    tagging_okt.append(tag_word)"
   ]
  },
  {
   "cell_type": "markdown",
   "id": "7f8d7014",
   "metadata": {
    "ExecuteTime": {
     "end_time": "2021-12-01T02:50:05.079769Z",
     "start_time": "2021-12-01T02:50:05.068585Z"
    }
   },
   "source": [
    "### 말뭉치 담기 (형용사, 명사, 동사)\n",
    "* okt를 사용한 이유를 설명할 수 있을 듯 (명사, 형용사 등 morphs의 명확한 분리 후 원하는 형태소만 따로 담을 수 있다는 이점)\n",
    "* sentencepiece에서는 형태소별로 구분 X"
   ]
  },
  {
   "cell_type": "code",
   "execution_count": 36,
   "id": "c8d5b3bd",
   "metadata": {
    "ExecuteTime": {
     "end_time": "2021-12-01T08:08:17.849426Z",
     "start_time": "2021-12-01T08:08:17.803358Z"
    }
   },
   "outputs": [],
   "source": [
    "corpus = []\n",
    "for song in tagging_okt:\n",
    "    for word in song:\n",
    "        if (word[1] == 'Adjective') or (word[1] =='Noun') or (word[1] =='Verb'):\n",
    "            corpus.append(word[0])"
   ]
  },
  {
   "cell_type": "markdown",
   "id": "f207623a",
   "metadata": {},
   "source": [
    "### 딕셔너리 생성 (단어, 빈도수 count)"
   ]
  },
  {
   "cell_type": "code",
   "execution_count": 37,
   "id": "08edbbde",
   "metadata": {
    "ExecuteTime": {
     "end_time": "2021-12-01T08:08:18.103912Z",
     "start_time": "2021-12-01T08:08:18.072879Z"
    }
   },
   "outputs": [],
   "source": [
    "word_dict = {}\n",
    "for i in corpus:\n",
    "    if i in word_dict:\n",
    "        word_dict[i] += 1\n",
    "    else: \n",
    "        word_dict[i] = 1\n",
    "        \n",
    "# print(word_dict)"
   ]
  },
  {
   "cell_type": "markdown",
   "id": "1d2af156",
   "metadata": {},
   "source": [
    "## CountVectorizer"
   ]
  },
  {
   "cell_type": "code",
   "execution_count": null,
   "id": "1536d3e5",
   "metadata": {},
   "outputs": [],
   "source": [
    "#max_features는 corpus중 빈도수가 가장 높은 순으로 해당 개수만큼만 뽑아냄 "
   ]
  },
  {
   "cell_type": "code",
   "execution_count": 38,
   "id": "70b825db",
   "metadata": {
    "ExecuteTime": {
     "end_time": "2021-12-01T08:08:18.738694Z",
     "start_time": "2021-12-01T08:08:18.361733Z"
    }
   },
   "outputs": [],
   "source": [
    "cv = CountVectorizer(max_features=5000, stop_words=stop_w) \n",
    "tdm = cv.fit_transform(corpus)"
   ]
  },
  {
   "cell_type": "code",
   "execution_count": 39,
   "id": "d50b081d",
   "metadata": {
    "ExecuteTime": {
     "end_time": "2021-12-01T08:08:19.021794Z",
     "start_time": "2021-12-01T08:08:19.007759Z"
    }
   },
   "outputs": [
    {
     "name": "stdout",
     "output_type": "stream",
     "text": [
      "(91489, 5000)\n",
      "5000\n"
     ]
    }
   ],
   "source": [
    "# tdm.shape\n",
    "# len(cv.get_feature_names())\n",
    "print(tdm.shape)\n",
    "print(len(cv.get_feature_names()))"
   ]
  },
  {
   "cell_type": "code",
   "execution_count": 40,
   "id": "808621df",
   "metadata": {
    "ExecuteTime": {
     "end_time": "2021-12-01T08:08:19.309194Z",
     "start_time": "2021-12-01T08:08:19.294175Z"
    }
   },
   "outputs": [
    {
     "data": {
      "text/plain": [
       "['가가', '가게', '가격', '가고', '가기', '가까워', '가까이', '가끔', '가난뱅이', '가난해']"
      ]
     },
     "execution_count": 40,
     "metadata": {},
     "output_type": "execute_result"
    }
   ],
   "source": [
    "cv.get_feature_names()[:10]"
   ]
  },
  {
   "cell_type": "code",
   "execution_count": 41,
   "id": "cab0601f",
   "metadata": {
    "ExecuteTime": {
     "end_time": "2021-12-01T08:08:19.627618Z",
     "start_time": "2021-12-01T08:08:19.598624Z"
    }
   },
   "outputs": [
    {
     "data": {
      "text/html": [
       "<div>\n",
       "<style scoped>\n",
       "    .dataframe tbody tr th:only-of-type {\n",
       "        vertical-align: middle;\n",
       "    }\n",
       "\n",
       "    .dataframe tbody tr th {\n",
       "        vertical-align: top;\n",
       "    }\n",
       "\n",
       "    .dataframe thead th {\n",
       "        text-align: right;\n",
       "    }\n",
       "</style>\n",
       "<table border=\"1\" class=\"dataframe\">\n",
       "  <thead>\n",
       "    <tr style=\"text-align: right;\">\n",
       "      <th></th>\n",
       "      <th>단어</th>\n",
       "      <th>빈도</th>\n",
       "    </tr>\n",
       "  </thead>\n",
       "  <tbody>\n",
       "    <tr>\n",
       "      <th>2399</th>\n",
       "      <td>사랑</td>\n",
       "      <td>661</td>\n",
       "    </tr>\n",
       "    <tr>\n",
       "      <th>424</th>\n",
       "      <td>그대</td>\n",
       "      <td>465</td>\n",
       "    </tr>\n",
       "    <tr>\n",
       "      <th>2745</th>\n",
       "      <td>시간</td>\n",
       "      <td>402</td>\n",
       "    </tr>\n",
       "    <tr>\n",
       "      <th>1445</th>\n",
       "      <td>마음</td>\n",
       "      <td>364</td>\n",
       "    </tr>\n",
       "    <tr>\n",
       "      <th>4283</th>\n",
       "      <td>지금</td>\n",
       "      <td>333</td>\n",
       "    </tr>\n",
       "    <tr>\n",
       "      <th>3467</th>\n",
       "      <td>오늘</td>\n",
       "      <td>325</td>\n",
       "    </tr>\n",
       "    <tr>\n",
       "      <th>2499</th>\n",
       "      <td>생각</td>\n",
       "      <td>292</td>\n",
       "    </tr>\n",
       "    <tr>\n",
       "      <th>2397</th>\n",
       "      <td>사람</td>\n",
       "      <td>265</td>\n",
       "    </tr>\n",
       "    <tr>\n",
       "      <th>533</th>\n",
       "      <td>기억</td>\n",
       "      <td>238</td>\n",
       "    </tr>\n",
       "    <tr>\n",
       "      <th>2671</th>\n",
       "      <td>순간</td>\n",
       "      <td>226</td>\n",
       "    </tr>\n",
       "    <tr>\n",
       "      <th>4764</th>\n",
       "      <td>하루</td>\n",
       "      <td>220</td>\n",
       "    </tr>\n",
       "    <tr>\n",
       "      <th>3202</th>\n",
       "      <td>어디</td>\n",
       "      <td>209</td>\n",
       "    </tr>\n",
       "    <tr>\n",
       "      <th>2590</th>\n",
       "      <td>세상</td>\n",
       "      <td>194</td>\n",
       "    </tr>\n",
       "    <tr>\n",
       "      <th>2980</th>\n",
       "      <td>아무</td>\n",
       "      <td>182</td>\n",
       "    </tr>\n",
       "    <tr>\n",
       "      <th>164</th>\n",
       "      <td>같은</td>\n",
       "      <td>174</td>\n",
       "    </tr>\n",
       "    <tr>\n",
       "      <th>1629</th>\n",
       "      <td>모두</td>\n",
       "      <td>167</td>\n",
       "    </tr>\n",
       "    <tr>\n",
       "      <th>1564</th>\n",
       "      <td>매일</td>\n",
       "      <td>156</td>\n",
       "    </tr>\n",
       "    <tr>\n",
       "      <th>792</th>\n",
       "      <td>노래</td>\n",
       "      <td>156</td>\n",
       "    </tr>\n",
       "    <tr>\n",
       "      <th>2532</th>\n",
       "      <td>서로</td>\n",
       "      <td>148</td>\n",
       "    </tr>\n",
       "    <tr>\n",
       "      <th>1816</th>\n",
       "      <td>바람</td>\n",
       "      <td>143</td>\n",
       "    </tr>\n",
       "    <tr>\n",
       "      <th>4921</th>\n",
       "      <td>혼자</td>\n",
       "      <td>143</td>\n",
       "    </tr>\n",
       "    <tr>\n",
       "      <th>4750</th>\n",
       "      <td>하늘</td>\n",
       "      <td>142</td>\n",
       "    </tr>\n",
       "    <tr>\n",
       "      <th>429</th>\n",
       "      <td>그때</td>\n",
       "      <td>141</td>\n",
       "    </tr>\n",
       "    <tr>\n",
       "      <th>1593</th>\n",
       "      <td>멀리</td>\n",
       "      <td>134</td>\n",
       "    </tr>\n",
       "    <tr>\n",
       "      <th>899</th>\n",
       "      <td>다른</td>\n",
       "      <td>133</td>\n",
       "    </tr>\n",
       "    <tr>\n",
       "      <th>1952</th>\n",
       "      <td>버린</td>\n",
       "      <td>130</td>\n",
       "    </tr>\n",
       "    <tr>\n",
       "      <th>1644</th>\n",
       "      <td>모습</td>\n",
       "      <td>128</td>\n",
       "    </tr>\n",
       "    <tr>\n",
       "      <th>846</th>\n",
       "      <td>눈물</td>\n",
       "      <td>125</td>\n",
       "    </tr>\n",
       "    <tr>\n",
       "      <th>4135</th>\n",
       "      <td>조금</td>\n",
       "      <td>122</td>\n",
       "    </tr>\n",
       "    <tr>\n",
       "      <th>3215</th>\n",
       "      <td>어떤</td>\n",
       "      <td>122</td>\n",
       "    </tr>\n",
       "  </tbody>\n",
       "</table>\n",
       "</div>"
      ],
      "text/plain": [
       "      단어   빈도\n",
       "2399  사랑  661\n",
       "424   그대  465\n",
       "2745  시간  402\n",
       "1445  마음  364\n",
       "4283  지금  333\n",
       "3467  오늘  325\n",
       "2499  생각  292\n",
       "2397  사람  265\n",
       "533   기억  238\n",
       "2671  순간  226\n",
       "4764  하루  220\n",
       "3202  어디  209\n",
       "2590  세상  194\n",
       "2980  아무  182\n",
       "164   같은  174\n",
       "1629  모두  167\n",
       "1564  매일  156\n",
       "792   노래  156\n",
       "2532  서로  148\n",
       "1816  바람  143\n",
       "4921  혼자  143\n",
       "4750  하늘  142\n",
       "429   그때  141\n",
       "1593  멀리  134\n",
       "899   다른  133\n",
       "1952  버린  130\n",
       "1644  모습  128\n",
       "846   눈물  125\n",
       "4135  조금  122\n",
       "3215  어떤  122"
      ]
     },
     "execution_count": 41,
     "metadata": {},
     "output_type": "execute_result"
    }
   ],
   "source": [
    "wc = pd.DataFrame({\n",
    "    '단어': cv.get_feature_names(),\n",
    "    '빈도': tdm.sum(axis=0).flat\n",
    "})\n",
    "\n",
    "wc.sort_values('빈도', ascending=False).head(30)"
   ]
  },
  {
   "cell_type": "code",
   "execution_count": 42,
   "id": "f1a8a585",
   "metadata": {
    "ExecuteTime": {
     "end_time": "2021-12-01T08:08:20.991127Z",
     "start_time": "2021-12-01T08:08:20.200619Z"
    }
   },
   "outputs": [
    {
     "data": {
      "image/png": "[encoded data removed]",
      "text/plain": [
       "<PIL.Image.Image image mode=RGB size=400x300 at 0x1FDAC1D5F10>"
      ]
     },
     "execution_count": 42,
     "metadata": {},
     "output_type": "execute_result"
    }
   ],
   "source": [
    "WC = WordCloud(font_path='NanumBarunGothic.ttf' ,background_color='white', width=400, height=300)\n",
    "count_dic = wc.set_index('단어')['빈도'].to_dict()\n",
    "# count_dic\n",
    "cloud = WC.generate_from_frequencies(count_dic)\n",
    "cloud.to_image()"
   ]
  },
  {
   "cell_type": "code",
   "execution_count": 43,
   "id": "05aa26d3",
   "metadata": {
    "ExecuteTime": {
     "end_time": "2021-12-01T08:08:21.481387Z",
     "start_time": "2021-12-01T08:08:21.278488Z"
    }
   },
   "outputs": [
    {
     "data": {
      "image/png": "[encoded data removed]",
      "text/plain": [
       "<Figure size 432x288 with 1 Axes>"
      ]
     },
     "metadata": {
      "needs_background": "light"
     },
     "output_type": "display_data"
    }
   ],
   "source": [
    "# jupyter notebook 내 그래프를 바로 그리기 위한 설정\n",
    "%matplotlib inline\n",
    "plt.rc('font', family='malgun gothic') # 그래프에서 한글 깨지는 현상 방지\n",
    "plt.rcParams['axes.unicode_minus']=False #음수 부호 깨짐 방지\n",
    "wc11 = wc.sort_values('빈도', ascending=False).head(11)\n",
    "sns.barplot(wc11['빈도'],wc11['단어'])\n",
    "\n",
    "sns.set(rc={'figure.figsize':(20,20)}) # , font='NanumBarunGothic.ttf'"
   ]
  },
  {
   "cell_type": "markdown",
   "id": "3f670885",
   "metadata": {},
   "source": [
    "## 연도 칼럼 추가"
   ]
  },
  {
   "cell_type": "code",
   "execution_count": 44,
   "id": "62ae9549",
   "metadata": {
    "ExecuteTime": {
     "end_time": "2021-12-01T08:09:32.427019Z",
     "start_time": "2021-12-01T08:09:32.405718Z"
    }
   },
   "outputs": [
    {
     "data": {
      "text/html": [
       "<div>\n",
       "<style scoped>\n",
       "    .dataframe tbody tr th:only-of-type {\n",
       "        vertical-align: middle;\n",
       "    }\n",
       "\n",
       "    .dataframe tbody tr th {\n",
       "        vertical-align: top;\n",
       "    }\n",
       "\n",
       "    .dataframe thead th {\n",
       "        text-align: right;\n",
       "    }\n",
       "</style>\n",
       "<table border=\"1\" class=\"dataframe\">\n",
       "  <thead>\n",
       "    <tr style=\"text-align: right;\">\n",
       "      <th></th>\n",
       "      <th>단어</th>\n",
       "      <th>빈도</th>\n",
       "      <th>year</th>\n",
       "    </tr>\n",
       "  </thead>\n",
       "  <tbody>\n",
       "    <tr>\n",
       "      <th>2399</th>\n",
       "      <td>사랑</td>\n",
       "      <td>661</td>\n",
       "      <td>2020y</td>\n",
       "    </tr>\n",
       "    <tr>\n",
       "      <th>424</th>\n",
       "      <td>그대</td>\n",
       "      <td>465</td>\n",
       "      <td>2020y</td>\n",
       "    </tr>\n",
       "    <tr>\n",
       "      <th>2745</th>\n",
       "      <td>시간</td>\n",
       "      <td>402</td>\n",
       "      <td>2020y</td>\n",
       "    </tr>\n",
       "    <tr>\n",
       "      <th>1445</th>\n",
       "      <td>마음</td>\n",
       "      <td>364</td>\n",
       "      <td>2020y</td>\n",
       "    </tr>\n",
       "    <tr>\n",
       "      <th>4283</th>\n",
       "      <td>지금</td>\n",
       "      <td>333</td>\n",
       "      <td>2020y</td>\n",
       "    </tr>\n",
       "    <tr>\n",
       "      <th>3467</th>\n",
       "      <td>오늘</td>\n",
       "      <td>325</td>\n",
       "      <td>2020y</td>\n",
       "    </tr>\n",
       "    <tr>\n",
       "      <th>2499</th>\n",
       "      <td>생각</td>\n",
       "      <td>292</td>\n",
       "      <td>2020y</td>\n",
       "    </tr>\n",
       "    <tr>\n",
       "      <th>2397</th>\n",
       "      <td>사람</td>\n",
       "      <td>265</td>\n",
       "      <td>2020y</td>\n",
       "    </tr>\n",
       "    <tr>\n",
       "      <th>533</th>\n",
       "      <td>기억</td>\n",
       "      <td>238</td>\n",
       "      <td>2020y</td>\n",
       "    </tr>\n",
       "    <tr>\n",
       "      <th>2671</th>\n",
       "      <td>순간</td>\n",
       "      <td>226</td>\n",
       "      <td>2020y</td>\n",
       "    </tr>\n",
       "    <tr>\n",
       "      <th>4764</th>\n",
       "      <td>하루</td>\n",
       "      <td>220</td>\n",
       "      <td>2020y</td>\n",
       "    </tr>\n",
       "  </tbody>\n",
       "</table>\n",
       "</div>"
      ],
      "text/plain": [
       "      단어   빈도   year\n",
       "2399  사랑  661  2020y\n",
       "424   그대  465  2020y\n",
       "2745  시간  402  2020y\n",
       "1445  마음  364  2020y\n",
       "4283  지금  333  2020y\n",
       "3467  오늘  325  2020y\n",
       "2499  생각  292  2020y\n",
       "2397  사람  265  2020y\n",
       "533   기억  238  2020y\n",
       "2671  순간  226  2020y\n",
       "4764  하루  220  2020y"
      ]
     },
     "execution_count": 44,
     "metadata": {},
     "output_type": "execute_result"
    }
   ],
   "source": [
    "# 1990 Top11 words\n",
    "wc11['year'] = '2020y'\n",
    "wc2020 = wc11\n",
    "wc2020"
   ]
  },
  {
   "cell_type": "markdown",
   "id": "1eaef485",
   "metadata": {},
   "source": [
    "---"
   ]
  },
  {
   "cell_type": "markdown",
   "id": "5c2df0dd",
   "metadata": {},
   "source": [
    "## 2021 년도"
   ]
  },
  {
   "cell_type": "code",
   "execution_count": 45,
   "id": "55089283",
   "metadata": {
    "ExecuteTime": {
     "end_time": "2021-12-01T08:09:47.710798Z",
     "start_time": "2021-12-01T08:09:47.694726Z"
    }
   },
   "outputs": [
    {
     "data": {
      "text/html": [
       "<div>\n",
       "<style scoped>\n",
       "    .dataframe tbody tr th:only-of-type {\n",
       "        vertical-align: middle;\n",
       "    }\n",
       "\n",
       "    .dataframe tbody tr th {\n",
       "        vertical-align: top;\n",
       "    }\n",
       "\n",
       "    .dataframe thead th {\n",
       "        text-align: right;\n",
       "    }\n",
       "</style>\n",
       "<table border=\"1\" class=\"dataframe\">\n",
       "  <thead>\n",
       "    <tr style=\"text-align: right;\">\n",
       "      <th></th>\n",
       "      <th>song_id</th>\n",
       "      <th>song_name</th>\n",
       "      <th>artist</th>\n",
       "      <th>album</th>\n",
       "      <th>Like_Count</th>\n",
       "      <th>Lyric</th>\n",
       "      <th>cover_url</th>\n",
       "      <th>tags</th>\n",
       "      <th>year</th>\n",
       "    </tr>\n",
       "  </thead>\n",
       "  <tbody>\n",
       "    <tr>\n",
       "      <th>16</th>\n",
       "      <td>30210331</td>\n",
       "      <td>상상더하기</td>\n",
       "      <td>라붐(LABOUM)</td>\n",
       "      <td>Fresh Adventure</td>\n",
       "      <td>12992</td>\n",
       "      <td>지금 나와 어디든 가자   지루한 하루 여기까지만    작은 가방 운동화 챙겨   ...</td>\n",
       "      <td>https://image.bugsm.co.kr/album/images/200/200...</td>\n",
       "      <td>['국내', '가요', '여름', '여성보컬', 'KPOP', '아이돌']</td>\n",
       "      <td>2021y</td>\n",
       "    </tr>\n",
       "    <tr>\n",
       "      <th>18</th>\n",
       "      <td>6065263</td>\n",
       "      <td>Celebrity</td>\n",
       "      <td>아이유(IU)</td>\n",
       "      <td>IU 5th Album 'LILAC'</td>\n",
       "      <td>12852</td>\n",
       "      <td>세상의 모서리  구부정하게 커버린  골칫거리   걸음걸이 옷차림  이어폰 너머   ...</td>\n",
       "      <td>https://image.bugsm.co.kr/album/images/200/402...</td>\n",
       "      <td>['국내', '100시리즈', '2021년', '2021 뮤직PD 선곡 TOP100']</td>\n",
       "      <td>2021y</td>\n",
       "    </tr>\n",
       "  </tbody>\n",
       "</table>\n",
       "</div>"
      ],
      "text/plain": [
       "     song_id  song_name      artist                 album  Like_Count  \\\n",
       "16  30210331      상상더하기  라붐(LABOUM)       Fresh Adventure       12992   \n",
       "18   6065263  Celebrity     아이유(IU)  IU 5th Album 'LILAC'       12852   \n",
       "\n",
       "                                                Lyric  \\\n",
       "16  지금 나와 어디든 가자   지루한 하루 여기까지만    작은 가방 운동화 챙겨   ...   \n",
       "18  세상의 모서리  구부정하게 커버린  골칫거리   걸음걸이 옷차림  이어폰 너머   ...   \n",
       "\n",
       "                                            cover_url  \\\n",
       "16  https://image.bugsm.co.kr/album/images/200/200...   \n",
       "18  https://image.bugsm.co.kr/album/images/200/402...   \n",
       "\n",
       "                                                tags   year  \n",
       "16         ['국내', '가요', '여름', '여성보컬', 'KPOP', '아이돌']  2021y  \n",
       "18  ['국내', '100시리즈', '2021년', '2021 뮤직PD 선곡 TOP100']  2021y  "
      ]
     },
     "execution_count": 45,
     "metadata": {},
     "output_type": "execute_result"
    }
   ],
   "source": [
    "# like count 정렬 맞는지 다시 확인\n",
    "sort_like2021.head(2)"
   ]
  },
  {
   "cell_type": "code",
   "execution_count": 46,
   "id": "36074f83",
   "metadata": {
    "ExecuteTime": {
     "end_time": "2021-12-01T08:09:58.357599Z",
     "start_time": "2021-12-01T08:09:58.343603Z"
    }
   },
   "outputs": [],
   "source": [
    "lyric2021 = sort_like2021.Lyric"
   ]
  },
  {
   "cell_type": "code",
   "execution_count": 47,
   "id": "c7ab0a7b",
   "metadata": {
    "ExecuteTime": {
     "end_time": "2021-12-01T08:10:12.994896Z",
     "start_time": "2021-12-01T08:10:01.581653Z"
    }
   },
   "outputs": [],
   "source": [
    "tagging_okt = []\n",
    "for i in lyric2021:\n",
    "    tag_word = okt.pos(i)\n",
    "    tagging_okt.append(tag_word)"
   ]
  },
  {
   "cell_type": "code",
   "execution_count": 48,
   "id": "34e0885c",
   "metadata": {
    "ExecuteTime": {
     "end_time": "2021-12-01T08:10:13.470867Z",
     "start_time": "2021-12-01T08:10:13.424863Z"
    }
   },
   "outputs": [],
   "source": [
    "corpus = []\n",
    "for song in tagging_okt:\n",
    "    for word in song:\n",
    "        if (word[1] == 'Adjective') or (word[1] =='Noun') or (word[1] =='Verb'):\n",
    "            corpus.append(word[0])"
   ]
  },
  {
   "cell_type": "code",
   "execution_count": 49,
   "id": "9496bff1",
   "metadata": {
    "ExecuteTime": {
     "end_time": "2021-12-01T08:10:13.805423Z",
     "start_time": "2021-12-01T08:10:13.775426Z"
    }
   },
   "outputs": [],
   "source": [
    "word_dict = {}\n",
    "for i in corpus:\n",
    "    if i in word_dict:\n",
    "        word_dict[i] += 1\n",
    "    else: \n",
    "        word_dict[i] = 1\n",
    "        \n",
    "# print(word_dict)"
   ]
  },
  {
   "cell_type": "code",
   "execution_count": 50,
   "id": "a699af2c",
   "metadata": {
    "ExecuteTime": {
     "end_time": "2021-12-01T08:10:14.440563Z",
     "start_time": "2021-12-01T08:10:14.108563Z"
    }
   },
   "outputs": [
    {
     "name": "stdout",
     "output_type": "stream",
     "text": [
      "(92214, 5000)\n",
      "5000\n"
     ]
    }
   ],
   "source": [
    "cv = CountVectorizer(max_features=5000, stop_words=stop_w) \n",
    "tdm = cv.fit_transform(corpus)\n",
    "\n",
    "# tdm.shape\n",
    "# len(cv.get_feature_names())\n",
    "print(tdm.shape)\n",
    "print(len(cv.get_feature_names()))"
   ]
  },
  {
   "cell_type": "code",
   "execution_count": 51,
   "id": "75ed5133",
   "metadata": {
    "ExecuteTime": {
     "end_time": "2021-12-01T08:10:14.757578Z",
     "start_time": "2021-12-01T08:10:14.743926Z"
    }
   },
   "outputs": [
    {
     "data": {
      "text/plain": [
       "['가게', '가고', '가기', '가길', '가까울', '가까워', '가까워져', '가까워진', '가까이', '가끔']"
      ]
     },
     "execution_count": 51,
     "metadata": {},
     "output_type": "execute_result"
    }
   ],
   "source": [
    "cv.get_feature_names()[:10]"
   ]
  },
  {
   "cell_type": "code",
   "execution_count": 52,
   "id": "0f30ebdc",
   "metadata": {
    "ExecuteTime": {
     "end_time": "2021-12-01T08:10:15.104893Z",
     "start_time": "2021-12-01T08:10:15.075914Z"
    }
   },
   "outputs": [
    {
     "data": {
      "text/html": [
       "<div>\n",
       "<style scoped>\n",
       "    .dataframe tbody tr th:only-of-type {\n",
       "        vertical-align: middle;\n",
       "    }\n",
       "\n",
       "    .dataframe tbody tr th {\n",
       "        vertical-align: top;\n",
       "    }\n",
       "\n",
       "    .dataframe thead th {\n",
       "        text-align: right;\n",
       "    }\n",
       "</style>\n",
       "<table border=\"1\" class=\"dataframe\">\n",
       "  <thead>\n",
       "    <tr style=\"text-align: right;\">\n",
       "      <th></th>\n",
       "      <th>단어</th>\n",
       "      <th>빈도</th>\n",
       "    </tr>\n",
       "  </thead>\n",
       "  <tbody>\n",
       "    <tr>\n",
       "      <th>2387</th>\n",
       "      <td>사랑</td>\n",
       "      <td>754</td>\n",
       "    </tr>\n",
       "    <tr>\n",
       "      <th>2735</th>\n",
       "      <td>시간</td>\n",
       "      <td>389</td>\n",
       "    </tr>\n",
       "    <tr>\n",
       "      <th>1489</th>\n",
       "      <td>마음</td>\n",
       "      <td>353</td>\n",
       "    </tr>\n",
       "    <tr>\n",
       "      <th>385</th>\n",
       "      <td>그대</td>\n",
       "      <td>315</td>\n",
       "    </tr>\n",
       "    <tr>\n",
       "      <th>2479</th>\n",
       "      <td>생각</td>\n",
       "      <td>312</td>\n",
       "    </tr>\n",
       "    <tr>\n",
       "      <th>4203</th>\n",
       "      <td>지금</td>\n",
       "      <td>293</td>\n",
       "    </tr>\n",
       "    <tr>\n",
       "      <th>480</th>\n",
       "      <td>기억</td>\n",
       "      <td>281</td>\n",
       "    </tr>\n",
       "    <tr>\n",
       "      <th>2384</th>\n",
       "      <td>사람</td>\n",
       "      <td>232</td>\n",
       "    </tr>\n",
       "    <tr>\n",
       "      <th>3377</th>\n",
       "      <td>오늘</td>\n",
       "      <td>226</td>\n",
       "    </tr>\n",
       "    <tr>\n",
       "      <th>2660</th>\n",
       "      <td>순간</td>\n",
       "      <td>209</td>\n",
       "    </tr>\n",
       "    <tr>\n",
       "      <th>129</th>\n",
       "      <td>같은</td>\n",
       "      <td>200</td>\n",
       "    </tr>\n",
       "    <tr>\n",
       "      <th>2577</th>\n",
       "      <td>세상</td>\n",
       "      <td>184</td>\n",
       "    </tr>\n",
       "    <tr>\n",
       "      <th>4741</th>\n",
       "      <td>하루</td>\n",
       "      <td>181</td>\n",
       "    </tr>\n",
       "    <tr>\n",
       "      <th>1659</th>\n",
       "      <td>모두</td>\n",
       "      <td>179</td>\n",
       "    </tr>\n",
       "    <tr>\n",
       "      <th>1590</th>\n",
       "      <td>매일</td>\n",
       "      <td>172</td>\n",
       "    </tr>\n",
       "    <tr>\n",
       "      <th>3130</th>\n",
       "      <td>어디</td>\n",
       "      <td>164</td>\n",
       "    </tr>\n",
       "    <tr>\n",
       "      <th>4912</th>\n",
       "      <td>혼자</td>\n",
       "      <td>159</td>\n",
       "    </tr>\n",
       "    <tr>\n",
       "      <th>1619</th>\n",
       "      <td>멀리</td>\n",
       "      <td>152</td>\n",
       "    </tr>\n",
       "    <tr>\n",
       "      <th>901</th>\n",
       "      <td>눈물</td>\n",
       "      <td>150</td>\n",
       "    </tr>\n",
       "    <tr>\n",
       "      <th>2400</th>\n",
       "      <td>사이</td>\n",
       "      <td>140</td>\n",
       "    </tr>\n",
       "    <tr>\n",
       "      <th>3585</th>\n",
       "      <td>위로</td>\n",
       "      <td>132</td>\n",
       "    </tr>\n",
       "    <tr>\n",
       "      <th>4047</th>\n",
       "      <td>조금</td>\n",
       "      <td>130</td>\n",
       "    </tr>\n",
       "    <tr>\n",
       "      <th>389</th>\n",
       "      <td>그때</td>\n",
       "      <td>129</td>\n",
       "    </tr>\n",
       "    <tr>\n",
       "      <th>2924</th>\n",
       "      <td>아무</td>\n",
       "      <td>128</td>\n",
       "    </tr>\n",
       "    <tr>\n",
       "      <th>1675</th>\n",
       "      <td>모습</td>\n",
       "      <td>128</td>\n",
       "    </tr>\n",
       "    <tr>\n",
       "      <th>4732</th>\n",
       "      <td>하늘</td>\n",
       "      <td>125</td>\n",
       "    </tr>\n",
       "    <tr>\n",
       "      <th>651</th>\n",
       "      <td>나도</td>\n",
       "      <td>125</td>\n",
       "    </tr>\n",
       "    <tr>\n",
       "      <th>830</th>\n",
       "      <td>노래</td>\n",
       "      <td>123</td>\n",
       "    </tr>\n",
       "    <tr>\n",
       "      <th>1847</th>\n",
       "      <td>바람</td>\n",
       "      <td>123</td>\n",
       "    </tr>\n",
       "    <tr>\n",
       "      <th>966</th>\n",
       "      <td>다른</td>\n",
       "      <td>120</td>\n",
       "    </tr>\n",
       "  </tbody>\n",
       "</table>\n",
       "</div>"
      ],
      "text/plain": [
       "      단어   빈도\n",
       "2387  사랑  754\n",
       "2735  시간  389\n",
       "1489  마음  353\n",
       "385   그대  315\n",
       "2479  생각  312\n",
       "4203  지금  293\n",
       "480   기억  281\n",
       "2384  사람  232\n",
       "3377  오늘  226\n",
       "2660  순간  209\n",
       "129   같은  200\n",
       "2577  세상  184\n",
       "4741  하루  181\n",
       "1659  모두  179\n",
       "1590  매일  172\n",
       "3130  어디  164\n",
       "4912  혼자  159\n",
       "1619  멀리  152\n",
       "901   눈물  150\n",
       "2400  사이  140\n",
       "3585  위로  132\n",
       "4047  조금  130\n",
       "389   그때  129\n",
       "2924  아무  128\n",
       "1675  모습  128\n",
       "4732  하늘  125\n",
       "651   나도  125\n",
       "830   노래  123\n",
       "1847  바람  123\n",
       "966   다른  120"
      ]
     },
     "execution_count": 52,
     "metadata": {},
     "output_type": "execute_result"
    }
   ],
   "source": [
    "wc = pd.DataFrame({\n",
    "    '단어': cv.get_feature_names(),\n",
    "    '빈도': tdm.sum(axis=0).flat\n",
    "})\n",
    "\n",
    "wc.sort_values('빈도', ascending=False).head(30)"
   ]
  },
  {
   "cell_type": "code",
   "execution_count": 53,
   "id": "70a0fd1b",
   "metadata": {
    "ExecuteTime": {
     "end_time": "2021-12-01T08:10:16.388327Z",
     "start_time": "2021-12-01T08:10:15.440624Z"
    }
   },
   "outputs": [
    {
     "data": {
      "image/png": "[encoded data removed]",
      "text/plain": [
       "<PIL.Image.Image image mode=RGB size=400x300 at 0x1FDABF664C0>"
      ]
     },
     "execution_count": 53,
     "metadata": {},
     "output_type": "execute_result"
    }
   ],
   "source": [
    "WC = WordCloud(font_path='NanumBarunGothic.ttf' ,background_color='white', width=400, height=300)\n",
    "count_dic = wc.set_index('단어')['빈도'].to_dict()\n",
    "# count_dic\n",
    "cloud = WC.generate_from_frequencies(count_dic)\n",
    "cloud.to_image()"
   ]
  },
  {
   "cell_type": "code",
   "execution_count": 54,
   "id": "98b62007",
   "metadata": {
    "ExecuteTime": {
     "end_time": "2021-12-01T08:10:17.087105Z",
     "start_time": "2021-12-01T08:10:16.850520Z"
    }
   },
   "outputs": [
    {
     "data": {
      "image/png": "[encoded data removed]",
      "text/plain": [
       "<Figure size 432x288 with 1 Axes>"
      ]
     },
     "metadata": {
      "needs_background": "light"
     },
     "output_type": "display_data"
    }
   ],
   "source": [
    "# jupyter notebook 내 그래프를 바로 그리기 위한 설정\n",
    "%matplotlib inline\n",
    "plt.rc('font', family='malgun gothic') # 그래프에서 한글 깨지는 현상 방지\n",
    "plt.rcParams['axes.unicode_minus']=False #음수 부호 깨짐 방지\n",
    "wc11 = wc.sort_values('빈도', ascending=False).head(11)\n",
    "sns.barplot(wc11['빈도'],wc11['단어'])\n",
    "\n",
    "sns.set(rc={'figure.figsize':(20,20)}) # , font='NanumBarunGothic.ttf'"
   ]
  },
  {
   "cell_type": "code",
   "execution_count": 55,
   "id": "23569e49",
   "metadata": {
    "ExecuteTime": {
     "end_time": "2021-12-01T08:10:29.488131Z",
     "start_time": "2021-12-01T08:10:29.474135Z"
    }
   },
   "outputs": [
    {
     "data": {
      "text/html": [
       "<div>\n",
       "<style scoped>\n",
       "    .dataframe tbody tr th:only-of-type {\n",
       "        vertical-align: middle;\n",
       "    }\n",
       "\n",
       "    .dataframe tbody tr th {\n",
       "        vertical-align: top;\n",
       "    }\n",
       "\n",
       "    .dataframe thead th {\n",
       "        text-align: right;\n",
       "    }\n",
       "</style>\n",
       "<table border=\"1\" class=\"dataframe\">\n",
       "  <thead>\n",
       "    <tr style=\"text-align: right;\">\n",
       "      <th></th>\n",
       "      <th>단어</th>\n",
       "      <th>빈도</th>\n",
       "      <th>year</th>\n",
       "    </tr>\n",
       "  </thead>\n",
       "  <tbody>\n",
       "    <tr>\n",
       "      <th>2387</th>\n",
       "      <td>사랑</td>\n",
       "      <td>754</td>\n",
       "      <td>2021y</td>\n",
       "    </tr>\n",
       "    <tr>\n",
       "      <th>2735</th>\n",
       "      <td>시간</td>\n",
       "      <td>389</td>\n",
       "      <td>2021y</td>\n",
       "    </tr>\n",
       "    <tr>\n",
       "      <th>1489</th>\n",
       "      <td>마음</td>\n",
       "      <td>353</td>\n",
       "      <td>2021y</td>\n",
       "    </tr>\n",
       "    <tr>\n",
       "      <th>385</th>\n",
       "      <td>그대</td>\n",
       "      <td>315</td>\n",
       "      <td>2021y</td>\n",
       "    </tr>\n",
       "    <tr>\n",
       "      <th>2479</th>\n",
       "      <td>생각</td>\n",
       "      <td>312</td>\n",
       "      <td>2021y</td>\n",
       "    </tr>\n",
       "    <tr>\n",
       "      <th>4203</th>\n",
       "      <td>지금</td>\n",
       "      <td>293</td>\n",
       "      <td>2021y</td>\n",
       "    </tr>\n",
       "    <tr>\n",
       "      <th>480</th>\n",
       "      <td>기억</td>\n",
       "      <td>281</td>\n",
       "      <td>2021y</td>\n",
       "    </tr>\n",
       "    <tr>\n",
       "      <th>2384</th>\n",
       "      <td>사람</td>\n",
       "      <td>232</td>\n",
       "      <td>2021y</td>\n",
       "    </tr>\n",
       "    <tr>\n",
       "      <th>3377</th>\n",
       "      <td>오늘</td>\n",
       "      <td>226</td>\n",
       "      <td>2021y</td>\n",
       "    </tr>\n",
       "    <tr>\n",
       "      <th>2660</th>\n",
       "      <td>순간</td>\n",
       "      <td>209</td>\n",
       "      <td>2021y</td>\n",
       "    </tr>\n",
       "    <tr>\n",
       "      <th>129</th>\n",
       "      <td>같은</td>\n",
       "      <td>200</td>\n",
       "      <td>2021y</td>\n",
       "    </tr>\n",
       "  </tbody>\n",
       "</table>\n",
       "</div>"
      ],
      "text/plain": [
       "      단어   빈도   year\n",
       "2387  사랑  754  2021y\n",
       "2735  시간  389  2021y\n",
       "1489  마음  353  2021y\n",
       "385   그대  315  2021y\n",
       "2479  생각  312  2021y\n",
       "4203  지금  293  2021y\n",
       "480   기억  281  2021y\n",
       "2384  사람  232  2021y\n",
       "3377  오늘  226  2021y\n",
       "2660  순간  209  2021y\n",
       "129   같은  200  2021y"
      ]
     },
     "execution_count": 55,
     "metadata": {},
     "output_type": "execute_result"
    }
   ],
   "source": [
    "# 2000 Top11 words\n",
    "wc11['year'] = '2021y'\n",
    "wc2021 = wc11\n",
    "wc2021"
   ]
  },
  {
   "cell_type": "markdown",
   "id": "741c08df",
   "metadata": {},
   "source": [
    "### 연대별 단어 Top11 append\n",
    "* 1990년대 11개 + 2000년대 11개 + 2010년대 11개 + 2020년도 11개 + 2021년도 11개"
   ]
  },
  {
   "cell_type": "code",
   "execution_count": 58,
   "id": "91cb0fd3",
   "metadata": {
    "ExecuteTime": {
     "end_time": "2021-12-01T08:17:00.727824Z",
     "start_time": "2021-12-01T08:17:00.712820Z"
    }
   },
   "outputs": [],
   "source": [
    "top11 = pd.read_csv('top11.csv')\n",
    "top11 = top11.append(wc2020)\n",
    "top11 = top11.append(wc2021)"
   ]
  },
  {
   "cell_type": "code",
   "execution_count": 60,
   "id": "965928ff",
   "metadata": {
    "ExecuteTime": {
     "end_time": "2021-12-01T08:17:48.989666Z",
     "start_time": "2021-12-01T08:17:48.962882Z"
    },
    "scrolled": true
   },
   "outputs": [
    {
     "data": {
      "text/html": [
       "<div>\n",
       "<style scoped>\n",
       "    .dataframe tbody tr th:only-of-type {\n",
       "        vertical-align: middle;\n",
       "    }\n",
       "\n",
       "    .dataframe tbody tr th {\n",
       "        vertical-align: top;\n",
       "    }\n",
       "\n",
       "    .dataframe thead th {\n",
       "        text-align: right;\n",
       "    }\n",
       "</style>\n",
       "<table border=\"1\" class=\"dataframe\">\n",
       "  <thead>\n",
       "    <tr style=\"text-align: right;\">\n",
       "      <th></th>\n",
       "      <th>단어</th>\n",
       "      <th>빈도</th>\n",
       "      <th>year</th>\n",
       "    </tr>\n",
       "  </thead>\n",
       "  <tbody>\n",
       "    <tr>\n",
       "      <th>0</th>\n",
       "      <td>사랑</td>\n",
       "      <td>1417</td>\n",
       "      <td>1990y</td>\n",
       "    </tr>\n",
       "    <tr>\n",
       "      <th>1</th>\n",
       "      <td>그대</td>\n",
       "      <td>756</td>\n",
       "      <td>1990y</td>\n",
       "    </tr>\n",
       "    <tr>\n",
       "      <th>2</th>\n",
       "      <td>마음</td>\n",
       "      <td>437</td>\n",
       "      <td>1990y</td>\n",
       "    </tr>\n",
       "  </tbody>\n",
       "</table>\n",
       "</div>"
      ],
      "text/plain": [
       "   단어    빈도   year\n",
       "0  사랑  1417  1990y\n",
       "1  그대   756  1990y\n",
       "2  마음   437  1990y"
      ]
     },
     "metadata": {},
     "output_type": "display_data"
    },
    {
     "data": {
      "text/html": [
       "<div>\n",
       "<style scoped>\n",
       "    .dataframe tbody tr th:only-of-type {\n",
       "        vertical-align: middle;\n",
       "    }\n",
       "\n",
       "    .dataframe tbody tr th {\n",
       "        vertical-align: top;\n",
       "    }\n",
       "\n",
       "    .dataframe thead th {\n",
       "        text-align: right;\n",
       "    }\n",
       "</style>\n",
       "<table border=\"1\" class=\"dataframe\">\n",
       "  <thead>\n",
       "    <tr style=\"text-align: right;\">\n",
       "      <th></th>\n",
       "      <th>단어</th>\n",
       "      <th>빈도</th>\n",
       "      <th>year</th>\n",
       "    </tr>\n",
       "  </thead>\n",
       "  <tbody>\n",
       "    <tr>\n",
       "      <th>52</th>\n",
       "      <td>오늘</td>\n",
       "      <td>226</td>\n",
       "      <td>2021y</td>\n",
       "    </tr>\n",
       "    <tr>\n",
       "      <th>53</th>\n",
       "      <td>순간</td>\n",
       "      <td>209</td>\n",
       "      <td>2021y</td>\n",
       "    </tr>\n",
       "    <tr>\n",
       "      <th>54</th>\n",
       "      <td>같은</td>\n",
       "      <td>200</td>\n",
       "      <td>2021y</td>\n",
       "    </tr>\n",
       "  </tbody>\n",
       "</table>\n",
       "</div>"
      ],
      "text/plain": [
       "    단어   빈도   year\n",
       "52  오늘  226  2021y\n",
       "53  순간  209  2021y\n",
       "54  같은  200  2021y"
      ]
     },
     "metadata": {},
     "output_type": "display_data"
    }
   ],
   "source": [
    "top11.reset_index(drop=True,inplace=True)\n",
    "display(top11.head(3),top11.tail(3))"
   ]
  },
  {
   "cell_type": "code",
   "execution_count": 61,
   "id": "474f064d",
   "metadata": {
    "ExecuteTime": {
     "end_time": "2021-12-01T08:18:01.605320Z",
     "start_time": "2021-12-01T08:18:01.594944Z"
    }
   },
   "outputs": [
    {
     "data": {
      "text/plain": [
       "55"
      ]
     },
     "execution_count": 61,
     "metadata": {},
     "output_type": "execute_result"
    }
   ],
   "source": [
    "len(top11) "
   ]
  },
  {
   "cell_type": "code",
   "execution_count": 62,
   "id": "1c9ff32a",
   "metadata": {
    "ExecuteTime": {
     "end_time": "2021-12-01T08:18:40.099856Z",
     "start_time": "2021-12-01T08:18:40.084856Z"
    }
   },
   "outputs": [],
   "source": [
    "top11.to_csv('top11.csv',index=False)"
   ]
  },
  {
   "cell_type": "markdown",
   "id": "9a6a37e8",
   "metadata": {},
   "source": [
    "---"
   ]
  },
  {
   "cell_type": "markdown",
   "id": "a03c63e9",
   "metadata": {},
   "source": [
    "### 해당 연대의 모든 곡이 아닌, Like Count 기반 Top100 곡만을 선정하여 주요 키워드를 파악한다면?"
   ]
  },
  {
   "cell_type": "markdown",
   "id": "3ae0ff7d",
   "metadata": {},
   "source": [
    "## 2020년도"
   ]
  },
  {
   "cell_type": "code",
   "execution_count": 63,
   "id": "93b0ac9d",
   "metadata": {
    "ExecuteTime": {
     "end_time": "2021-12-01T08:18:59.759566Z",
     "start_time": "2021-12-01T08:18:59.739563Z"
    }
   },
   "outputs": [
    {
     "data": {
      "text/plain": [
       "612"
      ]
     },
     "execution_count": 63,
     "metadata": {},
     "output_type": "execute_result"
    }
   ],
   "source": [
    "len(sort_like2020)"
   ]
  },
  {
   "cell_type": "code",
   "execution_count": 64,
   "id": "2a8ecf6c",
   "metadata": {
    "ExecuteTime": {
     "end_time": "2021-12-01T08:19:16.942903Z",
     "start_time": "2021-12-01T08:19:16.926763Z"
    }
   },
   "outputs": [],
   "source": [
    "sort_like2020 = sort_like2020.head(100)\n",
    "lyric2020 = sort_like2020.Lyric"
   ]
  },
  {
   "cell_type": "code",
   "execution_count": 65,
   "id": "1e38fe0e",
   "metadata": {
    "ExecuteTime": {
     "end_time": "2021-12-01T08:19:24.904101Z",
     "start_time": "2021-12-01T08:19:22.871314Z"
    }
   },
   "outputs": [],
   "source": [
    "tagging_okt = []\n",
    "for i in lyric2020:\n",
    "    tag_word = okt.pos(i)\n",
    "    tagging_okt.append(tag_word)\n",
    "    \n",
    "#\n",
    "corpus = []\n",
    "for song in tagging_okt:\n",
    "    for word in song:\n",
    "        if (word[1] == 'Adjective') or (word[1] =='Noun') or (word[1] =='Verb'):\n",
    "            corpus.append(word[0])\n",
    "            \n",
    "#\n",
    "word_dict = {}\n",
    "for i in corpus:\n",
    "    if i in word_dict:\n",
    "        word_dict[i] += 1\n",
    "    else: \n",
    "        word_dict[i] = 1\n",
    "        \n",
    "# print(word_dict)"
   ]
  },
  {
   "cell_type": "code",
   "execution_count": 66,
   "id": "f7a1bc38",
   "metadata": {
    "ExecuteTime": {
     "end_time": "2021-12-01T08:19:27.660216Z",
     "start_time": "2021-12-01T08:19:27.571189Z"
    }
   },
   "outputs": [
    {
     "name": "stdout",
     "output_type": "stream",
     "text": [
      "(15575, 3393)\n",
      "3393\n"
     ]
    },
    {
     "data": {
      "text/plain": [
       "['가게', '가고', '가까워져서', '가까워질수록', '가까이', '가끔', '가나', '가난', '가네', '가는']"
      ]
     },
     "execution_count": 66,
     "metadata": {},
     "output_type": "execute_result"
    }
   ],
   "source": [
    "cv = CountVectorizer(max_features=5000, stop_words=stop_w) \n",
    "tdm = cv.fit_transform(corpus)\n",
    "\n",
    "# tdm.shape\n",
    "# len(cv.get_feature_names())\n",
    "print(tdm.shape)\n",
    "print(len(cv.get_feature_names()))\n",
    "\n",
    "cv.get_feature_names()[:10]"
   ]
  },
  {
   "cell_type": "code",
   "execution_count": 67,
   "id": "860bbbce",
   "metadata": {
    "ExecuteTime": {
     "end_time": "2021-12-01T08:19:30.195784Z",
     "start_time": "2021-12-01T08:19:30.170788Z"
    }
   },
   "outputs": [
    {
     "data": {
      "text/html": [
       "<div>\n",
       "<style scoped>\n",
       "    .dataframe tbody tr th:only-of-type {\n",
       "        vertical-align: middle;\n",
       "    }\n",
       "\n",
       "    .dataframe tbody tr th {\n",
       "        vertical-align: top;\n",
       "    }\n",
       "\n",
       "    .dataframe thead th {\n",
       "        text-align: right;\n",
       "    }\n",
       "</style>\n",
       "<table border=\"1\" class=\"dataframe\">\n",
       "  <thead>\n",
       "    <tr style=\"text-align: right;\">\n",
       "      <th></th>\n",
       "      <th>단어</th>\n",
       "      <th>빈도</th>\n",
       "    </tr>\n",
       "  </thead>\n",
       "  <tbody>\n",
       "    <tr>\n",
       "      <th>1694</th>\n",
       "      <td>사랑</td>\n",
       "      <td>149</td>\n",
       "    </tr>\n",
       "    <tr>\n",
       "      <th>263</th>\n",
       "      <td>그대</td>\n",
       "      <td>114</td>\n",
       "    </tr>\n",
       "    <tr>\n",
       "      <th>1041</th>\n",
       "      <td>마음</td>\n",
       "      <td>71</td>\n",
       "    </tr>\n",
       "    <tr>\n",
       "      <th>1811</th>\n",
       "      <td>세상</td>\n",
       "      <td>64</td>\n",
       "    </tr>\n",
       "    <tr>\n",
       "      <th>2833</th>\n",
       "      <td>지금</td>\n",
       "      <td>59</td>\n",
       "    </tr>\n",
       "    <tr>\n",
       "      <th>1903</th>\n",
       "      <td>시간</td>\n",
       "      <td>56</td>\n",
       "    </tr>\n",
       "    <tr>\n",
       "      <th>1691</th>\n",
       "      <td>사람</td>\n",
       "      <td>50</td>\n",
       "    </tr>\n",
       "    <tr>\n",
       "      <th>555</th>\n",
       "      <td>노래</td>\n",
       "      <td>43</td>\n",
       "    </tr>\n",
       "    <tr>\n",
       "      <th>1758</th>\n",
       "      <td>생각</td>\n",
       "      <td>42</td>\n",
       "    </tr>\n",
       "    <tr>\n",
       "      <th>2191</th>\n",
       "      <td>어떤</td>\n",
       "      <td>39</td>\n",
       "    </tr>\n",
       "    <tr>\n",
       "      <th>2047</th>\n",
       "      <td>아무</td>\n",
       "      <td>39</td>\n",
       "    </tr>\n",
       "    <tr>\n",
       "      <th>1857</th>\n",
       "      <td>순간</td>\n",
       "      <td>38</td>\n",
       "    </tr>\n",
       "    <tr>\n",
       "      <th>2327</th>\n",
       "      <td>오늘</td>\n",
       "      <td>38</td>\n",
       "    </tr>\n",
       "    <tr>\n",
       "      <th>265</th>\n",
       "      <td>그때</td>\n",
       "      <td>34</td>\n",
       "    </tr>\n",
       "    <tr>\n",
       "      <th>2046</th>\n",
       "      <td>아마</td>\n",
       "      <td>34</td>\n",
       "    </tr>\n",
       "    <tr>\n",
       "      <th>1416</th>\n",
       "      <td>버려</td>\n",
       "      <td>31</td>\n",
       "    </tr>\n",
       "    <tr>\n",
       "      <th>2634</th>\n",
       "      <td>자꾸</td>\n",
       "      <td>30</td>\n",
       "    </tr>\n",
       "    <tr>\n",
       "      <th>2186</th>\n",
       "      <td>어디</td>\n",
       "      <td>30</td>\n",
       "    </tr>\n",
       "    <tr>\n",
       "      <th>107</th>\n",
       "      <td>같은</td>\n",
       "      <td>29</td>\n",
       "    </tr>\n",
       "    <tr>\n",
       "      <th>1773</th>\n",
       "      <td>서로</td>\n",
       "      <td>29</td>\n",
       "    </tr>\n",
       "    <tr>\n",
       "      <th>342</th>\n",
       "      <td>기억</td>\n",
       "      <td>29</td>\n",
       "    </tr>\n",
       "    <tr>\n",
       "      <th>1190</th>\n",
       "      <td>모두</td>\n",
       "      <td>29</td>\n",
       "    </tr>\n",
       "    <tr>\n",
       "      <th>1128</th>\n",
       "      <td>매일</td>\n",
       "      <td>27</td>\n",
       "    </tr>\n",
       "    <tr>\n",
       "      <th>1394</th>\n",
       "      <td>발라</td>\n",
       "      <td>26</td>\n",
       "    </tr>\n",
       "    <tr>\n",
       "      <th>444</th>\n",
       "      <td>나도</td>\n",
       "      <td>26</td>\n",
       "    </tr>\n",
       "    <tr>\n",
       "      <th>3187</th>\n",
       "      <td>하루</td>\n",
       "      <td>26</td>\n",
       "    </tr>\n",
       "    <tr>\n",
       "      <th>1133</th>\n",
       "      <td>머리</td>\n",
       "      <td>24</td>\n",
       "    </tr>\n",
       "    <tr>\n",
       "      <th>435</th>\n",
       "      <td>나나</td>\n",
       "      <td>24</td>\n",
       "    </tr>\n",
       "    <tr>\n",
       "      <th>185</th>\n",
       "      <td>계절</td>\n",
       "      <td>23</td>\n",
       "    </tr>\n",
       "    <tr>\n",
       "      <th>1354</th>\n",
       "      <td>바람</td>\n",
       "      <td>23</td>\n",
       "    </tr>\n",
       "  </tbody>\n",
       "</table>\n",
       "</div>"
      ],
      "text/plain": [
       "      단어   빈도\n",
       "1694  사랑  149\n",
       "263   그대  114\n",
       "1041  마음   71\n",
       "1811  세상   64\n",
       "2833  지금   59\n",
       "1903  시간   56\n",
       "1691  사람   50\n",
       "555   노래   43\n",
       "1758  생각   42\n",
       "2191  어떤   39\n",
       "2047  아무   39\n",
       "1857  순간   38\n",
       "2327  오늘   38\n",
       "265   그때   34\n",
       "2046  아마   34\n",
       "1416  버려   31\n",
       "2634  자꾸   30\n",
       "2186  어디   30\n",
       "107   같은   29\n",
       "1773  서로   29\n",
       "342   기억   29\n",
       "1190  모두   29\n",
       "1128  매일   27\n",
       "1394  발라   26\n",
       "444   나도   26\n",
       "3187  하루   26\n",
       "1133  머리   24\n",
       "435   나나   24\n",
       "185   계절   23\n",
       "1354  바람   23"
      ]
     },
     "execution_count": 67,
     "metadata": {},
     "output_type": "execute_result"
    }
   ],
   "source": [
    "wc = pd.DataFrame({\n",
    "    '단어': cv.get_feature_names(),\n",
    "    '빈도': tdm.sum(axis=0).flat\n",
    "})\n",
    "\n",
    "wc.sort_values('빈도', ascending=False).head(30)"
   ]
  },
  {
   "cell_type": "code",
   "execution_count": 68,
   "id": "cac4e72b",
   "metadata": {
    "ExecuteTime": {
     "end_time": "2021-12-01T08:19:34.624269Z",
     "start_time": "2021-12-01T08:19:33.866756Z"
    }
   },
   "outputs": [
    {
     "data": {
      "image/png": "[encoded data removed]",
      "text/plain": [
       "<PIL.Image.Image image mode=RGB size=400x300 at 0x1FDDB6E05E0>"
      ]
     },
     "execution_count": 68,
     "metadata": {},
     "output_type": "execute_result"
    }
   ],
   "source": [
    "WC = WordCloud(font_path='NanumBarunGothic.ttf' ,background_color='white', width=400, height=300)\n",
    "count_dic = wc.set_index('단어')['빈도'].to_dict()\n",
    "# count_dic\n",
    "cloud = WC.generate_from_frequencies(count_dic)\n",
    "cloud.to_image()"
   ]
  },
  {
   "cell_type": "code",
   "execution_count": 69,
   "id": "8629bf46",
   "metadata": {
    "ExecuteTime": {
     "end_time": "2021-12-01T08:19:38.397643Z",
     "start_time": "2021-12-01T08:19:38.127644Z"
    }
   },
   "outputs": [
    {
     "data": {
      "image/png": "[encoded data removed]",
      "text/plain": [
       "<Figure size 432x288 with 1 Axes>"
      ]
     },
     "metadata": {
      "needs_background": "light"
     },
     "output_type": "display_data"
    }
   ],
   "source": [
    "# jupyter notebook 내 그래프를 바로 그리기 위한 설정\n",
    "%matplotlib inline\n",
    "plt.rc('font', family='malgun gothic') # 그래프에서 한글 깨지는 현상 방지\n",
    "plt.rcParams['axes.unicode_minus']=False #음수 부호 깨짐 방지\n",
    "wc11 = wc.sort_values('빈도', ascending=False).head(11)\n",
    "sns.barplot(wc11['빈도'],wc11['단어'])\n",
    "\n",
    "sns.set(rc={'figure.figsize':(20,20)}) # , font='NanumBarunGothic.ttf'"
   ]
  },
  {
   "cell_type": "code",
   "execution_count": 70,
   "id": "e87a2ce1",
   "metadata": {
    "ExecuteTime": {
     "end_time": "2021-12-01T08:19:47.053240Z",
     "start_time": "2021-12-01T08:19:47.040240Z"
    }
   },
   "outputs": [
    {
     "data": {
      "text/html": [
       "<div>\n",
       "<style scoped>\n",
       "    .dataframe tbody tr th:only-of-type {\n",
       "        vertical-align: middle;\n",
       "    }\n",
       "\n",
       "    .dataframe tbody tr th {\n",
       "        vertical-align: top;\n",
       "    }\n",
       "\n",
       "    .dataframe thead th {\n",
       "        text-align: right;\n",
       "    }\n",
       "</style>\n",
       "<table border=\"1\" class=\"dataframe\">\n",
       "  <thead>\n",
       "    <tr style=\"text-align: right;\">\n",
       "      <th></th>\n",
       "      <th>단어</th>\n",
       "      <th>빈도</th>\n",
       "    </tr>\n",
       "  </thead>\n",
       "  <tbody>\n",
       "    <tr>\n",
       "      <th>1694</th>\n",
       "      <td>사랑</td>\n",
       "      <td>149</td>\n",
       "    </tr>\n",
       "    <tr>\n",
       "      <th>263</th>\n",
       "      <td>그대</td>\n",
       "      <td>114</td>\n",
       "    </tr>\n",
       "    <tr>\n",
       "      <th>1041</th>\n",
       "      <td>마음</td>\n",
       "      <td>71</td>\n",
       "    </tr>\n",
       "    <tr>\n",
       "      <th>1811</th>\n",
       "      <td>세상</td>\n",
       "      <td>64</td>\n",
       "    </tr>\n",
       "    <tr>\n",
       "      <th>2833</th>\n",
       "      <td>지금</td>\n",
       "      <td>59</td>\n",
       "    </tr>\n",
       "    <tr>\n",
       "      <th>1903</th>\n",
       "      <td>시간</td>\n",
       "      <td>56</td>\n",
       "    </tr>\n",
       "    <tr>\n",
       "      <th>1691</th>\n",
       "      <td>사람</td>\n",
       "      <td>50</td>\n",
       "    </tr>\n",
       "    <tr>\n",
       "      <th>555</th>\n",
       "      <td>노래</td>\n",
       "      <td>43</td>\n",
       "    </tr>\n",
       "    <tr>\n",
       "      <th>1758</th>\n",
       "      <td>생각</td>\n",
       "      <td>42</td>\n",
       "    </tr>\n",
       "    <tr>\n",
       "      <th>2191</th>\n",
       "      <td>어떤</td>\n",
       "      <td>39</td>\n",
       "    </tr>\n",
       "    <tr>\n",
       "      <th>2047</th>\n",
       "      <td>아무</td>\n",
       "      <td>39</td>\n",
       "    </tr>\n",
       "  </tbody>\n",
       "</table>\n",
       "</div>"
      ],
      "text/plain": [
       "      단어   빈도\n",
       "1694  사랑  149\n",
       "263   그대  114\n",
       "1041  마음   71\n",
       "1811  세상   64\n",
       "2833  지금   59\n",
       "1903  시간   56\n",
       "1691  사람   50\n",
       "555   노래   43\n",
       "1758  생각   42\n",
       "2191  어떤   39\n",
       "2047  아무   39"
      ]
     },
     "execution_count": 70,
     "metadata": {},
     "output_type": "execute_result"
    }
   ],
   "source": [
    "wc2020_100 = wc11 \n",
    "wc2020_100"
   ]
  },
  {
   "cell_type": "markdown",
   "id": "2597b086",
   "metadata": {},
   "source": [
    "---"
   ]
  },
  {
   "cell_type": "markdown",
   "id": "0264de77",
   "metadata": {},
   "source": [
    "## 2021년도"
   ]
  },
  {
   "cell_type": "code",
   "execution_count": 71,
   "id": "a4a336db",
   "metadata": {
    "ExecuteTime": {
     "end_time": "2021-12-01T08:20:06.606168Z",
     "start_time": "2021-12-01T08:20:06.598121Z"
    }
   },
   "outputs": [],
   "source": [
    "sort_like2021 = sort_like2021.head(100)\n",
    "lyric2021 = sort_like2021.Lyric"
   ]
  },
  {
   "cell_type": "code",
   "execution_count": 72,
   "id": "594d1c93",
   "metadata": {
    "ExecuteTime": {
     "end_time": "2021-12-01T08:20:12.686472Z",
     "start_time": "2021-12-01T08:20:10.109563Z"
    }
   },
   "outputs": [],
   "source": [
    "tagging_okt = []\n",
    "for i in lyric2021:\n",
    "    tag_word = okt.pos(i)\n",
    "    tagging_okt.append(tag_word)\n",
    "    \n",
    "#\n",
    "corpus = []\n",
    "for song in tagging_okt:\n",
    "    for word in song:\n",
    "        if (word[1] == 'Adjective') or (word[1] =='Noun') or (word[1] =='Verb'):\n",
    "            corpus.append(word[0])\n",
    "            \n",
    "#\n",
    "word_dict = {}\n",
    "for i in corpus:\n",
    "    if i in word_dict:\n",
    "        word_dict[i] += 1\n",
    "    else: \n",
    "        word_dict[i] = 1\n",
    "        \n",
    "# print(word_dict)"
   ]
  },
  {
   "cell_type": "code",
   "execution_count": 73,
   "id": "175af0db",
   "metadata": {
    "ExecuteTime": {
     "end_time": "2021-12-01T08:20:14.853354Z",
     "start_time": "2021-12-01T08:20:14.757353Z"
    }
   },
   "outputs": [
    {
     "name": "stdout",
     "output_type": "stream",
     "text": [
      "(16333, 3648)\n",
      "3648\n"
     ]
    },
    {
     "data": {
      "text/plain": [
       "['가겠어', '가곤', '가길', '가까워져', '가까워지려', '가까워진', '가까웠던', '가까이', '가꾼', '가끔']"
      ]
     },
     "execution_count": 73,
     "metadata": {},
     "output_type": "execute_result"
    }
   ],
   "source": [
    "cv = CountVectorizer(max_features=5000, stop_words=stop_w) \n",
    "tdm = cv.fit_transform(corpus)\n",
    "\n",
    "# tdm.shape\n",
    "# len(cv.get_feature_names())\n",
    "print(tdm.shape)\n",
    "print(len(cv.get_feature_names()))\n",
    "\n",
    "cv.get_feature_names()[:10]"
   ]
  },
  {
   "cell_type": "code",
   "execution_count": 74,
   "id": "6e8427cc",
   "metadata": {
    "ExecuteTime": {
     "end_time": "2021-12-01T08:20:16.982270Z",
     "start_time": "2021-12-01T08:20:16.958214Z"
    }
   },
   "outputs": [
    {
     "data": {
      "text/html": [
       "<div>\n",
       "<style scoped>\n",
       "    .dataframe tbody tr th:only-of-type {\n",
       "        vertical-align: middle;\n",
       "    }\n",
       "\n",
       "    .dataframe tbody tr th {\n",
       "        vertical-align: top;\n",
       "    }\n",
       "\n",
       "    .dataframe thead th {\n",
       "        text-align: right;\n",
       "    }\n",
       "</style>\n",
       "<table border=\"1\" class=\"dataframe\">\n",
       "  <thead>\n",
       "    <tr style=\"text-align: right;\">\n",
       "      <th></th>\n",
       "      <th>단어</th>\n",
       "      <th>빈도</th>\n",
       "    </tr>\n",
       "  </thead>\n",
       "  <tbody>\n",
       "    <tr>\n",
       "      <th>1841</th>\n",
       "      <td>사랑</td>\n",
       "      <td>159</td>\n",
       "    </tr>\n",
       "    <tr>\n",
       "      <th>2063</th>\n",
       "      <td>시간</td>\n",
       "      <td>68</td>\n",
       "    </tr>\n",
       "    <tr>\n",
       "      <th>1839</th>\n",
       "      <td>사람</td>\n",
       "      <td>63</td>\n",
       "    </tr>\n",
       "    <tr>\n",
       "      <th>1122</th>\n",
       "      <td>마음</td>\n",
       "      <td>58</td>\n",
       "    </tr>\n",
       "    <tr>\n",
       "      <th>1905</th>\n",
       "      <td>생각</td>\n",
       "      <td>55</td>\n",
       "    </tr>\n",
       "    <tr>\n",
       "      <th>361</th>\n",
       "      <td>기억</td>\n",
       "      <td>49</td>\n",
       "    </tr>\n",
       "    <tr>\n",
       "      <th>3040</th>\n",
       "      <td>지금</td>\n",
       "      <td>47</td>\n",
       "    </tr>\n",
       "    <tr>\n",
       "      <th>109</th>\n",
       "      <td>같은</td>\n",
       "      <td>47</td>\n",
       "    </tr>\n",
       "    <tr>\n",
       "      <th>1956</th>\n",
       "      <td>세상</td>\n",
       "      <td>46</td>\n",
       "    </tr>\n",
       "    <tr>\n",
       "      <th>1280</th>\n",
       "      <td>모르겠어</td>\n",
       "      <td>41</td>\n",
       "    </tr>\n",
       "    <tr>\n",
       "      <th>2514</th>\n",
       "      <td>오늘</td>\n",
       "      <td>40</td>\n",
       "    </tr>\n",
       "    <tr>\n",
       "      <th>2938</th>\n",
       "      <td>조금</td>\n",
       "      <td>37</td>\n",
       "    </tr>\n",
       "    <tr>\n",
       "      <th>282</th>\n",
       "      <td>그대</td>\n",
       "      <td>37</td>\n",
       "    </tr>\n",
       "    <tr>\n",
       "      <th>1242</th>\n",
       "      <td>멀리</td>\n",
       "      <td>35</td>\n",
       "    </tr>\n",
       "    <tr>\n",
       "      <th>2357</th>\n",
       "      <td>어디</td>\n",
       "      <td>34</td>\n",
       "    </tr>\n",
       "    <tr>\n",
       "      <th>2025</th>\n",
       "      <td>쉬어</td>\n",
       "      <td>34</td>\n",
       "    </tr>\n",
       "    <tr>\n",
       "      <th>2009</th>\n",
       "      <td>순간</td>\n",
       "      <td>33</td>\n",
       "    </tr>\n",
       "    <tr>\n",
       "      <th>3569</th>\n",
       "      <td>혼자</td>\n",
       "      <td>33</td>\n",
       "    </tr>\n",
       "    <tr>\n",
       "      <th>484</th>\n",
       "      <td>나도</td>\n",
       "      <td>32</td>\n",
       "    </tr>\n",
       "    <tr>\n",
       "      <th>3434</th>\n",
       "      <td>하루</td>\n",
       "      <td>32</td>\n",
       "    </tr>\n",
       "    <tr>\n",
       "      <th>2835</th>\n",
       "      <td>작은</td>\n",
       "      <td>32</td>\n",
       "    </tr>\n",
       "    <tr>\n",
       "      <th>3244</th>\n",
       "      <td>친구</td>\n",
       "      <td>31</td>\n",
       "    </tr>\n",
       "    <tr>\n",
       "      <th>1966</th>\n",
       "      <td>소리</td>\n",
       "      <td>29</td>\n",
       "    </tr>\n",
       "    <tr>\n",
       "      <th>617</th>\n",
       "      <td>노래</td>\n",
       "      <td>27</td>\n",
       "    </tr>\n",
       "    <tr>\n",
       "      <th>2644</th>\n",
       "      <td>위로</td>\n",
       "      <td>27</td>\n",
       "    </tr>\n",
       "    <tr>\n",
       "      <th>662</th>\n",
       "      <td>눈물</td>\n",
       "      <td>27</td>\n",
       "    </tr>\n",
       "    <tr>\n",
       "      <th>287</th>\n",
       "      <td>그래</td>\n",
       "      <td>26</td>\n",
       "    </tr>\n",
       "    <tr>\n",
       "      <th>3187</th>\n",
       "      <td>처음</td>\n",
       "      <td>26</td>\n",
       "    </tr>\n",
       "    <tr>\n",
       "      <th>355</th>\n",
       "      <td>기분</td>\n",
       "      <td>26</td>\n",
       "    </tr>\n",
       "    <tr>\n",
       "      <th>9</th>\n",
       "      <td>가끔</td>\n",
       "      <td>24</td>\n",
       "    </tr>\n",
       "  </tbody>\n",
       "</table>\n",
       "</div>"
      ],
      "text/plain": [
       "        단어   빈도\n",
       "1841    사랑  159\n",
       "2063    시간   68\n",
       "1839    사람   63\n",
       "1122    마음   58\n",
       "1905    생각   55\n",
       "361     기억   49\n",
       "3040    지금   47\n",
       "109     같은   47\n",
       "1956    세상   46\n",
       "1280  모르겠어   41\n",
       "2514    오늘   40\n",
       "2938    조금   37\n",
       "282     그대   37\n",
       "1242    멀리   35\n",
       "2357    어디   34\n",
       "2025    쉬어   34\n",
       "2009    순간   33\n",
       "3569    혼자   33\n",
       "484     나도   32\n",
       "3434    하루   32\n",
       "2835    작은   32\n",
       "3244    친구   31\n",
       "1966    소리   29\n",
       "617     노래   27\n",
       "2644    위로   27\n",
       "662     눈물   27\n",
       "287     그래   26\n",
       "3187    처음   26\n",
       "355     기분   26\n",
       "9       가끔   24"
      ]
     },
     "execution_count": 74,
     "metadata": {},
     "output_type": "execute_result"
    }
   ],
   "source": [
    "wc = pd.DataFrame({\n",
    "    '단어': cv.get_feature_names(),\n",
    "    '빈도': tdm.sum(axis=0).flat\n",
    "})\n",
    "\n",
    "wc.sort_values('빈도', ascending=False).head(30)"
   ]
  },
  {
   "cell_type": "code",
   "execution_count": 75,
   "id": "04417b59",
   "metadata": {
    "ExecuteTime": {
     "end_time": "2021-12-01T08:20:20.799034Z",
     "start_time": "2021-12-01T08:20:19.641794Z"
    }
   },
   "outputs": [
    {
     "data": {
      "image/png": "[encoded data removed]",
      "text/plain": [
       "<PIL.Image.Image image mode=RGB size=400x300 at 0x1FDABF541C0>"
      ]
     },
     "execution_count": 75,
     "metadata": {},
     "output_type": "execute_result"
    }
   ],
   "source": [
    "WC = WordCloud(font_path='NanumBarunGothic.ttf' ,background_color='white', width=400, height=300)\n",
    "count_dic = wc.set_index('단어')['빈도'].to_dict()\n",
    "# count_dic\n",
    "cloud = WC.generate_from_frequencies(count_dic)\n",
    "cloud.to_image()"
   ]
  },
  {
   "cell_type": "code",
   "execution_count": 76,
   "id": "05360fff",
   "metadata": {
    "ExecuteTime": {
     "end_time": "2021-12-01T08:20:26.183732Z",
     "start_time": "2021-12-01T08:20:25.944736Z"
    }
   },
   "outputs": [
    {
     "data": {
      "image/png": "[encoded data removed]",
      "text/plain": [
       "<Figure size 432x288 with 1 Axes>"
      ]
     },
     "metadata": {
      "needs_background": "light"
     },
     "output_type": "display_data"
    }
   ],
   "source": [
    "# jupyter notebook 내 그래프를 바로 그리기 위한 설정\n",
    "%matplotlib inline\n",
    "plt.rc('font', family='malgun gothic') # 그래프에서 한글 깨지는 현상 방지\n",
    "plt.rcParams['axes.unicode_minus']=False #음수 부호 깨짐 방지\n",
    "wc11 = wc.sort_values('빈도', ascending=False).head(11)\n",
    "sns.barplot(wc11['빈도'],wc11['단어'])\n",
    "\n",
    "sns.set(rc={'figure.figsize':(20,20)}) # , font='NanumBarunGothic.ttf'"
   ]
  },
  {
   "cell_type": "code",
   "execution_count": 77,
   "id": "5345dc5e",
   "metadata": {
    "ExecuteTime": {
     "end_time": "2021-12-01T08:20:35.536724Z",
     "start_time": "2021-12-01T08:20:35.513683Z"
    }
   },
   "outputs": [
    {
     "data": {
      "text/html": [
       "<div>\n",
       "<style scoped>\n",
       "    .dataframe tbody tr th:only-of-type {\n",
       "        vertical-align: middle;\n",
       "    }\n",
       "\n",
       "    .dataframe tbody tr th {\n",
       "        vertical-align: top;\n",
       "    }\n",
       "\n",
       "    .dataframe thead th {\n",
       "        text-align: right;\n",
       "    }\n",
       "</style>\n",
       "<table border=\"1\" class=\"dataframe\">\n",
       "  <thead>\n",
       "    <tr style=\"text-align: right;\">\n",
       "      <th></th>\n",
       "      <th>단어</th>\n",
       "      <th>빈도</th>\n",
       "    </tr>\n",
       "  </thead>\n",
       "  <tbody>\n",
       "    <tr>\n",
       "      <th>1841</th>\n",
       "      <td>사랑</td>\n",
       "      <td>159</td>\n",
       "    </tr>\n",
       "    <tr>\n",
       "      <th>2063</th>\n",
       "      <td>시간</td>\n",
       "      <td>68</td>\n",
       "    </tr>\n",
       "    <tr>\n",
       "      <th>1839</th>\n",
       "      <td>사람</td>\n",
       "      <td>63</td>\n",
       "    </tr>\n",
       "    <tr>\n",
       "      <th>1122</th>\n",
       "      <td>마음</td>\n",
       "      <td>58</td>\n",
       "    </tr>\n",
       "    <tr>\n",
       "      <th>1905</th>\n",
       "      <td>생각</td>\n",
       "      <td>55</td>\n",
       "    </tr>\n",
       "    <tr>\n",
       "      <th>361</th>\n",
       "      <td>기억</td>\n",
       "      <td>49</td>\n",
       "    </tr>\n",
       "    <tr>\n",
       "      <th>3040</th>\n",
       "      <td>지금</td>\n",
       "      <td>47</td>\n",
       "    </tr>\n",
       "    <tr>\n",
       "      <th>109</th>\n",
       "      <td>같은</td>\n",
       "      <td>47</td>\n",
       "    </tr>\n",
       "    <tr>\n",
       "      <th>1956</th>\n",
       "      <td>세상</td>\n",
       "      <td>46</td>\n",
       "    </tr>\n",
       "    <tr>\n",
       "      <th>1280</th>\n",
       "      <td>모르겠어</td>\n",
       "      <td>41</td>\n",
       "    </tr>\n",
       "    <tr>\n",
       "      <th>2514</th>\n",
       "      <td>오늘</td>\n",
       "      <td>40</td>\n",
       "    </tr>\n",
       "  </tbody>\n",
       "</table>\n",
       "</div>"
      ],
      "text/plain": [
       "        단어   빈도\n",
       "1841    사랑  159\n",
       "2063    시간   68\n",
       "1839    사람   63\n",
       "1122    마음   58\n",
       "1905    생각   55\n",
       "361     기억   49\n",
       "3040    지금   47\n",
       "109     같은   47\n",
       "1956    세상   46\n",
       "1280  모르겠어   41\n",
       "2514    오늘   40"
      ]
     },
     "execution_count": 77,
     "metadata": {},
     "output_type": "execute_result"
    }
   ],
   "source": [
    "wc2021_100 = wc11 \n",
    "wc2021_100"
   ]
  },
  {
   "cell_type": "markdown",
   "id": "bd379d30",
   "metadata": {},
   "source": [
    "---"
   ]
  },
  {
   "cell_type": "code",
   "execution_count": 78,
   "id": "b41d84d0",
   "metadata": {
    "ExecuteTime": {
     "end_time": "2021-12-01T08:21:06.729133Z",
     "start_time": "2021-12-01T08:21:06.724586Z"
    }
   },
   "outputs": [],
   "source": [
    "# Top11 words\n",
    "wc2020_100['year'] = '2020y'\n",
    "wc2021_100['year'] = '2021y'\n"
   ]
  },
  {
   "cell_type": "code",
   "execution_count": 79,
   "id": "a19edbf6",
   "metadata": {
    "ExecuteTime": {
     "end_time": "2021-12-01T08:21:34.384832Z",
     "start_time": "2021-12-01T08:21:34.366802Z"
    }
   },
   "outputs": [],
   "source": [
    "top11_like100 = pd.read_csv('top11_like100.csv')"
   ]
  },
  {
   "cell_type": "code",
   "execution_count": 80,
   "id": "1c6de30c",
   "metadata": {
    "ExecuteTime": {
     "end_time": "2021-12-01T08:21:53.663707Z",
     "start_time": "2021-12-01T08:21:53.646740Z"
    }
   },
   "outputs": [
    {
     "data": {
      "text/plain": [
       "55"
      ]
     },
     "execution_count": 80,
     "metadata": {},
     "output_type": "execute_result"
    }
   ],
   "source": [
    "top11_like100 = top11_like100.append(wc2020_100)\n",
    "top11_like100 = top11_like100.append(wc2021_100)\n",
    "len(top11_like100)"
   ]
  },
  {
   "cell_type": "code",
   "execution_count": 81,
   "id": "e7d346b8",
   "metadata": {
    "ExecuteTime": {
     "end_time": "2021-12-01T08:21:59.045721Z",
     "start_time": "2021-12-01T08:21:59.032726Z"
    }
   },
   "outputs": [],
   "source": [
    "top11_like100.to_csv('top11_like100.csv',index=False)"
   ]
  },
  {
   "cell_type": "code",
   "execution_count": null,
   "id": "afc0501d",
   "metadata": {},
   "outputs": [],
   "source": []
  }
 ],
 "metadata": {
  "hide_input": false,
  "kernelspec": {
   "display_name": "Python 3",
   "language": "python",
   "name": "python3"
  },
  "language_info": {
   "codemirror_mode": {
    "name": "ipython",
    "version": 3
   },
   "file_extension": ".py",
   "mimetype": "text/x-python",
   "name": "python",
   "nbconvert_exporter": "python",
   "pygments_lexer": "ipython3",
   "version": "3.8.8"
  },
  "toc": {
   "base_numbering": 1,
   "nav_menu": {},
   "number_sections": true,
   "sideBar": true,
   "skip_h1_title": false,
   "title_cell": "Table of Contents",
   "title_sidebar": "Contents",
   "toc_cell": false,
   "toc_position": {},
   "toc_section_display": true,
   "toc_window_display": false
  },
  "varInspector": {
   "cols": {
    "lenName": 16,
    "lenType": 16,
    "lenVar": 40
   },
   "kernels_config": {
    "python": {
     "delete_cmd_postfix": "",
     "delete_cmd_prefix": "del ",
     "library": "var_list.py",
     "varRefreshCmd": "print(var_dic_list())"
    },
    "r": {
     "delete_cmd_postfix": ") ",
     "delete_cmd_prefix": "rm(",
     "library": "var_list.r",
     "varRefreshCmd": "cat(var_dic_list()) "
    }
   },
   "types_to_exclude": [
    "module",
    "function",
    "builtin_function_or_method",
    "instance",
    "_Feature"
   ],
   "window_display": false
  }
 },
 "nbformat": 4,
 "nbformat_minor": 5
}
