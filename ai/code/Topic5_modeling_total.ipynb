{
 "cells": [
  {
   "cell_type": "code",
   "execution_count": 2,
   "id": "fbec2c9d",
   "metadata": {
    "ExecuteTime": {
     "end_time": "2021-12-06T11:00:11.901927Z",
     "start_time": "2021-12-06T10:59:46.849082Z"
    }
   },
   "outputs": [],
   "source": [
    "import re\n",
    "import requests\n",
    "from bs4 import BeautifulSoup\n",
    "import pandas as pd\n",
    "from konlpy.tag import Okt  \n",
    "okt = Okt() \n",
    "import tensorflow as tf\n",
    "import numpy as np\n",
    "from collections import Counter\n",
    "\n",
    "from wordcloud import WordCloud\n",
    "import matplotlib.pyplot as plt\n",
    "\n",
    "\n",
    "import urllib.request\n",
    "from tqdm import tqdm\n",
    "from tensorflow.keras.preprocessing.text import Tokenizer\n",
    "from tensorflow.keras.preprocessing.sequence import pad_sequences\n",
    "from sklearn.model_selection import train_test_split\n",
    "from sklearn.feature_extraction.text import CountVectorizer"
   ]
  },
  {
   "cell_type": "code",
   "execution_count": 3,
   "id": "94309e56",
   "metadata": {
    "ExecuteTime": {
     "end_time": "2021-12-06T11:00:11.964933Z",
     "start_time": "2021-12-06T11:00:11.955931Z"
    }
   },
   "outputs": [],
   "source": [
    "import matplotlib.pyplot as plt \n",
    "from string import punctuation"
   ]
  },
  {
   "cell_type": "code",
   "execution_count": 4,
   "id": "a5152418",
   "metadata": {
    "ExecuteTime": {
     "end_time": "2021-12-06T11:00:12.027931Z",
     "start_time": "2021-12-06T11:00:12.017935Z"
    }
   },
   "outputs": [],
   "source": [
    "import warnings\n",
    "warnings.filterwarnings('ignore')"
   ]
  },
  {
   "cell_type": "markdown",
   "id": "0e8feed0",
   "metadata": {},
   "source": [
    "## 데이터 불러오기"
   ]
  },
  {
   "cell_type": "code",
   "execution_count": 5,
   "id": "a3339693",
   "metadata": {
    "ExecuteTime": {
     "end_time": "2021-12-06T11:00:14.390933Z",
     "start_time": "2021-12-06T11:00:12.080929Z"
    }
   },
   "outputs": [],
   "source": [
    "playlist = pd.read_csv('pre_total_playlist.csv')"
   ]
  },
  {
   "cell_type": "markdown",
   "id": "8ce26031",
   "metadata": {},
   "source": [
    "## 불용어"
   ]
  },
  {
   "cell_type": "code",
   "execution_count": 6,
   "id": "8e931bbc",
   "metadata": {
    "ExecuteTime": {
     "end_time": "2021-12-06T11:00:14.517292Z",
     "start_time": "2021-12-06T11:00:14.491248Z"
    }
   },
   "outputs": [],
   "source": [
    "# 불용어 (가사 빈도수 높은 + 감정분류와 무관한 단어 추가 중)\n",
    "stop_w = ['all','이렇게','네가','있는','니가','없는','너의','너무','그런',\n",
    "          'oh','whoo','tuesday','내가','너를','나를','we','this','the','그렇게',\n",
    "          'so','am','baby','and','can','you','much','me','for','go','in',\n",
    "          '은', '는', '이', '가', '하','부터','처럼','까지',\n",
    "          'know','no','of','let','my','수','너','내','나','그','난','봐',\n",
    "          '돼','건','모든','에서','에게','싶어','잖아',\n",
    "          '날','널','수','것','못','말','넌','젠','하나','정말','알','여기',\n",
    "          '다시','하게','니까',\n",
    "          '때','아','더','게','또','채','일','걸','누구','나는','너는','라면',\n",
    "          '같아','있어',\n",
    "          '의','가','보','들','좀','잘','걍','과','도','를','으로','우린','하지',\n",
    "          '해도','하고','없어','않아',\n",
    "          '자','에','와','한','하다','네','있다','나의','해','다','내게','왜',\n",
    "          '거야','이제','그냥','했던','하는']\n",
    "# 우리 , 그대 , 사랑 , 지금"
   ]
  },
  {
   "cell_type": "code",
   "execution_count": 7,
   "id": "6d796343",
   "metadata": {
    "ExecuteTime": {
     "end_time": "2021-12-06T11:00:14.655881Z",
     "start_time": "2021-12-06T11:00:14.632258Z"
    }
   },
   "outputs": [
    {
     "data": {
      "text/plain": [
       "120"
      ]
     },
     "execution_count": 7,
     "metadata": {},
     "output_type": "execute_result"
    }
   ],
   "source": [
    "len(stop_w)"
   ]
  },
  {
   "cell_type": "markdown",
   "id": "fdeccdbc",
   "metadata": {},
   "source": [
    "## 신조어"
   ]
  },
  {
   "cell_type": "code",
   "execution_count": 9,
   "id": "202e1baf",
   "metadata": {
    "ExecuteTime": {
     "end_time": "2021-12-06T11:00:14.923032Z",
     "start_time": "2021-12-06T11:00:14.899028Z"
    },
    "scrolled": true
   },
   "outputs": [
    {
     "data": {
      "text/plain": [
       "236"
      ]
     },
     "execution_count": 9,
     "metadata": {},
     "output_type": "execute_result"
    }
   ],
   "source": [
    "len(add_words)"
   ]
  },
  {
   "cell_type": "code",
   "execution_count": 10,
   "id": "7557d9d5",
   "metadata": {
    "ExecuteTime": {
     "end_time": "2021-12-06T11:00:15.599307Z",
     "start_time": "2021-12-06T11:00:15.023200Z"
    }
   },
   "outputs": [],
   "source": [
    "from ckonlpy.tag import Twitter\n",
    "twitter = Twitter()"
   ]
  },
  {
   "cell_type": "code",
   "execution_count": 11,
   "id": "6532d080",
   "metadata": {
    "ExecuteTime": {
     "end_time": "2021-12-06T11:00:15.707985Z",
     "start_time": "2021-12-06T11:00:15.697460Z"
    }
   },
   "outputs": [],
   "source": [
    "# 리스트에 담긴 단어만큼 사전에 추가\n",
    "for i in range(len(add_words)):\n",
    "    twitter.add_dictionary(add_words[i], 'Noun')"
   ]
  },
  {
   "cell_type": "markdown",
   "id": "c495d4c5",
   "metadata": {},
   "source": [
    "## 토큰화"
   ]
  },
  {
   "cell_type": "code",
   "execution_count": 12,
   "id": "e55f5eff",
   "metadata": {
    "ExecuteTime": {
     "end_time": "2021-12-06T11:13:15.204378Z",
     "start_time": "2021-12-06T11:00:16.089497Z"
    }
   },
   "outputs": [],
   "source": [
    "word_list = playlist['Lyric'].apply(lambda x: [word for word in twitter.nouns(x) if word not in stop_w])"
   ]
  },
  {
   "cell_type": "code",
   "execution_count": 13,
   "id": "a904c7ea",
   "metadata": {
    "ExecuteTime": {
     "end_time": "2021-12-06T11:13:15.392245Z",
     "start_time": "2021-12-06T11:13:15.352950Z"
    }
   },
   "outputs": [
    {
     "data": {
      "text/plain": [
       "0        [아무, 리, 바보, 울, 곁, 상처, 기, 다리, 란, 보고, 보고, 만큼, 울,...\n",
       "1        [그대, 란, 사람, 허락, 맘, 그대, 때문, 란, 눈길, 줄, 만큼, 다만, 가...\n",
       "2        [어쩌면, 오늘이, 마지막, 지도, 사랑, 불안, 마음, 니, 눈, 마주, 치, 사...\n",
       "3        [술, 잔, 생각, 밤, 시절, 모두, 한숨, 그대, 얼굴, 혹시, 울, 지나, 먼...\n",
       "4        [손짓, 목소리, 마음, 지도, 맘대로, 나라, 사랑, 행복, 맘, 프라, 가기, ...\n",
       "                               ...                        \n",
       "15337    [언제, 익숙, 매일, 반복, 하루, 연속, 모습, 어가, 거울, 얼굴, 위로, 주...\n",
       "15338    [옛날, 옛적, 서울, 이란, 곳, 구월, 손톱, 구월, 구월, 기, 금, 간, 발...\n",
       "15339    [일로, 전화, 술, 시간, 사실, 취하, 거, 우리, 안, 만해, 남아, 전화, ...\n",
       "15340    [원래, 별, 뜻, 다정, 생각, 향, 길이, 중이, 언제, 순간, 가득, 차, 오...\n",
       "15341    [아침, 진, 꽤, 거, 늦, 어도, 래서, 남, 맘, 아침, 선택, 사항, 사이,...\n",
       "Name: Lyric, Length: 15342, dtype: object"
      ]
     },
     "execution_count": 13,
     "metadata": {},
     "output_type": "execute_result"
    }
   ],
   "source": [
    "word_list"
   ]
  },
  {
   "cell_type": "markdown",
   "id": "7d68ca2a",
   "metadata": {},
   "source": [
    "## 벡터화"
   ]
  },
  {
   "cell_type": "markdown",
   "id": "0f767a6a",
   "metadata": {
    "ExecuteTime": {
     "end_time": "2021-12-04T11:26:41.533545Z",
     "start_time": "2021-12-04T11:26:41.525547Z"
    }
   },
   "source": [
    "* min_df : 단어장에 포함되기 위한 최소 빈도\n",
    "* max_df : 단어장에 포함되기 위한 최대 빈도\n",
    "* ngram_range : 튜플 (min_n, max_n) n-그램 범위"
   ]
  },
  {
   "cell_type": "code",
   "execution_count": 14,
   "id": "84513266",
   "metadata": {
    "ExecuteTime": {
     "end_time": "2021-12-06T11:13:58.239833Z",
     "start_time": "2021-12-06T11:13:15.523759Z"
    }
   },
   "outputs": [],
   "source": [
    "from sklearn.feature_extraction.text import CountVectorizer\n",
    "from sklearn.decomposition import LatentDirichletAllocation\n",
    "\n",
    "# 설정해준 카테고리의 데이터들만 추출\n",
    "# CountVectorizer로 텍스트 데이터들 단어 빈도수에 기반해 벡터화시키기(fit_transform)\n",
    "count_vect = CountVectorizer(max_df=0.95, max_features=1000,\n",
    "                            min_df=2, stop_words=stop_w,\n",
    "                            ngram_range=(1,5)) \n",
    "ftr_vect = count_vect.fit_transform(word_list.astype(str))\n"
   ]
  },
  {
   "cell_type": "markdown",
   "id": "8c3f9724",
   "metadata": {},
   "source": [
    "## 토픽 모델링"
   ]
  },
  {
   "cell_type": "code",
   "execution_count": 15,
   "id": "c9b8b244",
   "metadata": {
    "ExecuteTime": {
     "end_time": "2021-12-06T11:18:13.105685Z",
     "start_time": "2021-12-06T11:13:58.399227Z"
    }
   },
   "outputs": [
    {
     "name": "stdout",
     "output_type": "stream",
     "text": [
      "(5, 1000)\n",
      "[[9.38755892e+00 1.68365196e+01 1.27075393e+02 ... 8.95794142e-01\n",
      "  1.26853010e+01 2.06849217e-01]\n",
      " [9.98509240e+00 1.13408447e+01 3.60979456e+01 ... 5.22551092e+01\n",
      "  4.50649210e+01 3.08047800e+01]\n",
      " [7.21517970e+01 1.90329006e+02 1.52640965e+02 ... 3.63290230e+01\n",
      "  2.81221732e+00 1.07670516e+01]\n",
      " [5.31793062e+01 1.42749113e+02 5.33940846e+01 ... 2.28631804e+01\n",
      "  2.75807453e+02 9.51512308e+00]\n",
      " [1.52962454e+01 6.07445167e+01 3.94791612e+02 ... 9.76568933e+01\n",
      "  2.96301074e+01 1.04706196e+02]]\n"
     ]
    }
   ],
   "source": [
    "# LDA클래스를 이용해서 피처 벡터화시킨 것을 토픽모델링 시키기\n",
    "# n_components(토픽개수) 5로 설정\n",
    "lda = LatentDirichletAllocation(n_components=5, random_state=42)\n",
    "lda.fit(ftr_vect)\n",
    "# components_속성은 5개의 토픽별(row)로 1000개의 feature(단어)들의 분포수치(column)를 보여줌\n",
    "print(lda.components_.shape)\n",
    "print(lda.components_)"
   ]
  },
  {
   "cell_type": "code",
   "execution_count": 16,
   "id": "952efdf2",
   "metadata": {
    "ExecuteTime": {
     "end_time": "2021-12-06T11:18:27.362392Z",
     "start_time": "2021-12-06T11:18:13.318451Z"
    }
   },
   "outputs": [
    {
     "name": "stdout",
     "output_type": "stream",
     "text": [
      "(15342, 5)\n",
      "[[0.00481678 0.98060314 0.00483275 0.00495786 0.00478947]\n",
      " [0.47385169 0.51121271 0.00494518 0.00503336 0.00495707]]\n"
     ]
    }
   ],
   "source": [
    "# transform까지 수행하면, 문서별(row)로 토픽들(column)의 분포를 알려줌\n",
    "doc_topics = lda.transform(ftr_vect)\n",
    "print(doc_topics.shape)\n",
    "print(doc_topics[:2]) # 두 곡에 대한 확률 정보"
   ]
  },
  {
   "cell_type": "markdown",
   "id": "cc66a8a3",
   "metadata": {},
   "source": [
    "## 토픽 별 주요 단어"
   ]
  },
  {
   "cell_type": "code",
   "execution_count": 17,
   "id": "f7f77fce",
   "metadata": {
    "ExecuteTime": {
     "end_time": "2021-12-06T11:18:27.601468Z",
     "start_time": "2021-12-06T11:18:27.528396Z"
    }
   },
   "outputs": [
    {
     "name": "stdout",
     "output_type": "stream",
     "text": [
      "\n",
      "Topic # 1\n",
      "그대*14823.9+사랑*5522.4+어요*3186.0+마음*1659.7+당신*1493.1+사랑 사랑*1116.5+그대 그대*1017.2+다가*881.9+그대 사랑*830.0+사랑 그대*796.2+오늘*711.0+가요*702.0+언제*659.9+사랑 사랑 사랑*608.3+그대만*602.1\n",
      "\n",
      "Topic # 2\n",
      "사랑*18068.2+사람*4893.7+눈물*3181.5+행복*2750.7+우리*2606.0+이별*2031.7+마음*1821.3+가슴*1760.8+세상*1734.9+아직*1689.4+미안*1373.2+바보*1347.1+만큼*1327.1+기억*1259.2+사랑 사랑*1189.9\n",
      "\n",
      "Topic # 3\n",
      "지금*3609.4+매일*2358.5+어디*2248.0+생각*2202.0+오늘*1944.7+우리*1876.7+아무*1849.9+필요*1738.0+자꾸*1642.9+다른*1434.4+기분*1343.9+다가*1324.7+나나*1271.2+계속*1270.0+사람*1201.2\n",
      "\n",
      "Topic # 4\n",
      "우리*7037.6+시간*5321.1+오늘*5081.7+생각*4647.4+하루*4067.9+기억*3852.8+마음*3803.1+아무*3772.1+지나*3323.1+그때*2282.1+혼자*2207.4+조금*2023.6+아직*1978.3+보고*1795.9+내일*1776.8\n",
      "\n",
      "Topic # 5\n",
      "하늘*3075.0+순간*2623.1+아름*2542.7+바람*2524.8+세상*2475.4+우리*2089.0+가득*1664.2+지금*1584.0+노래*1519.4+다운*1390.2+아름 다운*1287.2+아래*1204.3+마음*1203.6+바다*1145.2+소리*1131.2\n"
     ]
    }
   ],
   "source": [
    "def display_topic_words(lda_model, feature_names, num_top_words):\n",
    "    for topic_idx, topic in enumerate(lda_model.components_):\n",
    "        print('\\nTopic #', topic_idx+1)\n",
    "        \n",
    "        # Topic별로 1000개의 단어들(features)중에서 높은 값 순으로 정렬 후 index를 반환해줌\n",
    "\n",
    "        topic_word_idx = topic.argsort()[::-1] # argsort()는 디폴트가 오름차순, [::-1]로 내림차순 변경\n",
    "        top_idx = topic_word_idx[:num_top_words]\n",
    "        \n",
    "        # CountVectorizer함수 할당시킨 객체에 get_feature_names()로 벡터화시킨 feature(단어들)볼 수 있음\n",
    "        # 이 벡터화시킨 단어들(features)은 숫자-알파벳순으로 정렬되며, 단어들 순서는 fit_transform시키고 난 이후에도 동일!\n",
    "        # '문자열'.join 함수로 특정 문자열 사이에 끼고 문자열 합쳐줄 수 있음.\n",
    "        feature_concat = '+'.join([str(feature_names[i])+'*'+str(round(topic[i], 1)) for i in top_idx])\n",
    "        print(feature_concat)        \n",
    "        \n",
    "feature_names = count_vect.get_feature_names()\n",
    "display_topic_words(lda, feature_names, 15)"
   ]
  },
  {
   "cell_type": "markdown",
   "id": "96555d99",
   "metadata": {},
   "source": [
    "## 가장 높은 확률의 토픽만 추출"
   ]
  },
  {
   "cell_type": "code",
   "execution_count": 18,
   "id": "1d97a199",
   "metadata": {
    "ExecuteTime": {
     "end_time": "2021-12-06T11:18:42.746182Z",
     "start_time": "2021-12-06T11:18:27.777207Z"
    }
   },
   "outputs": [
    {
     "data": {
      "text/html": [
       "<div>\n",
       "<style scoped>\n",
       "    .dataframe tbody tr th:only-of-type {\n",
       "        vertical-align: middle;\n",
       "    }\n",
       "\n",
       "    .dataframe tbody tr th {\n",
       "        vertical-align: top;\n",
       "    }\n",
       "\n",
       "    .dataframe thead th {\n",
       "        text-align: right;\n",
       "    }\n",
       "</style>\n",
       "<table border=\"1\" class=\"dataframe\">\n",
       "  <thead>\n",
       "    <tr style=\"text-align: right;\">\n",
       "      <th></th>\n",
       "      <th>Doc_Num</th>\n",
       "      <th>Topic</th>\n",
       "      <th>Percentage</th>\n",
       "    </tr>\n",
       "  </thead>\n",
       "  <tbody>\n",
       "    <tr>\n",
       "      <th>0</th>\n",
       "      <td>0</td>\n",
       "      <td>1</td>\n",
       "      <td>0.980603</td>\n",
       "    </tr>\n",
       "    <tr>\n",
       "      <th>1</th>\n",
       "      <td>1</td>\n",
       "      <td>1</td>\n",
       "      <td>0.511213</td>\n",
       "    </tr>\n",
       "    <tr>\n",
       "      <th>2</th>\n",
       "      <td>2</td>\n",
       "      <td>1</td>\n",
       "      <td>0.813000</td>\n",
       "    </tr>\n",
       "    <tr>\n",
       "      <th>3</th>\n",
       "      <td>3</td>\n",
       "      <td>0</td>\n",
       "      <td>0.368070</td>\n",
       "    </tr>\n",
       "    <tr>\n",
       "      <th>4</th>\n",
       "      <td>4</td>\n",
       "      <td>1</td>\n",
       "      <td>0.943660</td>\n",
       "    </tr>\n",
       "  </tbody>\n",
       "</table>\n",
       "</div>"
      ],
      "text/plain": [
       "   Doc_Num  Topic  Percentage\n",
       "0        0      1    0.980603\n",
       "1        1      1    0.511213\n",
       "2        2      1    0.813000\n",
       "3        3      0    0.368070\n",
       "4        4      1    0.943660"
      ]
     },
     "execution_count": 18,
     "metadata": {},
     "output_type": "execute_result"
    }
   ],
   "source": [
    "# 문서별로, 가장 확률이 높은 topic으로 할당해줌\n",
    "\n",
    "doc_topic = lda.transform(ftr_vect)\n",
    "\n",
    "doc_per_topic_list = []\n",
    "for n in range(doc_topic.shape[0]):\n",
    "    topic_most_pr = doc_topic[n].argmax()\n",
    "    topic_pr = doc_topic[n].max()\n",
    "    doc_per_topic_list.append([n, topic_most_pr, topic_pr])\n",
    "    \n",
    "doc_topic_df = pd.DataFrame(doc_per_topic_list, columns=['Doc_Num', 'Topic', 'Percentage'])\n",
    "\n",
    "doc_topic_df.head()"
   ]
  },
  {
   "cell_type": "markdown",
   "id": "e16b4e54",
   "metadata": {
    "ExecuteTime": {
     "end_time": "2021-12-04T11:19:47.409899Z",
     "start_time": "2021-12-04T11:19:47.396900Z"
    }
   },
   "source": [
    "## 노래 별 토픽 확률"
   ]
  },
  {
   "cell_type": "code",
   "execution_count": 20,
   "id": "21739802",
   "metadata": {
    "ExecuteTime": {
     "end_time": "2021-12-06T11:20:55.226008Z",
     "start_time": "2021-12-06T11:20:55.177730Z"
    }
   },
   "outputs": [
    {
     "data": {
      "text/html": [
       "<div>\n",
       "<style scoped>\n",
       "    .dataframe tbody tr th:only-of-type {\n",
       "        vertical-align: middle;\n",
       "    }\n",
       "\n",
       "    .dataframe tbody tr th {\n",
       "        vertical-align: top;\n",
       "    }\n",
       "\n",
       "    .dataframe thead th {\n",
       "        text-align: right;\n",
       "    }\n",
       "</style>\n",
       "<table border=\"1\" class=\"dataframe\">\n",
       "  <thead>\n",
       "    <tr style=\"text-align: right;\">\n",
       "      <th></th>\n",
       "      <th>Topic #1</th>\n",
       "      <th>Topic #2</th>\n",
       "      <th>Topic #3</th>\n",
       "      <th>Topic #4</th>\n",
       "      <th>Topic #5</th>\n",
       "    </tr>\n",
       "  </thead>\n",
       "  <tbody>\n",
       "    <tr>\n",
       "      <th>보고 싶다</th>\n",
       "      <td>0.004817</td>\n",
       "      <td>0.980603</td>\n",
       "      <td>0.004833</td>\n",
       "      <td>0.004958</td>\n",
       "      <td>0.004789</td>\n",
       "    </tr>\n",
       "    <tr>\n",
       "      <th>사랑합니다...</th>\n",
       "      <td>0.473852</td>\n",
       "      <td>0.511213</td>\n",
       "      <td>0.004945</td>\n",
       "      <td>0.005033</td>\n",
       "      <td>0.004957</td>\n",
       "    </tr>\n",
       "    <tr>\n",
       "      <th>어쩌면...</th>\n",
       "      <td>0.118988</td>\n",
       "      <td>0.813000</td>\n",
       "      <td>0.002145</td>\n",
       "      <td>0.063787</td>\n",
       "      <td>0.002080</td>\n",
       "    </tr>\n",
       "    <tr>\n",
       "      <th>소주 한 잔</th>\n",
       "      <td>0.368070</td>\n",
       "      <td>0.296772</td>\n",
       "      <td>0.062589</td>\n",
       "      <td>0.268677</td>\n",
       "      <td>0.003892</td>\n",
       "    </tr>\n",
       "    <tr>\n",
       "      <th>With Me</th>\n",
       "      <td>0.003311</td>\n",
       "      <td>0.943660</td>\n",
       "      <td>0.046338</td>\n",
       "      <td>0.003296</td>\n",
       "      <td>0.003395</td>\n",
       "    </tr>\n",
       "  </tbody>\n",
       "</table>\n",
       "</div>"
      ],
      "text/plain": [
       "          Topic #1  Topic #2  Topic #3  Topic #4  Topic #5\n",
       "보고 싶다     0.004817  0.980603  0.004833  0.004958  0.004789\n",
       "사랑합니다...  0.473852  0.511213  0.004945  0.005033  0.004957\n",
       "어쩌면...    0.118988  0.813000  0.002145  0.063787  0.002080\n",
       "소주 한 잔    0.368070  0.296772  0.062589  0.268677  0.003892\n",
       "With Me   0.003311  0.943660  0.046338  0.003296  0.003395"
      ]
     },
     "execution_count": 20,
     "metadata": {},
     "output_type": "execute_result"
    }
   ],
   "source": [
    "# 주어진 내장 텍스트데이터의 문서이름에는 카테고리가 labeling되어있음. \n",
    "# 따라서, 카테고리가 무엇인지 아는 상태이니까 어떤 문서들이 어떤 토픽들이 높은지 확인해보자.\n",
    "# 그리고 그 토픽들이 각각 무엇을 내용으로 하는지 추측해보자.\n",
    "# 주어진 데이터셋의 filename속성을 이용해서 카테고리값들 가져오기\n",
    "def get_filename_list(playlist):\n",
    "    filename_lst = []\n",
    "    for file in playlist.song_name: \n",
    "        filename_temp = file.split('/')[-2:]\n",
    "        filename = '.'.join(filename_temp)\n",
    "        filename_lst.append(filename)\n",
    "    return filename_lst\n",
    " \n",
    "filename_lst = get_filename_list(playlist)\n",
    "# Dataframe형태로 만들어보기\n",
    "topic_names = ['Topic #'+ str(i) for i in range(1,6)]\n",
    "topic_df = pd.DataFrame(data=doc_topics, columns=topic_names,\n",
    "                       index=filename_lst)\n",
    "\n",
    "topic_df.head()"
   ]
  },
  {
   "cell_type": "markdown",
   "id": "1960c2df",
   "metadata": {},
   "source": [
    "## Topic # 1\n",
    "그대*14823.9+사랑*5522.4+어요*3186.0+마음*1659.7+당신*1493.1+사랑 사랑*1116.5+그대 그대*1017.2+다가*881.9+그대 사랑*830.0+사랑 그대*796.2+오늘*711.0+가요*702.0+언제*659.9+사랑 사랑 사랑*608.3+그대만*602.1\n",
    "\n",
    "## Topic # 2\n",
    "사랑*18068.2+사람*4893.7+눈물*3181.5+행복*2750.7+우리*2606.0+이별*2031.7+마음*1821.3+가슴*1760.8+세상*1734.9+아직*1689.4+미안*1373.2+바보*1347.1+만큼*1327.1+기억*1259.2+사랑 사랑*1189.9\n",
    "\n",
    "## Topic # 3\n",
    "지금*3609.4+매일*2358.5+어디*2248.0+생각*2202.0+오늘*1944.7+우리*1876.7+아무*1849.9+필요*1738.0+자꾸*1642.9+다른*1434.4+기분*1343.9+다가*1324.7+나나*1271.2+계속*1270.0+사람*1201.2\n",
    "\n",
    "## Topic # 4\n",
    "우리*7037.6+시간*5321.1+오늘*5081.7+생각*4647.4+하루*4067.9+기억*3852.8+마음*3803.1+아무*3772.1+지나*3323.1+그때*2282.1+혼자*2207.4+조금*2023.6+아직*1978.3+보고*1795.9+내일*1776.8\n",
    "\n",
    "## Topic # 5\n",
    "하늘*3075.0+순간*2623.1+아름*2542.7+바람*2524.8+세상*2475.4+우리*2089.0+가득*1664.2+지금*1584.0+노래*1519.4+다운*1390.2+아름 다운*1287.2+아래*1204.3+마음*1203.6+바다*1145.2+소리*1131.2"
   ]
  },
  {
   "cell_type": "markdown",
   "id": "097ecfab",
   "metadata": {},
   "source": [
    "## 가장 높은 확률의 토픽"
   ]
  },
  {
   "cell_type": "code",
   "execution_count": 21,
   "id": "2edf6f20",
   "metadata": {
    "ExecuteTime": {
     "end_time": "2021-12-06T11:22:07.188247Z",
     "start_time": "2021-12-06T11:21:53.601827Z"
    }
   },
   "outputs": [
    {
     "data": {
      "text/html": [
       "<div>\n",
       "<style scoped>\n",
       "    .dataframe tbody tr th:only-of-type {\n",
       "        vertical-align: middle;\n",
       "    }\n",
       "\n",
       "    .dataframe tbody tr th {\n",
       "        vertical-align: top;\n",
       "    }\n",
       "\n",
       "    .dataframe thead th {\n",
       "        text-align: right;\n",
       "    }\n",
       "</style>\n",
       "<table border=\"1\" class=\"dataframe\">\n",
       "  <thead>\n",
       "    <tr style=\"text-align: right;\">\n",
       "      <th></th>\n",
       "      <th>Doc_Num</th>\n",
       "      <th>Topic</th>\n",
       "      <th>Percentage</th>\n",
       "    </tr>\n",
       "  </thead>\n",
       "  <tbody>\n",
       "    <tr>\n",
       "      <th>0</th>\n",
       "      <td>0</td>\n",
       "      <td>1</td>\n",
       "      <td>0.980603</td>\n",
       "    </tr>\n",
       "    <tr>\n",
       "      <th>1</th>\n",
       "      <td>1</td>\n",
       "      <td>1</td>\n",
       "      <td>0.511213</td>\n",
       "    </tr>\n",
       "    <tr>\n",
       "      <th>2</th>\n",
       "      <td>2</td>\n",
       "      <td>1</td>\n",
       "      <td>0.813000</td>\n",
       "    </tr>\n",
       "    <tr>\n",
       "      <th>3</th>\n",
       "      <td>3</td>\n",
       "      <td>0</td>\n",
       "      <td>0.368070</td>\n",
       "    </tr>\n",
       "    <tr>\n",
       "      <th>4</th>\n",
       "      <td>4</td>\n",
       "      <td>1</td>\n",
       "      <td>0.943660</td>\n",
       "    </tr>\n",
       "  </tbody>\n",
       "</table>\n",
       "</div>"
      ],
      "text/plain": [
       "   Doc_Num  Topic  Percentage\n",
       "0        0      1    0.980603\n",
       "1        1      1    0.511213\n",
       "2        2      1    0.813000\n",
       "3        3      0    0.368070\n",
       "4        4      1    0.943660"
      ]
     },
     "execution_count": 21,
     "metadata": {},
     "output_type": "execute_result"
    }
   ],
   "source": [
    "# 문서별로, 가장 확률이 높은 topic으로 할당해줌\n",
    "\n",
    "doc_topic = lda.transform(ftr_vect)\n",
    "\n",
    "doc_per_topic_list = []\n",
    "for n in range(doc_topic.shape[0]):\n",
    "    topic_most_pr = doc_topic[n].argmax()\n",
    "    topic_pr = doc_topic[n].max()\n",
    "    doc_per_topic_list.append([n, topic_most_pr, topic_pr])\n",
    "    \n",
    "doc_topic_df = pd.DataFrame(doc_per_topic_list, columns=['Doc_Num', 'Topic', 'Percentage'])\n",
    "\n",
    "doc_topic_df.head()"
   ]
  },
  {
   "cell_type": "code",
   "execution_count": 22,
   "id": "b46fd823",
   "metadata": {
    "ExecuteTime": {
     "end_time": "2021-12-06T11:22:13.719234Z",
     "start_time": "2021-12-06T11:22:13.683135Z"
    }
   },
   "outputs": [
    {
     "data": {
      "text/html": [
       "<div>\n",
       "<style scoped>\n",
       "    .dataframe tbody tr th:only-of-type {\n",
       "        vertical-align: middle;\n",
       "    }\n",
       "\n",
       "    .dataframe tbody tr th {\n",
       "        vertical-align: top;\n",
       "    }\n",
       "\n",
       "    .dataframe thead th {\n",
       "        text-align: right;\n",
       "    }\n",
       "</style>\n",
       "<table border=\"1\" class=\"dataframe\">\n",
       "  <thead>\n",
       "    <tr style=\"text-align: right;\">\n",
       "      <th></th>\n",
       "      <th>song_id</th>\n",
       "      <th>song_name</th>\n",
       "      <th>artist</th>\n",
       "      <th>album</th>\n",
       "      <th>Like_Count</th>\n",
       "      <th>Lyric</th>\n",
       "      <th>cover_url</th>\n",
       "      <th>tags</th>\n",
       "      <th>words</th>\n",
       "    </tr>\n",
       "  </thead>\n",
       "  <tbody>\n",
       "    <tr>\n",
       "      <th>0</th>\n",
       "      <td>418253</td>\n",
       "      <td>보고 싶다</td>\n",
       "      <td>김범수</td>\n",
       "      <td>3rd. 보고 싶다</td>\n",
       "      <td>342238</td>\n",
       "      <td>아무리 기다려도 난 못가   바보처럼 울고 있는 너의 곁에  상처만 주는 나를 왜 ...</td>\n",
       "      <td>https://image.bugsm.co.kr/album/images/200/262...</td>\n",
       "      <td>['국내', '가요', '발라드한', '발라드', '국내 발라드', '가을', '쓸...</td>\n",
       "      <td>['아무리', '기다려도', '난', '못가', '바보처럼', '울고', '있는',...</td>\n",
       "    </tr>\n",
       "  </tbody>\n",
       "</table>\n",
       "</div>"
      ],
      "text/plain": [
       "   song_id song_name artist       album  Like_Count  \\\n",
       "0   418253     보고 싶다    김범수  3rd. 보고 싶다      342238   \n",
       "\n",
       "                                               Lyric  \\\n",
       "0  아무리 기다려도 난 못가   바보처럼 울고 있는 너의 곁에  상처만 주는 나를 왜 ...   \n",
       "\n",
       "                                           cover_url  \\\n",
       "0  https://image.bugsm.co.kr/album/images/200/262...   \n",
       "\n",
       "                                                tags  \\\n",
       "0  ['국내', '가요', '발라드한', '발라드', '국내 발라드', '가을', '쓸...   \n",
       "\n",
       "                                               words  \n",
       "0  ['아무리', '기다려도', '난', '못가', '바보처럼', '울고', '있는',...  "
      ]
     },
     "execution_count": 22,
     "metadata": {},
     "output_type": "execute_result"
    }
   ],
   "source": [
    "playlist.head(1) # 기본 곡 정보"
   ]
  },
  {
   "cell_type": "code",
   "execution_count": 23,
   "id": "195778fb",
   "metadata": {
    "ExecuteTime": {
     "end_time": "2021-12-06T11:22:17.773973Z",
     "start_time": "2021-12-06T11:22:17.690996Z"
    },
    "scrolled": false
   },
   "outputs": [
    {
     "data": {
      "text/html": [
       "<div>\n",
       "<style scoped>\n",
       "    .dataframe tbody tr th:only-of-type {\n",
       "        vertical-align: middle;\n",
       "    }\n",
       "\n",
       "    .dataframe tbody tr th {\n",
       "        vertical-align: top;\n",
       "    }\n",
       "\n",
       "    .dataframe thead th {\n",
       "        text-align: right;\n",
       "    }\n",
       "</style>\n",
       "<table border=\"1\" class=\"dataframe\">\n",
       "  <thead>\n",
       "    <tr style=\"text-align: right;\">\n",
       "      <th></th>\n",
       "      <th>Topic</th>\n",
       "      <th>Percentage</th>\n",
       "      <th>song_id</th>\n",
       "      <th>song_name</th>\n",
       "      <th>artist</th>\n",
       "      <th>album</th>\n",
       "      <th>Like_Count</th>\n",
       "      <th>Lyric</th>\n",
       "      <th>cover_url</th>\n",
       "      <th>tags</th>\n",
       "      <th>words</th>\n",
       "    </tr>\n",
       "  </thead>\n",
       "  <tbody>\n",
       "    <tr>\n",
       "      <th>0</th>\n",
       "      <td>1</td>\n",
       "      <td>0.980603</td>\n",
       "      <td>418253</td>\n",
       "      <td>보고 싶다</td>\n",
       "      <td>김범수</td>\n",
       "      <td>3rd. 보고 싶다</td>\n",
       "      <td>342238</td>\n",
       "      <td>아무리 기다려도 난 못가   바보처럼 울고 있는 너의 곁에  상처만 주는 나를 왜 ...</td>\n",
       "      <td>https://image.bugsm.co.kr/album/images/200/262...</td>\n",
       "      <td>['국내', '가요', '발라드한', '발라드', '국내 발라드', '가을', '쓸...</td>\n",
       "      <td>['아무리', '기다려도', '난', '못가', '바보처럼', '울고', '있는',...</td>\n",
       "    </tr>\n",
       "    <tr>\n",
       "      <th>1</th>\n",
       "      <td>1</td>\n",
       "      <td>0.511213</td>\n",
       "      <td>445413</td>\n",
       "      <td>사랑합니다...</td>\n",
       "      <td>팀</td>\n",
       "      <td>Tim 영민</td>\n",
       "      <td>332810</td>\n",
       "      <td>나빠요 참 그대란 사람 허락도 없이 왜 내 맘 가져요 그대 때문에 난 힘겹게 살고만...</td>\n",
       "      <td>https://image.bugsm.co.kr/album/images/200/307...</td>\n",
       "      <td>['국내', '발라드', '발라드한', '100시리즈', '가을', '가요', '감...</td>\n",
       "      <td>['나빠요', '참', '그대란', '사람', '허락도', '없이', '왜', '내...</td>\n",
       "    </tr>\n",
       "    <tr>\n",
       "      <th>2</th>\n",
       "      <td>1</td>\n",
       "      <td>0.813000</td>\n",
       "      <td>489056</td>\n",
       "      <td>어쩌면...</td>\n",
       "      <td>버즈</td>\n",
       "      <td>Morning Of Buzz</td>\n",
       "      <td>295142</td>\n",
       "      <td>어쩌면 오늘이 마지막이 될지도 몰라 나의 사랑이 떠날지 몰라 불안한 나의 마음 니가...</td>\n",
       "      <td>https://image.bugsm.co.kr/album/images/200/328...</td>\n",
       "      <td>['국내', '락발라드', '발라드한', '2000년대', '세부장르', '100시...</td>\n",
       "      <td>['어쩌면', '오늘이', '마지막이', '될지도', '몰라', '나의', '사랑이...</td>\n",
       "    </tr>\n",
       "    <tr>\n",
       "      <th>3</th>\n",
       "      <td>0</td>\n",
       "      <td>0.368070</td>\n",
       "      <td>460396</td>\n",
       "      <td>소주 한 잔</td>\n",
       "      <td>임창정</td>\n",
       "      <td>Bye</td>\n",
       "      <td>277349</td>\n",
       "      <td>술이 한 잔 생각나는 밤 같이 있는 것 같아요  그 좋았던 시절들 이젠 모두 한숨만...</td>\n",
       "      <td>https://image.bugsm.co.kr/album/images/200/314...</td>\n",
       "      <td>['국내', '발라드한', '발라드', '국내 발라드', '100시리즈', '가요'...</td>\n",
       "      <td>['술이', '한', '잔', '생각나는', '밤', '같이', '있는', '것',...</td>\n",
       "    </tr>\n",
       "    <tr>\n",
       "      <th>4</th>\n",
       "      <td>1</td>\n",
       "      <td>0.943660</td>\n",
       "      <td>482653</td>\n",
       "      <td>With Me</td>\n",
       "      <td>휘성(Realslow)</td>\n",
       "      <td>It's Real</td>\n",
       "      <td>268787</td>\n",
       "      <td>네 손짓 하나 보는 게 난 좋은데   네 목소리를 듣는 것도 좋은데   왜 넌 내 ...</td>\n",
       "      <td>https://image.bugsm.co.kr/album/images/200/325...</td>\n",
       "      <td>['가요', '섹시한', '남성보컬']</td>\n",
       "      <td>['네', '손짓', '하나', '보는', '게', '난', '좋은데', '네', ...</td>\n",
       "    </tr>\n",
       "  </tbody>\n",
       "</table>\n",
       "</div>"
      ],
      "text/plain": [
       "   Topic  Percentage  song_id song_name        artist            album  \\\n",
       "0      1    0.980603   418253     보고 싶다           김범수       3rd. 보고 싶다   \n",
       "1      1    0.511213   445413  사랑합니다...             팀           Tim 영민   \n",
       "2      1    0.813000   489056    어쩌면...            버즈  Morning Of Buzz   \n",
       "3      0    0.368070   460396    소주 한 잔           임창정              Bye   \n",
       "4      1    0.943660   482653   With Me  휘성(Realslow)        It's Real   \n",
       "\n",
       "   Like_Count                                              Lyric  \\\n",
       "0      342238  아무리 기다려도 난 못가   바보처럼 울고 있는 너의 곁에  상처만 주는 나를 왜 ...   \n",
       "1      332810  나빠요 참 그대란 사람 허락도 없이 왜 내 맘 가져요 그대 때문에 난 힘겹게 살고만...   \n",
       "2      295142  어쩌면 오늘이 마지막이 될지도 몰라 나의 사랑이 떠날지 몰라 불안한 나의 마음 니가...   \n",
       "3      277349  술이 한 잔 생각나는 밤 같이 있는 것 같아요  그 좋았던 시절들 이젠 모두 한숨만...   \n",
       "4      268787  네 손짓 하나 보는 게 난 좋은데   네 목소리를 듣는 것도 좋은데   왜 넌 내 ...   \n",
       "\n",
       "                                           cover_url  \\\n",
       "0  https://image.bugsm.co.kr/album/images/200/262...   \n",
       "1  https://image.bugsm.co.kr/album/images/200/307...   \n",
       "2  https://image.bugsm.co.kr/album/images/200/328...   \n",
       "3  https://image.bugsm.co.kr/album/images/200/314...   \n",
       "4  https://image.bugsm.co.kr/album/images/200/325...   \n",
       "\n",
       "                                                tags  \\\n",
       "0  ['국내', '가요', '발라드한', '발라드', '국내 발라드', '가을', '쓸...   \n",
       "1  ['국내', '발라드', '발라드한', '100시리즈', '가을', '가요', '감...   \n",
       "2  ['국내', '락발라드', '발라드한', '2000년대', '세부장르', '100시...   \n",
       "3  ['국내', '발라드한', '발라드', '국내 발라드', '100시리즈', '가요'...   \n",
       "4                              ['가요', '섹시한', '남성보컬']   \n",
       "\n",
       "                                               words  \n",
       "0  ['아무리', '기다려도', '난', '못가', '바보처럼', '울고', '있는',...  \n",
       "1  ['나빠요', '참', '그대란', '사람', '허락도', '없이', '왜', '내...  \n",
       "2  ['어쩌면', '오늘이', '마지막이', '될지도', '몰라', '나의', '사랑이...  \n",
       "3  ['술이', '한', '잔', '생각나는', '밤', '같이', '있는', '것',...  \n",
       "4  ['네', '손짓', '하나', '보는', '게', '난', '좋은데', '네', ...  "
      ]
     },
     "execution_count": 23,
     "metadata": {},
     "output_type": "execute_result"
    }
   ],
   "source": [
    "doc_topic_df = doc_topic_df.join(playlist,lsuffix='index') # 병합\n",
    "doc_topic_df.drop('Doc_Num', axis=1,inplace=True)\n",
    "doc_topic_df.head()  "
   ]
  },
  {
   "cell_type": "code",
   "execution_count": 24,
   "id": "a014576e",
   "metadata": {
    "ExecuteTime": {
     "end_time": "2021-12-06T11:22:22.128927Z",
     "start_time": "2021-12-06T11:22:22.087934Z"
    }
   },
   "outputs": [
    {
     "data": {
      "text/html": [
       "<div>\n",
       "<style scoped>\n",
       "    .dataframe tbody tr th:only-of-type {\n",
       "        vertical-align: middle;\n",
       "    }\n",
       "\n",
       "    .dataframe tbody tr th {\n",
       "        vertical-align: top;\n",
       "    }\n",
       "\n",
       "    .dataframe thead th {\n",
       "        text-align: right;\n",
       "    }\n",
       "</style>\n",
       "<table border=\"1\" class=\"dataframe\">\n",
       "  <thead>\n",
       "    <tr style=\"text-align: right;\">\n",
       "      <th></th>\n",
       "      <th>song_id</th>\n",
       "    </tr>\n",
       "    <tr>\n",
       "      <th>Topic</th>\n",
       "      <th></th>\n",
       "    </tr>\n",
       "  </thead>\n",
       "  <tbody>\n",
       "    <tr>\n",
       "      <th>0</th>\n",
       "      <td>1355</td>\n",
       "    </tr>\n",
       "    <tr>\n",
       "      <th>1</th>\n",
       "      <td>3095</td>\n",
       "    </tr>\n",
       "    <tr>\n",
       "      <th>2</th>\n",
       "      <td>4003</td>\n",
       "    </tr>\n",
       "    <tr>\n",
       "      <th>3</th>\n",
       "      <td>4282</td>\n",
       "    </tr>\n",
       "    <tr>\n",
       "      <th>4</th>\n",
       "      <td>2607</td>\n",
       "    </tr>\n",
       "  </tbody>\n",
       "</table>\n",
       "</div>"
      ],
      "text/plain": [
       "       song_id\n",
       "Topic         \n",
       "0         1355\n",
       "1         3095\n",
       "2         4003\n",
       "3         4282\n",
       "4         2607"
      ]
     },
     "execution_count": 24,
     "metadata": {},
     "output_type": "execute_result"
    }
   ],
   "source": [
    "# 토픽 별 곡 개수\n",
    "doc_topic_df.groupby('Topic')[['song_id']].count()"
   ]
  },
  {
   "cell_type": "code",
   "execution_count": 25,
   "id": "b2102387",
   "metadata": {
    "ExecuteTime": {
     "end_time": "2021-12-06T11:22:34.832420Z",
     "start_time": "2021-12-06T11:22:32.492609Z"
    }
   },
   "outputs": [],
   "source": [
    "doc_topic_df.to_csv('total_5_topic_modeling.csv',index=False)"
   ]
  },
  {
   "cell_type": "code",
   "execution_count": null,
   "id": "0d42bd58",
   "metadata": {},
   "outputs": [],
   "source": [
    "# doc_topic_df.to_csv('total_9_topic_modeling.csv',index=False) # topic 9 "
   ]
  },
  {
   "cell_type": "code",
   "execution_count": 36,
   "id": "7f27968c",
   "metadata": {
    "ExecuteTime": {
     "end_time": "2021-12-04T11:47:37.095693Z",
     "start_time": "2021-12-04T11:47:36.260175Z"
    }
   },
   "outputs": [],
   "source": [
    "# doc_topic_df.to_csv('total_topic_modeling.csv',index=False) # topic 3"
   ]
  },
  {
   "cell_type": "markdown",
   "id": "a80e5237",
   "metadata": {},
   "source": [
    "---"
   ]
  },
  {
   "cell_type": "markdown",
   "id": "2f5bd05b",
   "metadata": {},
   "source": [
    "## 토픽 별 노래 목록"
   ]
  },
  {
   "cell_type": "markdown",
   "id": "4eb3905a",
   "metadata": {},
   "source": [
    "### Topic # 1\n",
    "그대14823.9+사랑5522.4+어요3186.0+마음1659.7+당신1493.1+사랑 사랑1116.5+그대 그대1017.2+다가881.9+그대 사랑830.0+사랑 그대796.2+오늘711.0+가요702.0+언제659.9+사랑 사랑 사랑608.3+그대만*602.1"
   ]
  },
  {
   "cell_type": "code",
   "execution_count": 33,
   "id": "843dd5cc",
   "metadata": {
    "ExecuteTime": {
     "end_time": "2021-12-06T11:38:12.066755Z",
     "start_time": "2021-12-06T11:38:12.027487Z"
    }
   },
   "outputs": [
    {
     "data": {
      "text/html": [
       "<div>\n",
       "<style scoped>\n",
       "    .dataframe tbody tr th:only-of-type {\n",
       "        vertical-align: middle;\n",
       "    }\n",
       "\n",
       "    .dataframe tbody tr th {\n",
       "        vertical-align: top;\n",
       "    }\n",
       "\n",
       "    .dataframe thead th {\n",
       "        text-align: right;\n",
       "    }\n",
       "</style>\n",
       "<table border=\"1\" class=\"dataframe\">\n",
       "  <thead>\n",
       "    <tr style=\"text-align: right;\">\n",
       "      <th></th>\n",
       "      <th>song_name</th>\n",
       "      <th>artist</th>\n",
       "    </tr>\n",
       "  </thead>\n",
       "  <tbody>\n",
       "    <tr>\n",
       "      <th>3</th>\n",
       "      <td>소주 한 잔</td>\n",
       "      <td>임창정</td>\n",
       "    </tr>\n",
       "    <tr>\n",
       "      <th>6</th>\n",
       "      <td>내 안의 그대</td>\n",
       "      <td>서영은</td>\n",
       "    </tr>\n",
       "    <tr>\n",
       "      <th>24</th>\n",
       "      <td>Monologue</td>\n",
       "      <td>버즈</td>\n",
       "    </tr>\n",
       "    <tr>\n",
       "      <th>33</th>\n",
       "      <td>Sweet Dream</td>\n",
       "      <td>장나라</td>\n",
       "    </tr>\n",
       "    <tr>\n",
       "      <th>34</th>\n",
       "      <td>긴 하루</td>\n",
       "      <td>이승철</td>\n",
       "    </tr>\n",
       "    <tr>\n",
       "      <th>35</th>\n",
       "      <td>그댄 달라요</td>\n",
       "      <td>한예슬</td>\n",
       "    </tr>\n",
       "    <tr>\n",
       "      <th>38</th>\n",
       "      <td>인형의 꿈</td>\n",
       "      <td>러브홀릭(Loveholic)</td>\n",
       "    </tr>\n",
       "    <tr>\n",
       "      <th>56</th>\n",
       "      <td>우리 사랑하게 됐어요</td>\n",
       "      <td>가인</td>\n",
       "    </tr>\n",
       "    <tr>\n",
       "      <th>58</th>\n",
       "      <td>처음처럼</td>\n",
       "      <td>티아라(T-ara)</td>\n",
       "    </tr>\n",
       "    <tr>\n",
       "      <th>64</th>\n",
       "      <td>이별은 멀었죠</td>\n",
       "      <td>한경일</td>\n",
       "    </tr>\n",
       "  </tbody>\n",
       "</table>\n",
       "</div>"
      ],
      "text/plain": [
       "      song_name           artist\n",
       "3        소주 한 잔              임창정\n",
       "6       내 안의 그대              서영은\n",
       "24    Monologue               버즈\n",
       "33  Sweet Dream              장나라\n",
       "34         긴 하루              이승철\n",
       "35       그댄 달라요              한예슬\n",
       "38        인형의 꿈  러브홀릭(Loveholic)\n",
       "56  우리 사랑하게 됐어요               가인\n",
       "58         처음처럼       티아라(T-ara)\n",
       "64      이별은 멀었죠              한경일"
      ]
     },
     "execution_count": 33,
     "metadata": {},
     "output_type": "execute_result"
    }
   ],
   "source": [
    "doc_topic_df[doc_topic_df['Topic']==0][['song_name','artist']].head(10)"
   ]
  },
  {
   "cell_type": "markdown",
   "id": "7156576b",
   "metadata": {},
   "source": [
    "### Topic # 2\n",
    "사랑18068.2+사람4893.7+눈물3181.5+행복2750.7+우리2606.0+이별2031.7+마음1821.3+가슴1760.8+세상1734.9+아직1689.4+미안1373.2+바보1347.1+만큼1327.1+기억1259.2+사랑 사랑*1189.9"
   ]
  },
  {
   "cell_type": "code",
   "execution_count": 32,
   "id": "afdf0cf7",
   "metadata": {
    "ExecuteTime": {
     "end_time": "2021-12-06T11:37:36.276127Z",
     "start_time": "2021-12-06T11:37:36.249591Z"
    }
   },
   "outputs": [
    {
     "data": {
      "text/html": [
       "<div>\n",
       "<style scoped>\n",
       "    .dataframe tbody tr th:only-of-type {\n",
       "        vertical-align: middle;\n",
       "    }\n",
       "\n",
       "    .dataframe tbody tr th {\n",
       "        vertical-align: top;\n",
       "    }\n",
       "\n",
       "    .dataframe thead th {\n",
       "        text-align: right;\n",
       "    }\n",
       "</style>\n",
       "<table border=\"1\" class=\"dataframe\">\n",
       "  <thead>\n",
       "    <tr style=\"text-align: right;\">\n",
       "      <th></th>\n",
       "      <th>song_name</th>\n",
       "      <th>artist</th>\n",
       "    </tr>\n",
       "  </thead>\n",
       "  <tbody>\n",
       "    <tr>\n",
       "      <th>0</th>\n",
       "      <td>보고 싶다</td>\n",
       "      <td>김범수</td>\n",
       "    </tr>\n",
       "    <tr>\n",
       "      <th>1</th>\n",
       "      <td>사랑합니다...</td>\n",
       "      <td>팀</td>\n",
       "    </tr>\n",
       "    <tr>\n",
       "      <th>2</th>\n",
       "      <td>어쩌면...</td>\n",
       "      <td>버즈</td>\n",
       "    </tr>\n",
       "    <tr>\n",
       "      <th>4</th>\n",
       "      <td>With Me</td>\n",
       "      <td>휘성(Realslow)</td>\n",
       "    </tr>\n",
       "    <tr>\n",
       "      <th>7</th>\n",
       "      <td>...안 되나요... (부제: 화양연화)</td>\n",
       "      <td>휘성(Realslow)</td>\n",
       "    </tr>\n",
       "    <tr>\n",
       "      <th>10</th>\n",
       "      <td>Missing You</td>\n",
       "      <td>플라이 투 더 스카이</td>\n",
       "    </tr>\n",
       "    <tr>\n",
       "      <th>12</th>\n",
       "      <td>한 남자</td>\n",
       "      <td>김종국</td>\n",
       "    </tr>\n",
       "    <tr>\n",
       "      <th>13</th>\n",
       "      <td>고해</td>\n",
       "      <td>임재범</td>\n",
       "    </tr>\n",
       "    <tr>\n",
       "      <th>14</th>\n",
       "      <td>사랑은...향기를 남기고</td>\n",
       "      <td>테이(Tei)</td>\n",
       "    </tr>\n",
       "    <tr>\n",
       "      <th>17</th>\n",
       "      <td>잊지 말아요</td>\n",
       "      <td>백지영</td>\n",
       "    </tr>\n",
       "  </tbody>\n",
       "</table>\n",
       "</div>"
      ],
      "text/plain": [
       "                 song_name        artist\n",
       "0                    보고 싶다           김범수\n",
       "1                 사랑합니다...             팀\n",
       "2                   어쩌면...            버즈\n",
       "4                  With Me  휘성(Realslow)\n",
       "7   ...안 되나요... (부제: 화양연화)  휘성(Realslow)\n",
       "10             Missing You   플라이 투 더 스카이\n",
       "12                    한 남자           김종국\n",
       "13                      고해           임재범\n",
       "14           사랑은...향기를 남기고       테이(Tei)\n",
       "17                  잊지 말아요           백지영"
      ]
     },
     "execution_count": 32,
     "metadata": {},
     "output_type": "execute_result"
    }
   ],
   "source": [
    "doc_topic_df[doc_topic_df['Topic']==1][['song_name','artist']].head(10)"
   ]
  },
  {
   "cell_type": "markdown",
   "id": "86da702c",
   "metadata": {},
   "source": [
    "### Topic # 3¶\n",
    "지금3609.4+매일2358.5+어디2248.0+생각2202.0+오늘1944.7+우리1876.7+아무1849.9+필요1738.0+자꾸1642.9+다른1434.4+기분1343.9+다가1324.7+나나1271.2+계속1270.0+사람*1201.2"
   ]
  },
  {
   "cell_type": "code",
   "execution_count": 29,
   "id": "e0032e19",
   "metadata": {
    "ExecuteTime": {
     "end_time": "2021-12-06T11:35:02.090033Z",
     "start_time": "2021-12-06T11:35:02.063031Z"
    }
   },
   "outputs": [
    {
     "data": {
      "text/html": [
       "<div>\n",
       "<style scoped>\n",
       "    .dataframe tbody tr th:only-of-type {\n",
       "        vertical-align: middle;\n",
       "    }\n",
       "\n",
       "    .dataframe tbody tr th {\n",
       "        vertical-align: top;\n",
       "    }\n",
       "\n",
       "    .dataframe thead th {\n",
       "        text-align: right;\n",
       "    }\n",
       "</style>\n",
       "<table border=\"1\" class=\"dataframe\">\n",
       "  <thead>\n",
       "    <tr style=\"text-align: right;\">\n",
       "      <th></th>\n",
       "      <th>song_name</th>\n",
       "      <th>artist</th>\n",
       "    </tr>\n",
       "  </thead>\n",
       "  <tbody>\n",
       "    <tr>\n",
       "      <th>9</th>\n",
       "      <td>니가 참 좋아</td>\n",
       "      <td>쥬얼리(Jewelry)</td>\n",
       "    </tr>\n",
       "    <tr>\n",
       "      <th>11</th>\n",
       "      <td>Abracadabra</td>\n",
       "      <td>브라운 아이드 걸스</td>\n",
       "    </tr>\n",
       "    <tr>\n",
       "      <th>20</th>\n",
       "      <td>그랬나봐</td>\n",
       "      <td>김형중</td>\n",
       "    </tr>\n",
       "    <tr>\n",
       "      <th>23</th>\n",
       "      <td>낙원 (feat. 이재훈)</td>\n",
       "      <td>싸이 (PSY)</td>\n",
       "    </tr>\n",
       "    <tr>\n",
       "      <th>30</th>\n",
       "      <td>미스터</td>\n",
       "      <td>카라(Kara)</td>\n",
       "    </tr>\n",
       "    <tr>\n",
       "      <th>31</th>\n",
       "      <td>애송이 (feat. Psy)</td>\n",
       "      <td>렉시(Lexy)</td>\n",
       "    </tr>\n",
       "    <tr>\n",
       "      <th>40</th>\n",
       "      <td>Hot Issue</td>\n",
       "      <td>포미닛(4minute)</td>\n",
       "    </tr>\n",
       "    <tr>\n",
       "      <th>41</th>\n",
       "      <td>내 여자라니까</td>\n",
       "      <td>이승기</td>\n",
       "    </tr>\n",
       "    <tr>\n",
       "      <th>43</th>\n",
       "      <td>Oh!</td>\n",
       "      <td>소녀시대 (GIRLS' GENERATION)</td>\n",
       "    </tr>\n",
       "    <tr>\n",
       "      <th>57</th>\n",
       "      <td>Bo Peep Bo Peep</td>\n",
       "      <td>티아라(T-ara)</td>\n",
       "    </tr>\n",
       "  </tbody>\n",
       "</table>\n",
       "</div>"
      ],
      "text/plain": [
       "          song_name                    artist\n",
       "9           니가 참 좋아              쥬얼리(Jewelry)\n",
       "11      Abracadabra                브라운 아이드 걸스\n",
       "20             그랬나봐                       김형중\n",
       "23   낙원 (feat. 이재훈)                  싸이 (PSY)\n",
       "30              미스터                  카라(Kara)\n",
       "31  애송이 (feat. Psy)                  렉시(Lexy)\n",
       "40        Hot Issue              포미닛(4minute)\n",
       "41          내 여자라니까                       이승기\n",
       "43              Oh!  소녀시대 (GIRLS' GENERATION)\n",
       "57  Bo Peep Bo Peep                티아라(T-ara)"
      ]
     },
     "execution_count": 29,
     "metadata": {},
     "output_type": "execute_result"
    }
   ],
   "source": [
    "doc_topic_df[doc_topic_df['Topic']==2][['song_name','artist']].head(10)"
   ]
  },
  {
   "cell_type": "markdown",
   "id": "254f9e06",
   "metadata": {},
   "source": [
    "### Topic # 4¶\n",
    "우리7037.6+시간5321.1+오늘5081.7+생각4647.4+하루4067.9+기억3852.8+마음3803.1+아무3772.1+지나3323.1+그때2282.1+혼자2207.4+조금2023.6+아직1978.3+보고1795.9+내일*1776.8"
   ]
  },
  {
   "cell_type": "code",
   "execution_count": 30,
   "id": "4b294660",
   "metadata": {
    "ExecuteTime": {
     "end_time": "2021-12-06T11:35:13.778864Z",
     "start_time": "2021-12-06T11:35:13.745856Z"
    }
   },
   "outputs": [
    {
     "data": {
      "text/html": [
       "<div>\n",
       "<style scoped>\n",
       "    .dataframe tbody tr th:only-of-type {\n",
       "        vertical-align: middle;\n",
       "    }\n",
       "\n",
       "    .dataframe tbody tr th {\n",
       "        vertical-align: top;\n",
       "    }\n",
       "\n",
       "    .dataframe thead th {\n",
       "        text-align: right;\n",
       "    }\n",
       "</style>\n",
       "<table border=\"1\" class=\"dataframe\">\n",
       "  <thead>\n",
       "    <tr style=\"text-align: right;\">\n",
       "      <th></th>\n",
       "      <th>song_name</th>\n",
       "      <th>artist</th>\n",
       "    </tr>\n",
       "  </thead>\n",
       "  <tbody>\n",
       "    <tr>\n",
       "      <th>5</th>\n",
       "      <td>벌써 일년</td>\n",
       "      <td>브라운 아이즈(Brown Eyes)</td>\n",
       "    </tr>\n",
       "    <tr>\n",
       "      <th>16</th>\n",
       "      <td>다시 만난 날</td>\n",
       "      <td>휘성(Realslow)</td>\n",
       "    </tr>\n",
       "    <tr>\n",
       "      <th>26</th>\n",
       "      <td>점점</td>\n",
       "      <td>브라운 아이즈(Brown Eyes)</td>\n",
       "    </tr>\n",
       "    <tr>\n",
       "      <th>66</th>\n",
       "      <td>아마도 사랑이겠죠</td>\n",
       "      <td>장나라</td>\n",
       "    </tr>\n",
       "    <tr>\n",
       "      <th>71</th>\n",
       "      <td>눈을 보고 말해요</td>\n",
       "      <td>V.O.S.</td>\n",
       "    </tr>\n",
       "    <tr>\n",
       "      <th>74</th>\n",
       "      <td>너에게로 또다시 (영화 '가족' 주제곡)</td>\n",
       "      <td>서영은</td>\n",
       "    </tr>\n",
       "    <tr>\n",
       "      <th>86</th>\n",
       "      <td>사랑인걸</td>\n",
       "      <td>모세(Mose)</td>\n",
       "    </tr>\n",
       "    <tr>\n",
       "      <th>117</th>\n",
       "      <td>Y (Please Tell Me Why)</td>\n",
       "      <td>프리스타일(Free Style)</td>\n",
       "    </tr>\n",
       "    <tr>\n",
       "      <th>121</th>\n",
       "      <td>못해 (feat. 美)</td>\n",
       "      <td>포맨 (4MEN)</td>\n",
       "    </tr>\n",
       "    <tr>\n",
       "      <th>124</th>\n",
       "      <td>Rain</td>\n",
       "      <td>박혜경</td>\n",
       "    </tr>\n",
       "  </tbody>\n",
       "</table>\n",
       "</div>"
      ],
      "text/plain": [
       "                  song_name               artist\n",
       "5                     벌써 일년  브라운 아이즈(Brown Eyes)\n",
       "16                  다시 만난 날         휘성(Realslow)\n",
       "26                       점점  브라운 아이즈(Brown Eyes)\n",
       "66                아마도 사랑이겠죠                  장나라\n",
       "71                눈을 보고 말해요               V.O.S.\n",
       "74   너에게로 또다시 (영화 '가족' 주제곡)                  서영은\n",
       "86                     사랑인걸             모세(Mose)\n",
       "117  Y (Please Tell Me Why)    프리스타일(Free Style)\n",
       "121            못해 (feat. 美)            포맨 (4MEN)\n",
       "124                    Rain                  박혜경"
      ]
     },
     "execution_count": 30,
     "metadata": {},
     "output_type": "execute_result"
    }
   ],
   "source": [
    "doc_topic_df[doc_topic_df['Topic']==3][['song_name','artist']].head(10)"
   ]
  },
  {
   "cell_type": "markdown",
   "id": "1c7bb7a4",
   "metadata": {},
   "source": [
    "### Topic # 5\n",
    "하늘3075.0+순간2623.1+아름2542.7+바람2524.8+세상2475.4+우리2089.0+가득1664.2+지금1584.0+노래1519.4+다운1390.2+아름 다운1287.2+아래1204.3+마음1203.6+바다1145.2+소리*1131.2\n"
   ]
  },
  {
   "cell_type": "code",
   "execution_count": 31,
   "id": "0a52e730",
   "metadata": {
    "ExecuteTime": {
     "end_time": "2021-12-06T11:35:25.348292Z",
     "start_time": "2021-12-06T11:35:25.322508Z"
    }
   },
   "outputs": [
    {
     "data": {
      "text/html": [
       "<div>\n",
       "<style scoped>\n",
       "    .dataframe tbody tr th:only-of-type {\n",
       "        vertical-align: middle;\n",
       "    }\n",
       "\n",
       "    .dataframe tbody tr th {\n",
       "        vertical-align: top;\n",
       "    }\n",
       "\n",
       "    .dataframe thead th {\n",
       "        text-align: right;\n",
       "    }\n",
       "</style>\n",
       "<table border=\"1\" class=\"dataframe\">\n",
       "  <thead>\n",
       "    <tr style=\"text-align: right;\">\n",
       "      <th></th>\n",
       "      <th>song_name</th>\n",
       "      <th>artist</th>\n",
       "    </tr>\n",
       "  </thead>\n",
       "  <tbody>\n",
       "    <tr>\n",
       "      <th>8</th>\n",
       "      <td>Never Ending Story</td>\n",
       "      <td>부활</td>\n",
       "    </tr>\n",
       "    <tr>\n",
       "      <th>15</th>\n",
       "      <td>너에게 난, 나에게 넌</td>\n",
       "      <td>자전거 탄 풍경</td>\n",
       "    </tr>\n",
       "    <tr>\n",
       "      <th>19</th>\n",
       "      <td>소원을 말해봐 (Genie)</td>\n",
       "      <td>소녀시대 (GIRLS' GENERATION)</td>\n",
       "    </tr>\n",
       "    <tr>\n",
       "      <th>46</th>\n",
       "      <td>루팡 (Lupin)</td>\n",
       "      <td>카라(Kara)</td>\n",
       "    </tr>\n",
       "    <tr>\n",
       "      <th>47</th>\n",
       "      <td>너 때문에 미쳐</td>\n",
       "      <td>티아라(T-ara)</td>\n",
       "    </tr>\n",
       "    <tr>\n",
       "      <th>49</th>\n",
       "      <td>아틀란티스 소녀</td>\n",
       "      <td>보아 (BoA)</td>\n",
       "    </tr>\n",
       "    <tr>\n",
       "      <th>68</th>\n",
       "      <td>안녕</td>\n",
       "      <td>박혜경</td>\n",
       "    </tr>\n",
       "    <tr>\n",
       "      <th>70</th>\n",
       "      <td>혼자가 아닌 나 (Pop ver.)</td>\n",
       "      <td>서영은</td>\n",
       "    </tr>\n",
       "    <tr>\n",
       "      <th>89</th>\n",
       "      <td>뱅(Bang)!</td>\n",
       "      <td>애프터 스쿨(After School)</td>\n",
       "    </tr>\n",
       "    <tr>\n",
       "      <th>101</th>\n",
       "      <td>부른다</td>\n",
       "      <td>서인국</td>\n",
       "    </tr>\n",
       "  </tbody>\n",
       "</table>\n",
       "</div>"
      ],
      "text/plain": [
       "               song_name                    artist\n",
       "8     Never Ending Story                        부활\n",
       "15          너에게 난, 나에게 넌                  자전거 탄 풍경\n",
       "19       소원을 말해봐 (Genie)  소녀시대 (GIRLS' GENERATION)\n",
       "46            루팡 (Lupin)                  카라(Kara)\n",
       "47              너 때문에 미쳐                티아라(T-ara)\n",
       "49              아틀란티스 소녀                  보아 (BoA)\n",
       "68                    안녕                       박혜경\n",
       "70   혼자가 아닌 나 (Pop ver.)                       서영은\n",
       "89              뱅(Bang)!      애프터 스쿨(After School)\n",
       "101                  부른다                       서인국"
      ]
     },
     "execution_count": 31,
     "metadata": {},
     "output_type": "execute_result"
    }
   ],
   "source": [
    "doc_topic_df[doc_topic_df['Topic']==4][['song_name','artist']].head(10)"
   ]
  },
  {
   "cell_type": "markdown",
   "id": "f0cf9214",
   "metadata": {},
   "source": [
    "---"
   ]
  },
  {
   "cell_type": "markdown",
   "id": "8503f0a1",
   "metadata": {},
   "source": [
    "## 토픽 최적수 선정 과정"
   ]
  },
  {
   "cell_type": "code",
   "execution_count": 41,
   "id": "4f4e0ae7",
   "metadata": {
    "ExecuteTime": {
     "end_time": "2021-12-04T12:23:28.931123Z",
     "start_time": "2021-12-04T12:23:28.915132Z"
    }
   },
   "outputs": [],
   "source": [
    "from pymongo import MongoClient\n",
    "import pandas as pd\n",
    "import numpy as np\n",
    "import re\n",
    "# import coredottext.nlp as nlp\n",
    "import json\n",
    "\n",
    "from gensim.models.coherencemodel import CoherenceModel\n",
    "from gensim.models.ldamodel import LdaModel\n",
    "from gensim.corpora.dictionary import Dictionary\n",
    "import time"
   ]
  },
  {
   "cell_type": "code",
   "execution_count": 39,
   "id": "45254f03",
   "metadata": {
    "ExecuteTime": {
     "end_time": "2021-12-04T12:22:53.234475Z",
     "start_time": "2021-12-04T12:22:53.154476Z"
    }
   },
   "outputs": [
    {
     "data": {
      "text/plain": [
       "0    [아무, 리, 바보, 울, 곁, 상처, 기, 다리, 란, 보고, 보고, 만큼, 울,...\n",
       "1    [그대, 란, 사람, 허락, 맘, 그대, 때문, 란, 눈길, 줄, 만큼, 다만, 가...\n",
       "2    [어쩌면, 오늘이, 마지막, 지도, 사랑, 불안, 마음, 니, 눈, 마주, 치, 사...\n",
       "3    [술, 잔, 생각, 밤, 시절, 모두, 한숨, 그대, 얼굴, 혹시, 울, 지나, 먼...\n",
       "4    [손짓, 목소리, 마음, 지도, 맘대로, 나라, 사랑, 행복, 맘, 프라, 가기, ...\n",
       "5    [처음, 며칠, 뒤, 생각, 벌써, 년, 기념일, 마다, 슬픔, 처음, 사랑, 고백...\n",
       "6    [슬픔, 우산, 거리, 어도, 행복, 안, 그대, 그대, 마주, 순간, 그대, 어제...\n",
       "7    [어요, 다른, 사람, 곁, 그대, 처음, 전부, 터, 어쩌면, 헤어, 질, 기대,...\n",
       "8    [손, 저기, 어딘가, 오늘, 의자, 위엔, 모습, 바람, 지나, 마치, 듯이, 멀...\n",
       "Name: Lyric, dtype: object"
      ]
     },
     "execution_count": 39,
     "metadata": {},
     "output_type": "execute_result"
    }
   ],
   "source": [
    "word_list[:9]"
   ]
  },
  {
   "cell_type": "code",
   "execution_count": 37,
   "id": "66aef559",
   "metadata": {
    "ExecuteTime": {
     "end_time": "2021-12-04T12:09:17.584878Z",
     "start_time": "2021-12-04T12:09:14.862562Z"
    }
   },
   "outputs": [],
   "source": [
    "from gensim import corpora\n",
    "\n",
    "# 각 단어를 (단어id, 나온횟수) 로 바꾸는 작업\n",
    "dictionary = corpora.Dictionary(word_list)\n",
    "corpus = [dictionary.doc2bow(text) for text in word_list]"
   ]
  },
  {
   "cell_type": "code",
   "execution_count": 38,
   "id": "5c3d2c3c",
   "metadata": {
    "ExecuteTime": {
     "end_time": "2021-12-04T12:09:29.022062Z",
     "start_time": "2021-12-04T12:09:28.999062Z"
    }
   },
   "outputs": [
    {
     "name": "stdout",
     "output_type": "stream",
     "text": [
      "[(1, 2), (5, 2), (6, 2), (8, 1), (14, 4), (23, 1), (24, 2), (25, 5), (26, 1), (27, 1), (28, 1), (29, 1), (30, 2), (31, 1), (32, 1), (33, 2), (34, 1), (35, 1), (36, 1), (37, 1), (38, 1), (39, 1), (40, 1), (41, 1), (42, 1), (43, 1), (44, 1), (45, 1), (46, 2), (47, 1), (48, 1), (49, 1), (50, 1), (51, 1), (52, 1), (53, 2), (54, 2), (55, 1), (56, 2), (57, 2), (58, 1), (59, 1)]\n",
      "19737\n",
      "단위\n"
     ]
    }
   ],
   "source": [
    "# corpus[i] : i번째 노래에서 나온단어에서 (단어id, 나온횟수)들을 저장한 list\n",
    "print(corpus[1]) \n",
    "\n",
    "# corpus 사전 단어수\n",
    "print(len(dictionary))\n",
    "\n",
    "# dictionary[j] : id값을 j를 가진 단어가 무엇인지 확인\n",
    "print(dictionary[1111])"
   ]
  },
  {
   "cell_type": "markdown",
   "id": "2a43563a",
   "metadata": {},
   "source": [
    "## 모델 학습\n",
    "* topic : 당신이 가설로 잡은 토픽의 갯수는?\n",
    "* chunksize : 얼마나 많은 문서가 훈련 알고리즘에 사용되는가?\n",
    "* 만약에 빠른 학습이 중요하시다면, 청크사이즈를 키워서 돌려봅시다!\n",
    "* Hoffman의 논문에 의하면 Chunksize는 모델 품질에 영향을 미치지만 차이그 그렇게 크진 않다고 합니다!\n",
    "* passes : 패스는 모델 학습시 전체 코퍼스에서 모델을 학습시키는 빈도를 제어한다고 합니다.<br>\n",
    "epochs 와 같은 용어 같다!\n",
    "* model를 학습시키는 횟수를 말하는것 같아요! model sampling?\n",
    "* iteration : 각각 문서에 대해서 루프를 얼마나 돌리는지를 제어한다고 합니다.\n",
    "* pass & iteration 은 최대한 많은게 좋다!\n",
    "* eval_every = 1 in LdaModel\n",
    "* alpha, eta = auto, 디리클레 분포의 감마함수에 대한 파라미터입니다!"
   ]
  },
  {
   "cell_type": "code",
   "execution_count": 43,
   "id": "57a9ef42",
   "metadata": {
    "ExecuteTime": {
     "end_time": "2021-12-04T12:28:41.201534Z",
     "start_time": "2021-12-04T12:25:51.436895Z"
    }
   },
   "outputs": [
    {
     "name": "stdout",
     "output_type": "stream",
     "text": [
      "Wall time: 2min 49s\n"
     ]
    }
   ],
   "source": [
    "# 파라미터를 튜닝해볼까!\n",
    "num_topics = 10\n",
    "chunksize = 2000\n",
    "passes = 20\n",
    "iterations = 400\n",
    "eval_every = None\n",
    "\n",
    "\n",
    "%time model = LdaModel(corpus = corpus, id2word = dictionary, chunksize = chunksize,\\\n",
    "                       alpha =\"auto\", eta=\"auto\",\\\n",
    "                       iterations = iterations, num_topics = num_topics,\\\n",
    "                       passes = passes, eval_every = eval_every)"
   ]
  },
  {
   "cell_type": "code",
   "execution_count": 44,
   "id": "1f87a9e9",
   "metadata": {
    "ExecuteTime": {
     "end_time": "2021-12-04T12:28:52.359072Z",
     "start_time": "2021-12-04T12:28:42.032906Z"
    }
   },
   "outputs": [
    {
     "name": "stdout",
     "output_type": "stream",
     "text": [
      "Cpherence -3.04277852508517\n",
      "\n",
      "Perplexity:  -7.2265108252327614\n"
     ]
    }
   ],
   "source": [
    "cm = CoherenceModel(model=model, corpus=corpus, coherence='u_mass')\n",
    "coherence = cm.get_coherence()\n",
    "print(\"Cpherence\",coherence)\n",
    "print('\\nPerplexity: ', model.log_perplexity(corpus))"
   ]
  },
  {
   "cell_type": "markdown",
   "id": "e1168015",
   "metadata": {
    "ExecuteTime": {
     "end_time": "2021-12-04T12:28:53.008081Z",
     "start_time": "2021-12-04T12:28:52.994080Z"
    }
   },
   "source": [
    "## 토픽 최적 수"
   ]
  },
  {
   "cell_type": "markdown",
   "id": "92721045",
   "metadata": {},
   "source": [
    "---"
   ]
  },
  {
   "cell_type": "code",
   "execution_count": 29,
   "id": "d3b6f756",
   "metadata": {
    "ExecuteTime": {
     "end_time": "2021-12-05T11:45:37.941187Z",
     "start_time": "2021-12-05T11:45:37.932191Z"
    }
   },
   "outputs": [],
   "source": [
    "import gensim\n",
    "from pymongo import MongoClient\n",
    "import pandas as pd\n",
    "import numpy as np\n",
    "import re\n",
    "# import coredottext.nlp as nlp\n",
    "import json\n",
    "\n",
    "from gensim.models.coherencemodel import CoherenceModel\n",
    "from gensim.models.ldamodel import LdaModel\n",
    "from gensim.corpora.dictionary import Dictionary\n",
    "import time"
   ]
  },
  {
   "cell_type": "code",
   "execution_count": 27,
   "id": "9f7fe7af",
   "metadata": {
    "ExecuteTime": {
     "end_time": "2021-12-05T11:44:48.575657Z",
     "start_time": "2021-12-05T11:44:46.988096Z"
    }
   },
   "outputs": [],
   "source": [
    "from gensim import corpora\n",
    "\n",
    "# 각 단어를 (단어id, 나온횟수) 로 바꾸는 작업\n",
    "dictionary = corpora.Dictionary(word_list)\n",
    "corpus = [dictionary.doc2bow(text) for text in word_list]"
   ]
  },
  {
   "cell_type": "markdown",
   "id": "f47fd292",
   "metadata": {
    "ExecuteTime": {
     "end_time": "2021-12-05T07:20:10.414042Z",
     "start_time": "2021-12-05T07:20:10.407327Z"
    }
   },
   "source": [
    "## Perplexity"
   ]
  },
  {
   "cell_type": "code",
   "execution_count": 31,
   "id": "57da365e",
   "metadata": {
    "ExecuteTime": {
     "end_time": "2021-12-05T13:16:17.215684Z",
     "start_time": "2021-12-05T12:32:44.575072Z"
    }
   },
   "outputs": [
    {
     "name": "stderr",
     "output_type": "stream",
     "text": [
      "100%|█████████████████████████████████████████████████████████████████████████████████| 13/13 [43:32<00:00, 200.97s/it]\n"
     ]
    }
   ],
   "source": [
    "perplexity_values = []\n",
    "for i in tqdm(range(2,15)):\n",
    "    ldamodel = gensim.models.ldamodel.LdaModel(corpus, id2word=dictionary, num_topics=i, iterations=400,passes = 20)\n",
    "    perplexity_values.append(ldamodel.log_perplexity(corpus))"
   ]
  },
  {
   "cell_type": "code",
   "execution_count": 32,
   "id": "9952a46f",
   "metadata": {
    "ExecuteTime": {
     "end_time": "2021-12-05T13:55:29.263779Z",
     "start_time": "2021-12-05T13:55:29.113823Z"
    }
   },
   "outputs": [
    {
     "data": {
      "image/png": "[encoded data removed]",
      "text/plain": [
       "<Figure size 432x288 with 1 Axes>"
      ]
     },
     "metadata": {
      "needs_background": "light"
     },
     "output_type": "display_data"
    }
   ],
   "source": [
    "import matplotlib.pyplot as plt \n",
    "x = range(2,15)\n",
    "plt.plot(x,perplexity_values)\n",
    "plt.xlabel('number of topics')\n",
    "plt.ylabel('perplexity score')\n",
    "plt.show()"
   ]
  },
  {
   "cell_type": "markdown",
   "id": "e8d09de2",
   "metadata": {},
   "source": [
    "## Coherence"
   ]
  },
  {
   "cell_type": "code",
   "execution_count": 28,
   "id": "a9ed45eb",
   "metadata": {
    "ExecuteTime": {
     "end_time": "2021-12-05T11:44:54.433297Z",
     "start_time": "2021-12-05T11:44:54.426333Z"
    }
   },
   "outputs": [],
   "source": [
    "import gensim\n",
    "from gensim.models import CoherenceModel"
   ]
  },
  {
   "cell_type": "code",
   "execution_count": 30,
   "id": "7544a2f2",
   "metadata": {
    "ExecuteTime": {
     "end_time": "2021-12-05T12:29:23.651637Z",
     "start_time": "2021-12-05T11:45:40.984243Z"
    }
   },
   "outputs": [
    {
     "name": "stderr",
     "output_type": "stream",
     "text": [
      "100%|█████████████████████████████████████████████████████████████████████████████████| 13/13 [43:42<00:00, 201.72s/it]\n"
     ]
    },
    {
     "data": {
      "image/png": "[encoded data removed]",
      "text/plain": [
       "<Figure size 432x288 with 1 Axes>"
      ]
     },
     "metadata": {
      "needs_background": "light"
     },
     "output_type": "display_data"
    }
   ],
   "source": [
    "coherence_values=[]\n",
    "for i in tqdm(range(2,15)):\n",
    "    ldamodel = LdaModel(corpus, id2word=dictionary, num_topics=i, iterations=400,passes = 20)\n",
    "    #ldamodel=gensim.models.ldamodel.LdaModel(corpus, num_topics=i, id2word=dictionary)\n",
    "    #ldamodel = models.ldamodel.LdaModel(corpus, num_topics=i, id2word=dictionary, random_state=99)\n",
    "    #coherence_model_lda=CoherenceModel(model=ldamodel, texts=corpus, dictionary=dictionary, topn=10)\n",
    "    coherence_model_lda=CoherenceModel(model=ldamodel, corpus=corpus, coherence='u_mass')\n",
    "    coherence_lda=coherence_model_lda.get_coherence()\n",
    "    coherence_values.append(coherence_lda)\n",
    "    \n",
    "x=range(2,15)\n",
    "plt.plot(x, coherence_values)\n",
    "plt.xlabel(\"number of topics\")\n",
    "plt.ylabel(\"coherence score\")\n",
    "plt.show()"
   ]
  },
  {
   "cell_type": "markdown",
   "id": "a2a4282f",
   "metadata": {},
   "source": [
    "---"
   ]
  },
  {
   "cell_type": "code",
   "execution_count": null,
   "id": "387824e2",
   "metadata": {},
   "outputs": [],
   "source": []
  }
 ],
 "metadata": {
  "hide_input": false,
  "kernelspec": {
   "display_name": "Python 3",
   "language": "python",
   "name": "python3"
  },
  "language_info": {
   "codemirror_mode": {
    "name": "ipython",
    "version": 3
   },
   "file_extension": ".py",
   "mimetype": "text/x-python",
   "name": "python",
   "nbconvert_exporter": "python",
   "pygments_lexer": "ipython3",
   "version": "3.8.8"
  },
  "toc": {
   "base_numbering": 1,
   "nav_menu": {},
   "number_sections": true,
   "sideBar": true,
   "skip_h1_title": false,
   "title_cell": "Table of Contents",
   "title_sidebar": "Contents",
   "toc_cell": false,
   "toc_position": {},
   "toc_section_display": true,
   "toc_window_display": false
  },
  "varInspector": {
   "cols": {
    "lenName": 16,
    "lenType": 16,
    "lenVar": 40
   },
   "kernels_config": {
    "python": {
     "delete_cmd_postfix": "",
     "delete_cmd_prefix": "del ",
     "library": "var_list.py",
     "varRefreshCmd": "print(var_dic_list())"
    },
    "r": {
     "delete_cmd_postfix": ") ",
     "delete_cmd_prefix": "rm(",
     "library": "var_list.r",
     "varRefreshCmd": "cat(var_dic_list()) "
    }
   },
   "types_to_exclude": [
    "module",
    "function",
    "builtin_function_or_method",
    "instance",
    "_Feature"
   ],
   "window_display": false
  }
 },
 "nbformat": 4,
 "nbformat_minor": 5
}
