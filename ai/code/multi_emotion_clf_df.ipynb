{
 "cells": [
  {
   "cell_type": "code",
   "execution_count": 12,
   "id": "ff9c3b57",
   "metadata": {
    "ExecuteTime": {
     "end_time": "2021-12-04T15:14:47.437870Z",
     "start_time": "2021-12-04T15:14:47.415748Z"
    }
   },
   "outputs": [],
   "source": [
    "import re\n",
    "import requests\n",
    "from bs4 import BeautifulSoup\n",
    "import pandas as pd\n",
    "from konlpy.tag import Okt  \n",
    "okt = Okt() \n",
    "import tensorflow as tf\n",
    "import numpy as np\n",
    "from collections import Counter\n",
    "from wordcloud import WordCloud\n",
    "import matplotlib.pyplot as plt\n",
    "\n",
    "\n",
    "import urllib.request\n",
    "from tqdm import tqdm\n",
    "from tensorflow.keras.preprocessing.text import Tokenizer\n",
    "from tensorflow.keras.preprocessing.sequence import pad_sequences\n",
    "from sklearn.model_selection import train_test_split"
   ]
  },
  {
   "cell_type": "code",
   "execution_count": 13,
   "id": "fd75dee7",
   "metadata": {
    "ExecuteTime": {
     "end_time": "2021-12-04T15:14:47.453959Z",
     "start_time": "2021-12-04T15:14:47.439740Z"
    }
   },
   "outputs": [],
   "source": [
    "import matplotlib.pyplot as plt \n",
    "%matplotlib inline\n",
    "from string import punctuation\n",
    "import warnings\n",
    "warnings.filterwarnings('ignore')"
   ]
  },
  {
   "cell_type": "code",
   "execution_count": 14,
   "id": "21e83fa7",
   "metadata": {
    "ExecuteTime": {
     "end_time": "2021-12-04T15:14:47.562774Z",
     "start_time": "2021-12-04T15:14:47.457209Z"
    },
    "scrolled": true
   },
   "outputs": [
    {
     "data": {
      "text/html": [
       "<div>\n",
       "<style scoped>\n",
       "    .dataframe tbody tr th:only-of-type {\n",
       "        vertical-align: middle;\n",
       "    }\n",
       "\n",
       "    .dataframe tbody tr th {\n",
       "        vertical-align: top;\n",
       "    }\n",
       "\n",
       "    .dataframe thead th {\n",
       "        text-align: right;\n",
       "    }\n",
       "</style>\n",
       "<table border=\"1\" class=\"dataframe\">\n",
       "  <thead>\n",
       "    <tr style=\"text-align: right;\">\n",
       "      <th></th>\n",
       "      <th>Sentence</th>\n",
       "      <th>Emotion</th>\n",
       "    </tr>\n",
       "  </thead>\n",
       "  <tbody>\n",
       "    <tr>\n",
       "      <th>0</th>\n",
       "      <td>언니 동생으로 부르는게 맞는 일인가요..??</td>\n",
       "      <td>공포</td>\n",
       "    </tr>\n",
       "  </tbody>\n",
       "</table>\n",
       "</div>"
      ],
      "text/plain": [
       "                   Sentence Emotion\n",
       "0  언니 동생으로 부르는게 맞는 일인가요..??      공포"
      ]
     },
     "execution_count": 14,
     "metadata": {},
     "output_type": "execute_result"
    }
   ],
   "source": [
    "emotion = pd.read_csv('emotion_dataset.csv')\n",
    "emotion.head(1)"
   ]
  },
  {
   "cell_type": "code",
   "execution_count": 15,
   "id": "f82a2752",
   "metadata": {
    "ExecuteTime": {
     "end_time": "2021-12-04T15:14:47.593737Z",
     "start_time": "2021-12-04T15:14:47.564748Z"
    }
   },
   "outputs": [
    {
     "name": "stdout",
     "output_type": "stream",
     "text": [
      "<class 'pandas.core.frame.DataFrame'>\n",
      "RangeIndex: 38594 entries, 0 to 38593\n",
      "Data columns (total 2 columns):\n",
      " #   Column    Non-Null Count  Dtype \n",
      "---  ------    --------------  ----- \n",
      " 0   Sentence  38594 non-null  object\n",
      " 1   Emotion   38594 non-null  object\n",
      "dtypes: object(2)\n",
      "memory usage: 603.2+ KB\n"
     ]
    }
   ],
   "source": [
    "emotion.info()"
   ]
  },
  {
   "cell_type": "markdown",
   "id": "8e64f845",
   "metadata": {},
   "source": [
    "## 전처리"
   ]
  },
  {
   "cell_type": "code",
   "execution_count": 16,
   "id": "308043da",
   "metadata": {
    "ExecuteTime": {
     "end_time": "2021-12-04T15:14:47.608733Z",
     "start_time": "2021-12-04T15:14:47.595736Z"
    }
   },
   "outputs": [
    {
     "data": {
      "text/html": [
       "<div>\n",
       "<style scoped>\n",
       "    .dataframe tbody tr th:only-of-type {\n",
       "        vertical-align: middle;\n",
       "    }\n",
       "\n",
       "    .dataframe tbody tr th {\n",
       "        vertical-align: top;\n",
       "    }\n",
       "\n",
       "    .dataframe thead th {\n",
       "        text-align: right;\n",
       "    }\n",
       "</style>\n",
       "<table border=\"1\" class=\"dataframe\">\n",
       "  <thead>\n",
       "    <tr style=\"text-align: right;\">\n",
       "      <th></th>\n",
       "      <th>Sentence</th>\n",
       "      <th>Emotion</th>\n",
       "    </tr>\n",
       "  </thead>\n",
       "  <tbody>\n",
       "    <tr>\n",
       "      <th>0</th>\n",
       "      <td>언니 동생으로 부르는게 맞는 일인가요..??</td>\n",
       "      <td>공포</td>\n",
       "    </tr>\n",
       "    <tr>\n",
       "      <th>1</th>\n",
       "      <td>그냥 내 느낌일뿐겠지?</td>\n",
       "      <td>공포</td>\n",
       "    </tr>\n",
       "    <tr>\n",
       "      <th>2</th>\n",
       "      <td>아직너무초기라서 그런거죠?</td>\n",
       "      <td>공포</td>\n",
       "    </tr>\n",
       "    <tr>\n",
       "      <th>3</th>\n",
       "      <td>유치원버스 사고 낫다던데</td>\n",
       "      <td>공포</td>\n",
       "    </tr>\n",
       "    <tr>\n",
       "      <th>4</th>\n",
       "      <td>근데 원래이런거맞나요</td>\n",
       "      <td>공포</td>\n",
       "    </tr>\n",
       "    <tr>\n",
       "      <th>...</th>\n",
       "      <td>...</td>\n",
       "      <td>...</td>\n",
       "    </tr>\n",
       "    <tr>\n",
       "      <th>38589</th>\n",
       "      <td>솔직히 예보 제대로 못하는 데 세금이라도 아끼게 그냥 폐지해라..</td>\n",
       "      <td>혐오</td>\n",
       "    </tr>\n",
       "    <tr>\n",
       "      <th>38590</th>\n",
       "      <td>재미가 없으니 망하지</td>\n",
       "      <td>혐오</td>\n",
       "    </tr>\n",
       "    <tr>\n",
       "      <th>38591</th>\n",
       "      <td>공장 도시락 비우생적임 아르바이트했는데 화장실가성 손도 않씯고 재료 담고 바닥 떨어...</td>\n",
       "      <td>혐오</td>\n",
       "    </tr>\n",
       "    <tr>\n",
       "      <th>38592</th>\n",
       "      <td>코딱지 만한 나라에서 지들끼리 피터지게 싸우는 센징 클래스 ㅉㅉㅉ</td>\n",
       "      <td>혐오</td>\n",
       "    </tr>\n",
       "    <tr>\n",
       "      <th>38593</th>\n",
       "      <td>와이프도 그렇고 댓글 다 볼텐데 이휘재 좀 하차 하라고 전해주세요</td>\n",
       "      <td>혐오</td>\n",
       "    </tr>\n",
       "  </tbody>\n",
       "</table>\n",
       "<p>38594 rows × 2 columns</p>\n",
       "</div>"
      ],
      "text/plain": [
       "                                                Sentence Emotion\n",
       "0                               언니 동생으로 부르는게 맞는 일인가요..??      공포\n",
       "1                                           그냥 내 느낌일뿐겠지?      공포\n",
       "2                                         아직너무초기라서 그런거죠?      공포\n",
       "3                                          유치원버스 사고 낫다던데      공포\n",
       "4                                            근데 원래이런거맞나요      공포\n",
       "...                                                  ...     ...\n",
       "38589               솔직히 예보 제대로 못하는 데 세금이라도 아끼게 그냥 폐지해라..      혐오\n",
       "38590                                        재미가 없으니 망하지      혐오\n",
       "38591  공장 도시락 비우생적임 아르바이트했는데 화장실가성 손도 않씯고 재료 담고 바닥 떨어...      혐오\n",
       "38592               코딱지 만한 나라에서 지들끼리 피터지게 싸우는 센징 클래스 ㅉㅉㅉ      혐오\n",
       "38593               와이프도 그렇고 댓글 다 볼텐데 이휘재 좀 하차 하라고 전해주세요      혐오\n",
       "\n",
       "[38594 rows x 2 columns]"
      ]
     },
     "execution_count": 16,
     "metadata": {},
     "output_type": "execute_result"
    }
   ],
   "source": [
    "emotion "
   ]
  },
  {
   "cell_type": "code",
   "execution_count": 17,
   "id": "e5aeebd2",
   "metadata": {
    "ExecuteTime": {
     "end_time": "2021-12-04T15:14:47.701732Z",
     "start_time": "2021-12-04T15:14:47.610740Z"
    }
   },
   "outputs": [
    {
     "data": {
      "text/html": [
       "<div>\n",
       "<style scoped>\n",
       "    .dataframe tbody tr th:only-of-type {\n",
       "        vertical-align: middle;\n",
       "    }\n",
       "\n",
       "    .dataframe tbody tr th {\n",
       "        vertical-align: top;\n",
       "    }\n",
       "\n",
       "    .dataframe thead th {\n",
       "        text-align: right;\n",
       "    }\n",
       "</style>\n",
       "<table border=\"1\" class=\"dataframe\">\n",
       "  <thead>\n",
       "    <tr style=\"text-align: right;\">\n",
       "      <th></th>\n",
       "      <th>Sentence</th>\n",
       "      <th>Emotion</th>\n",
       "    </tr>\n",
       "  </thead>\n",
       "  <tbody>\n",
       "    <tr>\n",
       "      <th>0</th>\n",
       "      <td>언니 동생으로 부르는게 맞는 일인가요</td>\n",
       "      <td>공포</td>\n",
       "    </tr>\n",
       "    <tr>\n",
       "      <th>1</th>\n",
       "      <td>그냥 내 느낌일뿐겠지</td>\n",
       "      <td>공포</td>\n",
       "    </tr>\n",
       "    <tr>\n",
       "      <th>2</th>\n",
       "      <td>아직너무초기라서 그런거죠</td>\n",
       "      <td>공포</td>\n",
       "    </tr>\n",
       "    <tr>\n",
       "      <th>3</th>\n",
       "      <td>유치원버스 사고 낫다던데</td>\n",
       "      <td>공포</td>\n",
       "    </tr>\n",
       "    <tr>\n",
       "      <th>4</th>\n",
       "      <td>근데 원래이런거맞나요</td>\n",
       "      <td>공포</td>\n",
       "    </tr>\n",
       "  </tbody>\n",
       "</table>\n",
       "</div>"
      ],
      "text/plain": [
       "               Sentence Emotion\n",
       "0  언니 동생으로 부르는게 맞는 일인가요      공포\n",
       "1           그냥 내 느낌일뿐겠지      공포\n",
       "2         아직너무초기라서 그런거죠      공포\n",
       "3         유치원버스 사고 낫다던데      공포\n",
       "4           근데 원래이런거맞나요      공포"
      ]
     },
     "execution_count": 17,
     "metadata": {},
     "output_type": "execute_result"
    }
   ],
   "source": [
    "emotion['Sentence'] = emotion['Sentence'].str.replace(\"[^ㄱ-ㅎㅏ-ㅣ가-힣 ]\",\"\")\n",
    "# 한글과 공백을 제외하고 모두 제거\n",
    "emotion[:5]"
   ]
  },
  {
   "cell_type": "code",
   "execution_count": 18,
   "id": "42805b00",
   "metadata": {
    "ExecuteTime": {
     "end_time": "2021-12-04T15:14:47.811812Z",
     "start_time": "2021-12-04T15:14:47.703737Z"
    }
   },
   "outputs": [
    {
     "name": "stdout",
     "output_type": "stream",
     "text": [
      "Sentence    2\n",
      "Emotion     0\n",
      "dtype: int64\n"
     ]
    }
   ],
   "source": [
    "emotion['Sentence'] = emotion['Sentence'].str.replace('^ +', \"\") # white space 데이터를 empty value로 변경\n",
    "emotion['Sentence'].replace('', np.nan, inplace=True)\n",
    "print(emotion.isnull().sum())"
   ]
  },
  {
   "cell_type": "code",
   "execution_count": null,
   "id": "9e70b782",
   "metadata": {},
   "outputs": [],
   "source": []
  },
  {
   "cell_type": "code",
   "execution_count": 19,
   "id": "c0f316c3",
   "metadata": {
    "ExecuteTime": {
     "end_time": "2021-12-04T15:14:47.843845Z",
     "start_time": "2021-12-04T15:14:47.817742Z"
    }
   },
   "outputs": [
    {
     "data": {
      "text/html": [
       "<div>\n",
       "<style scoped>\n",
       "    .dataframe tbody tr th:only-of-type {\n",
       "        vertical-align: middle;\n",
       "    }\n",
       "\n",
       "    .dataframe tbody tr th {\n",
       "        vertical-align: top;\n",
       "    }\n",
       "\n",
       "    .dataframe thead th {\n",
       "        text-align: right;\n",
       "    }\n",
       "</style>\n",
       "<table border=\"1\" class=\"dataframe\">\n",
       "  <thead>\n",
       "    <tr style=\"text-align: right;\">\n",
       "      <th></th>\n",
       "      <th>Sentence</th>\n",
       "      <th>Emotion</th>\n",
       "    </tr>\n",
       "  </thead>\n",
       "  <tbody>\n",
       "    <tr>\n",
       "      <th>10149</th>\n",
       "      <td>NaN</td>\n",
       "      <td>놀람</td>\n",
       "    </tr>\n",
       "    <tr>\n",
       "      <th>31822</th>\n",
       "      <td>NaN</td>\n",
       "      <td>행복</td>\n",
       "    </tr>\n",
       "  </tbody>\n",
       "</table>\n",
       "</div>"
      ],
      "text/plain": [
       "      Sentence Emotion\n",
       "10149      NaN      놀람\n",
       "31822      NaN      행복"
      ]
     },
     "execution_count": 19,
     "metadata": {},
     "output_type": "execute_result"
    }
   ],
   "source": [
    "emotion[emotion['Sentence'].isnull()]"
   ]
  },
  {
   "cell_type": "code",
   "execution_count": 20,
   "id": "6c8e679c",
   "metadata": {
    "ExecuteTime": {
     "end_time": "2021-12-04T15:14:47.874872Z",
     "start_time": "2021-12-04T15:14:47.847737Z"
    }
   },
   "outputs": [
    {
     "name": "stdout",
     "output_type": "stream",
     "text": [
      "전처리 후 데이터의 개수 : 38592\n"
     ]
    }
   ],
   "source": [
    "emotion = emotion.dropna(how = 'any')\n",
    "print('전처리 후 데이터의 개수 :',len(emotion))"
   ]
  },
  {
   "cell_type": "markdown",
   "id": "3873723c",
   "metadata": {},
   "source": [
    "## 데이터 라벨링"
   ]
  },
  {
   "cell_type": "code",
   "execution_count": 21,
   "id": "9287bf15",
   "metadata": {
    "ExecuteTime": {
     "end_time": "2021-12-04T15:14:48.112883Z",
     "start_time": "2021-12-04T15:14:47.876736Z"
    }
   },
   "outputs": [],
   "source": [
    "emotion.loc[(emotion['Emotion'] == \"공포\"), 'Emotion'] = 0  #공포 => 0\n",
    "emotion.loc[(emotion['Emotion'] == \"놀람\"), 'Emotion'] = 1  #놀람 => 1\n",
    "emotion.loc[(emotion['Emotion'] == \"분노\"), 'Emotion'] = 2  #분노 => 2\n",
    "emotion.loc[(emotion['Emotion'] == \"슬픔\"), 'Emotion'] = 3  #슬픔 => 3\n",
    "emotion.loc[(emotion['Emotion'] == \"중립\"), 'Emotion'] = 4  #중립 => 4\n",
    "emotion.loc[(emotion['Emotion'] == \"행복\"), 'Emotion'] = 5  #행복 => 5\n",
    "emotion.loc[(emotion['Emotion'] == \"혐오\"), 'Emotion'] = 6  #혐오 => 6"
   ]
  },
  {
   "cell_type": "markdown",
   "id": "08c7b70c",
   "metadata": {},
   "source": [
    "## 데이터 형변환 object -> int"
   ]
  },
  {
   "cell_type": "code",
   "execution_count": 22,
   "id": "2acf3ee3",
   "metadata": {
    "ExecuteTime": {
     "end_time": "2021-12-04T15:14:48.128216Z",
     "start_time": "2021-12-04T15:14:48.115741Z"
    }
   },
   "outputs": [],
   "source": [
    "## 시도 1 astype()으로 변경"
   ]
  },
  {
   "cell_type": "code",
   "execution_count": 23,
   "id": "8a36f0f1",
   "metadata": {
    "ExecuteTime": {
     "end_time": "2021-12-04T15:14:48.143774Z",
     "start_time": "2021-12-04T15:14:48.130740Z"
    }
   },
   "outputs": [],
   "source": [
    "emotion.Emotion = emotion.Emotion.astype(int)"
   ]
  },
  {
   "cell_type": "code",
   "execution_count": 24,
   "id": "04659bd0",
   "metadata": {
    "ExecuteTime": {
     "end_time": "2021-12-04T15:14:48.174856Z",
     "start_time": "2021-12-04T15:14:48.147739Z"
    }
   },
   "outputs": [
    {
     "name": "stdout",
     "output_type": "stream",
     "text": [
      "<class 'pandas.core.frame.DataFrame'>\n",
      "Int64Index: 38592 entries, 0 to 38593\n",
      "Data columns (total 2 columns):\n",
      " #   Column    Non-Null Count  Dtype \n",
      "---  ------    --------------  ----- \n",
      " 0   Sentence  38592 non-null  object\n",
      " 1   Emotion   38592 non-null  int32 \n",
      "dtypes: int32(1), object(1)\n",
      "memory usage: 753.8+ KB\n"
     ]
    }
   ],
   "source": [
    "emotion.info()"
   ]
  },
  {
   "cell_type": "code",
   "execution_count": 25,
   "id": "49974679",
   "metadata": {
    "ExecuteTime": {
     "end_time": "2021-12-04T15:14:48.190735Z",
     "start_time": "2021-12-04T15:14:48.177773Z"
    }
   },
   "outputs": [
    {
     "data": {
      "text/plain": [
       "array([0, 1, 2, 3, 4, 5, 6])"
      ]
     },
     "execution_count": 25,
     "metadata": {},
     "output_type": "execute_result"
    }
   ],
   "source": [
    "emotion.Emotion.unique()"
   ]
  },
  {
   "cell_type": "markdown",
   "id": "c1cb5f7a",
   "metadata": {
    "ExecuteTime": {
     "end_time": "2021-12-02T00:50:13.897329Z",
     "start_time": "2021-12-02T00:50:13.890368Z"
    }
   },
   "source": [
    "---"
   ]
  },
  {
   "cell_type": "code",
   "execution_count": 26,
   "id": "3c74b646",
   "metadata": {
    "ExecuteTime": {
     "end_time": "2021-12-04T15:14:48.205773Z",
     "start_time": "2021-12-04T15:14:48.192771Z"
    }
   },
   "outputs": [],
   "source": [
    "## 시도 2 하나씩 분리해서 다시 append"
   ]
  },
  {
   "cell_type": "code",
   "execution_count": 27,
   "id": "24b5f851",
   "metadata": {
    "ExecuteTime": {
     "end_time": "2021-12-04T15:14:48.221886Z",
     "start_time": "2021-12-04T15:14:48.208736Z"
    }
   },
   "outputs": [],
   "source": [
    "fear = emotion[emotion['Emotion'] == 0]\n",
    "fear['Emotion'] = 0"
   ]
  },
  {
   "cell_type": "code",
   "execution_count": 28,
   "id": "98ef3c64",
   "metadata": {
    "ExecuteTime": {
     "end_time": "2021-12-04T15:14:48.237735Z",
     "start_time": "2021-12-04T15:14:48.223734Z"
    }
   },
   "outputs": [],
   "source": [
    "sur = emotion[emotion['Emotion'] == 1]\n",
    "sur['Emotion'] = 1"
   ]
  },
  {
   "cell_type": "code",
   "execution_count": 29,
   "id": "0bf922b2",
   "metadata": {
    "ExecuteTime": {
     "end_time": "2021-12-04T15:14:48.268775Z",
     "start_time": "2021-12-04T15:14:48.240747Z"
    }
   },
   "outputs": [],
   "source": [
    "ang = emotion[emotion['Emotion'] == 2]\n",
    "ang['Emotion'] = 2\n",
    "sad = emotion[emotion['Emotion'] == 3]\n",
    "sad['Emotion'] = 3\n",
    "neu = emotion[emotion['Emotion'] == 4]\n",
    "neu['Emotion'] = 4\n",
    "joy = emotion[emotion['Emotion'] == 5]\n",
    "joy['Emotion'] = 5\n",
    "hat = emotion[emotion['Emotion'] == 6]\n",
    "hat['Emotion'] = 6"
   ]
  },
  {
   "cell_type": "code",
   "execution_count": 30,
   "id": "e79f5960",
   "metadata": {
    "ExecuteTime": {
     "end_time": "2021-12-04T15:14:48.284874Z",
     "start_time": "2021-12-04T15:14:48.271736Z"
    }
   },
   "outputs": [],
   "source": [
    "emotion = fear.append(sur)"
   ]
  },
  {
   "cell_type": "code",
   "execution_count": 31,
   "id": "79e147b4",
   "metadata": {
    "ExecuteTime": {
     "end_time": "2021-12-04T15:14:48.315969Z",
     "start_time": "2021-12-04T15:14:48.287738Z"
    }
   },
   "outputs": [],
   "source": [
    "emotion = emotion.append(ang)\n",
    "emotion = emotion.append(sad)\n",
    "emotion = emotion.append(neu)\n",
    "emotion = emotion.append(joy)\n",
    "emotion = emotion.append(hat)"
   ]
  },
  {
   "cell_type": "markdown",
   "id": "a88b833c",
   "metadata": {
    "ExecuteTime": {
     "end_time": "2021-12-02T02:48:27.161121Z",
     "start_time": "2021-12-02T02:48:27.146127Z"
    }
   },
   "source": [
    "---"
   ]
  },
  {
   "cell_type": "code",
   "execution_count": 32,
   "id": "ce13b425",
   "metadata": {
    "ExecuteTime": {
     "end_time": "2021-12-04T15:14:48.331747Z",
     "start_time": "2021-12-04T15:14:48.319593Z"
    }
   },
   "outputs": [
    {
     "data": {
      "text/plain": [
       "(38592, 2)"
      ]
     },
     "execution_count": 32,
     "metadata": {},
     "output_type": "execute_result"
    }
   ],
   "source": [
    "emotion.shape"
   ]
  },
  {
   "cell_type": "code",
   "execution_count": 33,
   "id": "a33b71e4",
   "metadata": {
    "ExecuteTime": {
     "end_time": "2021-12-04T15:14:48.346925Z",
     "start_time": "2021-12-04T15:14:48.335785Z"
    }
   },
   "outputs": [],
   "source": [
    "# print(data_list[0])\n",
    "# print(data_list[6000])\n",
    "# print(data_list[12000])\n",
    "# print(data_list[18000])\n",
    "# print(data_list[24000])\n",
    "# print(data_list[30000])\n",
    "# print(data_list[-1])"
   ]
  },
  {
   "cell_type": "code",
   "execution_count": 34,
   "id": "1cafcae0",
   "metadata": {
    "ExecuteTime": {
     "end_time": "2021-12-04T15:14:48.362747Z",
     "start_time": "2021-12-04T15:14:48.355750Z"
    }
   },
   "outputs": [],
   "source": [
    "emotion.reset_index(drop=True,inplace=True)"
   ]
  },
  {
   "cell_type": "code",
   "execution_count": 35,
   "id": "6fa8216f",
   "metadata": {
    "ExecuteTime": {
     "end_time": "2021-12-04T15:14:48.394748Z",
     "start_time": "2021-12-04T15:14:48.370749Z"
    }
   },
   "outputs": [
    {
     "data": {
      "text/plain": [
       "numpy.int64"
      ]
     },
     "execution_count": 35,
     "metadata": {},
     "output_type": "execute_result"
    }
   ],
   "source": [
    "type(emotion['Emotion'].iloc[0])"
   ]
  },
  {
   "cell_type": "markdown",
   "id": "99e99197",
   "metadata": {},
   "source": [
    "## 데이터 분리"
   ]
  },
  {
   "cell_type": "code",
   "execution_count": 36,
   "id": "c5b65a79",
   "metadata": {
    "ExecuteTime": {
     "end_time": "2021-12-04T15:14:48.425785Z",
     "start_time": "2021-12-04T15:14:48.397747Z"
    }
   },
   "outputs": [],
   "source": [
    "train_data, test_data = train_test_split(\n",
    "  emotion,\n",
    "  test_size = 0.25,\n",
    "  random_state = 5\n",
    ")"
   ]
  },
  {
   "cell_type": "code",
   "execution_count": 37,
   "id": "4fa038ec",
   "metadata": {
    "ExecuteTime": {
     "end_time": "2021-12-04T15:14:48.441891Z",
     "start_time": "2021-12-04T15:14:48.428754Z"
    }
   },
   "outputs": [
    {
     "data": {
      "text/html": [
       "<div>\n",
       "<style scoped>\n",
       "    .dataframe tbody tr th:only-of-type {\n",
       "        vertical-align: middle;\n",
       "    }\n",
       "\n",
       "    .dataframe tbody tr th {\n",
       "        vertical-align: top;\n",
       "    }\n",
       "\n",
       "    .dataframe thead th {\n",
       "        text-align: right;\n",
       "    }\n",
       "</style>\n",
       "<table border=\"1\" class=\"dataframe\">\n",
       "  <thead>\n",
       "    <tr style=\"text-align: right;\">\n",
       "      <th></th>\n",
       "      <th>Sentence</th>\n",
       "      <th>Emotion</th>\n",
       "    </tr>\n",
       "  </thead>\n",
       "  <tbody>\n",
       "    <tr>\n",
       "      <th>8793</th>\n",
       "      <td>진짜 많은 사람들앞에서 실제로 손님이 있다고치고 연습하나요</td>\n",
       "      <td>1</td>\n",
       "    </tr>\n",
       "    <tr>\n",
       "      <th>5134</th>\n",
       "      <td>남자친구한테 기대지않으려면 어떻게해야할까요</td>\n",
       "      <td>0</td>\n",
       "    </tr>\n",
       "    <tr>\n",
       "      <th>1440</th>\n",
       "      <td>유투브 땅굴 발견 전쟁임박</td>\n",
       "      <td>0</td>\n",
       "    </tr>\n",
       "  </tbody>\n",
       "</table>\n",
       "</div>"
      ],
      "text/plain": [
       "                              Sentence  Emotion\n",
       "8793  진짜 많은 사람들앞에서 실제로 손님이 있다고치고 연습하나요        1\n",
       "5134           남자친구한테 기대지않으려면 어떻게해야할까요        0\n",
       "1440                    유투브 땅굴 발견 전쟁임박        0"
      ]
     },
     "execution_count": 37,
     "metadata": {},
     "output_type": "execute_result"
    }
   ],
   "source": [
    "train_data.head(3)"
   ]
  },
  {
   "cell_type": "code",
   "execution_count": 38,
   "id": "0a64fdc8",
   "metadata": {
    "ExecuteTime": {
     "end_time": "2021-12-04T15:14:48.457744Z",
     "start_time": "2021-12-04T15:14:48.445786Z"
    }
   },
   "outputs": [],
   "source": [
    " # 불용어 (가사 빈도수 높은 + 감정분류와 무관한 단어 추가 중)\n",
    "stop_w = ['all','이렇게','네가','있는','니가','없는','너의','너무','그런',\n",
    "          'oh','whoo','tuesday','내가','너를','나를','we','this','the','그렇게',\n",
    "          'so','am','baby','and','can','you','much','me','for','go','in',\n",
    "          '은', '는', '이', '가', '하','부터','처럼','까지',\n",
    "          'know','no','of','let','my','수','너','내','나','그','난','봐',\n",
    "          '돼','건','모든','에서','에게','싶어','잖아',\n",
    "          '날','널','수','것','못','말','넌','젠','하나','정말','알','여기',\n",
    "          '우리','다시','하게','니까',\n",
    "          '때','아','더','게','또','채','일','걸','누구','나는','너는','라면',\n",
    "          '같아','있어',\n",
    "          '의','가','보','들','좀','잘','걍','과','도','를','으로','우린','하지',\n",
    "          '해도','하고','없어','않아',\n",
    "          '자','에','와','한','하다','네','있다','나의','해','다','내게','왜',\n",
    "          '거야','이제','그냥','했던','하는']"
   ]
  },
  {
   "cell_type": "code",
   "execution_count": 39,
   "id": "2aa86881",
   "metadata": {
    "ExecuteTime": {
     "end_time": "2021-12-04T15:17:02.697755Z",
     "start_time": "2021-12-04T15:14:48.460828Z"
    }
   },
   "outputs": [
    {
     "name": "stderr",
     "output_type": "stream",
     "text": [
      "100%|███████████████████████████████████████████████████████████████████████████| 28944/28944 [02:14<00:00, 215.65it/s]\n"
     ]
    }
   ],
   "source": [
    "# 학습 데이터\n",
    "X_train = []\n",
    "for sentence in tqdm(train_data['Sentence']):\n",
    "    tokenized_sentence = okt.morphs(sentence, stem=True) # 토큰화\n",
    "    stopwords_removed_sentence = [word for word in tokenized_sentence if not word in stop_w] # 불용어 제거\n",
    "    X_train.append(stopwords_removed_sentence)"
   ]
  },
  {
   "cell_type": "code",
   "execution_count": 40,
   "id": "8e444a45",
   "metadata": {
    "ExecuteTime": {
     "end_time": "2021-12-04T15:17:43.420354Z",
     "start_time": "2021-12-04T15:17:02.703693Z"
    }
   },
   "outputs": [
    {
     "name": "stderr",
     "output_type": "stream",
     "text": [
      "100%|█████████████████████████████████████████████████████████████████████████████| 9648/9648 [00:40<00:00, 237.15it/s]\n"
     ]
    }
   ],
   "source": [
    "# 테스트 데이터 \n",
    "X_test = []\n",
    "for sentence in tqdm(test_data['Sentence']):\n",
    "    tokenized_sentence = okt.morphs(sentence, stem=True) # 토큰화\n",
    "    stopwords_removed_sentence = [word for word in tokenized_sentence if not word in stop_w] # 불용어 제거\n",
    "    X_test.append(stopwords_removed_sentence)"
   ]
  },
  {
   "cell_type": "code",
   "execution_count": 41,
   "id": "e483066f",
   "metadata": {
    "ExecuteTime": {
     "end_time": "2021-12-04T15:17:43.451715Z",
     "start_time": "2021-12-04T15:17:43.425610Z"
    }
   },
   "outputs": [
    {
     "data": {
      "text/plain": [
       "[['진짜', '많다', '사람', '앞', '실제', '로', '손님', '연습', '하나요']]"
      ]
     },
     "execution_count": 41,
     "metadata": {},
     "output_type": "execute_result"
    }
   ],
   "source": [
    "X_train[:1]"
   ]
  },
  {
   "cell_type": "markdown",
   "id": "d85f0916",
   "metadata": {},
   "source": [
    "## 정답 데이터 저장"
   ]
  },
  {
   "cell_type": "code",
   "execution_count": 42,
   "id": "c2bef283",
   "metadata": {
    "ExecuteTime": {
     "end_time": "2021-12-04T15:17:43.468317Z",
     "start_time": "2021-12-04T15:17:43.456318Z"
    }
   },
   "outputs": [],
   "source": [
    "y_train = np.array(train_data['Emotion'])\n",
    "y_test = np.array(test_data['Emotion'])"
   ]
  },
  {
   "cell_type": "code",
   "execution_count": 43,
   "id": "22a2dd38",
   "metadata": {
    "ExecuteTime": {
     "end_time": "2021-12-04T15:17:43.498468Z",
     "start_time": "2021-12-04T15:17:43.474315Z"
    }
   },
   "outputs": [
    {
     "name": "stdout",
     "output_type": "stream",
     "text": [
      "[6145, 6853, 7993, 8338, 9141, 17672, 18777, 20080, 20274, 28235]\n"
     ]
    }
   ],
   "source": [
    "drop_train = [index for index, sentence in enumerate(X_train) if len(sentence) < 1]\n",
    "drop_test = [index for index, sentence in enumerate(X_test) if len(sentence) < 1]\n",
    "print(drop_train)"
   ]
  },
  {
   "cell_type": "code",
   "execution_count": 44,
   "id": "f66b921a",
   "metadata": {
    "ExecuteTime": {
     "end_time": "2021-12-04T15:17:43.576454Z",
     "start_time": "2021-12-04T15:17:43.502314Z"
    }
   },
   "outputs": [
    {
     "name": "stdout",
     "output_type": "stream",
     "text": [
      "28934\n",
      "28934\n",
      "9648\n",
      "9648\n",
      "9640\n",
      "9640\n"
     ]
    }
   ],
   "source": [
    "X_train = np.delete(X_train, drop_train, axis=0)\n",
    "y_train = np.delete(y_train, drop_train, axis=0)\n",
    "print(len(X_train))\n",
    "print(len(y_train))\n",
    "print(len(X_test))\n",
    "print(len(y_test))\n",
    "X_test = np.delete(X_test, drop_test, axis=0)\n",
    "y_test = np.delete(y_test, drop_test, axis=0)\n",
    "print(len(X_test))\n",
    "print(len(y_test))"
   ]
  },
  {
   "cell_type": "markdown",
   "id": "f936f25d",
   "metadata": {},
   "source": [
    "## 정수 인코딩"
   ]
  },
  {
   "cell_type": "code",
   "execution_count": 45,
   "id": "11070dd1",
   "metadata": {
    "ExecuteTime": {
     "end_time": "2021-12-04T15:17:44.037683Z",
     "start_time": "2021-12-04T15:17:43.580481Z"
    }
   },
   "outputs": [],
   "source": [
    "tokenizer = Tokenizer()\n",
    "tokenizer.fit_on_texts(X_train)"
   ]
  },
  {
   "cell_type": "code",
   "execution_count": 46,
   "id": "c350d61e",
   "metadata": {
    "ExecuteTime": {
     "end_time": "2021-12-04T15:17:44.052465Z",
     "start_time": "2021-12-04T15:17:44.043460Z"
    }
   },
   "outputs": [],
   "source": [
    "# print(tokenizer.word_index)\n",
    "# print(tokenizer.word_counts.items())"
   ]
  },
  {
   "cell_type": "code",
   "execution_count": 47,
   "id": "c6ae7fca",
   "metadata": {
    "ExecuteTime": {
     "end_time": "2021-12-04T15:17:44.083982Z",
     "start_time": "2021-12-04T15:17:44.057707Z"
    }
   },
   "outputs": [
    {
     "name": "stdout",
     "output_type": "stream",
     "text": [
      "[list(['진짜', '많다', '사람', '앞', '실제', '로', '손님', '연습', '하나요'])]\n"
     ]
    }
   ],
   "source": [
    "print(X_train[:1])"
   ]
  },
  {
   "cell_type": "markdown",
   "id": "c37a85fe",
   "metadata": {},
   "source": [
    "## 빈도수 확인"
   ]
  },
  {
   "cell_type": "code",
   "execution_count": 48,
   "id": "1412febb",
   "metadata": {
    "ExecuteTime": {
     "end_time": "2021-12-04T15:17:44.098973Z",
     "start_time": "2021-12-04T15:17:44.089972Z"
    }
   },
   "outputs": [],
   "source": [
    "threshold = 3\n",
    "total_cnt = len(tokenizer.word_index) # 단어의 수\n",
    "rare_cnt = 0 # 등장 빈도수가 threshold보다 작은 단어의 개수를 카운트\n",
    "total_freq = 0 # 훈련 데이터의 전체 단어 빈도수 총 합\n",
    "rare_freq = 0 # 등장 빈도수가 threshold보다 작은 단어의 등장 빈도수의 총 합"
   ]
  },
  {
   "cell_type": "code",
   "execution_count": 49,
   "id": "37a621ad",
   "metadata": {
    "ExecuteTime": {
     "end_time": "2021-12-04T15:17:44.161970Z",
     "start_time": "2021-12-04T15:17:44.105974Z"
    }
   },
   "outputs": [
    {
     "name": "stdout",
     "output_type": "stream",
     "text": [
      "단어 집합(vocabulary)의 크기 : 19774\n",
      "등장 빈도가 2번 이하인 희귀 단어의 수: 12449\n",
      "단어 집합에서 희귀 단어의 비율: 62.95640740366137\n",
      "전체 등장 빈도에서 희귀 단어 등장 빈도 비율: 8.144362146026966\n"
     ]
    }
   ],
   "source": [
    "# 단어와 빈도수의 쌍(pair)을 key와 value로 받는다.\n",
    "for key, value in tokenizer.word_counts.items():\n",
    "    total_freq = total_freq + value\n",
    "\n",
    "    # 단어의 등장 빈도수가 threshold보다 작으면\n",
    "    if(value < threshold):\n",
    "        rare_cnt = rare_cnt + 1\n",
    "        rare_freq = rare_freq + value\n",
    "\n",
    "print('단어 집합(vocabulary)의 크기 :',total_cnt)\n",
    "print('등장 빈도가 %s번 이하인 희귀 단어의 수: %s'%(threshold - 1, rare_cnt))\n",
    "print(\"단어 집합에서 희귀 단어의 비율:\", (rare_cnt / total_cnt)*100)\n",
    "print(\"전체 등장 빈도에서 희귀 단어 등장 빈도 비율:\", (rare_freq / total_freq)*100)"
   ]
  },
  {
   "cell_type": "code",
   "execution_count": 50,
   "id": "67be7ef6",
   "metadata": {
    "ExecuteTime": {
     "end_time": "2021-12-04T15:17:44.177103Z",
     "start_time": "2021-12-04T15:17:44.165971Z"
    }
   },
   "outputs": [
    {
     "name": "stdout",
     "output_type": "stream",
     "text": [
      "단어 집합의 크기 : 7326\n"
     ]
    }
   ],
   "source": [
    "# 전체 단어 개수 중 빈도수 2이하인 단어는 제거.\n",
    "# 0번 패딩 토큰을 고려하여 + 1\n",
    "vocab_size = total_cnt - rare_cnt + 1\n",
    "print('단어 집합의 크기 :',vocab_size)"
   ]
  },
  {
   "cell_type": "code",
   "execution_count": 51,
   "id": "495986dc",
   "metadata": {
    "ExecuteTime": {
     "end_time": "2021-12-04T15:17:45.209915Z",
     "start_time": "2021-12-04T15:17:44.180969Z"
    }
   },
   "outputs": [],
   "source": [
    "tokenizer = Tokenizer(vocab_size) \n",
    "tokenizer.fit_on_texts(X_train)\n",
    "X_train = tokenizer.texts_to_sequences(X_train)\n",
    "X_test = tokenizer.texts_to_sequences(X_test)"
   ]
  },
  {
   "cell_type": "markdown",
   "id": "3378c67a",
   "metadata": {
    "ExecuteTime": {
     "end_time": "2021-11-24T10:14:09.405288Z",
     "start_time": "2021-11-24T10:14:09.397289Z"
    }
   },
   "source": [
    "### 정수 인코딩 확인"
   ]
  },
  {
   "cell_type": "code",
   "execution_count": 52,
   "id": "5ac9627c",
   "metadata": {
    "ExecuteTime": {
     "end_time": "2021-12-04T15:17:45.225929Z",
     "start_time": "2021-12-04T15:17:45.215970Z"
    }
   },
   "outputs": [
    {
     "name": "stdout",
     "output_type": "stream",
     "text": [
      "[[9, 33, 14, 131, 982, 10, 1129, 1552, 747]]\n"
     ]
    }
   ],
   "source": [
    "print(X_train[:1])"
   ]
  },
  {
   "cell_type": "markdown",
   "id": "d5273fe5",
   "metadata": {},
   "source": [
    "## 패딩"
   ]
  },
  {
   "cell_type": "code",
   "execution_count": 53,
   "id": "88981f5c",
   "metadata": {
    "ExecuteTime": {
     "end_time": "2021-12-04T15:17:46.325420Z",
     "start_time": "2021-12-04T15:17:45.230292Z"
    }
   },
   "outputs": [
    {
     "name": "stdout",
     "output_type": "stream",
     "text": [
      "문장의 최대 길이 : 112\n",
      "문장의 평균 길이 : 5.9876961360337315\n"
     ]
    },
    {
     "data": {
      "image/png": "[encoded data removed]",
      "text/plain": [
       "<Figure size 432x288 with 1 Axes>"
      ]
     },
     "metadata": {
      "needs_background": "light"
     },
     "output_type": "display_data"
    }
   ],
   "source": [
    "print('문장의 최대 길이 :',max(len(l) for l in X_train))\n",
    "print('문장의 평균 길이 :',sum(map(len, X_train))/len(X_train))\n",
    "plt.hist([len(s) for s in X_train], bins=50)\n",
    "plt.xlabel('length of samples')\n",
    "plt.ylabel('number of samples')\n",
    "plt.show()"
   ]
  },
  {
   "cell_type": "code",
   "execution_count": 54,
   "id": "3d552a02",
   "metadata": {
    "ExecuteTime": {
     "end_time": "2021-12-04T15:17:46.341418Z",
     "start_time": "2021-12-04T15:17:46.330419Z"
    }
   },
   "outputs": [],
   "source": [
    "def below_threshold_len(max_len, nested_list):\n",
    "    cnt = 0\n",
    "    for s in nested_list:\n",
    "        if(len(s) <= max_len):\n",
    "            cnt = cnt + 1\n",
    "    print('전체 샘플 중 길이가 %s 이하인 샘플의 비율: %s'%(max_len, (cnt / len(nested_list))*100))"
   ]
  },
  {
   "cell_type": "code",
   "execution_count": 55,
   "id": "42abd791",
   "metadata": {
    "ExecuteTime": {
     "end_time": "2021-12-04T15:17:46.373548Z",
     "start_time": "2021-12-04T15:17:46.346425Z"
    }
   },
   "outputs": [
    {
     "name": "stdout",
     "output_type": "stream",
     "text": [
      "전체 샘플 중 길이가 20 이하인 샘플의 비율: 99.50577175641115\n"
     ]
    }
   ],
   "source": [
    "max_len = 20\n",
    "below_threshold_len(max_len, X_train)"
   ]
  },
  {
   "cell_type": "markdown",
   "id": "66f00f19",
   "metadata": {},
   "source": [
    "## 모든 샘플의 길이를 max_len로 조정"
   ]
  },
  {
   "cell_type": "code",
   "execution_count": 56,
   "id": "e78f9cf7",
   "metadata": {
    "ExecuteTime": {
     "end_time": "2021-12-04T15:17:46.860450Z",
     "start_time": "2021-12-04T15:17:46.375572Z"
    }
   },
   "outputs": [],
   "source": [
    "X_train = pad_sequences(X_train, maxlen = max_len)\n",
    "X_test = pad_sequences(X_test, maxlen = max_len)"
   ]
  },
  {
   "cell_type": "code",
   "execution_count": 57,
   "id": "fc107493",
   "metadata": {
    "ExecuteTime": {
     "end_time": "2021-12-04T15:17:46.876660Z",
     "start_time": "2021-12-04T15:17:46.865864Z"
    }
   },
   "outputs": [
    {
     "data": {
      "text/plain": [
       "array([   0,    0,    0,    0,    0,    0,    0,    0,    0,    0,    0,\n",
       "          0,    0,    0,  729,  164,   16, 2125,  269,  126])"
      ]
     },
     "execution_count": 57,
     "metadata": {},
     "output_type": "execute_result"
    }
   ],
   "source": [
    "X_test[0]"
   ]
  },
  {
   "cell_type": "markdown",
   "id": "91583ca4",
   "metadata": {},
   "source": [
    "## 모델 적용"
   ]
  },
  {
   "cell_type": "code",
   "execution_count": 58,
   "id": "075144c3",
   "metadata": {
    "ExecuteTime": {
     "end_time": "2021-12-04T15:17:46.907195Z",
     "start_time": "2021-12-04T15:17:46.882014Z"
    }
   },
   "outputs": [],
   "source": [
    "import numpy as np"
   ]
  },
  {
   "cell_type": "code",
   "execution_count": 59,
   "id": "6daca578",
   "metadata": {
    "ExecuteTime": {
     "end_time": "2021-12-04T15:17:46.923132Z",
     "start_time": "2021-12-04T15:17:46.911013Z"
    }
   },
   "outputs": [],
   "source": [
    "\n",
    "import matplotlib.pyplot as plt\n",
    "import pandas as pd\n",
    "from tensorflow.keras.layers import Dense, Flatten, Dropout, Conv2D, MaxPooling2D, LSTM, Embedding, Bidirectional,TimeDistributed\n",
    "from tensorflow.keras import Model\n",
    "from tensorflow.keras.models import Sequential\n",
    "from tensorflow.keras.models import load_model\n",
    "import tensorflow as tf\n",
    "from tensorflow.keras.callbacks import EarlyStopping, ModelCheckpoint"
   ]
  },
  {
   "cell_type": "code",
   "execution_count": 60,
   "id": "54ee2b8d",
   "metadata": {
    "ExecuteTime": {
     "end_time": "2021-12-04T15:17:46.939017Z",
     "start_time": "2021-12-04T15:17:46.929015Z"
    }
   },
   "outputs": [],
   "source": [
    "# 결과값 seq to seq : many to many"
   ]
  },
  {
   "cell_type": "code",
   "execution_count": 61,
   "id": "dd7071df",
   "metadata": {
    "ExecuteTime": {
     "end_time": "2021-12-04T15:17:46.955012Z",
     "start_time": "2021-12-04T15:17:46.944012Z"
    },
    "scrolled": true
   },
   "outputs": [],
   "source": [
    "# model = Sequential()\n",
    "# model.add(Embedding(vocab_size, 300, mask_zero=True))\n",
    "# model.add(Bidirectional(LSTM(128)))\n",
    "# model.add(Dense(64,activation=\"relu\"))\n",
    "# model.add(Dense(32,activation=\"relu\"))\n",
    "# model.add(Dense(16,activation=\"relu\"))\n",
    "# model.add(Dense(7,activation='sigmoid')) # , activation='sigmoid'"
   ]
  },
  {
   "cell_type": "markdown",
   "id": "8063b27a",
   "metadata": {},
   "source": [
    "## 적용 \n",
    "다중 분류 모델이므로\n",
    "* `softmax`\n",
    "* 7가지 감정\n",
    "* loss는 `binary_crossentropy`가 아닌  `sparse_categorical_crossentropy`로 compile"
   ]
  },
  {
   "cell_type": "markdown",
   "id": "eff9fdde",
   "metadata": {},
   "source": [
    "### softmax , 7 , sparse_categorical_crossentropy"
   ]
  },
  {
   "cell_type": "code",
   "execution_count": 62,
   "id": "474b5b99",
   "metadata": {
    "ExecuteTime": {
     "end_time": "2021-12-04T15:17:54.680307Z",
     "start_time": "2021-12-04T15:17:46.958861Z"
    }
   },
   "outputs": [],
   "source": [
    "model = Sequential()\n",
    "model.add(Embedding(vocab_size, 300, mask_zero=True))\n",
    "model.add(Bidirectional(LSTM(128)))\n",
    "model.add(Dense(64,activation=\"relu\"))\n",
    "model.add(Dense(32,activation=\"relu\"))\n",
    "model.add(Dense(16,activation=\"relu\"))\n",
    "model.add(Dense(7,activation='softmax')) # , activation='sigmoid'"
   ]
  },
  {
   "cell_type": "code",
   "execution_count": 63,
   "id": "d195c6c9",
   "metadata": {
    "ExecuteTime": {
     "end_time": "2021-12-04T15:17:54.711085Z",
     "start_time": "2021-12-04T15:17:54.693058Z"
    }
   },
   "outputs": [],
   "source": [
    "es = EarlyStopping(monitor='val_loss', mode='min', verbose=1, patience=4)\n",
    "mc = ModelCheckpoint('best_model.h5', monitor='val_acc', mode='max', verbose=1, save_best_only=True)"
   ]
  },
  {
   "cell_type": "code",
   "execution_count": 64,
   "id": "1c8cdd37",
   "metadata": {
    "ExecuteTime": {
     "end_time": "2021-12-04T15:24:10.772221Z",
     "start_time": "2021-12-04T15:17:54.717092Z"
    }
   },
   "outputs": [
    {
     "name": "stdout",
     "output_type": "stream",
     "text": [
      "Epoch 1/15\n",
      "362/362 [==============================] - 118s 228ms/step - loss: 1.6103 - acc: 0.3613 - val_loss: 1.4482 - val_acc: 0.4424\n",
      "\n",
      "Epoch 00001: val_acc improved from -inf to 0.44237, saving model to best_model.h5\n",
      "Epoch 2/15\n",
      "362/362 [==============================] - 63s 173ms/step - loss: 1.2291 - acc: 0.5354 - val_loss: 1.4500 - val_acc: 0.4460\n",
      "\n",
      "Epoch 00002: val_acc improved from 0.44237 to 0.44600, saving model to best_model.h5\n",
      "Epoch 3/15\n",
      "362/362 [==============================] - 65s 180ms/step - loss: 0.9901 - acc: 0.6399 - val_loss: 1.6337 - val_acc: 0.4381\n",
      "\n",
      "Epoch 00003: val_acc did not improve from 0.44600\n",
      "Epoch 4/15\n",
      "362/362 [==============================] - 66s 181ms/step - loss: 0.7663 - acc: 0.7219 - val_loss: 1.8394 - val_acc: 0.4126\n",
      "\n",
      "Epoch 00004: val_acc did not improve from 0.44600\n",
      "Epoch 5/15\n",
      "362/362 [==============================] - 64s 176ms/step - loss: 0.5860 - acc: 0.7881 - val_loss: 2.3486 - val_acc: 0.4050\n",
      "\n",
      "Epoch 00005: val_acc did not improve from 0.44600\n",
      "Epoch 00005: early stopping\n"
     ]
    }
   ],
   "source": [
    "model.compile(optimizer='adam', loss='sparse_categorical_crossentropy', metrics=['acc'])\n",
    "history = model.fit(X_train, y_train, epochs=15, callbacks=[es, mc], batch_size=64, validation_split=0.2)"
   ]
  },
  {
   "cell_type": "code",
   "execution_count": 65,
   "id": "cad4b9db",
   "metadata": {
    "ExecuteTime": {
     "end_time": "2021-12-04T15:24:11.068530Z",
     "start_time": "2021-12-04T15:24:10.776404Z"
    }
   },
   "outputs": [],
   "source": [
    "model.save('./models/multi_emotion.h5')"
   ]
  },
  {
   "cell_type": "code",
   "execution_count": 67,
   "id": "a7bb5e61",
   "metadata": {
    "ExecuteTime": {
     "end_time": "2021-12-04T15:25:43.747462Z",
     "start_time": "2021-12-04T15:25:37.068531Z"
    }
   },
   "outputs": [
    {
     "name": "stdout",
     "output_type": "stream",
     "text": [
      "302/302 [==============================] - 7s 22ms/step - loss: 2.2491 - acc: 0.4095\n",
      "\n",
      " 테스트 정확도: 0.4095\n"
     ]
    }
   ],
   "source": [
    "print(\"\\n 테스트 정확도: %.4f\" % (model.evaluate(X_test, y_test)[1]))"
   ]
  },
  {
   "cell_type": "code",
   "execution_count": null,
   "id": "2d0175d0",
   "metadata": {},
   "outputs": [],
   "source": [
    "# loaded_model =  keras.models.load_model('./models/multi_emotion.h5')\n",
    "# print(\"\\n 테스트 정확도: %.4f\" % (loaded_model.evaluate(X_test, y_test)[1]))"
   ]
  },
  {
   "cell_type": "markdown",
   "id": "f700358a",
   "metadata": {},
   "source": [
    "---"
   ]
  },
  {
   "cell_type": "markdown",
   "id": "3cad4648",
   "metadata": {},
   "source": [
    "## 다중 분류 예측 함수 과정"
   ]
  },
  {
   "cell_type": "code",
   "execution_count": 55,
   "id": "30b51088",
   "metadata": {
    "ExecuteTime": {
     "end_time": "2021-12-03T02:10:19.031054Z",
     "start_time": "2021-12-03T02:10:11.994136Z"
    }
   },
   "outputs": [],
   "source": [
    "new_sentence = re.sub(r'[^ㄱ-ㅎㅏ-ㅣ가-힣 ]','', '진짜 많은 사람들앞에서 실제로 손님이 있다고치고 연습하나요')\n",
    "new_sentence = okt.morphs(new_sentence, stem=True) # 토큰화\n",
    "new_sentence = [word for word in new_sentence if not word in stop_w] # 불용어 제거\n",
    "encoded = tokenizer.texts_to_sequences([new_sentence]) # 정수 인코딩\n",
    "pad_new = pad_sequences(encoded, maxlen = max_len) # 패딩\n",
    "score = model.predict(pad_new) # 예측"
   ]
  },
  {
   "cell_type": "code",
   "execution_count": 56,
   "id": "e1866aad",
   "metadata": {
    "ExecuteTime": {
     "end_time": "2021-12-03T02:10:19.046766Z",
     "start_time": "2021-12-03T02:10:19.033760Z"
    }
   },
   "outputs": [
    {
     "name": "stdout",
     "output_type": "stream",
     "text": [
      "[[3.0556500e-02 9.6903306e-01 9.0896632e-05 2.1392432e-05 2.7169505e-04\n",
      "  1.5431358e-07 2.6324507e-05]]\n"
     ]
    }
   ],
   "source": [
    "print(score)"
   ]
  },
  {
   "cell_type": "code",
   "execution_count": 71,
   "id": "f290fa56",
   "metadata": {
    "ExecuteTime": {
     "end_time": "2021-12-04T15:26:29.491116Z",
     "start_time": "2021-12-04T15:26:29.462664Z"
    }
   },
   "outputs": [],
   "source": [
    "def multi_sentiment_predict(new_sentence):\n",
    "    new_sentence = re.sub(r'[^ㄱ-ㅎㅏ-ㅣ가-힣 ]','', new_sentence)\n",
    "    new_sentence = okt.morphs(new_sentence, stem=True) # 토큰화\n",
    "    new_sentence = [word for word in new_sentence if not word in stop_w] # 불용어 제거\n",
    "    encoded = tokenizer.texts_to_sequences([new_sentence]) # 정수 인코딩\n",
    "    pad_new = pad_sequences(encoded, maxlen = max_len) # 패딩\n",
    "    score = model.predict(pad_new) # 예측\n",
    "    if score[0][0] == score[0].max():\n",
    "        print(f\"{round(score[0][0] * 100,2)} 확률로 공포 문장입니다.\\n\")\n",
    "    elif score[0][1] == score[0].max():\n",
    "        print(f\"{round(score[0][1] * 100,2)} 확률로 놀람 문장입니다.\\n\")\n",
    "    elif score[0][2] == score[0].max():\n",
    "        print(f\"{round(score[0][2] * 100,2)} 확률로 분노 문장입니다.\\n\")\n",
    "    elif score[0][3] == score[0].max():\n",
    "        print(f\"{round(score[0][3] * 100,2)} 확률로 슬픔 문장입니다.\\n\")\n",
    "    elif score[0][4] == score[0].max():\n",
    "        print(f\"{round(score[0][4] * 100,2)} 확률로 중립 문장입니다.\\n\")\n",
    "    elif score[0][5] == score[0].max():\n",
    "        print(f\"{round(score[0][5] * 100,2)} 확률로 행복 문장입니다.\\n\")\n",
    "    elif score[0][6] == score[0].max():\n",
    "        print(f\"{round(score[0][6] * 100,2)} 확률로 혐오 문장입니다.\\n\")"
   ]
  },
  {
   "cell_type": "code",
   "execution_count": 59,
   "id": "29fd3107",
   "metadata": {
    "ExecuteTime": {
     "end_time": "2021-12-03T02:10:38.944040Z",
     "start_time": "2021-12-03T02:10:38.884039Z"
    }
   },
   "outputs": [
    {
     "name": "stdout",
     "output_type": "stream",
     "text": [
      "99.71 확률로 놀람 문장입니다.\n",
      "\n"
     ]
    }
   ],
   "source": [
    "multi_sentiment_predict('유치원버스 사고 낫다던데')"
   ]
  },
  {
   "cell_type": "code",
   "execution_count": 60,
   "id": "a8c13f2c",
   "metadata": {
    "ExecuteTime": {
     "end_time": "2021-12-03T02:10:40.723480Z",
     "start_time": "2021-12-03T02:10:40.591338Z"
    }
   },
   "outputs": [
    {
     "name": "stdout",
     "output_type": "stream",
     "text": [
      "99.99 확률로 공포 문장입니다.\n",
      "\n"
     ]
    }
   ],
   "source": [
    "multi_sentiment_predict('유투브 땅굴 발견 전쟁임박')"
   ]
  },
  {
   "cell_type": "code",
   "execution_count": 61,
   "id": "a9a2bec7",
   "metadata": {
    "ExecuteTime": {
     "end_time": "2021-12-03T02:10:41.453437Z",
     "start_time": "2021-12-03T02:10:41.384026Z"
    }
   },
   "outputs": [
    {
     "name": "stdout",
     "output_type": "stream",
     "text": [
      "47.35 확률로 놀람 문장입니다.\n",
      "\n"
     ]
    }
   ],
   "source": [
    "multi_sentiment_predict('근데 원래이런거맞나요')"
   ]
  },
  {
   "cell_type": "code",
   "execution_count": 62,
   "id": "97e1531b",
   "metadata": {
    "ExecuteTime": {
     "end_time": "2021-12-03T02:10:42.296474Z",
     "start_time": "2021-12-03T02:10:42.231399Z"
    }
   },
   "outputs": [
    {
     "name": "stdout",
     "output_type": "stream",
     "text": [
      "98.45 확률로 행복 문장입니다.\n",
      "\n"
     ]
    }
   ],
   "source": [
    "multi_sentiment_predict('적막한 밤하늘 내 맘에도 드리우면 난 늘 그대가 보고 싶곤 해')"
   ]
  },
  {
   "cell_type": "code",
   "execution_count": 63,
   "id": "9c00e352",
   "metadata": {
    "ExecuteTime": {
     "end_time": "2021-12-03T02:10:43.031207Z",
     "start_time": "2021-12-03T02:10:42.970116Z"
    }
   },
   "outputs": [
    {
     "name": "stdout",
     "output_type": "stream",
     "text": [
      "99.77 확률로 행복 문장입니다.\n",
      "\n"
     ]
    }
   ],
   "source": [
    "multi_sentiment_predict('너의 웃음소리 참 듣기가 좋아')"
   ]
  },
  {
   "cell_type": "code",
   "execution_count": 64,
   "id": "f50ee9c4",
   "metadata": {
    "ExecuteTime": {
     "end_time": "2021-12-03T02:10:44.006163Z",
     "start_time": "2021-12-03T02:10:43.937859Z"
    }
   },
   "outputs": [
    {
     "name": "stdout",
     "output_type": "stream",
     "text": [
      "55.72 확률로 슬픔 문장입니다.\n",
      "\n"
     ]
    }
   ],
   "source": [
    "multi_sentiment_predict('그대와 나 이별하던 그날 그 아침 나는 울지 않았소')"
   ]
  },
  {
   "cell_type": "code",
   "execution_count": 65,
   "id": "72bdb94f",
   "metadata": {
    "ExecuteTime": {
     "end_time": "2021-12-03T02:10:44.670079Z",
     "start_time": "2021-12-03T02:10:44.612117Z"
    }
   },
   "outputs": [
    {
     "name": "stdout",
     "output_type": "stream",
     "text": [
      "74.45 확률로 중립 문장입니다.\n",
      "\n"
     ]
    }
   ],
   "source": [
    "multi_sentiment_predict('나 그댈 위해 시 한 편을 쓰겠어')"
   ]
  },
  {
   "cell_type": "code",
   "execution_count": 66,
   "id": "e06fef68",
   "metadata": {
    "ExecuteTime": {
     "end_time": "2021-12-03T02:10:45.458881Z",
     "start_time": "2021-12-03T02:10:45.396885Z"
    }
   },
   "outputs": [
    {
     "name": "stdout",
     "output_type": "stream",
     "text": [
      "83.63 확률로 슬픔 문장입니다.\n",
      "\n"
     ]
    }
   ],
   "source": [
    "multi_sentiment_predict('두 눈에 비친 너의 미소 지친 날 감싸듯')"
   ]
  },
  {
   "cell_type": "code",
   "execution_count": 67,
   "id": "4c673214",
   "metadata": {
    "ExecuteTime": {
     "end_time": "2021-12-03T02:10:46.235017Z",
     "start_time": "2021-12-03T02:10:46.180904Z"
    }
   },
   "outputs": [
    {
     "name": "stdout",
     "output_type": "stream",
     "text": [
      "52.34 확률로 놀람 문장입니다.\n",
      "\n"
     ]
    }
   ],
   "source": [
    "multi_sentiment_predict('창가에 요란히 내리는 빗물 소리만큼')"
   ]
  },
  {
   "cell_type": "code",
   "execution_count": 68,
   "id": "6a991cd2",
   "metadata": {
    "ExecuteTime": {
     "end_time": "2021-12-03T02:10:47.275377Z",
     "start_time": "2021-12-03T02:10:47.186375Z"
    }
   },
   "outputs": [
    {
     "name": "stdout",
     "output_type": "stream",
     "text": [
      "64.83 확률로 놀람 문장입니다.\n",
      "\n"
     ]
    }
   ],
   "source": [
    "multi_sentiment_predict('창가에 요란히 내리는 빗물 소리만큼 시린 기억들')"
   ]
  },
  {
   "cell_type": "code",
   "execution_count": 68,
   "id": "cfa7dea3",
   "metadata": {
    "ExecuteTime": {
     "end_time": "2021-12-04T15:26:21.335279Z",
     "start_time": "2021-12-04T15:26:19.376420Z"
    }
   },
   "outputs": [],
   "source": [
    "playlist = pd.read_csv('pre_total_playlist.csv')"
   ]
  },
  {
   "cell_type": "code",
   "execution_count": 69,
   "id": "4ad5966c",
   "metadata": {
    "ExecuteTime": {
     "end_time": "2021-12-04T15:26:21.950662Z",
     "start_time": "2021-12-04T15:26:21.937671Z"
    },
    "scrolled": true
   },
   "outputs": [
    {
     "data": {
      "text/plain": [
       "'아무리 기다려도 난 못가   바보처럼 울고 있는 너의 곁에  상처만 주는 나를 왜 모르고   기다리니 떠나가란 말야    보고 싶다 보고 싶다   이런 내가 미워질만큼  울고 싶다 네게 무릎 꿇고   모두 없던 일이 될 수 있다면    미칠듯 사랑했던 기억이   추억들이 너를 찾고 있지만  더 이상 사랑이란 변명에   너를 가둘 수 없어    이러면 안되지만   죽을만큼 보고 싶다    보고 싶다 보고 싶다   이런 내가 미워질만큼  믿고 싶다 옳은 길이라고   너를 위해 떠나야만 한다고    미칠듯 사랑했던 기억이   추억들이 너를 찾고 있지만  더 이상 사랑이란 변명에   너를 가둘수 없어    이러면 안되지만   죽을만큼 보고 싶다    죽을 만큼 잊고 싶다  '"
      ]
     },
     "execution_count": 69,
     "metadata": {},
     "output_type": "execute_result"
    }
   ],
   "source": [
    "playlist.Lyric[0]"
   ]
  },
  {
   "cell_type": "code",
   "execution_count": 72,
   "id": "0326256d",
   "metadata": {
    "ExecuteTime": {
     "end_time": "2021-12-04T15:26:41.182243Z",
     "start_time": "2021-12-04T15:26:34.276644Z"
    }
   },
   "outputs": [
    {
     "name": "stdout",
     "output_type": "stream",
     "text": [
      "98.83 확률로 슬픔 문장입니다.\n",
      "\n"
     ]
    }
   ],
   "source": [
    "multi_sentiment_predict(playlist.Lyric[0])"
   ]
  },
  {
   "cell_type": "code",
   "execution_count": null,
   "id": "458bf2bc",
   "metadata": {},
   "outputs": [],
   "source": [
    "# loaded_model = load_model('GRU_model.h5')\n",
    "# print(\"\\n 테스트 정확도: %.4f\" % (loaded_model.evaluate(X_test, y_test)[1]))"
   ]
  },
  {
   "cell_type": "markdown",
   "id": "17d27283",
   "metadata": {},
   "source": [
    "# 예측 결과 DataFrame"
   ]
  },
  {
   "cell_type": "code",
   "execution_count": 73,
   "id": "e2916f30",
   "metadata": {
    "ExecuteTime": {
     "end_time": "2021-12-04T15:27:03.506378Z",
     "start_time": "2021-12-04T15:27:03.481381Z"
    }
   },
   "outputs": [],
   "source": [
    "def multi_sentiment_predict(new_sentence):\n",
    "    new_sentence = re.sub(r'[^ㄱ-ㅎㅏ-ㅣ가-힣 ]','', new_sentence)\n",
    "    new_sentence = okt.morphs(new_sentence, stem=True) # 토큰화\n",
    "    new_sentence = [word for word in new_sentence if not word in stop_w] # 불용어 제거\n",
    "    encoded = tokenizer.texts_to_sequences([new_sentence]) # 정수 인코딩\n",
    "    pad_new = pad_sequences(encoded, maxlen = max_len) # 패딩\n",
    "    score = model.predict(pad_new) # 예측\n",
    "    if score[0][0] == score[0].max():\n",
    "        y = round(score[0][0] * 100,2) \n",
    "        e = '공포'\n",
    "    elif score[0][1] == score[0].max():\n",
    "        y = round(score[0][1] * 100,2)\n",
    "        e = '놀람'\n",
    "    elif score[0][2] == score[0].max():\n",
    "        y = round(score[0][2] * 100,2)\n",
    "        e = '분노'\n",
    "    elif score[0][3] == score[0].max():\n",
    "        y = round(score[0][3] * 100,2)\n",
    "        e = '슬픔' \n",
    "    elif score[0][4] == score[0].max():\n",
    "        y = round(score[0][4] * 100,2)\n",
    "        e = '중립'\n",
    "    elif score[0][5] == score[0].max():\n",
    "        y = round(score[0][5] * 100,2)\n",
    "        e = '행복'\n",
    "    elif score[0][6] == score[0].max():\n",
    "        y = round(score[0][6] * 100,2)\n",
    "        e = '혐오'\n",
    "    return [y,e]"
   ]
  },
  {
   "cell_type": "code",
   "execution_count": 140,
   "id": "9217728e",
   "metadata": {
    "ExecuteTime": {
     "end_time": "2021-12-03T06:22:46.242360Z",
     "start_time": "2021-12-03T05:27:06.131005Z"
    },
    "scrolled": true
   },
   "outputs": [],
   "source": [
    "result = []\n",
    "for i in range(len(playlist)):    \n",
    "    emotion_list = {\n",
    "    'emotion' : multi_sentiment_predict(playlist.Lyric[i])[1],\n",
    "    'percentage': multi_sentiment_predict(playlist.Lyric[i])[0]        \n",
    "    }\n",
    "\n",
    "    df = pd.DataFrame.from_dict(emotion_list, orient='index')\n",
    "    df = df.transpose()\n",
    "    result.append(df)"
   ]
  },
  {
   "cell_type": "code",
   "execution_count": 143,
   "id": "cb540ec5",
   "metadata": {
    "ExecuteTime": {
     "end_time": "2021-12-03T06:44:05.401332Z",
     "start_time": "2021-12-03T06:44:04.300154Z"
    }
   },
   "outputs": [
    {
     "data": {
      "text/html": [
       "<div>\n",
       "<style scoped>\n",
       "    .dataframe tbody tr th:only-of-type {\n",
       "        vertical-align: middle;\n",
       "    }\n",
       "\n",
       "    .dataframe tbody tr th {\n",
       "        vertical-align: top;\n",
       "    }\n",
       "\n",
       "    .dataframe thead th {\n",
       "        text-align: right;\n",
       "    }\n",
       "</style>\n",
       "<table border=\"1\" class=\"dataframe\">\n",
       "  <thead>\n",
       "    <tr style=\"text-align: right;\">\n",
       "      <th></th>\n",
       "      <th>emotion</th>\n",
       "      <th>percentage</th>\n",
       "    </tr>\n",
       "  </thead>\n",
       "  <tbody>\n",
       "    <tr>\n",
       "      <th>0</th>\n",
       "      <td>슬픔</td>\n",
       "      <td>99.98</td>\n",
       "    </tr>\n",
       "    <tr>\n",
       "      <th>1</th>\n",
       "      <td>혐오</td>\n",
       "      <td>93.41</td>\n",
       "    </tr>\n",
       "    <tr>\n",
       "      <th>2</th>\n",
       "      <td>슬픔</td>\n",
       "      <td>99.92</td>\n",
       "    </tr>\n",
       "    <tr>\n",
       "      <th>3</th>\n",
       "      <td>혐오</td>\n",
       "      <td>99.89</td>\n",
       "    </tr>\n",
       "    <tr>\n",
       "      <th>4</th>\n",
       "      <td>공포</td>\n",
       "      <td>64.91</td>\n",
       "    </tr>\n",
       "    <tr>\n",
       "      <th>...</th>\n",
       "      <td>...</td>\n",
       "      <td>...</td>\n",
       "    </tr>\n",
       "    <tr>\n",
       "      <th>15337</th>\n",
       "      <td>슬픔</td>\n",
       "      <td>84.84</td>\n",
       "    </tr>\n",
       "    <tr>\n",
       "      <th>15338</th>\n",
       "      <td>혐오</td>\n",
       "      <td>90.31</td>\n",
       "    </tr>\n",
       "    <tr>\n",
       "      <th>15339</th>\n",
       "      <td>분노</td>\n",
       "      <td>84.99</td>\n",
       "    </tr>\n",
       "    <tr>\n",
       "      <th>15340</th>\n",
       "      <td>행복</td>\n",
       "      <td>54.35</td>\n",
       "    </tr>\n",
       "    <tr>\n",
       "      <th>15341</th>\n",
       "      <td>행복</td>\n",
       "      <td>91.12</td>\n",
       "    </tr>\n",
       "  </tbody>\n",
       "</table>\n",
       "<p>15342 rows × 2 columns</p>\n",
       "</div>"
      ],
      "text/plain": [
       "      emotion percentage\n",
       "0          슬픔      99.98\n",
       "1          혐오      93.41\n",
       "2          슬픔      99.92\n",
       "3          혐오      99.89\n",
       "4          공포      64.91\n",
       "...       ...        ...\n",
       "15337      슬픔      84.84\n",
       "15338      혐오      90.31\n",
       "15339      분노      84.99\n",
       "15340      행복      54.35\n",
       "15341      행복      91.12\n",
       "\n",
       "[15342 rows x 2 columns]"
      ]
     },
     "execution_count": 143,
     "metadata": {},
     "output_type": "execute_result"
    }
   ],
   "source": [
    "emotion_df = pd.concat(result).reset_index(drop=True)    \n",
    "emotion_df"
   ]
  },
  {
   "cell_type": "code",
   "execution_count": 144,
   "id": "3f300e2e",
   "metadata": {
    "ExecuteTime": {
     "end_time": "2021-12-03T06:44:50.520093Z",
     "start_time": "2021-12-03T06:44:50.379403Z"
    }
   },
   "outputs": [
    {
     "data": {
      "text/html": [
       "<div>\n",
       "<style scoped>\n",
       "    .dataframe tbody tr th:only-of-type {\n",
       "        vertical-align: middle;\n",
       "    }\n",
       "\n",
       "    .dataframe tbody tr th {\n",
       "        vertical-align: top;\n",
       "    }\n",
       "\n",
       "    .dataframe thead th {\n",
       "        text-align: right;\n",
       "    }\n",
       "</style>\n",
       "<table border=\"1\" class=\"dataframe\">\n",
       "  <thead>\n",
       "    <tr style=\"text-align: right;\">\n",
       "      <th></th>\n",
       "      <th>emotion</th>\n",
       "      <th>percentage</th>\n",
       "      <th>song_id</th>\n",
       "      <th>song_name</th>\n",
       "      <th>artist</th>\n",
       "      <th>album</th>\n",
       "      <th>Like_Count</th>\n",
       "      <th>Lyric</th>\n",
       "      <th>cover_url</th>\n",
       "      <th>tags</th>\n",
       "      <th>words</th>\n",
       "    </tr>\n",
       "  </thead>\n",
       "  <tbody>\n",
       "    <tr>\n",
       "      <th>0</th>\n",
       "      <td>슬픔</td>\n",
       "      <td>99.98</td>\n",
       "      <td>418253</td>\n",
       "      <td>보고 싶다</td>\n",
       "      <td>김범수</td>\n",
       "      <td>3rd. 보고 싶다</td>\n",
       "      <td>342238</td>\n",
       "      <td>아무리 기다려도 난 못가   바보처럼 울고 있는 너의 곁에  상처만 주는 나를 왜 ...</td>\n",
       "      <td>https://image.bugsm.co.kr/album/images/200/262...</td>\n",
       "      <td>['국내', '가요', '발라드한', '발라드', '국내 발라드', '가을', '쓸...</td>\n",
       "      <td>['아무리', '기다려도', '난', '못가', '바보처럼', '울고', '있는',...</td>\n",
       "    </tr>\n",
       "    <tr>\n",
       "      <th>1</th>\n",
       "      <td>혐오</td>\n",
       "      <td>93.41</td>\n",
       "      <td>445413</td>\n",
       "      <td>사랑합니다...</td>\n",
       "      <td>팀</td>\n",
       "      <td>Tim 영민</td>\n",
       "      <td>332810</td>\n",
       "      <td>나빠요 참 그대란 사람 허락도 없이 왜 내 맘 가져요 그대 때문에 난 힘겹게 살고만...</td>\n",
       "      <td>https://image.bugsm.co.kr/album/images/200/307...</td>\n",
       "      <td>['국내', '발라드', '발라드한', '100시리즈', '가을', '가요', '감...</td>\n",
       "      <td>['나빠요', '참', '그대란', '사람', '허락도', '없이', '왜', '내...</td>\n",
       "    </tr>\n",
       "    <tr>\n",
       "      <th>2</th>\n",
       "      <td>슬픔</td>\n",
       "      <td>99.92</td>\n",
       "      <td>489056</td>\n",
       "      <td>어쩌면...</td>\n",
       "      <td>버즈</td>\n",
       "      <td>Morning Of Buzz</td>\n",
       "      <td>295142</td>\n",
       "      <td>어쩌면 오늘이 마지막이 될지도 몰라 나의 사랑이 떠날지 몰라 불안한 나의 마음 니가...</td>\n",
       "      <td>https://image.bugsm.co.kr/album/images/200/328...</td>\n",
       "      <td>['국내', '락발라드', '발라드한', '2000년대', '세부장르', '100시...</td>\n",
       "      <td>['어쩌면', '오늘이', '마지막이', '될지도', '몰라', '나의', '사랑이...</td>\n",
       "    </tr>\n",
       "    <tr>\n",
       "      <th>3</th>\n",
       "      <td>혐오</td>\n",
       "      <td>99.89</td>\n",
       "      <td>460396</td>\n",
       "      <td>소주 한 잔</td>\n",
       "      <td>임창정</td>\n",
       "      <td>Bye</td>\n",
       "      <td>277349</td>\n",
       "      <td>술이 한 잔 생각나는 밤 같이 있는 것 같아요  그 좋았던 시절들 이젠 모두 한숨만...</td>\n",
       "      <td>https://image.bugsm.co.kr/album/images/200/314...</td>\n",
       "      <td>['국내', '발라드한', '발라드', '국내 발라드', '100시리즈', '가요'...</td>\n",
       "      <td>['술이', '한', '잔', '생각나는', '밤', '같이', '있는', '것',...</td>\n",
       "    </tr>\n",
       "    <tr>\n",
       "      <th>4</th>\n",
       "      <td>공포</td>\n",
       "      <td>64.91</td>\n",
       "      <td>482653</td>\n",
       "      <td>With Me</td>\n",
       "      <td>휘성(Realslow)</td>\n",
       "      <td>It's Real</td>\n",
       "      <td>268787</td>\n",
       "      <td>네 손짓 하나 보는 게 난 좋은데   네 목소리를 듣는 것도 좋은데   왜 넌 내 ...</td>\n",
       "      <td>https://image.bugsm.co.kr/album/images/200/325...</td>\n",
       "      <td>['가요', '섹시한', '남성보컬']</td>\n",
       "      <td>['네', '손짓', '하나', '보는', '게', '난', '좋은데', '네', ...</td>\n",
       "    </tr>\n",
       "  </tbody>\n",
       "</table>\n",
       "</div>"
      ],
      "text/plain": [
       "  emotion percentage  song_id song_name        artist            album  \\\n",
       "0      슬픔      99.98   418253     보고 싶다           김범수       3rd. 보고 싶다   \n",
       "1      혐오      93.41   445413  사랑합니다...             팀           Tim 영민   \n",
       "2      슬픔      99.92   489056    어쩌면...            버즈  Morning Of Buzz   \n",
       "3      혐오      99.89   460396    소주 한 잔           임창정              Bye   \n",
       "4      공포      64.91   482653   With Me  휘성(Realslow)        It's Real   \n",
       "\n",
       "   Like_Count                                              Lyric  \\\n",
       "0      342238  아무리 기다려도 난 못가   바보처럼 울고 있는 너의 곁에  상처만 주는 나를 왜 ...   \n",
       "1      332810  나빠요 참 그대란 사람 허락도 없이 왜 내 맘 가져요 그대 때문에 난 힘겹게 살고만...   \n",
       "2      295142  어쩌면 오늘이 마지막이 될지도 몰라 나의 사랑이 떠날지 몰라 불안한 나의 마음 니가...   \n",
       "3      277349  술이 한 잔 생각나는 밤 같이 있는 것 같아요  그 좋았던 시절들 이젠 모두 한숨만...   \n",
       "4      268787  네 손짓 하나 보는 게 난 좋은데   네 목소리를 듣는 것도 좋은데   왜 넌 내 ...   \n",
       "\n",
       "                                           cover_url  \\\n",
       "0  https://image.bugsm.co.kr/album/images/200/262...   \n",
       "1  https://image.bugsm.co.kr/album/images/200/307...   \n",
       "2  https://image.bugsm.co.kr/album/images/200/328...   \n",
       "3  https://image.bugsm.co.kr/album/images/200/314...   \n",
       "4  https://image.bugsm.co.kr/album/images/200/325...   \n",
       "\n",
       "                                                tags  \\\n",
       "0  ['국내', '가요', '발라드한', '발라드', '국내 발라드', '가을', '쓸...   \n",
       "1  ['국내', '발라드', '발라드한', '100시리즈', '가을', '가요', '감...   \n",
       "2  ['국내', '락발라드', '발라드한', '2000년대', '세부장르', '100시...   \n",
       "3  ['국내', '발라드한', '발라드', '국내 발라드', '100시리즈', '가요'...   \n",
       "4                              ['가요', '섹시한', '남성보컬']   \n",
       "\n",
       "                                               words  \n",
       "0  ['아무리', '기다려도', '난', '못가', '바보처럼', '울고', '있는',...  \n",
       "1  ['나빠요', '참', '그대란', '사람', '허락도', '없이', '왜', '내...  \n",
       "2  ['어쩌면', '오늘이', '마지막이', '될지도', '몰라', '나의', '사랑이...  \n",
       "3  ['술이', '한', '잔', '생각나는', '밤', '같이', '있는', '것',...  \n",
       "4  ['네', '손짓', '하나', '보는', '게', '난', '좋은데', '네', ...  "
      ]
     },
     "execution_count": 144,
     "metadata": {},
     "output_type": "execute_result"
    }
   ],
   "source": [
    "meta_emotion_df = emotion_df.join(playlist,lsuffix='index')\n",
    "meta_emotion_df.head()\n"
   ]
  },
  {
   "cell_type": "code",
   "execution_count": 145,
   "id": "47cda859",
   "metadata": {
    "ExecuteTime": {
     "end_time": "2021-12-03T06:46:01.929276Z",
     "start_time": "2021-12-03T06:45:59.426882Z"
    }
   },
   "outputs": [],
   "source": [
    "meta_emotion_df.to_csv('meta_emotion.csv',index=False)"
   ]
  },
  {
   "cell_type": "markdown",
   "id": "88558ec7",
   "metadata": {},
   "source": [
    "---"
   ]
  },
  {
   "cell_type": "markdown",
   "id": "b7071f78",
   "metadata": {},
   "source": [
    "## 최신노래 (2020~2021) 감정 분류"
   ]
  },
  {
   "cell_type": "code",
   "execution_count": 146,
   "id": "2892a918",
   "metadata": {
    "ExecuteTime": {
     "end_time": "2021-12-03T12:04:33.545621Z",
     "start_time": "2021-12-03T12:04:33.377335Z"
    }
   },
   "outputs": [],
   "source": [
    "latest = pd.read_csv('latest_meta.csv')"
   ]
  },
  {
   "cell_type": "code",
   "execution_count": 148,
   "id": "f2d1db52",
   "metadata": {
    "ExecuteTime": {
     "end_time": "2021-12-03T12:09:15.834219Z",
     "start_time": "2021-12-03T12:05:29.790839Z"
    }
   },
   "outputs": [],
   "source": [
    "result = []\n",
    "for i in range(len(latest)):    \n",
    "    emotion_list = {\n",
    "    'emotion' : multi_sentiment_predict(latest.Lyric[i])[1],\n",
    "    'percentage': multi_sentiment_predict(latest.Lyric[i])[0]        \n",
    "    }\n",
    "\n",
    "    df = pd.DataFrame.from_dict(emotion_list, orient='index')\n",
    "    df = df.transpose()\n",
    "    result.append(df)"
   ]
  },
  {
   "cell_type": "code",
   "execution_count": 151,
   "id": "5614af8a",
   "metadata": {
    "ExecuteTime": {
     "end_time": "2021-12-03T12:09:28.375482Z",
     "start_time": "2021-12-03T12:09:28.233446Z"
    }
   },
   "outputs": [
    {
     "data": {
      "text/html": [
       "<div>\n",
       "<style scoped>\n",
       "    .dataframe tbody tr th:only-of-type {\n",
       "        vertical-align: middle;\n",
       "    }\n",
       "\n",
       "    .dataframe tbody tr th {\n",
       "        vertical-align: top;\n",
       "    }\n",
       "\n",
       "    .dataframe thead th {\n",
       "        text-align: right;\n",
       "    }\n",
       "</style>\n",
       "<table border=\"1\" class=\"dataframe\">\n",
       "  <thead>\n",
       "    <tr style=\"text-align: right;\">\n",
       "      <th></th>\n",
       "      <th>emotion</th>\n",
       "      <th>percentage</th>\n",
       "    </tr>\n",
       "  </thead>\n",
       "  <tbody>\n",
       "    <tr>\n",
       "      <th>0</th>\n",
       "      <td>혐오</td>\n",
       "      <td>98.68</td>\n",
       "    </tr>\n",
       "    <tr>\n",
       "      <th>1</th>\n",
       "      <td>행복</td>\n",
       "      <td>80.31</td>\n",
       "    </tr>\n",
       "    <tr>\n",
       "      <th>2</th>\n",
       "      <td>슬픔</td>\n",
       "      <td>84.45</td>\n",
       "    </tr>\n",
       "    <tr>\n",
       "      <th>3</th>\n",
       "      <td>놀람</td>\n",
       "      <td>99.14</td>\n",
       "    </tr>\n",
       "    <tr>\n",
       "      <th>4</th>\n",
       "      <td>슬픔</td>\n",
       "      <td>52.23</td>\n",
       "    </tr>\n",
       "    <tr>\n",
       "      <th>...</th>\n",
       "      <td>...</td>\n",
       "      <td>...</td>\n",
       "    </tr>\n",
       "    <tr>\n",
       "      <th>1249</th>\n",
       "      <td>슬픔</td>\n",
       "      <td>78.24</td>\n",
       "    </tr>\n",
       "    <tr>\n",
       "      <th>1250</th>\n",
       "      <td>슬픔</td>\n",
       "      <td>99.61</td>\n",
       "    </tr>\n",
       "    <tr>\n",
       "      <th>1251</th>\n",
       "      <td>슬픔</td>\n",
       "      <td>80.24</td>\n",
       "    </tr>\n",
       "    <tr>\n",
       "      <th>1252</th>\n",
       "      <td>혐오</td>\n",
       "      <td>92.49</td>\n",
       "    </tr>\n",
       "    <tr>\n",
       "      <th>1253</th>\n",
       "      <td>행복</td>\n",
       "      <td>62.22</td>\n",
       "    </tr>\n",
       "  </tbody>\n",
       "</table>\n",
       "<p>1254 rows × 2 columns</p>\n",
       "</div>"
      ],
      "text/plain": [
       "     emotion percentage\n",
       "0         혐오      98.68\n",
       "1         행복      80.31\n",
       "2         슬픔      84.45\n",
       "3         놀람      99.14\n",
       "4         슬픔      52.23\n",
       "...      ...        ...\n",
       "1249      슬픔      78.24\n",
       "1250      슬픔      99.61\n",
       "1251      슬픔      80.24\n",
       "1252      혐오      92.49\n",
       "1253      행복      62.22\n",
       "\n",
       "[1254 rows x 2 columns]"
      ]
     },
     "execution_count": 151,
     "metadata": {},
     "output_type": "execute_result"
    }
   ],
   "source": [
    "emotion_df = pd.concat(result).reset_index(drop=True)    \n",
    "emotion_df"
   ]
  },
  {
   "cell_type": "code",
   "execution_count": 152,
   "id": "2d1ae729",
   "metadata": {
    "ExecuteTime": {
     "end_time": "2021-12-03T12:09:32.512502Z",
     "start_time": "2021-12-03T12:09:32.483495Z"
    }
   },
   "outputs": [
    {
     "data": {
      "text/html": [
       "<div>\n",
       "<style scoped>\n",
       "    .dataframe tbody tr th:only-of-type {\n",
       "        vertical-align: middle;\n",
       "    }\n",
       "\n",
       "    .dataframe tbody tr th {\n",
       "        vertical-align: top;\n",
       "    }\n",
       "\n",
       "    .dataframe thead th {\n",
       "        text-align: right;\n",
       "    }\n",
       "</style>\n",
       "<table border=\"1\" class=\"dataframe\">\n",
       "  <thead>\n",
       "    <tr style=\"text-align: right;\">\n",
       "      <th></th>\n",
       "      <th>emotion</th>\n",
       "      <th>percentage</th>\n",
       "      <th>song_id</th>\n",
       "      <th>song_name</th>\n",
       "      <th>artist</th>\n",
       "      <th>album</th>\n",
       "      <th>Like_Count</th>\n",
       "      <th>Lyric</th>\n",
       "      <th>cover_url</th>\n",
       "      <th>tags</th>\n",
       "      <th>year</th>\n",
       "    </tr>\n",
       "  </thead>\n",
       "  <tbody>\n",
       "    <tr>\n",
       "      <th>0</th>\n",
       "      <td>혐오</td>\n",
       "      <td>98.68</td>\n",
       "      <td>1764294</td>\n",
       "      <td>Monster (Korean ver.)</td>\n",
       "      <td>드렁큰 타이거(Drunken Tiger)</td>\n",
       "      <td>Feel gHood Muzik - The 8th Wonder</td>\n",
       "      <td>67572</td>\n",
       "      <td>아픈 마음의 상처에 음악의 연고를 발라버려      밤 밤 바바바 밤발라버려 밤 밤...</td>\n",
       "      <td>https://image.bugsm.co.kr/album/images/200/189...</td>\n",
       "      <td>['2020년', '2020년대', '연도별 국내영화OST', '영화', 'OST'...</td>\n",
       "      <td>2020y</td>\n",
       "    </tr>\n",
       "    <tr>\n",
       "      <th>1</th>\n",
       "      <td>행복</td>\n",
       "      <td>80.31</td>\n",
       "      <td>30598121</td>\n",
       "      <td>밤편지</td>\n",
       "      <td>아이유(IU)</td>\n",
       "      <td>밤편지</td>\n",
       "      <td>38694</td>\n",
       "      <td>이 밤 그날의 반딧불을   당신의 창 가까이 보낼게요  음 사랑한다는 말 이에요  ...</td>\n",
       "      <td>https://image.bugsm.co.kr/album/images/200/200...</td>\n",
       "      <td>['국내외', '2020년', '100시리즈', '뮤직기네스', '2020 벅스 종...</td>\n",
       "      <td>2020y</td>\n",
       "    </tr>\n",
       "    <tr>\n",
       "      <th>2</th>\n",
       "      <td>슬픔</td>\n",
       "      <td>84.45</td>\n",
       "      <td>517714</td>\n",
       "      <td>I Believe (엽기적인 그녀 O.S.T)</td>\n",
       "      <td>신승훈</td>\n",
       "      <td>The Shin Seung Hun</td>\n",
       "      <td>34174</td>\n",
       "      <td>그댄 곁에 없지만   이대로 이별은 아니겠죠     나에게 오는 길은   조금 멀리...</td>\n",
       "      <td>https://image.bugsm.co.kr/album/images/200/158...</td>\n",
       "      <td>['2020년', '2020년대', '연도별 국내영화OST', '영화', 'OST'...</td>\n",
       "      <td>2020y</td>\n",
       "    </tr>\n",
       "    <tr>\n",
       "      <th>3</th>\n",
       "      <td>놀람</td>\n",
       "      <td>99.14</td>\n",
       "      <td>30994623</td>\n",
       "      <td>모든 날, 모든 순간 (Every day, Every Moment)</td>\n",
       "      <td>폴킴(Paul Kim)</td>\n",
       "      <td>'키스 먼저 할까요?' OST Part.3</td>\n",
       "      <td>26963</td>\n",
       "      <td>네가 없이 웃을 수 있을까  생각만 해도 눈물이나  힘든 시간 날 지켜준 사람  이...</td>\n",
       "      <td>https://image.bugsm.co.kr/album/images/200/201...</td>\n",
       "      <td>['국내외', '2020년', '100시리즈', '뮤직기네스', '2020 벅스 종...</td>\n",
       "      <td>2020y</td>\n",
       "    </tr>\n",
       "    <tr>\n",
       "      <th>4</th>\n",
       "      <td>슬픔</td>\n",
       "      <td>52.23</td>\n",
       "      <td>31548668</td>\n",
       "      <td>작은 것들을 위한 시 (Boy With Luv) (Feat. Halsey)</td>\n",
       "      <td>방탄소년단</td>\n",
       "      <td>MAP OF THE SOUL : PERSONA</td>\n",
       "      <td>19884</td>\n",
       "      <td>모든 게 궁금해         뭐가 널 행복하게 하는지          내 머리맡에...</td>\n",
       "      <td>https://image.bugsm.co.kr/album/images/200/202...</td>\n",
       "      <td>['국내외', '2020년', '100시리즈', '뮤직기네스', '2020 벅스 종...</td>\n",
       "      <td>2020y</td>\n",
       "    </tr>\n",
       "  </tbody>\n",
       "</table>\n",
       "</div>"
      ],
      "text/plain": [
       "  emotion percentage   song_id                                  song_name  \\\n",
       "0      혐오      98.68   1764294                      Monster (Korean ver.)   \n",
       "1      행복      80.31  30598121                                        밤편지   \n",
       "2      슬픔      84.45    517714                  I Believe (엽기적인 그녀 O.S.T)   \n",
       "3      놀람      99.14  30994623      모든 날, 모든 순간 (Every day, Every Moment)   \n",
       "4      슬픔      52.23  31548668  작은 것들을 위한 시 (Boy With Luv) (Feat. Halsey)   \n",
       "\n",
       "                   artist                              album  Like_Count  \\\n",
       "0  드렁큰 타이거(Drunken Tiger)  Feel gHood Muzik - The 8th Wonder       67572   \n",
       "1                 아이유(IU)                                밤편지       38694   \n",
       "2                     신승훈                 The Shin Seung Hun       34174   \n",
       "3            폴킴(Paul Kim)            '키스 먼저 할까요?' OST Part.3       26963   \n",
       "4                   방탄소년단          MAP OF THE SOUL : PERSONA       19884   \n",
       "\n",
       "                                               Lyric  \\\n",
       "0  아픈 마음의 상처에 음악의 연고를 발라버려      밤 밤 바바바 밤발라버려 밤 밤...   \n",
       "1  이 밤 그날의 반딧불을   당신의 창 가까이 보낼게요  음 사랑한다는 말 이에요  ...   \n",
       "2  그댄 곁에 없지만   이대로 이별은 아니겠죠     나에게 오는 길은   조금 멀리...   \n",
       "3  네가 없이 웃을 수 있을까  생각만 해도 눈물이나  힘든 시간 날 지켜준 사람  이...   \n",
       "4  모든 게 궁금해         뭐가 널 행복하게 하는지          내 머리맡에...   \n",
       "\n",
       "                                           cover_url  \\\n",
       "0  https://image.bugsm.co.kr/album/images/200/189...   \n",
       "1  https://image.bugsm.co.kr/album/images/200/200...   \n",
       "2  https://image.bugsm.co.kr/album/images/200/158...   \n",
       "3  https://image.bugsm.co.kr/album/images/200/201...   \n",
       "4  https://image.bugsm.co.kr/album/images/200/202...   \n",
       "\n",
       "                                                tags   year  \n",
       "0  ['2020년', '2020년대', '연도별 국내영화OST', '영화', 'OST'...  2020y  \n",
       "1  ['국내외', '2020년', '100시리즈', '뮤직기네스', '2020 벅스 종...  2020y  \n",
       "2  ['2020년', '2020년대', '연도별 국내영화OST', '영화', 'OST'...  2020y  \n",
       "3  ['국내외', '2020년', '100시리즈', '뮤직기네스', '2020 벅스 종...  2020y  \n",
       "4  ['국내외', '2020년', '100시리즈', '뮤직기네스', '2020 벅스 종...  2020y  "
      ]
     },
     "execution_count": 152,
     "metadata": {},
     "output_type": "execute_result"
    }
   ],
   "source": [
    "meta_emotion_df = emotion_df.join(latest,lsuffix='index')\n",
    "meta_emotion_df.head()\n"
   ]
  },
  {
   "cell_type": "code",
   "execution_count": 153,
   "id": "afc3b2c6",
   "metadata": {
    "ExecuteTime": {
     "end_time": "2021-12-03T12:09:36.967636Z",
     "start_time": "2021-12-03T12:09:36.905541Z"
    }
   },
   "outputs": [],
   "source": [
    "meta_emotion_df.to_csv('meta_emotion_latest.csv',index=False)"
   ]
  },
  {
   "cell_type": "markdown",
   "id": "1e9e6ec6",
   "metadata": {
    "ExecuteTime": {
     "end_time": "2021-12-04T15:05:46.712389Z",
     "start_time": "2021-12-04T15:05:46.679755Z"
    }
   },
   "source": [
    "---"
   ]
  },
  {
   "cell_type": "markdown",
   "id": "7e1baa2c",
   "metadata": {},
   "source": [
    "## 연대별 감성 분류\n",
    "* 1940 ~ 2010 년대 + 2020 + 2021"
   ]
  },
  {
   "cell_type": "code",
   "execution_count": 74,
   "id": "839dae18",
   "metadata": {
    "ExecuteTime": {
     "end_time": "2021-12-04T15:27:16.798348Z",
     "start_time": "2021-12-04T15:27:16.497221Z"
    }
   },
   "outputs": [],
   "source": [
    "sort_total_years = pd.read_csv('sort_total_years.csv')"
   ]
  },
  {
   "cell_type": "code",
   "execution_count": 75,
   "id": "0727f1ad",
   "metadata": {
    "ExecuteTime": {
     "end_time": "2021-12-04T15:58:13.433837Z",
     "start_time": "2021-12-04T15:28:44.360217Z"
    }
   },
   "outputs": [],
   "source": [
    "result = []\n",
    "for i in range(len(sort_total_years)):    \n",
    "    emotion_list = {\n",
    "    'emotion' : multi_sentiment_predict(sort_total_years.Lyric[i])[1],\n",
    "    'percentage': multi_sentiment_predict(sort_total_years.Lyric[i])[0]        \n",
    "    }\n",
    "\n",
    "    df = pd.DataFrame.from_dict(emotion_list, orient='index')\n",
    "    df = df.transpose()\n",
    "    result.append(df)"
   ]
  },
  {
   "cell_type": "code",
   "execution_count": 76,
   "id": "25c96ad1",
   "metadata": {
    "ExecuteTime": {
     "end_time": "2021-12-04T15:58:41.775269Z",
     "start_time": "2021-12-04T15:58:38.746061Z"
    }
   },
   "outputs": [
    {
     "data": {
      "text/html": [
       "<div>\n",
       "<style scoped>\n",
       "    .dataframe tbody tr th:only-of-type {\n",
       "        vertical-align: middle;\n",
       "    }\n",
       "\n",
       "    .dataframe tbody tr th {\n",
       "        vertical-align: top;\n",
       "    }\n",
       "\n",
       "    .dataframe thead th {\n",
       "        text-align: right;\n",
       "    }\n",
       "</style>\n",
       "<table border=\"1\" class=\"dataframe\">\n",
       "  <thead>\n",
       "    <tr style=\"text-align: right;\">\n",
       "      <th></th>\n",
       "      <th>emotion</th>\n",
       "      <th>percentage</th>\n",
       "    </tr>\n",
       "  </thead>\n",
       "  <tbody>\n",
       "    <tr>\n",
       "      <th>0</th>\n",
       "      <td>행복</td>\n",
       "      <td>81.6</td>\n",
       "    </tr>\n",
       "    <tr>\n",
       "      <th>1</th>\n",
       "      <td>혐오</td>\n",
       "      <td>99.61</td>\n",
       "    </tr>\n",
       "    <tr>\n",
       "      <th>2</th>\n",
       "      <td>혐오</td>\n",
       "      <td>60.23</td>\n",
       "    </tr>\n",
       "    <tr>\n",
       "      <th>3</th>\n",
       "      <td>행복</td>\n",
       "      <td>57.15</td>\n",
       "    </tr>\n",
       "    <tr>\n",
       "      <th>4</th>\n",
       "      <td>행복</td>\n",
       "      <td>70.41</td>\n",
       "    </tr>\n",
       "    <tr>\n",
       "      <th>...</th>\n",
       "      <td>...</td>\n",
       "      <td>...</td>\n",
       "    </tr>\n",
       "    <tr>\n",
       "      <th>4557</th>\n",
       "      <td>중립</td>\n",
       "      <td>48.81</td>\n",
       "    </tr>\n",
       "    <tr>\n",
       "      <th>4558</th>\n",
       "      <td>행복</td>\n",
       "      <td>99.83</td>\n",
       "    </tr>\n",
       "    <tr>\n",
       "      <th>4559</th>\n",
       "      <td>혐오</td>\n",
       "      <td>75.15</td>\n",
       "    </tr>\n",
       "    <tr>\n",
       "      <th>4560</th>\n",
       "      <td>혐오</td>\n",
       "      <td>58.63</td>\n",
       "    </tr>\n",
       "    <tr>\n",
       "      <th>4561</th>\n",
       "      <td>행복</td>\n",
       "      <td>40.03</td>\n",
       "    </tr>\n",
       "  </tbody>\n",
       "</table>\n",
       "<p>4562 rows × 2 columns</p>\n",
       "</div>"
      ],
      "text/plain": [
       "     emotion percentage\n",
       "0         행복       81.6\n",
       "1         혐오      99.61\n",
       "2         혐오      60.23\n",
       "3         행복      57.15\n",
       "4         행복      70.41\n",
       "...      ...        ...\n",
       "4557      중립      48.81\n",
       "4558      행복      99.83\n",
       "4559      혐오      75.15\n",
       "4560      혐오      58.63\n",
       "4561      행복      40.03\n",
       "\n",
       "[4562 rows x 2 columns]"
      ]
     },
     "execution_count": 76,
     "metadata": {},
     "output_type": "execute_result"
    }
   ],
   "source": [
    "emotion_df = pd.concat(result).reset_index(drop=True)    \n",
    "emotion_df"
   ]
  },
  {
   "cell_type": "code",
   "execution_count": 77,
   "id": "4febe12c",
   "metadata": {
    "ExecuteTime": {
     "end_time": "2021-12-04T15:59:07.003984Z",
     "start_time": "2021-12-04T15:59:06.931637Z"
    }
   },
   "outputs": [
    {
     "data": {
      "text/html": [
       "<div>\n",
       "<style scoped>\n",
       "    .dataframe tbody tr th:only-of-type {\n",
       "        vertical-align: middle;\n",
       "    }\n",
       "\n",
       "    .dataframe tbody tr th {\n",
       "        vertical-align: top;\n",
       "    }\n",
       "\n",
       "    .dataframe thead th {\n",
       "        text-align: right;\n",
       "    }\n",
       "</style>\n",
       "<table border=\"1\" class=\"dataframe\">\n",
       "  <thead>\n",
       "    <tr style=\"text-align: right;\">\n",
       "      <th></th>\n",
       "      <th>emotion</th>\n",
       "      <th>percentage</th>\n",
       "      <th>song_id</th>\n",
       "      <th>song_name</th>\n",
       "      <th>artist</th>\n",
       "      <th>album</th>\n",
       "      <th>Like_Count</th>\n",
       "      <th>Lyric</th>\n",
       "      <th>cover_url</th>\n",
       "      <th>tags</th>\n",
       "      <th>year</th>\n",
       "    </tr>\n",
       "  </thead>\n",
       "  <tbody>\n",
       "    <tr>\n",
       "      <th>0</th>\n",
       "      <td>행복</td>\n",
       "      <td>81.6</td>\n",
       "      <td>191162</td>\n",
       "      <td>오빠는 풍각(風角)쟁이</td>\n",
       "      <td>박향림</td>\n",
       "      <td>유성기로 듣던 불멸의 명가수 - 박향림 편</td>\n",
       "      <td>1914</td>\n",
       "      <td>오빠는 풍각쟁이야 머 오빠는 심술쟁이야 머   난몰라 난몰라 내반찬 다 뺏어 먹는거...</td>\n",
       "      <td>https://image.bugsm.co.kr/album/images/200/101...</td>\n",
       "      <td>['연도별 인기가요', '올디스', '연대별', '연대별 음악']</td>\n",
       "      <td>1940y</td>\n",
       "    </tr>\n",
       "    <tr>\n",
       "      <th>1</th>\n",
       "      <td>혐오</td>\n",
       "      <td>99.61</td>\n",
       "      <td>80078168</td>\n",
       "      <td>애수의 소야곡</td>\n",
       "      <td>남인수</td>\n",
       "      <td>남인수 골든</td>\n",
       "      <td>937</td>\n",
       "      <td>운다고 옛사랑이 오리요만은   눈물로 달래보는 구슬픈 이밤  고요히 창을 열고 별빛...</td>\n",
       "      <td>https://image.bugsm.co.kr/album/images/200/800...</td>\n",
       "      <td>['연도별 인기가요', '올디스', '연대별', '연대별 음악']</td>\n",
       "      <td>1940y</td>\n",
       "    </tr>\n",
       "    <tr>\n",
       "      <th>2</th>\n",
       "      <td>혐오</td>\n",
       "      <td>60.23</td>\n",
       "      <td>111683</td>\n",
       "      <td>불효자는 웁니다</td>\n",
       "      <td>진방남</td>\n",
       "      <td>유성기로 듣던 불멸의 명가수 - 진방남, 고운봉, 송달협 편</td>\n",
       "      <td>732</td>\n",
       "      <td>울며헤진 부산항을 돌아다보니  연락선 난간머리 흘러온달빛  이별만은 어렵더라 이별만...</td>\n",
       "      <td>https://image.bugsm.co.kr/album/images/200/101...</td>\n",
       "      <td>['연도별 인기가요', '올디스', '연대별', '연대별 음악']</td>\n",
       "      <td>1940y</td>\n",
       "    </tr>\n",
       "    <tr>\n",
       "      <th>3</th>\n",
       "      <td>행복</td>\n",
       "      <td>57.15</td>\n",
       "      <td>173791</td>\n",
       "      <td>눈물젖은 두만강(豆滿江)</td>\n",
       "      <td>김정구</td>\n",
       "      <td>유성기로 듣던 불멸의 명가수 - 김정구 편</td>\n",
       "      <td>609</td>\n",
       "      <td>두만강 푸른 물에 노젓는 뱃사공       흘러간 그 옛날에 내 님을 싣고     ...</td>\n",
       "      <td>https://image.bugsm.co.kr/album/images/200/101...</td>\n",
       "      <td>['연도별 인기가요', '올디스', '연대별', '연대별 음악']</td>\n",
       "      <td>1940y</td>\n",
       "    </tr>\n",
       "    <tr>\n",
       "      <th>4</th>\n",
       "      <td>행복</td>\n",
       "      <td>70.41</td>\n",
       "      <td>173084</td>\n",
       "      <td>번지없는 주막</td>\n",
       "      <td>백년설</td>\n",
       "      <td>유성기로 듣던 불멸의 명가수 - 백년설 편</td>\n",
       "      <td>511</td>\n",
       "      <td>불러봐도 울어봐도 못 오실 어머님을  원통해 불러보고 땅을 치며 통곡해요   다시 ...</td>\n",
       "      <td>https://image.bugsm.co.kr/album/images/200/100...</td>\n",
       "      <td>['연도별 인기가요', '올디스', '연대별', '연대별 음악']</td>\n",
       "      <td>1940y</td>\n",
       "    </tr>\n",
       "  </tbody>\n",
       "</table>\n",
       "</div>"
      ],
      "text/plain": [
       "  emotion percentage   song_id      song_name artist  \\\n",
       "0      행복       81.6    191162   오빠는 풍각(風角)쟁이    박향림   \n",
       "1      혐오      99.61  80078168        애수의 소야곡    남인수   \n",
       "2      혐오      60.23    111683       불효자는 웁니다    진방남   \n",
       "3      행복      57.15    173791  눈물젖은 두만강(豆滿江)    김정구   \n",
       "4      행복      70.41    173084        번지없는 주막    백년설   \n",
       "\n",
       "                               album  Like_Count  \\\n",
       "0            유성기로 듣던 불멸의 명가수 - 박향림 편        1914   \n",
       "1                             남인수 골든         937   \n",
       "2  유성기로 듣던 불멸의 명가수 - 진방남, 고운봉, 송달협 편         732   \n",
       "3            유성기로 듣던 불멸의 명가수 - 김정구 편         609   \n",
       "4            유성기로 듣던 불멸의 명가수 - 백년설 편         511   \n",
       "\n",
       "                                               Lyric  \\\n",
       "0  오빠는 풍각쟁이야 머 오빠는 심술쟁이야 머   난몰라 난몰라 내반찬 다 뺏어 먹는거...   \n",
       "1  운다고 옛사랑이 오리요만은   눈물로 달래보는 구슬픈 이밤  고요히 창을 열고 별빛...   \n",
       "2  울며헤진 부산항을 돌아다보니  연락선 난간머리 흘러온달빛  이별만은 어렵더라 이별만...   \n",
       "3  두만강 푸른 물에 노젓는 뱃사공       흘러간 그 옛날에 내 님을 싣고     ...   \n",
       "4  불러봐도 울어봐도 못 오실 어머님을  원통해 불러보고 땅을 치며 통곡해요   다시 ...   \n",
       "\n",
       "                                           cover_url  \\\n",
       "0  https://image.bugsm.co.kr/album/images/200/101...   \n",
       "1  https://image.bugsm.co.kr/album/images/200/800...   \n",
       "2  https://image.bugsm.co.kr/album/images/200/101...   \n",
       "3  https://image.bugsm.co.kr/album/images/200/101...   \n",
       "4  https://image.bugsm.co.kr/album/images/200/100...   \n",
       "\n",
       "                                   tags   year  \n",
       "0  ['연도별 인기가요', '올디스', '연대별', '연대별 음악']  1940y  \n",
       "1  ['연도별 인기가요', '올디스', '연대별', '연대별 음악']  1940y  \n",
       "2  ['연도별 인기가요', '올디스', '연대별', '연대별 음악']  1940y  \n",
       "3  ['연도별 인기가요', '올디스', '연대별', '연대별 음악']  1940y  \n",
       "4  ['연도별 인기가요', '올디스', '연대별', '연대별 음악']  1940y  "
      ]
     },
     "execution_count": 77,
     "metadata": {},
     "output_type": "execute_result"
    }
   ],
   "source": [
    "meta_emotion_df = emotion_df.join(sort_total_years,lsuffix='index')\n",
    "meta_emotion_df.head()\n"
   ]
  },
  {
   "cell_type": "code",
   "execution_count": 78,
   "id": "eb0d31a9",
   "metadata": {
    "ExecuteTime": {
     "end_time": "2021-12-04T15:59:32.504474Z",
     "start_time": "2021-12-04T15:59:32.063695Z"
    }
   },
   "outputs": [],
   "source": [
    "meta_emotion_df.to_csv('meta_emotion_years.csv',index=False)"
   ]
  },
  {
   "cell_type": "code",
   "execution_count": null,
   "id": "84d57286",
   "metadata": {},
   "outputs": [],
   "source": []
  }
 ],
 "metadata": {
  "hide_input": false,
  "kernelspec": {
   "display_name": "Python 3",
   "language": "python",
   "name": "python3"
  },
  "language_info": {
   "codemirror_mode": {
    "name": "ipython",
    "version": 3
   },
   "file_extension": ".py",
   "mimetype": "text/x-python",
   "name": "python",
   "nbconvert_exporter": "python",
   "pygments_lexer": "ipython3",
   "version": "3.8.8"
  },
  "toc": {
   "base_numbering": 1,
   "nav_menu": {},
   "number_sections": true,
   "sideBar": true,
   "skip_h1_title": false,
   "title_cell": "Table of Contents",
   "title_sidebar": "Contents",
   "toc_cell": false,
   "toc_position": {},
   "toc_section_display": true,
   "toc_window_display": false
  },
  "varInspector": {
   "cols": {
    "lenName": 16,
    "lenType": 16,
    "lenVar": 40
   },
   "kernels_config": {
    "python": {
     "delete_cmd_postfix": "",
     "delete_cmd_prefix": "del ",
     "library": "var_list.py",
     "varRefreshCmd": "print(var_dic_list())"
    },
    "r": {
     "delete_cmd_postfix": ") ",
     "delete_cmd_prefix": "rm(",
     "library": "var_list.r",
     "varRefreshCmd": "cat(var_dic_list()) "
    }
   },
   "types_to_exclude": [
    "module",
    "function",
    "builtin_function_or_method",
    "instance",
    "_Feature"
   ],
   "window_display": false
  }
 },
 "nbformat": 4,
 "nbformat_minor": 5
}
