{
 "cells": [
  {
   "cell_type": "code",
   "execution_count": 1,
   "id": "98c96f4a",
   "metadata": {
    "ExecuteTime": {
     "end_time": "2021-12-04T10:16:02.906991Z",
     "start_time": "2021-12-04T10:15:52.586650Z"
    }
   },
   "outputs": [],
   "source": [
    "import re\n",
    "import requests\n",
    "from bs4 import BeautifulSoup\n",
    "import pandas as pd\n",
    "from konlpy.tag import Okt  \n",
    "okt = Okt() \n",
    "import tensorflow as tf\n",
    "import numpy as np\n",
    "from collections import Counter\n",
    "\n",
    "from wordcloud import WordCloud\n",
    "import matplotlib.pyplot as plt\n",
    "\n",
    "\n",
    "import urllib.request\n",
    "from tqdm import tqdm\n",
    "from tensorflow.keras.preprocessing.text import Tokenizer\n",
    "from tensorflow.keras.preprocessing.sequence import pad_sequences\n",
    "from sklearn.model_selection import train_test_split\n",
    "from sklearn.feature_extraction.text import CountVectorizer"
   ]
  },
  {
   "cell_type": "code",
   "execution_count": 2,
   "id": "491b46bb",
   "metadata": {
    "ExecuteTime": {
     "end_time": "2021-12-04T10:16:02.970027Z",
     "start_time": "2021-12-04T10:16:02.945004Z"
    }
   },
   "outputs": [],
   "source": [
    "import matplotlib.pyplot as plt \n",
    "from string import punctuation"
   ]
  },
  {
   "cell_type": "code",
   "execution_count": 29,
   "id": "0ca219ed",
   "metadata": {
    "ExecuteTime": {
     "end_time": "2021-12-04T10:36:18.453673Z",
     "start_time": "2021-12-04T10:36:18.444555Z"
    }
   },
   "outputs": [],
   "source": [
    "import warnings\n",
    "warnings.filterwarnings('ignore')"
   ]
  },
  {
   "cell_type": "markdown",
   "id": "fd55d262",
   "metadata": {},
   "source": [
    "## 데이터 불러오기"
   ]
  },
  {
   "cell_type": "code",
   "execution_count": 4,
   "id": "cbe5cb06",
   "metadata": {
    "ExecuteTime": {
     "end_time": "2021-12-04T10:16:04.453388Z",
     "start_time": "2021-12-04T10:16:04.168392Z"
    }
   },
   "outputs": [],
   "source": [
    "sort_total_years = pd.read_csv('sort_total_years.csv')\n",
    "# 2020년대 곡\n",
    "y20 = sort_total_years[sort_total_years['year'].str.contains('2020y')]\n",
    "y21 = sort_total_years[sort_total_years['year'].str.contains('2021y')]\n",
    "# latest = y20.append(y21)"
   ]
  },
  {
   "cell_type": "code",
   "execution_count": 5,
   "id": "89a998f5",
   "metadata": {
    "ExecuteTime": {
     "end_time": "2021-12-04T10:16:05.105633Z",
     "start_time": "2021-12-04T10:16:05.087637Z"
    }
   },
   "outputs": [],
   "source": [
    "y20_100 = y20[:100]\n",
    "y21_100 = y21[:100]"
   ]
  },
  {
   "cell_type": "code",
   "execution_count": 6,
   "id": "e385aa3d",
   "metadata": {
    "ExecuteTime": {
     "end_time": "2021-12-04T10:16:06.948961Z",
     "start_time": "2021-12-04T10:16:06.930959Z"
    }
   },
   "outputs": [],
   "source": [
    "latest_100 = y20_100.append(y21_100)"
   ]
  },
  {
   "cell_type": "markdown",
   "id": "b9ba3874",
   "metadata": {},
   "source": [
    "## 불용어"
   ]
  },
  {
   "cell_type": "code",
   "execution_count": 7,
   "id": "edb963ce",
   "metadata": {
    "ExecuteTime": {
     "end_time": "2021-12-04T10:16:09.000870Z",
     "start_time": "2021-12-04T10:16:08.980868Z"
    }
   },
   "outputs": [],
   "source": [
    " # 불용어 (가사 빈도수 높은 + 감정분류와 무관한 단어 추가 중)\n",
    "stop_w = ['all','이렇게','네가','있는','니가','없는','너의','너무','그런',\n",
    "          'oh','whoo','tuesday','내가','너를','나를','we','this','the','그렇게',\n",
    "          'so','am','baby','and','can','you','much','me','for','go','in',\n",
    "          '은', '는', '이', '가', '하','부터','처럼','까지',\n",
    "          'know','no','of','let','my','수','너','내','나','그','난','봐',\n",
    "          '돼','건','모든','에서','에게','싶어','잖아',\n",
    "          '날','널','수','것','못','말','넌','젠','하나','정말','알','여기',\n",
    "          '다시','하게','니까',\n",
    "          '때','아','더','게','또','채','일','걸','누구','나는','너는','라면',\n",
    "          '같아','있어',\n",
    "          '의','가','보','들','좀','잘','걍','과','도','를','으로','우린','하지',\n",
    "          '해도','하고','없어','않아',\n",
    "          '자','에','와','한','하다','네','있다','나의','해','다','내게','왜',\n",
    "          '거야','이제','그냥','했던','하는']\n",
    "# 우리 , 그대 , 사랑 , 지금"
   ]
  },
  {
   "cell_type": "code",
   "execution_count": 30,
   "id": "edc7d0fb",
   "metadata": {
    "ExecuteTime": {
     "end_time": "2021-12-04T10:36:20.652861Z",
     "start_time": "2021-12-04T10:36:20.645864Z"
    }
   },
   "outputs": [
    {
     "data": {
      "text/plain": [
       "120"
      ]
     },
     "execution_count": 30,
     "metadata": {},
     "output_type": "execute_result"
    }
   ],
   "source": [
    "len(stop_w)"
   ]
  },
  {
   "cell_type": "markdown",
   "id": "73b9203e",
   "metadata": {},
   "source": [
    "## 신조어 단어 사전 추가\n",
    "### ckonlpy "
   ]
  },
  {
   "cell_type": "code",
   "execution_count": 9,
   "id": "87084b21",
   "metadata": {
    "ExecuteTime": {
     "end_time": "2021-12-04T10:16:12.929263Z",
     "start_time": "2021-12-04T10:16:12.651269Z"
    }
   },
   "outputs": [],
   "source": [
    "from ckonlpy.tag import Twitter\n",
    "twitter = Twitter()"
   ]
  },
  {
   "cell_type": "markdown",
   "id": "a860d3ca",
   "metadata": {},
   "source": [
    "## 신조어 정의\n",
    "참고 링크\n",
    "* https://blog.naver.com/dic_master/221436020989\n",
    "* https://open-pro.dict.naver.com/_ivo/dictmain?dictID=enegdwdxdyebegdxdwdsqyofgwrzrzuc&listType=1&page=9\n",
    "* https://open-pro.dict.naver.com/_ivo/dictmain?dictID=enegdwdxdyebegdxdwdsqyofbjqyiebp&page=5"
   ]
  },
  {
   "cell_type": "code",
   "execution_count": 31,
   "id": "5599f13a",
   "metadata": {
    "ExecuteTime": {
     "end_time": "2021-12-04T10:36:32.972938Z",
     "start_time": "2021-12-04T10:36:32.963344Z"
    }
   },
   "outputs": [
    {
     "data": {
      "text/plain": [
       "236"
      ]
     },
     "execution_count": 31,
     "metadata": {},
     "output_type": "execute_result"
    }
   ],
   "source": [
    "len(add_words)"
   ]
  },
  {
   "cell_type": "code",
   "execution_count": 10,
   "id": "3fe99b7e",
   "metadata": {
    "ExecuteTime": {
     "end_time": "2021-12-04T10:16:13.818269Z",
     "start_time": "2021-12-04T10:16:13.799270Z"
    }
   },
   "outputs": [],
   "source": [
    "# 리스트에 담긴 단어만큼 사전에 추가\n",
    "for i in range(len(add_words)):\n",
    "    twitter.add_dictionary(add_words[i], 'Noun')"
   ]
  },
  {
   "cell_type": "markdown",
   "id": "93510624",
   "metadata": {},
   "source": [
    "## 가사 토큰화"
   ]
  },
  {
   "cell_type": "code",
   "execution_count": 11,
   "id": "7052d488",
   "metadata": {
    "ExecuteTime": {
     "end_time": "2021-12-04T10:17:03.012962Z",
     "start_time": "2021-12-04T10:16:52.141567Z"
    }
   },
   "outputs": [],
   "source": [
    "word_list = latest_100['Lyric'].apply(lambda x: [word for word in twitter.nouns(x) if word not in stop_w])"
   ]
  },
  {
   "cell_type": "code",
   "execution_count": 32,
   "id": "ebdf5a6d",
   "metadata": {
    "ExecuteTime": {
     "end_time": "2021-12-04T10:38:55.799849Z",
     "start_time": "2021-12-04T10:38:55.787846Z"
    }
   },
   "outputs": [
    {
     "data": {
      "text/plain": [
       "3308    [마음, 상처, 음악, 연고, 발라, 밤, 밤, 바바바, 밤, 발라, 밤, 밤, 바...\n",
       "3309    [밤, 그날, 반딧불, 당신, 창, 가까이, 음, 사랑, 우리, 첫, 입맞춤, 언제...\n",
       "3310    [곁, 이대, 이별, 조금, 멀리, 뿐, 모두, 지나, 간, 기억, 속, 눈물, 만...\n",
       "3311    [웃, 생각, 눈물, 이나, 시간, 준, 사람, 테, 항상, 고단, 하루, 유일, ...\n",
       "3312    [뭐, 행복, 머리, 저, 하늘, 높이, 그때, 니, 두, 날개, 눈, 전부, 조금...\n",
       "                              ...                        \n",
       "3695    [자꾸, 연구, 아인슈타인, 고, 각, 재, 고, 밀고, 스타일, 고, 아보, 거,...\n",
       "3697    [방금, 어깰, 토닥, 바, 라보, 아무, 끌, 어안, 우리, 오늘, 이별, 기억,...\n",
       "3698    [단위, 숨, 탁, 신경, 거절, 어디, 눈, 거울, 속, 마주, 멀리, 멀리, 오...\n",
       "3700    [뒷모습, 분홍, 빛, 이나, 새, 조명, 번쩍, 번쩍, 세상, 머리, 비운, 감정...\n",
       "3702    [어진, 하루, 길, 어진, 그림자, 저, 멀리, 어둠, 속, 헤메, 곳, 아직, ...\n",
       "Name: Lyric, Length: 200, dtype: object"
      ]
     },
     "execution_count": 32,
     "metadata": {},
     "output_type": "execute_result"
    }
   ],
   "source": [
    "word_list"
   ]
  },
  {
   "cell_type": "markdown",
   "id": "0da45c85",
   "metadata": {},
   "source": [
    "## 단어 벡터화 및 토픽 모델링"
   ]
  },
  {
   "cell_type": "code",
   "execution_count": 12,
   "id": "8da4b919",
   "metadata": {
    "ExecuteTime": {
     "end_time": "2021-12-04T10:17:06.645756Z",
     "start_time": "2021-12-04T10:17:05.624221Z"
    }
   },
   "outputs": [
    {
     "name": "stdout",
     "output_type": "stream",
     "text": [
      "(3, 1000)\n",
      "[[ 5.16047483  0.85716253  8.22871042 ...  5.33323757  3.33324038\n",
      "   2.33797516]\n",
      " [ 0.33626074 17.54112241  4.80511733 ...  0.33338005  0.33337793\n",
      "   1.32847097]\n",
      " [ 1.50326442  1.60171506 22.96617225 ...  0.33338238  0.33338169\n",
      "   0.33355386]]\n"
     ]
    }
   ],
   "source": [
    "from sklearn.feature_extraction.text import CountVectorizer\n",
    "from sklearn.decomposition import LatentDirichletAllocation\n",
    "\n",
    "# 설정해준 카테고리의 데이터들만 추출\n",
    "# CountVectorizer로 텍스트 데이터들 단어 빈도수에 기반해 벡터화시키기(fit_transform까지!)\n",
    "count_vect = CountVectorizer(max_df=0.95, max_features=1000,\n",
    "                            min_df=2, stop_words=stop_w,\n",
    "                            ngram_range=(1,5)) # (min_n, max_n) 튜플 : n-그램 범위\n",
    "ftr_vect = count_vect.fit_transform(word_list.astype(str))\n",
    "\n",
    "\n",
    "# LDA클래스를 이용해서 피처 벡터화시킨 것을 토픽모델링 시키기\n",
    "# n_components(토픽개수) 3로 설정\n",
    "lda = LatentDirichletAllocation(n_components=3, random_state=42)\n",
    "lda.fit(ftr_vect)\n",
    "# components_속성은 3개의 토픽별(row)로 1000개의 feature(단어)들의 분포수치(column)를 보여줌\n",
    "print(lda.components_.shape)\n",
    "print(lda.components_)"
   ]
  },
  {
   "cell_type": "code",
   "execution_count": 13,
   "id": "d0c2375d",
   "metadata": {
    "ExecuteTime": {
     "end_time": "2021-12-04T10:17:10.757978Z",
     "start_time": "2021-12-04T10:17:10.684975Z"
    }
   },
   "outputs": [
    {
     "name": "stdout",
     "output_type": "stream",
     "text": [
      "(200, 3)\n",
      "[[0.48902955 0.49273251 0.01823793]\n",
      " [0.00933006 0.98134392 0.00932602]]\n"
     ]
    }
   ],
   "source": [
    "# transform까지 수행하면, 문서별(row)로 토픽들(column)의 분포를 알려줌\n",
    "doc_topics = lda.transform(ftr_vect)\n",
    "print(doc_topics.shape)\n",
    "print(doc_topics[:2]) # 두 곡에 대한 확률 정보 "
   ]
  },
  {
   "cell_type": "markdown",
   "id": "82d64a0b",
   "metadata": {},
   "source": [
    "`(200, 3)` ==> 문서 200개 , 3개의 토픽<br>\n",
    "`[[0.48902955 0.49273251 0.01823793]` 첫 번째 문서(노래) 에 대한 각 토픽에 해당될 확률<br>\n",
    " `[0.00933006 0.98134392 0.00932602]]`두 번째 문서(노래) 에 대한 각 토픽에 해당될 확률<br>"
   ]
  },
  {
   "cell_type": "code",
   "execution_count": 37,
   "id": "2d046b47",
   "metadata": {
    "ExecuteTime": {
     "end_time": "2021-12-04T10:53:03.857310Z",
     "start_time": "2021-12-04T10:53:03.835341Z"
    }
   },
   "outputs": [
    {
     "name": "stdout",
     "output_type": "stream",
     "text": [
      "\n",
      "Topic # 1\n",
      "생각*54.1+세상*48.2+시간*48.0+사랑*44.3+지금*40.4+어디*39.9+우리*37.9+소리*37.4+모두*30.9+순간*29.8+친구*28.3+내일*27.2+하루*26.7+아무*26.2+머리*25.8\n",
      "\n",
      "Topic # 2\n",
      "그대*152.2+우리*125.4+사랑*118.6+다운*63.1+기억*58.0+아름*55.3+세상*52.6+시간*50.0+오늘*48.0+조금*42.3+아름 다운*40.3+마음*35.8+아무*35.1+위로*31.8+멀리*31.7\n",
      "\n",
      "Topic # 3\n",
      "사랑*155.1+마음*81.3+사람*65.5+노래*57.2+아무*45.7+우리*41.6+지금*39.0+아마*37.3+생각*33.4+사랑 사랑*30.0+아주*29.8+이대*28.5+영원*27.3+시간*27.0+가끔*23.0\n"
     ]
    }
   ],
   "source": [
    "def display_topic_words(lda_model, feature_names, num_top_words):\n",
    "    for topic_idx, topic in enumerate(lda_model.components_):\n",
    "        print('\\nTopic #', topic_idx+1)\n",
    "        \n",
    "        # Topic별로 1000개의 단어들(features)중에서 높은 값 순으로 정렬 후 index를 반환해줌\n",
    "\n",
    "        topic_word_idx = topic.argsort()[::-1] # argsort()는 디폴트가 오름차순, [::-1]로 내림차순 변경\n",
    "        top_idx = topic_word_idx[:num_top_words]\n",
    "        \n",
    "        # CountVectorizer함수 할당시킨 객체에 get_feature_names()로 벡터화시킨 feature(단어들)볼 수 있음\n",
    "        # 이 벡터화시킨 단어들(features)은 숫자-알파벳순으로 정렬되며, 단어들 순서는 fit_transform시키고 난 이후에도 동일!\n",
    "        # '문자열'.join 함수로 특정 문자열 사이에 끼고 문자열 합쳐줄 수 있음.\n",
    "        feature_concat = '+'.join([str(feature_names[i])+'*'+str(round(topic[i], 1)) for i in top_idx])\n",
    "        print(feature_concat)        \n",
    "        \n",
    "feature_names = count_vect.get_feature_names()\n",
    "display_topic_words(lda, feature_names, 15)"
   ]
  },
  {
   "cell_type": "markdown",
   "id": "efcb7dce",
   "metadata": {
    "ExecuteTime": {
     "end_time": "2021-12-04T10:51:18.254640Z",
     "start_time": "2021-12-04T10:51:18.238641Z"
    }
   },
   "source": [
    "## 노래에 대한 각 토픽 확률"
   ]
  },
  {
   "cell_type": "code",
   "execution_count": 35,
   "id": "9efc74a5",
   "metadata": {
    "ExecuteTime": {
     "end_time": "2021-12-04T10:52:57.686213Z",
     "start_time": "2021-12-04T10:52:57.671933Z"
    }
   },
   "outputs": [],
   "source": [
    "# 주어진 내장 텍스트데이터의 문서이름에는 카테고리가 labeling되어있음. \n",
    "# 따라서, 카테고리가 무엇인지 아는 상태이니까 어떤 문서들이 어떤 토픽들이 높은지 확인해보자.\n",
    "# 그리고 그 토픽들이 각각 무엇을 내용으로 하는지 추측해보자.\n",
    "# 주어진 데이터셋의 filename속성을 이용해서 카테고리값들 가져오기\n",
    "def get_filename_list(latest_100):\n",
    "    filename_lst = []\n",
    "    for file in latest_100.song_name:\n",
    "        filename_temp = file.split('/')[-2:]\n",
    "        filename = '.'.join(filename_temp)\n",
    "        filename_lst.append(filename)\n",
    "    return filename_lst\n",
    " \n",
    "filename_lst = get_filename_list(latest_100)\n",
    "# Dataframe형태로 만들어보기\n",
    "topic_names = ['Topic #'+ str(i) for i in range(1,4)]\n",
    "topic_df = pd.DataFrame(data=doc_topics, columns=topic_names,\n",
    "                       index=filename_lst)\n",
    "# print(topic_df.head(20))"
   ]
  },
  {
   "cell_type": "code",
   "execution_count": 36,
   "id": "32f08912",
   "metadata": {
    "ExecuteTime": {
     "end_time": "2021-12-04T10:52:59.893275Z",
     "start_time": "2021-12-04T10:52:59.869302Z"
    }
   },
   "outputs": [
    {
     "data": {
      "text/html": [
       "<div>\n",
       "<style scoped>\n",
       "    .dataframe tbody tr th:only-of-type {\n",
       "        vertical-align: middle;\n",
       "    }\n",
       "\n",
       "    .dataframe tbody tr th {\n",
       "        vertical-align: top;\n",
       "    }\n",
       "\n",
       "    .dataframe thead th {\n",
       "        text-align: right;\n",
       "    }\n",
       "</style>\n",
       "<table border=\"1\" class=\"dataframe\">\n",
       "  <thead>\n",
       "    <tr style=\"text-align: right;\">\n",
       "      <th></th>\n",
       "      <th>Topic #1</th>\n",
       "      <th>Topic #2</th>\n",
       "      <th>Topic #3</th>\n",
       "    </tr>\n",
       "  </thead>\n",
       "  <tbody>\n",
       "    <tr>\n",
       "      <th>Monster (Korean ver.)</th>\n",
       "      <td>0.489030</td>\n",
       "      <td>0.492733</td>\n",
       "      <td>0.018238</td>\n",
       "    </tr>\n",
       "    <tr>\n",
       "      <th>밤편지</th>\n",
       "      <td>0.009330</td>\n",
       "      <td>0.981344</td>\n",
       "      <td>0.009326</td>\n",
       "    </tr>\n",
       "    <tr>\n",
       "      <th>I Believe (엽기적인 그녀 O.S.T)</th>\n",
       "      <td>0.006816</td>\n",
       "      <td>0.986314</td>\n",
       "      <td>0.006870</td>\n",
       "    </tr>\n",
       "    <tr>\n",
       "      <th>모든 날, 모든 순간 (Every day, Every Moment)</th>\n",
       "      <td>0.982487</td>\n",
       "      <td>0.008958</td>\n",
       "      <td>0.008555</td>\n",
       "    </tr>\n",
       "    <tr>\n",
       "      <th>작은 것들을 위한 시 (Boy With Luv) (Feat. Halsey)</th>\n",
       "      <td>0.983751</td>\n",
       "      <td>0.008104</td>\n",
       "      <td>0.008145</td>\n",
       "    </tr>\n",
       "    <tr>\n",
       "      <th>...</th>\n",
       "      <td>...</td>\n",
       "      <td>...</td>\n",
       "      <td>...</td>\n",
       "    </tr>\n",
       "    <tr>\n",
       "      <th>SCIENTIST</th>\n",
       "      <td>0.985095</td>\n",
       "      <td>0.007320</td>\n",
       "      <td>0.007585</td>\n",
       "    </tr>\n",
       "    <tr>\n",
       "      <th>마지막 날에 (Moving On)</th>\n",
       "      <td>0.006249</td>\n",
       "      <td>0.879620</td>\n",
       "      <td>0.114131</td>\n",
       "    </tr>\n",
       "    <tr>\n",
       "      <th>MAVERICK</th>\n",
       "      <td>0.661576</td>\n",
       "      <td>0.329016</td>\n",
       "      <td>0.009409</td>\n",
       "    </tr>\n",
       "    <tr>\n",
       "      <th>LALISA</th>\n",
       "      <td>0.644196</td>\n",
       "      <td>0.020023</td>\n",
       "      <td>0.335781</td>\n",
       "    </tr>\n",
       "    <tr>\n",
       "      <th>Yours</th>\n",
       "      <td>0.484450</td>\n",
       "      <td>0.500085</td>\n",
       "      <td>0.015465</td>\n",
       "    </tr>\n",
       "  </tbody>\n",
       "</table>\n",
       "<p>200 rows × 3 columns</p>\n",
       "</div>"
      ],
      "text/plain": [
       "                                           Topic #1  Topic #2  Topic #3\n",
       "Monster (Korean ver.)                      0.489030  0.492733  0.018238\n",
       "밤편지                                        0.009330  0.981344  0.009326\n",
       "I Believe (엽기적인 그녀 O.S.T)                  0.006816  0.986314  0.006870\n",
       "모든 날, 모든 순간 (Every day, Every Moment)      0.982487  0.008958  0.008555\n",
       "작은 것들을 위한 시 (Boy With Luv) (Feat. Halsey)  0.983751  0.008104  0.008145\n",
       "...                                             ...       ...       ...\n",
       "SCIENTIST                                  0.985095  0.007320  0.007585\n",
       "마지막 날에 (Moving On)                         0.006249  0.879620  0.114131\n",
       "MAVERICK                                   0.661576  0.329016  0.009409\n",
       "LALISA                                     0.644196  0.020023  0.335781\n",
       "Yours                                      0.484450  0.500085  0.015465\n",
       "\n",
       "[200 rows x 3 columns]"
      ]
     },
     "execution_count": 36,
     "metadata": {},
     "output_type": "execute_result"
    }
   ],
   "source": [
    "topic_df"
   ]
  },
  {
   "cell_type": "markdown",
   "id": "53a1de49",
   "metadata": {},
   "source": [
    "## Topic # 1\n",
    "**생각*54.1+세상*48.2+시간*48.0+사랑*44.3+지금*40.4**+어디*39.9+우리*37.9+소리*37.4+모두*30.9+순간*29.8+친구*28.3+내일*27.2+하루*26.7+아무*26.2+머리*25.8"
   ]
  },
  {
   "cell_type": "markdown",
   "id": "4bffab8a",
   "metadata": {},
   "source": [
    "## Topic # 2\n",
    "**그대*152.2+우리*125.4+사랑*118.6+다운*63.1+기억*58.0**+아름*55.3+세상*52.6+시간*50.0+오늘*48.0+조금*42.3+아름 다운*40.3+마음*35.8+아무*35.1+위로*31.8+멀리*31.7\n"
   ]
  },
  {
   "cell_type": "markdown",
   "id": "61a4a45b",
   "metadata": {},
   "source": [
    "## Topic # 3\n",
    "**사랑*155.1+마음*81.3+사람*65.5+노래*57.2+아무*45.7**+우리*41.6+지금*39.0+아마*37.3+생각*33.4+사랑 사랑*30.0+아주*29.8+이대*28.5+영원*27.3+시간*27.0+가끔*23.0"
   ]
  },
  {
   "cell_type": "markdown",
   "id": "51db8e31",
   "metadata": {},
   "source": [
    "---"
   ]
  },
  {
   "cell_type": "markdown",
   "id": "59d7495b",
   "metadata": {},
   "source": [
    "## 가장 높은 확률의 토픽만 추출"
   ]
  },
  {
   "cell_type": "code",
   "execution_count": 14,
   "id": "d012e3af",
   "metadata": {
    "ExecuteTime": {
     "end_time": "2021-12-04T10:17:12.795512Z",
     "start_time": "2021-12-04T10:17:12.715547Z"
    }
   },
   "outputs": [
    {
     "data": {
      "text/html": [
       "<div>\n",
       "<style scoped>\n",
       "    .dataframe tbody tr th:only-of-type {\n",
       "        vertical-align: middle;\n",
       "    }\n",
       "\n",
       "    .dataframe tbody tr th {\n",
       "        vertical-align: top;\n",
       "    }\n",
       "\n",
       "    .dataframe thead th {\n",
       "        text-align: right;\n",
       "    }\n",
       "</style>\n",
       "<table border=\"1\" class=\"dataframe\">\n",
       "  <thead>\n",
       "    <tr style=\"text-align: right;\">\n",
       "      <th></th>\n",
       "      <th>Doc_Num</th>\n",
       "      <th>Topic</th>\n",
       "      <th>Percentage</th>\n",
       "    </tr>\n",
       "  </thead>\n",
       "  <tbody>\n",
       "    <tr>\n",
       "      <th>0</th>\n",
       "      <td>0</td>\n",
       "      <td>1</td>\n",
       "      <td>0.492733</td>\n",
       "    </tr>\n",
       "    <tr>\n",
       "      <th>1</th>\n",
       "      <td>1</td>\n",
       "      <td>1</td>\n",
       "      <td>0.981344</td>\n",
       "    </tr>\n",
       "    <tr>\n",
       "      <th>2</th>\n",
       "      <td>2</td>\n",
       "      <td>1</td>\n",
       "      <td>0.986314</td>\n",
       "    </tr>\n",
       "    <tr>\n",
       "      <th>3</th>\n",
       "      <td>3</td>\n",
       "      <td>0</td>\n",
       "      <td>0.982487</td>\n",
       "    </tr>\n",
       "    <tr>\n",
       "      <th>4</th>\n",
       "      <td>4</td>\n",
       "      <td>0</td>\n",
       "      <td>0.983751</td>\n",
       "    </tr>\n",
       "  </tbody>\n",
       "</table>\n",
       "</div>"
      ],
      "text/plain": [
       "   Doc_Num  Topic  Percentage\n",
       "0        0      1    0.492733\n",
       "1        1      1    0.981344\n",
       "2        2      1    0.986314\n",
       "3        3      0    0.982487\n",
       "4        4      0    0.983751"
      ]
     },
     "execution_count": 14,
     "metadata": {},
     "output_type": "execute_result"
    }
   ],
   "source": [
    "# 문서별로, 가장 확률이 높은 topic으로 할당해줌\n",
    "\n",
    "doc_topic = lda.transform(ftr_vect)\n",
    "\n",
    "doc_per_topic_list = []\n",
    "for n in range(doc_topic.shape[0]):\n",
    "    topic_most_pr = doc_topic[n].argmax()\n",
    "    topic_pr = doc_topic[n].max()\n",
    "    doc_per_topic_list.append([n, topic_most_pr, topic_pr])\n",
    "    \n",
    "doc_topic_df = pd.DataFrame(doc_per_topic_list, columns=['Doc_Num', 'Topic', 'Percentage'])\n",
    "\n",
    "doc_topic_df.head()"
   ]
  },
  {
   "cell_type": "code",
   "execution_count": 15,
   "id": "3272006d",
   "metadata": {
    "ExecuteTime": {
     "end_time": "2021-12-04T10:17:16.505749Z",
     "start_time": "2021-12-04T10:17:16.489752Z"
    }
   },
   "outputs": [],
   "source": [
    "latest_100.reset_index(drop=True,inplace=True) # 인덱스(iloc)가 일치해야 join 가능"
   ]
  },
  {
   "cell_type": "markdown",
   "id": "5217365b",
   "metadata": {},
   "source": [
    "## 곡 정보 & 토픽 모델링 결과"
   ]
  },
  {
   "cell_type": "code",
   "execution_count": 16,
   "id": "c8ce5e5c",
   "metadata": {
    "ExecuteTime": {
     "end_time": "2021-12-04T10:17:17.754008Z",
     "start_time": "2021-12-04T10:17:17.720005Z"
    }
   },
   "outputs": [
    {
     "data": {
      "text/html": [
       "<div>\n",
       "<style scoped>\n",
       "    .dataframe tbody tr th:only-of-type {\n",
       "        vertical-align: middle;\n",
       "    }\n",
       "\n",
       "    .dataframe tbody tr th {\n",
       "        vertical-align: top;\n",
       "    }\n",
       "\n",
       "    .dataframe thead th {\n",
       "        text-align: right;\n",
       "    }\n",
       "</style>\n",
       "<table border=\"1\" class=\"dataframe\">\n",
       "  <thead>\n",
       "    <tr style=\"text-align: right;\">\n",
       "      <th></th>\n",
       "      <th>Topic</th>\n",
       "      <th>Percentage</th>\n",
       "      <th>song_id</th>\n",
       "      <th>song_name</th>\n",
       "      <th>artist</th>\n",
       "      <th>album</th>\n",
       "      <th>Like_Count</th>\n",
       "      <th>Lyric</th>\n",
       "      <th>cover_url</th>\n",
       "      <th>tags</th>\n",
       "      <th>year</th>\n",
       "    </tr>\n",
       "  </thead>\n",
       "  <tbody>\n",
       "    <tr>\n",
       "      <th>0</th>\n",
       "      <td>1</td>\n",
       "      <td>0.492733</td>\n",
       "      <td>1764294</td>\n",
       "      <td>Monster (Korean ver.)</td>\n",
       "      <td>드렁큰 타이거(Drunken Tiger)</td>\n",
       "      <td>Feel gHood Muzik - The 8th Wonder</td>\n",
       "      <td>67572</td>\n",
       "      <td>아픈 마음의 상처에 음악의 연고를 발라버려      밤 밤 바바바 밤발라버려 밤 밤...</td>\n",
       "      <td>https://image.bugsm.co.kr/album/images/200/189...</td>\n",
       "      <td>['2020년', '2020년대', '연도별 국내영화OST', '영화', 'OST'...</td>\n",
       "      <td>2020y</td>\n",
       "    </tr>\n",
       "    <tr>\n",
       "      <th>1</th>\n",
       "      <td>1</td>\n",
       "      <td>0.981344</td>\n",
       "      <td>30598121</td>\n",
       "      <td>밤편지</td>\n",
       "      <td>아이유(IU)</td>\n",
       "      <td>밤편지</td>\n",
       "      <td>38694</td>\n",
       "      <td>이 밤 그날의 반딧불을   당신의 창 가까이 보낼게요  음 사랑한다는 말 이에요  ...</td>\n",
       "      <td>https://image.bugsm.co.kr/album/images/200/200...</td>\n",
       "      <td>['국내외', '2020년', '100시리즈', '뮤직기네스', '2020 벅스 종...</td>\n",
       "      <td>2020y</td>\n",
       "    </tr>\n",
       "    <tr>\n",
       "      <th>2</th>\n",
       "      <td>1</td>\n",
       "      <td>0.986314</td>\n",
       "      <td>517714</td>\n",
       "      <td>I Believe (엽기적인 그녀 O.S.T)</td>\n",
       "      <td>신승훈</td>\n",
       "      <td>The Shin Seung Hun</td>\n",
       "      <td>34174</td>\n",
       "      <td>그댄 곁에 없지만   이대로 이별은 아니겠죠     나에게 오는 길은   조금 멀리...</td>\n",
       "      <td>https://image.bugsm.co.kr/album/images/200/158...</td>\n",
       "      <td>['2020년', '2020년대', '연도별 국내영화OST', '영화', 'OST'...</td>\n",
       "      <td>2020y</td>\n",
       "    </tr>\n",
       "    <tr>\n",
       "      <th>3</th>\n",
       "      <td>0</td>\n",
       "      <td>0.982487</td>\n",
       "      <td>30994623</td>\n",
       "      <td>모든 날, 모든 순간 (Every day, Every Moment)</td>\n",
       "      <td>폴킴(Paul Kim)</td>\n",
       "      <td>'키스 먼저 할까요?' OST Part.3</td>\n",
       "      <td>26963</td>\n",
       "      <td>네가 없이 웃을 수 있을까  생각만 해도 눈물이나  힘든 시간 날 지켜준 사람  이...</td>\n",
       "      <td>https://image.bugsm.co.kr/album/images/200/201...</td>\n",
       "      <td>['국내외', '2020년', '100시리즈', '뮤직기네스', '2020 벅스 종...</td>\n",
       "      <td>2020y</td>\n",
       "    </tr>\n",
       "    <tr>\n",
       "      <th>4</th>\n",
       "      <td>0</td>\n",
       "      <td>0.983751</td>\n",
       "      <td>31548668</td>\n",
       "      <td>작은 것들을 위한 시 (Boy With Luv) (Feat. Halsey)</td>\n",
       "      <td>방탄소년단</td>\n",
       "      <td>MAP OF THE SOUL : PERSONA</td>\n",
       "      <td>19884</td>\n",
       "      <td>모든 게 궁금해         뭐가 널 행복하게 하는지          내 머리맡에...</td>\n",
       "      <td>https://image.bugsm.co.kr/album/images/200/202...</td>\n",
       "      <td>['국내외', '2020년', '100시리즈', '뮤직기네스', '2020 벅스 종...</td>\n",
       "      <td>2020y</td>\n",
       "    </tr>\n",
       "  </tbody>\n",
       "</table>\n",
       "</div>"
      ],
      "text/plain": [
       "   Topic  Percentage   song_id                                  song_name  \\\n",
       "0      1    0.492733   1764294                      Monster (Korean ver.)   \n",
       "1      1    0.981344  30598121                                        밤편지   \n",
       "2      1    0.986314    517714                  I Believe (엽기적인 그녀 O.S.T)   \n",
       "3      0    0.982487  30994623      모든 날, 모든 순간 (Every day, Every Moment)   \n",
       "4      0    0.983751  31548668  작은 것들을 위한 시 (Boy With Luv) (Feat. Halsey)   \n",
       "\n",
       "                   artist                              album  Like_Count  \\\n",
       "0  드렁큰 타이거(Drunken Tiger)  Feel gHood Muzik - The 8th Wonder       67572   \n",
       "1                 아이유(IU)                                밤편지       38694   \n",
       "2                     신승훈                 The Shin Seung Hun       34174   \n",
       "3            폴킴(Paul Kim)            '키스 먼저 할까요?' OST Part.3       26963   \n",
       "4                   방탄소년단          MAP OF THE SOUL : PERSONA       19884   \n",
       "\n",
       "                                               Lyric  \\\n",
       "0  아픈 마음의 상처에 음악의 연고를 발라버려      밤 밤 바바바 밤발라버려 밤 밤...   \n",
       "1  이 밤 그날의 반딧불을   당신의 창 가까이 보낼게요  음 사랑한다는 말 이에요  ...   \n",
       "2  그댄 곁에 없지만   이대로 이별은 아니겠죠     나에게 오는 길은   조금 멀리...   \n",
       "3  네가 없이 웃을 수 있을까  생각만 해도 눈물이나  힘든 시간 날 지켜준 사람  이...   \n",
       "4  모든 게 궁금해         뭐가 널 행복하게 하는지          내 머리맡에...   \n",
       "\n",
       "                                           cover_url  \\\n",
       "0  https://image.bugsm.co.kr/album/images/200/189...   \n",
       "1  https://image.bugsm.co.kr/album/images/200/200...   \n",
       "2  https://image.bugsm.co.kr/album/images/200/158...   \n",
       "3  https://image.bugsm.co.kr/album/images/200/201...   \n",
       "4  https://image.bugsm.co.kr/album/images/200/202...   \n",
       "\n",
       "                                                tags   year  \n",
       "0  ['2020년', '2020년대', '연도별 국내영화OST', '영화', 'OST'...  2020y  \n",
       "1  ['국내외', '2020년', '100시리즈', '뮤직기네스', '2020 벅스 종...  2020y  \n",
       "2  ['2020년', '2020년대', '연도별 국내영화OST', '영화', 'OST'...  2020y  \n",
       "3  ['국내외', '2020년', '100시리즈', '뮤직기네스', '2020 벅스 종...  2020y  \n",
       "4  ['국내외', '2020년', '100시리즈', '뮤직기네스', '2020 벅스 종...  2020y  "
      ]
     },
     "execution_count": 16,
     "metadata": {},
     "output_type": "execute_result"
    }
   ],
   "source": [
    "doc_topic_df = doc_topic_df.join(latest_100,lsuffix='index')\n",
    "doc_topic_df.drop('Doc_Num', axis=1,inplace=True)\n",
    "doc_topic_df.head()"
   ]
  },
  {
   "cell_type": "code",
   "execution_count": 18,
   "id": "b58f58aa",
   "metadata": {
    "ExecuteTime": {
     "end_time": "2021-12-04T10:17:21.318285Z",
     "start_time": "2021-12-04T10:17:21.296227Z"
    }
   },
   "outputs": [
    {
     "data": {
      "text/html": [
       "<div>\n",
       "<style scoped>\n",
       "    .dataframe tbody tr th:only-of-type {\n",
       "        vertical-align: middle;\n",
       "    }\n",
       "\n",
       "    .dataframe tbody tr th {\n",
       "        vertical-align: top;\n",
       "    }\n",
       "\n",
       "    .dataframe thead th {\n",
       "        text-align: right;\n",
       "    }\n",
       "</style>\n",
       "<table border=\"1\" class=\"dataframe\">\n",
       "  <thead>\n",
       "    <tr style=\"text-align: right;\">\n",
       "      <th></th>\n",
       "      <th>song_id</th>\n",
       "    </tr>\n",
       "    <tr>\n",
       "      <th>Topic</th>\n",
       "      <th></th>\n",
       "    </tr>\n",
       "  </thead>\n",
       "  <tbody>\n",
       "    <tr>\n",
       "      <th>0</th>\n",
       "      <td>73</td>\n",
       "    </tr>\n",
       "    <tr>\n",
       "      <th>1</th>\n",
       "      <td>74</td>\n",
       "    </tr>\n",
       "    <tr>\n",
       "      <th>2</th>\n",
       "      <td>53</td>\n",
       "    </tr>\n",
       "  </tbody>\n",
       "</table>\n",
       "</div>"
      ],
      "text/plain": [
       "       song_id\n",
       "Topic         \n",
       "0           73\n",
       "1           74\n",
       "2           53"
      ]
     },
     "execution_count": 18,
     "metadata": {},
     "output_type": "execute_result"
    }
   ],
   "source": [
    "# 토픽 별 곡 개수\n",
    "doc_topic_df.groupby('Topic')[['song_id']].count()"
   ]
  },
  {
   "cell_type": "code",
   "execution_count": 34,
   "id": "5900e451",
   "metadata": {
    "ExecuteTime": {
     "end_time": "2021-12-04T10:52:32.598674Z",
     "start_time": "2021-12-04T10:52:32.576686Z"
    }
   },
   "outputs": [],
   "source": [
    "doc_topic_df.to_csv('latest_year_100.csv',index=False)"
   ]
  }
 ],
 "metadata": {
  "hide_input": false,
  "kernelspec": {
   "display_name": "Python 3",
   "language": "python",
   "name": "python3"
  },
  "language_info": {
   "codemirror_mode": {
    "name": "ipython",
    "version": 3
   },
   "file_extension": ".py",
   "mimetype": "text/x-python",
   "name": "python",
   "nbconvert_exporter": "python",
   "pygments_lexer": "ipython3",
   "version": "3.8.8"
  },
  "toc": {
   "base_numbering": 1,
   "nav_menu": {},
   "number_sections": true,
   "sideBar": true,
   "skip_h1_title": false,
   "title_cell": "Table of Contents",
   "title_sidebar": "Contents",
   "toc_cell": false,
   "toc_position": {},
   "toc_section_display": true,
   "toc_window_display": false
  },
  "varInspector": {
   "cols": {
    "lenName": 16,
    "lenType": 16,
    "lenVar": 40
   },
   "kernels_config": {
    "python": {
     "delete_cmd_postfix": "",
     "delete_cmd_prefix": "del ",
     "library": "var_list.py",
     "varRefreshCmd": "print(var_dic_list())"
    },
    "r": {
     "delete_cmd_postfix": ") ",
     "delete_cmd_prefix": "rm(",
     "library": "var_list.r",
     "varRefreshCmd": "cat(var_dic_list()) "
    }
   },
   "types_to_exclude": [
    "module",
    "function",
    "builtin_function_or_method",
    "instance",
    "_Feature"
   ],
   "window_display": false
  }
 },
 "nbformat": 4,
 "nbformat_minor": 5
}
