{
 "cells": [
  {
   "cell_type": "code",
   "execution_count": 1,
   "id": "93379a46",
   "metadata": {
    "ExecuteTime": {
     "end_time": "2021-12-06T01:45:17.155949Z",
     "start_time": "2021-12-06T01:45:15.304003Z"
    }
   },
   "outputs": [],
   "source": [
    "import re\n",
    "import requests\n",
    "from bs4 import BeautifulSoup\n",
    "import pandas as pd"
   ]
  },
  {
   "cell_type": "code",
   "execution_count": 2,
   "id": "dbe74004",
   "metadata": {
    "ExecuteTime": {
     "end_time": "2021-12-06T01:45:22.988076Z",
     "start_time": "2021-12-06T01:45:22.157210Z"
    }
   },
   "outputs": [],
   "source": [
    "import matplotlib.pyplot as plt \n",
    "%matplotlib inline\n",
    "from string import punctuation\n",
    "import warnings\n",
    "warnings.filterwarnings('ignore')"
   ]
  },
  {
   "cell_type": "code",
   "execution_count": 21,
   "id": "aa931393",
   "metadata": {
    "ExecuteTime": {
     "end_time": "2021-12-06T01:58:17.344038Z",
     "start_time": "2021-12-06T01:58:11.514860Z"
    }
   },
   "outputs": [],
   "source": [
    "from sklearn.feature_extraction.text import TfidfVectorizer"
   ]
  },
  {
   "cell_type": "markdown",
   "id": "dd3f4929",
   "metadata": {},
   "source": [
    "## 신조어"
   ]
  },
  {
   "cell_type": "code",
   "execution_count": 19,
   "id": "fa682d69",
   "metadata": {
    "ExecuteTime": {
     "end_time": "2021-12-06T01:56:11.718400Z",
     "start_time": "2021-12-06T01:56:08.956518Z"
    }
   },
   "outputs": [],
   "source": [
    "from ckonlpy.tag import Twitter\n",
    "twitter = Twitter()"
   ]
  },
  {
   "cell_type": "code",
   "execution_count": 18,
   "id": "dec32325",
   "metadata": {
    "ExecuteTime": {
     "end_time": "2021-12-06T01:56:01.707801Z",
     "start_time": "2021-12-06T01:56:01.686809Z"
    }
   },
   "outputs": [
    {
     "data": {
      "text/plain": [
       "236"
      ]
     },
     "execution_count": 18,
     "metadata": {},
     "output_type": "execute_result"
    }
   ],
   "source": [
    " len(add_words)"
   ]
  },
  {
   "cell_type": "markdown",
   "id": "e6ca5975",
   "metadata": {},
   "source": [
    "## 불용어"
   ]
  },
  {
   "cell_type": "code",
   "execution_count": 16,
   "id": "7387dc4a",
   "metadata": {
    "ExecuteTime": {
     "end_time": "2021-12-06T01:55:16.100654Z",
     "start_time": "2021-12-06T01:55:16.081257Z"
    }
   },
   "outputs": [],
   "source": [
    " # 불용어 (가사 빈도수 높은 + 감정분류와 무관한 단어 추가 중)\n",
    "stop_w = ['all','이렇게','네가','있는','니가','없는','너의','너무','그런',\n",
    "          'oh','whoo','tuesday','내가','너를','나를','we','this','the','그렇게',\n",
    "          'so','am','baby','and','can','you','much','me','for','go','in',\n",
    "          '은', '는', '이', '가', '하','부터','처럼','까지',\n",
    "          'know','no','of','let','my','수','너','내','나','그','난','봐',\n",
    "          '돼','건','모든','에서','에게','싶어','잖아',\n",
    "          '날','널','수','것','못','말','넌','젠','하나','정말','알','여기',\n",
    "          '다시','하게','니까',\n",
    "          '때','아','더','게','또','채','일','걸','누구','나는','너는','라면',\n",
    "          '같아','있어',\n",
    "          '의','가','보','들','좀','잘','걍','과','도','를','으로','우린','하지',\n",
    "          '해도','하고','없어','않아',\n",
    "          '자','에','와','한','하다','네','있다','나의','해','다','내게','왜',\n",
    "          '거야','이제','그냥','했던','하는']\n",
    "# 우리 , 그대 , 사랑 , 지금"
   ]
  },
  {
   "cell_type": "code",
   "execution_count": 4,
   "id": "d2b1e8df",
   "metadata": {
    "ExecuteTime": {
     "end_time": "2021-12-06T01:46:42.594618Z",
     "start_time": "2021-12-06T01:46:40.399034Z"
    }
   },
   "outputs": [],
   "source": [
    "play_list = pd.read_csv('total_playlist_1206.csv')"
   ]
  },
  {
   "cell_type": "code",
   "execution_count": 7,
   "id": "dd4aa03a",
   "metadata": {
    "ExecuteTime": {
     "end_time": "2021-12-06T01:47:28.832719Z",
     "start_time": "2021-12-06T01:47:28.813027Z"
    }
   },
   "outputs": [],
   "source": [
    "play_list.drop('year',axis=1,inplace=True)"
   ]
  },
  {
   "cell_type": "markdown",
   "id": "8cdbb2db",
   "metadata": {},
   "source": [
    "## Test \n",
    "* ['tags'].str.contains('봄')"
   ]
  },
  {
   "cell_type": "code",
   "execution_count": 8,
   "id": "3d073cb7",
   "metadata": {
    "ExecuteTime": {
     "end_time": "2021-12-06T01:47:30.511803Z",
     "start_time": "2021-12-06T01:47:30.467806Z"
    },
    "scrolled": true
   },
   "outputs": [
    {
     "data": {
      "text/html": [
       "<div>\n",
       "<style scoped>\n",
       "    .dataframe tbody tr th:only-of-type {\n",
       "        vertical-align: middle;\n",
       "    }\n",
       "\n",
       "    .dataframe tbody tr th {\n",
       "        vertical-align: top;\n",
       "    }\n",
       "\n",
       "    .dataframe thead th {\n",
       "        text-align: right;\n",
       "    }\n",
       "</style>\n",
       "<table border=\"1\" class=\"dataframe\">\n",
       "  <thead>\n",
       "    <tr style=\"text-align: right;\">\n",
       "      <th></th>\n",
       "      <th>song_id</th>\n",
       "      <th>song_name</th>\n",
       "      <th>artist</th>\n",
       "      <th>album</th>\n",
       "      <th>Like_Count</th>\n",
       "      <th>Lyric</th>\n",
       "      <th>cover_url</th>\n",
       "      <th>tags</th>\n",
       "      <th>words</th>\n",
       "    </tr>\n",
       "  </thead>\n",
       "  <tbody>\n",
       "    <tr>\n",
       "      <th>0</th>\n",
       "      <td>30392514</td>\n",
       "      <td>bath</td>\n",
       "      <td>offonoff (오프온오프)</td>\n",
       "      <td>bath</td>\n",
       "      <td>5781</td>\n",
       "      <td>거긴 날씨가 어때 하늘과 밤엔 자꾸 떠오르는 기억이 계속 말을 건네네 우리는 함께일...</td>\n",
       "      <td>https://image.bugsm.co.kr/album/images/200/200...</td>\n",
       "      <td>['국내', '힙합', '알앤비', '밤/새벽', '감각적인', '작업실', '몽환...</td>\n",
       "      <td>['거긴', '날씨가', '어때', '하늘과', '밤엔', '자꾸', '떠오르는',...</td>\n",
       "    </tr>\n",
       "  </tbody>\n",
       "</table>\n",
       "</div>"
      ],
      "text/plain": [
       "    song_id song_name            artist album  Like_Count  \\\n",
       "0  30392514      bath  offonoff (오프온오프)  bath        5781   \n",
       "\n",
       "                                               Lyric  \\\n",
       "0  거긴 날씨가 어때 하늘과 밤엔 자꾸 떠오르는 기억이 계속 말을 건네네 우리는 함께일...   \n",
       "\n",
       "                                           cover_url  \\\n",
       "0  https://image.bugsm.co.kr/album/images/200/200...   \n",
       "\n",
       "                                                tags  \\\n",
       "0  ['국내', '힙합', '알앤비', '밤/새벽', '감각적인', '작업실', '몽환...   \n",
       "\n",
       "                                               words  \n",
       "0  ['거긴', '날씨가', '어때', '하늘과', '밤엔', '자꾸', '떠오르는',...  "
      ]
     },
     "execution_count": 8,
     "metadata": {},
     "output_type": "execute_result"
    }
   ],
   "source": [
    "play_list.head(1)"
   ]
  },
  {
   "cell_type": "code",
   "execution_count": 45,
   "id": "53404d16",
   "metadata": {
    "ExecuteTime": {
     "end_time": "2021-12-06T02:53:44.826224Z",
     "start_time": "2021-12-06T02:53:44.787230Z"
    },
    "scrolled": true
   },
   "outputs": [
    {
     "data": {
      "text/html": [
       "<div>\n",
       "<style scoped>\n",
       "    .dataframe tbody tr th:only-of-type {\n",
       "        vertical-align: middle;\n",
       "    }\n",
       "\n",
       "    .dataframe tbody tr th {\n",
       "        vertical-align: top;\n",
       "    }\n",
       "\n",
       "    .dataframe thead th {\n",
       "        text-align: right;\n",
       "    }\n",
       "</style>\n",
       "<table border=\"1\" class=\"dataframe\">\n",
       "  <thead>\n",
       "    <tr style=\"text-align: right;\">\n",
       "      <th></th>\n",
       "      <th>song_id</th>\n",
       "      <th>song_name</th>\n",
       "      <th>artist</th>\n",
       "      <th>album</th>\n",
       "      <th>Like_Count</th>\n",
       "      <th>Lyric</th>\n",
       "      <th>cover_url</th>\n",
       "      <th>tags</th>\n",
       "      <th>words</th>\n",
       "    </tr>\n",
       "  </thead>\n",
       "  <tbody>\n",
       "    <tr>\n",
       "      <th>1323</th>\n",
       "      <td>6086049</td>\n",
       "      <td>이렇게 좋아해 본 적이 없어요</td>\n",
       "      <td>CHEEZE(치즈)</td>\n",
       "      <td>이렇게 좋아해 본 적이 없어요 (소녀의 세계 X CHEEZE(치즈))</td>\n",
       "      <td>2185</td>\n",
       "      <td>따스한 바람이 불어오는 날엔 포근한 미소로 반겨주던 그대란 사람 설레는 맘 너에게 ...</td>\n",
       "      <td>https://image.bugsm.co.kr/album/images/200/403...</td>\n",
       "      <td>['국내', '가요', '달달한', '봄', '봄캐롤', '연애권장송']</td>\n",
       "      <td>['따스한', '바람이', '불어오는', '날엔', '포근한', '미소로', '반겨...</td>\n",
       "    </tr>\n",
       "  </tbody>\n",
       "</table>\n",
       "</div>"
      ],
      "text/plain": [
       "      song_id         song_name      artist  \\\n",
       "1323  6086049  이렇게 좋아해 본 적이 없어요  CHEEZE(치즈)   \n",
       "\n",
       "                                       album  Like_Count  \\\n",
       "1323  이렇게 좋아해 본 적이 없어요 (소녀의 세계 X CHEEZE(치즈))        2185   \n",
       "\n",
       "                                                  Lyric  \\\n",
       "1323  따스한 바람이 불어오는 날엔 포근한 미소로 반겨주던 그대란 사람 설레는 맘 너에게 ...   \n",
       "\n",
       "                                              cover_url  \\\n",
       "1323  https://image.bugsm.co.kr/album/images/200/403...   \n",
       "\n",
       "                                          tags  \\\n",
       "1323  ['국내', '가요', '달달한', '봄', '봄캐롤', '연애권장송']   \n",
       "\n",
       "                                                  words  \n",
       "1323  ['따스한', '바람이', '불어오는', '날엔', '포근한', '미소로', '반겨...  "
      ]
     },
     "execution_count": 45,
     "metadata": {},
     "output_type": "execute_result"
    }
   ],
   "source": [
    "play_list[play_list['tags'].str.contains('봄')].head(1)"
   ]
  },
  {
   "cell_type": "code",
   "execution_count": 13,
   "id": "0ba9b866",
   "metadata": {
    "ExecuteTime": {
     "end_time": "2021-12-06T01:53:00.425080Z",
     "start_time": "2021-12-06T01:53:00.397563Z"
    }
   },
   "outputs": [],
   "source": [
    "music_list = play_list[play_list['tags'].str.contains('봄')]"
   ]
  },
  {
   "cell_type": "code",
   "execution_count": 14,
   "id": "75e88fee",
   "metadata": {
    "ExecuteTime": {
     "end_time": "2021-12-06T01:53:13.220566Z",
     "start_time": "2021-12-06T01:53:13.207539Z"
    }
   },
   "outputs": [],
   "source": [
    "lyric = music_list.Lyric"
   ]
  },
  {
   "cell_type": "code",
   "execution_count": 15,
   "id": "31ef06c3",
   "metadata": {
    "ExecuteTime": {
     "end_time": "2021-12-06T01:53:16.238696Z",
     "start_time": "2021-12-06T01:53:16.215055Z"
    }
   },
   "outputs": [
    {
     "data": {
      "text/plain": [
       "1323     따스한 바람이 불어오는 날엔 포근한 미소로 반겨주던 그대란 사람 설레는 맘 너에게 ...\n",
       "1324     우연히 오나 봄 향기가 보여 너도 같이 오나 저 멀리서 향기가 설레는 코 끝에 입술...\n",
       "1325     어두운 불빛아래 촛불 와인 잔에 담긴 약속하나 항상 곁에서 지켜줄거야 믿어준 너였잖...\n",
       "1326     커피를 많이 마셨나 봐요 심장이 막 두근대고 잠은 수가 없어요 한참 뒤에 별빛이 내...\n",
       "1327     있잖아 언젠가 아주 어렸을 기억처럼 어쩌면 어쩌면 별이 노랠 할 있다고 믿어 손 잡...\n",
       "                               ...                        \n",
       "15114    혹시 너도 생각하는지 눈을 감아도 자꾸 보여 어쩌면 첨부터 예감했는지 몰라 소중한 ...\n",
       "15115    언젠가 길을걷다가 들려오는 음악소리에 나도 모르게 너의모습이 잊혀진줄 알았었는데 오...\n",
       "15116    어떤 옷을 입을까 머리는 어떻게 할까 만나는 날엔 행복한 병에 걸린 바보같아 이런게...\n",
       "15117    두두 뚜두 두두 두두 뚜두 두두 늘 보고싶은 맘 니 볼에 입맞춤 하는 꿈     이...\n",
       "15118    요즘 들어 부쩍 좋아져 나도 모르게 자꾸 보고 싶어져 마음을 모르는 건지 아니면 말...\n",
       "Name: Lyric, Length: 1114, dtype: object"
      ]
     },
     "execution_count": 15,
     "metadata": {},
     "output_type": "execute_result"
    }
   ],
   "source": [
    "lyric"
   ]
  },
  {
   "cell_type": "markdown",
   "id": "2726f9af",
   "metadata": {},
   "source": [
    "## TF-idf"
   ]
  },
  {
   "cell_type": "code",
   "execution_count": 65,
   "id": "a827df84",
   "metadata": {
    "ExecuteTime": {
     "end_time": "2021-12-06T03:25:39.663286Z",
     "start_time": "2021-12-06T03:25:39.646260Z"
    }
   },
   "outputs": [],
   "source": [
    "# pattern = \"(?u)\\\\b[\\\\w-]+\\\\b\""
   ]
  },
  {
   "cell_type": "code",
   "execution_count": 135,
   "id": "0bc4f66f",
   "metadata": {
    "ExecuteTime": {
     "end_time": "2021-12-06T04:29:02.470934Z",
     "start_time": "2021-12-06T04:29:02.453206Z"
    }
   },
   "outputs": [],
   "source": [
    "tfidf = TfidfVectorizer(stop_words=stop_w,\n",
    "                        # token_pattern=pattern,\n",
    "                        lowercase=True,\n",
    "                        max_features=1000) # 1000개씩"
   ]
  },
  {
   "cell_type": "code",
   "execution_count": 67,
   "id": "0c5a894e",
   "metadata": {
    "ExecuteTime": {
     "end_time": "2021-12-06T03:25:58.394121Z",
     "start_time": "2021-12-06T03:25:58.016786Z"
    }
   },
   "outputs": [],
   "source": [
    "tdm = tfidf.fit_transform(lyric.values.astype('U'))  ## Even astype(str) would work"
   ]
  },
  {
   "cell_type": "code",
   "execution_count": 24,
   "id": "e4d24bf8",
   "metadata": {
    "ExecuteTime": {
     "end_time": "2021-12-06T01:58:56.327782Z",
     "start_time": "2021-12-06T01:58:56.302127Z"
    }
   },
   "outputs": [
    {
     "data": {
      "text/plain": [
       "['힘들어', '힘들어도', '힘들지', '힘을', '힘이']"
      ]
     },
     "execution_count": 24,
     "metadata": {},
     "output_type": "execute_result"
    }
   ],
   "source": [
    "words = tfidf.get_feature_names()\n",
    "words[-5:]"
   ]
  },
  {
   "cell_type": "code",
   "execution_count": 25,
   "id": "e3aebb24",
   "metadata": {
    "ExecuteTime": {
     "end_time": "2021-12-06T01:59:02.311402Z",
     "start_time": "2021-12-06T01:59:02.294891Z"
    }
   },
   "outputs": [
    {
     "data": {
      "text/plain": [
       "array([3522, 2081, 1209, ..., 1754, 2644, 2268], dtype=int32)"
      ]
     },
     "execution_count": 25,
     "metadata": {},
     "output_type": "execute_result"
    }
   ],
   "source": [
    "tdm.indices"
   ]
  },
  {
   "cell_type": "code",
   "execution_count": 26,
   "id": "724129fe",
   "metadata": {
    "ExecuteTime": {
     "end_time": "2021-12-06T01:59:19.388295Z",
     "start_time": "2021-12-06T01:59:19.358295Z"
    },
    "scrolled": false
   },
   "outputs": [
    {
     "name": "stdout",
     "output_type": "stream",
     "text": [
      "건넨 0.07844801654632756\n",
      "곁에서 0.184541224506875\n",
      "곁을 0.06971270250431362\n",
      "괜스레 0.08074570468514031\n",
      "귓가에 0.12302748300458334\n",
      "그날 0.06327507660111241\n",
      "그대가 0.1378889138688838\n",
      "그대란 0.07482253365091474\n",
      "그대에게 0.12092586718664805\n",
      "그대와 0.04881505852815969\n",
      "그리고 0.17089232697801626\n",
      "그저 0.19215712676576707\n",
      "날엔 0.06532320422357225\n",
      "내게는 0.06392149491931542\n",
      "너무나 0.05518618087730147\n",
      "너에게 0.03579659615509526\n",
      "누군가를 0.07650534890538982\n",
      "눈만 0.22001455619917937\n",
      "다가가 0.0581652454545113\n",
      "더는 0.06151374150229167\n",
      "따스한 0.0539248896747608\n",
      "뜨면 0.18798061115032424\n",
      "말아요 0.059493040211111396\n",
      "매일 0.036681337900855815\n",
      "머물러줘요 0.2615499917650245\n",
      "무심한 0.07482253365091474\n",
      "문득 0.05903472082136191\n",
      "미소로 0.06532320422357225\n",
      "바랄 0.07844801654632756\n",
      "바람이 0.047668596313676606\n",
      "보고 0.1091384091418456\n",
      "보며 0.04661778840470897\n",
      "부디 0.07844801654632756\n",
      "불어오는 0.06327507660111241\n",
      "사람 0.04350676037827177\n",
      "사랑스러운 0.13380111899305047\n",
      "사실 0.047668596313676606\n",
      "설레는 0.05123334466142465\n",
      "설렘이 0.06870397274545255\n",
      "손잡아 0.25067354307878603\n",
      "순간은 0.07650534890538982\n",
      "싶어요 0.182932165386899\n",
      "아름다워요 0.07844801654632756\n",
      "안아 0.20331010459012758\n",
      "않게 0.05123334466142465\n",
      "얼굴이 0.05775201517994041\n",
      "없어요 0.19826165882670232\n",
      "없죠 0.06532320422357225\n",
      "오늘은 0.13512129939526796\n",
      "이런 0.03691258098048238\n",
      "있던 0.057351905566886824\n",
      "적이 0.2244676009527442\n",
      "조심스럽게 0.1466763707994529\n",
      "좋아해 0.1655585426319044\n",
      "주세요 0.47068809927796545\n",
      "지켜주던 0.08355784769292868\n",
      "포근한 0.06608721960890078\n",
      "한마디에 0.07844801654632756\n"
     ]
    }
   ],
   "source": [
    "for i, n in sorted(zip(tdm[0].indices, tdm[0].data)):\n",
    "    print(words[i], n)"
   ]
  },
  {
   "cell_type": "code",
   "execution_count": 27,
   "id": "6d89abc7",
   "metadata": {
    "ExecuteTime": {
     "end_time": "2021-12-06T01:59:27.457463Z",
     "start_time": "2021-12-06T01:59:27.446302Z"
    }
   },
   "outputs": [],
   "source": [
    "count = tdm.sum(axis=0)"
   ]
  },
  {
   "cell_type": "code",
   "execution_count": 28,
   "id": "e0919cc8",
   "metadata": {
    "ExecuteTime": {
     "end_time": "2021-12-06T01:59:32.568210Z",
     "start_time": "2021-12-06T01:59:32.552840Z"
    }
   },
   "outputs": [],
   "source": [
    "word_count = pd.DataFrame({\n",
    "    '단어': tfidf.get_feature_names(),\n",
    "    '빈도': count.flat})\n"
   ]
  },
  {
   "cell_type": "code",
   "execution_count": 31,
   "id": "364929f9",
   "metadata": {
    "ExecuteTime": {
     "end_time": "2021-12-06T02:00:11.704990Z",
     "start_time": "2021-12-06T02:00:11.671920Z"
    },
    "scrolled": false
   },
   "outputs": [
    {
     "data": {
      "text/html": [
       "<div>\n",
       "<style scoped>\n",
       "    .dataframe tbody tr th:only-of-type {\n",
       "        vertical-align: middle;\n",
       "    }\n",
       "\n",
       "    .dataframe tbody tr th {\n",
       "        vertical-align: top;\n",
       "    }\n",
       "\n",
       "    .dataframe thead th {\n",
       "        text-align: right;\n",
       "    }\n",
       "</style>\n",
       "<table border=\"1\" class=\"dataframe\">\n",
       "  <thead>\n",
       "    <tr style=\"text-align: right;\">\n",
       "      <th></th>\n",
       "      <th>단어</th>\n",
       "      <th>빈도</th>\n",
       "    </tr>\n",
       "  </thead>\n",
       "  <tbody>\n",
       "    <tr>\n",
       "      <th>0</th>\n",
       "      <td>가게</td>\n",
       "      <td>0.569420</td>\n",
       "    </tr>\n",
       "    <tr>\n",
       "      <th>1</th>\n",
       "      <td>가고</td>\n",
       "      <td>3.070720</td>\n",
       "    </tr>\n",
       "    <tr>\n",
       "      <th>2</th>\n",
       "      <td>가기</td>\n",
       "      <td>0.898813</td>\n",
       "    </tr>\n",
       "    <tr>\n",
       "      <th>3</th>\n",
       "      <td>가까운</td>\n",
       "      <td>0.759125</td>\n",
       "    </tr>\n",
       "    <tr>\n",
       "      <th>4</th>\n",
       "      <td>가까운데</td>\n",
       "      <td>0.429230</td>\n",
       "    </tr>\n",
       "  </tbody>\n",
       "</table>\n",
       "</div>"
      ],
      "text/plain": [
       "     단어        빈도\n",
       "0    가게  0.569420\n",
       "1    가고  3.070720\n",
       "2    가기  0.898813\n",
       "3   가까운  0.759125\n",
       "4  가까운데  0.429230"
      ]
     },
     "metadata": {},
     "output_type": "display_data"
    },
    {
     "data": {
      "text/html": [
       "<div>\n",
       "<style scoped>\n",
       "    .dataframe tbody tr th:only-of-type {\n",
       "        vertical-align: middle;\n",
       "    }\n",
       "\n",
       "    .dataframe tbody tr th {\n",
       "        vertical-align: top;\n",
       "    }\n",
       "\n",
       "    .dataframe thead th {\n",
       "        text-align: right;\n",
       "    }\n",
       "</style>\n",
       "<table border=\"1\" class=\"dataframe\">\n",
       "  <thead>\n",
       "    <tr style=\"text-align: right;\">\n",
       "      <th></th>\n",
       "      <th>단어</th>\n",
       "      <th>빈도</th>\n",
       "    </tr>\n",
       "  </thead>\n",
       "  <tbody>\n",
       "    <tr>\n",
       "      <th>4995</th>\n",
       "      <td>힘들어</td>\n",
       "      <td>1.503586</td>\n",
       "    </tr>\n",
       "    <tr>\n",
       "      <th>4996</th>\n",
       "      <td>힘들어도</td>\n",
       "      <td>0.655391</td>\n",
       "    </tr>\n",
       "    <tr>\n",
       "      <th>4997</th>\n",
       "      <td>힘들지</td>\n",
       "      <td>0.518327</td>\n",
       "    </tr>\n",
       "    <tr>\n",
       "      <th>4998</th>\n",
       "      <td>힘을</td>\n",
       "      <td>1.495998</td>\n",
       "    </tr>\n",
       "    <tr>\n",
       "      <th>4999</th>\n",
       "      <td>힘이</td>\n",
       "      <td>2.592416</td>\n",
       "    </tr>\n",
       "  </tbody>\n",
       "</table>\n",
       "</div>"
      ],
      "text/plain": [
       "        단어        빈도\n",
       "4995   힘들어  1.503586\n",
       "4996  힘들어도  0.655391\n",
       "4997   힘들지  0.518327\n",
       "4998    힘을  1.495998\n",
       "4999    힘이  2.592416"
      ]
     },
     "metadata": {},
     "output_type": "display_data"
    }
   ],
   "source": [
    "display(word_count.head(),word_count.tail())"
   ]
  },
  {
   "cell_type": "code",
   "execution_count": 30,
   "id": "f4e7b199",
   "metadata": {
    "ExecuteTime": {
     "end_time": "2021-12-06T01:59:50.603338Z",
     "start_time": "2021-12-06T01:59:50.583193Z"
    }
   },
   "outputs": [
    {
     "data": {
      "text/plain": [
       "5000"
      ]
     },
     "execution_count": 30,
     "metadata": {},
     "output_type": "execute_result"
    }
   ],
   "source": [
    "len(word_count)"
   ]
  },
  {
   "cell_type": "code",
   "execution_count": 32,
   "id": "3f02fbc8",
   "metadata": {
    "ExecuteTime": {
     "end_time": "2021-12-06T02:00:29.936458Z",
     "start_time": "2021-12-06T02:00:29.896178Z"
    }
   },
   "outputs": [
    {
     "data": {
      "text/html": [
       "<div>\n",
       "<style scoped>\n",
       "    .dataframe tbody tr th:only-of-type {\n",
       "        vertical-align: middle;\n",
       "    }\n",
       "\n",
       "    .dataframe tbody tr th {\n",
       "        vertical-align: top;\n",
       "    }\n",
       "\n",
       "    .dataframe thead th {\n",
       "        text-align: right;\n",
       "    }\n",
       "</style>\n",
       "<table border=\"1\" class=\"dataframe\">\n",
       "  <thead>\n",
       "    <tr style=\"text-align: right;\">\n",
       "      <th></th>\n",
       "      <th>단어</th>\n",
       "      <th>빈도</th>\n",
       "    </tr>\n",
       "  </thead>\n",
       "  <tbody>\n",
       "    <tr>\n",
       "      <th>926</th>\n",
       "      <td>너와</td>\n",
       "      <td>22.602717</td>\n",
       "    </tr>\n",
       "    <tr>\n",
       "      <th>4221</th>\n",
       "      <td>좋아</td>\n",
       "      <td>22.565149</td>\n",
       "    </tr>\n",
       "    <tr>\n",
       "      <th>4795</th>\n",
       "      <td>함께</td>\n",
       "      <td>17.231941</td>\n",
       "    </tr>\n",
       "    <tr>\n",
       "      <th>919</th>\n",
       "      <td>너에게</td>\n",
       "      <td>15.634214</td>\n",
       "    </tr>\n",
       "    <tr>\n",
       "      <th>143</th>\n",
       "      <td>같은</td>\n",
       "      <td>14.388375</td>\n",
       "    </tr>\n",
       "    <tr>\n",
       "      <th>1754</th>\n",
       "      <td>매일</td>\n",
       "      <td>13.823037</td>\n",
       "    </tr>\n",
       "    <tr>\n",
       "      <th>3847</th>\n",
       "      <td>이런</td>\n",
       "      <td>13.737105</td>\n",
       "    </tr>\n",
       "    <tr>\n",
       "      <th>3898</th>\n",
       "      <td>이젠</td>\n",
       "      <td>13.497196</td>\n",
       "    </tr>\n",
       "    <tr>\n",
       "      <th>2633</th>\n",
       "      <td>사랑해</td>\n",
       "      <td>13.280414</td>\n",
       "    </tr>\n",
       "    <tr>\n",
       "      <th>2268</th>\n",
       "      <td>보고</td>\n",
       "      <td>13.215661</td>\n",
       "    </tr>\n",
       "  </tbody>\n",
       "</table>\n",
       "</div>"
      ],
      "text/plain": [
       "       단어         빈도\n",
       "926    너와  22.602717\n",
       "4221   좋아  22.565149\n",
       "4795   함께  17.231941\n",
       "919   너에게  15.634214\n",
       "143    같은  14.388375\n",
       "1754   매일  13.823037\n",
       "3847   이런  13.737105\n",
       "3898   이젠  13.497196\n",
       "2633  사랑해  13.280414\n",
       "2268   보고  13.215661"
      ]
     },
     "execution_count": 32,
     "metadata": {},
     "output_type": "execute_result"
    }
   ],
   "source": [
    "sorted_df = word_count.sort_values('빈도', ascending=False)  # 내림차순 정렬\n",
    "sorted_df.head(10)"
   ]
  },
  {
   "cell_type": "code",
   "execution_count": 41,
   "id": "4d92c126",
   "metadata": {
    "ExecuteTime": {
     "end_time": "2021-12-06T02:24:20.502977Z",
     "start_time": "2021-12-06T02:24:20.472069Z"
    }
   },
   "outputs": [
    {
     "data": {
      "text/html": [
       "<div>\n",
       "<style scoped>\n",
       "    .dataframe tbody tr th:only-of-type {\n",
       "        vertical-align: middle;\n",
       "    }\n",
       "\n",
       "    .dataframe tbody tr th {\n",
       "        vertical-align: top;\n",
       "    }\n",
       "\n",
       "    .dataframe thead th {\n",
       "        text-align: right;\n",
       "    }\n",
       "</style>\n",
       "<table border=\"1\" class=\"dataframe\">\n",
       "  <thead>\n",
       "    <tr style=\"text-align: right;\">\n",
       "      <th></th>\n",
       "      <th>단어</th>\n",
       "      <th>빈도</th>\n",
       "      <th>category</th>\n",
       "    </tr>\n",
       "  </thead>\n",
       "  <tbody>\n",
       "    <tr>\n",
       "      <th>926</th>\n",
       "      <td>너와</td>\n",
       "      <td>22.602717</td>\n",
       "      <td>봄</td>\n",
       "    </tr>\n",
       "    <tr>\n",
       "      <th>4221</th>\n",
       "      <td>좋아</td>\n",
       "      <td>22.565149</td>\n",
       "      <td>봄</td>\n",
       "    </tr>\n",
       "    <tr>\n",
       "      <th>4795</th>\n",
       "      <td>함께</td>\n",
       "      <td>17.231941</td>\n",
       "      <td>봄</td>\n",
       "    </tr>\n",
       "    <tr>\n",
       "      <th>919</th>\n",
       "      <td>너에게</td>\n",
       "      <td>15.634214</td>\n",
       "      <td>봄</td>\n",
       "    </tr>\n",
       "    <tr>\n",
       "      <th>143</th>\n",
       "      <td>같은</td>\n",
       "      <td>14.388375</td>\n",
       "      <td>봄</td>\n",
       "    </tr>\n",
       "    <tr>\n",
       "      <th>...</th>\n",
       "      <td>...</td>\n",
       "      <td>...</td>\n",
       "      <td>...</td>\n",
       "    </tr>\n",
       "    <tr>\n",
       "      <th>661</th>\n",
       "      <td>끝으로</td>\n",
       "      <td>0.183061</td>\n",
       "      <td>여름</td>\n",
       "    </tr>\n",
       "    <tr>\n",
       "      <th>656</th>\n",
       "      <td>끝없는</td>\n",
       "      <td>0.183061</td>\n",
       "      <td>여름</td>\n",
       "    </tr>\n",
       "    <tr>\n",
       "      <th>2948</th>\n",
       "      <td>시선</td>\n",
       "      <td>0.160723</td>\n",
       "      <td>여름</td>\n",
       "    </tr>\n",
       "    <tr>\n",
       "      <th>65</th>\n",
       "      <td>가잖아</td>\n",
       "      <td>0.160723</td>\n",
       "      <td>여름</td>\n",
       "    </tr>\n",
       "    <tr>\n",
       "      <th>75</th>\n",
       "      <td>가지고</td>\n",
       "      <td>0.155102</td>\n",
       "      <td>여름</td>\n",
       "    </tr>\n",
       "  </tbody>\n",
       "</table>\n",
       "<p>10000 rows × 3 columns</p>\n",
       "</div>"
      ],
      "text/plain": [
       "       단어         빈도 category\n",
       "926    너와  22.602717        봄\n",
       "4221   좋아  22.565149        봄\n",
       "4795   함께  17.231941        봄\n",
       "919   너에게  15.634214        봄\n",
       "143    같은  14.388375        봄\n",
       "...   ...        ...      ...\n",
       "661   끝으로   0.183061       여름\n",
       "656   끝없는   0.183061       여름\n",
       "2948   시선   0.160723       여름\n",
       "65    가잖아   0.160723       여름\n",
       "75    가지고   0.155102       여름\n",
       "\n",
       "[10000 rows x 3 columns]"
      ]
     },
     "execution_count": 41,
     "metadata": {},
     "output_type": "execute_result"
    }
   ],
   "source": [
    "pd.concat(result)"
   ]
  },
  {
   "cell_type": "markdown",
   "id": "ce225680",
   "metadata": {},
   "source": [
    "---"
   ]
  },
  {
   "cell_type": "markdown",
   "id": "461d58c9",
   "metadata": {},
   "source": [
    "## 카테고리별 단어 빈도수\n",
    "'신나는','발라드한','그루브한', '감성적인','어쿠스틱한','일렉트로닉','달달한','몽환적인',\n",
    "        '올디스','강한','잔잔한','애절한','감각적인','섹시한','쓸쓸한','소울풀한',\n",
    "        '청량한','봄','여름','가을','겨울','아침','오후','저녁','밤/새벽','화창한 날',\n",
    "        '비/흐림','눈오는 날','비온후/맑게갠','선선한','쌀쌀한','드라이브','운동/헬스',\n",
    "        '하교/퇴근길','등교/출근길','클럽/파티','카페','노래방','산책/여행','사무실',\n",
    "        '편집숍/매장','잠들기 전','결혼','페스티벌','혼술혼밥','사랑/기쁨' ,'이별/슬픔',\n",
    "        '스트레스/짜증','우울할때','지치고 힘들때','멘붕/불안','그리움','외로울때','썸 탈때',\n",
    "        '고백','울고 싶을때','새벽감성','싱숭생숭','설렘/심쿵','기분전환','힐링'"
   ]
  },
  {
   "cell_type": "code",
   "execution_count": 156,
   "id": "efc36e66",
   "metadata": {
    "ExecuteTime": {
     "end_time": "2021-12-06T05:26:00.776792Z",
     "start_time": "2021-12-06T05:26:00.762014Z"
    }
   },
   "outputs": [],
   "source": [
    "test = ['신나는','발라드한','그루브한', '감성적인','어쿠스틱한','일렉트로닉','달달한','몽환적인',\n",
    "        '올디스','강한','잔잔한','애절한','감각적인','섹시한','쓸쓸한','소울풀한',\n",
    "        '청량한','봄','여름','가을','겨울','아침','오후','저녁','밤/새벽','화창한 날',\n",
    "        '비/흐림','눈오는 날','비온후/맑게갠','선선한','쌀쌀한','드라이브','운동/헬스',\n",
    "        '하교/퇴근길','등교/출근길','클럽/파티','카페','노래방','산책/여행','사무실',\n",
    "        '편집숍/매장','잠들기 전','결혼','페스티벌','혼술혼밥','사랑/기쁨' ,'이별/슬픔',\n",
    "        '스트레스/짜증','우울할때','지치고 힘들때','멘붕/불안','그리움','외로울때','썸 탈때',\n",
    "        '고백','울고 싶을때','새벽감성','싱숭생숭','설렘/심쿵','기분전환','힐링']"
   ]
  },
  {
   "cell_type": "code",
   "execution_count": 157,
   "id": "0b215abd",
   "metadata": {
    "ExecuteTime": {
     "end_time": "2021-12-06T05:26:07.114245Z",
     "start_time": "2021-12-06T05:26:07.090750Z"
    }
   },
   "outputs": [
    {
     "data": {
      "text/plain": [
       "61"
      ]
     },
     "execution_count": 157,
     "metadata": {},
     "output_type": "execute_result"
    }
   ],
   "source": [
    "len(test)"
   ]
  },
  {
   "cell_type": "code",
   "execution_count": 192,
   "id": "4958edea",
   "metadata": {
    "ExecuteTime": {
     "end_time": "2021-12-06T05:50:37.137266Z",
     "start_time": "2021-12-06T05:50:29.476797Z"
    },
    "scrolled": true
   },
   "outputs": [
    {
     "name": "stderr",
     "output_type": "stream",
     "text": [
      "100%|██████████████████████████████████████████████████████████████████████████████████| 61/61 [00:07<00:00,  7.97it/s]\n"
     ]
    }
   ],
   "source": [
    "result =[]\n",
    "for i in tqdm(test):\n",
    "    music_list = play_list[play_list['tags'].str.contains(i)] # 리스트에 담긴 단어가 포함된 태그의 노래 목록을 가져옴\n",
    "    lyric = music_list.Lyric # 가사만 저장\n",
    "    tdm = tfidf.fit_transform(lyric.values.astype('str')) # TF-idf 적용\n",
    "   #tdm = tfidf.fit_transform(lyric.values.astype('U'))  ## Even astype(str) would work\n",
    "    count = tdm.sum(axis=0) # 단어 count \n",
    "    word_count = pd.DataFrame({\n",
    "        '단어': tfidf.get_feature_names(),\n",
    "        '빈도': count.flat})                     # DataFrame 생성\n",
    "    sorted_df = word_count.sort_values('빈도', ascending=False)  # 내림차순 정렬\n",
    "    sorted_df['category'] = i # 카테고리 명 (현재 반복문에서 입력된 단어)\n",
    "    result.append(sorted_df)\n"
   ]
  },
  {
   "cell_type": "code",
   "execution_count": 193,
   "id": "f4e9a4b5",
   "metadata": {
    "ExecuteTime": {
     "end_time": "2021-12-06T05:50:55.511096Z",
     "start_time": "2021-12-06T05:50:55.445587Z"
    }
   },
   "outputs": [],
   "source": [
    "cc =pd.concat(result)"
   ]
  },
  {
   "cell_type": "code",
   "execution_count": 194,
   "id": "0a0b3ff7",
   "metadata": {
    "ExecuteTime": {
     "end_time": "2021-12-06T05:51:07.063586Z",
     "start_time": "2021-12-06T05:51:07.027561Z"
    }
   },
   "outputs": [
    {
     "data": {
      "text/plain": [
       "category\n",
       "가을        1000\n",
       "감각적인      1000\n",
       "감성적인      1000\n",
       "강한        1000\n",
       "겨울        1000\n",
       "          ... \n",
       "편집숍/매장    1000\n",
       "하교/퇴근길    1000\n",
       "혼술혼밥      1000\n",
       "화창한 날     1000\n",
       "힐링        1000\n",
       "Name: category, Length: 61, dtype: int64"
      ]
     },
     "execution_count": 194,
     "metadata": {},
     "output_type": "execute_result"
    }
   ],
   "source": [
    "cc.groupby('category')['category'].count()"
   ]
  },
  {
   "cell_type": "code",
   "execution_count": 196,
   "id": "46e8afca",
   "metadata": {
    "ExecuteTime": {
     "end_time": "2021-12-06T05:52:35.710033Z",
     "start_time": "2021-12-06T05:52:35.485931Z"
    }
   },
   "outputs": [],
   "source": [
    "dd.to_csv('word_freq_category.csv',index=False)"
   ]
  },
  {
   "cell_type": "markdown",
   "id": "ed6bde4c",
   "metadata": {},
   "source": [
    "## 연대별 단어 빈도수 \n",
    "* 1940 ~2010 년대 + 2020 + 2021"
   ]
  },
  {
   "cell_type": "code",
   "execution_count": 198,
   "id": "0a5d0b0d",
   "metadata": {
    "ExecuteTime": {
     "end_time": "2021-12-06T06:17:39.049221Z",
     "start_time": "2021-12-06T06:17:38.884880Z"
    }
   },
   "outputs": [],
   "source": [
    "years = pd.read_csv('sort_total_years.csv')"
   ]
  },
  {
   "cell_type": "code",
   "execution_count": 201,
   "id": "d90104f9",
   "metadata": {
    "ExecuteTime": {
     "end_time": "2021-12-06T06:18:06.613563Z",
     "start_time": "2021-12-06T06:18:06.599971Z"
    }
   },
   "outputs": [],
   "source": [
    "year_list = years.year.unique().tolist()"
   ]
  },
  {
   "cell_type": "code",
   "execution_count": 208,
   "id": "3395e9c0",
   "metadata": {
    "ExecuteTime": {
     "end_time": "2021-12-06T06:23:26.089004Z",
     "start_time": "2021-12-06T06:23:25.312933Z"
    }
   },
   "outputs": [
    {
     "name": "stderr",
     "output_type": "stream",
     "text": [
      "100%|██████████████████████████████████████████████████████████████████████████████████| 10/10 [00:00<00:00, 13.05it/s]\n"
     ]
    }
   ],
   "source": [
    "result =[]\n",
    "for i in tqdm(year_list):\n",
    "    music_list = years[years['year'].str.contains(i)]\n",
    "    lyric = music_list.Lyric\n",
    "    tdm = tfidf.fit_transform(lyric.values.astype('str'))\n",
    "   #tdm = tfidf.fit_transform(lyric.values.astype('U'))  ## Even astype(str) would work\n",
    "    count = tdm.sum(axis=0)\n",
    "    word_count = pd.DataFrame({\n",
    "        '단어': tfidf.get_feature_names(),\n",
    "        '빈도': count.flat})\n",
    "    sorted_df = word_count.sort_values('빈도', ascending=False)  # 내림차순 정렬\n",
    "    sorted_df['category'] = i # 카테고리 명\n",
    "    result.append(sorted_df)\n"
   ]
  },
  {
   "cell_type": "code",
   "execution_count": 209,
   "id": "208f9e35",
   "metadata": {
    "ExecuteTime": {
     "end_time": "2021-12-06T06:23:43.606240Z",
     "start_time": "2021-12-06T06:23:43.591241Z"
    }
   },
   "outputs": [],
   "source": [
    "yc =pd.concat(result)"
   ]
  },
  {
   "cell_type": "code",
   "execution_count": 210,
   "id": "88f0d340",
   "metadata": {
    "ExecuteTime": {
     "end_time": "2021-12-06T06:23:59.219919Z",
     "start_time": "2021-12-06T06:23:59.208756Z"
    }
   },
   "outputs": [
    {
     "data": {
      "text/plain": [
       "category\n",
       "1940y    1000\n",
       "1950y    1000\n",
       "1960y    1000\n",
       "1970y    1000\n",
       "1980y    1000\n",
       "1990y    1000\n",
       "2000y    1000\n",
       "2010y    1000\n",
       "2020y    1000\n",
       "2021y    1000\n",
       "Name: category, dtype: int64"
      ]
     },
     "execution_count": 210,
     "metadata": {},
     "output_type": "execute_result"
    }
   ],
   "source": [
    "yc.groupby('category')['category'].count()"
   ]
  },
  {
   "cell_type": "code",
   "execution_count": 211,
   "id": "da061c34",
   "metadata": {
    "ExecuteTime": {
     "end_time": "2021-12-06T06:24:23.477703Z",
     "start_time": "2021-12-06T06:24:23.418855Z"
    }
   },
   "outputs": [],
   "source": [
    "yc.to_csv('word_freq_years.csv',index=False)"
   ]
  },
  {
   "cell_type": "markdown",
   "id": "34c14e3e",
   "metadata": {},
   "source": [
    "---"
   ]
  },
  {
   "cell_type": "code",
   "execution_count": null,
   "id": "101ab4a6",
   "metadata": {},
   "outputs": [],
   "source": [
    "### XXXXXXXXXXXXXXXXXXXXXXXXXXXXXXXXXXXXXXXXXXXXXXXXXXXXXXXXXXXXxXXXXXXXXXXxXXXXXXXXXXxXXXXXXXXXXx"
   ]
  },
  {
   "cell_type": "markdown",
   "id": "6f61d448",
   "metadata": {
    "ExecuteTime": {
     "end_time": "2021-12-06T04:01:08.914521Z",
     "start_time": "2021-12-06T04:01:08.895750Z"
    }
   },
   "source": [
    "## Error\n",
    "Python Pandas ValueError Arrays Must be All Same Length\n",
    "> https://stackoverflow.com/questions/40442014/python-pandas-valueerror-arrays-must-be-all-same-length"
   ]
  },
  {
   "cell_type": "code",
   "execution_count": null,
   "id": "9c57f9d2",
   "metadata": {},
   "outputs": [],
   "source": [
    "'''a = {'Links' : lines ,'Titles' : titles , 'Singers': finalsingers , 'Albums':finalalbums , 'Years' : years}\n",
    "df = pd.DataFrame.from_dict(a, orient='index')\n",
    "df = df.transpose()'''"
   ]
  },
  {
   "cell_type": "code",
   "execution_count": 50,
   "id": "79cad3fa",
   "metadata": {
    "ExecuteTime": {
     "end_time": "2021-12-06T02:58:12.557376Z",
     "start_time": "2021-12-06T02:58:12.496425Z"
    }
   },
   "outputs": [],
   "source": [
    "from tqdm import tqdm"
   ]
  },
  {
   "cell_type": "markdown",
   "id": "e626360c",
   "metadata": {},
   "source": [
    "### 저장\n",
    "* joblib은 pickle과 비슷하게 파이썬의 값들을 저장해주는 라이브러리\n",
    "* pickle에 비해서 수치 데이터를 더 효율적으로 저장\n",
    "* tfidf, tdm, 그리고 df 의 'sentiment' 열을 피클로 저장 (향후에 감정분석에서 사용 가능)"
   ]
  },
  {
   "cell_type": "code",
   "execution_count": null,
   "id": "4401ac09",
   "metadata": {},
   "outputs": [],
   "source": [
    "from sklearn.externals import joblib"
   ]
  },
  {
   "cell_type": "code",
   "execution_count": null,
   "id": "1cf3de29",
   "metadata": {},
   "outputs": [],
   "source": [
    "with open('amazon.pkl', 'wb') as f:\n",
    "    joblib.dump(\n",
    "        {'vectorizer': tfidf, 'tdm': tdm, 'sentiment': sentiment},\n",
    "        f\n",
    "    )"
   ]
  },
  {
   "cell_type": "markdown",
   "id": "34b4b2d5",
   "metadata": {
    "ExecuteTime": {
     "end_time": "2021-12-06T03:17:55.523864Z",
     "start_time": "2021-12-06T03:17:55.502615Z"
    }
   },
   "source": [
    "## Error\n",
    "ValueError: empty vocabulary; perhaps the documents only contain stop words\n",
    "AttributeError: 'numpy.ndarray' object has no attribute 'split'"
   ]
  }
 ],
 "metadata": {
  "hide_input": false,
  "kernelspec": {
   "display_name": "Python 3",
   "language": "python",
   "name": "python3"
  },
  "language_info": {
   "codemirror_mode": {
    "name": "ipython",
    "version": 3
   },
   "file_extension": ".py",
   "mimetype": "text/x-python",
   "name": "python",
   "nbconvert_exporter": "python",
   "pygments_lexer": "ipython3",
   "version": "3.8.8"
  },
  "toc": {
   "base_numbering": 1,
   "nav_menu": {},
   "number_sections": true,
   "sideBar": true,
   "skip_h1_title": false,
   "title_cell": "Table of Contents",
   "title_sidebar": "Contents",
   "toc_cell": false,
   "toc_position": {},
   "toc_section_display": true,
   "toc_window_display": false
  },
  "varInspector": {
   "cols": {
    "lenName": 16,
    "lenType": 16,
    "lenVar": 40
   },
   "kernels_config": {
    "python": {
     "delete_cmd_postfix": "",
     "delete_cmd_prefix": "del ",
     "library": "var_list.py",
     "varRefreshCmd": "print(var_dic_list())"
    },
    "r": {
     "delete_cmd_postfix": ") ",
     "delete_cmd_prefix": "rm(",
     "library": "var_list.r",
     "varRefreshCmd": "cat(var_dic_list()) "
    }
   },
   "types_to_exclude": [
    "module",
    "function",
    "builtin_function_or_method",
    "instance",
    "_Feature"
   ],
   "window_display": false
  }
 },
 "nbformat": 4,
 "nbformat_minor": 5
}
