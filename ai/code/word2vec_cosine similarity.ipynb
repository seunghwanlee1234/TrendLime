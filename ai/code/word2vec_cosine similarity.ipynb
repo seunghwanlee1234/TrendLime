{
 "cells": [
  {
   "cell_type": "code",
   "execution_count": 3,
   "id": "003f7cb9",
   "metadata": {
    "ExecuteTime": {
     "end_time": "2021-11-19T20:32:01.454808Z",
     "start_time": "2021-11-19T20:32:01.423389Z"
    }
   },
   "outputs": [],
   "source": [
    "from tqdm import tqdm"
   ]
  },
  {
   "cell_type": "code",
   "execution_count": 4,
   "id": "d5dd6636",
   "metadata": {
    "ExecuteTime": {
     "end_time": "2021-11-19T20:32:02.221906Z",
     "start_time": "2021-11-19T20:32:01.456846Z"
    }
   },
   "outputs": [],
   "source": [
    "import re\n",
    "import requests\n",
    "from bs4 import BeautifulSoup\n",
    "import pandas as pd"
   ]
  },
  {
   "cell_type": "code",
   "execution_count": 5,
   "id": "a8fab957",
   "metadata": {
    "ExecuteTime": {
     "end_time": "2021-11-19T20:32:02.572834Z",
     "start_time": "2021-11-19T20:32:02.223848Z"
    }
   },
   "outputs": [],
   "source": [
    "import matplotlib.pyplot as plt \n",
    "%matplotlib inline\n",
    "from string import punctuation\n",
    "import warnings\n",
    "warnings.filterwarnings('ignore')"
   ]
  },
  {
   "cell_type": "code",
   "execution_count": 6,
   "id": "193fd587",
   "metadata": {
    "ExecuteTime": {
     "end_time": "2021-11-19T20:32:02.619843Z",
     "start_time": "2021-11-19T20:32:02.574811Z"
    }
   },
   "outputs": [
    {
     "data": {
      "text/html": [
       "<div>\n",
       "<style scoped>\n",
       "    .dataframe tbody tr th:only-of-type {\n",
       "        vertical-align: middle;\n",
       "    }\n",
       "\n",
       "    .dataframe tbody tr th {\n",
       "        vertical-align: top;\n",
       "    }\n",
       "\n",
       "    .dataframe thead th {\n",
       "        text-align: right;\n",
       "    }\n",
       "</style>\n",
       "<table border=\"1\" class=\"dataframe\">\n",
       "  <thead>\n",
       "    <tr style=\"text-align: right;\">\n",
       "      <th></th>\n",
       "      <th>song_id</th>\n",
       "      <th>song_name</th>\n",
       "      <th>artist</th>\n",
       "      <th>album</th>\n",
       "      <th>Like_Count</th>\n",
       "      <th>Lyric</th>\n",
       "      <th>cover_url</th>\n",
       "    </tr>\n",
       "  </thead>\n",
       "  <tbody>\n",
       "    <tr>\n",
       "      <th>0</th>\n",
       "      <td>32352195</td>\n",
       "      <td>You and I</td>\n",
       "      <td>네이비쿼카(NavyQuokka)</td>\n",
       "      <td>You and I</td>\n",
       "      <td>[50]</td>\n",
       "      <td>[너와 난 Never Ending Story  부를게 이 Melody  이 노랠 들...</td>\n",
       "      <td>https://image.bugsm.co.kr/album/images/200/204...</td>\n",
       "    </tr>\n",
       "  </tbody>\n",
       "</table>\n",
       "</div>"
      ],
      "text/plain": [
       "    song_id  song_name             artist      album Like_Count  \\\n",
       "0  32352195  You and I  네이비쿼카(NavyQuokka)  You and I       [50]   \n",
       "\n",
       "                                               Lyric  \\\n",
       "0  [너와 난 Never Ending Story  부를게 이 Melody  이 노랠 들...   \n",
       "\n",
       "                                           cover_url  \n",
       "0  https://image.bugsm.co.kr/album/images/200/204...  "
      ]
     },
     "execution_count": 6,
     "metadata": {},
     "output_type": "execute_result"
    }
   ],
   "source": [
    "joy = pd.read_csv('joy_list.csv')\n",
    "joy.head(1)"
   ]
  },
  {
   "cell_type": "code",
   "execution_count": 7,
   "id": "598305b6",
   "metadata": {
    "ExecuteTime": {
     "end_time": "2021-11-19T20:32:02.635844Z",
     "start_time": "2021-11-19T20:32:02.621807Z"
    }
   },
   "outputs": [],
   "source": [
    "joy.drop_duplicates(['song_id','Lyric'], keep='first',inplace=True)"
   ]
  },
  {
   "cell_type": "code",
   "execution_count": 8,
   "id": "ae2cc938",
   "metadata": {
    "ExecuteTime": {
     "end_time": "2021-11-19T20:32:02.651842Z",
     "start_time": "2021-11-19T20:32:02.638842Z"
    }
   },
   "outputs": [
    {
     "data": {
      "text/plain": [
       "0      [너와 난 Never Ending Story  부를게 이 Melody  이 노랠 들...\n",
       "1      [유난스러운 하루에 끝이 올 때쯤  너의 모습들이  아른아른 대는 걸  무슨 일일까...\n",
       "2      [나 그댈 위해 시 한 편을 쓰겠어  나 그대에게 못다 한 얘기 많아  차마 그때 ...\n",
       "3      [조금 어색해도 살짝 웃어줘  지금 좋아  조금 귀찮아도 나를 믿어줘  하루 종일 ...\n",
       "4      [사랑 나에겐 어려워  난 아직 서투른 걸 그래  너와 입 맞출 때도  모든 게 낯...\n",
       "                             ...                        \n",
       "278    [왜 이제야 왔니 어디에 있었던거니  조금은 늦은 듯 이제야 만났네    넌 사랑을...\n",
       "279    [그렇게 대단한 운명까진  바란적 없다 생각했는데  그대 하나 떠나간 내 하룬 이제...\n",
       "280    [눈을 뜨기 힘든 가을 보다 높은  저 하늘이 기분 좋아  휴일 아침이면 나를 깨운...\n",
       "281    [언제부터 사랑이었는지 알아채는 요령없나요   그 어떤 맘이 변해서 사랑하게 되는지...\n",
       "282    [두 눈에 비친 너의 미소  지친 날 감싸듯 내 맘 비춰  소리없이 찾아와 내 맘은...\n",
       "Name: Lyric, Length: 283, dtype: object"
      ]
     },
     "execution_count": 8,
     "metadata": {},
     "output_type": "execute_result"
    }
   ],
   "source": [
    "joy['Lyric']"
   ]
  },
  {
   "cell_type": "code",
   "execution_count": 9,
   "id": "bff44343",
   "metadata": {
    "ExecuteTime": {
     "end_time": "2021-11-19T20:32:02.667844Z",
     "start_time": "2021-11-19T20:32:02.653809Z"
    }
   },
   "outputs": [
    {
     "data": {
      "text/plain": [
       "0    [너와 난 Never Ending Story  부를게 이 Melody  이 노랠 들...\n",
       "1    [유난스러운 하루에 끝이 올 때쯤  너의 모습들이  아른아른 대는 걸  무슨 일일까...\n",
       "2    [나 그댈 위해 시 한 편을 쓰겠어  나 그대에게 못다 한 얘기 많아  차마 그때 ...\n",
       "3    [조금 어색해도 살짝 웃어줘  지금 좋아  조금 귀찮아도 나를 믿어줘  하루 종일 ...\n",
       "4    [사랑 나에겐 어려워  난 아직 서투른 걸 그래  너와 입 맞출 때도  모든 게 낯...\n",
       "Name: Lyric, dtype: object"
      ]
     },
     "execution_count": 9,
     "metadata": {},
     "output_type": "execute_result"
    }
   ],
   "source": [
    "j_lyric = joy['Lyric']\n",
    "j_lyric[:5]"
   ]
  },
  {
   "cell_type": "code",
   "execution_count": 10,
   "id": "b3cfd986",
   "metadata": {
    "ExecuteTime": {
     "end_time": "2021-11-19T20:32:02.683810Z",
     "start_time": "2021-11-19T20:32:02.671812Z"
    }
   },
   "outputs": [],
   "source": [
    "# j_lyric = j_lyric.replace('\\n',' ',regex=True).replace('_x000D_', ' ', regex= True)"
   ]
  },
  {
   "cell_type": "code",
   "execution_count": 11,
   "id": "9d63a06e",
   "metadata": {
    "ExecuteTime": {
     "end_time": "2021-11-19T20:32:02.699808Z",
     "start_time": "2021-11-19T20:32:02.690820Z"
    }
   },
   "outputs": [],
   "source": [
    "# joy['Lyric']=j_lyric"
   ]
  },
  {
   "cell_type": "code",
   "execution_count": 12,
   "id": "36d6f0e2",
   "metadata": {
    "ExecuteTime": {
     "end_time": "2021-11-19T20:32:03.543810Z",
     "start_time": "2021-11-19T20:32:02.701808Z"
    }
   },
   "outputs": [],
   "source": [
    "from konlpy.tag import Okt  \n",
    "okt = Okt() "
   ]
  },
  {
   "cell_type": "code",
   "execution_count": 13,
   "id": "dbf59917",
   "metadata": {
    "ExecuteTime": {
     "end_time": "2021-11-19T20:32:13.364825Z",
     "start_time": "2021-11-19T20:32:03.545813Z"
    }
   },
   "outputs": [],
   "source": [
    "tagging_okt = []\n",
    "for i in j_lyric:\n",
    "    tag_word = okt.pos(i,stem=True)\n",
    "    tagging_okt.append(tag_word)"
   ]
  },
  {
   "cell_type": "code",
   "execution_count": 14,
   "id": "8d95e671",
   "metadata": {
    "ExecuteTime": {
     "end_time": "2021-11-19T20:32:13.396681Z",
     "start_time": "2021-11-19T20:32:13.366660Z"
    }
   },
   "outputs": [
    {
     "data": {
      "text/plain": [
       "[('[', 'Punctuation'),\n",
       " ('Please', 'Alpha'),\n",
       " ('내다', 'Verb'),\n",
       " ('사랑', 'Noun'),\n",
       " ('이', 'Josa'),\n",
       " ('찾아오다', 'Verb'),\n",
       " ('해', 'Noun'),\n",
       " ('수없이', 'Adverb'),\n",
       " ('너', 'Noun'),\n",
       " ('를', 'Josa'),\n",
       " ('생각', 'Noun'),\n",
       " ('하다', 'Verb'),\n",
       " ('늘', 'Noun'),\n",
       " ('그리다', 'Verb'),\n",
       " ('보다', 'Verb'),\n",
       " ('하다', 'Verb'),\n",
       " ('외롭다', 'Adjective'),\n",
       " ('밤', 'Noun'),\n",
       " ('은', 'Josa'),\n",
       " ('다', 'Adverb'),\n",
       " ('지나가다', 'Verb'),\n",
       " ('별', 'Noun'),\n",
       " ('을', 'Josa'),\n",
       " ('담다', 'Verb'),\n",
       " ('내다', 'Verb'),\n",
       " ('오다', 'Verb'),\n",
       " ('어서', 'Noun'),\n",
       " ('오다', 'Verb'),\n",
       " ('내', 'Noun'),\n",
       " ('맘', 'Noun'),\n",
       " ('받다', 'Verb'),\n",
       " ('이미', 'Adverb'),\n",
       " ('준비', 'Noun'),\n",
       " ('하고', 'Josa'),\n",
       " ('있다', 'Adjective'),\n",
       " ('아무', 'Noun'),\n",
       " ('생각', 'Noun'),\n",
       " ('말고', 'Josa'),\n",
       " ('다가', 'Noun'),\n",
       " ('와도', 'Josa'),\n",
       " ('돼다', 'Verb'),\n",
       " ('어서', 'Noun'),\n",
       " ('오다', 'Verb'),\n",
       " ('내', 'Noun'),\n",
       " ('맘', 'Noun'),\n",
       " ('받다', 'Verb'),\n",
       " ('이미', 'Adverb'),\n",
       " ('준비', 'Noun'),\n",
       " ('하고', 'Josa'),\n",
       " ('있다', 'Adjective'),\n",
       " ('아무', 'Noun'),\n",
       " ('생각', 'Noun'),\n",
       " ('말고', 'Josa'),\n",
       " ('들어오다', 'Verb'),\n",
       " ('돼다', 'Verb'),\n",
       " ('You', 'Alpha'),\n",
       " ('생각', 'Noun'),\n",
       " ('말고', 'Josa'),\n",
       " ('들어오다', 'Verb'),\n",
       " ('돼다', 'Verb'),\n",
       " ('You', 'Alpha'),\n",
       " ('생각', 'Noun'),\n",
       " ('말고', 'Josa'),\n",
       " ('다가', 'Noun'),\n",
       " ('와도', 'Josa'),\n",
       " ('돼다', 'Verb'),\n",
       " ('아무렇다', 'Adjective'),\n",
       " ('말', 'Noun'),\n",
       " ('도', 'Josa'),\n",
       " ('없이', 'Adverb'),\n",
       " ('너', 'Noun'),\n",
       " ('는', 'Josa'),\n",
       " ('내다', 'Verb'),\n",
       " ('오다', 'Verb'),\n",
       " ('어느', 'Adverb'),\n",
       " ('새', 'Noun'),\n",
       " ('부터', 'Josa'),\n",
       " ('나', 'Noun'),\n",
       " ('는', 'Josa'),\n",
       " ('네', 'Noun'),\n",
       " ('게', 'Josa'),\n",
       " ('빠져들다', 'Verb'),\n",
       " ('나', 'Noun'),\n",
       " ('만큼', 'Josa'),\n",
       " ('너', 'Noun'),\n",
       " ('를', 'Josa'),\n",
       " ('좋아하다', 'Adjective'),\n",
       " ('보다', 'Verb'),\n",
       " ('아무렇다', 'Adjective'),\n",
       " ('말', 'Noun'),\n",
       " ('도', 'Josa'),\n",
       " ('없이', 'Adverb'),\n",
       " ('네', 'Noun'),\n",
       " ('게', 'Josa'),\n",
       " ('빠지다', 'Verb'),\n",
       " ('보다', 'Verb'),\n",
       " ('외롭다', 'Adjective'),\n",
       " ('밤', 'Noun'),\n",
       " ('은', 'Josa'),\n",
       " ('다', 'Adverb'),\n",
       " ('지나가다', 'Verb'),\n",
       " ('별', 'Noun'),\n",
       " ('을', 'Josa'),\n",
       " ('담다', 'Verb'),\n",
       " ('내다', 'Verb'),\n",
       " ('오다', 'Verb'),\n",
       " ('어서', 'Noun'),\n",
       " ('오다', 'Verb'),\n",
       " ('내', 'Noun'),\n",
       " ('맘', 'Noun'),\n",
       " ('받다', 'Verb'),\n",
       " ('이미', 'Adverb'),\n",
       " ('준비', 'Noun'),\n",
       " ('하고', 'Josa'),\n",
       " ('있다', 'Adjective'),\n",
       " ('아무', 'Noun'),\n",
       " ('생각', 'Noun'),\n",
       " ('말고', 'Josa'),\n",
       " ('다가', 'Noun'),\n",
       " ('와도', 'Josa'),\n",
       " ('돼다', 'Verb'),\n",
       " ('어서', 'Noun'),\n",
       " ('오다', 'Verb'),\n",
       " ('내', 'Noun'),\n",
       " ('맘', 'Noun'),\n",
       " ('받다', 'Verb'),\n",
       " ('이미', 'Adverb'),\n",
       " ('준비', 'Noun'),\n",
       " ('하고', 'Josa'),\n",
       " ('있다', 'Adjective'),\n",
       " ('아무', 'Noun'),\n",
       " ('생각', 'Noun'),\n",
       " ('말고', 'Josa'),\n",
       " ('들어오다', 'Verb'),\n",
       " ('돼다', 'Verb'),\n",
       " ('You', 'Alpha'),\n",
       " ('생각', 'Noun'),\n",
       " ('말고', 'Josa'),\n",
       " ('들어오다', 'Verb'),\n",
       " ('돼다', 'Verb'),\n",
       " ('You', 'Alpha'),\n",
       " ('생각', 'Noun'),\n",
       " ('말고', 'Josa'),\n",
       " ('다가', 'Noun'),\n",
       " ('와도', 'Josa'),\n",
       " ('돼다', 'Verb'),\n",
       " ('You', 'Alpha'),\n",
       " ('생각', 'Noun'),\n",
       " ('말고', 'Josa'),\n",
       " ('들어오다', 'Verb'),\n",
       " ('돼다', 'Verb'),\n",
       " ('You', 'Alpha'),\n",
       " ('생각', 'Noun'),\n",
       " ('말고', 'Josa'),\n",
       " ('다가', 'Noun'),\n",
       " ('와도', 'Josa'),\n",
       " ('돼다', 'Verb'),\n",
       " ('Please', 'Alpha'),\n",
       " ('내다', 'Verb'),\n",
       " ('사랑', 'Noun'),\n",
       " ('이', 'Josa'),\n",
       " ('찾다', 'Verb'),\n",
       " ('오다', 'Verb'),\n",
       " ('해', 'Noun'),\n",
       " (']', 'Punctuation')]"
      ]
     },
     "execution_count": 14,
     "metadata": {},
     "output_type": "execute_result"
    }
   ],
   "source": [
    "tagging_okt[7]"
   ]
  },
  {
   "cell_type": "code",
   "execution_count": 15,
   "id": "47f3bb6a",
   "metadata": {
    "ExecuteTime": {
     "end_time": "2021-11-19T20:32:13.716657Z",
     "start_time": "2021-11-19T20:32:13.398665Z"
    }
   },
   "outputs": [
    {
     "name": "stdout",
     "output_type": "stream",
     "text": [
      "가사의 최대 길이 : 728\n",
      "가사의 평균 길이 : 225.23321554770317\n"
     ]
    },
    {
     "data": {
      "image/png": "[encoded data removed]",
      "text/plain": [
       "<Figure size 432x288 with 1 Axes>"
      ]
     },
     "metadata": {
      "needs_background": "light"
     },
     "output_type": "display_data"
    }
   ],
   "source": [
    "# 가사 길이 분포 확인\n",
    "print('가사의 최대 길이 :',max(len(l) for l in tagging_okt))\n",
    "print('가사의 평균 길이 :',sum(map(len, tagging_okt))/len(tagging_okt))\n",
    "plt.hist([len(s) for s in tagging_okt], bins=50)\n",
    "plt.xlabel('length of samples')\n",
    "plt.ylabel('number of samples')\n",
    "plt.show()"
   ]
  },
  {
   "cell_type": "code",
   "execution_count": 16,
   "id": "ac134adc",
   "metadata": {
    "ExecuteTime": {
     "end_time": "2021-11-19T20:32:13.746660Z",
     "start_time": "2021-11-19T20:32:13.719663Z"
    }
   },
   "outputs": [],
   "source": [
    "corpus = []\n",
    "for song in tagging_okt:\n",
    "    for word in song:\n",
    "        if (word[1] == 'Adjective') or (word[1] =='Noun') or (word[1] =='Verb'):\n",
    "            corpus.append(word[0])"
   ]
  },
  {
   "cell_type": "code",
   "execution_count": 17,
   "id": "73330010",
   "metadata": {
    "ExecuteTime": {
     "end_time": "2021-11-19T20:32:13.762661Z",
     "start_time": "2021-11-19T20:32:13.750679Z"
    },
    "scrolled": true
   },
   "outputs": [
    {
     "data": {
      "text/plain": [
       "39053"
      ]
     },
     "execution_count": 17,
     "metadata": {},
     "output_type": "execute_result"
    }
   ],
   "source": [
    "len(corpus)"
   ]
  },
  {
   "cell_type": "code",
   "execution_count": 18,
   "id": "89b02bc2",
   "metadata": {
    "ExecuteTime": {
     "end_time": "2021-11-19T20:32:13.778670Z",
     "start_time": "2021-11-19T20:32:13.765662Z"
    }
   },
   "outputs": [
    {
     "data": {
      "text/plain": [
       "['나나', '나나', '꽃잎', '날리다', '햇살', '비치', '그대', '시간', '기다리다', '오다']"
      ]
     },
     "execution_count": 18,
     "metadata": {},
     "output_type": "execute_result"
    }
   ],
   "source": [
    "corpus[-10:]"
   ]
  },
  {
   "cell_type": "markdown",
   "id": "30567be8",
   "metadata": {},
   "source": [
    "---"
   ]
  },
  {
   "cell_type": "code",
   "execution_count": null,
   "id": "7da11abe",
   "metadata": {},
   "outputs": [],
   "source": [
    "# XXXXXXXXXXXXXXXXXXXXXXXXXXXXXXXXXXXXXXXXXXXXXXXXXXXXXXXXXXXXXXXXXXXX\n",
    "class callback(CallbackAny2Vec): \n",
    "    \"\"\"Callback to print loss after each epoch.\"\"\" \n",
    "    def __init__(self): \n",
    "        self.epoch = 0 \n",
    "        self.loss_to_be_subed = 0 \n",
    "\n",
    "    def on_epoch_end(self, model): \n",
    "        loss = model.get_latest_training_loss() \n",
    "        loss_now = loss - self.loss_to_be_subed \n",
    "        self.loss_to_be_subed = loss \n",
    "        print('Loss after epoch {}: {}'.format(self.epoch, loss_now)) \n",
    "        self.epoch += 1\n"
   ]
  },
  {
   "cell_type": "code",
   "execution_count": null,
   "id": "b2983dd3",
   "metadata": {},
   "outputs": [],
   "source": [
    "model = Word2Vec(corpus, size=100, workers=4, sg=1, compute_loss=True, iter=5, callbacks=[callback()])\n",
    "model.wv.save_word2vec_format(model_fname)"
   ]
  },
  {
   "cell_type": "markdown",
   "id": "bab74f9b",
   "metadata": {},
   "source": [
    "---"
   ]
  },
  {
   "cell_type": "markdown",
   "id": "5109a547",
   "metadata": {},
   "source": [
    "## 단어 임베딩\n",
    "*  LSA, Word2Vec, GloVe, FastText 등\n",
    "> http://doc.mindscale.kr/km/unstructured/11.html"
   ]
  },
  {
   "cell_type": "markdown",
   "id": "1bbb865e",
   "metadata": {},
   "source": [
    "---"
   ]
  },
  {
   "cell_type": "markdown",
   "id": "64632d45",
   "metadata": {},
   "source": [
    "## word2vec\n",
    "* workers=4 , (CPU 쓰레드 수: 4)\n",
    "* vector_size = 150, (임베딩 차원수)\n",
    "* sg = 1, (Skip-gram) # 0: CBOW, 1: Skip-gram\n",
    "* callbacks = epoch당 loss를 확인"
   ]
  },
  {
   "cell_type": "markdown",
   "id": "0d25a6db",
   "metadata": {},
   "source": [
    "* Skip-gram : 중심 단어를 통해 주변단어를 예측하는 모델\n",
    "* CBOW :  주변 단어들을 통해서 중간의 단어를 예측하는 모델"
   ]
  },
  {
   "cell_type": "code",
   "execution_count": null,
   "id": "92122661",
   "metadata": {
    "ExecuteTime": {
     "end_time": "2021-11-19T20:32:14.103677Z",
     "start_time": "2021-11-19T20:32:01.467Z"
    }
   },
   "outputs": [],
   "source": [
    "model = Word2Vec(data,         # 리스트 형태의 데이터\n",
    "                 sg = 1,         # 0: CBOW, 1: Skip-gram\n",
    "                 vector_size=100,     # 벡터 크기\n",
    "                 window=3,     # 고려할 앞뒤 폭(앞뒤 3단어)\n",
    "                 min_count=3,  # 사용할 단어의 최소 빈도(3회 이하 단어 무시)\n",
    "                 workers=4)    # 동시에 처리할 작업 수(코어 수와 비슷하게 설정)"
   ]
  },
  {
   "cell_type": "markdown",
   "id": "4c7d10f3",
   "metadata": {},
   "source": [
    "### 저장 & 불러오기\n",
    "* `.save()`를 통해 word2vec 모델을 저장할 수 있다.<br>\n",
    "model.save('word2vec.model')\n",
    "\n",
    "* 저장한 모델을 불러 올 때는 `.load()`를 사용한다.<br>\n",
    "model = Word2Vec.load('word2vec.model')"
   ]
  },
  {
   "cell_type": "markdown",
   "id": "bd757190",
   "metadata": {},
   "source": [
    "---"
   ]
  },
  {
   "cell_type": "code",
   "execution_count": 20,
   "id": "862447b6",
   "metadata": {
    "ExecuteTime": {
     "end_time": "2021-11-19T20:32:44.670545Z",
     "start_time": "2021-11-19T20:32:44.657547Z"
    }
   },
   "outputs": [
    {
     "data": {
      "text/html": [
       "<div>\n",
       "<style scoped>\n",
       "    .dataframe tbody tr th:only-of-type {\n",
       "        vertical-align: middle;\n",
       "    }\n",
       "\n",
       "    .dataframe tbody tr th {\n",
       "        vertical-align: top;\n",
       "    }\n",
       "\n",
       "    .dataframe thead th {\n",
       "        text-align: right;\n",
       "    }\n",
       "</style>\n",
       "<table border=\"1\" class=\"dataframe\">\n",
       "  <thead>\n",
       "    <tr style=\"text-align: right;\">\n",
       "      <th></th>\n",
       "      <th>song_id</th>\n",
       "      <th>song_name</th>\n",
       "      <th>artist</th>\n",
       "      <th>album</th>\n",
       "      <th>Like_Count</th>\n",
       "      <th>Lyric</th>\n",
       "      <th>cover_url</th>\n",
       "    </tr>\n",
       "  </thead>\n",
       "  <tbody>\n",
       "    <tr>\n",
       "      <th>0</th>\n",
       "      <td>32352195</td>\n",
       "      <td>You and I</td>\n",
       "      <td>네이비쿼카(NavyQuokka)</td>\n",
       "      <td>You and I</td>\n",
       "      <td>[50]</td>\n",
       "      <td>[너와 난 Never Ending Story  부를게 이 Melody  이 노랠 들...</td>\n",
       "      <td>https://image.bugsm.co.kr/album/images/200/204...</td>\n",
       "    </tr>\n",
       "  </tbody>\n",
       "</table>\n",
       "</div>"
      ],
      "text/plain": [
       "    song_id  song_name             artist      album Like_Count  \\\n",
       "0  32352195  You and I  네이비쿼카(NavyQuokka)  You and I       [50]   \n",
       "\n",
       "                                               Lyric  \\\n",
       "0  [너와 난 Never Ending Story  부를게 이 Melody  이 노랠 들...   \n",
       "\n",
       "                                           cover_url  \n",
       "0  https://image.bugsm.co.kr/album/images/200/204...  "
      ]
     },
     "execution_count": 20,
     "metadata": {},
     "output_type": "execute_result"
    }
   ],
   "source": [
    "joy.head(1)"
   ]
  },
  {
   "cell_type": "code",
   "execution_count": 112,
   "id": "dfae651e",
   "metadata": {
    "ExecuteTime": {
     "end_time": "2021-11-19T21:39:56.762288Z",
     "start_time": "2021-11-19T21:39:56.744291Z"
    }
   },
   "outputs": [],
   "source": [
    "# 불용어 단어 (가사 빈도수 높은 + 감정분류와 무관한 단어 추가)\n",
    "stop_w = ['all','이렇게','네가','있는','니가','없는','너의','너무','그런',\n",
    "          'oh','whoo','tuesday','내가','너를','나를','we','this','the','그렇게',\n",
    "          'so','am','baby','and','can','you','much','me','for','go','in',\n",
    "          '은', '는', '이', '가', '하','하자','토록',\n",
    "          'know','no','of','let','my','수','너','내','나','그','난','봐','돼','건','모든',\n",
    "          '날','널','수','것','못','말','넌','젠','하나','정말','알','여기','우리','그대','다시',\n",
    "          '때','아','더','게','또','채','일','걸','누구','나는','너는','라면','같아','있어','지금',\n",
    "          '의','가','보','들','좀','잘','걍','과','도','를','으로','우린',\n",
    "          '자','에','와','한','하다','네','있다','나의','해','다','내게','왜','거야',']','[']"
   ]
  },
  {
   "cell_type": "markdown",
   "id": "4a1b663b",
   "metadata": {},
   "source": [
    "## model1\n",
    "* okt _ stem = True\n",
    "* stopword"
   ]
  },
  {
   "cell_type": "code",
   "execution_count": 22,
   "id": "c6cd18bd",
   "metadata": {
    "ExecuteTime": {
     "end_time": "2021-11-19T20:32:53.268008Z",
     "start_time": "2021-11-19T20:32:49.296557Z"
    }
   },
   "outputs": [
    {
     "name": "stderr",
     "output_type": "stream",
     "text": [
      "100%|████████████████████████████████████████████████████████████████████████████████| 283/283 [00:03<00:00, 71.93it/s]\n"
     ]
    }
   ],
   "source": [
    "# 형태소 분석 사용\n",
    "okt = Okt()\n",
    "\n",
    "tokenized_data = []\n",
    "for sentence in tqdm(joy['Lyric']):\n",
    "    tokenized_sentence = okt.morphs(sentence, stem=True) # 토큰화\n",
    "    stopwords_removed_sentence = [word for word in tokenized_sentence if not word in stop_w] # 불용어 제거\n",
    "    tokenized_data.append(stopwords_removed_sentence)"
   ]
  },
  {
   "cell_type": "code",
   "execution_count": 23,
   "id": "5113f008",
   "metadata": {
    "ExecuteTime": {
     "end_time": "2021-11-19T20:32:53.348049Z",
     "start_time": "2021-11-19T20:32:53.335011Z"
    }
   },
   "outputs": [],
   "source": [
    "# from gensim.models import Word2Vec\n",
    "# model = Word2Vec(sentences = tokenized_data, vector_size = 100, window = 5, min_count = 5, workers = 4, sg = 0)"
   ]
  },
  {
   "cell_type": "code",
   "execution_count": 24,
   "id": "85643cc0",
   "metadata": {
    "ExecuteTime": {
     "end_time": "2021-11-19T20:32:56.653594Z",
     "start_time": "2021-11-19T20:32:53.429014Z"
    }
   },
   "outputs": [],
   "source": [
    "from gensim.models.word2vec import Word2Vec as wv\n",
    "##태깅한 데이터들을 담은 변수 \n",
    "model = wv(tokenized_data, min_count =1 ,vector_size =370, epochs = 10,\n",
    "sg=1, batch_words=1000, window = 5)"
   ]
  },
  {
   "cell_type": "code",
   "execution_count": 25,
   "id": "413332c1",
   "metadata": {
    "ExecuteTime": {
     "end_time": "2021-11-19T20:32:56.811603Z",
     "start_time": "2021-11-19T20:32:56.790603Z"
    }
   },
   "outputs": [
    {
     "name": "stdout",
     "output_type": "stream",
     "text": [
      "(4060, 370)\n"
     ]
    }
   ],
   "source": [
    "print(model.wv.vectors.shape)"
   ]
  },
  {
   "cell_type": "markdown",
   "id": "39b9342f",
   "metadata": {},
   "source": [
    "총 4060개의 단어가 존재하며 각 단어는 370차원으로 구성"
   ]
  },
  {
   "cell_type": "code",
   "execution_count": 26,
   "id": "84fa6f6e",
   "metadata": {
    "ExecuteTime": {
     "end_time": "2021-11-19T20:32:56.939593Z",
     "start_time": "2021-11-19T20:32:56.911597Z"
    }
   },
   "outputs": [
    {
     "name": "stdout",
     "output_type": "stream",
     "text": [
      "[('험하다', 0.9430268406867981), ('길이', 0.9358264207839966), ('멀다', 0.9117670059204102), ('놓치다', 0.898459255695343), ('안녕', 0.8945025205612183), ('참고', 0.8924992084503174), ('찾다', 0.8911870718002319), ('영원', 0.8869401216506958), ('돌아오다', 0.8850411176681519), ('훗날', 0.8806968331336975)]\n"
     ]
    }
   ],
   "source": [
    "print(model.wv.most_similar(\"행복\"))"
   ]
  },
  {
   "cell_type": "code",
   "execution_count": 27,
   "id": "091f1baf",
   "metadata": {
    "ExecuteTime": {
     "end_time": "2021-11-19T20:32:57.050604Z",
     "start_time": "2021-11-19T20:32:57.041604Z"
    }
   },
   "outputs": [
    {
     "name": "stdout",
     "output_type": "stream",
     "text": [
      "[('부족하다', 0.9069110155105591), ('태어나다', 0.9062994718551636), ('에겐', 0.9019846320152283), ('믿다', 0.8962773680686951), ('그것', 0.8954706192016602)]\n"
     ]
    }
   ],
   "source": [
    "print(model.wv.most_similar(\"사랑\", topn=5))"
   ]
  },
  {
   "cell_type": "code",
   "execution_count": 28,
   "id": "3ffa1b70",
   "metadata": {
    "ExecuteTime": {
     "end_time": "2021-11-19T20:32:57.175600Z",
     "start_time": "2021-11-19T20:32:57.151598Z"
    }
   },
   "outputs": [
    {
     "name": "stdout",
     "output_type": "stream",
     "text": [
      "[('살아가다', 0.9823235273361206), ('이면', 0.9803281426429749), ('슬픔', 0.9772821664810181), ('동안', 0.977069079875946), ('기쁨', 0.9762882590293884)]\n"
     ]
    }
   ],
   "source": [
    "print(model.wv.most_similar(\"이별\", topn=5))"
   ]
  },
  {
   "cell_type": "markdown",
   "id": "58fd2ffd",
   "metadata": {},
   "source": [
    "## model2\n",
    "* strip() split(\" \")"
   ]
  },
  {
   "cell_type": "code",
   "execution_count": 29,
   "id": "8e25121a",
   "metadata": {
    "ExecuteTime": {
     "end_time": "2021-11-19T20:32:59.856798Z",
     "start_time": "2021-11-19T20:32:59.841794Z"
    }
   },
   "outputs": [
    {
     "name": "stderr",
     "output_type": "stream",
     "text": [
      "100%|█████████████████████████████████████████████████████████████████████████████| 283/283 [00:00<00:00, 56550.17it/s]\n"
     ]
    }
   ],
   "source": [
    "corpus2 = [sent.strip().split(\" \") for sent in tqdm(j_lyric)]"
   ]
  },
  {
   "cell_type": "code",
   "execution_count": 30,
   "id": "a4378370",
   "metadata": {
    "ExecuteTime": {
     "end_time": "2021-11-19T20:33:04.465548Z",
     "start_time": "2021-11-19T20:33:00.616870Z"
    }
   },
   "outputs": [],
   "source": [
    "from gensim.models.word2vec import Word2Vec as wv\n",
    "##태깅한 데이터들을 담은 변수 \n",
    "model2 = wv(corpus2, min_count =1 ,vector_size =370, epochs = 10,\n",
    "sg=1, batch_words=1000, window = 5)"
   ]
  },
  {
   "cell_type": "code",
   "execution_count": 31,
   "id": "9d8760d5",
   "metadata": {
    "ExecuteTime": {
     "end_time": "2021-11-19T20:33:04.576548Z",
     "start_time": "2021-11-19T20:33:04.564552Z"
    }
   },
   "outputs": [
    {
     "name": "stdout",
     "output_type": "stream",
     "text": [
      "(10268, 370)\n"
     ]
    }
   ],
   "source": [
    "print(model2.wv.vectors.shape)"
   ]
  },
  {
   "cell_type": "code",
   "execution_count": 32,
   "id": "0613b7de",
   "metadata": {
    "ExecuteTime": {
     "end_time": "2021-11-19T20:33:04.686572Z",
     "start_time": "2021-11-19T20:33:04.658554Z"
    }
   },
   "outputs": [
    {
     "name": "stdout",
     "output_type": "stream",
     "text": [
      "[('그땐', 0.9967271089553833), ('괜찮아요', 0.996300220489502), ('있겠어요', 0.9957355856895447), ('좋을', 0.9956374168395996), ('비춰줄게', 0.9954794049263), ('좋은데)', 0.9954351782798767), ('지금보다', 0.9952442049980164), ('이토록', 0.9952433705329895), ('나였음을', 0.9951215982437134), ('안아볼', 0.9951117038726807)]\n"
     ]
    }
   ],
   "source": [
    "print(model2.wv.most_similar(\"행복\"))"
   ]
  },
  {
   "cell_type": "code",
   "execution_count": 33,
   "id": "82570bea",
   "metadata": {
    "ExecuteTime": {
     "end_time": "2021-11-19T20:33:04.956549Z",
     "start_time": "2021-11-19T20:33:04.942546Z"
    }
   },
   "outputs": [
    {
     "name": "stdout",
     "output_type": "stream",
     "text": [
      "[('당신을', 0.9680556654930115), ('하나뿐인', 0.9664064049720764), ('마음은', 0.9538599848747253), ('빛', 0.9537689685821533), ('마음', 0.9510836005210876)]\n"
     ]
    }
   ],
   "source": [
    "print(model2.wv.most_similar(\"사랑\", topn=5))"
   ]
  },
  {
   "cell_type": "markdown",
   "id": "ee06f536",
   "metadata": {},
   "source": [
    "## model3\n",
    "* strip()_ split()\n",
    "* stopword"
   ]
  },
  {
   "cell_type": "code",
   "execution_count": 34,
   "id": "cc9aa1dc",
   "metadata": {
    "ExecuteTime": {
     "end_time": "2021-11-19T20:33:05.211575Z",
     "start_time": "2021-11-19T20:33:05.072549Z"
    }
   },
   "outputs": [
    {
     "name": "stderr",
     "output_type": "stream",
     "text": [
      "100%|██████████████████████████████████████████████████████████████████████████████| 283/283 [00:00<00:00, 2282.25it/s]\n"
     ]
    }
   ],
   "source": [
    "corpus3 = []\n",
    "for sentence in tqdm(joy['Lyric']):\n",
    "    tokenized_sentence = sentence.strip().split(\" \")\n",
    "    stopwords_removed_sentence = [word for word in tokenized_sentence if not word in stop_w] # 불용어 제거\n",
    "    corpus3.append(stopwords_removed_sentence)"
   ]
  },
  {
   "cell_type": "code",
   "execution_count": 35,
   "id": "9fb626c2",
   "metadata": {
    "ExecuteTime": {
     "end_time": "2021-11-19T20:33:08.733050Z",
     "start_time": "2021-11-19T20:33:05.310553Z"
    }
   },
   "outputs": [],
   "source": [
    "from gensim.models.word2vec import Word2Vec as wv\n",
    "##태깅한 데이터들을 담은 변수 \n",
    "model3 = wv(corpus3, min_count =1 ,vector_size =370, epochs = 10,\n",
    "sg=1, batch_words=1000, window = 5)"
   ]
  },
  {
   "cell_type": "code",
   "execution_count": 36,
   "id": "f65494f2",
   "metadata": {
    "ExecuteTime": {
     "end_time": "2021-11-19T20:33:08.874934Z",
     "start_time": "2021-11-19T20:33:08.833951Z"
    }
   },
   "outputs": [
    {
     "name": "stdout",
     "output_type": "stream",
     "text": [
      "[('사랑합니다', 0.9845211505889893), ('그대를', 0.9727385640144348), ('당신을', 0.968734860420227), ('하지만', 0.9636387228965759), ('하나뿐인', 0.9634321331977844), ('사랑해요', 0.9606936573982239), ('그대여', 0.9576258659362793), ('마음을', 0.9522129893302917), ('사랑할', 0.9510269165039062), ('못하지만', 0.9482035040855408)]\n"
     ]
    }
   ],
   "source": [
    "print(model3.wv.most_similar(\"사랑\"))"
   ]
  },
  {
   "cell_type": "code",
   "execution_count": 37,
   "id": "b918da7a",
   "metadata": {
    "ExecuteTime": {
     "end_time": "2021-11-19T20:33:08.985953Z",
     "start_time": "2021-11-19T20:33:08.972944Z"
    }
   },
   "outputs": [
    {
     "name": "stdout",
     "output_type": "stream",
     "text": [
      "[('멀게만', 0.9990216493606567), ('보낸', 0.9988969564437866), ('있음에', 0.9988470673561096), ('믿을', 0.9987689852714539), ('열어주는', 0.9987685084342957), ('한번도', 0.9987473487854004), ('미소를', 0.9986916780471802), ('내줘요', 0.9986755847930908), ('위로라도', 0.9986660480499268), ('누굴', 0.9986622929573059)]\n"
     ]
    }
   ],
   "source": [
    "print(model3.wv.most_similar(\"행복\"))"
   ]
  },
  {
   "cell_type": "code",
   "execution_count": 38,
   "id": "9b34bad9",
   "metadata": {
    "ExecuteTime": {
     "end_time": "2021-11-19T20:33:09.127948Z",
     "start_time": "2021-11-19T20:33:09.111949Z"
    }
   },
   "outputs": [
    {
     "name": "stdout",
     "output_type": "stream",
     "text": [
      "[('있죠', 0.9967788457870483), ('사랑할게요', 0.995135486125946), ('제일', 0.9950152039527893), ('안녕', 0.994528591632843), ('지나고', 0.9941496253013611), ('있어요', 0.9940662384033203), ('사랑하고', 0.9937880635261536), ('그대만을', 0.9933575987815857), ('마음으로', 0.9932870864868164), ('영원토록', 0.9932177662849426)]\n"
     ]
    }
   ],
   "source": [
    "print(model3.wv.most_similar(\"따뜻한\"))"
   ]
  },
  {
   "cell_type": "code",
   "execution_count": 39,
   "id": "1b116f89",
   "metadata": {
    "ExecuteTime": {
     "end_time": "2021-11-19T20:33:09.284939Z",
     "start_time": "2021-11-19T20:33:09.271938Z"
    }
   },
   "outputs": [
    {
     "name": "stdout",
     "output_type": "stream",
     "text": [
      "[('와서', 0.9990229606628418), ('아니라', 0.9987657070159912), ('흘려', 0.9986855983734131), ('조용하게', 0.9986829161643982), ('괜시리', 0.9986628293991089), ('넘어져도', 0.9985862374305725), ('축하해', 0.9985852241516113), ('세상위에', 0.9984535574913025), ('말이라', 0.998443067073822), ('행복했어', 0.9984200596809387)]\n"
     ]
    }
   ],
   "source": [
    "print(model3.wv.most_similar(\"이별\"))"
   ]
  },
  {
   "cell_type": "code",
   "execution_count": 45,
   "id": "00dbca47",
   "metadata": {
    "ExecuteTime": {
     "end_time": "2021-11-19T20:33:55.615619Z",
     "start_time": "2021-11-19T20:33:55.606430Z"
    }
   },
   "outputs": [
    {
     "name": "stdout",
     "output_type": "stream",
     "text": [
      "[('사랑합니다', 0.9765802025794983)]\n"
     ]
    }
   ],
   "source": [
    "print(model3.wv.most_similar(positive=['사랑', '행복'], negative=['이별'], topn=1))"
   ]
  },
  {
   "cell_type": "markdown",
   "id": "bbadec9e",
   "metadata": {},
   "source": [
    "---"
   ]
  },
  {
   "cell_type": "code",
   "execution_count": 41,
   "id": "9470fe86",
   "metadata": {
    "ExecuteTime": {
     "end_time": "2021-11-19T20:33:39.344625Z",
     "start_time": "2021-11-19T20:33:39.335586Z"
    }
   },
   "outputs": [],
   "source": [
    "lyric_emotion = ['사랑', '행복']\n",
    "emotion_list = [] # n개의 감정 단어가 담길 리스트\n",
    "for index in range(len(lyric_emotion)):\n",
    "    emotion_one = [] #1개의 감정 단어가 담길 리스트\n",
    "    for word in model.wv.most_similar(lyric_emotion[index]):\n",
    "        if(word[1] >= 0.9): # 튜플형식, 1번째 인덱스의 유사도와 비교\n",
    "            emotion_one.append(word)\n",
    "    emotion_list.append(emotion_one)"
   ]
  },
  {
   "cell_type": "code",
   "execution_count": 42,
   "id": "60f30076",
   "metadata": {
    "ExecuteTime": {
     "end_time": "2021-11-19T20:33:40.775705Z",
     "start_time": "2021-11-19T20:33:40.768646Z"
    }
   },
   "outputs": [
    {
     "data": {
      "text/plain": [
       "[[('부족하다', 0.9069110155105591),\n",
       "  ('태어나다', 0.9062994718551636),\n",
       "  ('에겐', 0.9019846320152283)],\n",
       " [('험하다', 0.9430268406867981),\n",
       "  ('길이', 0.9358264207839966),\n",
       "  ('멀다', 0.9117670059204102)]]"
      ]
     },
     "execution_count": 42,
     "metadata": {},
     "output_type": "execute_result"
    }
   ],
   "source": [
    "emotion_list"
   ]
  },
  {
   "cell_type": "code",
   "execution_count": 44,
   "id": "ac6b1c2b",
   "metadata": {
    "ExecuteTime": {
     "end_time": "2021-11-19T20:33:48.922379Z",
     "start_time": "2021-11-19T20:33:48.902376Z"
    }
   },
   "outputs": [
    {
     "name": "stdout",
     "output_type": "stream",
     "text": [
      "[('태어나다', 0.8212791681289673)]\n"
     ]
    }
   ],
   "source": [
    "print(model.wv.most_similar(positive=['사랑', '행복'], negative=['이별'], topn=1))"
   ]
  },
  {
   "cell_type": "code",
   "execution_count": 46,
   "id": "3dee9908",
   "metadata": {
    "ExecuteTime": {
     "end_time": "2021-11-19T20:34:04.502230Z",
     "start_time": "2021-11-19T20:34:04.472101Z"
    },
    "scrolled": false
   },
   "outputs": [],
   "source": [
    "word_dict = {}\n",
    "for i in corpus:\n",
    "    if i in word_dict:\n",
    "        word_dict[i] += 1\n",
    "    else: \n",
    "        word_dict[i] = 1\n",
    "        \n",
    "# print(word_dict)"
   ]
  },
  {
   "cell_type": "code",
   "execution_count": 47,
   "id": "a1661031",
   "metadata": {
    "ExecuteTime": {
     "end_time": "2021-11-19T20:34:17.258739Z",
     "start_time": "2021-11-19T20:34:17.238562Z"
    }
   },
   "outputs": [
    {
     "name": "stdout",
     "output_type": "stream",
     "text": [
      "0           너\n",
      "1           난\n",
      "2         부르다\n",
      "3           이\n",
      "4           이\n",
      "         ... \n",
      "39048      비치\n",
      "39049      그대\n",
      "39050      시간\n",
      "39051    기다리다\n",
      "39052      오다\n",
      "Length: 39053, dtype: object\n"
     ]
    }
   ],
   "source": [
    "from pandas import Series, DataFrame\n",
    "corpus_data = Series(corpus)\n",
    "print(corpus_data)"
   ]
  },
  {
   "cell_type": "code",
   "execution_count": 48,
   "id": "4881a151",
   "metadata": {
    "ExecuteTime": {
     "end_time": "2021-11-19T20:34:18.157586Z",
     "start_time": "2021-11-19T20:34:18.136503Z"
    }
   },
   "outputs": [
    {
     "name": "stdout",
     "output_type": "stream",
     "text": [
      "너       1170\n",
      "난        445\n",
      "부르다       25\n",
      "이        280\n",
      "노랗다       20\n",
      "        ... \n",
      "마음씨        1\n",
      "하나요        2\n",
      "오래오래       2\n",
      "상관         1\n",
      "보살피다       1\n",
      "Length: 2768, dtype: int64\n",
      "1    962\n",
      "2    404\n",
      "3    246\n",
      "4    188\n",
      "5    124\n",
      "dtype: int64\n"
     ]
    }
   ],
   "source": [
    "seri_data = Series(word_dict)\n",
    "print(seri_data)\n",
    "print(seri_data.value_counts()[:5])"
   ]
  },
  {
   "cell_type": "code",
   "execution_count": 49,
   "id": "2cd61c49",
   "metadata": {
    "ExecuteTime": {
     "end_time": "2021-11-19T20:34:19.042082Z",
     "start_time": "2021-11-19T20:34:19.031037Z"
    }
   },
   "outputs": [],
   "source": [
    "df = DataFrame(seri_data, columns=['count'])"
   ]
  },
  {
   "cell_type": "code",
   "execution_count": 50,
   "id": "b25ed457",
   "metadata": {
    "ExecuteTime": {
     "end_time": "2021-11-19T20:34:21.929787Z",
     "start_time": "2021-11-19T20:34:21.915186Z"
    }
   },
   "outputs": [
    {
     "data": {
      "text/html": [
       "<div>\n",
       "<style scoped>\n",
       "    .dataframe tbody tr th:only-of-type {\n",
       "        vertical-align: middle;\n",
       "    }\n",
       "\n",
       "    .dataframe tbody tr th {\n",
       "        vertical-align: top;\n",
       "    }\n",
       "\n",
       "    .dataframe thead th {\n",
       "        text-align: right;\n",
       "    }\n",
       "</style>\n",
       "<table border=\"1\" class=\"dataframe\">\n",
       "  <thead>\n",
       "    <tr style=\"text-align: right;\">\n",
       "      <th></th>\n",
       "      <th>count</th>\n",
       "    </tr>\n",
       "  </thead>\n",
       "  <tbody>\n",
       "    <tr>\n",
       "      <th>하다</th>\n",
       "      <td>1667</td>\n",
       "    </tr>\n",
       "    <tr>\n",
       "      <th>너</th>\n",
       "      <td>1170</td>\n",
       "    </tr>\n",
       "    <tr>\n",
       "      <th>내</th>\n",
       "      <td>953</td>\n",
       "    </tr>\n",
       "    <tr>\n",
       "      <th>사랑</th>\n",
       "      <td>814</td>\n",
       "    </tr>\n",
       "    <tr>\n",
       "      <th>나</th>\n",
       "      <td>712</td>\n",
       "    </tr>\n",
       "  </tbody>\n",
       "</table>\n",
       "</div>"
      ],
      "text/plain": [
       "    count\n",
       "하다   1667\n",
       "너    1170\n",
       "내     953\n",
       "사랑    814\n",
       "나     712"
      ]
     },
     "execution_count": 50,
     "metadata": {},
     "output_type": "execute_result"
    }
   ],
   "source": [
    "df.sort_values(by='count',ascending=False).head(5)"
   ]
  },
  {
   "cell_type": "code",
   "execution_count": 81,
   "id": "b8355212",
   "metadata": {
    "ExecuteTime": {
     "end_time": "2021-11-19T20:50:53.337222Z",
     "start_time": "2021-11-19T20:50:53.326186Z"
    }
   },
   "outputs": [],
   "source": [
    "df_top = df.sort_values(by='count',ascending=False).head(20)"
   ]
  },
  {
   "cell_type": "code",
   "execution_count": 88,
   "id": "01a252e5",
   "metadata": {
    "ExecuteTime": {
     "end_time": "2021-11-19T20:51:57.213070Z",
     "start_time": "2021-11-19T20:51:57.205071Z"
    }
   },
   "outputs": [],
   "source": [
    "import seaborn as sns\n",
    "\n",
    "# jupyter notebook 내 그래프를 바로 그리기 위한 설정\n",
    "%matplotlib inline\n",
    "\n",
    "# unicode minus를 사용하지 않기 위한 설정 (minus 깨짐현상 방지)\n",
    "plt.rcParams['axes.unicode_minus'] = False\n",
    "plt.rcParams['font.family'] = 'NanumGothic'"
   ]
  },
  {
   "cell_type": "code",
   "execution_count": 87,
   "id": "edc7c067",
   "metadata": {
    "ExecuteTime": {
     "end_time": "2021-11-19T20:51:55.780822Z",
     "start_time": "2021-11-19T20:51:55.775815Z"
    }
   },
   "outputs": [],
   "source": [
    "import matplotlib.font_manager as fm"
   ]
  },
  {
   "cell_type": "code",
   "execution_count": 89,
   "id": "27751d86",
   "metadata": {
    "ExecuteTime": {
     "end_time": "2021-11-19T20:51:58.631568Z",
     "start_time": "2021-11-19T20:51:58.352841Z"
    }
   },
   "outputs": [
    {
     "data": {
      "image/png": "[encoded data removed]",
      "text/plain": [
       "<Figure size 432x288 with 1 Axes>"
      ]
     },
     "metadata": {
      "needs_background": "light"
     },
     "output_type": "display_data"
    }
   ],
   "source": [
    "sns.barplot(df_top['count'],df_top.index)\n",
    "\n",
    "sns.set(rc={'figure.figsize':(20,20)}, font='NanumBarunGothic.ttf')"
   ]
  },
  {
   "cell_type": "markdown",
   "id": "08c560b6",
   "metadata": {},
   "source": [
    "---"
   ]
  },
  {
   "cell_type": "markdown",
   "id": "3dd318bc",
   "metadata": {},
   "source": [
    "### Scikit-Learn 문서 전처리 기능\n",
    "* TfidfVectorizer:<br>\n",
    "CountVectorizer와 비슷하지만 TF-IDF 방식으로 단어의 가중치를 조정한 BOW 인코딩 벡터를 만든다.\n",
    "> https://scikit-learn.org/stable/modules/generated/sklearn.feature_extraction.text.TfidfVectorizer.html"
   ]
  },
  {
   "cell_type": "code",
   "execution_count": 97,
   "id": "04f6e6fd",
   "metadata": {
    "ExecuteTime": {
     "end_time": "2021-11-19T21:36:25.625118Z",
     "start_time": "2021-11-19T21:36:24.765578Z"
    }
   },
   "outputs": [],
   "source": [
    "from sklearn.feature_extraction.text import TfidfVectorizer"
   ]
  },
  {
   "cell_type": "code",
   "execution_count": 113,
   "id": "2a86fe89",
   "metadata": {
    "ExecuteTime": {
     "end_time": "2021-11-19T21:40:07.890688Z",
     "start_time": "2021-11-19T21:40:07.884691Z"
    }
   },
   "outputs": [],
   "source": [
    "tfidf = TfidfVectorizer(stop_words=stop_w,\n",
    "                        lowercase=True,\n",
    "                        max_features=1000)"
   ]
  },
  {
   "cell_type": "code",
   "execution_count": 145,
   "id": "59495820",
   "metadata": {
    "ExecuteTime": {
     "end_time": "2021-11-19T21:50:37.768897Z",
     "start_time": "2021-11-19T21:50:37.738473Z"
    }
   },
   "outputs": [
    {
     "data": {
      "text/html": [
       "<div>\n",
       "<style scoped>\n",
       "    .dataframe tbody tr th:only-of-type {\n",
       "        vertical-align: middle;\n",
       "    }\n",
       "\n",
       "    .dataframe tbody tr th {\n",
       "        vertical-align: top;\n",
       "    }\n",
       "\n",
       "    .dataframe thead th {\n",
       "        text-align: right;\n",
       "    }\n",
       "</style>\n",
       "<table border=\"1\" class=\"dataframe\">\n",
       "  <thead>\n",
       "    <tr style=\"text-align: right;\">\n",
       "      <th></th>\n",
       "      <th>song_id</th>\n",
       "      <th>song_name</th>\n",
       "      <th>artist</th>\n",
       "      <th>album</th>\n",
       "      <th>Like_Count</th>\n",
       "      <th>Lyric</th>\n",
       "      <th>cover_url</th>\n",
       "    </tr>\n",
       "  </thead>\n",
       "  <tbody>\n",
       "    <tr>\n",
       "      <th>0</th>\n",
       "      <td>32352195</td>\n",
       "      <td>You and I</td>\n",
       "      <td>네이비쿼카(NavyQuokka)</td>\n",
       "      <td>You and I</td>\n",
       "      <td>[50]</td>\n",
       "      <td>너와 난     부를게 이   이 노랠 들어줘 손 놓지 말아 줘        들려줘...</td>\n",
       "      <td>https://image.bugsm.co.kr/album/images/200/204...</td>\n",
       "    </tr>\n",
       "    <tr>\n",
       "      <th>1</th>\n",
       "      <td>32330796</td>\n",
       "      <td>그렇게 됐나 봐 (아는 여자애 X 이민혁)</td>\n",
       "      <td>이민혁</td>\n",
       "      <td>그렇게 됐나 봐 (아는 여자애 X 이민혁)</td>\n",
       "      <td>[168]</td>\n",
       "      <td>유난스러운 하루에 끝이 올 때쯤  너의 모습들이  아른아른 대는 걸  무슨 일일까 ...</td>\n",
       "      <td>https://image.bugsm.co.kr/album/images/200/204...</td>\n",
       "    </tr>\n",
       "    <tr>\n",
       "      <th>2</th>\n",
       "      <td>6133190</td>\n",
       "      <td>나 그댈위해 시 한편을 쓰겠어</td>\n",
       "      <td>케이시</td>\n",
       "      <td>옛이야기</td>\n",
       "      <td>[916]</td>\n",
       "      <td>나 그댈 위해 시 한 편을 쓰겠어  나 그대에게 못다 한 얘기 많아  차마 그때 하...</td>\n",
       "      <td>https://image.bugsm.co.kr/album/images/200/406...</td>\n",
       "    </tr>\n",
       "    <tr>\n",
       "      <th>3</th>\n",
       "      <td>6133520</td>\n",
       "      <td>셔터 (Shutter)</td>\n",
       "      <td>소란(SORAN)</td>\n",
       "      <td>셔터 (Shutter)</td>\n",
       "      <td>[113]</td>\n",
       "      <td>조금 어색해도 살짝 웃어줘  지금 좋아  조금 귀찮아도 나를 믿어줘  하루 종일  ...</td>\n",
       "      <td>https://image.bugsm.co.kr/album/images/200/406...</td>\n",
       "    </tr>\n",
       "    <tr>\n",
       "      <th>4</th>\n",
       "      <td>32360930</td>\n",
       "      <td>Our Blue (아는 여자애 X CHEEZE (치즈))</td>\n",
       "      <td>CHEEZE(치즈)</td>\n",
       "      <td>Our Blue (아는 여자애 X CHEEZE (치즈))</td>\n",
       "      <td>[105]</td>\n",
       "      <td>사랑 나에겐 어려워  난 아직 서투른 걸 그래  너와 입 맞출 때도  모든 게 낯설...</td>\n",
       "      <td>https://image.bugsm.co.kr/album/images/200/204...</td>\n",
       "    </tr>\n",
       "  </tbody>\n",
       "</table>\n",
       "</div>"
      ],
      "text/plain": [
       "    song_id                        song_name             artist  \\\n",
       "0  32352195                        You and I  네이비쿼카(NavyQuokka)   \n",
       "1  32330796          그렇게 됐나 봐 (아는 여자애 X 이민혁)                이민혁   \n",
       "2   6133190                 나 그댈위해 시 한편을 쓰겠어                케이시   \n",
       "3   6133520                     셔터 (Shutter)          소란(SORAN)   \n",
       "4  32360930  Our Blue (아는 여자애 X CHEEZE (치즈))         CHEEZE(치즈)   \n",
       "\n",
       "                             album Like_Count  \\\n",
       "0                        You and I       [50]   \n",
       "1          그렇게 됐나 봐 (아는 여자애 X 이민혁)      [168]   \n",
       "2                             옛이야기      [916]   \n",
       "3                     셔터 (Shutter)      [113]   \n",
       "4  Our Blue (아는 여자애 X CHEEZE (치즈))      [105]   \n",
       "\n",
       "                                               Lyric  \\\n",
       "0  너와 난     부를게 이   이 노랠 들어줘 손 놓지 말아 줘        들려줘...   \n",
       "1  유난스러운 하루에 끝이 올 때쯤  너의 모습들이  아른아른 대는 걸  무슨 일일까 ...   \n",
       "2  나 그댈 위해 시 한 편을 쓰겠어  나 그대에게 못다 한 얘기 많아  차마 그때 하...   \n",
       "3  조금 어색해도 살짝 웃어줘  지금 좋아  조금 귀찮아도 나를 믿어줘  하루 종일  ...   \n",
       "4  사랑 나에겐 어려워  난 아직 서투른 걸 그래  너와 입 맞출 때도  모든 게 낯설...   \n",
       "\n",
       "                                           cover_url  \n",
       "0  https://image.bugsm.co.kr/album/images/200/204...  \n",
       "1  https://image.bugsm.co.kr/album/images/200/204...  \n",
       "2  https://image.bugsm.co.kr/album/images/200/406...  \n",
       "3  https://image.bugsm.co.kr/album/images/200/406...  \n",
       "4  https://image.bugsm.co.kr/album/images/200/204...  "
      ]
     },
     "execution_count": 145,
     "metadata": {},
     "output_type": "execute_result"
    }
   ],
   "source": [
    "joy['Lyric'] = joy['Lyric'].str.replace(\"[^ㄱ-ㅎㅏ-ㅣ가-힣 ]\",\"\")\n",
    "# 한글과 공백을 제외하고 모두 제거\n",
    "joy[:5]"
   ]
  },
  {
   "cell_type": "code",
   "execution_count": 148,
   "id": "c0d050d8",
   "metadata": {
    "ExecuteTime": {
     "end_time": "2021-11-19T21:51:22.296779Z",
     "start_time": "2021-11-19T21:51:22.278783Z"
    }
   },
   "outputs": [
    {
     "name": "stdout",
     "output_type": "stream",
     "text": [
      "song_id       0\n",
      "song_name     0\n",
      "artist        0\n",
      "album         0\n",
      "Like_Count    0\n",
      "Lyric         4\n",
      "cover_url     0\n",
      "dtype: int64\n"
     ]
    }
   ],
   "source": [
    "joy['Lyric'] = joy['Lyric'].str.replace('^ +', \"\") # white space 데이터를 empty value로 변경\n",
    "joy['Lyric'].replace('', np.nan, inplace=True)\n",
    "print(joy.isnull().sum())"
   ]
  },
  {
   "cell_type": "code",
   "execution_count": 152,
   "id": "1b695d47",
   "metadata": {
    "ExecuteTime": {
     "end_time": "2021-11-19T21:52:45.032149Z",
     "start_time": "2021-11-19T21:52:45.014997Z"
    }
   },
   "outputs": [
    {
     "name": "stdout",
     "output_type": "stream",
     "text": [
      "전처리 후 데이터의 개수 : 279\n"
     ]
    }
   ],
   "source": [
    "joy = joy.dropna(how = 'any')\n",
    "print('전처리 후 데이터의 개수 :',len(joy))"
   ]
  },
  {
   "cell_type": "code",
   "execution_count": 153,
   "id": "34a42c2e",
   "metadata": {
    "ExecuteTime": {
     "end_time": "2021-11-19T21:53:16.378863Z",
     "start_time": "2021-11-19T21:53:16.361735Z"
    }
   },
   "outputs": [],
   "source": [
    "joy['Lyric'] = j_lyric"
   ]
  },
  {
   "cell_type": "code",
   "execution_count": 154,
   "id": "3d1038cb",
   "metadata": {
    "ExecuteTime": {
     "end_time": "2021-11-19T21:53:19.002632Z",
     "start_time": "2021-11-19T21:53:18.997657Z"
    }
   },
   "outputs": [
    {
     "data": {
      "text/plain": [
       "0      너와 난     부를게 이   이 노랠 들어줘 손 놓지 말아 줘        들려줘...\n",
       "1      유난스러운 하루에 끝이 올 때쯤  너의 모습들이  아른아른 대는 걸  무슨 일일까 ...\n",
       "2      나 그댈 위해 시 한 편을 쓰겠어  나 그대에게 못다 한 얘기 많아  차마 그때 하...\n",
       "3      조금 어색해도 살짝 웃어줘  지금 좋아  조금 귀찮아도 나를 믿어줘  하루 종일  ...\n",
       "4      사랑 나에겐 어려워  난 아직 서투른 걸 그래  너와 입 맞출 때도  모든 게 낯설...\n",
       "                             ...                        \n",
       "278    왜 이제야 왔니 어디에 있었던거니  조금은 늦은 듯 이제야 만났네    넌 사랑을 ...\n",
       "279    그렇게 대단한 운명까진  바란적 없다 생각했는데  그대 하나 떠나간 내 하룬 이제 ...\n",
       "280    눈을 뜨기 힘든 가을 보다 높은  저 하늘이 기분 좋아  휴일 아침이면 나를 깨운 ...\n",
       "281    언제부터 사랑이었는지 알아채는 요령없나요   그 어떤 맘이 변해서 사랑하게 되는지 ...\n",
       "282    두 눈에 비친 너의 미소  지친 날 감싸듯 내 맘 비춰  소리없이 찾아와 내 맘은 ...\n",
       "Name: Lyric, Length: 283, dtype: object"
      ]
     },
     "execution_count": 154,
     "metadata": {},
     "output_type": "execute_result"
    }
   ],
   "source": [
    "j_lyric"
   ]
  },
  {
   "cell_type": "code",
   "execution_count": 159,
   "id": "b9bdfe4d",
   "metadata": {
    "ExecuteTime": {
     "end_time": "2021-11-19T21:54:28.320531Z",
     "start_time": "2021-11-19T21:54:28.296472Z"
    }
   },
   "outputs": [
    {
     "name": "stdout",
     "output_type": "stream",
     "text": [
      "<class 'pandas.core.frame.DataFrame'>\n",
      "Int64Index: 279 entries, 0 to 282\n",
      "Data columns (total 7 columns):\n",
      " #   Column      Non-Null Count  Dtype \n",
      "---  ------      --------------  ----- \n",
      " 0   song_id     279 non-null    int64 \n",
      " 1   song_name   279 non-null    object\n",
      " 2   artist      279 non-null    object\n",
      " 3   album       279 non-null    object\n",
      " 4   Like_Count  279 non-null    object\n",
      " 5   Lyric       279 non-null    object\n",
      " 6   cover_url   279 non-null    object\n",
      "dtypes: int64(1), object(6)\n",
      "memory usage: 17.4+ KB\n"
     ]
    }
   ],
   "source": [
    "joy.info()"
   ]
  },
  {
   "cell_type": "code",
   "execution_count": 160,
   "id": "af47c449",
   "metadata": {
    "ExecuteTime": {
     "end_time": "2021-11-19T21:56:02.349727Z",
     "start_time": "2021-11-19T21:56:02.280729Z"
    }
   },
   "outputs": [],
   "source": [
    "tdm = tfidf.fit_transform(j_lyric.values.astype('U'))  ## Even astype(str) would work"
   ]
  },
  {
   "cell_type": "code",
   "execution_count": 161,
   "id": "77ded4c6",
   "metadata": {
    "ExecuteTime": {
     "end_time": "2021-11-19T21:56:10.967017Z",
     "start_time": "2021-11-19T21:56:10.951892Z"
    }
   },
   "outputs": [
    {
     "data": {
      "text/plain": [
       "['하지만', '함께', '항상', '해도', '행복해져라']"
      ]
     },
     "execution_count": 161,
     "metadata": {},
     "output_type": "execute_result"
    }
   ],
   "source": [
    "words = tfidf.get_feature_names()\n",
    "words[-5:]"
   ]
  },
  {
   "cell_type": "code",
   "execution_count": 164,
   "id": "b8c550ba",
   "metadata": {
    "ExecuteTime": {
     "end_time": "2021-11-19T21:56:43.060514Z",
     "start_time": "2021-11-19T21:56:43.051379Z"
    }
   },
   "outputs": [
    {
     "data": {
      "text/plain": [
       "array([ 2, 98, 51, ..., 55,  0, 70], dtype=int32)"
      ]
     },
     "execution_count": 164,
     "metadata": {},
     "output_type": "execute_result"
    }
   ],
   "source": [
    "tdm.indices"
   ]
  },
  {
   "cell_type": "code",
   "execution_count": 165,
   "id": "ac3265ff",
   "metadata": {
    "ExecuteTime": {
     "end_time": "2021-11-19T21:56:45.589795Z",
     "start_time": "2021-11-19T21:56:45.581771Z"
    }
   },
   "outputs": [
    {
     "name": "stdout",
     "output_type": "stream",
     "text": [
      "곁에 0.12582244732100434\n",
      "너와 0.6153819251994416\n",
      "세상이 0.17850870696858234\n",
      "영원히 0.7432370731093305\n",
      "해도 0.14562655176945755\n"
     ]
    }
   ],
   "source": [
    "for i, n in sorted(zip(tdm[0].indices, tdm[0].data)):\n",
    "    print(words[i], n)"
   ]
  },
  {
   "cell_type": "code",
   "execution_count": 166,
   "id": "93bc1da5",
   "metadata": {
    "ExecuteTime": {
     "end_time": "2021-11-19T21:56:49.728086Z",
     "start_time": "2021-11-19T21:56:49.721965Z"
    }
   },
   "outputs": [],
   "source": [
    "count = tdm.sum(axis=0)"
   ]
  },
  {
   "cell_type": "code",
   "execution_count": 167,
   "id": "0d703b59",
   "metadata": {
    "ExecuteTime": {
     "end_time": "2021-11-19T21:56:50.949467Z",
     "start_time": "2021-11-19T21:56:50.941369Z"
    }
   },
   "outputs": [],
   "source": [
    "word_count = pd.DataFrame({\n",
    "    '단어': tfidf.get_feature_names(),\n",
    "    '빈도': count.flat})"
   ]
  },
  {
   "cell_type": "code",
   "execution_count": 169,
   "id": "0c253451",
   "metadata": {
    "ExecuteTime": {
     "end_time": "2021-11-19T21:57:00.113722Z",
     "start_time": "2021-11-19T21:57:00.096726Z"
    }
   },
   "outputs": [
    {
     "data": {
      "text/html": [
       "<div>\n",
       "<style scoped>\n",
       "    .dataframe tbody tr th:only-of-type {\n",
       "        vertical-align: middle;\n",
       "    }\n",
       "\n",
       "    .dataframe tbody tr th {\n",
       "        vertical-align: top;\n",
       "    }\n",
       "\n",
       "    .dataframe thead th {\n",
       "        text-align: right;\n",
       "    }\n",
       "</style>\n",
       "<table border=\"1\" class=\"dataframe\">\n",
       "  <thead>\n",
       "    <tr style=\"text-align: right;\">\n",
       "      <th></th>\n",
       "      <th>단어</th>\n",
       "      <th>빈도</th>\n",
       "    </tr>\n",
       "  </thead>\n",
       "  <tbody>\n",
       "    <tr>\n",
       "      <th>0</th>\n",
       "      <td>같은</td>\n",
       "      <td>8.469595</td>\n",
       "    </tr>\n",
       "    <tr>\n",
       "      <th>1</th>\n",
       "      <td>같이</td>\n",
       "      <td>5.592906</td>\n",
       "    </tr>\n",
       "    <tr>\n",
       "      <th>2</th>\n",
       "      <td>곁에</td>\n",
       "      <td>9.917062</td>\n",
       "    </tr>\n",
       "    <tr>\n",
       "      <th>3</th>\n",
       "      <td>계속</td>\n",
       "      <td>4.857956</td>\n",
       "    </tr>\n",
       "    <tr>\n",
       "      <th>4</th>\n",
       "      <td>괜찮아</td>\n",
       "      <td>6.174844</td>\n",
       "    </tr>\n",
       "  </tbody>\n",
       "</table>\n",
       "</div>"
      ],
      "text/plain": [
       "    단어        빈도\n",
       "0   같은  8.469595\n",
       "1   같이  5.592906\n",
       "2   곁에  9.917062\n",
       "3   계속  4.857956\n",
       "4  괜찮아  6.174844"
      ]
     },
     "execution_count": 169,
     "metadata": {},
     "output_type": "execute_result"
    }
   ],
   "source": [
    "word_count.head()"
   ]
  },
  {
   "cell_type": "code",
   "execution_count": 168,
   "id": "0b898cd1",
   "metadata": {
    "ExecuteTime": {
     "end_time": "2021-11-19T21:56:52.148143Z",
     "start_time": "2021-11-19T21:56:52.131145Z"
    }
   },
   "outputs": [
    {
     "data": {
      "text/html": [
       "<div>\n",
       "<style scoped>\n",
       "    .dataframe tbody tr th:only-of-type {\n",
       "        vertical-align: middle;\n",
       "    }\n",
       "\n",
       "    .dataframe tbody tr th {\n",
       "        vertical-align: top;\n",
       "    }\n",
       "\n",
       "    .dataframe thead th {\n",
       "        text-align: right;\n",
       "    }\n",
       "</style>\n",
       "<table border=\"1\" class=\"dataframe\">\n",
       "  <thead>\n",
       "    <tr style=\"text-align: right;\">\n",
       "      <th></th>\n",
       "      <th>단어</th>\n",
       "      <th>빈도</th>\n",
       "    </tr>\n",
       "  </thead>\n",
       "  <tbody>\n",
       "    <tr>\n",
       "      <th>95</th>\n",
       "      <td>하지만</td>\n",
       "      <td>5.620482</td>\n",
       "    </tr>\n",
       "    <tr>\n",
       "      <th>96</th>\n",
       "      <td>함께</td>\n",
       "      <td>14.827542</td>\n",
       "    </tr>\n",
       "    <tr>\n",
       "      <th>97</th>\n",
       "      <td>항상</td>\n",
       "      <td>6.848749</td>\n",
       "    </tr>\n",
       "    <tr>\n",
       "      <th>98</th>\n",
       "      <td>해도</td>\n",
       "      <td>6.491859</td>\n",
       "    </tr>\n",
       "    <tr>\n",
       "      <th>99</th>\n",
       "      <td>행복해져라</td>\n",
       "      <td>0.999401</td>\n",
       "    </tr>\n",
       "  </tbody>\n",
       "</table>\n",
       "</div>"
      ],
      "text/plain": [
       "       단어         빈도\n",
       "95    하지만   5.620482\n",
       "96     함께  14.827542\n",
       "97     항상   6.848749\n",
       "98     해도   6.491859\n",
       "99  행복해져라   0.999401"
      ]
     },
     "execution_count": 168,
     "metadata": {},
     "output_type": "execute_result"
    }
   ],
   "source": [
    "word_count.tail()"
   ]
  },
  {
   "cell_type": "code",
   "execution_count": 171,
   "id": "6fc61e22",
   "metadata": {
    "ExecuteTime": {
     "end_time": "2021-11-19T21:57:24.761239Z",
     "start_time": "2021-11-19T21:57:24.751233Z"
    }
   },
   "outputs": [
    {
     "data": {
      "text/html": [
       "<div>\n",
       "<style scoped>\n",
       "    .dataframe tbody tr th:only-of-type {\n",
       "        vertical-align: middle;\n",
       "    }\n",
       "\n",
       "    .dataframe tbody tr th {\n",
       "        vertical-align: top;\n",
       "    }\n",
       "\n",
       "    .dataframe thead th {\n",
       "        text-align: right;\n",
       "    }\n",
       "</style>\n",
       "<table border=\"1\" class=\"dataframe\">\n",
       "  <thead>\n",
       "    <tr style=\"text-align: right;\">\n",
       "      <th></th>\n",
       "      <th>단어</th>\n",
       "      <th>빈도</th>\n",
       "    </tr>\n",
       "  </thead>\n",
       "  <tbody>\n",
       "    <tr>\n",
       "      <th>48</th>\n",
       "      <td>사랑해</td>\n",
       "      <td>15.380508</td>\n",
       "    </tr>\n",
       "    <tr>\n",
       "      <th>96</th>\n",
       "      <td>함께</td>\n",
       "      <td>14.827542</td>\n",
       "    </tr>\n",
       "    <tr>\n",
       "      <th>56</th>\n",
       "      <td>싶어</td>\n",
       "      <td>14.200427</td>\n",
       "    </tr>\n",
       "    <tr>\n",
       "      <th>68</th>\n",
       "      <td>없어</td>\n",
       "      <td>12.507358</td>\n",
       "    </tr>\n",
       "    <tr>\n",
       "      <th>87</th>\n",
       "      <td>좋아</td>\n",
       "      <td>11.478479</td>\n",
       "    </tr>\n",
       "    <tr>\n",
       "      <th>21</th>\n",
       "      <td>너와</td>\n",
       "      <td>11.337454</td>\n",
       "    </tr>\n",
       "    <tr>\n",
       "      <th>44</th>\n",
       "      <td>사랑을</td>\n",
       "      <td>10.954312</td>\n",
       "    </tr>\n",
       "    <tr>\n",
       "      <th>24</th>\n",
       "      <td>눈을</td>\n",
       "      <td>10.895720</td>\n",
       "    </tr>\n",
       "    <tr>\n",
       "      <th>6</th>\n",
       "      <td>그냥</td>\n",
       "      <td>10.881950</td>\n",
       "    </tr>\n",
       "    <tr>\n",
       "      <th>20</th>\n",
       "      <td>너에게</td>\n",
       "      <td>10.807891</td>\n",
       "    </tr>\n",
       "  </tbody>\n",
       "</table>\n",
       "</div>"
      ],
      "text/plain": [
       "     단어         빈도\n",
       "48  사랑해  15.380508\n",
       "96   함께  14.827542\n",
       "56   싶어  14.200427\n",
       "68   없어  12.507358\n",
       "87   좋아  11.478479\n",
       "21   너와  11.337454\n",
       "44  사랑을  10.954312\n",
       "24   눈을  10.895720\n",
       "6    그냥  10.881950\n",
       "20  너에게  10.807891"
      ]
     },
     "execution_count": 171,
     "metadata": {},
     "output_type": "execute_result"
    }
   ],
   "source": [
    "sorted_df = word_count.sort_values('빈도', ascending=False)  # 내림차순 정렬\n",
    "sorted_df.head(10)"
   ]
  },
  {
   "cell_type": "code",
   "execution_count": 185,
   "id": "2c79df44",
   "metadata": {
    "ExecuteTime": {
     "end_time": "2021-11-19T22:12:07.023423Z",
     "start_time": "2021-11-19T22:12:06.995260Z"
    }
   },
   "outputs": [
    {
     "data": {
      "text/plain": [
       "{'같은': 8.469594985778492,\n",
       " '같이': 5.59290571917435,\n",
       " '곁에': 9.917061772054053,\n",
       " '계속': 4.85795567190118,\n",
       " '괜찮아': 6.174843992926508,\n",
       " '그게': 7.435518205880385,\n",
       " '그냥': 10.881950487998367,\n",
       " '그대가': 6.032574216610663,\n",
       " '그대는': 4.528082664914761,\n",
       " '그대를': 6.452858274255498,\n",
       " '그대와': 5.930690828233193,\n",
       " '그댈': 10.690333677125466,\n",
       " '그래': 6.073946959969722,\n",
       " '그저': 6.24420101158311,\n",
       " '기분': 4.950151234544936,\n",
       " '나도': 7.641323277885948,\n",
       " '나와': 5.183843972843977,\n",
       " '내겐': 5.85843328077587,\n",
       " '너도': 6.173449393737242,\n",
       " '너만': 5.9129952567588475,\n",
       " '너에게': 10.807891076219457,\n",
       " '너와': 11.337454159214222,\n",
       " '네게': 7.6384560889316395,\n",
       " '누구보다': 3.120949149884321,\n",
       " '눈을': 10.89571951758618,\n",
       " '다른': 9.746998985517552,\n",
       " '때면': 5.949775414686179,\n",
       " '마음': 10.19056125309067,\n",
       " '만들어': 4.27519574142401,\n",
       " '많은': 6.125453721725418,\n",
       " '많이': 5.540932012435533,\n",
       " '말도': 6.3877637543250065,\n",
       " '말을': 5.762330981869333,\n",
       " '말이': 5.885136249871932,\n",
       " '말하고': 5.262008659057178,\n",
       " '맘을': 7.376321983172156,\n",
       " '매일': 7.8793539685302445,\n",
       " '모두': 6.69243249397958,\n",
       " '몰라': 5.38269279200576,\n",
       " '보고': 10.01019568374745,\n",
       " '보면': 6.016001452906211,\n",
       " '사람': 10.357448462055302,\n",
       " '사랑': 8.505962982741845,\n",
       " '사랑은': 6.541603083362599,\n",
       " '사랑을': 10.954311945063225,\n",
       " '사랑이': 5.956720635725433,\n",
       " '사랑하겠어': 2.635509814620378,\n",
       " '사랑합니다': 3.8757730308070792,\n",
       " '사랑해': 15.38050842152008,\n",
       " '사랑해요': 4.581936463987921,\n",
       " '세상': 5.822301984397473,\n",
       " '세상이': 4.985703772603233,\n",
       " '손을': 8.216964220400211,\n",
       " '수가': 4.78871334200786,\n",
       " '순간': 6.925532244081644,\n",
       " '시간이': 5.479367010048398,\n",
       " '싶어': 14.20042736389461,\n",
       " '싶은': 7.668358616181255,\n",
       " '아름다운': 5.6382204613565206,\n",
       " '아마': 4.180611742231738,\n",
       " '아무': 7.800010831935737,\n",
       " '안에': 6.332963924491233,\n",
       " '않아': 10.128377987199835,\n",
       " '않아도': 5.561229807841449,\n",
       " '알고': 7.9430731402980905,\n",
       " '어떤': 6.35546270640573,\n",
       " '언제까지나': 4.246633923139332,\n",
       " '언제나': 7.366477008554224,\n",
       " '없어': 12.507358400857212,\n",
       " '없이': 7.460571652318299,\n",
       " '영원히': 8.516934130281827,\n",
       " '오늘': 9.857490811383405,\n",
       " '오늘도': 6.320121219671109,\n",
       " '오직': 5.994465342948642,\n",
       " '위해': 6.721751975976428,\n",
       " '이런': 9.921890432040465,\n",
       " '이제': 10.20223157028921,\n",
       " '이제는': 4.464954377086583,\n",
       " '이젠': 10.46495775749443,\n",
       " '있으면': 5.183355571848837,\n",
       " '자꾸': 5.826830806067393,\n",
       " '자꾸만': 4.820227992562856,\n",
       " '작은': 5.479352322131853,\n",
       " '잡고': 6.146751405573814,\n",
       " '조금': 5.836068927734551,\n",
       " '조금씩': 6.136263378039653,\n",
       " '종일': 5.720177448358105,\n",
       " '좋아': 11.478479374737452,\n",
       " '좋은': 8.634639106940535,\n",
       " '줄게': 4.988139469204354,\n",
       " '처음': 6.772275424336306,\n",
       " '하고': 5.252485401656694,\n",
       " '하는': 5.604940182645972,\n",
       " '하루': 5.753299908548313,\n",
       " '하지': 5.51409788617016,\n",
       " '하지만': 5.620481696971285,\n",
       " '함께': 14.827541950778038,\n",
       " '항상': 6.848748693078041,\n",
       " '해도': 6.491858603631452,\n",
       " '행복해져라': 0.9994007138615884}"
      ]
     },
     "execution_count": 185,
     "metadata": {},
     "output_type": "execute_result"
    }
   ],
   "source": [
    "WC = WordCloud(font_path='NanumBarunGothic.ttf' ,background_color='white', width=400, height=300)\n",
    "count_dic = word_count.set_index('단어')['빈도'].to_dict()\n",
    "count_dic"
   ]
  },
  {
   "cell_type": "code",
   "execution_count": 187,
   "id": "355a7a16",
   "metadata": {
    "ExecuteTime": {
     "end_time": "2021-11-19T22:12:56.124617Z",
     "start_time": "2021-11-19T22:12:55.600605Z"
    }
   },
   "outputs": [
    {
     "data": {
      "image/png": "[encoded data removed]",
      "text/plain": [
       "<PIL.Image.Image image mode=RGB size=400x300 at 0x1EB88B50880>"
      ]
     },
     "execution_count": 187,
     "metadata": {},
     "output_type": "execute_result"
    }
   ],
   "source": [
    "cloud = WC.generate_from_frequencies(count_dic)\n",
    "cloud.to_image()"
   ]
  },
  {
   "cell_type": "markdown",
   "id": "21df41d0",
   "metadata": {},
   "source": [
    "---"
   ]
  },
  {
   "cell_type": "markdown",
   "id": "0f7caaaa",
   "metadata": {},
   "source": [
    "## 가사 기반 코사인 유사도 적용"
   ]
  },
  {
   "cell_type": "code",
   "execution_count": 172,
   "id": "790acb1b",
   "metadata": {
    "ExecuteTime": {
     "end_time": "2021-11-19T21:57:33.383269Z",
     "start_time": "2021-11-19T21:57:33.319303Z"
    }
   },
   "outputs": [
    {
     "name": "stdout",
     "output_type": "stream",
     "text": [
      "(279, 100)\n"
     ]
    }
   ],
   "source": [
    "from sklearn.feature_extraction.text import TfidfVectorizer\n",
    "tfidf = TfidfVectorizer(max_features = 100, stop_words=stop_w)\n",
    "tfidf_matrix = tfidf.fit_transform(joy['Lyric'])\n",
    "print(tfidf_matrix.shape) "
   ]
  },
  {
   "cell_type": "code",
   "execution_count": 173,
   "id": "925909c3",
   "metadata": {
    "ExecuteTime": {
     "end_time": "2021-11-19T21:57:35.737168Z",
     "start_time": "2021-11-19T21:57:35.723171Z"
    }
   },
   "outputs": [],
   "source": [
    "from sklearn.metrics.pairwise import linear_kernel\n",
    "cos_sim = linear_kernel(tfidf_matrix, tfidf_matrix)"
   ]
  },
  {
   "cell_type": "code",
   "execution_count": 174,
   "id": "5faae90c",
   "metadata": {
    "ExecuteTime": {
     "end_time": "2021-11-19T21:57:36.796515Z",
     "start_time": "2021-11-19T21:57:36.783516Z"
    }
   },
   "outputs": [
    {
     "data": {
      "text/plain": [
       "song_name\n",
       "You and I                          0\n",
       "그렇게 됐나 봐 (아는 여자애 X 이민혁)            1\n",
       "나 그댈위해 시 한편을 쓰겠어                   2\n",
       "셔터 (Shutter)                       3\n",
       "Our Blue (아는 여자애 X CHEEZE (치즈))    4\n",
       "Hold Me Back                       5\n",
       "둘이                                 6\n",
       "Welcome (feat. Daowl)              7\n",
       "널 좋아, 좋아해                          8\n",
       "우리의 이야기                            9\n",
       "dtype: int64"
      ]
     },
     "execution_count": 174,
     "metadata": {},
     "output_type": "execute_result"
    }
   ],
   "source": [
    "row_number = pd.Series(joy.index, index = joy['song_name']).drop_duplicates()\n",
    "row_number.head(10)"
   ]
  },
  {
   "cell_type": "code",
   "execution_count": 189,
   "id": "cbc755c3",
   "metadata": {
    "ExecuteTime": {
     "end_time": "2021-11-19T22:13:31.745025Z",
     "start_time": "2021-11-19T22:13:31.726567Z"
    }
   },
   "outputs": [
    {
     "data": {
      "text/plain": [
       "array(['You and I', '그렇게 됐나 봐 (아는 여자애 X 이민혁)', '나 그댈위해 시 한편을 쓰겠어',\n",
       "       '셔터 (Shutter)', 'Our Blue (아는 여자애 X CHEEZE (치즈))', 'Hold Me Back',\n",
       "       '둘이', 'Welcome (feat. Daowl)', '널 좋아, 좋아해', '우리의 이야기'],\n",
       "      dtype=object)"
      ]
     },
     "execution_count": 189,
     "metadata": {},
     "output_type": "execute_result"
    }
   ],
   "source": [
    "joy.song_name.unique()[:10]"
   ]
  },
  {
   "cell_type": "code",
   "execution_count": 180,
   "id": "84ae727b",
   "metadata": {
    "ExecuteTime": {
     "end_time": "2021-11-19T22:03:22.882773Z",
     "start_time": "2021-11-19T22:03:22.875767Z"
    }
   },
   "outputs": [],
   "source": [
    "def rec_title(title, cos_sim=cos_sim):\n",
    "    # 제목에 부여된 번호 저장\n",
    "    idx = row_number[title]\n",
    "\n",
    "    # 모든 노래와 해당 노래의 유사도를 저장\n",
    "    score = list(enumerate(cos_sim[idx]))\n",
    "\n",
    "    # 유사도에 따라 노래들을 정렬\n",
    "    score = sorted(score, key=lambda x: x[1], reverse=True)\n",
    "\n",
    "    # 내용상 가장 유사한 5개의 노래를 받아온다.\n",
    "    title_list = score[0:5]\n",
    "\n",
    "    # 해당 노래들의 인덱스를 저장\n",
    "    music_idx = [n[0] for n in title_list]\n",
    "\n",
    "    # 인덱싱을 이용해 노래 제목을 반환\n",
    "    return joy['song_name'].iloc[music_idx]"
   ]
  },
  {
   "cell_type": "code",
   "execution_count": 181,
   "id": "728ebf9e",
   "metadata": {
    "ExecuteTime": {
     "end_time": "2021-11-19T22:03:23.828933Z",
     "start_time": "2021-11-19T22:03:23.806936Z"
    }
   },
   "outputs": [
    {
     "data": {
      "text/plain": [
       "142    내사랑 투유 (duet with 홍서범)\n",
       "65              Waiting For U\n",
       "149                 내 남자 친구에게\n",
       "269                        축복\n",
       "123                  Hug (포옹)\n",
       "Name: song_name, dtype: object"
      ]
     },
     "execution_count": 181,
     "metadata": {},
     "output_type": "execute_result"
    }
   ],
   "source": [
    "rec_title('비밀번호 486')"
   ]
  },
  {
   "cell_type": "code",
   "execution_count": 183,
   "id": "3b11c100",
   "metadata": {
    "ExecuteTime": {
     "end_time": "2021-11-19T22:08:28.851064Z",
     "start_time": "2021-11-19T22:08:28.828062Z"
    }
   },
   "outputs": [
    {
     "data": {
      "text/plain": [
       "110     P.S. I Love You\n",
       "157                그대라면\n",
       "85             사랑하기 때문에\n",
       "81     감사 (Bonus Track)\n",
       "154                  고백\n",
       "Name: song_name, dtype: object"
      ]
     },
     "execution_count": 183,
     "metadata": {},
     "output_type": "execute_result"
    }
   ],
   "source": [
    "rec_title('가을편지')"
   ]
  },
  {
   "cell_type": "code",
   "execution_count": 184,
   "id": "dcbda26a",
   "metadata": {
    "ExecuteTime": {
     "end_time": "2021-11-19T22:09:37.433197Z",
     "start_time": "2021-11-19T22:09:37.422121Z"
    }
   },
   "outputs": [
    {
     "data": {
      "text/plain": [
       "133    금요일에 만나요 (feat. 장이정 Of History)\n",
       "53                                 토요일\n",
       "1              그렇게 됐나 봐 (아는 여자애 X 이민혁)\n",
       "9                              우리의 이야기\n",
       "251                            사랑한다는 말\n",
       "Name: song_name, dtype: object"
      ]
     },
     "execution_count": 184,
     "metadata": {},
     "output_type": "execute_result"
    }
   ],
   "source": [
    "rec_title('좋은 날')"
   ]
  },
  {
   "cell_type": "code",
   "execution_count": null,
   "id": "480c025a",
   "metadata": {},
   "outputs": [],
   "source": []
  }
 ],
 "metadata": {
  "hide_input": false,
  "kernelspec": {
   "display_name": "Python 3",
   "language": "python",
   "name": "python3"
  },
  "language_info": {
   "codemirror_mode": {
    "name": "ipython",
    "version": 3
   },
   "file_extension": ".py",
   "mimetype": "text/x-python",
   "name": "python",
   "nbconvert_exporter": "python",
   "pygments_lexer": "ipython3",
   "version": "3.8.8"
  },
  "toc": {
   "base_numbering": 1,
   "nav_menu": {},
   "number_sections": true,
   "sideBar": true,
   "skip_h1_title": false,
   "title_cell": "Table of Contents",
   "title_sidebar": "Contents",
   "toc_cell": false,
   "toc_position": {},
   "toc_section_display": true,
   "toc_window_display": false
  },
  "varInspector": {
   "cols": {
    "lenName": 16,
    "lenType": 16,
    "lenVar": 40
   },
   "kernels_config": {
    "python": {
     "delete_cmd_postfix": "",
     "delete_cmd_prefix": "del ",
     "library": "var_list.py",
     "varRefreshCmd": "print(var_dic_list())"
    },
    "r": {
     "delete_cmd_postfix": ") ",
     "delete_cmd_prefix": "rm(",
     "library": "var_list.r",
     "varRefreshCmd": "cat(var_dic_list()) "
    }
   },
   "types_to_exclude": [
    "module",
    "function",
    "builtin_function_or_method",
    "instance",
    "_Feature"
   ],
   "window_display": false
  }
 },
 "nbformat": 4,
 "nbformat_minor": 5
}
