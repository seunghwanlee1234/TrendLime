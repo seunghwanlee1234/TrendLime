{
 "cells": [
  {
   "cell_type": "code",
   "execution_count": 1,
   "id": "ff9c3b57",
   "metadata": {
    "ExecuteTime": {
     "end_time": "2021-12-09T01:24:39.410806Z",
     "start_time": "2021-12-09T01:24:15.062950Z"
    }
   },
   "outputs": [],
   "source": [
    "import re\n",
    "import requests\n",
    "from bs4 import BeautifulSoup\n",
    "import pandas as pd\n",
    "from konlpy.tag import Okt  \n",
    "okt = Okt() \n",
    "import tensorflow as tf\n",
    "import numpy as np\n",
    "from collections import Counter\n",
    "from wordcloud import WordCloud\n",
    "import matplotlib.pyplot as plt\n",
    "\n",
    "\n",
    "import urllib.request\n",
    "from tqdm import tqdm\n",
    "from tensorflow.keras.preprocessing.text import Tokenizer\n",
    "from tensorflow.keras.preprocessing.sequence import pad_sequences\n",
    "from sklearn.model_selection import train_test_split"
   ]
  },
  {
   "cell_type": "code",
   "execution_count": 2,
   "id": "fd75dee7",
   "metadata": {
    "ExecuteTime": {
     "end_time": "2021-12-09T01:24:39.442457Z",
     "start_time": "2021-12-09T01:24:39.416454Z"
    }
   },
   "outputs": [],
   "source": [
    "import matplotlib.pyplot as plt \n",
    "%matplotlib inline\n",
    "from string import punctuation\n",
    "import warnings\n",
    "warnings.filterwarnings('ignore')"
   ]
  },
  {
   "cell_type": "code",
   "execution_count": 3,
   "id": "21e83fa7",
   "metadata": {
    "ExecuteTime": {
     "end_time": "2021-12-09T01:24:39.994991Z",
     "start_time": "2021-12-09T01:24:39.448509Z"
    },
    "scrolled": true
   },
   "outputs": [
    {
     "data": {
      "text/html": [
       "<div>\n",
       "<style scoped>\n",
       "    .dataframe tbody tr th:only-of-type {\n",
       "        vertical-align: middle;\n",
       "    }\n",
       "\n",
       "    .dataframe tbody tr th {\n",
       "        vertical-align: top;\n",
       "    }\n",
       "\n",
       "    .dataframe thead th {\n",
       "        text-align: right;\n",
       "    }\n",
       "</style>\n",
       "<table border=\"1\" class=\"dataframe\">\n",
       "  <thead>\n",
       "    <tr style=\"text-align: right;\">\n",
       "      <th></th>\n",
       "      <th>Sentence</th>\n",
       "      <th>Emotion</th>\n",
       "    </tr>\n",
       "  </thead>\n",
       "  <tbody>\n",
       "    <tr>\n",
       "      <th>0</th>\n",
       "      <td>언니 동생으로 부르는게 맞는 일인가요..??</td>\n",
       "      <td>공포</td>\n",
       "    </tr>\n",
       "  </tbody>\n",
       "</table>\n",
       "</div>"
      ],
      "text/plain": [
       "                   Sentence Emotion\n",
       "0  언니 동생으로 부르는게 맞는 일인가요..??      공포"
      ]
     },
     "execution_count": 3,
     "metadata": {},
     "output_type": "execute_result"
    }
   ],
   "source": [
    "emotion = pd.read_csv('emotion_dataset.csv')\n",
    "emotion.head(1)"
   ]
  },
  {
   "cell_type": "code",
   "execution_count": 4,
   "id": "f82a2752",
   "metadata": {
    "ExecuteTime": {
     "end_time": "2021-12-09T01:24:40.056985Z",
     "start_time": "2021-12-09T01:24:40.001827Z"
    }
   },
   "outputs": [
    {
     "name": "stdout",
     "output_type": "stream",
     "text": [
      "<class 'pandas.core.frame.DataFrame'>\n",
      "RangeIndex: 38594 entries, 0 to 38593\n",
      "Data columns (total 2 columns):\n",
      " #   Column    Non-Null Count  Dtype \n",
      "---  ------    --------------  ----- \n",
      " 0   Sentence  38594 non-null  object\n",
      " 1   Emotion   38594 non-null  object\n",
      "dtypes: object(2)\n",
      "memory usage: 603.2+ KB\n"
     ]
    }
   ],
   "source": [
    "emotion.info()"
   ]
  },
  {
   "cell_type": "markdown",
   "id": "8e64f845",
   "metadata": {},
   "source": [
    "## 전처리"
   ]
  },
  {
   "cell_type": "code",
   "execution_count": 5,
   "id": "308043da",
   "metadata": {
    "ExecuteTime": {
     "end_time": "2021-12-09T01:24:40.103119Z",
     "start_time": "2021-12-09T01:24:40.062827Z"
    }
   },
   "outputs": [
    {
     "data": {
      "text/html": [
       "<div>\n",
       "<style scoped>\n",
       "    .dataframe tbody tr th:only-of-type {\n",
       "        vertical-align: middle;\n",
       "    }\n",
       "\n",
       "    .dataframe tbody tr th {\n",
       "        vertical-align: top;\n",
       "    }\n",
       "\n",
       "    .dataframe thead th {\n",
       "        text-align: right;\n",
       "    }\n",
       "</style>\n",
       "<table border=\"1\" class=\"dataframe\">\n",
       "  <thead>\n",
       "    <tr style=\"text-align: right;\">\n",
       "      <th></th>\n",
       "      <th>Sentence</th>\n",
       "      <th>Emotion</th>\n",
       "    </tr>\n",
       "  </thead>\n",
       "  <tbody>\n",
       "    <tr>\n",
       "      <th>0</th>\n",
       "      <td>언니 동생으로 부르는게 맞는 일인가요..??</td>\n",
       "      <td>공포</td>\n",
       "    </tr>\n",
       "    <tr>\n",
       "      <th>1</th>\n",
       "      <td>그냥 내 느낌일뿐겠지?</td>\n",
       "      <td>공포</td>\n",
       "    </tr>\n",
       "    <tr>\n",
       "      <th>2</th>\n",
       "      <td>아직너무초기라서 그런거죠?</td>\n",
       "      <td>공포</td>\n",
       "    </tr>\n",
       "    <tr>\n",
       "      <th>3</th>\n",
       "      <td>유치원버스 사고 낫다던데</td>\n",
       "      <td>공포</td>\n",
       "    </tr>\n",
       "    <tr>\n",
       "      <th>4</th>\n",
       "      <td>근데 원래이런거맞나요</td>\n",
       "      <td>공포</td>\n",
       "    </tr>\n",
       "    <tr>\n",
       "      <th>...</th>\n",
       "      <td>...</td>\n",
       "      <td>...</td>\n",
       "    </tr>\n",
       "    <tr>\n",
       "      <th>38589</th>\n",
       "      <td>솔직히 예보 제대로 못하는 데 세금이라도 아끼게 그냥 폐지해라..</td>\n",
       "      <td>혐오</td>\n",
       "    </tr>\n",
       "    <tr>\n",
       "      <th>38590</th>\n",
       "      <td>재미가 없으니 망하지</td>\n",
       "      <td>혐오</td>\n",
       "    </tr>\n",
       "    <tr>\n",
       "      <th>38591</th>\n",
       "      <td>공장 도시락 비우생적임 아르바이트했는데 화장실가성 손도 않씯고 재료 담고 바닥 떨어...</td>\n",
       "      <td>혐오</td>\n",
       "    </tr>\n",
       "    <tr>\n",
       "      <th>38592</th>\n",
       "      <td>코딱지 만한 나라에서 지들끼리 피터지게 싸우는 센징 클래스 ㅉㅉㅉ</td>\n",
       "      <td>혐오</td>\n",
       "    </tr>\n",
       "    <tr>\n",
       "      <th>38593</th>\n",
       "      <td>와이프도 그렇고 댓글 다 볼텐데 이휘재 좀 하차 하라고 전해주세요</td>\n",
       "      <td>혐오</td>\n",
       "    </tr>\n",
       "  </tbody>\n",
       "</table>\n",
       "<p>38594 rows × 2 columns</p>\n",
       "</div>"
      ],
      "text/plain": [
       "                                                Sentence Emotion\n",
       "0                               언니 동생으로 부르는게 맞는 일인가요..??      공포\n",
       "1                                           그냥 내 느낌일뿐겠지?      공포\n",
       "2                                         아직너무초기라서 그런거죠?      공포\n",
       "3                                          유치원버스 사고 낫다던데      공포\n",
       "4                                            근데 원래이런거맞나요      공포\n",
       "...                                                  ...     ...\n",
       "38589               솔직히 예보 제대로 못하는 데 세금이라도 아끼게 그냥 폐지해라..      혐오\n",
       "38590                                        재미가 없으니 망하지      혐오\n",
       "38591  공장 도시락 비우생적임 아르바이트했는데 화장실가성 손도 않씯고 재료 담고 바닥 떨어...      혐오\n",
       "38592               코딱지 만한 나라에서 지들끼리 피터지게 싸우는 센징 클래스 ㅉㅉㅉ      혐오\n",
       "38593               와이프도 그렇고 댓글 다 볼텐데 이휘재 좀 하차 하라고 전해주세요      혐오\n",
       "\n",
       "[38594 rows x 2 columns]"
      ]
     },
     "execution_count": 5,
     "metadata": {},
     "output_type": "execute_result"
    }
   ],
   "source": [
    "emotion "
   ]
  },
  {
   "cell_type": "code",
   "execution_count": 6,
   "id": "e5aeebd2",
   "metadata": {
    "ExecuteTime": {
     "end_time": "2021-12-09T01:24:40.277884Z",
     "start_time": "2021-12-09T01:24:40.108830Z"
    }
   },
   "outputs": [
    {
     "data": {
      "text/html": [
       "<div>\n",
       "<style scoped>\n",
       "    .dataframe tbody tr th:only-of-type {\n",
       "        vertical-align: middle;\n",
       "    }\n",
       "\n",
       "    .dataframe tbody tr th {\n",
       "        vertical-align: top;\n",
       "    }\n",
       "\n",
       "    .dataframe thead th {\n",
       "        text-align: right;\n",
       "    }\n",
       "</style>\n",
       "<table border=\"1\" class=\"dataframe\">\n",
       "  <thead>\n",
       "    <tr style=\"text-align: right;\">\n",
       "      <th></th>\n",
       "      <th>Sentence</th>\n",
       "      <th>Emotion</th>\n",
       "    </tr>\n",
       "  </thead>\n",
       "  <tbody>\n",
       "    <tr>\n",
       "      <th>0</th>\n",
       "      <td>언니 동생으로 부르는게 맞는 일인가요</td>\n",
       "      <td>공포</td>\n",
       "    </tr>\n",
       "    <tr>\n",
       "      <th>1</th>\n",
       "      <td>그냥 내 느낌일뿐겠지</td>\n",
       "      <td>공포</td>\n",
       "    </tr>\n",
       "    <tr>\n",
       "      <th>2</th>\n",
       "      <td>아직너무초기라서 그런거죠</td>\n",
       "      <td>공포</td>\n",
       "    </tr>\n",
       "    <tr>\n",
       "      <th>3</th>\n",
       "      <td>유치원버스 사고 낫다던데</td>\n",
       "      <td>공포</td>\n",
       "    </tr>\n",
       "    <tr>\n",
       "      <th>4</th>\n",
       "      <td>근데 원래이런거맞나요</td>\n",
       "      <td>공포</td>\n",
       "    </tr>\n",
       "  </tbody>\n",
       "</table>\n",
       "</div>"
      ],
      "text/plain": [
       "               Sentence Emotion\n",
       "0  언니 동생으로 부르는게 맞는 일인가요      공포\n",
       "1           그냥 내 느낌일뿐겠지      공포\n",
       "2         아직너무초기라서 그런거죠      공포\n",
       "3         유치원버스 사고 낫다던데      공포\n",
       "4           근데 원래이런거맞나요      공포"
      ]
     },
     "execution_count": 6,
     "metadata": {},
     "output_type": "execute_result"
    }
   ],
   "source": [
    "emotion['Sentence'] = emotion['Sentence'].str.replace(\"[^ㄱ-ㅎㅏ-ㅣ가-힣 ]\",\"\")\n",
    "# 한글과 공백을 제외하고 모두 제거\n",
    "emotion[:5]"
   ]
  },
  {
   "cell_type": "code",
   "execution_count": 7,
   "id": "42805b00",
   "metadata": {
    "ExecuteTime": {
     "end_time": "2021-12-09T01:24:40.468038Z",
     "start_time": "2021-12-09T01:24:40.283544Z"
    }
   },
   "outputs": [
    {
     "name": "stdout",
     "output_type": "stream",
     "text": [
      "Sentence    2\n",
      "Emotion     0\n",
      "dtype: int64\n"
     ]
    }
   ],
   "source": [
    "emotion['Sentence'] = emotion['Sentence'].str.replace('^ +', \"\") # white space 데이터를 empty value로 변경\n",
    "emotion['Sentence'].replace('', np.nan, inplace=True)\n",
    "print(emotion.isnull().sum())"
   ]
  },
  {
   "cell_type": "code",
   "execution_count": null,
   "id": "9e70b782",
   "metadata": {},
   "outputs": [],
   "source": []
  },
  {
   "cell_type": "code",
   "execution_count": 8,
   "id": "c0f316c3",
   "metadata": {
    "ExecuteTime": {
     "end_time": "2021-12-09T01:24:40.516003Z",
     "start_time": "2021-12-09T01:24:40.477829Z"
    }
   },
   "outputs": [
    {
     "data": {
      "text/html": [
       "<div>\n",
       "<style scoped>\n",
       "    .dataframe tbody tr th:only-of-type {\n",
       "        vertical-align: middle;\n",
       "    }\n",
       "\n",
       "    .dataframe tbody tr th {\n",
       "        vertical-align: top;\n",
       "    }\n",
       "\n",
       "    .dataframe thead th {\n",
       "        text-align: right;\n",
       "    }\n",
       "</style>\n",
       "<table border=\"1\" class=\"dataframe\">\n",
       "  <thead>\n",
       "    <tr style=\"text-align: right;\">\n",
       "      <th></th>\n",
       "      <th>Sentence</th>\n",
       "      <th>Emotion</th>\n",
       "    </tr>\n",
       "  </thead>\n",
       "  <tbody>\n",
       "    <tr>\n",
       "      <th>10149</th>\n",
       "      <td>NaN</td>\n",
       "      <td>놀람</td>\n",
       "    </tr>\n",
       "    <tr>\n",
       "      <th>31822</th>\n",
       "      <td>NaN</td>\n",
       "      <td>행복</td>\n",
       "    </tr>\n",
       "  </tbody>\n",
       "</table>\n",
       "</div>"
      ],
      "text/plain": [
       "      Sentence Emotion\n",
       "10149      NaN      놀람\n",
       "31822      NaN      행복"
      ]
     },
     "execution_count": 8,
     "metadata": {},
     "output_type": "execute_result"
    }
   ],
   "source": [
    "emotion[emotion['Sentence'].isnull()]"
   ]
  },
  {
   "cell_type": "code",
   "execution_count": 9,
   "id": "6c8e679c",
   "metadata": {
    "ExecuteTime": {
     "end_time": "2021-12-09T01:24:40.611279Z",
     "start_time": "2021-12-09T01:24:40.521831Z"
    }
   },
   "outputs": [
    {
     "name": "stdout",
     "output_type": "stream",
     "text": [
      "전처리 후 데이터의 개수 : 38592\n"
     ]
    }
   ],
   "source": [
    "emotion = emotion.dropna(how = 'any')\n",
    "print('전처리 후 데이터의 개수 :',len(emotion))"
   ]
  },
  {
   "cell_type": "markdown",
   "id": "3873723c",
   "metadata": {},
   "source": [
    "## 데이터 라벨링"
   ]
  },
  {
   "cell_type": "code",
   "execution_count": 10,
   "id": "9287bf15",
   "metadata": {
    "ExecuteTime": {
     "end_time": "2021-12-09T01:24:40.705828Z",
     "start_time": "2021-12-09T01:24:40.616895Z"
    }
   },
   "outputs": [],
   "source": [
    "emotion.loc[(emotion['Emotion'] == \"공포\"), 'Emotion'] = 0  #공포 => 0\n",
    "emotion.loc[(emotion['Emotion'] == \"놀람\"), 'Emotion'] = 1  #놀람 => 1\n",
    "emotion.loc[(emotion['Emotion'] == \"분노\"), 'Emotion'] = 2  #분노 => 2\n",
    "emotion.loc[(emotion['Emotion'] == \"슬픔\"), 'Emotion'] = 3  #슬픔 => 3\n",
    "emotion.loc[(emotion['Emotion'] == \"중립\"), 'Emotion'] = 4  #중립 => 4\n",
    "emotion.loc[(emotion['Emotion'] == \"행복\"), 'Emotion'] = 5  #행복 => 5\n",
    "emotion.loc[(emotion['Emotion'] == \"혐오\"), 'Emotion'] = 6  #혐오 => 6"
   ]
  },
  {
   "cell_type": "markdown",
   "id": "08c7b70c",
   "metadata": {},
   "source": [
    "## 데이터 형변환 object -> int"
   ]
  },
  {
   "cell_type": "code",
   "execution_count": 11,
   "id": "2acf3ee3",
   "metadata": {
    "ExecuteTime": {
     "end_time": "2021-12-09T01:24:40.720954Z",
     "start_time": "2021-12-09T01:24:40.710831Z"
    }
   },
   "outputs": [],
   "source": [
    "## 시도 1 astype()으로 변경"
   ]
  },
  {
   "cell_type": "code",
   "execution_count": 12,
   "id": "8a36f0f1",
   "metadata": {
    "ExecuteTime": {
     "end_time": "2021-12-09T01:24:40.752037Z",
     "start_time": "2021-12-09T01:24:40.729837Z"
    }
   },
   "outputs": [],
   "source": [
    "emotion.Emotion = emotion.Emotion.astype(int)"
   ]
  },
  {
   "cell_type": "code",
   "execution_count": 13,
   "id": "04659bd0",
   "metadata": {
    "ExecuteTime": {
     "end_time": "2021-12-09T01:24:40.798121Z",
     "start_time": "2021-12-09T01:24:40.756825Z"
    }
   },
   "outputs": [
    {
     "name": "stdout",
     "output_type": "stream",
     "text": [
      "<class 'pandas.core.frame.DataFrame'>\n",
      "Int64Index: 38592 entries, 0 to 38593\n",
      "Data columns (total 2 columns):\n",
      " #   Column    Non-Null Count  Dtype \n",
      "---  ------    --------------  ----- \n",
      " 0   Sentence  38592 non-null  object\n",
      " 1   Emotion   38592 non-null  int32 \n",
      "dtypes: int32(1), object(1)\n",
      "memory usage: 753.8+ KB\n"
     ]
    }
   ],
   "source": [
    "emotion.info()"
   ]
  },
  {
   "cell_type": "code",
   "execution_count": 14,
   "id": "49974679",
   "metadata": {
    "ExecuteTime": {
     "end_time": "2021-12-09T01:24:40.829823Z",
     "start_time": "2021-12-09T01:24:40.803827Z"
    }
   },
   "outputs": [
    {
     "data": {
      "text/plain": [
       "array([0, 1, 2, 3, 4, 5, 6])"
      ]
     },
     "execution_count": 14,
     "metadata": {},
     "output_type": "execute_result"
    }
   ],
   "source": [
    "emotion.Emotion.unique()"
   ]
  },
  {
   "cell_type": "markdown",
   "id": "c1cb5f7a",
   "metadata": {
    "ExecuteTime": {
     "end_time": "2021-12-02T00:50:13.897329Z",
     "start_time": "2021-12-02T00:50:13.890368Z"
    }
   },
   "source": [
    "---"
   ]
  },
  {
   "cell_type": "code",
   "execution_count": 15,
   "id": "3c74b646",
   "metadata": {
    "ExecuteTime": {
     "end_time": "2021-12-09T01:24:40.845833Z",
     "start_time": "2021-12-09T01:24:40.833866Z"
    }
   },
   "outputs": [],
   "source": [
    "## 시도 2 하나씩 분리해서 다시 append"
   ]
  },
  {
   "cell_type": "code",
   "execution_count": 16,
   "id": "24b5f851",
   "metadata": {
    "ExecuteTime": {
     "end_time": "2021-12-09T01:24:40.878175Z",
     "start_time": "2021-12-09T01:24:40.850836Z"
    }
   },
   "outputs": [],
   "source": [
    "fear = emotion[emotion['Emotion'] == 0]\n",
    "fear['Emotion'] = 0"
   ]
  },
  {
   "cell_type": "code",
   "execution_count": 17,
   "id": "98ef3c64",
   "metadata": {
    "ExecuteTime": {
     "end_time": "2021-12-09T01:24:40.908872Z",
     "start_time": "2021-12-09T01:24:40.881831Z"
    }
   },
   "outputs": [],
   "source": [
    "sur = emotion[emotion['Emotion'] == 1]\n",
    "sur['Emotion'] = 1"
   ]
  },
  {
   "cell_type": "code",
   "execution_count": 18,
   "id": "0bf922b2",
   "metadata": {
    "ExecuteTime": {
     "end_time": "2021-12-09T01:24:40.956822Z",
     "start_time": "2021-12-09T01:24:40.913822Z"
    }
   },
   "outputs": [],
   "source": [
    "ang = emotion[emotion['Emotion'] == 2]\n",
    "ang['Emotion'] = 2\n",
    "sad = emotion[emotion['Emotion'] == 3]\n",
    "sad['Emotion'] = 3\n",
    "neu = emotion[emotion['Emotion'] == 4]\n",
    "neu['Emotion'] = 4\n",
    "joy = emotion[emotion['Emotion'] == 5]\n",
    "joy['Emotion'] = 5\n",
    "hat = emotion[emotion['Emotion'] == 6]\n",
    "hat['Emotion'] = 6"
   ]
  },
  {
   "cell_type": "code",
   "execution_count": 19,
   "id": "e79f5960",
   "metadata": {
    "ExecuteTime": {
     "end_time": "2021-12-09T01:24:40.987829Z",
     "start_time": "2021-12-09T01:24:40.966827Z"
    }
   },
   "outputs": [],
   "source": [
    "emotion = fear.append(sur)"
   ]
  },
  {
   "cell_type": "code",
   "execution_count": 20,
   "id": "79e147b4",
   "metadata": {
    "ExecuteTime": {
     "end_time": "2021-12-09T01:24:41.035418Z",
     "start_time": "2021-12-09T01:24:40.993867Z"
    }
   },
   "outputs": [],
   "source": [
    "emotion = emotion.append(ang)\n",
    "emotion = emotion.append(sad)\n",
    "emotion = emotion.append(neu)\n",
    "emotion = emotion.append(joy)\n",
    "emotion = emotion.append(hat)"
   ]
  },
  {
   "cell_type": "markdown",
   "id": "a88b833c",
   "metadata": {
    "ExecuteTime": {
     "end_time": "2021-12-02T02:48:27.161121Z",
     "start_time": "2021-12-02T02:48:27.146127Z"
    }
   },
   "source": [
    "---"
   ]
  },
  {
   "cell_type": "code",
   "execution_count": 21,
   "id": "ce13b425",
   "metadata": {
    "ExecuteTime": {
     "end_time": "2021-12-09T01:24:41.066007Z",
     "start_time": "2021-12-09T01:24:41.040825Z"
    }
   },
   "outputs": [
    {
     "data": {
      "text/plain": [
       "(38592, 2)"
      ]
     },
     "execution_count": 21,
     "metadata": {},
     "output_type": "execute_result"
    }
   ],
   "source": [
    "emotion.shape"
   ]
  },
  {
   "cell_type": "code",
   "execution_count": 22,
   "id": "a33b71e4",
   "metadata": {
    "ExecuteTime": {
     "end_time": "2021-12-09T01:24:41.081840Z",
     "start_time": "2021-12-09T01:24:41.071253Z"
    }
   },
   "outputs": [],
   "source": [
    "# print(data_list[0])\n",
    "# print(data_list[6000])\n",
    "# print(data_list[12000])\n",
    "# print(data_list[18000])\n",
    "# print(data_list[24000])\n",
    "# print(data_list[30000])\n",
    "# print(data_list[-1])"
   ]
  },
  {
   "cell_type": "code",
   "execution_count": 23,
   "id": "1cafcae0",
   "metadata": {
    "ExecuteTime": {
     "end_time": "2021-12-09T01:24:41.113037Z",
     "start_time": "2021-12-09T01:24:41.098833Z"
    }
   },
   "outputs": [],
   "source": [
    "emotion.reset_index(drop=True,inplace=True)"
   ]
  },
  {
   "cell_type": "code",
   "execution_count": 24,
   "id": "6fa8216f",
   "metadata": {
    "ExecuteTime": {
     "end_time": "2021-12-09T01:24:41.145134Z",
     "start_time": "2021-12-09T01:24:41.120832Z"
    }
   },
   "outputs": [
    {
     "data": {
      "text/plain": [
       "numpy.int64"
      ]
     },
     "execution_count": 24,
     "metadata": {},
     "output_type": "execute_result"
    }
   ],
   "source": [
    "type(emotion['Emotion'].iloc[0])"
   ]
  },
  {
   "cell_type": "markdown",
   "id": "99e99197",
   "metadata": {},
   "source": [
    "## 데이터 분리"
   ]
  },
  {
   "cell_type": "code",
   "execution_count": 25,
   "id": "c5b65a79",
   "metadata": {
    "ExecuteTime": {
     "end_time": "2021-12-09T01:24:41.176824Z",
     "start_time": "2021-12-09T01:24:41.149824Z"
    }
   },
   "outputs": [],
   "source": [
    "train_data, test_data = train_test_split(\n",
    "  emotion,\n",
    "  test_size = 0.25,\n",
    "  random_state = 5\n",
    ")"
   ]
  },
  {
   "cell_type": "code",
   "execution_count": 26,
   "id": "4fa038ec",
   "metadata": {
    "ExecuteTime": {
     "end_time": "2021-12-09T01:24:41.207326Z",
     "start_time": "2021-12-09T01:24:41.182835Z"
    }
   },
   "outputs": [
    {
     "data": {
      "text/html": [
       "<div>\n",
       "<style scoped>\n",
       "    .dataframe tbody tr th:only-of-type {\n",
       "        vertical-align: middle;\n",
       "    }\n",
       "\n",
       "    .dataframe tbody tr th {\n",
       "        vertical-align: top;\n",
       "    }\n",
       "\n",
       "    .dataframe thead th {\n",
       "        text-align: right;\n",
       "    }\n",
       "</style>\n",
       "<table border=\"1\" class=\"dataframe\">\n",
       "  <thead>\n",
       "    <tr style=\"text-align: right;\">\n",
       "      <th></th>\n",
       "      <th>Sentence</th>\n",
       "      <th>Emotion</th>\n",
       "    </tr>\n",
       "  </thead>\n",
       "  <tbody>\n",
       "    <tr>\n",
       "      <th>8793</th>\n",
       "      <td>진짜 많은 사람들앞에서 실제로 손님이 있다고치고 연습하나요</td>\n",
       "      <td>1</td>\n",
       "    </tr>\n",
       "    <tr>\n",
       "      <th>5134</th>\n",
       "      <td>남자친구한테 기대지않으려면 어떻게해야할까요</td>\n",
       "      <td>0</td>\n",
       "    </tr>\n",
       "    <tr>\n",
       "      <th>1440</th>\n",
       "      <td>유투브 땅굴 발견 전쟁임박</td>\n",
       "      <td>0</td>\n",
       "    </tr>\n",
       "  </tbody>\n",
       "</table>\n",
       "</div>"
      ],
      "text/plain": [
       "                              Sentence  Emotion\n",
       "8793  진짜 많은 사람들앞에서 실제로 손님이 있다고치고 연습하나요        1\n",
       "5134           남자친구한테 기대지않으려면 어떻게해야할까요        0\n",
       "1440                    유투브 땅굴 발견 전쟁임박        0"
      ]
     },
     "execution_count": 26,
     "metadata": {},
     "output_type": "execute_result"
    }
   ],
   "source": [
    "train_data.head(3)"
   ]
  },
  {
   "cell_type": "code",
   "execution_count": 27,
   "id": "0a64fdc8",
   "metadata": {
    "ExecuteTime": {
     "end_time": "2021-12-09T01:24:41.238833Z",
     "start_time": "2021-12-09T01:24:41.212826Z"
    }
   },
   "outputs": [],
   "source": [
    " # 불용어 (가사 빈도수 높은 + 감정분류와 무관한 단어 추가 중)\n",
    "stop_w = ['all','이렇게','네가','있는','니가','없는','너의','너무','그런',\n",
    "          'oh','whoo','tuesday','내가','너를','나를','we','this','the','그렇게',\n",
    "          'so','am','baby','and','can','you','much','me','for','go','in',\n",
    "          '은', '는', '이', '가', '하','부터','처럼','까지',\n",
    "          'know','no','of','let','my','수','너','내','나','그','난','봐',\n",
    "          '돼','건','모든','에서','에게','싶어','잖아',\n",
    "          '날','널','수','것','못','말','넌','젠','하나','정말','알','여기',\n",
    "          '우리','다시','하게','니까',\n",
    "          '때','아','더','게','또','채','일','걸','누구','나는','너는','라면',\n",
    "          '같아','있어',\n",
    "          '의','가','보','들','좀','잘','걍','과','도','를','으로','우린','하지',\n",
    "          '해도','하고','없어','않아',\n",
    "          '자','에','와','한','하다','네','있다','나의','해','다','내게','왜',\n",
    "          '거야','이제','그냥','했던','하는']"
   ]
  },
  {
   "cell_type": "code",
   "execution_count": 28,
   "id": "2aa86881",
   "metadata": {
    "ExecuteTime": {
     "end_time": "2021-12-09T01:25:40.817082Z",
     "start_time": "2021-12-09T01:24:41.244823Z"
    }
   },
   "outputs": [
    {
     "name": "stderr",
     "output_type": "stream",
     "text": [
      "100%|███████████████████████████████████████████████████████████████████████████| 28944/28944 [00:59<00:00, 486.03it/s]\n"
     ]
    }
   ],
   "source": [
    "# 학습 데이터\n",
    "X_train = []\n",
    "for sentence in tqdm(train_data['Sentence']):\n",
    "    tokenized_sentence = okt.morphs(sentence, stem=True) # 토큰화\n",
    "    stopwords_removed_sentence = [word for word in tokenized_sentence if not word in stop_w] # 불용어 제거\n",
    "    X_train.append(stopwords_removed_sentence)"
   ]
  },
  {
   "cell_type": "code",
   "execution_count": 29,
   "id": "8e444a45",
   "metadata": {
    "ExecuteTime": {
     "end_time": "2021-12-09T01:25:56.525786Z",
     "start_time": "2021-12-09T01:25:40.819040Z"
    }
   },
   "outputs": [
    {
     "name": "stderr",
     "output_type": "stream",
     "text": [
      "100%|█████████████████████████████████████████████████████████████████████████████| 9648/9648 [00:15<00:00, 614.79it/s]\n"
     ]
    }
   ],
   "source": [
    "# 테스트 데이터 \n",
    "X_test = []\n",
    "for sentence in tqdm(test_data['Sentence']):\n",
    "    tokenized_sentence = okt.morphs(sentence, stem=True) # 토큰화\n",
    "    stopwords_removed_sentence = [word for word in tokenized_sentence if not word in stop_w] # 불용어 제거\n",
    "    X_test.append(stopwords_removed_sentence)"
   ]
  },
  {
   "cell_type": "code",
   "execution_count": 30,
   "id": "e483066f",
   "metadata": {
    "ExecuteTime": {
     "end_time": "2021-12-09T01:25:56.541213Z",
     "start_time": "2021-12-09T01:25:56.527201Z"
    }
   },
   "outputs": [
    {
     "data": {
      "text/plain": [
       "[['진짜', '많다', '사람', '앞', '실제', '로', '손님', '연습', '하나요']]"
      ]
     },
     "execution_count": 30,
     "metadata": {},
     "output_type": "execute_result"
    }
   ],
   "source": [
    "X_train[:1]"
   ]
  },
  {
   "cell_type": "markdown",
   "id": "d85f0916",
   "metadata": {},
   "source": [
    "## 정답 데이터 저장"
   ]
  },
  {
   "cell_type": "code",
   "execution_count": 31,
   "id": "c2bef283",
   "metadata": {
    "ExecuteTime": {
     "end_time": "2021-12-09T01:25:56.557218Z",
     "start_time": "2021-12-09T01:25:56.545217Z"
    }
   },
   "outputs": [],
   "source": [
    "y_train = np.array(train_data['Emotion'])\n",
    "y_test = np.array(test_data['Emotion'])"
   ]
  },
  {
   "cell_type": "code",
   "execution_count": 32,
   "id": "22a2dd38",
   "metadata": {
    "ExecuteTime": {
     "end_time": "2021-12-09T01:25:56.589214Z",
     "start_time": "2021-12-09T01:25:56.570249Z"
    }
   },
   "outputs": [
    {
     "name": "stdout",
     "output_type": "stream",
     "text": [
      "[6145, 6853, 7993, 8338, 9141, 17672, 18777, 20080, 20274, 28235]\n"
     ]
    }
   ],
   "source": [
    "drop_train = [index for index, sentence in enumerate(X_train) if len(sentence) < 1]\n",
    "drop_test = [index for index, sentence in enumerate(X_test) if len(sentence) < 1]\n",
    "print(drop_train)"
   ]
  },
  {
   "cell_type": "code",
   "execution_count": 33,
   "id": "f66b921a",
   "metadata": {
    "ExecuteTime": {
     "end_time": "2021-12-09T01:25:56.653222Z",
     "start_time": "2021-12-09T01:25:56.592214Z"
    }
   },
   "outputs": [
    {
     "name": "stdout",
     "output_type": "stream",
     "text": [
      "28934\n",
      "28934\n",
      "9648\n",
      "9648\n",
      "9640\n",
      "9640\n"
     ]
    }
   ],
   "source": [
    "X_train = np.delete(X_train, drop_train, axis=0)\n",
    "y_train = np.delete(y_train, drop_train, axis=0)\n",
    "print(len(X_train))\n",
    "print(len(y_train))\n",
    "print(len(X_test))\n",
    "print(len(y_test))\n",
    "X_test = np.delete(X_test, drop_test, axis=0)\n",
    "y_test = np.delete(y_test, drop_test, axis=0)\n",
    "print(len(X_test))\n",
    "print(len(y_test))"
   ]
  },
  {
   "cell_type": "markdown",
   "id": "f936f25d",
   "metadata": {},
   "source": [
    "## 정수 인코딩"
   ]
  },
  {
   "cell_type": "code",
   "execution_count": 34,
   "id": "11070dd1",
   "metadata": {
    "ExecuteTime": {
     "end_time": "2021-12-09T01:25:56.904211Z",
     "start_time": "2021-12-09T01:25:56.660232Z"
    }
   },
   "outputs": [],
   "source": [
    "tokenizer = Tokenizer()\n",
    "tokenizer.fit_on_texts(X_train)"
   ]
  },
  {
   "cell_type": "code",
   "execution_count": 35,
   "id": "c350d61e",
   "metadata": {
    "ExecuteTime": {
     "end_time": "2021-12-09T01:25:56.920213Z",
     "start_time": "2021-12-09T01:25:56.906217Z"
    }
   },
   "outputs": [],
   "source": [
    "# print(tokenizer.word_index)\n",
    "# print(tokenizer.word_counts.items())"
   ]
  },
  {
   "cell_type": "code",
   "execution_count": 36,
   "id": "c6ae7fca",
   "metadata": {
    "ExecuteTime": {
     "end_time": "2021-12-09T01:25:56.936217Z",
     "start_time": "2021-12-09T01:25:56.924219Z"
    }
   },
   "outputs": [
    {
     "name": "stdout",
     "output_type": "stream",
     "text": [
      "[list(['진짜', '많다', '사람', '앞', '실제', '로', '손님', '연습', '하나요'])]\n"
     ]
    }
   ],
   "source": [
    "print(X_train[:1])"
   ]
  },
  {
   "cell_type": "markdown",
   "id": "c37a85fe",
   "metadata": {},
   "source": [
    "## 빈도수 확인"
   ]
  },
  {
   "cell_type": "code",
   "execution_count": 37,
   "id": "1412febb",
   "metadata": {
    "ExecuteTime": {
     "end_time": "2021-12-09T01:25:56.952218Z",
     "start_time": "2021-12-09T01:25:56.941246Z"
    }
   },
   "outputs": [],
   "source": [
    "threshold = 3\n",
    "total_cnt = len(tokenizer.word_index) # 단어의 수\n",
    "rare_cnt = 0 # 등장 빈도수가 threshold보다 작은 단어의 개수를 카운트\n",
    "total_freq = 0 # 훈련 데이터의 전체 단어 빈도수 총 합\n",
    "rare_freq = 0 # 등장 빈도수가 threshold보다 작은 단어의 등장 빈도수의 총 합"
   ]
  },
  {
   "cell_type": "code",
   "execution_count": 38,
   "id": "37a621ad",
   "metadata": {
    "ExecuteTime": {
     "end_time": "2021-12-09T01:25:56.984210Z",
     "start_time": "2021-12-09T01:25:56.955213Z"
    }
   },
   "outputs": [
    {
     "name": "stdout",
     "output_type": "stream",
     "text": [
      "단어 집합(vocabulary)의 크기 : 19774\n",
      "등장 빈도가 2번 이하인 희귀 단어의 수: 12449\n",
      "단어 집합에서 희귀 단어의 비율: 62.95640740366137\n",
      "전체 등장 빈도에서 희귀 단어 등장 빈도 비율: 8.144362146026966\n"
     ]
    }
   ],
   "source": [
    "# 단어와 빈도수의 쌍(pair)을 key와 value로 받는다.\n",
    "for key, value in tokenizer.word_counts.items():\n",
    "    total_freq = total_freq + value\n",
    "\n",
    "    # 단어의 등장 빈도수가 threshold보다 작으면\n",
    "    if(value < threshold):\n",
    "        rare_cnt = rare_cnt + 1\n",
    "        rare_freq = rare_freq + value\n",
    "\n",
    "print('단어 집합(vocabulary)의 크기 :',total_cnt)\n",
    "print('등장 빈도가 %s번 이하인 희귀 단어의 수: %s'%(threshold - 1, rare_cnt))\n",
    "print(\"단어 집합에서 희귀 단어의 비율:\", (rare_cnt / total_cnt)*100)\n",
    "print(\"전체 등장 빈도에서 희귀 단어 등장 빈도 비율:\", (rare_freq / total_freq)*100)"
   ]
  },
  {
   "cell_type": "code",
   "execution_count": 39,
   "id": "67be7ef6",
   "metadata": {
    "ExecuteTime": {
     "end_time": "2021-12-09T01:25:56.999211Z",
     "start_time": "2021-12-09T01:25:56.986213Z"
    }
   },
   "outputs": [
    {
     "name": "stdout",
     "output_type": "stream",
     "text": [
      "단어 집합의 크기 : 7326\n"
     ]
    }
   ],
   "source": [
    "# 전체 단어 개수 중 빈도수 2이하인 단어는 제거.\n",
    "# 0번 패딩 토큰을 고려하여 + 1\n",
    "vocab_size = total_cnt - rare_cnt + 1\n",
    "print('단어 집합의 크기 :',vocab_size)"
   ]
  },
  {
   "cell_type": "code",
   "execution_count": 40,
   "id": "495986dc",
   "metadata": {
    "ExecuteTime": {
     "end_time": "2021-12-09T01:25:57.461209Z",
     "start_time": "2021-12-09T01:25:57.001212Z"
    }
   },
   "outputs": [],
   "source": [
    "tokenizer = Tokenizer(vocab_size) \n",
    "tokenizer.fit_on_texts(X_train)\n",
    "X_train = tokenizer.texts_to_sequences(X_train)\n",
    "X_test = tokenizer.texts_to_sequences(X_test)"
   ]
  },
  {
   "cell_type": "markdown",
   "id": "3378c67a",
   "metadata": {
    "ExecuteTime": {
     "end_time": "2021-11-24T10:14:09.405288Z",
     "start_time": "2021-11-24T10:14:09.397289Z"
    }
   },
   "source": [
    "### 정수 인코딩 확인"
   ]
  },
  {
   "cell_type": "code",
   "execution_count": 41,
   "id": "5ac9627c",
   "metadata": {
    "ExecuteTime": {
     "end_time": "2021-12-09T01:25:57.476209Z",
     "start_time": "2021-12-09T01:25:57.464215Z"
    }
   },
   "outputs": [
    {
     "name": "stdout",
     "output_type": "stream",
     "text": [
      "[[9, 33, 14, 131, 982, 10, 1129, 1552, 747]]\n"
     ]
    }
   ],
   "source": [
    "print(X_train[:1])"
   ]
  },
  {
   "cell_type": "markdown",
   "id": "d5273fe5",
   "metadata": {},
   "source": [
    "## 패딩"
   ]
  },
  {
   "cell_type": "code",
   "execution_count": 42,
   "id": "88981f5c",
   "metadata": {
    "ExecuteTime": {
     "end_time": "2021-12-09T01:25:57.937210Z",
     "start_time": "2021-12-09T01:25:57.479217Z"
    }
   },
   "outputs": [
    {
     "name": "stdout",
     "output_type": "stream",
     "text": [
      "문장의 최대 길이 : 112\n",
      "문장의 평균 길이 : 5.9876961360337315\n"
     ]
    },
    {
     "data": {
      "image/png": "[encoded data removed]",
      "text/plain": [
       "<Figure size 432x288 with 1 Axes>"
      ]
     },
     "metadata": {
      "needs_background": "light"
     },
     "output_type": "display_data"
    }
   ],
   "source": [
    "print('문장의 최대 길이 :',max(len(l) for l in X_train))\n",
    "print('문장의 평균 길이 :',sum(map(len, X_train))/len(X_train))\n",
    "plt.hist([len(s) for s in X_train], bins=50)\n",
    "plt.xlabel('length of samples')\n",
    "plt.ylabel('number of samples')\n",
    "plt.show()"
   ]
  },
  {
   "cell_type": "code",
   "execution_count": 43,
   "id": "3d552a02",
   "metadata": {
    "ExecuteTime": {
     "end_time": "2021-12-09T01:25:57.953210Z",
     "start_time": "2021-12-09T01:25:57.939213Z"
    }
   },
   "outputs": [],
   "source": [
    "def below_threshold_len(max_len, nested_list):\n",
    "    cnt = 0\n",
    "    for s in nested_list:\n",
    "        if(len(s) <= max_len):\n",
    "            cnt = cnt + 1\n",
    "    print('전체 샘플 중 길이가 %s 이하인 샘플의 비율: %s'%(max_len, (cnt / len(nested_list))*100))"
   ]
  },
  {
   "cell_type": "code",
   "execution_count": 44,
   "id": "42abd791",
   "metadata": {
    "ExecuteTime": {
     "end_time": "2021-12-09T01:25:57.969214Z",
     "start_time": "2021-12-09T01:25:57.955215Z"
    }
   },
   "outputs": [
    {
     "name": "stdout",
     "output_type": "stream",
     "text": [
      "전체 샘플 중 길이가 20 이하인 샘플의 비율: 99.50577175641115\n"
     ]
    }
   ],
   "source": [
    "max_len = 20\n",
    "below_threshold_len(max_len, X_train)"
   ]
  },
  {
   "cell_type": "markdown",
   "id": "66f00f19",
   "metadata": {},
   "source": [
    "## 모든 샘플의 길이를 max_len로 조정"
   ]
  },
  {
   "cell_type": "code",
   "execution_count": 45,
   "id": "e78f9cf7",
   "metadata": {
    "ExecuteTime": {
     "end_time": "2021-12-09T01:25:58.175209Z",
     "start_time": "2021-12-09T01:25:57.971216Z"
    }
   },
   "outputs": [],
   "source": [
    "X_train = pad_sequences(X_train, maxlen = max_len)\n",
    "X_test = pad_sequences(X_test, maxlen = max_len)"
   ]
  },
  {
   "cell_type": "code",
   "execution_count": 46,
   "id": "fc107493",
   "metadata": {
    "ExecuteTime": {
     "end_time": "2021-12-09T01:25:58.191210Z",
     "start_time": "2021-12-09T01:25:58.177212Z"
    }
   },
   "outputs": [
    {
     "data": {
      "text/plain": [
       "array([   0,    0,    0,    0,    0,    0,    0,    0,    0,    0,    0,\n",
       "          0,    0,    0,  729,  164,   16, 2125,  269,  126])"
      ]
     },
     "execution_count": 46,
     "metadata": {},
     "output_type": "execute_result"
    }
   ],
   "source": [
    "X_test[0]"
   ]
  },
  {
   "cell_type": "markdown",
   "id": "91583ca4",
   "metadata": {},
   "source": [
    "## 모델 적용"
   ]
  },
  {
   "cell_type": "code",
   "execution_count": 47,
   "id": "075144c3",
   "metadata": {
    "ExecuteTime": {
     "end_time": "2021-12-09T01:25:58.207210Z",
     "start_time": "2021-12-09T01:25:58.192210Z"
    }
   },
   "outputs": [],
   "source": [
    "import numpy as np"
   ]
  },
  {
   "cell_type": "code",
   "execution_count": 48,
   "id": "6daca578",
   "metadata": {
    "ExecuteTime": {
     "end_time": "2021-12-09T01:25:58.223211Z",
     "start_time": "2021-12-09T01:25:58.208212Z"
    }
   },
   "outputs": [],
   "source": [
    "\n",
    "import matplotlib.pyplot as plt\n",
    "import pandas as pd\n",
    "from tensorflow.keras.layers import Dense, Flatten, Dropout, Conv2D, MaxPooling2D, LSTM, Embedding, Bidirectional,TimeDistributed\n",
    "from tensorflow.keras import Model\n",
    "from tensorflow.keras.models import Sequential\n",
    "from tensorflow.keras.models import load_model\n",
    "import tensorflow as tf\n",
    "from tensorflow.keras.callbacks import EarlyStopping, ModelCheckpoint"
   ]
  },
  {
   "cell_type": "code",
   "execution_count": 49,
   "id": "54ee2b8d",
   "metadata": {
    "ExecuteTime": {
     "end_time": "2021-12-09T01:25:58.239211Z",
     "start_time": "2021-12-09T01:25:58.225213Z"
    }
   },
   "outputs": [],
   "source": [
    "# 결과값 seq to seq : many to many"
   ]
  },
  {
   "cell_type": "code",
   "execution_count": 50,
   "id": "dd7071df",
   "metadata": {
    "ExecuteTime": {
     "end_time": "2021-12-09T01:25:58.255212Z",
     "start_time": "2021-12-09T01:25:58.241214Z"
    },
    "scrolled": true
   },
   "outputs": [],
   "source": [
    "# model = Sequential()\n",
    "# model.add(Embedding(vocab_size, 300, mask_zero=True))\n",
    "# model.add(Bidirectional(LSTM(128)))\n",
    "# model.add(Dense(64,activation=\"relu\"))\n",
    "# model.add(Dense(32,activation=\"relu\"))\n",
    "# model.add(Dense(16,activation=\"relu\"))\n",
    "# model.add(Dense(7,activation='sigmoid')) # , activation='sigmoid'"
   ]
  },
  {
   "cell_type": "markdown",
   "id": "8063b27a",
   "metadata": {},
   "source": [
    "## 적용 \n",
    "다중 분류 모델이므로\n",
    "* `softmax`\n",
    "* 7가지 감정\n",
    "* loss는 `binary_crossentropy`가 아닌  `sparse_categorical_crossentropy`로 compile"
   ]
  },
  {
   "cell_type": "markdown",
   "id": "dc64389b",
   "metadata": {},
   "source": [
    "### EarlyStopping\n",
    "* 검증 데이터 손실(val_loss)이 증가하면, 과적합 징후므로 검증 데이터 손실이 4회 증가하면 학습을 조기 종료(Early Stopping)\n",
    "* ModelCheckpoint를 사용하여 검증 데이터의 정확도(val_acc)가 이전보다 좋아질 경우에만 모델을 저장\n",
    "    * monitor = 모니터링하는 평가 지표 지정\n",
    "    * patience = 지정 학습 수(에포크) 동안 정확도가 향상되지 않으면 이후 학습을 중지"
   ]
  },
  {
   "cell_type": "markdown",
   "id": "01111d23",
   "metadata": {},
   "source": [
    "### Dropout\n",
    "* 학습 과정에서 신경망의 일부를 사용하지 않는 방법\n",
    "* ex ) 드롭아웃의 비율을 0.5로 한다면 학습 과정마다 랜덤으로 절반의 뉴런을 사용하지 않고, 절반의 뉴런만을 사용\n",
    "* 학습 시에 인공 신경망이 특정 뉴런 또는 특정 조합에 너무 의존적이게 되는 것을 방지\n",
    "* 매번 랜덤 선택으로 뉴런들을 사용하지 않으므로 서로 다른 신경망들을 앙상블하여 사용하는 것 같은 효과를 내어 과적합을 방지\n",
    "\n",
    "#### Dropout 비율\n",
    ": 0이 될 특성의 비율, 비율이 높을수록 0이 많이 됨, 보통 0.2~0.5 사이"
   ]
  },
  {
   "cell_type": "markdown",
   "id": "a0160404",
   "metadata": {},
   "source": [
    "### weight regularization(가중치 규제) \n",
    ": 네트워크의 복잡도에 제한을 두어 가중치가 작은 값을 가지도록 강제하는 것 <br>\n",
    "(이렇게 하면 가중치 값의 분포가 더 균일하게 됨)\n",
    "* L2 regularization(=weight decay) : 가중치의 제곱에 비례하는 비용이 추가됨(가중치의 L2 norm)\n",
    "* kernel_regularizer=regularizers.l2(0.001)\n",
    ">tf.keras.layers.Dense(256, kernel_regularizer='l2', activation='relu') <br>\n",
    "or  <br>\n",
    "regularizer = tf.keras.regularizers.l1(l1=0.1) <br>\n",
    "dense = tf.keras.layers.Dense(256, kernel_regularizer=regularizer, activation='relu') <br>\n",
    "or  <br>\n",
    "tf.keras.regularizers.L1(0.3)  # L1 Regularization Penalty <br>\n",
    "tf.keras.regularizers.L2(0.1)  # L2 Regularization Penalty <br>\n",
    "tf.keras.regularizers.L1L2(l1=0.01, l2=0.01)  # L1 + L2 penalties\n"
   ]
  },
  {
   "cell_type": "markdown",
   "id": "7911aa89",
   "metadata": {
    "ExecuteTime": {
     "end_time": "2021-12-09T05:16:22.999148Z",
     "start_time": "2021-12-09T05:16:22.946162Z"
    }
   },
   "source": [
    "### Batch Normalization\n",
    "배치 정규화는 학습 시의 미니배치를 한 단위로 정규화를 하는 것으로 분포의 평균이 0, 분산이 1이 되도록 정규화하는 것\n",
    "\n",
    "* 학습 속도가 개선된다 (학습률을 높게 설정할 수 있기 때문)\n",
    "* 가중치 초깃값 선택의 의존성이 적어진다 (학습을 할 때마다 출력값을 정규화하기 때문)\n",
    "* 과적합(overfitting) 위험을 줄일 수 있다 (드롭아웃 같은 기법 대체 가능)\n",
    "* Gradient Vanishing 문제 해결\n",
    "* gradient 의 스케일이나 초기 값에 대한 dependency 가 줄어들어 Large Learning Rate 를 설정할 수 있기 떄문에 결과적으로 빠른 학습 가능\n",
    "* regularization 효과가 있기 때문에 dropout 등의 기법을 사용하지 않아도 됨 (효과가 같기 때문)\n",
    "> tf.keras.layers.BatchNormalization()"
   ]
  },
  {
   "cell_type": "markdown",
   "id": "d22876ba",
   "metadata": {},
   "source": [
    "### Normalization\n",
    "파라미터들의 가중치의 초기값을 어떻게 설정하는가에 대한 문제<br>\n",
    "가중치의 초기값에 따라서 신경망의 학습이 잘 될수도 있고 잘 안 될수도 있음\n",
    "\n",
    "* 가중치의 초기값을 모두 같은 값으로 설정하는 경우<br>\n",
    "→ 역전파 과정에서 모든 뉴런이 동일한 그래디언트 값을 갖게 되기 때문에 학습이 잘 이루어지지 않는다.\n",
    "* 가중치의 초기값을  작은 난수값으로 설정하는 경우<br>\n",
    "→ 그래디언트 소실 문제나 폭주 문제(그래디언트 값이 너무 작아지거나 너무 커지는 문제)가 발생할 수 있다. <br>\n",
    "이는 신경망의 깊이가 깊어질수록 문제가 된다. \n",
    "\n",
    "Xavior norm.과 He norm.을 사용하면 위의 문제점들을 보완할 수 있다. \n",
    "\n",
    "#### Xavior normalization \n",
    "* 적절한 데이터가 신경망에 흐르기 위해서는 각 레이어의 출력에 대한 분산과 입력에 대한 분산이 같고, \n",
    "* 역전파에서 레이어를 통과하기 전과 후의 그래디언트 분산이 동일해야한다는 주장을 바탕으로 하는 초기화 방식\n",
    "* 활성화 함수가 Sigmoid 함수이거나 Tanh 함수일 때 잘 동작한다. \n",
    "* ReLU 함수에서는 잘 동작하지 않는다.\n",
    "\n",
    "\n",
    "\n",
    "#### He normalization \n",
    "Xavior 단점을 보완하기 위해 제시된 초기화 방식\n",
    "> tf.keras.layers.Dense(1024, activation='relu', kernel_initializer='he_normal'),<br>\n",
    "tf.keras.layers.Dense(256, activation='relu', kernel_initializer='he_normal')"
   ]
  },
  {
   "cell_type": "code",
   "execution_count": null,
   "id": "3ca79e09",
   "metadata": {},
   "outputs": [],
   "source": [
    "tf.keras.layers.BatchNormalization(),"
   ]
  },
  {
   "cell_type": "markdown",
   "id": "eff9fdde",
   "metadata": {},
   "source": [
    "### softmax , 7 , sparse_categorical_crossentropy\n",
    "* 에포크는 총 15번을 수행\n",
    "* 훈련 데이터 중 20%를 검증 데이터로 사용하면서 정확도를 확인"
   ]
  },
  {
   "cell_type": "code",
   "execution_count": 96,
   "id": "4984b5f5",
   "metadata": {
    "ExecuteTime": {
     "end_time": "2021-12-09T04:34:03.827629Z",
     "start_time": "2021-12-09T04:34:03.670416Z"
    }
   },
   "outputs": [],
   "source": [
    "from sklearn.linear_model import Ridge"
   ]
  },
  {
   "cell_type": "code",
   "execution_count": 52,
   "id": "d195c6c9",
   "metadata": {
    "ExecuteTime": {
     "end_time": "2021-12-09T01:26:01.699243Z",
     "start_time": "2021-12-09T01:26:01.686237Z"
    }
   },
   "outputs": [],
   "source": [
    "es = EarlyStopping(monitor='val_loss', mode='min', verbose=1, patience=4)\n",
    "mc = ModelCheckpoint('best_model.h5', monitor='val_acc', mode='max', verbose=1, save_best_only=True)"
   ]
  },
  {
   "cell_type": "code",
   "execution_count": 150,
   "id": "474b5b99",
   "metadata": {
    "ExecuteTime": {
     "end_time": "2021-12-09T07:42:25.007539Z",
     "start_time": "2021-12-09T07:42:22.476305Z"
    }
   },
   "outputs": [],
   "source": [
    "model = Sequential()\n",
    "model.add(Embedding(vocab_size, 200, mask_zero=True))\n",
    "model.add(Bidirectional(LSTM(128)))\n",
    "model.add(Dense(64,activation=\"relu\",kernel_regularizer=tf.keras.regularizers.l2(0.003), kernel_initializer='he_normal'))\n",
    "model.add(Dropout(0.5)) # 드롭아웃 비율 50%\n",
    "model.add(Dense(32,activation=\"relu\",kernel_regularizer=tf.keras.regularizers.l2(0.003), kernel_initializer='he_normal'))\n",
    "model.add(Dropout(0.5)) # 드롭아웃 비율 50%\n",
    "#model.add(Dense(16,activation=\"relu\"))\n",
    "#model.add(Dropout(0.5)) # 드롭아웃 비율 50%\n",
    "model.add(Dense(7,activation='softmax')) # , activation='sigmoid' , kernel_initializer='he_normal'\n"
   ]
  },
  {
   "cell_type": "code",
   "execution_count": 143,
   "id": "df562d5e",
   "metadata": {
    "ExecuteTime": {
     "end_time": "2021-12-09T06:33:26.977613Z",
     "start_time": "2021-12-09T06:33:26.625381Z"
    }
   },
   "outputs": [],
   "source": [
    "model = Sequential()\n",
    "model.add(Embedding(vocab_size, 100))\n",
    "model.add(LSTM(128))\n",
    "model.add(Dropout(0.5)) # 드롭아웃 비율 50%\n",
    "model.add(Dense(64,activation=\"relu\",kernel_regularizer=tf.keras.regularizers.l2(0.0002), kernel_initializer='he_normal'))\n",
    "model.add(Dropout(0.5)) # 드롭아웃 비율 50%\n",
    "model.add(Dense(7, activation='softmax'))"
   ]
  },
  {
   "cell_type": "code",
   "execution_count": 151,
   "id": "1c8cdd37",
   "metadata": {
    "ExecuteTime": {
     "end_time": "2021-12-09T08:01:23.757385Z",
     "start_time": "2021-12-09T07:42:27.908364Z"
    },
    "scrolled": false
   },
   "outputs": [
    {
     "name": "stdout",
     "output_type": "stream",
     "text": [
      "Epoch 1/10\n",
      "724/724 [==============================] - 109s 135ms/step - loss: 1.8506 - acc: 0.2635 - val_loss: 1.5882 - val_acc: 0.3750\n",
      "Epoch 2/10\n",
      "724/724 [==============================] - 123s 170ms/step - loss: 1.5317 - acc: 0.3911 - val_loss: 1.5417 - val_acc: 0.3966\n",
      "Epoch 3/10\n",
      "724/724 [==============================] - 112s 154ms/step - loss: 1.4112 - acc: 0.4349 - val_loss: 1.5668 - val_acc: 0.3947\n",
      "Epoch 4/10\n",
      "724/724 [==============================] - 124s 171ms/step - loss: 1.3177 - acc: 0.4759 - val_loss: 1.5948 - val_acc: 0.3980\n",
      "Epoch 5/10\n",
      "724/724 [==============================] - 115s 159ms/step - loss: 1.2356 - acc: 0.5143 - val_loss: 1.7073 - val_acc: 0.3973\n",
      "Epoch 6/10\n",
      "724/724 [==============================] - 119s 164ms/step - loss: 1.1442 - acc: 0.5520 - val_loss: 1.8211 - val_acc: 0.4012\n",
      "Epoch 7/10\n",
      "724/724 [==============================] - 107s 147ms/step - loss: 1.0709 - acc: 0.5786 - val_loss: 1.9192 - val_acc: 0.4088\n",
      "Epoch 8/10\n",
      "724/724 [==============================] - 109s 150ms/step - loss: 0.9995 - acc: 0.6053 - val_loss: 2.0771 - val_acc: 0.4023\n",
      "Epoch 9/10\n",
      "724/724 [==============================] - 108s 149ms/step - loss: 0.9406 - acc: 0.6345 - val_loss: 2.1991 - val_acc: 0.4018\n",
      "Epoch 10/10\n",
      "724/724 [==============================] - 111s 154ms/step - loss: 0.8811 - acc: 0.6643 - val_loss: 2.4358 - val_acc: 0.4042\n"
     ]
    }
   ],
   "source": [
    "model.compile(optimizer='adam', loss='sparse_categorical_crossentropy', metrics=['acc'])\n",
    "history = model.fit(X_train, y_train, epochs=10,  batch_size=32, validation_split=0.2) # callbacks=[es, mc],"
   ]
  },
  {
   "cell_type": "code",
   "execution_count": 152,
   "id": "a7bb5e61",
   "metadata": {
    "ExecuteTime": {
     "end_time": "2021-12-09T08:01:36.699393Z",
     "start_time": "2021-12-09T08:01:24.012389Z"
    }
   },
   "outputs": [
    {
     "name": "stdout",
     "output_type": "stream",
     "text": [
      "302/302 [==============================] - 13s 42ms/step - loss: 2.3036 - acc: 0.4036\n",
      "\n",
      " 테스트 정확도: 0.4036\n"
     ]
    }
   ],
   "source": [
    "print(\"\\n 테스트 정확도: %.4f\" % (model.evaluate(X_test, y_test)[1]))"
   ]
  },
  {
   "cell_type": "code",
   "execution_count": null,
   "id": "cad4b9db",
   "metadata": {
    "ExecuteTime": {
     "end_time": "2021-12-09T01:26:06.226461Z",
     "start_time": "2021-12-09T01:24:15.342Z"
    }
   },
   "outputs": [],
   "source": [
    "# model.save('./models/multi_emotion.h5')"
   ]
  },
  {
   "cell_type": "code",
   "execution_count": 105,
   "id": "c16a212d",
   "metadata": {
    "ExecuteTime": {
     "end_time": "2021-12-09T04:55:25.038976Z",
     "start_time": "2021-12-09T04:55:17.307880Z"
    }
   },
   "outputs": [
    {
     "name": "stdout",
     "output_type": "stream",
     "text": [
      "302/302 [==============================] - 8s 25ms/step - loss: 1.6322 - acc: 0.4235\n",
      "Testset Loss :  1.6322131156921387\n",
      "Testset Acc :  0.4235477149486542\n"
     ]
    }
   ],
   "source": [
    "loss , acc = model.evaluate(X_test, y_test)\n",
    "print('Testset Loss : ', loss)\n",
    "print('Testset Acc : ', acc)"
   ]
  },
  {
   "cell_type": "code",
   "execution_count": 129,
   "id": "9791e1fb",
   "metadata": {
    "ExecuteTime": {
     "end_time": "2021-12-09T06:25:36.459018Z",
     "start_time": "2021-12-09T06:25:36.032774Z"
    }
   },
   "outputs": [
    {
     "data": {
      "image/png": "[encoded data removed]",
      "text/plain": [
       "<Figure size 432x288 with 1 Axes>"
      ]
     },
     "metadata": {
      "needs_background": "light"
     },
     "output_type": "display_data"
    },
    {
     "data": {
      "image/png": "[encoded data removed]",
      "text/plain": [
       "<Figure size 432x288 with 1 Axes>"
      ]
     },
     "metadata": {
      "needs_background": "light"
     },
     "output_type": "display_data"
    }
   ],
   "source": [
    "#  \"Accuracy\"\n",
    "plt.plot(history.history['acc'])\n",
    "plt.plot(history.history['val_acc'])\n",
    "plt.title('model accuracy')\n",
    "plt.ylabel('accuracy')\n",
    "plt.xlabel('epoch')\n",
    "plt.legend(['train', 'validation'], loc='upper left')\n",
    "plt.show()\n",
    "\n",
    "# \"Loss\"\n",
    "plt.plot(history.history['loss'])\n",
    "plt.plot(history.history['val_loss'])\n",
    "plt.title('model loss')\n",
    "plt.ylabel('loss')\n",
    "plt.xlabel('epoch')\n",
    "plt.legend(['train', 'validation'], loc='upper left')\n",
    "plt.show()"
   ]
  },
  {
   "cell_type": "code",
   "execution_count": 132,
   "id": "fffcd2c6",
   "metadata": {
    "ExecuteTime": {
     "end_time": "2021-12-09T06:26:19.036578Z",
     "start_time": "2021-12-09T06:26:18.780550Z"
    }
   },
   "outputs": [
    {
     "data": {
      "image/png": "[encoded data removed]",
      "text/plain": [
       "<Figure size 432x288 with 1 Axes>"
      ]
     },
     "metadata": {
      "needs_background": "light"
     },
     "output_type": "display_data"
    }
   ],
   "source": [
    "plt.plot(history.history['loss'], '--o', color = 'red', label = 'train_loss')\n",
    "plt.plot(history.history['val_loss'], '--*', color = 'blue', label = 'val_loss')\n",
    "\n",
    "plt.xlabel('Epochs')\n",
    "plt.ylabel('Loss')\n",
    "plt.legend()\n",
    "plt.grid()"
   ]
  },
  {
   "cell_type": "code",
   "execution_count": null,
   "id": "2d0175d0",
   "metadata": {
    "ExecuteTime": {
     "end_time": "2021-12-09T01:26:06.228462Z",
     "start_time": "2021-12-09T01:24:15.351Z"
    }
   },
   "outputs": [],
   "source": [
    "# loaded_model =  keras.models.load_model('./models/multi_emotion.h5')\n",
    "# print(\"\\n 테스트 정확도: %.4f\" % (loaded_model.evaluate(X_test, y_test)[1]))"
   ]
  },
  {
   "cell_type": "markdown",
   "id": "f700358a",
   "metadata": {},
   "source": [
    "---"
   ]
  }
 ],
 "metadata": {
  "hide_input": false,
  "kernelspec": {
   "display_name": "Python 3",
   "language": "python",
   "name": "python3"
  },
  "language_info": {
   "codemirror_mode": {
    "name": "ipython",
    "version": 3
   },
   "file_extension": ".py",
   "mimetype": "text/x-python",
   "name": "python",
   "nbconvert_exporter": "python",
   "pygments_lexer": "ipython3",
   "version": "3.8.8"
  },
  "toc": {
   "base_numbering": 1,
   "nav_menu": {},
   "number_sections": true,
   "sideBar": true,
   "skip_h1_title": false,
   "title_cell": "Table of Contents",
   "title_sidebar": "Contents",
   "toc_cell": false,
   "toc_position": {},
   "toc_section_display": true,
   "toc_window_display": false
  },
  "varInspector": {
   "cols": {
    "lenName": 16,
    "lenType": 16,
    "lenVar": 40
   },
   "kernels_config": {
    "python": {
     "delete_cmd_postfix": "",
     "delete_cmd_prefix": "del ",
     "library": "var_list.py",
     "varRefreshCmd": "print(var_dic_list())"
    },
    "r": {
     "delete_cmd_postfix": ") ",
     "delete_cmd_prefix": "rm(",
     "library": "var_list.r",
     "varRefreshCmd": "cat(var_dic_list()) "
    }
   },
   "types_to_exclude": [
    "module",
    "function",
    "builtin_function_or_method",
    "instance",
    "_Feature"
   ],
   "window_display": false
  }
 },
 "nbformat": 4,
 "nbformat_minor": 5
}
