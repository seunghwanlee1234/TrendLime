{
 "cells": [
  {
   "cell_type": "code",
   "execution_count": 21,
   "id": "ff9c3b57",
   "metadata": {
    "ExecuteTime": {
     "end_time": "2021-11-19T16:54:56.486410Z",
     "start_time": "2021-11-19T16:54:51.785841Z"
    }
   },
   "outputs": [],
   "source": [
    "import re\n",
    "import requests\n",
    "from bs4 import BeautifulSoup\n",
    "import pandas as pd\n",
    "from konlpy.tag import Okt  \n",
    "okt = Okt() \n",
    "import tensorflow as tf\n",
    "import numpy as np\n",
    "from collections import Counter\n",
    "from konlpy.tag import Komoran\n",
    "komoran = Komoran()\n",
    "from wordcloud import WordCloud\n",
    "import matplotlib.pyplot as plt\n",
    "\n",
    "\n",
    "import urllib.request\n",
    "from tqdm import tqdm\n",
    "from tensorflow.keras.preprocessing.text import Tokenizer\n",
    "from tensorflow.keras.preprocessing.sequence import pad_sequences\n",
    "from sklearn.model_selection import train_test_split"
   ]
  },
  {
   "cell_type": "code",
   "execution_count": 2,
   "id": "fd75dee7",
   "metadata": {
    "ExecuteTime": {
     "end_time": "2021-11-19T16:44:39.509851Z",
     "start_time": "2021-11-19T16:44:39.482817Z"
    }
   },
   "outputs": [],
   "source": [
    "import matplotlib.pyplot as plt \n",
    "%matplotlib inline\n",
    "from string import punctuation\n",
    "import warnings\n",
    "warnings.filterwarnings('ignore')"
   ]
  },
  {
   "cell_type": "code",
   "execution_count": 4,
   "id": "cc652472",
   "metadata": {
    "ExecuteTime": {
     "end_time": "2021-11-19T16:44:47.413726Z",
     "start_time": "2021-11-19T16:44:47.364448Z"
    }
   },
   "outputs": [
    {
     "data": {
      "text/html": [
       "<div>\n",
       "<style scoped>\n",
       "    .dataframe tbody tr th:only-of-type {\n",
       "        vertical-align: middle;\n",
       "    }\n",
       "\n",
       "    .dataframe tbody tr th {\n",
       "        vertical-align: top;\n",
       "    }\n",
       "\n",
       "    .dataframe thead th {\n",
       "        text-align: right;\n",
       "    }\n",
       "</style>\n",
       "<table border=\"1\" class=\"dataframe\">\n",
       "  <thead>\n",
       "    <tr style=\"text-align: right;\">\n",
       "      <th></th>\n",
       "      <th>song_id</th>\n",
       "      <th>song_name</th>\n",
       "      <th>artist</th>\n",
       "      <th>album</th>\n",
       "      <th>Like_Count</th>\n",
       "      <th>Lyric</th>\n",
       "      <th>cover_url</th>\n",
       "      <th>words</th>\n",
       "      <th>label</th>\n",
       "    </tr>\n",
       "  </thead>\n",
       "  <tbody>\n",
       "    <tr>\n",
       "      <th>0</th>\n",
       "      <td>32352195</td>\n",
       "      <td>You and I</td>\n",
       "      <td>네이비쿼카(NavyQuokka)</td>\n",
       "      <td>You and I</td>\n",
       "      <td>[50]</td>\n",
       "      <td>너와 난 Never Ending Story  부를게 이 Melody  이 노랠 들어...</td>\n",
       "      <td>https://image.bugsm.co.kr/album/images/200/204...</td>\n",
       "      <td>['너와', '난', 'Never', 'Ending', 'Story', '부를게',...</td>\n",
       "      <td>1</td>\n",
       "    </tr>\n",
       "  </tbody>\n",
       "</table>\n",
       "</div>"
      ],
      "text/plain": [
       "    song_id  song_name             artist      album Like_Count  \\\n",
       "0  32352195  You and I  네이비쿼카(NavyQuokka)  You and I       [50]   \n",
       "\n",
       "                                               Lyric  \\\n",
       "0  너와 난 Never Ending Story  부를게 이 Melody  이 노랠 들어...   \n",
       "\n",
       "                                           cover_url  \\\n",
       "0  https://image.bugsm.co.kr/album/images/200/204...   \n",
       "\n",
       "                                               words  label  \n",
       "0  ['너와', '난', 'Never', 'Ending', 'Story', '부를게',...      1  "
      ]
     },
     "execution_count": 4,
     "metadata": {},
     "output_type": "execute_result"
    }
   ],
   "source": [
    "jdf = pd.read_csv('pre_joy_list.csv')\n",
    "jdf['label'] = 1\n",
    "jdf.head(1)"
   ]
  },
  {
   "cell_type": "code",
   "execution_count": 5,
   "id": "aa381850",
   "metadata": {
    "ExecuteTime": {
     "end_time": "2021-11-19T16:45:00.895052Z",
     "start_time": "2021-11-19T16:45:00.846427Z"
    }
   },
   "outputs": [
    {
     "data": {
      "text/html": [
       "<div>\n",
       "<style scoped>\n",
       "    .dataframe tbody tr th:only-of-type {\n",
       "        vertical-align: middle;\n",
       "    }\n",
       "\n",
       "    .dataframe tbody tr th {\n",
       "        vertical-align: top;\n",
       "    }\n",
       "\n",
       "    .dataframe thead th {\n",
       "        text-align: right;\n",
       "    }\n",
       "</style>\n",
       "<table border=\"1\" class=\"dataframe\">\n",
       "  <thead>\n",
       "    <tr style=\"text-align: right;\">\n",
       "      <th></th>\n",
       "      <th>song_id</th>\n",
       "      <th>song_name</th>\n",
       "      <th>artist</th>\n",
       "      <th>album</th>\n",
       "      <th>Like_Count</th>\n",
       "      <th>Lyric</th>\n",
       "      <th>cover_url</th>\n",
       "      <th>words</th>\n",
       "      <th>label</th>\n",
       "    </tr>\n",
       "  </thead>\n",
       "  <tbody>\n",
       "    <tr>\n",
       "      <th>0</th>\n",
       "      <td>6127308</td>\n",
       "      <td>시간을 거슬러 (낮에 뜨는 달 X 케이윌)</td>\n",
       "      <td>케이윌</td>\n",
       "      <td>시간을 거슬러 (낮에 뜨는 달 X 케이윌)</td>\n",
       "      <td>[2,076]</td>\n",
       "      <td>구름에 빛은 흐려지고  창가에 요란히 내리는  빗물 소리만큼 시린 기억들이  내 마...</td>\n",
       "      <td>https://image.bugsm.co.kr/album/images/200/406...</td>\n",
       "      <td>['구름에', '빛은', '흐려지고', '창가에', '요란히', '내리는', '빗물...</td>\n",
       "      <td>0</td>\n",
       "    </tr>\n",
       "  </tbody>\n",
       "</table>\n",
       "</div>"
      ],
      "text/plain": [
       "   song_id                song_name artist                    album  \\\n",
       "0  6127308  시간을 거슬러 (낮에 뜨는 달 X 케이윌)    케이윌  시간을 거슬러 (낮에 뜨는 달 X 케이윌)   \n",
       "\n",
       "  Like_Count                                              Lyric  \\\n",
       "0    [2,076]  구름에 빛은 흐려지고  창가에 요란히 내리는  빗물 소리만큼 시린 기억들이  내 마...   \n",
       "\n",
       "                                           cover_url  \\\n",
       "0  https://image.bugsm.co.kr/album/images/200/406...   \n",
       "\n",
       "                                               words  label  \n",
       "0  ['구름에', '빛은', '흐려지고', '창가에', '요란히', '내리는', '빗물...      0  "
      ]
     },
     "execution_count": 5,
     "metadata": {},
     "output_type": "execute_result"
    }
   ],
   "source": [
    "sdf = pd.read_csv('pre_sad_list.csv')\n",
    "sdf['label'] = 0\n",
    "sdf.head(1)"
   ]
  },
  {
   "cell_type": "code",
   "execution_count": 6,
   "id": "8c227a68",
   "metadata": {
    "ExecuteTime": {
     "end_time": "2021-11-19T16:45:29.380788Z",
     "start_time": "2021-11-19T16:45:29.355440Z"
    }
   },
   "outputs": [
    {
     "name": "stdout",
     "output_type": "stream",
     "text": [
      "<class 'pandas.core.frame.DataFrame'>\n",
      "RangeIndex: 531 entries, 0 to 530\n",
      "Data columns (total 10 columns):\n",
      " #   Column      Non-Null Count  Dtype \n",
      "---  ------      --------------  ----- \n",
      " 0   index       531 non-null    int64 \n",
      " 1   song_id     531 non-null    int64 \n",
      " 2   song_name   531 non-null    object\n",
      " 3   artist      531 non-null    object\n",
      " 4   album       531 non-null    object\n",
      " 5   Like_Count  531 non-null    object\n",
      " 6   Lyric       521 non-null    object\n",
      " 7   cover_url   531 non-null    object\n",
      " 8   words       531 non-null    object\n",
      " 9   label       531 non-null    int64 \n",
      "dtypes: int64(3), object(7)\n",
      "memory usage: 41.6+ KB\n"
     ]
    }
   ],
   "source": [
    "jsdf = sdf.append(jdf)\n",
    "jsdf.reset_index(inplace=True)\n",
    "jsdf.info()"
   ]
  },
  {
   "cell_type": "markdown",
   "id": "faf54b71",
   "metadata": {},
   "source": [
    "## 전처리"
   ]
  },
  {
   "cell_type": "code",
   "execution_count": 7,
   "id": "36abb31a",
   "metadata": {
    "ExecuteTime": {
     "end_time": "2021-11-19T16:47:02.703418Z",
     "start_time": "2021-11-19T16:47:02.681172Z"
    }
   },
   "outputs": [
    {
     "name": "stdout",
     "output_type": "stream",
     "text": [
      "index          0\n",
      "song_id        0\n",
      "song_name      0\n",
      "artist         0\n",
      "album          0\n",
      "Like_Count     0\n",
      "Lyric         10\n",
      "cover_url      0\n",
      "words          0\n",
      "label          0\n",
      "dtype: int64\n"
     ]
    }
   ],
   "source": [
    "print(jsdf.isnull().sum())"
   ]
  },
  {
   "cell_type": "code",
   "execution_count": 8,
   "id": "c3b7c737",
   "metadata": {
    "ExecuteTime": {
     "end_time": "2021-11-19T16:47:18.150953Z",
     "start_time": "2021-11-19T16:47:18.129771Z"
    }
   },
   "outputs": [
    {
     "data": {
      "text/html": [
       "<div>\n",
       "<style scoped>\n",
       "    .dataframe tbody tr th:only-of-type {\n",
       "        vertical-align: middle;\n",
       "    }\n",
       "\n",
       "    .dataframe tbody tr th {\n",
       "        vertical-align: top;\n",
       "    }\n",
       "\n",
       "    .dataframe thead th {\n",
       "        text-align: right;\n",
       "    }\n",
       "</style>\n",
       "<table border=\"1\" class=\"dataframe\">\n",
       "  <thead>\n",
       "    <tr style=\"text-align: right;\">\n",
       "      <th></th>\n",
       "      <th>index</th>\n",
       "      <th>song_id</th>\n",
       "      <th>song_name</th>\n",
       "      <th>artist</th>\n",
       "      <th>album</th>\n",
       "      <th>Like_Count</th>\n",
       "      <th>Lyric</th>\n",
       "      <th>cover_url</th>\n",
       "      <th>words</th>\n",
       "      <th>label</th>\n",
       "    </tr>\n",
       "  </thead>\n",
       "  <tbody>\n",
       "    <tr>\n",
       "      <th>217</th>\n",
       "      <td>217</td>\n",
       "      <td>80389448</td>\n",
       "      <td>White</td>\n",
       "      <td>타블로+페니(이터널 모닝)</td>\n",
       "      <td>Eternal Morning - Soundtrack To A Lost Film</td>\n",
       "      <td>[2,309]</td>\n",
       "      <td>NaN</td>\n",
       "      <td>https://image.bugsm.co.kr/album/images/200/803...</td>\n",
       "      <td>[]</td>\n",
       "      <td>0</td>\n",
       "    </tr>\n",
       "    <tr>\n",
       "      <th>219</th>\n",
       "      <td>219</td>\n",
       "      <td>1817482</td>\n",
       "      <td>[권리없는 곡]</td>\n",
       "      <td>Ryuichi Sakamoto(류이치 사카모토/坂本龍一)</td>\n",
       "      <td>Playing The Piano</td>\n",
       "      <td>[7,349]</td>\n",
       "      <td>NaN</td>\n",
       "      <td>https://image.bugsm.co.kr/album/images/200/202...</td>\n",
       "      <td>[]</td>\n",
       "      <td>0</td>\n",
       "    </tr>\n",
       "    <tr>\n",
       "      <th>221</th>\n",
       "      <td>221</td>\n",
       "      <td>9500553</td>\n",
       "      <td>바다의 선율 II</td>\n",
       "      <td>이루마(Yiruma)</td>\n",
       "      <td>인어공주 OST</td>\n",
       "      <td>[2,118]</td>\n",
       "      <td>NaN</td>\n",
       "      <td>https://image.bugsm.co.kr/album/images/200/950...</td>\n",
       "      <td>[]</td>\n",
       "      <td>0</td>\n",
       "    </tr>\n",
       "    <tr>\n",
       "      <th>222</th>\n",
       "      <td>222</td>\n",
       "      <td>31922993</td>\n",
       "      <td>Endless Story</td>\n",
       "      <td>개미</td>\n",
       "      <td>부부의 세계 OST Special</td>\n",
       "      <td>[58]</td>\n",
       "      <td>NaN</td>\n",
       "      <td>https://image.bugsm.co.kr/album/images/200/203...</td>\n",
       "      <td>[]</td>\n",
       "      <td>0</td>\n",
       "    </tr>\n",
       "    <tr>\n",
       "      <th>224</th>\n",
       "      <td>224</td>\n",
       "      <td>3877117</td>\n",
       "      <td>돌이킬 수 없는 걸음 (장화홍련, 메모리즈 OST)</td>\n",
       "      <td>Ttoyo Studio Orchestra</td>\n",
       "      <td>The Good Movie Music</td>\n",
       "      <td>[166]</td>\n",
       "      <td>NaN</td>\n",
       "      <td>https://image.bugsm.co.kr/album/images/200/479...</td>\n",
       "      <td>[]</td>\n",
       "      <td>0</td>\n",
       "    </tr>\n",
       "    <tr>\n",
       "      <th>226</th>\n",
       "      <td>226</td>\n",
       "      <td>493148</td>\n",
       "      <td>Last Carnival</td>\n",
       "      <td>어쿠스틱카페(Acoustic Cafe)</td>\n",
       "      <td>For Your Memories</td>\n",
       "      <td>[16,906]</td>\n",
       "      <td>NaN</td>\n",
       "      <td>https://image.bugsm.co.kr/album/images/200/330...</td>\n",
       "      <td>[]</td>\n",
       "      <td>0</td>\n",
       "    </tr>\n",
       "    <tr>\n",
       "      <th>230</th>\n",
       "      <td>230</td>\n",
       "      <td>31432309</td>\n",
       "      <td>석양</td>\n",
       "      <td>남혜승</td>\n",
       "      <td>남자친구 (tvN 수목드라마) OST</td>\n",
       "      <td>[17]</td>\n",
       "      <td>NaN</td>\n",
       "      <td>https://image.bugsm.co.kr/album/images/200/202...</td>\n",
       "      <td>[]</td>\n",
       "      <td>0</td>\n",
       "    </tr>\n",
       "    <tr>\n",
       "      <th>231</th>\n",
       "      <td>231</td>\n",
       "      <td>80076017</td>\n",
       "      <td>Merry-Go-Round</td>\n",
       "      <td>Hisaishi Joe(히사이시 조/久石 讓)</td>\n",
       "      <td>FREEDOM PIANO STORIES 4</td>\n",
       "      <td>[8,275]</td>\n",
       "      <td>NaN</td>\n",
       "      <td>https://image.bugsm.co.kr/album/images/200/800...</td>\n",
       "      <td>[]</td>\n",
       "      <td>0</td>\n",
       "    </tr>\n",
       "    <tr>\n",
       "      <th>232</th>\n",
       "      <td>232</td>\n",
       "      <td>5584965</td>\n",
       "      <td>아이에게</td>\n",
       "      <td>김형석</td>\n",
       "      <td>눈이 부시게 (JTBC 월화드라마) OST - With Piano</td>\n",
       "      <td>[21]</td>\n",
       "      <td>NaN</td>\n",
       "      <td>https://image.bugsm.co.kr/album/images/200/860...</td>\n",
       "      <td>[]</td>\n",
       "      <td>0</td>\n",
       "    </tr>\n",
       "    <tr>\n",
       "      <th>336</th>\n",
       "      <td>88</td>\n",
       "      <td>87306</td>\n",
       "      <td>다 줄꺼야 (SEQ ver.)</td>\n",
       "      <td>조규만</td>\n",
       "      <td>다 줄꺼야</td>\n",
       "      <td>[2,071]</td>\n",
       "      <td>NaN</td>\n",
       "      <td>https://image.bugsm.co.kr/album/images/200/47/...</td>\n",
       "      <td>[]</td>\n",
       "      <td>1</td>\n",
       "    </tr>\n",
       "  </tbody>\n",
       "</table>\n",
       "</div>"
      ],
      "text/plain": [
       "     index   song_id                     song_name  \\\n",
       "217    217  80389448                         White   \n",
       "219    219   1817482                      [권리없는 곡]   \n",
       "221    221   9500553                     바다의 선율 II   \n",
       "222    222  31922993                 Endless Story   \n",
       "224    224   3877117  돌이킬 수 없는 걸음 (장화홍련, 메모리즈 OST)   \n",
       "226    226    493148                 Last Carnival   \n",
       "230    230  31432309                            석양   \n",
       "231    231  80076017                Merry-Go-Round   \n",
       "232    232   5584965                          아이에게   \n",
       "336     88     87306              다 줄꺼야 (SEQ ver.)   \n",
       "\n",
       "                              artist  \\\n",
       "217                   타블로+페니(이터널 모닝)   \n",
       "219  Ryuichi Sakamoto(류이치 사카모토/坂本龍一)   \n",
       "221                      이루마(Yiruma)   \n",
       "222                               개미   \n",
       "224           Ttoyo Studio Orchestra   \n",
       "226            어쿠스틱카페(Acoustic Cafe)   \n",
       "230                              남혜승   \n",
       "231        Hisaishi Joe(히사이시 조/久石 讓)   \n",
       "232                              김형석   \n",
       "336                              조규만   \n",
       "\n",
       "                                           album Like_Count Lyric  \\\n",
       "217  Eternal Morning - Soundtrack To A Lost Film    [2,309]   NaN   \n",
       "219                            Playing The Piano    [7,349]   NaN   \n",
       "221                                     인어공주 OST    [2,118]   NaN   \n",
       "222                           부부의 세계 OST Special       [58]   NaN   \n",
       "224                         The Good Movie Music      [166]   NaN   \n",
       "226                            For Your Memories   [16,906]   NaN   \n",
       "230                         남자친구 (tvN 수목드라마) OST       [17]   NaN   \n",
       "231                      FREEDOM PIANO STORIES 4    [8,275]   NaN   \n",
       "232         눈이 부시게 (JTBC 월화드라마) OST - With Piano       [21]   NaN   \n",
       "336                                        다 줄꺼야    [2,071]   NaN   \n",
       "\n",
       "                                             cover_url words  label  \n",
       "217  https://image.bugsm.co.kr/album/images/200/803...    []      0  \n",
       "219  https://image.bugsm.co.kr/album/images/200/202...    []      0  \n",
       "221  https://image.bugsm.co.kr/album/images/200/950...    []      0  \n",
       "222  https://image.bugsm.co.kr/album/images/200/203...    []      0  \n",
       "224  https://image.bugsm.co.kr/album/images/200/479...    []      0  \n",
       "226  https://image.bugsm.co.kr/album/images/200/330...    []      0  \n",
       "230  https://image.bugsm.co.kr/album/images/200/202...    []      0  \n",
       "231  https://image.bugsm.co.kr/album/images/200/800...    []      0  \n",
       "232  https://image.bugsm.co.kr/album/images/200/860...    []      0  \n",
       "336  https://image.bugsm.co.kr/album/images/200/47/...    []      1  "
      ]
     },
     "execution_count": 8,
     "metadata": {},
     "output_type": "execute_result"
    }
   ],
   "source": [
    "jsdf.loc[jsdf.Lyric.isnull()] # 가사없음"
   ]
  },
  {
   "cell_type": "code",
   "execution_count": 9,
   "id": "c2c24291",
   "metadata": {
    "ExecuteTime": {
     "end_time": "2021-11-19T16:47:50.758789Z",
     "start_time": "2021-11-19T16:47:50.696464Z"
    }
   },
   "outputs": [
    {
     "name": "stdout",
     "output_type": "stream",
     "text": [
      "False\n"
     ]
    }
   ],
   "source": [
    "jsdf = jsdf.dropna(how = 'any') # Null 값이 존재하는 행 제거\n",
    "print(jsdf.isnull().values.any()) # Null 값이 존재하는지 확인"
   ]
  },
  {
   "cell_type": "code",
   "execution_count": 10,
   "id": "2665fae7",
   "metadata": {
    "ExecuteTime": {
     "end_time": "2021-11-19T16:48:00.598374Z",
     "start_time": "2021-11-19T16:48:00.581405Z"
    }
   },
   "outputs": [
    {
     "name": "stdout",
     "output_type": "stream",
     "text": [
      "521\n"
     ]
    }
   ],
   "source": [
    "print(len(jsdf)) # 데이터 개수"
   ]
  },
  {
   "cell_type": "code",
   "execution_count": 11,
   "id": "fc10a846",
   "metadata": {
    "ExecuteTime": {
     "end_time": "2021-11-19T16:48:22.947738Z",
     "start_time": "2021-11-19T16:48:22.899706Z"
    }
   },
   "outputs": [
    {
     "data": {
      "text/html": [
       "<div>\n",
       "<style scoped>\n",
       "    .dataframe tbody tr th:only-of-type {\n",
       "        vertical-align: middle;\n",
       "    }\n",
       "\n",
       "    .dataframe tbody tr th {\n",
       "        vertical-align: top;\n",
       "    }\n",
       "\n",
       "    .dataframe thead th {\n",
       "        text-align: right;\n",
       "    }\n",
       "</style>\n",
       "<table border=\"1\" class=\"dataframe\">\n",
       "  <thead>\n",
       "    <tr style=\"text-align: right;\">\n",
       "      <th></th>\n",
       "      <th>index</th>\n",
       "      <th>song_id</th>\n",
       "      <th>song_name</th>\n",
       "      <th>artist</th>\n",
       "      <th>album</th>\n",
       "      <th>Like_Count</th>\n",
       "      <th>Lyric</th>\n",
       "      <th>cover_url</th>\n",
       "      <th>words</th>\n",
       "      <th>label</th>\n",
       "    </tr>\n",
       "  </thead>\n",
       "  <tbody>\n",
       "    <tr>\n",
       "      <th>0</th>\n",
       "      <td>0</td>\n",
       "      <td>6127308</td>\n",
       "      <td>시간을 거슬러 (낮에 뜨는 달 X 케이윌)</td>\n",
       "      <td>케이윌</td>\n",
       "      <td>시간을 거슬러 (낮에 뜨는 달 X 케이윌)</td>\n",
       "      <td>[2,076]</td>\n",
       "      <td>구름에 빛은 흐려지고  창가에 요란히 내리는  빗물 소리만큼 시린 기억들이  내 마...</td>\n",
       "      <td>https://image.bugsm.co.kr/album/images/200/406...</td>\n",
       "      <td>['구름에', '빛은', '흐려지고', '창가에', '요란히', '내리는', '빗물...</td>\n",
       "      <td>0</td>\n",
       "    </tr>\n",
       "    <tr>\n",
       "      <th>1</th>\n",
       "      <td>1</td>\n",
       "      <td>32333010</td>\n",
       "      <td>왜? 날</td>\n",
       "      <td>백예린 (Yerin Baek)</td>\n",
       "      <td>선물</td>\n",
       "      <td>[1,408]</td>\n",
       "      <td>그대 내게 기대어  편안하게 쉬고 있을 때면 느끼죠  그대 나를 원한다는 걸  이제...</td>\n",
       "      <td>https://image.bugsm.co.kr/album/images/200/204...</td>\n",
       "      <td>['그대', '내게', '기대어', '편안하게', '쉬고', '있을', '때면', ...</td>\n",
       "      <td>0</td>\n",
       "    </tr>\n",
       "    <tr>\n",
       "      <th>2</th>\n",
       "      <td>2</td>\n",
       "      <td>31657872</td>\n",
       "      <td>조금 더 외로워지겠지</td>\n",
       "      <td>김나영</td>\n",
       "      <td>검색어를 입력하세요 WWW OST</td>\n",
       "      <td>[133]</td>\n",
       "      <td>조금만 덜 좋아했다면  우린 어쩜 모른 척 살았을까  지쳐가는 너를  흔들리는 나를...</td>\n",
       "      <td>https://image.bugsm.co.kr/album/images/200/202...</td>\n",
       "      <td>['조금만', '덜', '좋아했다면', '우린', '어쩜', '모른', '척', '...</td>\n",
       "      <td>0</td>\n",
       "    </tr>\n",
       "    <tr>\n",
       "      <th>3</th>\n",
       "      <td>3</td>\n",
       "      <td>6131291</td>\n",
       "      <td>신촌을 못가</td>\n",
       "      <td>허각</td>\n",
       "      <td>신촌을 못가</td>\n",
       "      <td>[219]</td>\n",
       "      <td>신촌을 못가 한번을 못가  혹시 너와 마주칠까 봐  널 보면 눈물이 터질까 봐  친...</td>\n",
       "      <td>https://image.bugsm.co.kr/album/images/200/406...</td>\n",
       "      <td>['신촌을', '못가', '한번을', '못가', '혹시', '너와', '마주칠까',...</td>\n",
       "      <td>0</td>\n",
       "    </tr>\n",
       "    <tr>\n",
       "      <th>4</th>\n",
       "      <td>4</td>\n",
       "      <td>6115656</td>\n",
       "      <td>지나가요 (Duet 최유리)</td>\n",
       "      <td>스무살</td>\n",
       "      <td>지나가요 (Duet 최유리)</td>\n",
       "      <td>[254]</td>\n",
       "      <td>사랑이 지나가요  결국엔 우리 둘도  이렇게 흘러가네요    잘 지내란 말  이따위...</td>\n",
       "      <td>https://image.bugsm.co.kr/album/images/200/405...</td>\n",
       "      <td>['사랑이', '지나가요', '결국엔', '우리', '둘도', '이렇게', '흘러가...</td>\n",
       "      <td>0</td>\n",
       "    </tr>\n",
       "  </tbody>\n",
       "</table>\n",
       "</div>"
      ],
      "text/plain": [
       "   index   song_id                song_name            artist  \\\n",
       "0      0   6127308  시간을 거슬러 (낮에 뜨는 달 X 케이윌)               케이윌   \n",
       "1      1  32333010                     왜? 날  백예린 (Yerin Baek)   \n",
       "2      2  31657872              조금 더 외로워지겠지               김나영   \n",
       "3      3   6131291                   신촌을 못가                허각   \n",
       "4      4   6115656          지나가요 (Duet 최유리)               스무살   \n",
       "\n",
       "                     album Like_Count  \\\n",
       "0  시간을 거슬러 (낮에 뜨는 달 X 케이윌)    [2,076]   \n",
       "1                       선물    [1,408]   \n",
       "2       검색어를 입력하세요 WWW OST      [133]   \n",
       "3                   신촌을 못가      [219]   \n",
       "4          지나가요 (Duet 최유리)      [254]   \n",
       "\n",
       "                                               Lyric  \\\n",
       "0  구름에 빛은 흐려지고  창가에 요란히 내리는  빗물 소리만큼 시린 기억들이  내 마...   \n",
       "1  그대 내게 기대어  편안하게 쉬고 있을 때면 느끼죠  그대 나를 원한다는 걸  이제...   \n",
       "2  조금만 덜 좋아했다면  우린 어쩜 모른 척 살았을까  지쳐가는 너를  흔들리는 나를...   \n",
       "3  신촌을 못가 한번을 못가  혹시 너와 마주칠까 봐  널 보면 눈물이 터질까 봐  친...   \n",
       "4  사랑이 지나가요  결국엔 우리 둘도  이렇게 흘러가네요    잘 지내란 말  이따위...   \n",
       "\n",
       "                                           cover_url  \\\n",
       "0  https://image.bugsm.co.kr/album/images/200/406...   \n",
       "1  https://image.bugsm.co.kr/album/images/200/204...   \n",
       "2  https://image.bugsm.co.kr/album/images/200/202...   \n",
       "3  https://image.bugsm.co.kr/album/images/200/406...   \n",
       "4  https://image.bugsm.co.kr/album/images/200/405...   \n",
       "\n",
       "                                               words  label  \n",
       "0  ['구름에', '빛은', '흐려지고', '창가에', '요란히', '내리는', '빗물...      0  \n",
       "1  ['그대', '내게', '기대어', '편안하게', '쉬고', '있을', '때면', ...      0  \n",
       "2  ['조금만', '덜', '좋아했다면', '우린', '어쩜', '모른', '척', '...      0  \n",
       "3  ['신촌을', '못가', '한번을', '못가', '혹시', '너와', '마주칠까',...      0  \n",
       "4  ['사랑이', '지나가요', '결국엔', '우리', '둘도', '이렇게', '흘러가...      0  "
      ]
     },
     "execution_count": 11,
     "metadata": {},
     "output_type": "execute_result"
    }
   ],
   "source": [
    "jsdf['Lyric'] = jsdf['Lyric'].str.replace(\"[^ㄱ-ㅎㅏ-ㅣ가-힣 ]\",\"\")\n",
    "# 한글과 공백을 제외하고 모두 제거\n",
    "jsdf[:5]"
   ]
  },
  {
   "cell_type": "code",
   "execution_count": 12,
   "id": "170818d1",
   "metadata": {
    "ExecuteTime": {
     "end_time": "2021-11-19T16:49:22.929126Z",
     "start_time": "2021-11-19T16:49:22.903125Z"
    }
   },
   "outputs": [
    {
     "name": "stdout",
     "output_type": "stream",
     "text": [
      "index         0\n",
      "song_id       0\n",
      "song_name     0\n",
      "artist        0\n",
      "album         0\n",
      "Like_Count    0\n",
      "Lyric         5\n",
      "cover_url     0\n",
      "words         0\n",
      "label         0\n",
      "dtype: int64\n"
     ]
    }
   ],
   "source": [
    "jsdf['Lyric'] = jsdf['Lyric'].str.replace('^ +', \"\") # white space 데이터를 empty value로 변경\n",
    "jsdf['Lyric'].replace('', np.nan, inplace=True)\n",
    "print(jsdf.isnull().sum())"
   ]
  },
  {
   "cell_type": "code",
   "execution_count": 13,
   "id": "5c17ff21",
   "metadata": {
    "ExecuteTime": {
     "end_time": "2021-11-19T16:49:32.345438Z",
     "start_time": "2021-11-19T16:49:32.318385Z"
    }
   },
   "outputs": [
    {
     "data": {
      "text/html": [
       "<div>\n",
       "<style scoped>\n",
       "    .dataframe tbody tr th:only-of-type {\n",
       "        vertical-align: middle;\n",
       "    }\n",
       "\n",
       "    .dataframe tbody tr th {\n",
       "        vertical-align: top;\n",
       "    }\n",
       "\n",
       "    .dataframe thead th {\n",
       "        text-align: right;\n",
       "    }\n",
       "</style>\n",
       "<table border=\"1\" class=\"dataframe\">\n",
       "  <thead>\n",
       "    <tr style=\"text-align: right;\">\n",
       "      <th></th>\n",
       "      <th>index</th>\n",
       "      <th>song_id</th>\n",
       "      <th>song_name</th>\n",
       "      <th>artist</th>\n",
       "      <th>album</th>\n",
       "      <th>Like_Count</th>\n",
       "      <th>Lyric</th>\n",
       "      <th>cover_url</th>\n",
       "      <th>words</th>\n",
       "      <th>label</th>\n",
       "    </tr>\n",
       "  </thead>\n",
       "  <tbody>\n",
       "    <tr>\n",
       "      <th>225</th>\n",
       "      <td>225</td>\n",
       "      <td>1814881</td>\n",
       "      <td>24-25</td>\n",
       "      <td>Kings Of Convenience(킹스 오브 컨비니언스)</td>\n",
       "      <td>Declaration Of Dependence</td>\n",
       "      <td>[2,637]</td>\n",
       "      <td>NaN</td>\n",
       "      <td>https://image.bugsm.co.kr/album/images/200/201...</td>\n",
       "      <td>[\"She'll\", 'be', 'gone', 'soon', 'You', 'can',...</td>\n",
       "      <td>0</td>\n",
       "    </tr>\n",
       "    <tr>\n",
       "      <th>228</th>\n",
       "      <td>228</td>\n",
       "      <td>80041751</td>\n",
       "      <td>Something About Us</td>\n",
       "      <td>Daft Punk(다프트 펑크)</td>\n",
       "      <td>Discovery</td>\n",
       "      <td>[6,928]</td>\n",
       "      <td>NaN</td>\n",
       "      <td>https://image.bugsm.co.kr/album/images/200/800...</td>\n",
       "      <td>['It', 'might', 'not', 'be', 'the', 'right', '...</td>\n",
       "      <td>0</td>\n",
       "    </tr>\n",
       "    <tr>\n",
       "      <th>425</th>\n",
       "      <td>177</td>\n",
       "      <td>32321750</td>\n",
       "      <td>So In Love (Feat. Filipe Santos)</td>\n",
       "      <td>vvav (웨이브)</td>\n",
       "      <td>So In Love</td>\n",
       "      <td>[18]</td>\n",
       "      <td>NaN</td>\n",
       "      <td>https://image.bugsm.co.kr/album/images/200/204...</td>\n",
       "      <td>['I', \"don't\", 'know', 'where', 'to', 'start',...</td>\n",
       "      <td>1</td>\n",
       "    </tr>\n",
       "    <tr>\n",
       "      <th>434</th>\n",
       "      <td>186</td>\n",
       "      <td>5896896</td>\n",
       "      <td>fallin (feat.Liss)</td>\n",
       "      <td>죠지</td>\n",
       "      <td>fallin (feat.Liss)</td>\n",
       "      <td>[559]</td>\n",
       "      <td>NaN</td>\n",
       "      <td>https://image.bugsm.co.kr/album/images/200/978...</td>\n",
       "      <td>[\"Don't\", 'know', 'what', \"I've\", 'been', 'thi...</td>\n",
       "      <td>1</td>\n",
       "    </tr>\n",
       "    <tr>\n",
       "      <th>469</th>\n",
       "      <td>221</td>\n",
       "      <td>32338490</td>\n",
       "      <td>xo</td>\n",
       "      <td>G. Nine</td>\n",
       "      <td>xo</td>\n",
       "      <td>[23]</td>\n",
       "      <td>NaN</td>\n",
       "      <td>https://image.bugsm.co.kr/album/images/200/204...</td>\n",
       "      <td>['Er', 'ya', 'this', \"song's\", 'for', 'ya', 'H...</td>\n",
       "      <td>1</td>\n",
       "    </tr>\n",
       "  </tbody>\n",
       "</table>\n",
       "</div>"
      ],
      "text/plain": [
       "     index   song_id                         song_name  \\\n",
       "225    225   1814881                             24-25   \n",
       "228    228  80041751                Something About Us   \n",
       "425    177  32321750  So In Love (Feat. Filipe Santos)   \n",
       "434    186   5896896                fallin (feat.Liss)   \n",
       "469    221  32338490                                xo   \n",
       "\n",
       "                                artist                      album Like_Count  \\\n",
       "225  Kings Of Convenience(킹스 오브 컨비니언스)  Declaration Of Dependence    [2,637]   \n",
       "228                  Daft Punk(다프트 펑크)                  Discovery    [6,928]   \n",
       "425                         vvav (웨이브)                 So In Love       [18]   \n",
       "434                                 죠지         fallin (feat.Liss)      [559]   \n",
       "469                            G. Nine                         xo       [23]   \n",
       "\n",
       "    Lyric                                          cover_url  \\\n",
       "225   NaN  https://image.bugsm.co.kr/album/images/200/201...   \n",
       "228   NaN  https://image.bugsm.co.kr/album/images/200/800...   \n",
       "425   NaN  https://image.bugsm.co.kr/album/images/200/204...   \n",
       "434   NaN  https://image.bugsm.co.kr/album/images/200/978...   \n",
       "469   NaN  https://image.bugsm.co.kr/album/images/200/204...   \n",
       "\n",
       "                                                 words  label  \n",
       "225  [\"She'll\", 'be', 'gone', 'soon', 'You', 'can',...      0  \n",
       "228  ['It', 'might', 'not', 'be', 'the', 'right', '...      0  \n",
       "425  ['I', \"don't\", 'know', 'where', 'to', 'start',...      1  \n",
       "434  [\"Don't\", 'know', 'what', \"I've\", 'been', 'thi...      1  \n",
       "469  ['Er', 'ya', 'this', \"song's\", 'for', 'ya', 'H...      1  "
      ]
     },
     "execution_count": 13,
     "metadata": {},
     "output_type": "execute_result"
    }
   ],
   "source": [
    "jsdf[jsdf['Lyric'].isnull()] # 가사가 영어로만 이루어져 있어서 NaN값인 노래들"
   ]
  },
  {
   "cell_type": "code",
   "execution_count": 14,
   "id": "c2804273",
   "metadata": {
    "ExecuteTime": {
     "end_time": "2021-11-19T16:50:23.893602Z",
     "start_time": "2021-11-19T16:50:23.869558Z"
    }
   },
   "outputs": [],
   "source": [
    "jsdf = jsdf.dropna(how = 'any')"
   ]
  },
  {
   "cell_type": "code",
   "execution_count": 15,
   "id": "ceca8c52",
   "metadata": {
    "ExecuteTime": {
     "end_time": "2021-11-19T16:50:24.617090Z",
     "start_time": "2021-11-19T16:50:24.606095Z"
    }
   },
   "outputs": [
    {
     "name": "stdout",
     "output_type": "stream",
     "text": [
      "516\n"
     ]
    }
   ],
   "source": [
    "print(len(jsdf))"
   ]
  },
  {
   "cell_type": "code",
   "execution_count": 16,
   "id": "9404298f",
   "metadata": {
    "ExecuteTime": {
     "end_time": "2021-11-19T16:50:25.299228Z",
     "start_time": "2021-11-19T16:50:25.285146Z"
    }
   },
   "outputs": [
    {
     "name": "stdout",
     "output_type": "stream",
     "text": [
      "전처리 후 데이터의 개수 : 516\n"
     ]
    }
   ],
   "source": [
    "print('전처리 후 데이터의 개수 :',len(jsdf))"
   ]
  },
  {
   "cell_type": "code",
   "execution_count": 17,
   "id": "08975e5c",
   "metadata": {
    "ExecuteTime": {
     "end_time": "2021-11-19T16:52:03.524863Z",
     "start_time": "2021-11-19T16:52:03.516866Z"
    }
   },
   "outputs": [],
   "source": [
    "# 불용어 (가사 빈도수 높은 + 감정분류와 무관한 단어 추가 중)\n",
    "stop_w = ['all','이렇게','네가','있는','니가','없는','너의','너무','그런',\n",
    "          'oh','whoo','tuesday','내가','너를','나를','we','this','the','그렇게',\n",
    "          'so','am','baby','and','can','you','much','me','for','go','in',\n",
    "          '은', '는', '이', '가', '하',\n",
    "          'know','no','of','let','my','사랑','수','너','내','나','그','난','봐','돼','건','모든',\n",
    "          '날','널','수','것','못','말','넌','젠','하나','정말','알','여기','우리','그대','다시',\n",
    "          '때','아','더','게','또','채','일','걸','누구','나는','너는','라면','같아','있어','지금',\n",
    "          '의','가','보','들','좀','잘','걍','과','도','를','으로','우린',\n",
    "          '자','에','와','한','하다','네','있다','나의','해','다','내게','왜','거야']"
   ]
  },
  {
   "cell_type": "code",
   "execution_count": 18,
   "id": "31ddfb56",
   "metadata": {
    "ExecuteTime": {
     "end_time": "2021-11-19T16:52:04.481648Z",
     "start_time": "2021-11-19T16:52:04.471582Z"
    }
   },
   "outputs": [],
   "source": [
    "# 불용어 단어 중복제거\n",
    "stop_w = set(stop_w)"
   ]
  },
  {
   "cell_type": "markdown",
   "id": "ee350c69",
   "metadata": {},
   "source": [
    "## 데이터 분리"
   ]
  },
  {
   "cell_type": "code",
   "execution_count": 22,
   "id": "2f02a51e",
   "metadata": {
    "ExecuteTime": {
     "end_time": "2021-11-19T17:00:53.774609Z",
     "start_time": "2021-11-19T17:00:53.760102Z"
    }
   },
   "outputs": [],
   "source": [
    "train_data, test_data = train_test_split(\n",
    "  jsdf,\n",
    "  test_size = 0.25,\n",
    "  random_state = 5\n",
    ")"
   ]
  },
  {
   "cell_type": "code",
   "execution_count": 23,
   "id": "cd6cccdc",
   "metadata": {
    "ExecuteTime": {
     "end_time": "2021-11-19T17:01:07.188715Z",
     "start_time": "2021-11-19T17:00:55.210696Z"
    }
   },
   "outputs": [
    {
     "name": "stderr",
     "output_type": "stream",
     "text": [
      "100%|████████████████████████████████████████████████████████████████████████████████| 387/387 [00:11<00:00, 32.37it/s]\n"
     ]
    }
   ],
   "source": [
    "# 학습 데이터\n",
    "X_train = []\n",
    "for sentence in tqdm(train_data['Lyric']):\n",
    "    tokenized_sentence = okt.morphs(sentence, stem=True) # 토큰화\n",
    "    stopwords_removed_sentence = [word for word in tokenized_sentence if not word in stop_w] # 불용어 제거\n",
    "    X_train.append(stopwords_removed_sentence)"
   ]
  },
  {
   "cell_type": "code",
   "execution_count": 24,
   "id": "8a8ca80e",
   "metadata": {
    "ExecuteTime": {
     "end_time": "2021-11-19T17:01:09.268571Z",
     "start_time": "2021-11-19T17:01:07.382664Z"
    }
   },
   "outputs": [
    {
     "name": "stderr",
     "output_type": "stream",
     "text": [
      "100%|████████████████████████████████████████████████████████████████████████████████| 129/129 [00:01<00:00, 68.78it/s]\n"
     ]
    }
   ],
   "source": [
    "# 테스트 데이터 \n",
    "X_test = []\n",
    "for sentence in tqdm(test_data['Lyric']):\n",
    "    tokenized_sentence = okt.morphs(sentence, stem=True) # 토큰화\n",
    "    stopwords_removed_sentence = [word for word in tokenized_sentence if not word in stop_w] # 불용어 제거\n",
    "    X_test.append(stopwords_removed_sentence)"
   ]
  },
  {
   "cell_type": "code",
   "execution_count": 66,
   "id": "8f34e5d0",
   "metadata": {
    "ExecuteTime": {
     "end_time": "2021-11-19T17:35:34.440925Z",
     "start_time": "2021-11-19T17:35:34.422927Z"
    }
   },
   "outputs": [
    {
     "data": {
      "text/plain": [
       "array([list(['이르다', '이상하다', '없다', '하루', '기다', '사람', '많이', '언제나', '내겐', '귀찮다', '이다', '을', '받다', '만', '익숙하다', '내다', '뭘', '달라지다', '조차', '궁금하다', '빠지다', '밖에', '모르다', '되다', '보다', '대다', '생각', '사람', '에게만', '그렇다', '보다', '아끼다', '두다', '맘', '을', '받다', '어제', '예요', '관심', '없다', '남자', '옷', '을', '고르다', '발견', '꼭', '배우다', '않다', '바꾸다', '그대만', '생각', '을', '받다', '익숙하다', '모두', '주다', '싶다', '에게만', '나오다', '같다', '빠지다', '밖에', '모르다', '되다', '보다', '대다', '생각', '사람', '에게만', '그렇다', '보다', '아끼다', '두다', '맘', '을', '받다', '이별', '이란', '없다', '에겐', '첫사랑', '인데', '혹시', '깨지다', '이제', '다시다', '을', '되다', '모르다', '그렇다', '되다', '보다', '대다', '생각', '그렇다', '에게만', '에게만', '이르다', '그렇다', '오', '아끼다', '두다', '맘', '을', '받다'])],\n",
       "      dtype=object)"
      ]
     },
     "execution_count": 66,
     "metadata": {},
     "output_type": "execute_result"
    }
   ],
   "source": [
    "X_train[:1]"
   ]
  },
  {
   "cell_type": "markdown",
   "id": "b1367a3c",
   "metadata": {},
   "source": [
    "## 정답 데이터 저장"
   ]
  },
  {
   "cell_type": "code",
   "execution_count": 25,
   "id": "36f00361",
   "metadata": {
    "ExecuteTime": {
     "end_time": "2021-11-19T17:01:09.428567Z",
     "start_time": "2021-11-19T17:01:09.414564Z"
    }
   },
   "outputs": [],
   "source": [
    "y_train = np.array(train_data['label'])\n",
    "y_test = np.array(test_data['label'])"
   ]
  },
  {
   "cell_type": "code",
   "execution_count": 50,
   "id": "33db0c77",
   "metadata": {
    "ExecuteTime": {
     "end_time": "2021-11-19T17:17:34.567706Z",
     "start_time": "2021-11-19T17:17:34.553708Z"
    },
    "scrolled": true
   },
   "outputs": [
    {
     "name": "stdout",
     "output_type": "stream",
     "text": [
      "[]\n"
     ]
    }
   ],
   "source": [
    "drop_train = [index for index, sentence in enumerate(X_train) if len(sentence) < 1]\n",
    "drop_test = [index for index, sentence in enumerate(X_test) if len(sentence) < 1]\n",
    "print(drop_train)"
   ]
  },
  {
   "cell_type": "code",
   "execution_count": 57,
   "id": "2ab62eeb",
   "metadata": {
    "ExecuteTime": {
     "end_time": "2021-11-19T17:21:07.072861Z",
     "start_time": "2021-11-19T17:21:07.055360Z"
    }
   },
   "outputs": [
    {
     "name": "stdout",
     "output_type": "stream",
     "text": [
      "387\n",
      "387\n",
      "129\n",
      "129\n",
      "129\n",
      "129\n"
     ]
    }
   ],
   "source": [
    "X_train = np.delete(X_train, drop_train, axis=0)\n",
    "y_train = np.delete(y_train, drop_train, axis=0)\n",
    "print(len(X_train))\n",
    "print(len(y_train))\n",
    "print(len(X_test))\n",
    "print(len(y_test))\n",
    "X_test = np.delete(X_test, drop_test, axis=0)\n",
    "y_test = np.delete(y_test, drop_test, axis=0)\n",
    "print(len(X_test))\n",
    "print(len(y_test))"
   ]
  },
  {
   "cell_type": "markdown",
   "id": "5f9397b2",
   "metadata": {},
   "source": [
    "## 정수 인코딩\n",
    "* 모델이 텍스트를 숫자로 처리할 수 있도록 훈련 데이터와 테스트 데이터에 정수 인코딩을 수행\n",
    "* 단어 집합이 생성되는 동시에 각 단어에 고유한 정수를 부여함\n",
    "* 각 정수는 전체 훈련 데이터에서 등장 빈도수가 높은 순서대로 부여되었기 때문에, <br>높은 정수가 부여된 단어들은 등장 빈도수가 매우 낮다는 것을 의미함"
   ]
  },
  {
   "cell_type": "markdown",
   "id": "3af8a1f4",
   "metadata": {},
   "source": [
    "## 빈도수 확인 (3회 미만)"
   ]
  },
  {
   "cell_type": "code",
   "execution_count": 67,
   "id": "1109b487",
   "metadata": {
    "ExecuteTime": {
     "end_time": "2021-11-19T17:35:54.389819Z",
     "start_time": "2021-11-19T17:35:54.371563Z"
    }
   },
   "outputs": [],
   "source": [
    "threshold = 3\n",
    "total_cnt = len(tokenizer.word_index) # 단어의 수\n",
    "rare_cnt = 0 # 등장 빈도수가 threshold보다 작은 단어의 개수를 카운트\n",
    "total_freq = 0 # 훈련 데이터의 전체 단어 빈도수 총 합\n",
    "rare_freq = 0 # 등장 빈도수가 threshold보다 작은 단어의 등장 빈도수의 총 합"
   ]
  },
  {
   "cell_type": "code",
   "execution_count": 68,
   "id": "8dd8be8b",
   "metadata": {
    "ExecuteTime": {
     "end_time": "2021-11-19T17:36:11.588500Z",
     "start_time": "2021-11-19T17:36:11.577917Z"
    }
   },
   "outputs": [
    {
     "name": "stdout",
     "output_type": "stream",
     "text": [
      "단어 집합(vocabulary)의 크기 : 3302\n",
      "등장 빈도가 2번 이하인 희귀 단어의 수: 1521\n",
      "단어 집합에서 희귀 단어의 비율: 46.06299212598425\n",
      "전체 등장 빈도에서 희귀 단어 등장 빈도 비율: 4.545037607778389\n"
     ]
    }
   ],
   "source": [
    "# 단어와 빈도수의 쌍(pair)을 key와 value로 받는다.\n",
    "for key, value in tokenizer.word_counts.items():\n",
    "    total_freq = total_freq + value\n",
    "\n",
    "    # 단어의 등장 빈도수가 threshold보다 작으면\n",
    "    if(value < threshold):\n",
    "        rare_cnt = rare_cnt + 1\n",
    "        rare_freq = rare_freq + value\n",
    "\n",
    "print('단어 집합(vocabulary)의 크기 :',total_cnt)\n",
    "print('등장 빈도가 %s번 이하인 희귀 단어의 수: %s'%(threshold - 1, rare_cnt))\n",
    "print(\"단어 집합에서 희귀 단어의 비율:\", (rare_cnt / total_cnt)*100)\n",
    "print(\"전체 등장 빈도에서 희귀 단어 등장 빈도 비율:\", (rare_freq / total_freq)*100)"
   ]
  },
  {
   "cell_type": "code",
   "execution_count": 69,
   "id": "17fb8516",
   "metadata": {
    "ExecuteTime": {
     "end_time": "2021-11-19T17:36:26.162141Z",
     "start_time": "2021-11-19T17:36:26.156719Z"
    }
   },
   "outputs": [
    {
     "name": "stdout",
     "output_type": "stream",
     "text": [
      "단어 집합의 크기 : 1782\n"
     ]
    }
   ],
   "source": [
    "# 전체 단어 개수 중 빈도수 2이하인 단어는 제거.\n",
    "# 0번 패딩 토큰을 고려하여 + 1\n",
    "vocab_size = total_cnt - rare_cnt + 1\n",
    "print('단어 집합의 크기 :',vocab_size)"
   ]
  },
  {
   "cell_type": "markdown",
   "id": "05b3c71d",
   "metadata": {},
   "source": [
    "단어 집합을 케라스 토크나이저의 인자로 넘겨주면, 케라스 토크나이저는 텍스트 시퀀스를 숫자 시퀀스로 변환"
   ]
  },
  {
   "cell_type": "code",
   "execution_count": 70,
   "id": "652551c4",
   "metadata": {
    "ExecuteTime": {
     "end_time": "2021-11-19T17:36:43.439103Z",
     "start_time": "2021-11-19T17:36:43.364585Z"
    }
   },
   "outputs": [],
   "source": [
    "tokenizer = Tokenizer(vocab_size) \n",
    "tokenizer.fit_on_texts(X_train)\n",
    "X_train = tokenizer.texts_to_sequences(X_train)\n",
    "X_test = tokenizer.texts_to_sequences(X_test)"
   ]
  },
  {
   "cell_type": "markdown",
   "id": "fc26de63",
   "metadata": {},
   "source": [
    "### 정수 인코딩 확인"
   ]
  },
  {
   "cell_type": "code",
   "execution_count": 73,
   "id": "e697688a",
   "metadata": {
    "ExecuteTime": {
     "end_time": "2021-11-19T17:37:32.753081Z",
     "start_time": "2021-11-19T17:37:32.745080Z"
    }
   },
   "outputs": [
    {
     "name": "stdout",
     "output_type": "stream",
     "text": [
      "[[388, 673, 2, 50, 184, 10, 95, 157, 171, 990, 59, 1, 116, 6, 515, 16, 477, 389, 345, 390, 354, 204, 14, 15, 3, 26, 24, 10, 355, 9, 3, 309, 117, 17, 1, 116, 375, 264, 1261, 2, 158, 570, 1, 724, 106, 893, 4, 820, 601, 24, 1, 116, 515, 96, 47, 7, 355, 185, 5, 354, 204, 14, 15, 3, 26, 24, 10, 355, 9, 3, 309, 117, 17, 1, 116, 78, 225, 2, 444, 894, 194, 241, 1262, 53, 288, 1, 15, 14, 9, 15, 3, 26, 24, 9, 355, 355, 388, 9, 107, 309, 117, 17, 1, 116]]\n"
     ]
    }
   ],
   "source": [
    "print(X_train[:1])"
   ]
  },
  {
   "cell_type": "markdown",
   "id": "eb29e83f",
   "metadata": {},
   "source": [
    "## 패딩"
   ]
  },
  {
   "cell_type": "code",
   "execution_count": 74,
   "id": "c4d3a2ce",
   "metadata": {
    "ExecuteTime": {
     "end_time": "2021-11-19T17:38:28.047880Z",
     "start_time": "2021-11-19T17:38:27.854881Z"
    }
   },
   "outputs": [
    {
     "name": "stdout",
     "output_type": "stream",
     "text": [
      "가사의 최대 길이 : 238\n",
      "가사의 평균 길이 : 107.56072351421189\n"
     ]
    },
    {
     "data": {
      "image/png": "[encoded data removed]",
      "text/plain": [
       "<Figure size 432x288 with 1 Axes>"
      ]
     },
     "metadata": {
      "needs_background": "light"
     },
     "output_type": "display_data"
    }
   ],
   "source": [
    "print('가사의 최대 길이 :',max(len(l) for l in X_train))\n",
    "print('가사의 평균 길이 :',sum(map(len, X_train))/len(X_train))\n",
    "plt.hist([len(s) for s in X_train], bins=50)\n",
    "plt.xlabel('length of samples')\n",
    "plt.ylabel('number of samples')\n",
    "plt.show()"
   ]
  },
  {
   "cell_type": "code",
   "execution_count": 45,
   "id": "2f3dae01",
   "metadata": {
    "ExecuteTime": {
     "end_time": "2021-11-19T17:16:16.821637Z",
     "start_time": "2021-11-19T17:16:16.814625Z"
    }
   },
   "outputs": [],
   "source": [
    "def below_threshold_len(max_len, nested_list):\n",
    "    cnt = 0\n",
    "    for s in nested_list:\n",
    "        if(len(s) <= max_len):\n",
    "            cnt = cnt + 1\n",
    "    print('전체 샘플 중 길이가 %s 이하인 샘플의 비율: %s'%(max_len, (cnt / len(nested_list))*100))"
   ]
  },
  {
   "cell_type": "code",
   "execution_count": 75,
   "id": "dbd8f101",
   "metadata": {
    "ExecuteTime": {
     "end_time": "2021-11-19T17:38:36.055475Z",
     "start_time": "2021-11-19T17:38:36.050478Z"
    }
   },
   "outputs": [
    {
     "name": "stdout",
     "output_type": "stream",
     "text": [
      "전체 샘플 중 길이가 170 이하인 샘플의 비율: 96.64082687338501\n"
     ]
    }
   ],
   "source": [
    "max_len = 170\n",
    "below_threshold_len(max_len, X_train)"
   ]
  },
  {
   "cell_type": "markdown",
   "id": "01f47ef2",
   "metadata": {},
   "source": [
    "## 모든 샘플의 길이를 max_len로 조정"
   ]
  },
  {
   "cell_type": "code",
   "execution_count": 76,
   "id": "04b9c044",
   "metadata": {
    "ExecuteTime": {
     "end_time": "2021-11-19T17:39:15.070261Z",
     "start_time": "2021-11-19T17:39:15.046941Z"
    }
   },
   "outputs": [],
   "source": [
    "X_train = pad_sequences(X_train, maxlen = max_len)\n",
    "X_test = pad_sequences(X_test, maxlen = max_len)"
   ]
  },
  {
   "cell_type": "markdown",
   "id": "f5169d46",
   "metadata": {},
   "source": [
    "---"
   ]
  },
  {
   "cell_type": "markdown",
   "id": "e4f1a865",
   "metadata": {},
   "source": [
    "## 모델 적용"
   ]
  },
  {
   "cell_type": "code",
   "execution_count": 94,
   "id": "d9a6e0a7",
   "metadata": {
    "ExecuteTime": {
     "end_time": "2021-11-19T17:53:13.796768Z",
     "start_time": "2021-11-19T17:53:13.777676Z"
    }
   },
   "outputs": [],
   "source": [
    "import numpy as np\n",
    "import matplotlib.pyplot as plt\n",
    "import pandas as pd\n",
    "from tensorflow.keras.layers import Dense, Flatten, Dropout, Conv2D, MaxPooling2D, LSTM, Embedding, Bidirectional\n",
    "from tensorflow.keras import Model\n",
    "from tensorflow.keras.models import Sequential\n",
    "from tensorflow.keras.models import load_model\n",
    "import tensorflow as tf\n",
    "from tensorflow.keras.callbacks import EarlyStopping, ModelCheckpoint"
   ]
  },
  {
   "cell_type": "code",
   "execution_count": 109,
   "id": "95a7867f",
   "metadata": {
    "ExecuteTime": {
     "end_time": "2021-11-19T18:10:00.831546Z",
     "start_time": "2021-11-19T18:10:00.819550Z"
    }
   },
   "outputs": [],
   "source": [
    "def sentiment_predict(new_sentence):\n",
    "  new_sentence = re.sub(r'[^ㄱ-ㅎㅏ-ㅣ가-힣 ]','', new_sentence)\n",
    "  new_sentence = okt.morphs(new_sentence, stem=True) # 토큰화\n",
    "  new_sentence = [word for word in new_sentence if not word in stop_w] # 불용어 제거\n",
    "  encoded = tokenizer.texts_to_sequences([new_sentence]) # 정수 인코딩\n",
    "  pad_new = pad_sequences(encoded, maxlen = max_len) # 패딩\n",
    "  score = float(model.predict(pad_new)) # 예측\n",
    "  if(score > 0.5):\n",
    "    print(\"{:.2f}% 확률로 긍정 가사입니다.\\n\".format(score * 100))\n",
    "  else:\n",
    "    print(\"{:.2f}% 확률로 부정 가사입니다.\\n\".format((1 - score) * 100))"
   ]
  },
  {
   "cell_type": "markdown",
   "id": "ac361da7",
   "metadata": {},
   "source": [
    "---"
   ]
  },
  {
   "cell_type": "markdown",
   "id": "d5545fdb",
   "metadata": {},
   "source": [
    "## Bidirectional(LSTM(N))\n",
    "양방향 many-to-one LSTM\n",
    "*  return_sequence=False (default) : 양방향 & many-to-one 유형\n",
    "* 양방향(Bidirection) 재귀 모델은 시간적으로 앞의 데이터만 가지고는 올바른 예측을 할 수 없다는 문제점을 해결하기 위하여,<br> 정방향뿐 아닌 역방향의 전파까지도 실행시키는 것을 의미함\n",
    "* LSTM에 return_sequence=True, Bidirectional이면서 TimeDistributed() 함수가 사용되면 양방향 many-to-many 유형\n",
    "\n",
    "> https://www.tensorflow.org/api_docs/python/tf/keras/layers/Bidirectional"
   ]
  },
  {
   "cell_type": "markdown",
   "id": "22323c51",
   "metadata": {},
   "source": [
    "## T1"
   ]
  },
  {
   "cell_type": "code",
   "execution_count": 85,
   "id": "4850052c",
   "metadata": {
    "ExecuteTime": {
     "end_time": "2021-11-19T17:48:31.888087Z",
     "start_time": "2021-11-19T17:48:27.359541Z"
    }
   },
   "outputs": [],
   "source": [
    "model = tf.keras.Sequential([\n",
    "    tf.keras.layers.Embedding(vocab_size, 100,\n",
    "        # Use masking to handle the variable sequence lengths\n",
    "                              mask_zero=True),\n",
    "    tf.keras.layers.Bidirectional(tf.keras.layers.LSTM(64)),\n",
    "    tf.keras.layers.Dense(64, activation='relu'),\n",
    "    tf.keras.layers.Dense(1)\n",
    "])"
   ]
  },
  {
   "cell_type": "markdown",
   "id": "4d09f7d2",
   "metadata": {},
   "source": [
    "## T2\n",
    "* model.compile(optimizer='rmsprop', loss='binary_crossentropy', metrics=['acc'])<br>\n",
    "*  loss: 0.0038 - acc: 0.9968 - val_loss: 1.4538 - val_acc: 0.8590<br>\n",
    "* 100s"
   ]
  },
  {
   "cell_type": "code",
   "execution_count": 148,
   "id": "5fe0dcea",
   "metadata": {
    "ExecuteTime": {
     "end_time": "2021-11-19T18:37:17.687917Z",
     "start_time": "2021-11-19T18:37:15.715544Z"
    }
   },
   "outputs": [],
   "source": [
    "model = Sequential()\n",
    "model.add(Embedding(vocab_size, 100, mask_zero=True))\n",
    "model.add(Bidirectional(LSTM(128)))\n",
    "model.add(Dense(64,activation=\"relu\"))\n",
    "# model.add(Dense(32,activation=\"relu\"))\n",
    "# model.add(Dense(16,activation=\"relu\"))\n",
    "model.add(Dense(1)) # , activation='sigmoid'"
   ]
  },
  {
   "cell_type": "code",
   "execution_count": 149,
   "id": "f695ec9a",
   "metadata": {
    "ExecuteTime": {
     "end_time": "2021-11-19T18:38:59.959551Z",
     "start_time": "2021-11-19T18:37:18.334052Z"
    }
   },
   "outputs": [
    {
     "name": "stdout",
     "output_type": "stream",
     "text": [
      "Epoch 1/15\n",
      "5/5 [==============================] - 16s 2s/step - loss: 1.8555 - acc: 0.4725 - val_loss: 1.1392 - val_acc: 0.5128\n",
      "\n",
      "Epoch 00001: val_acc did not improve from 0.85897\n",
      "Epoch 2/15\n",
      "5/5 [==============================] - 5s 1s/step - loss: 1.1143 - acc: 0.4725 - val_loss: 1.0063 - val_acc: 0.5128\n",
      "\n",
      "Epoch 00002: val_acc did not improve from 0.85897\n",
      "Epoch 3/15\n",
      "5/5 [==============================] - 7s 1s/step - loss: 0.9455 - acc: 0.4725 - val_loss: 0.8891 - val_acc: 0.5128\n",
      "\n",
      "Epoch 00003: val_acc did not improve from 0.85897\n",
      "Epoch 4/15\n",
      "5/5 [==============================] - 7s 1s/step - loss: 0.7929 - acc: 0.4725 - val_loss: 0.7806 - val_acc: 0.5128\n",
      "\n",
      "Epoch 00004: val_acc did not improve from 0.85897\n",
      "Epoch 5/15\n",
      "5/5 [==============================] - 6s 1s/step - loss: 0.6469 - acc: 0.4822 - val_loss: 0.6873 - val_acc: 0.5128\n",
      "\n",
      "Epoch 00005: val_acc did not improve from 0.85897\n",
      "Epoch 6/15\n",
      "5/5 [==============================] - 6s 1s/step - loss: 0.4941 - acc: 0.7994 - val_loss: 0.6310 - val_acc: 0.6410\n",
      "\n",
      "Epoch 00006: val_acc did not improve from 0.85897\n",
      "Epoch 7/15\n",
      "5/5 [==============================] - 5s 1s/step - loss: 0.4622 - acc: 0.8576 - val_loss: 0.6103 - val_acc: 0.5897\n",
      "\n",
      "Epoch 00007: val_acc did not improve from 0.85897\n",
      "Epoch 8/15\n",
      "5/5 [==============================] - 6s 1s/step - loss: 0.2988 - acc: 0.9612 - val_loss: 0.5548 - val_acc: 0.7949\n",
      "\n",
      "Epoch 00008: val_acc did not improve from 0.85897\n",
      "Epoch 9/15\n",
      "5/5 [==============================] - 6s 1s/step - loss: 0.2546 - acc: 0.9709 - val_loss: 0.5105 - val_acc: 0.7564\n",
      "\n",
      "Epoch 00009: val_acc did not improve from 0.85897\n",
      "Epoch 10/15\n",
      "5/5 [==============================] - 6s 1s/step - loss: 0.1105 - acc: 0.9838 - val_loss: 0.5034 - val_acc: 0.8205\n",
      "\n",
      "Epoch 00010: val_acc did not improve from 0.85897\n",
      "Epoch 11/15\n",
      "5/5 [==============================] - 6s 1s/step - loss: 0.0684 - acc: 0.9903 - val_loss: 0.4823 - val_acc: 0.7308\n",
      "\n",
      "Epoch 00011: val_acc did not improve from 0.85897\n",
      "Epoch 12/15\n",
      "5/5 [==============================] - 6s 1s/step - loss: 0.0396 - acc: 0.9968 - val_loss: 0.7765 - val_acc: 0.8462\n",
      "\n",
      "Epoch 00012: val_acc did not improve from 0.85897\n",
      "Epoch 13/15\n",
      "5/5 [==============================] - 6s 1s/step - loss: 0.0190 - acc: 0.9968 - val_loss: 1.1205 - val_acc: 0.8462\n",
      "\n",
      "Epoch 00013: val_acc did not improve from 0.85897\n",
      "Epoch 14/15\n",
      "5/5 [==============================] - 7s 1s/step - loss: 0.0067 - acc: 0.9968 - val_loss: 1.5943 - val_acc: 0.8462\n",
      "\n",
      "Epoch 00014: val_acc did not improve from 0.85897\n",
      "Epoch 15/15\n",
      "5/5 [==============================] - 7s 1s/step - loss: 0.0038 - acc: 0.9968 - val_loss: 1.4538 - val_acc: 0.8590\n",
      "\n",
      "Epoch 00015: val_acc did not improve from 0.85897\n",
      "Epoch 00015: early stopping\n"
     ]
    }
   ],
   "source": [
    "model.compile(optimizer='rmsprop', loss='binary_crossentropy', metrics=['acc'])\n",
    "history = model.fit(X_train, y_train, epochs=15, callbacks=[es, mc], batch_size=64, validation_split=0.2)"
   ]
  },
  {
   "cell_type": "code",
   "execution_count": 150,
   "id": "7c2c96f6",
   "metadata": {
    "ExecuteTime": {
     "end_time": "2021-11-19T18:40:22.003132Z",
     "start_time": "2021-11-19T18:40:18.151000Z"
    }
   },
   "outputs": [
    {
     "name": "stdout",
     "output_type": "stream",
     "text": [
      "84.74% 확률로 부정 가사입니다.\n",
      "\n"
     ]
    }
   ],
   "source": [
    "sentiment_predict('너를 만난 세상 슬픈 우연 속에서')"
   ]
  },
  {
   "cell_type": "markdown",
   "id": "af60b7f7",
   "metadata": {},
   "source": [
    "##### ?"
   ]
  },
  {
   "cell_type": "code",
   "execution_count": 151,
   "id": "0438a419",
   "metadata": {
    "ExecuteTime": {
     "end_time": "2021-11-19T18:40:22.290132Z",
     "start_time": "2021-11-19T18:40:22.183136Z"
    },
    "scrolled": true
   },
   "outputs": [
    {
     "name": "stdout",
     "output_type": "stream",
     "text": [
      "102.98% 확률로 부정 가사입니다.\n",
      "\n"
     ]
    }
   ],
   "source": [
    "sentiment_predict('눈물이 흘러 이별인걸 알았어. 힘없이 돌아서던 너의 뒷모습을 바라보며')"
   ]
  },
  {
   "cell_type": "code",
   "execution_count": 152,
   "id": "3aed2f91",
   "metadata": {
    "ExecuteTime": {
     "end_time": "2021-11-19T18:40:22.544676Z",
     "start_time": "2021-11-19T18:40:22.452135Z"
    }
   },
   "outputs": [
    {
     "name": "stdout",
     "output_type": "stream",
     "text": [
      "73.88% 확률로 부정 가사입니다.\n",
      "\n"
     ]
    }
   ],
   "source": [
    "sentiment_predict('나는 나는 행복에 묻힐 거에요')"
   ]
  },
  {
   "cell_type": "code",
   "execution_count": 153,
   "id": "2b54321a",
   "metadata": {
    "ExecuteTime": {
     "end_time": "2021-11-19T18:40:22.830673Z",
     "start_time": "2021-11-19T18:40:22.723680Z"
    }
   },
   "outputs": [
    {
     "name": "stdout",
     "output_type": "stream",
     "text": [
      "69.82% 확률로 긍정 가사입니다.\n",
      "\n"
     ]
    }
   ],
   "source": [
    "sentiment_predict('눈을 뜨기 힘든 가을 보다 높은 저 하늘이 기분 좋아')"
   ]
  },
  {
   "cell_type": "code",
   "execution_count": 154,
   "id": "f36342df",
   "metadata": {
    "ExecuteTime": {
     "end_time": "2021-11-19T18:40:23.052673Z",
     "start_time": "2021-11-19T18:40:22.959671Z"
    }
   },
   "outputs": [
    {
     "name": "stdout",
     "output_type": "stream",
     "text": [
      "57.16% 확률로 부정 가사입니다.\n",
      "\n"
     ]
    }
   ],
   "source": [
    "sentiment_predict('두 눈에 비친 너의 미소 지친 날 감싸듯 내 맘 비춰 소리없이 찾아와 ')"
   ]
  },
  {
   "cell_type": "code",
   "execution_count": 155,
   "id": "7e3abbc7",
   "metadata": {
    "ExecuteTime": {
     "end_time": "2021-11-19T18:40:23.276671Z",
     "start_time": "2021-11-19T18:40:23.187678Z"
    }
   },
   "outputs": [
    {
     "name": "stdout",
     "output_type": "stream",
     "text": [
      "99.43% 확률로 부정 가사입니다.\n",
      "\n"
     ]
    }
   ],
   "source": [
    "sentiment_predict('흔들리는 꽃들 속에서 네 샴푸향이 느껴진거야')"
   ]
  },
  {
   "cell_type": "markdown",
   "id": "39085c3c",
   "metadata": {},
   "source": [
    "## T3\n",
    "\n",
    "* model.compile(optimizer='rmsprop', loss='binary_crossentropy', metrics=['acc'])<br>\n",
    "* loss: 0.0881 - acc: 0.9773 - val_loss: 0.5600 - val_acc: 0.8205<br>\n",
    "* 70s"
   ]
  },
  {
   "cell_type": "code",
   "execution_count": 128,
   "id": "e06f1463",
   "metadata": {
    "ExecuteTime": {
     "end_time": "2021-11-19T18:17:47.140896Z",
     "start_time": "2021-11-19T18:17:44.356683Z"
    }
   },
   "outputs": [],
   "source": [
    "model = Sequential()\n",
    "model.add(Embedding(vocab_size, 200, mask_zero=True))\n",
    "model.add(Bidirectional(LSTM(128)))\n",
    "model.add(Dense(64,activation=\"relu\"))\n",
    "model.add(Dense(32,activation=\"relu\"))\n",
    "model.add(Dense(16,activation=\"relu\"))\n",
    "model.add(Dense(1,activation='sigmoid')) # , activation='sigmoid'"
   ]
  },
  {
   "cell_type": "code",
   "execution_count": 107,
   "id": "b2785ff5",
   "metadata": {
    "ExecuteTime": {
     "end_time": "2021-11-19T18:09:09.616882Z",
     "start_time": "2021-11-19T18:09:09.611675Z"
    }
   },
   "outputs": [],
   "source": [
    "es = EarlyStopping(monitor='val_loss', mode='min', verbose=1, patience=4)\n",
    "mc = ModelCheckpoint('best_model.h5', monitor='val_acc', mode='max', verbose=1, save_best_only=True)"
   ]
  },
  {
   "cell_type": "code",
   "execution_count": 129,
   "id": "dd66dc2a",
   "metadata": {
    "ExecuteTime": {
     "end_time": "2021-11-19T18:22:32.904816Z",
     "start_time": "2021-11-19T18:21:21.830579Z"
    }
   },
   "outputs": [
    {
     "name": "stdout",
     "output_type": "stream",
     "text": [
      "Epoch 1/15\n",
      "5/5 [==============================] - 33s 3s/step - loss: 0.6901 - acc: 0.5599 - val_loss: 0.6869 - val_acc: 0.5000\n",
      "\n",
      "Epoch 00001: val_acc did not improve from 0.83333\n",
      "Epoch 2/15\n",
      "5/5 [==============================] - 4s 812ms/step - loss: 0.7126 - acc: 0.6375 - val_loss: 0.6447 - val_acc: 0.7436\n",
      "\n",
      "Epoch 00002: val_acc did not improve from 0.83333\n",
      "Epoch 3/15\n",
      "5/5 [==============================] - 4s 832ms/step - loss: 0.5817 - acc: 0.9029 - val_loss: 1.4291 - val_acc: 0.6026\n",
      "\n",
      "Epoch 00003: val_acc did not improve from 0.83333\n",
      "Epoch 4/15\n",
      "5/5 [==============================] - 4s 781ms/step - loss: 0.6469 - acc: 0.7670 - val_loss: 0.5306 - val_acc: 0.7308\n",
      "\n",
      "Epoch 00004: val_acc did not improve from 0.83333\n",
      "Epoch 5/15\n",
      "5/5 [==============================] - 4s 842ms/step - loss: 0.3035 - acc: 0.8770 - val_loss: 0.5720 - val_acc: 0.7179\n",
      "\n",
      "Epoch 00005: val_acc did not improve from 0.83333\n",
      "Epoch 6/15\n",
      "5/5 [==============================] - 4s 886ms/step - loss: 0.2373 - acc: 0.9126 - val_loss: 0.3935 - val_acc: 0.8077\n",
      "\n",
      "Epoch 00006: val_acc did not improve from 0.83333\n",
      "Epoch 7/15\n",
      "5/5 [==============================] - 5s 887ms/step - loss: 0.1048 - acc: 0.9644 - val_loss: 0.4516 - val_acc: 0.7949\n",
      "\n",
      "Epoch 00007: val_acc did not improve from 0.83333\n",
      "Epoch 8/15\n",
      "5/5 [==============================] - 5s 871ms/step - loss: 0.0804 - acc: 0.9773 - val_loss: 0.5042 - val_acc: 0.8590\n",
      "\n",
      "Epoch 00008: val_acc improved from 0.83333 to 0.85897, saving model to best_model.h5\n",
      "Epoch 9/15\n",
      "5/5 [==============================] - 4s 880ms/step - loss: 0.0591 - acc: 0.9838 - val_loss: 0.9811 - val_acc: 0.7051\n",
      "\n",
      "Epoch 00009: val_acc did not improve from 0.85897\n",
      "Epoch 10/15\n",
      "5/5 [==============================] - 4s 834ms/step - loss: 0.0881 - acc: 0.9773 - val_loss: 0.5600 - val_acc: 0.8205\n",
      "\n",
      "Epoch 00010: val_acc did not improve from 0.85897\n",
      "Epoch 00010: early stopping\n"
     ]
    }
   ],
   "source": [
    "model.compile(optimizer='rmsprop', loss='binary_crossentropy', metrics=['acc'])\n",
    "history = model.fit(X_train, y_train, epochs=15, callbacks=[es, mc], batch_size=64, validation_split=0.2)"
   ]
  },
  {
   "cell_type": "code",
   "execution_count": 130,
   "id": "d1356f6c",
   "metadata": {
    "ExecuteTime": {
     "end_time": "2021-11-19T18:23:19.933122Z",
     "start_time": "2021-11-19T18:23:15.943409Z"
    }
   },
   "outputs": [
    {
     "name": "stdout",
     "output_type": "stream",
     "text": [
      "57.30% 확률로 부정 가사입니다.\n",
      "\n"
     ]
    }
   ],
   "source": [
    "sentiment_predict('너를 만난 세상 슬픈 우연 속에서')"
   ]
  },
  {
   "cell_type": "code",
   "execution_count": 131,
   "id": "d705cf33",
   "metadata": {
    "ExecuteTime": {
     "end_time": "2021-11-19T18:23:32.086971Z",
     "start_time": "2021-11-19T18:23:32.009780Z"
    }
   },
   "outputs": [
    {
     "name": "stdout",
     "output_type": "stream",
     "text": [
      "69.10% 확률로 부정 가사입니다.\n",
      "\n"
     ]
    }
   ],
   "source": [
    "sentiment_predict('눈물이 흘러 이별인걸 알았어. 힘없이 돌아서던 너의 뒷모습을 바라보며')"
   ]
  },
  {
   "cell_type": "code",
   "execution_count": 132,
   "id": "e58a08d6",
   "metadata": {
    "ExecuteTime": {
     "end_time": "2021-11-19T18:23:44.951655Z",
     "start_time": "2021-11-19T18:23:44.877018Z"
    }
   },
   "outputs": [
    {
     "name": "stdout",
     "output_type": "stream",
     "text": [
      "65.01% 확률로 긍정 가사입니다.\n",
      "\n"
     ]
    }
   ],
   "source": [
    "sentiment_predict('나는 나는 행복에 묻힐 거에요')"
   ]
  },
  {
   "cell_type": "code",
   "execution_count": 133,
   "id": "647d4a9f",
   "metadata": {
    "ExecuteTime": {
     "end_time": "2021-11-19T18:24:04.299782Z",
     "start_time": "2021-11-19T18:24:04.196781Z"
    }
   },
   "outputs": [
    {
     "name": "stdout",
     "output_type": "stream",
     "text": [
      "83.30% 확률로 긍정 가사입니다.\n",
      "\n"
     ]
    }
   ],
   "source": [
    "sentiment_predict('눈을 뜨기 힘든 가을 보다 높은 저 하늘이 기분 좋아')"
   ]
  },
  {
   "cell_type": "code",
   "execution_count": 135,
   "id": "8fb9ff14",
   "metadata": {
    "ExecuteTime": {
     "end_time": "2021-11-19T18:24:20.856900Z",
     "start_time": "2021-11-19T18:24:20.760829Z"
    }
   },
   "outputs": [
    {
     "name": "stdout",
     "output_type": "stream",
     "text": [
      "62.56% 확률로 긍정 가사입니다.\n",
      "\n"
     ]
    }
   ],
   "source": [
    "sentiment_predict('두 눈에 비친 너의 미소 지친 날 감싸듯 내 맘 비춰 소리없이 찾아와 ')"
   ]
  },
  {
   "cell_type": "code",
   "execution_count": 134,
   "id": "e7c9ae6a",
   "metadata": {
    "ExecuteTime": {
     "end_time": "2021-11-19T18:24:11.340639Z",
     "start_time": "2021-11-19T18:24:11.251323Z"
    }
   },
   "outputs": [
    {
     "name": "stdout",
     "output_type": "stream",
     "text": [
      "54.33% 확률로 부정 가사입니다.\n",
      "\n"
     ]
    }
   ],
   "source": [
    "sentiment_predict('흔들리는 꽃들 속에서 네 샴푸향이 느껴진거야')"
   ]
  },
  {
   "cell_type": "markdown",
   "id": "515330c5",
   "metadata": {},
   "source": [
    "## T4\n",
    "* model.compile(optimizer='adam', loss='binary_crossentropy', metrics=['acc'])<br>\n",
    "* loss: 0.0169 - acc: 0.9968 - val_loss: 1.2655 - val_acc: 0.7692<br>\n",
    "* 90s"
   ]
  },
  {
   "cell_type": "code",
   "execution_count": 137,
   "id": "98ffbef8",
   "metadata": {
    "ExecuteTime": {
     "end_time": "2021-11-19T18:27:37.791975Z",
     "start_time": "2021-11-19T18:27:35.960259Z"
    }
   },
   "outputs": [],
   "source": [
    "model = Sequential()\n",
    "model.add(Embedding(vocab_size, 200, mask_zero=True))\n",
    "model.add(Bidirectional(LSTM(128)))\n",
    "model.add(Dense(64,activation=\"relu\"))\n",
    "model.add(Dense(32,activation=\"relu\"))\n",
    "model.add(Dense(16,activation=\"relu\"))\n",
    "model.add(Dense(1,activation='sigmoid')) # , activation='sigmoid'"
   ]
  },
  {
   "cell_type": "code",
   "execution_count": 138,
   "id": "bc1cbc06",
   "metadata": {
    "ExecuteTime": {
     "end_time": "2021-11-19T18:29:14.047308Z",
     "start_time": "2021-11-19T18:27:39.136387Z"
    }
   },
   "outputs": [
    {
     "name": "stdout",
     "output_type": "stream",
     "text": [
      "Epoch 1/15\n",
      "5/5 [==============================] - 20s 3s/step - loss: 0.6931 - acc: 0.4790 - val_loss: 0.6931 - val_acc: 0.4615\n",
      "\n",
      "Epoch 00001: val_acc did not improve from 0.85897\n",
      "Epoch 2/15\n",
      "5/5 [==============================] - 6s 1s/step - loss: 0.6840 - acc: 0.8155 - val_loss: 0.6857 - val_acc: 0.6410\n",
      "\n",
      "Epoch 00002: val_acc did not improve from 0.85897\n",
      "Epoch 3/15\n",
      "5/5 [==============================] - 6s 1s/step - loss: 0.6541 - acc: 0.8738 - val_loss: 0.6573 - val_acc: 0.6923\n",
      "\n",
      "Epoch 00003: val_acc did not improve from 0.85897\n",
      "Epoch 4/15\n",
      "5/5 [==============================] - 6s 1s/step - loss: 0.5430 - acc: 0.8414 - val_loss: 0.5456 - val_acc: 0.7436\n",
      "\n",
      "Epoch 00004: val_acc did not improve from 0.85897\n",
      "Epoch 5/15\n",
      "5/5 [==============================] - 7s 1s/step - loss: 0.3951 - acc: 0.9320 - val_loss: 0.5791 - val_acc: 0.7051\n",
      "\n",
      "Epoch 00005: val_acc did not improve from 0.85897\n",
      "Epoch 6/15\n",
      "5/5 [==============================] - 6s 1s/step - loss: 0.3427 - acc: 0.8738 - val_loss: 0.3897 - val_acc: 0.8333\n",
      "\n",
      "Epoch 00006: val_acc did not improve from 0.85897\n",
      "Epoch 7/15\n",
      "5/5 [==============================] - 6s 1s/step - loss: 0.2218 - acc: 0.9223 - val_loss: 0.5558 - val_acc: 0.6923\n",
      "\n",
      "Epoch 00007: val_acc did not improve from 0.85897\n",
      "Epoch 8/15\n",
      "5/5 [==============================] - 9s 2s/step - loss: 0.1632 - acc: 0.9579 - val_loss: 0.3806 - val_acc: 0.8205\n",
      "\n",
      "Epoch 00008: val_acc did not improve from 0.85897\n",
      "Epoch 9/15\n",
      "5/5 [==============================] - 6s 1s/step - loss: 0.0803 - acc: 0.9838 - val_loss: 0.6495 - val_acc: 0.7821\n",
      "\n",
      "Epoch 00009: val_acc did not improve from 0.85897\n",
      "Epoch 10/15\n",
      "5/5 [==============================] - 7s 1s/step - loss: 0.0196 - acc: 0.9968 - val_loss: 0.9883 - val_acc: 0.7821\n",
      "\n",
      "Epoch 00010: val_acc did not improve from 0.85897\n",
      "Epoch 11/15\n",
      "5/5 [==============================] - 7s 1s/step - loss: 0.0214 - acc: 0.9968 - val_loss: 1.0737 - val_acc: 0.7949\n",
      "\n",
      "Epoch 00011: val_acc did not improve from 0.85897\n",
      "Epoch 12/15\n",
      "5/5 [==============================] - 8s 2s/step - loss: 0.0169 - acc: 0.9968 - val_loss: 1.2655 - val_acc: 0.7692\n",
      "\n",
      "Epoch 00012: val_acc did not improve from 0.85897\n",
      "Epoch 00012: early stopping\n"
     ]
    }
   ],
   "source": [
    "model.compile(optimizer='adam', loss='binary_crossentropy', metrics=['acc'])\n",
    "history = model.fit(X_train, y_train, epochs=15, callbacks=[es, mc], batch_size=64, validation_split=0.2)"
   ]
  },
  {
   "cell_type": "code",
   "execution_count": 139,
   "id": "c05f0b69",
   "metadata": {
    "ExecuteTime": {
     "end_time": "2021-11-19T18:31:00.319123Z",
     "start_time": "2021-11-19T18:30:56.595605Z"
    }
   },
   "outputs": [
    {
     "name": "stdout",
     "output_type": "stream",
     "text": [
      "71.06% 확률로 부정 가사입니다.\n",
      "\n"
     ]
    }
   ],
   "source": [
    "sentiment_predict('너를 만난 세상 슬픈 우연 속에서')"
   ]
  },
  {
   "cell_type": "code",
   "execution_count": 140,
   "id": "565fe485",
   "metadata": {
    "ExecuteTime": {
     "end_time": "2021-11-19T18:31:06.114002Z",
     "start_time": "2021-11-19T18:31:06.021772Z"
    }
   },
   "outputs": [
    {
     "name": "stdout",
     "output_type": "stream",
     "text": [
      "98.30% 확률로 부정 가사입니다.\n",
      "\n"
     ]
    }
   ],
   "source": [
    "sentiment_predict('눈물이 흘러 이별인걸 알았어. 힘없이 돌아서던 너의 뒷모습을 바라보며')"
   ]
  },
  {
   "cell_type": "code",
   "execution_count": 141,
   "id": "eccd19e5",
   "metadata": {
    "ExecuteTime": {
     "end_time": "2021-11-19T18:31:16.257850Z",
     "start_time": "2021-11-19T18:31:16.173874Z"
    }
   },
   "outputs": [
    {
     "name": "stdout",
     "output_type": "stream",
     "text": [
      "62.60% 확률로 긍정 가사입니다.\n",
      "\n"
     ]
    }
   ],
   "source": [
    "sentiment_predict('나는 나는 행복에 묻힐 거에요')"
   ]
  },
  {
   "cell_type": "code",
   "execution_count": 142,
   "id": "bc7ebf5a",
   "metadata": {
    "ExecuteTime": {
     "end_time": "2021-11-19T18:31:23.681108Z",
     "start_time": "2021-11-19T18:31:23.601631Z"
    }
   },
   "outputs": [
    {
     "name": "stdout",
     "output_type": "stream",
     "text": [
      "85.04% 확률로 긍정 가사입니다.\n",
      "\n"
     ]
    }
   ],
   "source": [
    "sentiment_predict('눈을 뜨기 힘든 가을 보다 높은 저 하늘이 기분 좋아')"
   ]
  },
  {
   "cell_type": "code",
   "execution_count": 143,
   "id": "36a1cdba",
   "metadata": {
    "ExecuteTime": {
     "end_time": "2021-11-19T18:31:34.589805Z",
     "start_time": "2021-11-19T18:31:34.506692Z"
    }
   },
   "outputs": [
    {
     "name": "stdout",
     "output_type": "stream",
     "text": [
      "68.58% 확률로 긍정 가사입니다.\n",
      "\n"
     ]
    }
   ],
   "source": [
    "sentiment_predict('두 눈에 비친 너의 미소 지친 날 감싸듯 내 맘 비춰 소리없이 찾아와')"
   ]
  },
  {
   "cell_type": "code",
   "execution_count": 146,
   "id": "eb1f97d7",
   "metadata": {
    "ExecuteTime": {
     "end_time": "2021-11-19T18:32:00.808704Z",
     "start_time": "2021-11-19T18:32:00.723717Z"
    }
   },
   "outputs": [
    {
     "name": "stdout",
     "output_type": "stream",
     "text": [
      "63.77% 확률로 부정 가사입니다.\n",
      "\n"
     ]
    }
   ],
   "source": [
    "sentiment_predict('흔들리는 꽃들 속에서 네 샴푸향이 느껴진거야')"
   ]
  },
  {
   "cell_type": "markdown",
   "id": "5aa3bbf1",
   "metadata": {},
   "source": [
    "## T5\n",
    "* model.add(Embedding(vocab_size, 300, mask_zero=True))\n",
    "* model.compile(optimizer='adam', loss='binary_crossentropy', metrics=['acc'])\n",
    "* loss: 0.0146 - acc: 0.9968 - val_loss: 0.4949 - val_acc: 0.8462\n",
    "* 113s"
   ]
  },
  {
   "cell_type": "code",
   "execution_count": 156,
   "id": "569e814d",
   "metadata": {
    "ExecuteTime": {
     "end_time": "2021-11-19T18:41:41.793939Z",
     "start_time": "2021-11-19T18:41:39.219792Z"
    }
   },
   "outputs": [],
   "source": [
    "model = Sequential()\n",
    "model.add(Embedding(vocab_size, 300, mask_zero=True))\n",
    "model.add(Bidirectional(LSTM(128)))\n",
    "model.add(Dense(64,activation=\"relu\"))\n",
    "model.add(Dense(32,activation=\"relu\"))\n",
    "model.add(Dense(16,activation=\"relu\"))\n",
    "model.add(Dense(1,activation='sigmoid')) # , activation='sigmoid'"
   ]
  },
  {
   "cell_type": "code",
   "execution_count": 158,
   "id": "35e16a89",
   "metadata": {
    "ExecuteTime": {
     "end_time": "2021-11-19T18:53:40.895112Z",
     "start_time": "2021-11-19T18:51:47.124599Z"
    }
   },
   "outputs": [
    {
     "name": "stdout",
     "output_type": "stream",
     "text": [
      "Epoch 1/15\n",
      "5/5 [==============================] - 21s 3s/step - loss: 0.6922 - acc: 0.4951 - val_loss: 0.6926 - val_acc: 0.4872\n",
      "\n",
      "Epoch 00001: val_acc did not improve from 0.85897\n",
      "Epoch 2/15\n",
      "5/5 [==============================] - 11s 2s/step - loss: 0.6785 - acc: 0.6149 - val_loss: 0.6856 - val_acc: 0.4872\n",
      "\n",
      "Epoch 00002: val_acc did not improve from 0.85897\n",
      "Epoch 3/15\n",
      "5/5 [==============================] - 12s 2s/step - loss: 0.6304 - acc: 0.8220 - val_loss: 0.6433 - val_acc: 0.6282\n",
      "\n",
      "Epoch 00003: val_acc did not improve from 0.85897\n",
      "Epoch 4/15\n",
      "5/5 [==============================] - 11s 2s/step - loss: 0.4568 - acc: 0.8900 - val_loss: 0.4397 - val_acc: 0.8590\n",
      "\n",
      "Epoch 00004: val_acc did not improve from 0.85897\n",
      "Epoch 5/15\n",
      "5/5 [==============================] - 11s 2s/step - loss: 0.4282 - acc: 0.8706 - val_loss: 0.3564 - val_acc: 0.8333\n",
      "\n",
      "Epoch 00005: val_acc did not improve from 0.85897\n",
      "Epoch 6/15\n",
      "5/5 [==============================] - 11s 2s/step - loss: 0.1714 - acc: 0.9450 - val_loss: 0.4226 - val_acc: 0.8333\n",
      "\n",
      "Epoch 00006: val_acc did not improve from 0.85897\n",
      "Epoch 7/15\n",
      "5/5 [==============================] - 12s 2s/step - loss: 0.1139 - acc: 0.9741 - val_loss: 0.5613 - val_acc: 0.7436\n",
      "\n",
      "Epoch 00007: val_acc did not improve from 0.85897\n",
      "Epoch 8/15\n",
      "5/5 [==============================] - 12s 2s/step - loss: 0.0363 - acc: 0.9968 - val_loss: 0.3968 - val_acc: 0.8205\n",
      "\n",
      "Epoch 00008: val_acc did not improve from 0.85897\n",
      "Epoch 9/15\n",
      "5/5 [==============================] - 13s 3s/step - loss: 0.0146 - acc: 0.9968 - val_loss: 0.4949 - val_acc: 0.8462\n",
      "\n",
      "Epoch 00009: val_acc did not improve from 0.85897\n",
      "Epoch 00009: early stopping\n"
     ]
    }
   ],
   "source": [
    "model.compile(optimizer='adam', loss='binary_crossentropy', metrics=['acc'])\n",
    "history = model.fit(X_train, y_train, epochs=15, callbacks=[es, mc], batch_size=64, validation_split=0.2)"
   ]
  },
  {
   "cell_type": "code",
   "execution_count": 159,
   "id": "a2d4a036",
   "metadata": {
    "ExecuteTime": {
     "end_time": "2021-11-19T18:54:15.343009Z",
     "start_time": "2021-11-19T18:54:12.796930Z"
    }
   },
   "outputs": [
    {
     "name": "stdout",
     "output_type": "stream",
     "text": [
      "80.98% 확률로 부정 가사입니다.\n",
      "\n"
     ]
    }
   ],
   "source": [
    "sentiment_predict('너를 만난 세상 슬픈 우연 속에서')"
   ]
  },
  {
   "cell_type": "code",
   "execution_count": 160,
   "id": "887891ed",
   "metadata": {
    "ExecuteTime": {
     "end_time": "2021-11-19T18:54:19.772270Z",
     "start_time": "2021-11-19T18:54:19.705913Z"
    }
   },
   "outputs": [
    {
     "name": "stdout",
     "output_type": "stream",
     "text": [
      "98.82% 확률로 부정 가사입니다.\n",
      "\n"
     ]
    }
   ],
   "source": [
    "sentiment_predict('눈물이 흘러 이별인걸 알았어. 힘없이 돌아서던 너의 뒷모습을 바라보며')"
   ]
  },
  {
   "cell_type": "code",
   "execution_count": 161,
   "id": "c1401f1f",
   "metadata": {
    "ExecuteTime": {
     "end_time": "2021-11-19T18:54:27.849437Z",
     "start_time": "2021-11-19T18:54:27.777438Z"
    }
   },
   "outputs": [
    {
     "name": "stdout",
     "output_type": "stream",
     "text": [
      "66.13% 확률로 긍정 가사입니다.\n",
      "\n"
     ]
    }
   ],
   "source": [
    "sentiment_predict('나는 나는 행복에 묻힐 거에요')"
   ]
  },
  {
   "cell_type": "code",
   "execution_count": 162,
   "id": "28880c11",
   "metadata": {
    "ExecuteTime": {
     "end_time": "2021-11-19T18:54:35.772089Z",
     "start_time": "2021-11-19T18:54:35.686753Z"
    }
   },
   "outputs": [
    {
     "name": "stdout",
     "output_type": "stream",
     "text": [
      "89.89% 확률로 긍정 가사입니다.\n",
      "\n"
     ]
    }
   ],
   "source": [
    "sentiment_predict('눈을 뜨기 힘든 가을 보다 높은 저 하늘이 기분 좋아')"
   ]
  },
  {
   "cell_type": "code",
   "execution_count": 163,
   "id": "86e3bb54",
   "metadata": {
    "ExecuteTime": {
     "end_time": "2021-11-19T18:54:41.787159Z",
     "start_time": "2021-11-19T18:54:41.712941Z"
    }
   },
   "outputs": [
    {
     "name": "stdout",
     "output_type": "stream",
     "text": [
      "68.09% 확률로 긍정 가사입니다.\n",
      "\n"
     ]
    }
   ],
   "source": [
    "sentiment_predict('두 눈에 비친 너의 미소 지친 날 감싸듯 내 맘 비춰 소리없이 찾아와')"
   ]
  },
  {
   "cell_type": "code",
   "execution_count": 170,
   "id": "bb80989f",
   "metadata": {
    "ExecuteTime": {
     "end_time": "2021-11-19T18:56:48.527580Z",
     "start_time": "2021-11-19T18:56:48.444291Z"
    }
   },
   "outputs": [
    {
     "name": "stdout",
     "output_type": "stream",
     "text": [
      "73.98% 확률로 긍정 가사입니다.\n",
      "\n"
     ]
    }
   ],
   "source": [
    "sentiment_predict('넌 그대로가 사랑이니까 이대로가 좋다 했지')"
   ]
  },
  {
   "cell_type": "code",
   "execution_count": 171,
   "id": "89d34e9c",
   "metadata": {
    "ExecuteTime": {
     "end_time": "2021-11-19T18:57:37.360953Z",
     "start_time": "2021-11-19T18:57:37.282843Z"
    }
   },
   "outputs": [
    {
     "name": "stdout",
     "output_type": "stream",
     "text": [
      "82.29% 확률로 긍정 가사입니다.\n",
      "\n"
     ]
    }
   ],
   "source": [
    "sentiment_predict('손을잡아 너와 함께 난 언제라도 따듯한 폭닥한 이불 널 보면 생각나')"
   ]
  },
  {
   "cell_type": "code",
   "execution_count": 173,
   "id": "b7025af8",
   "metadata": {
    "ExecuteTime": {
     "end_time": "2021-11-19T19:27:14.873410Z",
     "start_time": "2021-11-19T19:27:14.490252Z"
    }
   },
   "outputs": [
    {
     "data": {
      "image/png": "[encoded data removed]",
      "text/plain": [
       "<Figure size 432x288 with 1 Axes>"
      ]
     },
     "metadata": {
      "needs_background": "light"
     },
     "output_type": "display_data"
    },
    {
     "data": {
      "image/png": "[encoded data removed]",
      "text/plain": [
       "<Figure size 432x288 with 1 Axes>"
      ]
     },
     "metadata": {
      "needs_background": "light"
     },
     "output_type": "display_data"
    }
   ],
   "source": [
    "#  \"Accuracy\"\n",
    "plt.plot(history.history['acc'])\n",
    "plt.plot(history.history['val_acc'])\n",
    "plt.title('model accuracy')\n",
    "plt.ylabel('accuracy')\n",
    "plt.xlabel('epoch')\n",
    "plt.legend(['train', 'validation'], loc='upper left')\n",
    "plt.show()\n",
    "\n",
    "# \"Loss\"\n",
    "plt.plot(history.history['loss'])\n",
    "plt.plot(history.history['val_loss'])\n",
    "plt.title('model loss')\n",
    "plt.ylabel('loss')\n",
    "plt.xlabel('epoch')\n",
    "plt.legend(['train', 'validation'], loc='upper left')\n",
    "plt.show()"
   ]
  },
  {
   "cell_type": "markdown",
   "id": "254a4dc7",
   "metadata": {},
   "source": [
    "## 모델 저장"
   ]
  },
  {
   "cell_type": "code",
   "execution_count": 184,
   "id": "0eb14d21",
   "metadata": {
    "ExecuteTime": {
     "end_time": "2021-11-19T19:33:28.351469Z",
     "start_time": "2021-11-19T19:33:28.269336Z"
    }
   },
   "outputs": [],
   "source": [
    "# creates a HDF5 file 'my_model.h5'\n",
    "model.save('models/biLSTM_w2v.h5')"
   ]
  },
  {
   "cell_type": "code",
   "execution_count": 185,
   "id": "02d52cea",
   "metadata": {
    "ExecuteTime": {
     "end_time": "2021-11-19T19:33:44.177075Z",
     "start_time": "2021-11-19T19:33:41.238137Z"
    }
   },
   "outputs": [],
   "source": [
    "from keras.models import load_model\n",
    "predictor = load_model('models/biLSTM_w2v.h5')"
   ]
  },
  {
   "cell_type": "markdown",
   "id": "e7db5400",
   "metadata": {},
   "source": [
    "---"
   ]
  },
  {
   "cell_type": "code",
   "execution_count": null,
   "id": "3bc23c2c",
   "metadata": {},
   "outputs": [],
   "source": []
  }
 ],
 "metadata": {
  "hide_input": false,
  "kernelspec": {
   "display_name": "Python 3",
   "language": "python",
   "name": "python3"
  },
  "language_info": {
   "codemirror_mode": {
    "name": "ipython",
    "version": 3
   },
   "file_extension": ".py",
   "mimetype": "text/x-python",
   "name": "python",
   "nbconvert_exporter": "python",
   "pygments_lexer": "ipython3",
   "version": "3.8.8"
  },
  "toc": {
   "base_numbering": 1,
   "nav_menu": {},
   "number_sections": true,
   "sideBar": true,
   "skip_h1_title": false,
   "title_cell": "Table of Contents",
   "title_sidebar": "Contents",
   "toc_cell": false,
   "toc_position": {},
   "toc_section_display": true,
   "toc_window_display": false
  },
  "varInspector": {
   "cols": {
    "lenName": 16,
    "lenType": 16,
    "lenVar": 40
   },
   "kernels_config": {
    "python": {
     "delete_cmd_postfix": "",
     "delete_cmd_prefix": "del ",
     "library": "var_list.py",
     "varRefreshCmd": "print(var_dic_list())"
    },
    "r": {
     "delete_cmd_postfix": ") ",
     "delete_cmd_prefix": "rm(",
     "library": "var_list.r",
     "varRefreshCmd": "cat(var_dic_list()) "
    }
   },
   "types_to_exclude": [
    "module",
    "function",
    "builtin_function_or_method",
    "instance",
    "_Feature"
   ],
   "window_display": false
  }
 },
 "nbformat": 4,
 "nbformat_minor": 5
}
